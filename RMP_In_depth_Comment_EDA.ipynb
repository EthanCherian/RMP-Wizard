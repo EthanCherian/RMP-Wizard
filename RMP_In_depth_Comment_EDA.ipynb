{
  "nbformat": 4,
  "nbformat_minor": 0,
  "metadata": {
    "colab": {
      "name": "RMP In-depth Comment EDA",
      "provenance": [],
      "toc_visible": true
    },
    "kernelspec": {
      "name": "python3",
      "display_name": "Python 3"
    },
    "language_info": {
      "name": "python"
    }
  },
  "cells": [
    {
      "cell_type": "code",
      "execution_count": 122,
      "metadata": {
        "id": "Y1Jqo4-SVyb1"
      },
      "outputs": [],
      "source": [
        "import pandas as pd\n",
        "import numpy as np\n",
        "import re\n",
        "import spacy\n",
        "import pkg_resources\n",
        "from spacy.lang.en.stop_words import STOP_WORDS\n",
        "from collections import Counter, defaultdict\n",
        "\n",
        "import nltk\n",
        "from nltk.stem import WordNetLemmatizer\n",
        "from nltk.corpus import words, wordnet, brown"
      ]
    },
    {
      "cell_type": "code",
      "source": [
        "from google.colab import drive\n",
        "drive.mount('/content/drive')"
      ],
      "metadata": {
        "colab": {
          "base_uri": "https://localhost:8080/"
        },
        "id": "PvbiiuknWUS5",
        "outputId": "a8e7b5df-d080-46ad-9be0-9367d51adc28"
      },
      "execution_count": 2,
      "outputs": [
        {
          "output_type": "stream",
          "name": "stdout",
          "text": [
            "Drive already mounted at /content/drive; to attempt to forcibly remount, call drive.mount(\"/content/drive\", force_remount=True).\n"
          ]
        }
      ]
    },
    {
      "cell_type": "code",
      "source": [
        "reviews = pd.read_csv(\"/content/drive/MyDrive/RMP/scraped_comments_with_professor.csv\").sample(n=220000, random_state=1)\n",
        "# reviews[['comment_id', 'firstName', 'lastName', 'prof_class', 'comment', 'clarityRating', 'helpfulRating']].to_csv(\"/content/drive/MyDrive/RMP/scraped_comments_sample.csv\")"
      ],
      "metadata": {
        "id": "HRhQqASSWV_a"
      },
      "execution_count": 3,
      "outputs": []
    },
    {
      "cell_type": "markdown",
      "metadata": {
        "id": "tGS9yvAMag7H"
      },
      "source": [
        "# Helper Functions/Comment ____"
      ]
    },
    {
      "cell_type": "code",
      "execution_count": 4,
      "metadata": {
        "id": "CLUgn5sbZ_1g",
        "cellView": "form",
        "colab": {
          "base_uri": "https://localhost:8080/"
        },
        "outputId": "fffdbe96-e1dd-432d-895c-7daf50f325de"
      },
      "outputs": [
        {
          "output_type": "stream",
          "name": "stdout",
          "text": [
            "Shape before dropping: (500000, 17)\n",
            "Shape after dropping: (462284, 19)\n"
          ]
        }
      ],
      "source": [
        "#@title Dropping nulls\n",
        "print(\"Shape before dropping:\", reviews.shape)\n",
        "reviews.drop_duplicates(subset=\"comment_id\", keep=\"first\", inplace=True)\n",
        "\n",
        "# drop rows containing only \"No Comments\" (default value assigned by RMP to a review that didn't enter a comment)\n",
        "reviews = reviews[reviews[\"comment\"] != \"No Comments\"]\n",
        "\n",
        "# drop rows containing NaN comment\n",
        "reviews.dropna(subset=[\"comment\"], inplace=True)\n",
        "\n",
        "# fill null names with empty string\n",
        "reviews['firstName'].fillna('', inplace=True)\n",
        "reviews['lastName'].fillna('', inplace=True)\n",
        "\n",
        "# Dropping qualityRating == 3.0\n",
        "reviews['qualityRating'] = (reviews['helpfulRating']+reviews['clarityRating'])/2.0\n",
        "reviews = reviews[reviews[\"qualityRating\"] != 3.0]\n",
        "reviews[\"sentiment\"] = reviews[\"qualityRating\"] > 3.0\n",
        "\n",
        "print(\"Shape after dropping:\", reviews.shape)\n",
        "reviews.reset_index(drop=True, inplace=True)"
      ]
    },
    {
      "cell_type": "code",
      "source": [
        "review_names = reviews.dropna(subset=[\"firstName\", \"lastName\", \"comment\", \"prof_class\"]).loc[:,['firstName', 'lastName', 'comment', 'prof_class']]"
      ],
      "metadata": {
        "id": "YjtWsuUnXam7"
      },
      "execution_count": 5,
      "outputs": []
    },
    {
      "cell_type": "code",
      "source": [
        "#@title Emoticon Mapping\n",
        "EMOTICONS = {\n",
        "    u\"<3\": \"emopos\",\n",
        "    u\":‑)\":\"emopos\",\n",
        "    u\":-))\":\"emopos\",\n",
        "    u\":-)))\":\"emopos\",\n",
        "    u\":)\":\"emopos\",\n",
        "    u\":))\":\"emopos\",\n",
        "    u\":)))\":\"emopos\",\n",
        "    u\":-]\":\"emopos\",\n",
        "    u\":]\":\"emopos\",\n",
        "    u\":-3\":\"emopos\",\n",
        "    u\":3\":\"emopos\",\n",
        "    u\":->\":\"emopos\",\n",
        "    u\":>\":\"emopos\",\n",
        "    u\"8-)\":\"emopos\",\n",
        "    u\":-}\":\"emopos\",\n",
        "    u\":}\":\"emopos\",\n",
        "    u\":-)\":\"emopos\",\n",
        "    u\":c)\":\"emopos\",\n",
        "    u\":^)\":\"emopos\",\n",
        "    u\"=]\":\"emopos\",\n",
        "    u\"=)\":\"emopos\",\n",
        "    u\":‑D\":\"emopos\",\n",
        "    u\":D\":\"emopos\",\n",
        "    u\"8‑D\":\"emopos\",\n",
        "    u\"8D\":\"emopos\",\n",
        "    u\"X‑D\":\"emopos\",\n",
        "    u\"XD\":\"emopos\",\n",
        "    u\"=D\":\"emopos\",\n",
        "    u\"=3\":\"emopos\",\n",
        "    u\"B^D\":\"emopos\",\n",
        "    u\":-))\":\"emopos\",\n",
        "    u\":-(\":\"emoneg\",\n",
        "    u\":‑(\":\"emoneg\",\n",
        "    u\":(\":\"emoneg\",\n",
        "    u\":‑c\":\"emoneg\",\n",
        "    u\":c\":\"emoneg\",\n",
        "    u\":‑<\":\"emoneg\",\n",
        "    u\":<\":\"emoneg\",\n",
        "    u\":‑[\":\"emoneg\",\n",
        "    u\":[\":\"emoneg\",\n",
        "    u\":-||\":\"emoneg\",\n",
        "    u\">:[\":\"emoneg\",\n",
        "    u\":{\":\"emoneg\",\n",
        "    u\">:(\":\"emoneg\",\n",
        "    u\":'‑(\":\"emoneg\",\n",
        "    u\":'(\":\"emoneg\",\n",
        "    u\":'‑)\":\"emopos\",\n",
        "    u\":')\":\"emopos\",\n",
        "    u\"D‑':\":\"emoneg\",\n",
        "    u\"D:<\":\"emoneg\",\n",
        "    u\"D:\":\"emoneg\",\n",
        "    u\"D8\":\"emoneg\",\n",
        "    u\"D;\":\"emoneg\",\n",
        "    u\"D=\":\"emoneg\",\n",
        "    u\"DX\":\"emoneg\",\n",
        "    u\";‑)\":\"emopos\",\n",
        "    u\";)\":\"emopos\",\n",
        "    u\"*-)\":\"emopos\",\n",
        "    u\"*)\":\"emopos\",\n",
        "    u\";‑]\":\"emopos\",\n",
        "    u\";]\":\"emopos\",\n",
        "    u\";^)\":\"emopos\",\n",
        "    u\":‑,\":\"emopos\",\n",
        "    u\";D\":\"emopos\",\n",
        "    u\":‑P\":\"emopos\",\n",
        "    u\":P\":\"emopos\",\n",
        "    u\"X‑P\":\"emopos\",\n",
        "    u\"XP\":\"emopos\",\n",
        "    u\":‑Þ\":\"emopos\",\n",
        "    u\":Þ\":\"emopos\",\n",
        "    u\"=p\":\"emopos\",\n",
        "    u\":‑/\":\"emoneg\",\n",
        "    u\":/\":\"emoneg\",\n",
        "    u\":-[.]\":\"emoneg\",\n",
        "    u\">:[(\\)]\":\"emoneg\",\n",
        "    u\">:/\":\"emoneg\",\n",
        "    u\":[(\\)]\":\"emoneg\",\n",
        "    u\"=/\":\"emoneg\",\n",
        "    u\"=[(\\)]\":\"emoneg\",\n",
        "    u\":L\":\"emoneg\",\n",
        "    u\"=L\":\"emoneg\",\n",
        "    u\":‑|\":\"emoneg\",\n",
        "    u\":|\":\"emoneg\",\n",
        "    u\"O:‑)\":\"emopos\",\n",
        "    u\"O:)\":\"emopos\",\n",
        "    u\"0:‑3\":\"emopos\",\n",
        "    u\"0:3\":\"emopos\",\n",
        "    u\"0:‑)\":\"emopos\",\n",
        "    u\"0:)\":\"emopos\",\n",
        "    u\":‑b\":\"emopos\",\n",
        "    u\"(>_<)\":\"emoneg\",\n",
        "    u\"(>_<)>\":\"emoneg\",\n",
        "    u\"^_^\":\"emopos\",\n",
        "    u\"(^_^)/\":\"emopos\",\n",
        "    u\"(^O^)／\":\"emopos\",\n",
        "    u\"(^o^)／\":\"emopos\",\n",
        "    u\"('_')\":\"emoneg\",\n",
        "    u\"(/_;)\":\"emoneg\",\n",
        "    u\"(T_T) (;_;)\":\"emoneg\",\n",
        "    u\"(;_;\":\"emoneg\",\n",
        "    u\"(;_:)\":\"emoneg\",\n",
        "    u\"(;O;)\":\"emoneg\",\n",
        "    u\"(:_;)\":\"emoneg\",\n",
        "    u\"(ToT)\":\"emoneg\",\n",
        "    u\";_;\":\"emoneg\",\n",
        "    u\";-;\":\"emoneg\",\n",
        "    u\";n;\":\"emoneg\",\n",
        "    u\"Q.Q\":\"emoneg\",\n",
        "    u\"T.T\":\"emoneg\",\n",
        "    u\"Q_Q\":\"emoneg\",\n",
        "    u\"(-.-)\":\"emopos\",\n",
        "    u\"(-_-)\":\"emopos\",\n",
        "    u\"(；一_一)\":\"emopos\",\n",
        "    u\"(=_=)\":\"emoneg\",\n",
        "    u\"^m^\":\"emopos\",\n",
        "    u\">^_^<\":\"emopos\",\n",
        "    u\"<^!^>\":\"emopos\",\n",
        "    u\"^/^\":\"emopos\",\n",
        "    u\"（*^_^*）\" :\"emopos\",\n",
        "    u\"(^<^) (^.^)\":\"emopos\",\n",
        "    u\"(^^)\":\"emopos\",\n",
        "    u\"(^.^)\":\"emopos\",\n",
        "    u\"(^_^.)\":\"emopos\",\n",
        "    u\"(^_^)\":\"emopos\",\n",
        "    u\"(^^)\":\"emopos\",\n",
        "    u\"(^J^)\":\"emopos\",\n",
        "    u\"(*^.^*)\":\"emopos\",\n",
        "    u\"(^—^）\":\"emopos\",\n",
        "    u\"(#^.^#)\":\"emopos\",\n",
        "    u\"(*^0^*)\":\"emopos\",\n",
        "    u\"(*^^)v\":\"emopos\",\n",
        "    u\"(^_^)v\":\"emopos\",\n",
        "    u'(-\"-)':\"emoneg\",\n",
        "    u\"(ーー;)\":\"emoneg\",\n",
        "    u\"(＾ｖ＾)\":\"emopos\",\n",
        "    u\"(＾ｕ＾)\":\"emopos\",\n",
        "    u\"(^)o(^)\":\"emopos\",\n",
        "    u\"(^O^)\":\"emopos\",\n",
        "    u\"(^o^)\":\"emopos\",\n",
        "    u\")^o^(\":\"emopos\",\n",
        "    u\":O o_O\":\"emoneg\",\n",
        "    u\"o_0\":\"emoneg\",\n",
        "    u\"o.O\":\"emoneg\",\n",
        "    u\"(o.o)\":\"emoneg\",\n",
        "    u\"(*￣m￣)\": \"emoneg\",\n",
        "}\n",
        "\n",
        "for emote, val in EMOTICONS.items():\n",
        "  EMOTICONS[emote] = val.lower().replace(',', ' ').replace(' ', '_')"
      ],
      "metadata": {
        "cellView": "form",
        "id": "vVzF0wT42jm1"
      },
      "execution_count": 6,
      "outputs": []
    },
    {
      "cell_type": "code",
      "source": [
        "#@title Contraction Mapping\n",
        "contraction_mapping = {\n",
        "    \"dont\": \"do not\",\n",
        "    \"doesnt\": \"does not\",\n",
        "    \"arent\": \"are not\",\n",
        "    \"cant\": \"can not\",\n",
        "    \"couldve\": \"could have\",\n",
        "    \"couldnt\": \"could not\",\n",
        "    \"didnt\": \"did not\",\n",
        "    \"aint\": \"is not\",\n",
        "    \"arent\": \"are not\",\n",
        "    \"hes\": \"he is\",\n",
        "    \"shes\": \"she is\",\n",
        "    \"havent\": \"have not\",\n",
        "    \"hasnt\": \"has not\",\n",
        "    'youll': \"you will\",\n",
        "    \"ive\": \"i have\",\n",
        "    \"youve\": \"you have\",\n",
        "    \"shouldve\": \"should have\",\n",
        "    \"im\": \"i am\",\n",
        "    \"isnt\": \"is not\",\n",
        "    \"ain't\": \"is not\", \n",
        "    \"aren't\": \"are not\",\n",
        "    \"can't\": \"cannot\",\n",
        "    \"'cause\": \"because\", \n",
        "    \"could've\": \"could have\", \n",
        "    \"couldn't\": \"could not\", \n",
        "    \"didn't\": \"did not\",  \n",
        "    \"doesn't\": \"does not\", \n",
        "    \"don't\": \"do not\", \n",
        "    \"hadn't\": \"had not\", \n",
        "    \"hasn't\": \"has not\", \n",
        "    \"shouldnt\": \"should not\",\n",
        "    \"haven't\": \"have not\", \n",
        "    \"he'd\": \"he would\",\n",
        "    \"he'll\": \"he will\", \n",
        "    \"he's\": \"he is\", \n",
        "    \"how'd\": \"how did\", \n",
        "    \"how'd'y\": \"how do you\", \n",
        "    \"how'll\": \"how will\", \n",
        "    \"how's\": \"how is\",\n",
        "    \"i'd\": \"i would\", \n",
        "    \"i'd've\": \"i would have\", \n",
        "    \"i'll\": \"i will\",  \n",
        "    \"i'll've\": \"i will have\",\n",
        "    \"i'm\": \"i am\", \n",
        "    \"i've\": \"i have\", \n",
        "    \"isn't\": \"is not\", \n",
        "    \"it'd\": \"it would\", \n",
        "    \"it'd've\": \"it would have\", \n",
        "    \"it'll\": \"it will\", \n",
        "    \"it'll've\": \"it will have\",\n",
        "    \"it's\": \"it is\", \n",
        "    \"let's\": \"let us\", \n",
        "    \"ma'am\": \"madam\", \n",
        "    \"mayn't\": \"may not\", \n",
        "    \"might've\": \"might have\",\n",
        "    \"mightn't\": \"might not\",\n",
        "    \"mightn't've\": \"might not have\", \n",
        "    \"must've\": \"must have\", \n",
        "    \"mustn't\": \"must not\", \n",
        "    \"mustn't've\": \"must not have\", \n",
        "    \"needn't\": \"need not\", \n",
        "    \"needn't've\": \"need not have\",\n",
        "    \"o'clock\": \"of the clock\", \n",
        "    \"oughtn't\": \"ought not\", \n",
        "    \"oughtn't've\": \"ought not have\", \n",
        "    \"shan't\": \"shall not\", \n",
        "    \"sha'n't\": \"shall not\", \n",
        "    \"shan't've\": \"shall not have\", \n",
        "    \"she'd\": \"she would\", \n",
        "    \"she'd've\": \"she would have\", \n",
        "    \"she'll\": \"she will\", \n",
        "    \"she'll've\": \"she will have\", \n",
        "    \"she's\": \"she is\", \n",
        "    \"should've\": \"should have\", \n",
        "    \"shouldn't\": \"should not\", \n",
        "    \"shouldn't've\": \"should not have\", \n",
        "    \"this's\": \"this is\",\n",
        "    \"this'll\": \"this will\",\n",
        "    \"thisll\": \"this will\",\n",
        "    \"that'd\": \"that would\", \n",
        "    \"that'd've\": \"that would have\", \n",
        "    \"that's\": \"that is\", \n",
        "    \"thats\": \"that is\",\n",
        "    \"there'd\": \"there would\", \n",
        "    \"there'd've\": \"there would have\", \n",
        "    \"there's\": \"there is\", \n",
        "    \"theres\": \"there is\",\n",
        "    \"here's\": \"here is\",\n",
        "    \"heres\": \"here is\",\n",
        "    \"they'd\": \"they would\", \n",
        "    \"they'd've\": \"they would have\", \n",
        "    \"they'll\": \"they will\", \n",
        "    \"they'll've\": \"they will have\", \n",
        "    \"they're\": \"they are\", \n",
        "    \"they've\": \"they have\", \n",
        "    \"to've\": \"to have\", \n",
        "    \"wasn't\": \"was not\", \n",
        "    \"wasnt\": \"was not\",\n",
        "    \"we'd\": \"we would\", \n",
        "    \"we'd've\": \"we would have\", \n",
        "    \"we'll\": \"we will\", \n",
        "    \"we'll've\": \"we will have\", \n",
        "    \"we're\": \"we are\", \n",
        "    \"we've\": \"we have\", \n",
        "    \"weve\": \"we have\",\n",
        "    \"werent\": \"were not\",\n",
        "    \"weren't\": \"were not\", \n",
        "    \"what'll\": \"what will\",\n",
        "    \"whatll\": \"what will\",\n",
        "    \"what'll've\": \"what will have\", \n",
        "    \"what're\": \"what are\",  \n",
        "    \"what's\": \"what is\", \n",
        "    \"what's\": \"what is\",\n",
        "    \"whatve\": \"what have\",\n",
        "    \"what've\": \"what have\", \n",
        "    \"when's\": \"when is\", \n",
        "    \"when've\": \"when have\", \n",
        "    \"where'd\": \"where did\", \n",
        "    \"where's\": \"where is\", \n",
        "    \"wheres\": \"where is\", \n",
        "    \"where've\": \"where have\",\n",
        "    \"who'll\": \"who will\", \n",
        "    \"who'll've\": \"who will have\", \n",
        "    \"who's\": \"who is\", \n",
        "    \"who've\": \"who have\", \n",
        "    \"whys\": \"why is\",\n",
        "    \"why's\": \"why is\", \n",
        "    \"why've\": \"why have\", \n",
        "    \"will've\": \"will have\", \n",
        "    \"willve\": \"will have\",\n",
        "    \"won't\": \"will not\", \n",
        "    \"wont\": \"will not\",\n",
        "    \"won't've\": \"will not have\", \n",
        "    \"would've\": \"would have\", \n",
        "    \"wouldve\": \"would have\",\n",
        "    \"wouldn't\": \"would not\", \n",
        "    \"wouldnt\": \"would not\",\n",
        "    \"wouldn't've\": \"would not have\", \n",
        "    \"y'all\": \"you all\", \n",
        "    \"y'all'd\": \"you all would\",\n",
        "    \"y'all'd've\": \"you all would have\",\n",
        "    \"y'all're\": \"you all are\",\n",
        "    \"y'all've\": \"you all have\",\n",
        "    \"you'd\": \"you would\", \n",
        "    \"you'd've\": \"you would have\", \n",
        "    \"you'll\": \"you will\", \n",
        "    \"you'll've\": \"you will have\", \n",
        "    \"you're\": \"you are\", \n",
        "    \"you've\": \"you have\"\n",
        "}\n",
        "\n",
        "len(contraction_mapping)"
      ],
      "metadata": {
        "id": "evlddYw82op2",
        "colab": {
          "base_uri": "https://localhost:8080/"
        },
        "outputId": "b951a048-34d6-4253-d0ea-22cee26fe22e"
      },
      "execution_count": 79,
      "outputs": [
        {
          "output_type": "execute_result",
          "data": {
            "text/plain": [
              "147"
            ]
          },
          "metadata": {},
          "execution_count": 79
        }
      ]
    },
    {
      "cell_type": "code",
      "source": [
        "#@title Vocab Mapping\n",
        "vocab_mapping = {\n",
        "    'ta': 'teaching assistant',\n",
        "    'biz': 'business',\n",
        "    'hw': 'homework',\n",
        "    'hws': 'homeworks',\n",
        "    'faq': 'frequently answered question',\n",
        "    'faqs': 'frequently answered questions',\n",
        "    'mcq': 'multiple choice question',\n",
        "    'mcqs': 'multiple choice questions',\n",
        "    'frq': 'free response question',\n",
        "    'frqs': 'free response questions',\n",
        "    'ppt': 'powerpoint',\n",
        "    'ppts': 'powerpoints',\n",
        "    'ques': 'question',\n",
        "    'bs': 'bullshit',\n",
        "    'bsing': 'bullshitting',\n",
        "    'bsed': 'bullshitted',\n",
        "    'lol': 'laugh out loud',\n",
        "    'btw': 'by the way',\n",
        "    'imo': 'in my opinion',\n",
        "    'imho': 'in my honest opinion',\n",
        "    'tbh': 'to be honest',\n",
        "    'asap': 'as soon as possible',\n",
        "    'idc': 'i do not care',\n",
        "    'omg': 'oh my god',\n",
        "    'ppl': 'people',\n",
        "    'rip': 'rest in peace',\n",
        "    'srsly': 'seriously',\n",
        "    'thx': 'thanks',\n",
        "    'txt': 'text',\n",
        "    'ur': 'your',\n",
        "    'tho': 'though',\n",
        "    'wtf': 'what the fuck',\n",
        "    'wth': 'what the heck',\n",
        "    'bc': 'because',\n",
        "    'b4': 'before',\n",
        "    'h8': 'hate',\n",
        "    'jk': 'just kidding',\n",
        "    'cuz': 'because'\n",
        "}"
      ],
      "metadata": {
        "id": "yz-LHtep281W"
      },
      "execution_count": 8,
      "outputs": []
    },
    {
      "cell_type": "markdown",
      "source": [
        "## Stopwords"
      ],
      "metadata": {
        "id": "DLOGjdXa3PUq"
      }
    },
    {
      "cell_type": "code",
      "source": [
        "general_stopwords = set([\"mr\", \"ms\", \"dr\", \"s\", \"t\", \"i\", \"me\", \"myself\", \"is\", \"the\"])\n",
        "\n",
        "gen_stops = set([\"mr\", \"ms\", \"dr\", \"doctor\", \"s\", \"t\", \"i\", \"me\", \"myself\", \"is\", \"she\", \"he\", \"we\", \"him\", \"her\", \"it\"])\n",
        "domain_stops = set([\"book\", \"books\", \"college\", \"colleges\", \"lecture\", \"lectures\", \"university\", \"universities\", \"lab\", \"labs\", \"hw\", \"hws\", \"quiz\", \"quizzes\", \"prof\", \"professor\", \"teacher\", \"class\", \"classes\", \"course\", \"courses\"])\n",
        "stopwords = gen_stops.union(domain_stops)"
      ],
      "metadata": {
        "id": "3cvARkB_3RAb"
      },
      "execution_count": 9,
      "outputs": []
    },
    {
      "cell_type": "markdown",
      "source": [
        "## Helper Functions"
      ],
      "metadata": {
        "id": "7_-nap4y2xeI"
      }
    },
    {
      "cell_type": "code",
      "source": [
        "def remove_urls(text):\n",
        "    return re.sub(r'https?://\\S+|www\\.\\S+', ' ', text)\n",
        "\n",
        "def remove_phones(text):\n",
        "    return re.sub(r'\\d{3}-\\d{3}-\\d{4}', ' ', text)\n",
        "\n",
        "def remove_emails(text):\n",
        "    return re.sub(r'[a-zA-Z0-9_.+-]+@[a-zA-Z0-9-]+\\.[a-zA-Z0-9-.]+', ' ', text)\n",
        "\n",
        "def remove_html_entities(text):\n",
        "  text = re.sub('&[0-9a-zA-Z#]+;', ' ', text)\n",
        "  return re.sub('&#63;?', '', text)\n",
        "\n",
        "def remove_html_tags(text):\n",
        "  return re.sub('<.{1,6}?>', ' ', text)\n",
        "\n",
        "def convert_emoticons(text):\n",
        "  return EMOTICONS.get(text, text)\n",
        "\n",
        "def expand_contraction(text): # Before expanding contraction, might want to clean of symbols that are not '\n",
        "  return contraction_mapping.get(text, text)"
      ],
      "metadata": {
        "id": "PQC77Ryc2cu0"
      },
      "execution_count": 10,
      "outputs": []
    },
    {
      "cell_type": "markdown",
      "source": [
        "# Preprocessing Pipeline"
      ],
      "metadata": {
        "id": "9MDnHc69-ER-"
      }
    },
    {
      "cell_type": "code",
      "source": [
        "from collections import defaultdict\n",
        "\n",
        "all_words = defaultdict(int)\n",
        "\n",
        "def preprocess_pipeline(df, func=None):\n",
        "  cnt = 0 # to keep track of progress\n",
        "  comments_proper = []\n",
        "  for index, review in df.iterrows():\n",
        "    comment = review['comment']\n",
        "    fname = review['firstName'].lower().split(' ')\n",
        "    lname = review['lastName'].lower().split(' ')\n",
        "    names = set(fname + lname)\n",
        "\n",
        "    cnt += 1\n",
        "    if cnt % 25000 == 0:\n",
        "      print(cnt)\n",
        "\n",
        "    comment = remove_urls(comment)\n",
        "    comment = remove_phones(comment)\n",
        "    comment = remove_emails(comment)\n",
        "    comment = remove_html_entities(comment)\n",
        "    comment = remove_html_tags(comment)\n",
        "\n",
        "    comment_split = comment.split(' ')\n",
        "    new_comment_split = []\n",
        "    for i, word in enumerate(comment_split):\n",
        "      word = convert_emoticons(word)\n",
        "      word = word.lower()\n",
        "      word = expand_contraction(word)\n",
        "      word = re.sub(\"[^a-z\\s]+\", ' ', word)   # replace characters that are not alphabetic, space, or underscore\n",
        "      word = re.sub(r'(.)\\1\\1+', '\\g<1>', word)  # replace any three character+ sequence with one\n",
        "      word = re.sub('\\s+', ' ', word)\n",
        "      word = word.strip() # trailing whitespace because punctuation replaced by space\n",
        "      new_comment_split.extend(word.split(' '))\n",
        "\n",
        "    for i, word in enumerate(new_comment_split):\n",
        "      if func and func(word, names):\n",
        "        new_comment_split[i] = ''\n",
        "      else:\n",
        "        new_comment_split[i] = vocab_mapping.get(word, word)\n",
        "\n",
        "    comment = ' '.join(new_comment_split)\n",
        "    comment = re.sub('\\s+', ' ', comment)\n",
        "    comment = comment.strip()\n",
        "\n",
        "    # comment = ' '.join(word for word in comment.split() if len(word) > 1)\n",
        "\n",
        "    comments_proper.append(comment)\n",
        "    for word in comment.split(' '):\n",
        "      all_words[word] += 1\n",
        "    # spellchecked_comments.append(' '.join(sym_spell.lookup(word, Verbosity.TOP, max_edit_distance=2, include_unknown=True)[0].term for word in comment.split()))\n",
        "  return comments_proper"
      ],
      "metadata": {
        "id": "ziLikEpqWWbD"
      },
      "execution_count": 80,
      "outputs": []
    },
    {
      "cell_type": "code",
      "source": [
        "comments_proper = preprocess_pipeline(reviews)\n",
        "# print(len(all_names)) # 49421 before\n",
        "# print(len(all_words)) # 72182 words\n",
        "\n",
        "reviews['cleanedComment'] = comments_proper"
      ],
      "metadata": {
        "colab": {
          "base_uri": "https://localhost:8080/"
        },
        "id": "B4JtISNa26Jq",
        "outputId": "e23f10e5-4c13-4368-9f36-ec362fb5b151"
      },
      "execution_count": 81,
      "outputs": [
        {
          "output_type": "stream",
          "name": "stdout",
          "text": [
            "25000\n",
            "50000\n",
            "75000\n",
            "100000\n",
            "125000\n",
            "150000\n",
            "175000\n",
            "200000\n",
            "225000\n",
            "250000\n",
            "275000\n",
            "300000\n",
            "325000\n",
            "350000\n",
            "375000\n",
            "400000\n",
            "425000\n",
            "450000\n"
          ]
        }
      ]
    },
    {
      "cell_type": "code",
      "source": [
        "all_names = set()\n",
        "for index, review in reviews.iterrows():\n",
        "  fname = review['firstName'].lower().split(' ')\n",
        "  lname = review['lastName'].lower().split(' ')\n",
        "  names = set(fname + lname)\n",
        "  all_names.update(names)\n",
        "print(len(all_words))\n",
        "print(len(all_names))"
      ],
      "metadata": {
        "colab": {
          "base_uri": "https://localhost:8080/",
          "height": 236
        },
        "id": "zMOT2dNPzeic",
        "outputId": "65b4da72-7c13-4bf8-cb85-019709f16c71"
      },
      "execution_count": 63,
      "outputs": [
        {
          "output_type": "stream",
          "name": "stdout",
          "text": [
            "86807\n",
            "53788\n"
          ]
        },
        {
          "output_type": "error",
          "ename": "AttributeError",
          "evalue": "ignored",
          "traceback": [
            "\u001b[0;31m---------------------------------------------------------------------------\u001b[0m",
            "\u001b[0;31mAttributeError\u001b[0m                            Traceback (most recent call last)",
            "\u001b[0;32m<ipython-input-63-fbcffa3cd0ed>\u001b[0m in \u001b[0;36m<module>\u001b[0;34m\u001b[0m\n\u001b[1;32m      8\u001b[0m \u001b[0mprint\u001b[0m\u001b[0;34m(\u001b[0m\u001b[0mlen\u001b[0m\u001b[0;34m(\u001b[0m\u001b[0mall_words\u001b[0m\u001b[0;34m)\u001b[0m\u001b[0;34m)\u001b[0m\u001b[0;34m\u001b[0m\u001b[0;34m\u001b[0m\u001b[0m\n\u001b[1;32m      9\u001b[0m \u001b[0mprint\u001b[0m\u001b[0;34m(\u001b[0m\u001b[0mlen\u001b[0m\u001b[0;34m(\u001b[0m\u001b[0mall_names\u001b[0m\u001b[0;34m)\u001b[0m\u001b[0;34m)\u001b[0m\u001b[0;34m\u001b[0m\u001b[0;34m\u001b[0m\u001b[0m\n\u001b[0;32m---> 10\u001b[0;31m \u001b[0mprint\u001b[0m\u001b[0;34m(\u001b[0m\u001b[0mlen\u001b[0m\u001b[0;34m(\u001b[0m\u001b[0mall_words\u001b[0m\u001b[0;34m.\u001b[0m\u001b[0mintersection\u001b[0m\u001b[0;34m(\u001b[0m\u001b[0mall_names\u001b[0m\u001b[0;34m)\u001b[0m\u001b[0;34m)\u001b[0m\u001b[0;34m)\u001b[0m\u001b[0;34m\u001b[0m\u001b[0;34m\u001b[0m\u001b[0m\n\u001b[0m",
            "\u001b[0;31mAttributeError\u001b[0m: 'collections.defaultdict' object has no attribute 'intersection'"
          ]
        }
      ]
    },
    {
      "cell_type": "code",
      "source": [
        "all_words = defaultdict(int)\n",
        "reviews['cleanedComment'] = preprocess_pipeline(reviews, lambda x, nms: x in nms)"
      ],
      "metadata": {
        "colab": {
          "base_uri": "https://localhost:8080/"
        },
        "id": "6j2koqqv2YTE",
        "outputId": "eebc5525-533b-408e-a3c8-7402d1daa0c8"
      },
      "execution_count": 90,
      "outputs": [
        {
          "output_type": "stream",
          "name": "stdout",
          "text": [
            "25000\n",
            "50000\n",
            "75000\n",
            "100000\n",
            "125000\n",
            "150000\n",
            "175000\n",
            "200000\n",
            "225000\n",
            "250000\n",
            "275000\n",
            "300000\n",
            "325000\n",
            "350000\n",
            "375000\n",
            "400000\n",
            "425000\n",
            "450000\n"
          ]
        }
      ]
    },
    {
      "cell_type": "code",
      "source": [
        "all_words_set = set(all_words.keys())\n",
        "print(len(all_words_set))\n",
        "print(len(all_names))\n",
        "print(len(all_words_set.intersection(all_names))) # Cut a lot of features"
      ],
      "metadata": {
        "colab": {
          "base_uri": "https://localhost:8080/"
        },
        "id": "XUh-wcUl1nxa",
        "outputId": "7bbb6519-60ff-42db-9b86-13794f8924c7"
      },
      "execution_count": 69,
      "outputs": [
        {
          "output_type": "stream",
          "name": "stdout",
          "text": [
            "69427\n",
            "53788\n",
            "6686\n"
          ]
        }
      ]
    },
    {
      "cell_type": "code",
      "source": [
        "for comment in reviews.loc[100:200, 'cleanedComment']:\n",
        "  print(comment)\n",
        "  print()"
      ],
      "metadata": {
        "colab": {
          "base_uri": "https://localhost:8080/"
        },
        "id": "M-GKyT0b5kn4",
        "outputId": "5ebccb26-7c93-4c67-9d93-7dd73bf4e8f9"
      },
      "execution_count": 75,
      "outputs": [
        {
          "output_type": "stream",
          "name": "stdout",
          "text": [
            "absolutely fantastic life changing\n",
            "\n",
            "bad teacher very harsh grader details are all or nothing\n",
            "\n",
            "professor josh is awesome he is very friendly and has excellent dancing skills he makes things very clear and is very helpful outside of class take your math classes with him\n",
            "\n",
            "he is good teacher he like teaching and wants to teach he lets you revise your papers\n",
            "\n",
            "she is nice but not good teacher she is not help me at all very lazy the class was a waste of money and time do not take her class\n",
            "\n",
            "amazing teacher\n",
            "\n",
            "she was by far my favorite teacher that i have ever had she was so helpful i had her for psych and she made it so interesting i would recomend her to anyone\n",
            "\n",
            "easy class show up and do the work all the test questions come from the mcgraw hill homework online if you do all the homework you get for homework grade just do the work\n",
            "\n",
            "is a wonderful teacher with a lot of knowledge of criminology i found her classes to be very interesting come to class pay attention and read the textbook and you will do well in her class\n",
            "\n",
            "presents the material in a very interesting way and has a fresh perspective i absolutely hate english but i loved his class if you have to take engs take it with him\n",
            "\n",
            "shes honestly a good teacher her best class is intro to game development and from there the classes get more difficult the unreal class as someone stated is not very clear but her unity d class is better shes nice helpful and caring as well she does get frustrated if you dont understand something to a certain extent dont skip class\n",
            "\n",
            "awesome teacher best teacher at taylor\n",
            "\n",
            "boring routine teacher picks favorites and mandatory attendance enough said funny how my posts seem to always get deleted\n",
            "\n",
            "all he has you do is exercises from the workbook that is all that ever happens in class if you get a or above on the test offered the first week of class you are exempt from taking it the material from the test comes straight out of the noble textbook study for min and avoid this class\n",
            "\n",
            "crystal clear instructor very knowledgeable also she is in spectacular shape emopos\n",
            "\n",
            "i found this class to be a waste of time the professor was rude inconsiderate and incredibly ill prepared the classroom environment was uncomfortable as the students were very very angry in addition we never really learned anything\n",
            "\n",
            "dr is boring i had her online in cognitive psychology the lecture she presented were not consistent with her test you will have to read the book alot avoid her if you can she is boring\n",
            "\n",
            "very easy class you have to write three papers but all of them are subjected to peer and instructor review before being submitted very helpful as long as you do the reading and turn in the daily assignments you will be fine\n",
            "\n",
            "if you need to take this class chs do not take him he is very unclear on what he wants and unable to accept any other answers besides his own expect heavy reading and unclear discussions about it\n",
            "\n",
            "really easy class though it might get harder the longer she teaches\n",
            "\n",
            "such an incredibly fun and useful karate class everybody should take this class once especially women he has created his own system that is based on actual styles of karate but interpreted for those who are not avid fighters highly recommended\n",
            "\n",
            "this class is not an easy class you need to study a lot and work really hard to get the grade you want i really like his powerpoint and lecture it was interesting and dr is really nice and always willing to help he is always available to help you to understand the materials go to his office hour\n",
            "\n",
            "she is an awful teacher by far the worst i have ever had her notes are unclear and based off the old book even though she told us to get the new book if you can pay attention in her class you are a much stronger person than i am the good news is that her test are not bad very annoying class and i thank god every day that its over\n",
            "\n",
            "was honestly a great teacher she is from berlin germany so she knows what she is teaching and she makes it so much fun and interesting i would highly recommend her i know its a friday class but its worth it just show up and participate and do the homework und viel gl ck\n",
            "\n",
            "i took her class over the summer she gave good feedback on every paper i turned in as well as my final exam great professor as long as you put the work in\n",
            "\n",
            "this man is impossible and a tyrant he is super sarcastic for no reason and lives to make his students feel dumb the tests are not too hard but he is a stickler for grammar towards the end of the class he started taking off your grade if you were late\n",
            "\n",
            "the class was fun and the professor is excellent come to class do the work and get out with an a and you need to spend money to buy art supplies if you cannot afford it do not take the class and make it hard for the poor teacher\n",
            "\n",
            "she was very easy she typed all the notes for you and bolded all important topics she went over all the material in class i never had to read the book she stuck to her syllabus her tests were easy and fair with good reviews she offered several easy ways to get extra credit she had one paper due at the end of the semester highly recommend\n",
            "\n",
            "professor is my favorite at clark i have have many good and bad professors here but i am glad to have my last semester with him he makes class enjoyable and interesting he helps you to care about the material and excited about learning i recommend him to anyone\n",
            "\n",
            "professor is the best she is pretty and smart her class is a blast but at the same time you need to study and do your work i really recommend her take her you will not regret it professor you rock emopos\n",
            "\n",
            "i struggled in his class even though it was during the summer he would not give students a break on the exams and homework his lectures were not all that clear and he expects you to learn in a fast pace especially for difficult material being taught a subject like stats i did not find him a fair grader what so ever i would not recommend him at\n",
            "\n",
            "too tough on assignments and grading too many assignments too boring of a teacher power point reader learned nothing\n",
            "\n",
            "i like he is actually very animated in front of my principles of advertising class but he lacks in some major areas although his tests are easy study the book and power points he never mentions due dates or his expectations for papers projects it is all very unprepared and he sticks to his opinion based grading scale\n",
            "\n",
            "she is the worst anatomy teacher to take ever if you have her switch professors she can t teach won t explain and accepts no excuses our class average is in the s majority of the class is failing always late\n",
            "\n",
            "she is an amazing instructor she is very passionate about anthropology and she brings enthusiasm during lectures\n",
            "\n",
            "dellaratta is extremely patient and thorough she is straight forward and clear in her lectures and will always take the time to go over something with you if it is unclear to you her tests are also straight forward she is all around a great professor\n",
            "\n",
            "best a p professor out there dr is very helpful and fun to be around you will learn alot\n",
            "\n",
            "can you say dofus take some advice get off the autocad do some solutions the old fashioned way correctly and try and write it on the board correctly the first time that way maybe just maybe a couple of your students can pass the course not the you claim how about the historical average\n",
            "\n",
            "was really good very clear in his expectations and his midterm was exactly what he told us it would be his portion on phylogeny is a lot of memorization but he lets you know exactly what you should learn midterm and final questions were very fair and i really enjoyed his material this is a great fourth year class\n",
            "\n",
            "i love this professor she is so kind and makes class very interesting there are no exams in this class but there are a lot of readings and they are long you write a response paper on the readings every week and must participate in a class discussion pretty easy to do well i would definitely take this professor again\n",
            "\n",
            "i learned no history in this class her lectures dont make sense and if you ask a question she never knows the answer also if you are white you probably wont get a good grade\n",
            "\n",
            "the first day you start class he tells you what he espects if you come to class everyday do all your labs papers presentation and treat him with respect there is no reason to make a c in his class he is a awesome guy i fell in love with the class because there are no finals or tests he doesnt discriminate treats everyone equally emopos\n",
            "\n",
            "not a good online teacher did not respond to my emails and graded papers rudely has a ridiculous amount of work all due one upon another seems like a good professor in the class but be wary do not take him online\n",
            "\n",
            "you can never understand what he says he almost always talks in french and when you ask questions he makes you feel stupid he does not allow enough time for retention i am seriously struggling\n",
            "\n",
            "geri is a good guy he really cares if you pass or not he will most likely give you that extra boost if you need to just pay attention in class and take notes on what he says the material he is teaching is hard though or at least it was for me show up to all the classes and you should be fine i also had him for econ just as hard as\n",
            "\n",
            "he was condescending and abhored questions that did not have to do with his way of thinking if you do not mind being ridiculed in front of the class then this is the teacher for you i aced math years prior to taking this class and loved it now i am second guessing myself\n",
            "\n",
            "by far the best class and teacher i have ever had very interactive with students and she wants you to make a good grade attendance and paying attention and class is very important to her\n",
            "\n",
            "this teacher has no idea what she is doing she repeats herself atleast times about things we do not need to know about for the course she hardly teaches what we actually need to know for the course and hardly ever lets us listen to the examples she either thinks we are all idiots at times or musical geniuses do not take her class\n",
            "\n",
            "super gorgeous and hes like my only reason for going to class he repeats too much but i dont care he is sweet and nice to look at\n",
            "\n",
            "good teacher fast pased class its lecture quiz lecture quiz but he tells you during the lectures exactly what is going to be on the quiz show up to class and pay attention a little and you will do fine\n",
            "\n",
            "she is beyond rude she might as well live in outer space i would never take her again never never\n",
            "\n",
            "s teaching methods are very fun he is a young guy from spain so if you are used to latinamerican spanish you might have to pay more attenion this class is difficult but we are in college now he is nice and helpful if you are willing to get help\n",
            "\n",
            "is very opinionated it is his way or the highway and even when you do it his way from his suggestions after presenting you will get an a because he does not think anyone is ready for the real world in the same sense however he knows what he is talking about but is very much against covering more modern modes of copywriting\n",
            "\n",
            "not going to lie i looked at the reviews on her and was extremely anxious to take her class but it was the only one that fit my schedule so i had to do it and i am pleasantly surprised i came into her class as a newcomer and she has been nothing but friendly understanding and patient with me the class is a lot of work but is great in my opinion\n",
            "\n",
            "worst class i have taken at wsu class was about nothing biggest waste of time no direction or syllabus classes were a repeat of the same subject you could tell he would show up to class and shoot from the hip required a book then scrapped it then with weeks left in the semester assigned a page book to read and page paper\n",
            "\n",
            "dr does an amazing job at using different learning styles she uses video lecture handouts and class discussion as ways to prepare you for exams she actually made this material interesting to learn about and is a very nice woman i would recommend this class\n",
            "\n",
            "this class was extremely boring there is extra credit for every test so that is nice but she never seems knowledgeable about the topic unless it is aquaculture so it is all info from the book boredom abounds\n",
            "\n",
            "warning be sure you keep her on your good side and kiss up to her or she will fail you in clinical she has done it before clinical grades are completely subjective she has failed another student and openly lied about the reasons\n",
            "\n",
            "was a very good teacher i was irritated at the beginning of the class because i felt he was treating us like children but when the subject matter became more difficult he was always willing to help and explain the real world application i would recommend him keep in mind that your grade is based entirely on tests so no homework to help\n",
            "\n",
            "lectures gave a good background on concepts labs backed that up with practice coding exams were fair and review sheets were always provided always willing to help students\n",
            "\n",
            "he was a very ethusiastic teacher that knew his stuff and was very involved with the class he always had a response question or comment regarding your post and showed interest in your work he was informative about what to expect but if you had a question available for clarification took online would definitely suggest him as an instructor\n",
            "\n",
            "professor is a very organized teacher she has a passion for teaching english and takes her job very serious she do not play so if you looking for a walk in the park keep looking i passed the class with a b and i can seriouly say it was well earned please be on time cause she love giving quizes lots of papers and essay questions for homework\n",
            "\n",
            "avoid at all costs if you care about international development or even about learning do not bother class grades were based on exams and a final paper that were entirely unrelated to class discussion if i could do it again i would not show up to class so i would not have had to deal with his lifeless and banal lectures\n",
            "\n",
            "best prof i have ever had\n",
            "\n",
            "he is a great teacher a little silly but very good you must attend class since your grade is dependent on your attendance\n",
            "\n",
            "she likes to talk a lot does not answer questions well because she goes off on tangents\n",
            "\n",
            "best instructor i have had hilarious helpful really seems to enjoy what he teaches i look forward to his classes and retain the information that is taught thanks to his colorful lectures\n",
            "\n",
            "i am very happy i got the opportunity to experience this class i gained a lot of knowledge that i did not previously have in fact i took an ap literature composition class my senior year of high school and did not gain as much knowledge as i hoped however in this class i gained knowledge and confidence in my composition skills tim rocks\n",
            "\n",
            "such a nice professor and definitely knows what she talks about you can tell she loves what she does she can be funny at times journal assignment research paper case study midterm final not necessarily in that order and she gives extra credit\n",
            "\n",
            "he is a caring teacher and one of the most charismatic at evc if you want to actually learn something he is great at imparting knowledge he cares greatly about the welfare of his students and his grading is spot on\n",
            "\n",
            "great professor extremely helpful really wants students learn and improve usually he does not give writing tests but he gives lots of writing assignments he gives you a chance to resubmit if you did not do well and wants to improve your grade but you have to do a good job to get a higher grade he is very fair and impartial i recommend him\n",
            "\n",
            "not bad she tries to keep things interesting check to make sure the right lab materials are presented i found mislabeled items all the time not really her fault\n",
            "\n",
            "such a nice teacher extremely helpful notes are key to the answers on test cannot express how nice of a teacher she is definitely take her\n",
            "\n",
            "enjoys teaching you will enjoy the class too ask him for extra material books on line sources you will definitely learn the subject\n",
            "\n",
            "kind helpful down to earth and cares a lot about her students and the course material one of the nicest profs at mun go to class do the reading and you will be fine\n",
            "\n",
            "this professor cares deeply about people he wants you to share whats important to you whats going on in the world and relate it back to economics\n",
            "\n",
            "he has a great sense of humor and has the class laughing most of the time he is a bit tough on grades however you can do revisions this is so great because the first grade you receive on the paper does not count if you revise it he gives comments on them and tells you exactly what you need to do i made an appointment with me and he was helpfu\n",
            "\n",
            "he makes a lot of jokes too many is his problem he wastes class time going off topics and talking about people robbing his wifes car or the son that still lives with him his work seems easy just stay on top of things he is a pretty nice guy he could have kicked me out but he didn t yet attend his class and read the material\n",
            "\n",
            "nice lady but clueless when it comes to teaching reads right off the powerpoints confusing tests that are worded funny i immediately took the class over and got an a with dr huda makluf if you are interested in being taught find a different professor i should have ran for the hills\n",
            "\n",
            "was a great class i highly recommend it mr was not the main professor but he was our teaching assistant for friday sessions really good friday classes easy to talk to and good to learn from good feedback on papers too show up on time and do all the work will meet for office hours too like if you need homework help\n",
            "\n",
            "was the man\n",
            "\n",
            "i had boo s for theory and theory he is amazing but you have to do your homework otherwise it will not be easy can be sarcastic which is easily confused for discouraging but nevertheless he has been my favorite teacher and i wish he taught theory emoneg\n",
            "\n",
            "super easy teacher\n",
            "\n",
            "he will change your life if you let him\n",
            "\n",
            "i took this class over a minimester and passed with an a in the class she is always available very organized keeps up with students there is no way to go wrong with her class you do use and read the book very helpful when you take the timed test\n",
            "\n",
            "mrs was a very good teacher answered all my questions and even let the class take a week off of writing this summer because she was backed up on grading highly reccomend her to anyone\n",
            "\n",
            "this class was about globalization although he is liberal and sounds anti globalization he respected student s opposite view including mine his grading system is very clear i hope he becomes a regular teacher and holds an office because he is currently teaching at three colleges he is too busy to be seen outside the class\n",
            "\n",
            "i took the online version of this course so i only met dr twice once for the midterm and once for the final reading the textbook was absolutely necessary as her exam questions came directly from there dr was very prompt at email correspondence and provided ample study quides and ways to earn points outside of the exams\n",
            "\n",
            "dr is a funny guy his class was interesting because he is teaching spanish and there are often multiple synonyms for one word he was really good about accepting our correct answers on the quiz even if it was not the exact word he was looking for he was also very willing to answer any questions\n",
            "\n",
            "hands down the best prof i have had very straight forward honest and blunt i stress again very blunt do not be an idiot and do your work\n",
            "\n",
            "unbelievably hard course and work load professor gave way too many extra unannounced pop assignments that were not in the syllabus with day turn around times professor was not at all receptive to on line learning environment or considerate of the normal one week assignment turn in window that is so important for working professionals\n",
            "\n",
            "extremely good professor i never read any of the reading assinged and did i so so on the essays and still pulled a b i even took her intro to british lit class and had the same work ethics as the first and still made a b she lets you rewrite your essa\n",
            "\n",
            "i was nervous about taking math since it had been so long and i recieved an a emopos\n",
            "\n",
            "tracy is the best thing that happened to the qc english department ever but he expects alot form his students giving alot of work from four books and several handouts in each class amazing prof who is not only interesting but knows his stuff well\n",
            "\n",
            "awesome prof super helpful and friendly\n",
            "\n",
            "he helped me alot and he is a great teacher may talk to much haha he is not an easy a but it is possible to get an a if you show up for every class and ask him for help on the essays\n",
            "\n",
            "wonderful always willing to help\n",
            "\n",
            "she is way too hyper and a big ball of energy she gives out a midterm and a final its simple you just type up poses that you like but it has to be a specific way otherwise she goes nuts she calls you out in class if you are doing something wrong to me not much of real yoga she also does not release you from class till the exact time\n",
            "\n",
            "sfu math does an average job of explaining concepts however her exams are of a shock and awe style whereby there will be a good portion of questions that are much more complex than her examples or homework expect long exams with limited time and if you are a self learner expect to see her choice of textbook to have very limited answers\n",
            "\n",
            "she is a very tough grader she even takes off when you are a few minutes late to class when an assignment is due\n",
            "\n",
            "do not buy the book you will never use it go to class for the clicker questions read through the slides the exams are pretty easy i really liked this class\n",
            "\n"
          ]
        }
      ]
    },
    {
      "cell_type": "markdown",
      "source": [
        "## Abbreviation and Stuff???"
      ],
      "metadata": {
        "id": "_83KHLyuG3PK"
      }
    },
    {
      "cell_type": "code",
      "source": [
        "cleaned_comments = reviews['cleanedComment']\n",
        "\n",
        "alphabet = set(list(\"abcdefghijklmnopqrstuvwxyz\"))\n",
        "words_avoid = set([\"all\", \"up\", \"is\", \"so\", \"to\", \"be\", \"for\", \"on\", \"he\", \"his\", \"the\", \"had\", \"of\", \"and\", \"are\",\n",
        "                   \"dr\", \"she\", \"her\", \"oh\", \"try\", \"you\", \"she\", \"now\", \"not\", \"my\", \"but\", \"an\", \"wow\", \"do\", \"if\", \"fun\",\n",
        "                   \"was\", \"in\", \"at\", \"one\", \"can\", \"how\", \"in\", \"was\", \"lot\", \"get\", \"it\", \"put\", \"any\", \"got\", \"our\", \"him\",\n",
        "                   \"guy\", \"am\", \"law\", \"end\", \"we\", \"us\", \"use\", \"ask\", \"rid\", \"max\", \"joy\", \"no\", \"did\", \"sad\", \"day\",\n",
        "                   \"fan\", \"few\", \"off\", \"era\", \"top\", \"big\", \"red\", \"hot\", \"age\", \"pie\", \"age\", \"by\", \"mad\", \"gut\", \"fed\",\n",
        "                   \"two\", \"see\", \"air\", \"hug\", \"bag\", \"cut\", \"has\", \"or\", \"buy\", \"sit\", \"way\", \"lay\", \"say\", \"ok\", \"mrs\",\n",
        "                   \"shy\", \"god\", \"pay\", \"kid\", \"key\", \"too\", \"why\", \"box\", \"aid\", \"ton\", \"art\", \"met\", \"dry\", \"let\", \"bet\",\n",
        "                   \"far\", \"sum\", \"bad\", \"yet\", \"yes\", \"ass\", \"set\", \"boy\", \"map\", \"low\", \"old\", \"who\", \"lab\", \"bam\",\n",
        "                   \"pop\", \"sob\", \"dog\", \"run\", \"hat\", \"lie\", \"ego\", \"own\", \"its\", \"go\", \"add\", \"pet\", \"job\", \"due\", \"may\", \"nap\", \"ink\",\n",
        "                   \"new\", \"bit\", \"as\", \"out\", \"me\", \"mr\", \"man\", \"ms\", \"fix\"])\n",
        "words_avoid.update(alphabet)\n",
        "words_all_3 = set()\n",
        "for index, review in reviews.sample(1000, random_state=1).iterrows():\n",
        "  words_less_3 = set(word for word in review['cleanedComment'].split(' ') if len(word) <= 3 and word not in words_avoid)\n",
        "  if words_less_3:\n",
        "    words_all_3.update(words_less_3)\n",
        "\n",
        "print(words_all_3)\n",
        "print(len(words_all_3))"
      ],
      "metadata": {
        "colab": {
          "base_uri": "https://localhost:8080/"
        },
        "id": "jdxPq9Le-BVw",
        "outputId": "cbebf00f-f705-4a79-f29d-5edd85d589f7"
      },
      "execution_count": 124,
      "outputs": [
        {
          "output_type": "stream",
          "name": "stdout",
          "text": [
            "{'min', '', 'hof', 'im', 'er', 'que', 'ova', 'bon', 'esl', 'pro', 'crj', 'cmu', 'gr', 'dq', 'de', 'ee', 'co', 'th', 'ic', 'pg', 'fix', 'non', 'ken', 'jc', 'acc', 'ob', 'gcc', 'lin', 'via', 'dra', 'psu', 'hep', 'sur', 'mid', 'ho', 'mat', 'csi', 'bas', 'wte', 'ear', 'dat', 'sw', 'phd', 'um', 'isn', 'wa', 'wen', 'civ', 'nor', 'wsu', 'ffs', 'wk', 'meh', 'cuz', 'psy', 'ie', 'rel', 'alg', 'ccq', 'ge', 'hes', 'def', 'gsi', 'se', 'ucf', 'ce', 'hip', 'prf', 'per', 'dep', 'un', 'ver', 'amc', 'huh', 'ben', 'ol', 'bb', 'als', 'pre', 'duh', 'jen', 'ace', 'exp', 'la', 'et', 'hez', 'yu', 'hum', 'fsc', 'don', 'le', 'won', 'eco', 'lap', 'ucr', 'lit', 'env', 'pp', 'ed', 'hae', 'fav', 'soc', 'bmw', 'ad', 'usc', 'bro', 'abt', 'son', 'qs', 'pts', 'org', 'ugh', 'cam', 'wiz', 'wcd', 'ec', 'bio', 'neg', 'int', 'cs', 'mag', 'cps', 'lil', 'ii', 'bcc', 'etc', 'gov', 'est', 'hcc', 'mo', 'req', 'act', 'eng', 'nd', 'hm', 'din', 'tas', 'sth', 'col', 'sat', 'swc', 'com', 'mis', 'oop', 're', 'web'}\n",
            "146\n"
          ]
        }
      ]
    },
    {
      "cell_type": "code",
      "source": [
        "counter_3_sample = Counter()\n",
        "for comment in reviews.loc[500:1000, 'cleanedComment']:\n",
        "  cond = False\n",
        "  cleaned_word_set = set(comment.split(' '))\n",
        "  for word in cleaned_word_set:\n",
        "    if word in words_all_3:\n",
        "      cond = True\n",
        "      counter_3_sample[word] += 1\n",
        "  if cond:\n",
        "    print(comment)\n",
        "    print()\n",
        "\n",
        "print(counter_3_sample)\n",
        "\n",
        "# To Remove:\n",
        "'''\n",
        "bio, etc, eng, mails\n",
        "'''\n",
        "# Abbreviations / Shortened\n",
        "'''\n",
        "etc, def, ed, via, pts, pg, tas(teaching assistants?), phd, req, bro, abt, org, gen, ed(unsure??), lil, fav\n",
        "'''"
      ],
      "metadata": {
        "colab": {
          "base_uri": "https://localhost:8080/",
          "height": 1000
        },
        "id": "UefLeGMJZVc1",
        "outputId": "bf0ff60d-909d-496b-d035-a778885fe18d"
      },
      "execution_count": 126,
      "outputs": [
        {
          "output_type": "stream",
          "name": "stdout",
          "text": [
            "this class has a horrifying amount of work you get tested twice per topic before class and during class every class period tuesday and thursday while she means well and knows her stuff she expects way too much for a gen ed requirement only take this class if love groupwork every week and if you are willing to have it take over your life\n",
            "\n",
            "i liked her i know some students struggled but i am not sure why the tests were of average difficulty if you study and use apr frequently then you will pass i never went in for office hours and i do not think they were essential she makes class non stressful and interesting she only holds class on friday as needed which is appreciated\n",
            "\n",
            "she does not know what she is teaching every five seconds she stops to stare at the board and asks what to do because she herself is lost unorganized in grading she made a mistake on my test and did not even bring the grade sheet to fix it for another month if you ask her a question she will say you do this and not clarify at all terrible\n",
            "\n",
            "if you are a good quizz and test taker and you study really really hard you will not have a problem with this class there is a lot of homework that you can earn extra points on projects a mid term and a final the class is really intense and there is alot to learn and know if you are good at comprehending and rememberin a bulk of info in a\n",
            "\n",
            "great professor made class fun and interesting does a great job making you think about your pre conceptions of the political world\n",
            "\n",
            "if every professor was like i would race to class everyday she makes the material easy to understand and presents it in engaging ways participate projects were well explained and due in reasonable time having her teach my first year seminar was a great experience as she helped us become better university students with workshops etc\n",
            "\n",
            "one of the best teachers period at collin college profound knowledge of the subject matter clear concise lectures and excellent pre test reviews all delivered without any political slant i took hist with her and waited a full semester just so i could take her again for hist i cannot recommend dr highly enough\n",
            "\n",
            "ms is a cool and funny lady i took her summer course and she kept it interesting there is an appropriate amount of lecture alongside group activities and discussion even as a non major i enjoyed taking her class\n",
            "\n",
            "professor makes his classes interesting and not too difficult i took his week hybrid bio if you do the work and attend a there are no tests but there are labs a project a presentation and a paper it is a hybrid course so reading at home is a good idea since his class is only once a week attendance is mandatory\n",
            "\n",
            "i loved she is one of the most friendliest and funnist teachers i have ever met she definitely made class fun and easy she is very supportive and makes every else does the same she made me want to come to class and have fun if you are a lil shy and is afraid of giving speeches is the right place to stop at\n",
            "\n",
            "her projects are slightly ridiculous but other than that i think she is a great personality and she makes music fun but god those projects gr\n",
            "\n",
            "her class is borin u have to b in class on time cuz she take attendance right at the hour i had her for african films u need to read what she tells u n take notes of the movies then u should b fine\n",
            "\n",
            "this professor is now teaching at psu and i went to one lecture and decided i could not bear a whole quarter with her she had no structure for the lecture was very scattered and unclear did not effectively answer questions and spoke very slowly as if she was unsure of what to say her phone also went off during class very unprofessional\n",
            "\n",
            "terrible professor taking an on line class with him now and he gives no direction whenever you have a question his only answer is read the syllabus not helpful at all he only gives general pre made feedback so you cannot improve on things\n",
            "\n",
            "best teacher i have had a psu clear and straight forward he presented material clearly and connected topics to the real world i just wish he taught more classes\n",
            "\n",
            "i took mth calc ii anyways t j was an amazing teacher and has to be the best math teacher that i have had in all the years i have been in school he taught the concepts extremely well and did a bunch of examples to prepare you for the exams he does use web assign which is and a bit janky but other than that the class was great\n",
            "\n",
            "teaching style is very ineffective does not explain information she just reads straight from the handouts which makes it hard to actually learn the information this is my first math course at jc and i am hoping to see improvements in clarity as i go on in math would not reccomend\n",
            "\n",
            "human genetics for non science majors read the text download the notes from web ct very easy a bit of a boring lecturer but and easy and somewhat interesting class if you like to learn about dna and genetic diseases no lab componate so that is good\n",
            "\n",
            "no powerpoints super monotone really hard to pay attention even as a good student he just derives formulas and teaches you everything except what you need to know for the exam the exams were literally pages printed off from web assign with new numbers poorly written in some people got qs wrong because we could not read his handwritten s\n",
            "\n",
            "he has assignments full of errors and gets incredibly defensive when these errors are mentioned also the answer keys he gives the tas are wrong\n",
            "\n",
            "first let me say that i love calc i know its weird but i do with that said is the worst calc professor i have ever had she does not care about her students at all she is more concerned about her ego we get it your re smart now stop showing off and teach do not take her\n",
            "\n",
            "professor was a great facilitator he participated in our online class discussions he provided valuable feedback each week on our discussion posts and was always willing to help there is a lot of reading but thankfully only one discussion post per week based on the readings and lecture videos i would definitely take him again\n",
            "\n",
            "she is really nice but very boring her powerpoints do not have anything to do with anything and maybe of that will be on the test she likes class discussion and loves current events and the body shop the exams are all from the light textbooks which were not very fun in my opinion some test qs from vids she posts online takes attendance because so many skip\n",
            "\n",
            "excellent teacher i really enjoyed his class i got an a i am not majoring bio he tries to give students a lot of extra credit but if you do not study you will be in hell\n",
            "\n",
            "there is only a way to fail her class if you do not have a brain emopos just participate her class well and practice minutes per day yourself she is gonna give u good grade with tons of extra credit usually with praise in japanese arigatto gozai matsu d\n",
            "\n",
            "i had a bad personal issue during the semester i had her class photo ii and missed some classes she was very understanding allowing me extra time for me work as well as speaking to me about what was going on in my life she let me vent offered great perspective and introduced me to an artist whose work was completely relevant to my life\n",
            "\n",
            "nice and funny helpful if you ask her for it wants to see you succeed use the book online do not buy it make sure you do the extra credit cuz she offers a lot take advantage of it\n",
            "\n",
            "i am the type of student that gets a s in every single one of my classes and this gen ed course was by far the most annoying class i had to take note that i said annoying and not difficult it was annoying because you had to write everything based on her knowledge and her views otherwise you would get deducted points for it worst teacher\n",
            "\n",
            "excellent teacher read his handouts and you will pass every test you do not really even need the book just study the handouts i made a b in his class with some effort he is very fair gives extensions on reports etc\n",
            "\n",
            "if you are a risk major then you stuck with mccloskey and drennan both are hard and requires alot of studying rmi is no joke also if you re taking this any rmi class first thing start studying from day one also for project choose your partner wisely seriously project is not your ih or some histroy paper trust me also grading system sucks but try t\n",
            "\n",
            "loved this teacher he passes out paper packets of each chapter so you do not have to read out of the book exams are exatly on lecture notes he made it a fun interesting class def recommend dr\n",
            "\n",
            "excellent professor despite the often controversial subjects same sex marriage abortion cohabitation etc she professionally approached them from a purely legal standpoint very approachable and articulate\n",
            "\n",
            "we love ms she teaches so everyone will learn if you do not understand something she will re explain it to you as many times as you need it she made math really fun and easy if you do your homework and practice you will get an easy a but actually learning i wish she would teach college algebra and statistics\n",
            "\n",
            "amazing professor took him for bowling i so much fun he is very funny and really teaches you how to bowl taking him for bowling ii in the summer\n",
            "\n",
            "i truly enjoyed learning pre calc because of this amazing teacher there are exams and several classwork quizzes if you try you will have no problem getting an a i just watched the videos and asked questions in class and i can honestly say i had a great semester the teacher is so caring and thoughtful of students cheers\n",
            "\n",
            "you will never learn more interesting or so much stuff than from dr ken he is by far the best env teacher at psu he is such a nice and funny guy class is interesting and you can ask him anything in the world and he will always have an answer for it he is incredible if you are lucky to get a chance before he retires take his class\n",
            "\n",
            "i wish i had all my teachers like mrs you want to take biology anatomy class take her she has very good medical knowledge i learned a lot by being in her class gen bio is hard that is the way it is teacher is not to be blamed she is asian and has a bit accent but not a language barrier if you think of lot of her positive points\n",
            "\n",
            "pro is a nice teacher however his exams are definitely hard you have to understand all the concepts and know that how to relate them to each other the textbook is absolutely terrible not only un useful but also confuse people if you do not pay attention in the class you definitely fail his exams\n",
            "\n",
            "i thought bio lab was really easy the class was ofcourse very boring but what really bothered me is the fact the she was never prepared she would take up class time to prepare everything we needed for the lab experiment everything should be prepared before class begins\n",
            "\n",
            "not the best math teacher i ever had he is totally incomprehensible and not organized do not take him at least not for mat a lot of people dropped out of his class because he does not know how to teach however if you do his assigned homework you should do very well in his class his test questions comes from his homework assignments\n",
            "\n",
            "she has the worst accent ever she is not co operative and will not explain to you why she gave you the grade that you got switch out of her section now\n",
            "\n",
            "great teacher very cool and smart he gives out outlines to follow the chapters he discusses in class he is full of interseting stories midterm final and pg research paper the exams are slightly easy if you listen in class or read the chapters they are all mulitple choices he is always there if you need any extra help understanding info\n",
            "\n",
            "he is the hardest econ teacher at ucr no joke in the beginning of the quarter we had about students the first midterm had a average of and then after the first midterm there was about students left of the that were left half failed so people actually passed the class don t take any class taught by\n",
            "\n",
            "wonderful teacher her teaching is very clear and will answer any question any time even during tests she has lot s of extra assignments so your sure to earn a good grade in her class if your a non traditional student like i am she the best because she understands if you have other thing going on from time to time all around great teacher\n",
            "\n",
            "by far my fav class at dsc i love how she incorporated current events issues poli sci etc into the curriculum the videos discussions were always interesting speeches were laid back classmates were great i laughed alot i took speech before hated it this class w was a completely different experience def recommend\n",
            "\n",
            "absolutely terrible is not help at all counts off for everything is a seems approachable at first and then isn t\n",
            "\n",
            "took a couple of semester off and was hoping he would still be a prof at liu he is great looking forward to taking acc with him otherwise i have no hope of passing this course\n",
            "\n",
            "es una profesora incre ble she is new to pcc but has been teaching spanish for a long time she is very passionate about language and she wants her students to understand how important it is she is so fun she sings in espa ol she dances she has clever games to get your mind working in spa be prepared for immer style butshe makes it fun\n",
            "\n",
            "yeah no not a good professor he does not care if his students get the material during class or not his quizzes are online and are timed for lyk min only and you cannot preview questions once you start count down starts oh by the way his homework is lame it has not to do anything with what he taught he keeps tests too don t get to see it either\n",
            "\n",
            "horrible teacher all she does is read off the powerpoint and does not explain anything i saw the good reviews of this teacher and took her and it was a total mistake she is a chemistry major and phd and does not know anything about anatomy when i asked her some specific questions if something wud be on the test all she would say is read these pages\n",
            "\n",
            "class taken online lots of reading and writing in eng graded generously and provided good feedback seemed very friendly in the class e mails would take another class instructed by her\n",
            "\n",
            "Counter({'non': 4, 'pre': 4, 'etc': 4, 'bio': 4, 'per': 3, 'psu': 3, 'ii': 3, 'web': 3, 're': 3, 'ed': 2, 'cuz': 2, 'qs': 2, 'def': 2, 'don': 2, 'fix': 1, 'mid': 1, 'lil': 1, 'gr': 1, 'jc': 1, 'tas': 1, 'env': 1, 'ken': 1, 'un': 1, 'pro': 1, 'mat': 1, 'co': 1, 'pg': 1, 'ucr': 1, 'fav': 1, 'isn': 1, 'acc': 1, 'ol': 1, 'min': 1, 'phd': 1, 'eng': 1})\n"
          ]
        },
        {
          "output_type": "execute_result",
          "data": {
            "text/plain": [
              "'\\netc, def, ed, via, pts, pg, tas(teaching assistants?), phd, req, bro, abt, org\\n'"
            ],
            "application/vnd.google.colaboratory.intrinsic+json": {
              "type": "string"
            }
          },
          "metadata": {},
          "execution_count": 126
        }
      ]
    },
    {
      "cell_type": "code",
      "source": [
        "# !pip install wordsegment"
      ],
      "metadata": {
        "id": "k9_zXMAn_TEr"
      },
      "execution_count": 14,
      "outputs": []
    },
    {
      "cell_type": "code",
      "source": [
        "# Might need to spellcheck comments before segmenting them\n",
        "\n",
        "# from wordsegment import load, segment\n",
        "# load()\n",
        "# for comment in comments_proper[:200]:\n",
        "#   new_comment = segment(comment)\n",
        "#   if comment.split(' ') != new_comment:\n",
        "#     print(comment.split(' '))\n",
        "#     print(new_comment)\n",
        "#     print('\\n')"
      ],
      "metadata": {
        "id": "Q_mGRISN_VXW"
      },
      "execution_count": 15,
      "outputs": []
    },
    {
      "cell_type": "markdown",
      "source": [
        "# Pycontractions\n",
        "Very long to do as opposed to a simple contraction mapping, will hold off on this for now."
      ],
      "metadata": {
        "id": "iZVsjUYsJtlg"
      }
    },
    {
      "cell_type": "code",
      "source": [
        "# !python --version"
      ],
      "metadata": {
        "id": "KieVZxLsU96r",
        "colab": {
          "base_uri": "https://localhost:8080/"
        },
        "outputId": "3bab1a17-28ab-4f6b-9545-2eae45382d1a"
      },
      "execution_count": 16,
      "outputs": [
        {
          "output_type": "stream",
          "name": "stdout",
          "text": [
            "Python 3.7.13\n"
          ]
        }
      ]
    },
    {
      "cell_type": "code",
      "source": [
        "# Because of weird java dependencies this needs to be done\n",
        "# !sudo apt-get update -y\n",
        "\n",
        "# !sudo apt install openjdk-8-jdk\n",
        "# !sudo update-alternatives --set java /usr/lib/jvm/java-8-openjdk-amd64/jre/bin/java\n",
        "# !java -version"
      ],
      "metadata": {
        "id": "XAkE9JH4O8Lw",
        "colab": {
          "base_uri": "https://localhost:8080/"
        },
        "outputId": "1a2fbf0e-86b6-4f89-a920-7c746a539bfb"
      },
      "execution_count": 35,
      "outputs": [
        {
          "output_type": "stream",
          "name": "stdout",
          "text": [
            "\r0% [Working]\r            \rIgn:1 https://developer.download.nvidia.com/compute/machine-learning/repos/ubuntu1804/x86_64  InRelease\n",
            "\r0% [Connecting to archive.ubuntu.com] [Connecting to security.ubuntu.com (185.1\r                                                                               \rGet:2 https://developer.download.nvidia.com/compute/cuda/repos/ubuntu1804/x86_64  InRelease [1,581 B]\n",
            "Hit:3 https://developer.download.nvidia.com/compute/machine-learning/repos/ubuntu1804/x86_64  Release\n",
            "Get:4 https://cloud.r-project.org/bin/linux/ubuntu bionic-cran40/ InRelease [3,626 B]\n",
            "Hit:7 http://archive.ubuntu.com/ubuntu bionic InRelease\n",
            "Get:8 https://developer.download.nvidia.com/compute/cuda/repos/ubuntu1804/x86_64  Packages [912 kB]\n",
            "Get:5 http://security.ubuntu.com/ubuntu bionic-security InRelease [88.7 kB]\n",
            "Hit:10 http://ppa.launchpad.net/cran/libgit2/ubuntu bionic InRelease\n",
            "Get:13 https://cloud.r-project.org/bin/linux/ubuntu bionic-cran40/ Packages [91.1 kB]\n",
            "Get:9 http://archive.ubuntu.com/ubuntu bionic-updates InRelease [88.7 kB]\n",
            "Hit:14 http://ppa.launchpad.net/deadsnakes/ppa/ubuntu bionic InRelease\n",
            "Hit:15 http://ppa.launchpad.net/graphics-drivers/ppa/ubuntu bionic InRelease\n",
            "Get:16 http://security.ubuntu.com/ubuntu bionic-security/main amd64 Packages [2,938 kB]\n",
            "Get:17 http://security.ubuntu.com/ubuntu bionic-security/universe amd64 Packages [1,534 kB]\n",
            "Get:12 http://archive.ubuntu.com/ubuntu bionic-backports InRelease [74.6 kB]\n",
            "Get:6 http://ppa.launchpad.net/c2d4u.team/c2d4u4.0+/ubuntu bionic InRelease [15.9 kB]\n",
            "Get:18 http://archive.ubuntu.com/ubuntu bionic-updates/universe amd64 Packages [2,311 kB]\n",
            "Get:19 http://archive.ubuntu.com/ubuntu bionic-updates/main amd64 Packages [3,369 kB]\n",
            "Get:20 http://ppa.launchpad.net/c2d4u.team/c2d4u4.0+/ubuntu bionic/main Sources [2,093 kB]\n",
            "Get:21 http://ppa.launchpad.net/c2d4u.team/c2d4u4.0+/ubuntu bionic/main amd64 Packages [1,073 kB]\n",
            "Fetched 2,525 kB in 4s (581 kB/s)\n",
            "Reading package lists... Done\n",
            "Reading package lists... Done\n",
            "Building dependency tree       \n",
            "Reading state information... Done\n",
            "The following package was automatically installed and is no longer required:\n",
            "  libnvidia-common-460\n",
            "Use 'sudo apt autoremove' to remove it.\n",
            "The following additional packages will be installed:\n",
            "  fonts-dejavu-core fonts-dejavu-extra libatk-wrapper-java\n",
            "  libatk-wrapper-java-jni libgail-common libgail18 libgtk2.0-0 libgtk2.0-bin\n",
            "  libgtk2.0-common libxxf86dga1 openjdk-8-jdk-headless openjdk-8-jre\n",
            "  openjdk-8-jre-headless x11-utils\n",
            "Suggested packages:\n",
            "  gvfs openjdk-8-demo openjdk-8-source visualvm libnss-mdns\n",
            "  fonts-ipafont-gothic fonts-ipafont-mincho fonts-wqy-microhei\n",
            "  fonts-wqy-zenhei fonts-indic mesa-utils\n",
            "The following NEW packages will be installed:\n",
            "  fonts-dejavu-core fonts-dejavu-extra libatk-wrapper-java\n",
            "  libatk-wrapper-java-jni libgail-common libgail18 libgtk2.0-0 libgtk2.0-bin\n",
            "  libgtk2.0-common libxxf86dga1 openjdk-8-jdk openjdk-8-jdk-headless\n",
            "  openjdk-8-jre openjdk-8-jre-headless x11-utils\n",
            "0 upgraded, 15 newly installed, 0 to remove and 31 not upgraded.\n",
            "Need to get 46.0 MB of archives.\n",
            "After this operation, 166 MB of additional disk space will be used.\n",
            "Get:1 http://archive.ubuntu.com/ubuntu bionic/main amd64 libxxf86dga1 amd64 2:1.1.4-1 [13.7 kB]\n",
            "Get:2 http://archive.ubuntu.com/ubuntu bionic/main amd64 fonts-dejavu-core all 2.37-1 [1,041 kB]\n",
            "Get:3 http://archive.ubuntu.com/ubuntu bionic/main amd64 fonts-dejavu-extra all 2.37-1 [1,953 kB]\n",
            "Get:4 http://archive.ubuntu.com/ubuntu bionic/main amd64 x11-utils amd64 7.7+3build1 [196 kB]\n",
            "Get:5 http://archive.ubuntu.com/ubuntu bionic/main amd64 libatk-wrapper-java all 0.33.3-20ubuntu0.1 [34.7 kB]\n",
            "Get:6 http://archive.ubuntu.com/ubuntu bionic/main amd64 libatk-wrapper-java-jni amd64 0.33.3-20ubuntu0.1 [28.3 kB]\n",
            "Get:7 http://archive.ubuntu.com/ubuntu bionic/main amd64 libgtk2.0-common all 2.24.32-1ubuntu1 [125 kB]\n",
            "Get:8 http://archive.ubuntu.com/ubuntu bionic/main amd64 libgtk2.0-0 amd64 2.24.32-1ubuntu1 [1,769 kB]\n",
            "Get:9 http://archive.ubuntu.com/ubuntu bionic/main amd64 libgail18 amd64 2.24.32-1ubuntu1 [14.2 kB]\n",
            "Get:10 http://archive.ubuntu.com/ubuntu bionic/main amd64 libgail-common amd64 2.24.32-1ubuntu1 [112 kB]\n",
            "Get:11 http://archive.ubuntu.com/ubuntu bionic/main amd64 libgtk2.0-bin amd64 2.24.32-1ubuntu1 [7,536 B]\n",
            "Get:12 http://archive.ubuntu.com/ubuntu bionic-updates/universe amd64 openjdk-8-jre-headless amd64 8u342-b07-0ubuntu1~18.04 [28.3 MB]\n",
            "Get:13 http://archive.ubuntu.com/ubuntu bionic-updates/universe amd64 openjdk-8-jre amd64 8u342-b07-0ubuntu1~18.04 [69.6 kB]\n",
            "Get:14 http://archive.ubuntu.com/ubuntu bionic-updates/universe amd64 openjdk-8-jdk-headless amd64 8u342-b07-0ubuntu1~18.04 [8,300 kB]\n",
            "Get:15 http://archive.ubuntu.com/ubuntu bionic-updates/universe amd64 openjdk-8-jdk amd64 8u342-b07-0ubuntu1~18.04 [4,032 kB]\n",
            "Fetched 46.0 MB in 3s (13.4 MB/s)\n",
            "debconf: unable to initialize frontend: Dialog\n",
            "debconf: (No usable dialog-like program is installed, so the dialog based frontend cannot be used. at /usr/share/perl5/Debconf/FrontEnd/Dialog.pm line 76, <> line 15.)\n",
            "debconf: falling back to frontend: Readline\n",
            "debconf: unable to initialize frontend: Readline\n",
            "debconf: (This frontend requires a controlling tty.)\n",
            "debconf: falling back to frontend: Teletype\n",
            "dpkg-preconfigure: unable to re-open stdin: \n",
            "Selecting previously unselected package libxxf86dga1:amd64.\n",
            "(Reading database ... 155676 files and directories currently installed.)\n",
            "Preparing to unpack .../00-libxxf86dga1_2%3a1.1.4-1_amd64.deb ...\n",
            "Unpacking libxxf86dga1:amd64 (2:1.1.4-1) ...\n",
            "Selecting previously unselected package fonts-dejavu-core.\n",
            "Preparing to unpack .../01-fonts-dejavu-core_2.37-1_all.deb ...\n",
            "Unpacking fonts-dejavu-core (2.37-1) ...\n",
            "Selecting previously unselected package fonts-dejavu-extra.\n",
            "Preparing to unpack .../02-fonts-dejavu-extra_2.37-1_all.deb ...\n",
            "Unpacking fonts-dejavu-extra (2.37-1) ...\n",
            "Selecting previously unselected package x11-utils.\n",
            "Preparing to unpack .../03-x11-utils_7.7+3build1_amd64.deb ...\n",
            "Unpacking x11-utils (7.7+3build1) ...\n",
            "Selecting previously unselected package libatk-wrapper-java.\n",
            "Preparing to unpack .../04-libatk-wrapper-java_0.33.3-20ubuntu0.1_all.deb ...\n",
            "Unpacking libatk-wrapper-java (0.33.3-20ubuntu0.1) ...\n",
            "Selecting previously unselected package libatk-wrapper-java-jni:amd64.\n",
            "Preparing to unpack .../05-libatk-wrapper-java-jni_0.33.3-20ubuntu0.1_amd64.deb ...\n",
            "Unpacking libatk-wrapper-java-jni:amd64 (0.33.3-20ubuntu0.1) ...\n",
            "Selecting previously unselected package libgtk2.0-common.\n",
            "Preparing to unpack .../06-libgtk2.0-common_2.24.32-1ubuntu1_all.deb ...\n",
            "Unpacking libgtk2.0-common (2.24.32-1ubuntu1) ...\n",
            "Selecting previously unselected package libgtk2.0-0:amd64.\n",
            "Preparing to unpack .../07-libgtk2.0-0_2.24.32-1ubuntu1_amd64.deb ...\n",
            "Unpacking libgtk2.0-0:amd64 (2.24.32-1ubuntu1) ...\n",
            "Selecting previously unselected package libgail18:amd64.\n",
            "Preparing to unpack .../08-libgail18_2.24.32-1ubuntu1_amd64.deb ...\n",
            "Unpacking libgail18:amd64 (2.24.32-1ubuntu1) ...\n",
            "Selecting previously unselected package libgail-common:amd64.\n",
            "Preparing to unpack .../09-libgail-common_2.24.32-1ubuntu1_amd64.deb ...\n",
            "Unpacking libgail-common:amd64 (2.24.32-1ubuntu1) ...\n",
            "Selecting previously unselected package libgtk2.0-bin.\n",
            "Preparing to unpack .../10-libgtk2.0-bin_2.24.32-1ubuntu1_amd64.deb ...\n",
            "Unpacking libgtk2.0-bin (2.24.32-1ubuntu1) ...\n",
            "Selecting previously unselected package openjdk-8-jre-headless:amd64.\n",
            "Preparing to unpack .../11-openjdk-8-jre-headless_8u342-b07-0ubuntu1~18.04_amd64.deb ...\n",
            "Unpacking openjdk-8-jre-headless:amd64 (8u342-b07-0ubuntu1~18.04) ...\n",
            "Selecting previously unselected package openjdk-8-jre:amd64.\n",
            "Preparing to unpack .../12-openjdk-8-jre_8u342-b07-0ubuntu1~18.04_amd64.deb ...\n",
            "Unpacking openjdk-8-jre:amd64 (8u342-b07-0ubuntu1~18.04) ...\n",
            "Selecting previously unselected package openjdk-8-jdk-headless:amd64.\n",
            "Preparing to unpack .../13-openjdk-8-jdk-headless_8u342-b07-0ubuntu1~18.04_amd64.deb ...\n",
            "Unpacking openjdk-8-jdk-headless:amd64 (8u342-b07-0ubuntu1~18.04) ...\n",
            "Selecting previously unselected package openjdk-8-jdk:amd64.\n",
            "Preparing to unpack .../14-openjdk-8-jdk_8u342-b07-0ubuntu1~18.04_amd64.deb ...\n",
            "Unpacking openjdk-8-jdk:amd64 (8u342-b07-0ubuntu1~18.04) ...\n",
            "Setting up libgtk2.0-common (2.24.32-1ubuntu1) ...\n",
            "Setting up fonts-dejavu-core (2.37-1) ...\n",
            "Setting up libxxf86dga1:amd64 (2:1.1.4-1) ...\n",
            "Setting up fonts-dejavu-extra (2.37-1) ...\n",
            "Setting up openjdk-8-jre-headless:amd64 (8u342-b07-0ubuntu1~18.04) ...\n",
            "update-alternatives: using /usr/lib/jvm/java-8-openjdk-amd64/jre/bin/orbd to provide /usr/bin/orbd (orbd) in auto mode\n",
            "update-alternatives: using /usr/lib/jvm/java-8-openjdk-amd64/jre/bin/servertool to provide /usr/bin/servertool (servertool) in auto mode\n",
            "update-alternatives: using /usr/lib/jvm/java-8-openjdk-amd64/jre/bin/tnameserv to provide /usr/bin/tnameserv (tnameserv) in auto mode\n",
            "Setting up libgtk2.0-0:amd64 (2.24.32-1ubuntu1) ...\n",
            "Setting up libgail18:amd64 (2.24.32-1ubuntu1) ...\n",
            "Setting up openjdk-8-jdk-headless:amd64 (8u342-b07-0ubuntu1~18.04) ...\n",
            "update-alternatives: using /usr/lib/jvm/java-8-openjdk-amd64/bin/idlj to provide /usr/bin/idlj (idlj) in auto mode\n",
            "update-alternatives: using /usr/lib/jvm/java-8-openjdk-amd64/bin/wsimport to provide /usr/bin/wsimport (wsimport) in auto mode\n",
            "update-alternatives: using /usr/lib/jvm/java-8-openjdk-amd64/bin/jsadebugd to provide /usr/bin/jsadebugd (jsadebugd) in auto mode\n",
            "update-alternatives: using /usr/lib/jvm/java-8-openjdk-amd64/bin/native2ascii to provide /usr/bin/native2ascii (native2ascii) in auto mode\n",
            "update-alternatives: using /usr/lib/jvm/java-8-openjdk-amd64/bin/javah to provide /usr/bin/javah (javah) in auto mode\n",
            "update-alternatives: using /usr/lib/jvm/java-8-openjdk-amd64/bin/clhsdb to provide /usr/bin/clhsdb (clhsdb) in auto mode\n",
            "update-alternatives: using /usr/lib/jvm/java-8-openjdk-amd64/bin/xjc to provide /usr/bin/xjc (xjc) in auto mode\n",
            "update-alternatives: using /usr/lib/jvm/java-8-openjdk-amd64/bin/hsdb to provide /usr/bin/hsdb (hsdb) in auto mode\n",
            "update-alternatives: using /usr/lib/jvm/java-8-openjdk-amd64/bin/schemagen to provide /usr/bin/schemagen (schemagen) in auto mode\n",
            "update-alternatives: using /usr/lib/jvm/java-8-openjdk-amd64/bin/extcheck to provide /usr/bin/extcheck (extcheck) in auto mode\n",
            "update-alternatives: using /usr/lib/jvm/java-8-openjdk-amd64/bin/jhat to provide /usr/bin/jhat (jhat) in auto mode\n",
            "update-alternatives: using /usr/lib/jvm/java-8-openjdk-amd64/bin/wsgen to provide /usr/bin/wsgen (wsgen) in auto mode\n",
            "Setting up x11-utils (7.7+3build1) ...\n",
            "Setting up libgail-common:amd64 (2.24.32-1ubuntu1) ...\n",
            "Setting up libatk-wrapper-java (0.33.3-20ubuntu0.1) ...\n",
            "Setting up libgtk2.0-bin (2.24.32-1ubuntu1) ...\n",
            "Setting up libatk-wrapper-java-jni:amd64 (0.33.3-20ubuntu0.1) ...\n",
            "Setting up openjdk-8-jre:amd64 (8u342-b07-0ubuntu1~18.04) ...\n",
            "update-alternatives: using /usr/lib/jvm/java-8-openjdk-amd64/jre/bin/policytool to provide /usr/bin/policytool (policytool) in auto mode\n",
            "Setting up openjdk-8-jdk:amd64 (8u342-b07-0ubuntu1~18.04) ...\n",
            "update-alternatives: using /usr/lib/jvm/java-8-openjdk-amd64/bin/appletviewer to provide /usr/bin/appletviewer (appletviewer) in auto mode\n",
            "update-alternatives: using /usr/lib/jvm/java-8-openjdk-amd64/bin/jconsole to provide /usr/bin/jconsole (jconsole) in auto mode\n",
            "Processing triggers for man-db (2.8.3-2ubuntu0.1) ...\n",
            "Processing triggers for hicolor-icon-theme (0.17-2) ...\n",
            "Processing triggers for fontconfig (2.12.6-0ubuntu2) ...\n",
            "Processing triggers for mime-support (3.60ubuntu1) ...\n",
            "Processing triggers for libc-bin (2.27-3ubuntu1.5) ...\n",
            "update-alternatives: using /usr/lib/jvm/java-8-openjdk-amd64/jre/bin/java to provide /usr/bin/java (java) in manual mode\n",
            "openjdk version \"1.8.0_342\"\n",
            "OpenJDK Runtime Environment (build 1.8.0_342-8u342-b07-0ubuntu1~18.04-b07)\n",
            "OpenJDK 64-Bit Server VM (build 25.342-b07, mixed mode)\n"
          ]
        }
      ]
    },
    {
      "cell_type": "code",
      "source": [
        "# %pip install git+https://github.com/MCFreddie777/language-check.git\n",
        "# %pip install pycontractions"
      ],
      "metadata": {
        "id": "Gs3tc6PzWHQm",
        "colab": {
          "base_uri": "https://localhost:8080/"
        },
        "outputId": "f8bb755f-2f73-46c7-eaa7-b68e5547aea1"
      },
      "execution_count": 18,
      "outputs": [
        {
          "output_type": "stream",
          "name": "stdout",
          "text": [
            "Looking in indexes: https://pypi.org/simple, https://us-python.pkg.dev/colab-wheels/public/simple/\n",
            "Collecting git+https://github.com/MCFreddie777/language-check.git\n",
            "  Cloning https://github.com/MCFreddie777/language-check.git to /tmp/pip-req-build-saqqgiwj\n",
            "  Running command git clone -q https://github.com/MCFreddie777/language-check.git /tmp/pip-req-build-saqqgiwj\n",
            "Looking in indexes: https://pypi.org/simple, https://us-python.pkg.dev/colab-wheels/public/simple/\n",
            "Requirement already satisfied: pycontractions in /usr/local/lib/python3.7/dist-packages (2.0.1)\n",
            "Requirement already satisfied: pyemd>=0.4.4 in /usr/local/lib/python3.7/dist-packages (from pycontractions) (0.5.1)\n",
            "Requirement already satisfied: language-check>=1.0 in /usr/local/lib/python3.7/dist-packages (from pycontractions) (1.1)\n",
            "Requirement already satisfied: gensim>=2.0 in /usr/local/lib/python3.7/dist-packages (from pycontractions) (3.6.0)\n",
            "Requirement already satisfied: scipy>=0.18.1 in /usr/local/lib/python3.7/dist-packages (from gensim>=2.0->pycontractions) (1.7.3)\n",
            "Requirement already satisfied: six>=1.5.0 in /usr/local/lib/python3.7/dist-packages (from gensim>=2.0->pycontractions) (1.15.0)\n",
            "Requirement already satisfied: numpy>=1.11.3 in /usr/local/lib/python3.7/dist-packages (from gensim>=2.0->pycontractions) (1.21.6)\n",
            "Requirement already satisfied: smart-open>=1.2.1 in /usr/local/lib/python3.7/dist-packages (from gensim>=2.0->pycontractions) (5.2.1)\n"
          ]
        }
      ]
    },
    {
      "cell_type": "code",
      "source": [
        "# from pycontractions import Contractions\n",
        "# help(Contractions)"
      ],
      "metadata": {
        "colab": {
          "base_uri": "https://localhost:8080/"
        },
        "id": "p-7pyNY9S8_3",
        "outputId": "37c174b7-7d1f-4885-8f34-6fd318e014bb"
      },
      "execution_count": 25,
      "outputs": [
        {
          "output_type": "stream",
          "name": "stdout",
          "text": [
            "Help on class Contractions in module pycontractions.contractions:\n",
            "\n",
            "class Contractions(builtins.object)\n",
            " |  Contractions(w2v_path=None, lang_code='en-US', kv_model=None, api_key=None)\n",
            " |  \n",
            " |  Expand and contract common English contractions in text.\n",
            " |  \n",
            " |  Uses a combination of pattern replacement, grammar checking, and Word Mover's Distance.\n",
            " |  \n",
            " |  Methods defined here:\n",
            " |  \n",
            " |  __init__(self, w2v_path=None, lang_code='en-US', kv_model=None, api_key=None)\n",
            " |      w2v_path is a path to an embedding model used for calculating the Word Mover's Distance.\n",
            " |  \n",
            " |  contract_texts(self, texts)\n",
            " |      Return a generator over an iterable of text where each result has contracted common expansions.\n",
            " |  \n",
            " |  expand_texts(self, texts, precise=False, scores=False)\n",
            " |      Return a generator over an iterable of text where each result has common contractions expanded.\n",
            " |      \n",
            " |      If precise == True then it will use a much slower method that does not assume all occurrences\n",
            " |      of the same contraction in the text have the same expansion.  If scores == True, it will return\n",
            " |      a generator over a list of lists of intermediate results with their scores and number of grammar errors.\n",
            " |  \n",
            " |  load_models(self)\n",
            " |      Attempt to find/load/download keyedvector model.\n",
            " |  \n",
            " |  ----------------------------------------------------------------------\n",
            " |  Data descriptors defined here:\n",
            " |  \n",
            " |  __dict__\n",
            " |      dictionary for instance variables (if defined)\n",
            " |  \n",
            " |  __weakref__\n",
            " |      list of weak references to the object (if defined)\n",
            "\n"
          ]
        }
      ]
    },
    {
      "cell_type": "code",
      "source": [
        "# import gensim.downloader as api\n",
        "# model = api.load(\"glove-twitter-100\")"
      ],
      "metadata": {
        "id": "8o-spTrBjTu1"
      },
      "execution_count": 31,
      "outputs": []
    },
    {
      "cell_type": "code",
      "source": [
        "# cont = Contractions(kv_model=model)\n",
        "# cont.load_models() # prevents loading the model on the first expand_texts"
      ],
      "metadata": {
        "id": "Q2nwGAxUjcwL"
      },
      "execution_count": 37,
      "outputs": []
    },
    {
      "cell_type": "code",
      "source": [
        "# Non-precise\n",
        "# print(list(cont.expand_texts([\"you ain't anything special, she's much faster and has Jamie's dog\"])))\n",
        "# list(cont.expand_texts([\"I'd like to know how I'd done that!\",\n",
        "#                             \"We're going to the zoo and I don't think I'll be home for dinner.\",\n",
        "#                             \"Theyre going to the zoo and she'll be home for dinner.\"]))"
      ],
      "metadata": {
        "colab": {
          "base_uri": "https://localhost:8080/"
        },
        "id": "39a9YVSeddpF",
        "outputId": "249ef656-2b61-4804-e234-a61cda9f9039"
      },
      "execution_count": 39,
      "outputs": [
        {
          "output_type": "stream",
          "name": "stdout",
          "text": [
            "[\"you have not anything special, she has much faster and has Jamie's dog\"]\n"
          ]
        },
        {
          "output_type": "execute_result",
          "data": {
            "text/plain": [
              "['I had like to know how I had done that!',\n",
              " 'we are going to the zoo and I do not think I will be home for dinner.',\n",
              " 'they are going to the zoo and she will be home for dinner.']"
            ]
          },
          "metadata": {},
          "execution_count": 39
        }
      ]
    },
    {
      "cell_type": "code",
      "source": [
        "# Precise\n",
        "# print(list(cont.expand_texts([\"you ain't anything special, she's much faster and has Jamie's dog\"], precise=True)))\n",
        "# list(cont.expand_texts([\"I'd like to know how I'd done that!\",\n",
        "#                             \"We're going to the zoo and I don't think I'll be home for dinner.\",\n",
        "#                             \"Theyre going to the zoo and she'll be home for dinner.\"], precise=True))"
      ],
      "metadata": {
        "colab": {
          "base_uri": "https://localhost:8080/"
        },
        "id": "cPVivVWTkkUP",
        "outputId": "9b763369-1fcb-4ad7-977c-94b40bb04896"
      },
      "execution_count": 40,
      "outputs": [
        {
          "output_type": "stream",
          "name": "stdout",
          "text": [
            "[\"you have not anything special, she has much faster and has Jamie's dog\"]\n"
          ]
        },
        {
          "output_type": "execute_result",
          "data": {
            "text/plain": [
              "['I would like to know how I had done that!',\n",
              " 'we are going to the zoo and I do not think I will be home for dinner.',\n",
              " 'they are going to the zoo and she will be home for dinner.']"
            ]
          },
          "metadata": {},
          "execution_count": 40
        }
      ]
    },
    {
      "cell_type": "code",
      "source": [
        "# list(cont.expand_texts([\"dont you see youre a tool! testing to see if this'll catch contractions that have no apostrophe and have mispellings\", \"he'll not like what he sees. hell, I don't know what I'm seeing. you think she'll like it?\"], precise=True))"
      ],
      "metadata": {
        "colab": {
          "base_uri": "https://localhost:8080/"
        },
        "id": "SgoQV99Wk45M",
        "outputId": "7fba3de4-e303-4c14-fa7c-b3e5a120d984"
      },
      "execution_count": 49,
      "outputs": [
        {
          "output_type": "execute_result",
          "data": {
            "text/plain": [
              "[\"do not you see you are a tool! testing to see if this'll catch contractions that have no apostrophe and have mispellings\",\n",
              " 'he will not like what he sees. hell, I do not know what I am seeing. you think she will like it?']"
            ]
          },
          "metadata": {},
          "execution_count": 49
        }
      ]
    },
    {
      "cell_type": "code",
      "source": [
        "# One sample\n",
        "# list(cont.expand_texts([\"this'll be a decent test.\"]))"
      ],
      "metadata": {
        "colab": {
          "base_uri": "https://localhost:8080/"
        },
        "id": "fkLlgxxqmq_u",
        "outputId": "638323b8-baf3-4bd0-94f9-95055fa611d5"
      },
      "execution_count": 54,
      "outputs": [
        {
          "output_type": "execute_result",
          "data": {
            "text/plain": [
              "[\"this'll be a decent test.\"]"
            ]
          },
          "metadata": {},
          "execution_count": 54
        }
      ]
    },
    {
      "cell_type": "code",
      "source": [
        "# def preprocess_pipeline2(df, print_index=25000):\n",
        "#   cnt = 0 # to keep track of progress\n",
        "#   comments_proper = []\n",
        "#   for index, review in df.iterrows():\n",
        "#     comment = review['comment']\n",
        "#     fname = review['firstName'].lower().split(' ')\n",
        "#     lname = review['lastName'].lower().split(' ')\n",
        "#     names = set(fname + lname)\n",
        "#     all_names.update(names)\n",
        "\n",
        "#     cnt += 1\n",
        "#     if cnt % print_index == 0:\n",
        "#       print(cnt)\n",
        "\n",
        "#     comment = remove_urls(comment)\n",
        "#     comment = remove_phones(comment)\n",
        "#     comment = remove_emails(comment)\n",
        "#     comment = remove_html_entities(comment)\n",
        "#     comment = remove_html_tags(comment)\n",
        "\n",
        "#     comment = list(cont.expand_texts([comment], precise=True))[0]\n",
        "#     comment_split = comment.split(' ')\n",
        "#     new_comment_split = []\n",
        "#     for i, word in enumerate(comment_split):\n",
        "#       word = convert_emoticons(word)\n",
        "#       word = word.lower()\n",
        "#       # word = expand_contraction(word)\n",
        "#       word = re.sub(\"[^a-z\\s]+\", ' ', word)   # replace characters that are not alphabetic, space, or underscore\n",
        "#       word = re.sub(r'(.)\\1\\1+', '\\g<1>', word)  # replace any three character+ sequence with one\n",
        "#       word = re.sub('\\s+', ' ', word)\n",
        "#       word = word.strip() # trailing whitespace because punctuation replaced by space\n",
        "#       new_comment_split.extend(word.split(' '))\n",
        "\n",
        "#     # for i, word in enumerate(new_comment_split):\n",
        "#     #   if word in names or word in stopwords:\n",
        "#     #     new_comment_split[i] = ''\n",
        "#     #   else:\n",
        "#     #     new_comment_split[i] = vocab_mapping.get(word, word)\n",
        "\n",
        "#     for i, word in enumerate(new_comment_split):\n",
        "#       new_comment_split[i] = vocab_mapping.get(word, word)\n",
        "\n",
        "#     comment = ' '.join(new_comment_split)\n",
        "#     comment = re.sub('\\s+', ' ', comment)\n",
        "#     comment = comment.strip()\n",
        "\n",
        "#     # comment = ' '.join(word for word in comment.split() if len(word) > 1)\n",
        "\n",
        "#     comments_proper.append(comment)\n",
        "#     for word in comment.split(' '):\n",
        "#       all_words[word] += 1\n",
        "#     # spellchecked_comments.append(' '.join(sym_spell.lookup(word, Verbosity.TOP, max_edit_distance=2, include_unknown=True)[0].term for word in comment.split()))\n",
        "#   return comments_proper\n",
        "\n",
        "# comments_proper_contractions = preprocess_pipeline2(reviews.loc[:25000], print_index=1000)"
      ],
      "metadata": {
        "id": "2uifoEmxJicN",
        "colab": {
          "base_uri": "https://localhost:8080/"
        },
        "outputId": "9dcff332-9f66-4af8-e1f0-f13a954e5524"
      },
      "execution_count": 58,
      "outputs": [
        {
          "output_type": "stream",
          "name": "stdout",
          "text": [
            "1000\n",
            "2000\n",
            "3000\n",
            "4000\n",
            "5000\n",
            "6000\n",
            "7000\n",
            "8000\n",
            "9000\n",
            "10000\n",
            "11000\n",
            "12000\n",
            "13000\n",
            "14000\n",
            "15000\n",
            "16000\n",
            "17000\n",
            "18000\n",
            "19000\n",
            "20000\n",
            "21000\n",
            "22000\n",
            "23000\n",
            "24000\n",
            "25000\n"
          ]
        }
      ]
    },
    {
      "cell_type": "code",
      "source": [
        "for comm1, comm2 in zip(comments_proper[500:600], comments_proper_contractions[500:600]):\n",
        "  if comm1 != comm2:\n",
        "    print(comm1)\n",
        "    print(comm2)\n",
        "    print('\\n')"
      ],
      "metadata": {
        "colab": {
          "base_uri": "https://localhost:8080/"
        },
        "id": "OM9JKtfFwrrq",
        "outputId": "e4cddb21-b5da-48d9-bd4d-6dcae98a20b0"
      },
      "execution_count": 61,
      "outputs": [
        {
          "output_type": "stream",
          "name": "stdout",
          "text": [
            "definately on the easy end of cal classes lets you make a cheat sheet for every test and you can cram anything you want into one side of a full sheet of paper you can use every previous one plus and extra one on the final if you do any homework you can do her tests\n",
            "definately on the easy end of cal classes let us you make a cheat sheet for every test and you can cram anything you want into one side of a full sheet of paper you can use every previous one plus and extra one on the final if you do any homework you can do her tests\n",
            "\n",
            "\n",
            "the sweets old man ever he lets you resubmit assignments you get low grades on if you attend class and pay attention you should have no problem passing his quizzes he gives alot of them but you have to be willing to put in work it is not a easy a\n",
            "the sweets old man ever he let us you resubmit assignments you get low grades on if you attend class and pay attention you should have no problem passing his quizzes he gives alot of them but you have to be willing to put in work it is not a easy a\n",
            "\n",
            "\n",
            "dont bother raising your hand for a question he will make you feel like crap study the study guides for the tests entire class is based on tests very hard to understand he knows it so well that he expects you to know it too make sure you have a finance calc very hard prof and not clear\n",
            "do not bother raising your hand for a question he will make you feel like crap study the study guides for the tests entire class is based on tests very hard to understand he knows it so well that he expects you to know it too make sure you have a finance calc very hard prof and not clear\n",
            "\n",
            "\n",
            "she was pretty good i took cas d online so i didnt have much interaction with her but she gave good direction and stuck to her schedule its a fairly easy class as long as you stay up on the work\n",
            "she was pretty good i took cas d online so i did not have much interaction with her but she gave good direction and stuck to her schedule its a fairly easy class as long as you stay up on the work\n",
            "\n",
            "\n",
            "dis kumu will not let u disrespect the language so come to class and do your work best kumu ever we was always just kickin in before and after class she got passion heart and will give you so you bettah do the same love her\n",
            "dis kumu will not let you disrespect the language so come to class and do your work best kumu ever we was always just kickin in before and after class she got passion heart and will give you so you bettah do the same love her\n",
            "\n",
            "\n",
            "she is not a bad teacher in fact she is a pretty good teacher in person however she does not respond to emails she is very funny and seems to be a genuinely nice person if you need to communicate with her do not email her she gives you her phone number so you have enough contact info just do your stuff and know your stuff you will be fine\n",
            "she has not a bad teacher in fact she is a pretty good teacher in person however she does not respond to emails she is very funny and seems to be a genuinely nice person if you need to communicate with her do not email her she gives you her phone number so you have enough contact info just do your stuff and know your stuff you will be fine\n",
            "\n",
            "\n",
            "i had her for dance aerobics lets just say this she is intense she is super in shape and hardcore about it she is nice and fun but you have to want to exercise to stand this class you do anything from yoga to dancing to circuit training it is intense be prepared to sweat but she is a sweet lady\n",
            "i had her for dance aerobics let us just say this she is intense she is super in shape and hardcore about it she is nice and fun but you have to want to exercise to stand this class you do anything from yoga to dancing to circuit training it is intense be prepared to sweat but she is a sweet lady\n",
            "\n",
            "\n",
            "this professor is a great teacher she is very helpful and welcome to all questions and repeating any material walks u through step by step only one word of advise do not miss any tests if u do u have to let her know ahead of time and if u dont then u better have had an emergency or else u ll get a zero for that test i absolutely recommend he\n",
            "this professor is a great teacher she is very helpful and welcome to all questions and repeating any material walks you through step by step only one word of advise do not miss any tests if you do you have to let her know ahead of time and if you do not then you better have had an emergency or else you will get a zero for that test i absolutely recommend he\n",
            "\n",
            "\n",
            "her class is borin u have to b in class on time cuz she take attendance right at the hour i had her for african films u need to read what she tells u n take notes of the movies then u should b fine\n",
            "her class is borin you have to b in class on time cuz she take attendance right at the hour i had her for african films you need to read what she tells you n take notes of the movies then you should b fine\n",
            "\n",
            "\n"
          ]
        }
      ]
    }
  ]
}