{
  "nbformat": 4,
  "nbformat_minor": 0,
  "metadata": {
    "colab": {
      "name": "RMP Exploratory Data Analysis",
      "provenance": [],
      "collapsed_sections": [],
      "toc_visible": true
    },
    "kernelspec": {
      "name": "python3",
      "display_name": "Python 3"
    },
    "language_info": {
      "name": "python"
    }
  },
  "cells": [
    {
      "cell_type": "code",
      "execution_count": 124,
      "metadata": {
        "id": "Ok3OZuziyMsp"
      },
      "outputs": [],
      "source": [
        "import pandas as pd\n",
        "import numpy as np\n",
        "import seaborn as sns\n",
        "import time\n",
        "import regex"
      ]
    },
    {
      "cell_type": "code",
      "source": [
        "from google.colab import drive\n",
        "drive.mount('/content/drive')"
      ],
      "metadata": {
        "id": "AHwFDrWe6YhE",
        "colab": {
          "base_uri": "https://localhost:8080/"
        },
        "outputId": "4d1cbfa6-cce6-431b-af49-8be41bec8104"
      },
      "execution_count": 125,
      "outputs": [
        {
          "output_type": "stream",
          "name": "stdout",
          "text": [
            "Drive already mounted at /content/drive; to attempt to forcibly remount, call drive.mount(\"/content/drive\", force_remount=True).\n"
          ]
        }
      ]
    },
    {
      "cell_type": "code",
      "source": [
        "df = pd.read_csv('/content/drive/MyDrive/RMP/scraped_comments.csv')"
      ],
      "metadata": {
        "id": "VcDD9Y8cymfk"
      },
      "execution_count": 126,
      "outputs": []
    },
    {
      "cell_type": "code",
      "source": [
        "pd.options.display.max_colwidth = 100"
      ],
      "metadata": {
        "id": "Z9kWgALh5vqr"
      },
      "execution_count": 127,
      "outputs": []
    },
    {
      "cell_type": "code",
      "source": [
        "df.head(5)"
      ],
      "metadata": {
        "colab": {
          "base_uri": "https://localhost:8080/",
          "height": 826
        },
        "id": "SBGpys8V7tmz",
        "outputId": "3e71fe45-976d-4309-d53b-49d330dd89ef"
      },
      "execution_count": 128,
      "outputs": [
        {
          "output_type": "execute_result",
          "data": {
            "text/plain": [
              "             comment_id firstName lastName   prof_class  \\\n",
              "0  UmF0aW5nLTIyODAzODMy     Marty    Beans   FINITEMATH   \n",
              "1  UmF0aW5nLTE5NjU2ODY4     Marty    Beans       MTH106   \n",
              "2  UmF0aW5nLTEyMTIwMDcz     Marty    Beans   MATHSUMFIN   \n",
              "3  UmF0aW5nLTExMTc4MTMx     Marty    Beans  DEVELOPMATH   \n",
              "4  UmF0aW5nLTEwMTkzMTcx     Marty    Beans      MATH100   \n",
              "\n",
              "                                                                                               comment  \\\n",
              "0  Very nice and understanding. A lot of homework but she only grades two problems from it and thei...   \n",
              "1  She is very helpful. Gives EC if you go to tutoring. Poor office hours, but willing to help afte...   \n",
              "2                                                                           she was nice. good job her   \n",
              "3  Professor Beans is one of the best Math teachers you will have. This is coming from someone who ...   \n",
              "4  Big smile. Big goals. Nice lady. Bright and cheery.  Sweet. Helpful. Loving.  Addicted to Math, ...   \n",
              "\n",
              "  ratingTags                           date attendanceMandatory grade  \\\n",
              "0        NaN  2014-01-29 16:17:28 +0000 UTC                   Y     B   \n",
              "1        NaN  2012-01-03 02:19:53 +0000 UTC                 NaN   NaN   \n",
              "2        NaN  2006-07-31 20:31:38 +0000 UTC                 NaN   NaN   \n",
              "3        NaN  2005-12-15 23:07:38 +0000 UTC                 NaN   NaN   \n",
              "4        NaN  2005-08-31 21:17:16 +0000 UTC                   N    A-   \n",
              "\n",
              "   clarityRating  difficultyRating  helpfulRating  textbookUse  \\\n",
              "0              4                 3              4          5.0   \n",
              "1              4                 2              4          5.0   \n",
              "2              4                 4              5          NaN   \n",
              "3              5                 1              5          NaN   \n",
              "4              5                 1              5          NaN   \n",
              "\n",
              "   thumbsDownTotal  thumbsUpTotal  wouldTakeAgain  \n",
              "0                0              0             NaN  \n",
              "1                0              0             NaN  \n",
              "2                0              0             NaN  \n",
              "3                0              0             NaN  \n",
              "4                0              0             NaN  "
            ],
            "text/html": [
              "\n",
              "  <div id=\"df-5b11d1a4-9556-4d5e-bbc9-18a95d1dae35\">\n",
              "    <div class=\"colab-df-container\">\n",
              "      <div>\n",
              "<style scoped>\n",
              "    .dataframe tbody tr th:only-of-type {\n",
              "        vertical-align: middle;\n",
              "    }\n",
              "\n",
              "    .dataframe tbody tr th {\n",
              "        vertical-align: top;\n",
              "    }\n",
              "\n",
              "    .dataframe thead th {\n",
              "        text-align: right;\n",
              "    }\n",
              "</style>\n",
              "<table border=\"1\" class=\"dataframe\">\n",
              "  <thead>\n",
              "    <tr style=\"text-align: right;\">\n",
              "      <th></th>\n",
              "      <th>comment_id</th>\n",
              "      <th>firstName</th>\n",
              "      <th>lastName</th>\n",
              "      <th>prof_class</th>\n",
              "      <th>comment</th>\n",
              "      <th>ratingTags</th>\n",
              "      <th>date</th>\n",
              "      <th>attendanceMandatory</th>\n",
              "      <th>grade</th>\n",
              "      <th>clarityRating</th>\n",
              "      <th>difficultyRating</th>\n",
              "      <th>helpfulRating</th>\n",
              "      <th>textbookUse</th>\n",
              "      <th>thumbsDownTotal</th>\n",
              "      <th>thumbsUpTotal</th>\n",
              "      <th>wouldTakeAgain</th>\n",
              "    </tr>\n",
              "  </thead>\n",
              "  <tbody>\n",
              "    <tr>\n",
              "      <th>0</th>\n",
              "      <td>UmF0aW5nLTIyODAzODMy</td>\n",
              "      <td>Marty</td>\n",
              "      <td>Beans</td>\n",
              "      <td>FINITEMATH</td>\n",
              "      <td>Very nice and understanding. A lot of homework but she only grades two problems from it and thei...</td>\n",
              "      <td>NaN</td>\n",
              "      <td>2014-01-29 16:17:28 +0000 UTC</td>\n",
              "      <td>Y</td>\n",
              "      <td>B</td>\n",
              "      <td>4</td>\n",
              "      <td>3</td>\n",
              "      <td>4</td>\n",
              "      <td>5.0</td>\n",
              "      <td>0</td>\n",
              "      <td>0</td>\n",
              "      <td>NaN</td>\n",
              "    </tr>\n",
              "    <tr>\n",
              "      <th>1</th>\n",
              "      <td>UmF0aW5nLTE5NjU2ODY4</td>\n",
              "      <td>Marty</td>\n",
              "      <td>Beans</td>\n",
              "      <td>MTH106</td>\n",
              "      <td>She is very helpful. Gives EC if you go to tutoring. Poor office hours, but willing to help afte...</td>\n",
              "      <td>NaN</td>\n",
              "      <td>2012-01-03 02:19:53 +0000 UTC</td>\n",
              "      <td>NaN</td>\n",
              "      <td>NaN</td>\n",
              "      <td>4</td>\n",
              "      <td>2</td>\n",
              "      <td>4</td>\n",
              "      <td>5.0</td>\n",
              "      <td>0</td>\n",
              "      <td>0</td>\n",
              "      <td>NaN</td>\n",
              "    </tr>\n",
              "    <tr>\n",
              "      <th>2</th>\n",
              "      <td>UmF0aW5nLTEyMTIwMDcz</td>\n",
              "      <td>Marty</td>\n",
              "      <td>Beans</td>\n",
              "      <td>MATHSUMFIN</td>\n",
              "      <td>she was nice. good job her</td>\n",
              "      <td>NaN</td>\n",
              "      <td>2006-07-31 20:31:38 +0000 UTC</td>\n",
              "      <td>NaN</td>\n",
              "      <td>NaN</td>\n",
              "      <td>4</td>\n",
              "      <td>4</td>\n",
              "      <td>5</td>\n",
              "      <td>NaN</td>\n",
              "      <td>0</td>\n",
              "      <td>0</td>\n",
              "      <td>NaN</td>\n",
              "    </tr>\n",
              "    <tr>\n",
              "      <th>3</th>\n",
              "      <td>UmF0aW5nLTExMTc4MTMx</td>\n",
              "      <td>Marty</td>\n",
              "      <td>Beans</td>\n",
              "      <td>DEVELOPMATH</td>\n",
              "      <td>Professor Beans is one of the best Math teachers you will have. This is coming from someone who ...</td>\n",
              "      <td>NaN</td>\n",
              "      <td>2005-12-15 23:07:38 +0000 UTC</td>\n",
              "      <td>NaN</td>\n",
              "      <td>NaN</td>\n",
              "      <td>5</td>\n",
              "      <td>1</td>\n",
              "      <td>5</td>\n",
              "      <td>NaN</td>\n",
              "      <td>0</td>\n",
              "      <td>0</td>\n",
              "      <td>NaN</td>\n",
              "    </tr>\n",
              "    <tr>\n",
              "      <th>4</th>\n",
              "      <td>UmF0aW5nLTEwMTkzMTcx</td>\n",
              "      <td>Marty</td>\n",
              "      <td>Beans</td>\n",
              "      <td>MATH100</td>\n",
              "      <td>Big smile. Big goals. Nice lady. Bright and cheery.  Sweet. Helpful. Loving.  Addicted to Math, ...</td>\n",
              "      <td>NaN</td>\n",
              "      <td>2005-08-31 21:17:16 +0000 UTC</td>\n",
              "      <td>N</td>\n",
              "      <td>A-</td>\n",
              "      <td>5</td>\n",
              "      <td>1</td>\n",
              "      <td>5</td>\n",
              "      <td>NaN</td>\n",
              "      <td>0</td>\n",
              "      <td>0</td>\n",
              "      <td>NaN</td>\n",
              "    </tr>\n",
              "  </tbody>\n",
              "</table>\n",
              "</div>\n",
              "      <button class=\"colab-df-convert\" onclick=\"convertToInteractive('df-5b11d1a4-9556-4d5e-bbc9-18a95d1dae35')\"\n",
              "              title=\"Convert this dataframe to an interactive table.\"\n",
              "              style=\"display:none;\">\n",
              "        \n",
              "  <svg xmlns=\"http://www.w3.org/2000/svg\" height=\"24px\"viewBox=\"0 0 24 24\"\n",
              "       width=\"24px\">\n",
              "    <path d=\"M0 0h24v24H0V0z\" fill=\"none\"/>\n",
              "    <path d=\"M18.56 5.44l.94 2.06.94-2.06 2.06-.94-2.06-.94-.94-2.06-.94 2.06-2.06.94zm-11 1L8.5 8.5l.94-2.06 2.06-.94-2.06-.94L8.5 2.5l-.94 2.06-2.06.94zm10 10l.94 2.06.94-2.06 2.06-.94-2.06-.94-.94-2.06-.94 2.06-2.06.94z\"/><path d=\"M17.41 7.96l-1.37-1.37c-.4-.4-.92-.59-1.43-.59-.52 0-1.04.2-1.43.59L10.3 9.45l-7.72 7.72c-.78.78-.78 2.05 0 2.83L4 21.41c.39.39.9.59 1.41.59.51 0 1.02-.2 1.41-.59l7.78-7.78 2.81-2.81c.8-.78.8-2.07 0-2.86zM5.41 20L4 18.59l7.72-7.72 1.47 1.35L5.41 20z\"/>\n",
              "  </svg>\n",
              "      </button>\n",
              "      \n",
              "  <style>\n",
              "    .colab-df-container {\n",
              "      display:flex;\n",
              "      flex-wrap:wrap;\n",
              "      gap: 12px;\n",
              "    }\n",
              "\n",
              "    .colab-df-convert {\n",
              "      background-color: #E8F0FE;\n",
              "      border: none;\n",
              "      border-radius: 50%;\n",
              "      cursor: pointer;\n",
              "      display: none;\n",
              "      fill: #1967D2;\n",
              "      height: 32px;\n",
              "      padding: 0 0 0 0;\n",
              "      width: 32px;\n",
              "    }\n",
              "\n",
              "    .colab-df-convert:hover {\n",
              "      background-color: #E2EBFA;\n",
              "      box-shadow: 0px 1px 2px rgba(60, 64, 67, 0.3), 0px 1px 3px 1px rgba(60, 64, 67, 0.15);\n",
              "      fill: #174EA6;\n",
              "    }\n",
              "\n",
              "    [theme=dark] .colab-df-convert {\n",
              "      background-color: #3B4455;\n",
              "      fill: #D2E3FC;\n",
              "    }\n",
              "\n",
              "    [theme=dark] .colab-df-convert:hover {\n",
              "      background-color: #434B5C;\n",
              "      box-shadow: 0px 1px 3px 1px rgba(0, 0, 0, 0.15);\n",
              "      filter: drop-shadow(0px 1px 2px rgba(0, 0, 0, 0.3));\n",
              "      fill: #FFFFFF;\n",
              "    }\n",
              "  </style>\n",
              "\n",
              "      <script>\n",
              "        const buttonEl =\n",
              "          document.querySelector('#df-5b11d1a4-9556-4d5e-bbc9-18a95d1dae35 button.colab-df-convert');\n",
              "        buttonEl.style.display =\n",
              "          google.colab.kernel.accessAllowed ? 'block' : 'none';\n",
              "\n",
              "        async function convertToInteractive(key) {\n",
              "          const element = document.querySelector('#df-5b11d1a4-9556-4d5e-bbc9-18a95d1dae35');\n",
              "          const dataTable =\n",
              "            await google.colab.kernel.invokeFunction('convertToInteractive',\n",
              "                                                     [key], {});\n",
              "          if (!dataTable) return;\n",
              "\n",
              "          const docLinkHtml = 'Like what you see? Visit the ' +\n",
              "            '<a target=\"_blank\" href=https://colab.research.google.com/notebooks/data_table.ipynb>data table notebook</a>'\n",
              "            + ' to learn more about interactive tables.';\n",
              "          element.innerHTML = '';\n",
              "          dataTable['output_type'] = 'display_data';\n",
              "          await google.colab.output.renderOutput(dataTable, element);\n",
              "          const docLink = document.createElement('div');\n",
              "          docLink.innerHTML = docLinkHtml;\n",
              "          element.appendChild(docLink);\n",
              "        }\n",
              "      </script>\n",
              "    </div>\n",
              "  </div>\n",
              "  "
            ]
          },
          "metadata": {},
          "execution_count": 128
        }
      ]
    },
    {
      "cell_type": "markdown",
      "source": [
        "# Duplicates\n",
        "Handling duplicates, made possible because of the unique comment_ids RMP provides.\n",
        "\n",
        "There weren't many duplicates anyway, but it's still helpful to remove them."
      ],
      "metadata": {
        "id": "X6nLcXwVBxMG"
      }
    },
    {
      "cell_type": "code",
      "source": [
        "print(df.shape)\n",
        "df['comment_id'].value_counts() # Mistakes with scraping that led to duplicates"
      ],
      "metadata": {
        "colab": {
          "base_uri": "https://localhost:8080/"
        },
        "id": "00PzNhya8ULZ",
        "outputId": "c55451c6-53d5-4a3c-b233-b0f13f7b7bef"
      },
      "execution_count": 129,
      "outputs": [
        {
          "output_type": "stream",
          "name": "stdout",
          "text": [
            "(4121664, 16)\n"
          ]
        },
        {
          "output_type": "execute_result",
          "data": {
            "text/plain": [
              "UmF0aW5nLTMxOTczNDg=    2\n",
              "UmF0aW5nLTExNTY0NzQ4    2\n",
              "UmF0aW5nLTMxNjU1MTc0    2\n",
              "UmF0aW5nLTEwOTYyODIz    2\n",
              "UmF0aW5nLTM3OTkwNzk=    2\n",
              "                       ..\n",
              "UmF0aW5nLTIzMjgwMjQx    1\n",
              "UmF0aW5nLTEyMDYwMzQ4    1\n",
              "UmF0aW5nLTM2OTY4NTA=    1\n",
              "UmF0aW5nLTI2MjI2MzYw    1\n",
              "UmF0aW5nLTQxNTc5Ng==    1\n",
              "Name: comment_id, Length: 4121613, dtype: int64"
            ]
          },
          "metadata": {},
          "execution_count": 129
        }
      ]
    },
    {
      "cell_type": "code",
      "source": [
        "# Dropping duplicates\n",
        "print(\"Size before dropping duplicates:\", df.shape)\n",
        "df.drop_duplicates(subset=['comment_id'], inplace=True)\n",
        "print(\"Size after dropping duplicates:\", df.shape)\n",
        "df['comment_id'].value_counts()"
      ],
      "metadata": {
        "colab": {
          "base_uri": "https://localhost:8080/"
        },
        "id": "ZPnHWTCc9be5",
        "outputId": "6fe91c48-200d-4bcc-a940-02c6b8a28311"
      },
      "execution_count": 130,
      "outputs": [
        {
          "output_type": "stream",
          "name": "stdout",
          "text": [
            "Size before dropping duplicates: (4121664, 16)\n",
            "Size after dropping duplicates: (4121613, 16)\n"
          ]
        },
        {
          "output_type": "execute_result",
          "data": {
            "text/plain": [
              "UmF0aW5nLTIyODAzODMy    1\n",
              "UmF0aW5nLTIwNzgxOTI4    1\n",
              "UmF0aW5nLTIzNTYzMDky    1\n",
              "UmF0aW5nLTIzNDk5MzY1    1\n",
              "UmF0aW5nLTIzMzYxNTA3    1\n",
              "                       ..\n",
              "UmF0aW5nLTMwMzQ5NzU=    1\n",
              "UmF0aW5nLTE2MDUwNzM1    1\n",
              "UmF0aW5nLTE1NDQ5ODM2    1\n",
              "UmF0aW5nLTE3NzcwODQ=    1\n",
              "UmF0aW5nLTQxNTc5Ng==    1\n",
              "Name: comment_id, Length: 4121613, dtype: int64"
            ]
          },
          "metadata": {},
          "execution_count": 130
        }
      ]
    },
    {
      "cell_type": "markdown",
      "source": [
        "# Clarity Ratings\n",
        "The metrics students use to rate a professor. In the past, could give floating point ratings but upon scraping only ints were gathered."
      ],
      "metadata": {
        "id": "fgWpLdyiCEAO"
      }
    },
    {
      "cell_type": "code",
      "source": [
        "print(\"Number of null ratings:\", df['clarityRating'].isna().sum()) # No missing ratings\n",
        "df['clarityRating'].value_counts()"
      ],
      "metadata": {
        "colab": {
          "base_uri": "https://localhost:8080/"
        },
        "id": "M6ZGdFJ8-bu1",
        "outputId": "8c172493-f733-4734-8b41-b7d4e6d7c1c8"
      },
      "execution_count": 131,
      "outputs": [
        {
          "output_type": "stream",
          "name": "stdout",
          "text": [
            "Number of null ratings: 0\n"
          ]
        },
        {
          "output_type": "execute_result",
          "data": {
            "text/plain": [
              " 5    1686243\n",
              " 4     835475\n",
              " 1     639677\n",
              " 3     508522\n",
              " 2     451695\n",
              "-1          1\n",
              "Name: clarityRating, dtype: int64"
            ]
          },
          "metadata": {},
          "execution_count": 131
        }
      ]
    },
    {
      "cell_type": "code",
      "source": [
        "df = df[df['clarityRating'] != -1]\n",
        "df['clarityRating'].value_counts()"
      ],
      "metadata": {
        "colab": {
          "base_uri": "https://localhost:8080/"
        },
        "id": "soJP8bOSDHW2",
        "outputId": "8b1c1248-5fbc-4edb-bb6a-e7b9b0a67662"
      },
      "execution_count": 132,
      "outputs": [
        {
          "output_type": "execute_result",
          "data": {
            "text/plain": [
              "5    1686243\n",
              "4     835475\n",
              "1     639677\n",
              "3     508522\n",
              "2     451695\n",
              "Name: clarityRating, dtype: int64"
            ]
          },
          "metadata": {},
          "execution_count": 132
        }
      ]
    },
    {
      "cell_type": "markdown",
      "source": [
        "# Null values\n",
        "Not only can a comment be empty, but sometimes RMP labels empty comments with \"No comments\". We consider both to be null values that are dropped from the dataset"
      ],
      "metadata": {
        "id": "8lRdMZYcCRUk"
      }
    },
    {
      "cell_type": "code",
      "source": [
        "print(\"Rows with empty comments:\", df['comment'].isna().sum()) # Empty comments exist\n",
        "print(\"Rows named \\'No Comments\\':\", (df['comment'] == 'No Comments').sum())"
      ],
      "metadata": {
        "colab": {
          "base_uri": "https://localhost:8080/"
        },
        "id": "EHy0tXOZ_ivn",
        "outputId": "a7814aab-ad9f-4886-e481-1729571d5b5d"
      },
      "execution_count": 133,
      "outputs": [
        {
          "output_type": "stream",
          "name": "stdout",
          "text": [
            "Rows with empty comments: 7310\n",
            "Rows named 'No Comments': 184430\n"
          ]
        }
      ]
    },
    {
      "cell_type": "code",
      "source": [
        "df.dropna(subset=['comment'], inplace=True)\n",
        "df = df[df['comment'] != 'No Comments']"
      ],
      "metadata": {
        "id": "4xwSU2c8AjBL"
      },
      "execution_count": 134,
      "outputs": []
    },
    {
      "cell_type": "code",
      "source": [
        "print(\"Rows with empty comments:\", df['comment'].isna().sum())\n",
        "print(\"Rows named \\'No Comments\\':\", (df['comment'] == 'No Comments').sum())"
      ],
      "metadata": {
        "colab": {
          "base_uri": "https://localhost:8080/"
        },
        "id": "TT3Bm6RbC82S",
        "outputId": "b8a0b93b-0529-45d6-8dde-529449fcbd3e"
      },
      "execution_count": 135,
      "outputs": [
        {
          "output_type": "stream",
          "name": "stdout",
          "text": [
            "Rows with empty comments: 0\n",
            "Rows named 'No Comments': 0\n"
          ]
        }
      ]
    },
    {
      "cell_type": "code",
      "source": [
        "df.reset_index(drop=True, inplace=True)"
      ],
      "metadata": {
        "id": "abpGJF-ENS3K"
      },
      "execution_count": 136,
      "outputs": []
    },
    {
      "cell_type": "markdown",
      "source": [
        "# Swear words\n",
        "We might want to get a count for how often these appear, or their word counts in the entire population\n",
        "\n",
        "What might be interesting as well is viewing how these words coincide with the rating of the review"
      ],
      "metadata": {
        "id": "qgCiOSUWJFNj"
      }
    },
    {
      "cell_type": "code",
      "source": [
        "\n",
        "df_swear_comments = df[df['comment'].str.contains(\"(fuck|shit|asshole|dick|penis|cock|vagina|pussy|cunt|retard|bitch|slut|whore)\")]\n",
        "df_swear_comments.reset_index(drop=True, inplace=True)\n",
        "print(df_swear_comments.shape)"
      ],
      "metadata": {
        "colab": {
          "base_uri": "https://localhost:8080/"
        },
        "id": "dki_DHSiNW_Z",
        "outputId": "6917b63b-990c-49e3-8bd2-62cd03ee6d55"
      },
      "execution_count": 137,
      "outputs": [
        {
          "output_type": "stream",
          "name": "stderr",
          "text": [
            "/usr/local/lib/python3.7/dist-packages/ipykernel_launcher.py:2: UserWarning: This pattern has match groups. To actually get the groups, use str.extract.\n",
            "  \n"
          ]
        },
        {
          "output_type": "stream",
          "name": "stdout",
          "text": [
            "(6371, 16)\n"
          ]
        }
      ]
    },
    {
      "cell_type": "code",
      "source": [
        "df_swear_comments.iloc[15:20]"
      ],
      "metadata": {
        "colab": {
          "base_uri": "https://localhost:8080/",
          "height": 947
        },
        "id": "IJnDSTrSQl6i",
        "outputId": "ef8a8839-4766-47df-e087-689e22516361"
      },
      "execution_count": 138,
      "outputs": [
        {
          "output_type": "execute_result",
          "data": {
            "text/plain": [
              "              comment_id firstName lastName prof_class  \\\n",
              "15  UmF0aW5nLTEwNTY4MTY1      Barb  Stengel    EDFN111   \n",
              "16  UmF0aW5nLTM0NjM2ODY=      Barb  Stengel    EDFN211   \n",
              "17  UmF0aW5nLTEyMzg3ODA3    Joseph   Caspar     MAT110   \n",
              "18  UmF0aW5nLTExNjQyMTc4      John      Kim    COMPLIT   \n",
              "19  UmF0aW5nLTEwOTU0MDA4    Bessma   Momani    HIST130   \n",
              "\n",
              "                                                                                                comment  \\\n",
              "15                                      she's insane.\\r\\n better than the other retards over at stayer.   \n",
              "16                                        Excellent, ten times better than all the other Stayer retards   \n",
              "17  U know the scene from Saw where the guy cuts out his own eye&#63; It's kinda like that. If you g...   \n",
              "18  This guy is pretty cocky, but his intelligence is the key to getting a good grade! I did not buy...   \n",
              "19  I had her last year. She was a great prof. Funny, good lectures, puts notes on reserve at librar...   \n",
              "\n",
              "   ratingTags                           date attendanceMandatory grade  \\\n",
              "15        NaN  2005-10-09 13:42:34 +0000 UTC                 NaN   NaN   \n",
              "16        NaN  2005-03-16 14:10:04 +0000 UTC                 NaN   NaN   \n",
              "17        NaN  2006-11-09 15:10:56 +0000 UTC                 NaN   NaN   \n",
              "18        NaN  2006-04-01 02:58:02 +0000 UTC                 NaN   NaN   \n",
              "19        NaN  2005-11-19 16:08:46 +0000 UTC                   Y  Fail   \n",
              "\n",
              "    clarityRating  difficultyRating  helpfulRating  textbookUse  \\\n",
              "15              4                 1              5          NaN   \n",
              "16              5                 1              5          NaN   \n",
              "17              1                 5              1          5.0   \n",
              "18              5                 1              3          NaN   \n",
              "19              5                 2              5          NaN   \n",
              "\n",
              "    thumbsDownTotal  thumbsUpTotal  wouldTakeAgain  \n",
              "15                0              0             NaN  \n",
              "16                0              0             NaN  \n",
              "17                0              0             NaN  \n",
              "18                0              0             NaN  \n",
              "19                0              0             NaN  "
            ],
            "text/html": [
              "\n",
              "  <div id=\"df-06d9689c-8cc7-4a59-b161-318047acc144\">\n",
              "    <div class=\"colab-df-container\">\n",
              "      <div>\n",
              "<style scoped>\n",
              "    .dataframe tbody tr th:only-of-type {\n",
              "        vertical-align: middle;\n",
              "    }\n",
              "\n",
              "    .dataframe tbody tr th {\n",
              "        vertical-align: top;\n",
              "    }\n",
              "\n",
              "    .dataframe thead th {\n",
              "        text-align: right;\n",
              "    }\n",
              "</style>\n",
              "<table border=\"1\" class=\"dataframe\">\n",
              "  <thead>\n",
              "    <tr style=\"text-align: right;\">\n",
              "      <th></th>\n",
              "      <th>comment_id</th>\n",
              "      <th>firstName</th>\n",
              "      <th>lastName</th>\n",
              "      <th>prof_class</th>\n",
              "      <th>comment</th>\n",
              "      <th>ratingTags</th>\n",
              "      <th>date</th>\n",
              "      <th>attendanceMandatory</th>\n",
              "      <th>grade</th>\n",
              "      <th>clarityRating</th>\n",
              "      <th>difficultyRating</th>\n",
              "      <th>helpfulRating</th>\n",
              "      <th>textbookUse</th>\n",
              "      <th>thumbsDownTotal</th>\n",
              "      <th>thumbsUpTotal</th>\n",
              "      <th>wouldTakeAgain</th>\n",
              "    </tr>\n",
              "  </thead>\n",
              "  <tbody>\n",
              "    <tr>\n",
              "      <th>15</th>\n",
              "      <td>UmF0aW5nLTEwNTY4MTY1</td>\n",
              "      <td>Barb</td>\n",
              "      <td>Stengel</td>\n",
              "      <td>EDFN111</td>\n",
              "      <td>she's insane.\\r\\n better than the other retards over at stayer.</td>\n",
              "      <td>NaN</td>\n",
              "      <td>2005-10-09 13:42:34 +0000 UTC</td>\n",
              "      <td>NaN</td>\n",
              "      <td>NaN</td>\n",
              "      <td>4</td>\n",
              "      <td>1</td>\n",
              "      <td>5</td>\n",
              "      <td>NaN</td>\n",
              "      <td>0</td>\n",
              "      <td>0</td>\n",
              "      <td>NaN</td>\n",
              "    </tr>\n",
              "    <tr>\n",
              "      <th>16</th>\n",
              "      <td>UmF0aW5nLTM0NjM2ODY=</td>\n",
              "      <td>Barb</td>\n",
              "      <td>Stengel</td>\n",
              "      <td>EDFN211</td>\n",
              "      <td>Excellent, ten times better than all the other Stayer retards</td>\n",
              "      <td>NaN</td>\n",
              "      <td>2005-03-16 14:10:04 +0000 UTC</td>\n",
              "      <td>NaN</td>\n",
              "      <td>NaN</td>\n",
              "      <td>5</td>\n",
              "      <td>1</td>\n",
              "      <td>5</td>\n",
              "      <td>NaN</td>\n",
              "      <td>0</td>\n",
              "      <td>0</td>\n",
              "      <td>NaN</td>\n",
              "    </tr>\n",
              "    <tr>\n",
              "      <th>17</th>\n",
              "      <td>UmF0aW5nLTEyMzg3ODA3</td>\n",
              "      <td>Joseph</td>\n",
              "      <td>Caspar</td>\n",
              "      <td>MAT110</td>\n",
              "      <td>U know the scene from Saw where the guy cuts out his own eye&amp;#63; It's kinda like that. If you g...</td>\n",
              "      <td>NaN</td>\n",
              "      <td>2006-11-09 15:10:56 +0000 UTC</td>\n",
              "      <td>NaN</td>\n",
              "      <td>NaN</td>\n",
              "      <td>1</td>\n",
              "      <td>5</td>\n",
              "      <td>1</td>\n",
              "      <td>5.0</td>\n",
              "      <td>0</td>\n",
              "      <td>0</td>\n",
              "      <td>NaN</td>\n",
              "    </tr>\n",
              "    <tr>\n",
              "      <th>18</th>\n",
              "      <td>UmF0aW5nLTExNjQyMTc4</td>\n",
              "      <td>John</td>\n",
              "      <td>Kim</td>\n",
              "      <td>COMPLIT</td>\n",
              "      <td>This guy is pretty cocky, but his intelligence is the key to getting a good grade! I did not buy...</td>\n",
              "      <td>NaN</td>\n",
              "      <td>2006-04-01 02:58:02 +0000 UTC</td>\n",
              "      <td>NaN</td>\n",
              "      <td>NaN</td>\n",
              "      <td>5</td>\n",
              "      <td>1</td>\n",
              "      <td>3</td>\n",
              "      <td>NaN</td>\n",
              "      <td>0</td>\n",
              "      <td>0</td>\n",
              "      <td>NaN</td>\n",
              "    </tr>\n",
              "    <tr>\n",
              "      <th>19</th>\n",
              "      <td>UmF0aW5nLTEwOTU0MDA4</td>\n",
              "      <td>Bessma</td>\n",
              "      <td>Momani</td>\n",
              "      <td>HIST130</td>\n",
              "      <td>I had her last year. She was a great prof. Funny, good lectures, puts notes on reserve at librar...</td>\n",
              "      <td>NaN</td>\n",
              "      <td>2005-11-19 16:08:46 +0000 UTC</td>\n",
              "      <td>Y</td>\n",
              "      <td>Fail</td>\n",
              "      <td>5</td>\n",
              "      <td>2</td>\n",
              "      <td>5</td>\n",
              "      <td>NaN</td>\n",
              "      <td>0</td>\n",
              "      <td>0</td>\n",
              "      <td>NaN</td>\n",
              "    </tr>\n",
              "  </tbody>\n",
              "</table>\n",
              "</div>\n",
              "      <button class=\"colab-df-convert\" onclick=\"convertToInteractive('df-06d9689c-8cc7-4a59-b161-318047acc144')\"\n",
              "              title=\"Convert this dataframe to an interactive table.\"\n",
              "              style=\"display:none;\">\n",
              "        \n",
              "  <svg xmlns=\"http://www.w3.org/2000/svg\" height=\"24px\"viewBox=\"0 0 24 24\"\n",
              "       width=\"24px\">\n",
              "    <path d=\"M0 0h24v24H0V0z\" fill=\"none\"/>\n",
              "    <path d=\"M18.56 5.44l.94 2.06.94-2.06 2.06-.94-2.06-.94-.94-2.06-.94 2.06-2.06.94zm-11 1L8.5 8.5l.94-2.06 2.06-.94-2.06-.94L8.5 2.5l-.94 2.06-2.06.94zm10 10l.94 2.06.94-2.06 2.06-.94-2.06-.94-.94-2.06-.94 2.06-2.06.94z\"/><path d=\"M17.41 7.96l-1.37-1.37c-.4-.4-.92-.59-1.43-.59-.52 0-1.04.2-1.43.59L10.3 9.45l-7.72 7.72c-.78.78-.78 2.05 0 2.83L4 21.41c.39.39.9.59 1.41.59.51 0 1.02-.2 1.41-.59l7.78-7.78 2.81-2.81c.8-.78.8-2.07 0-2.86zM5.41 20L4 18.59l7.72-7.72 1.47 1.35L5.41 20z\"/>\n",
              "  </svg>\n",
              "      </button>\n",
              "      \n",
              "  <style>\n",
              "    .colab-df-container {\n",
              "      display:flex;\n",
              "      flex-wrap:wrap;\n",
              "      gap: 12px;\n",
              "    }\n",
              "\n",
              "    .colab-df-convert {\n",
              "      background-color: #E8F0FE;\n",
              "      border: none;\n",
              "      border-radius: 50%;\n",
              "      cursor: pointer;\n",
              "      display: none;\n",
              "      fill: #1967D2;\n",
              "      height: 32px;\n",
              "      padding: 0 0 0 0;\n",
              "      width: 32px;\n",
              "    }\n",
              "\n",
              "    .colab-df-convert:hover {\n",
              "      background-color: #E2EBFA;\n",
              "      box-shadow: 0px 1px 2px rgba(60, 64, 67, 0.3), 0px 1px 3px 1px rgba(60, 64, 67, 0.15);\n",
              "      fill: #174EA6;\n",
              "    }\n",
              "\n",
              "    [theme=dark] .colab-df-convert {\n",
              "      background-color: #3B4455;\n",
              "      fill: #D2E3FC;\n",
              "    }\n",
              "\n",
              "    [theme=dark] .colab-df-convert:hover {\n",
              "      background-color: #434B5C;\n",
              "      box-shadow: 0px 1px 3px 1px rgba(0, 0, 0, 0.15);\n",
              "      filter: drop-shadow(0px 1px 2px rgba(0, 0, 0, 0.3));\n",
              "      fill: #FFFFFF;\n",
              "    }\n",
              "  </style>\n",
              "\n",
              "      <script>\n",
              "        const buttonEl =\n",
              "          document.querySelector('#df-06d9689c-8cc7-4a59-b161-318047acc144 button.colab-df-convert');\n",
              "        buttonEl.style.display =\n",
              "          google.colab.kernel.accessAllowed ? 'block' : 'none';\n",
              "\n",
              "        async function convertToInteractive(key) {\n",
              "          const element = document.querySelector('#df-06d9689c-8cc7-4a59-b161-318047acc144');\n",
              "          const dataTable =\n",
              "            await google.colab.kernel.invokeFunction('convertToInteractive',\n",
              "                                                     [key], {});\n",
              "          if (!dataTable) return;\n",
              "\n",
              "          const docLinkHtml = 'Like what you see? Visit the ' +\n",
              "            '<a target=\"_blank\" href=https://colab.research.google.com/notebooks/data_table.ipynb>data table notebook</a>'\n",
              "            + ' to learn more about interactive tables.';\n",
              "          element.innerHTML = '';\n",
              "          dataTable['output_type'] = 'display_data';\n",
              "          await google.colab.output.renderOutput(dataTable, element);\n",
              "          const docLink = document.createElement('div');\n",
              "          docLink.innerHTML = docLinkHtml;\n",
              "          element.appendChild(docLink);\n",
              "        }\n",
              "      </script>\n",
              "    </div>\n",
              "  </div>\n",
              "  "
            ]
          },
          "metadata": {},
          "execution_count": 138
        }
      ]
    },
    {
      "cell_type": "code",
      "source": [
        "list_of_comments_with_swears = list(df_swear_comments['comment'])\n",
        "for comment in list_of_comments_with_swears[15:20]:\n",
        "  print(comment + '\\n')"
      ],
      "metadata": {
        "colab": {
          "base_uri": "https://localhost:8080/"
        },
        "id": "cbftbhRePFTd",
        "outputId": "e2273647-c417-4a5e-d18d-4bb87d387cb0"
      },
      "execution_count": 139,
      "outputs": [
        {
          "output_type": "stream",
          "name": "stdout",
          "text": [
            "she's insane.\r\n",
            " better than the other retards over at stayer.\n",
            "\n",
            "Excellent, ten times better than all the other Stayer retards\n",
            "\n",
            "U know the scene from Saw where the guy cuts out his own eye&#63; It's kinda like that. If you get him...kill yourself. He's a living corpse who relies on ur stress for sustenance.  Every day he reminds the class they are basicly retarded, and yells at u if u don't understand the lesson.  If u can, kill someone so u can get their spot in another class.\n",
            "\n",
            "This guy is pretty cocky, but his intelligence is the key to getting a good grade! I did not buy any of the books he told us to.. I just went to every lecture and took notes on his reviews. I got a decent grade... As for future students, buy the books and read the assignments.. you have to finish them in like a week.. not much time, but for an A, y\n",
            "\n",
            "I had her last year. She was a great prof. Funny, good lectures, puts notes on reserve at library, and her test are good. If anyone doesn't like her i imagine she made fun of ur cocky or pretentious questions or statements, or you got a bad mark that was ur own fault. Plus she bell curves.\n",
            "\n"
          ]
        }
      ]
    },
    {
      "cell_type": "code",
      "source": [
        "df_swear_comments['clarityRating'].value_counts()"
      ],
      "metadata": {
        "colab": {
          "base_uri": "https://localhost:8080/"
        },
        "id": "aPxcZHLXJgX6",
        "outputId": "ebe8d428-846c-45e4-e0ef-1e196df6fa95"
      },
      "execution_count": 140,
      "outputs": [
        {
          "output_type": "execute_result",
          "data": {
            "text/plain": [
              "5    1695\n",
              "1    1658\n",
              "4    1077\n",
              "2     999\n",
              "3     942\n",
              "Name: clarityRating, dtype: int64"
            ]
          },
          "metadata": {},
          "execution_count": 140
        }
      ]
    },
    {
      "cell_type": "markdown",
      "source": [
        "# HTML-Entities\n",
        "In the reviews, sometimes characters are encoded in the format '&amp;quot;' or '&amp;#123;' (ironic that to properly show the raw representation I had to use an html-entitiy myself)\n",
        "\n",
        "These must be cleaned before tokenization or even more eda steps\n",
        "\n",
        "Using regex to check against entities from https://www.freeformatter.com/html-entities.html"
      ],
      "metadata": {
        "id": "25HGM2qX8e72"
      }
    },
    {
      "cell_type": "code",
      "source": [
        "entities_broad = df[df['comment'].str.contains('&[0-9a-zA-Z#]+;')]\n",
        "entities_broad.shape"
      ],
      "metadata": {
        "colab": {
          "base_uri": "https://localhost:8080/"
        },
        "id": "XMMFSABvCrZg",
        "outputId": "56c989ad-819b-42c6-cc24-652e859091ba"
      },
      "execution_count": 141,
      "outputs": [
        {
          "output_type": "execute_result",
          "data": {
            "text/plain": [
              "(180668, 16)"
            ]
          },
          "metadata": {},
          "execution_count": 141
        }
      ]
    },
    {
      "cell_type": "code",
      "source": [
        "df['comment'].replace('&([a-zA-z]+|#\\d+|[a-zA-Z0-9]{3,});', '', inplace=True, regex=True)\n",
        "df['comment'].replace('&#63;?', '', inplace=True, regex=True) # Specifically to deal with strange question mark remnants\n",
        "# df_html_entities = df[df['comment'].str.contains('&([a-zA-z]+|#\\d+);')]"
      ],
      "metadata": {
        "id": "i7ed4oPzKvV7"
      },
      "execution_count": 142,
      "outputs": []
    },
    {
      "cell_type": "code",
      "source": [
        "entities_broad = df[df['comment'].str.contains('&[0-9a-zA-Z#]+;')]\n",
        "entities_broad.shape"
      ],
      "metadata": {
        "colab": {
          "base_uri": "https://localhost:8080/"
        },
        "id": "blfOkpx0EcOv",
        "outputId": "536460c3-ea89-4449-a3f0-c333b43f0674"
      },
      "execution_count": 143,
      "outputs": [
        {
          "output_type": "execute_result",
          "data": {
            "text/plain": [
              "(1, 16)"
            ]
          },
          "metadata": {},
          "execution_count": 143
        }
      ]
    },
    {
      "cell_type": "code",
      "source": [
        "entities_broad.reset_index(inplace=True, drop=True)\n",
        "for comment in entities_broad['comment']:\n",
        "  print(comment)"
      ],
      "metadata": {
        "colab": {
          "base_uri": "https://localhost:8080/"
        },
        "id": "EU8_vw5kE895",
        "outputId": "310eafc7-140b-453c-d07c-e5003d94a24e"
      },
      "execution_count": 144,
      "outputs": [
        {
          "output_type": "stream",
          "name": "stdout",
          "text": [
            "Great teacher. His tests are easy if you study his notes.  The midterm isn't written by him, and the final is a nationally written exam that covers chem 1&2; so be prepared for those to drop your grade.\n"
          ]
        }
      ]
    },
    {
      "cell_type": "markdown",
      "source": [
        "# Links, Phone-Numbers, Email-Addresses"
      ],
      "metadata": {
        "id": "fNBLKOg94Vd1"
      }
    },
    {
      "cell_type": "code",
      "source": [
        "link_inds = df['comment'].str.contains('\\s*https?://\\S+(\\s+|$)')\n",
        "phone_inds = df['comment'].str.contains('^(\\+\\d{1,2}\\s)?\\(?\\d{3}\\)?[\\s.-]?\\d{3}[\\s.-]?\\d{4}$')\n",
        "email_inds = df['comment'].str.contains('[a-zA-Z0-9_.+-]+@[a-zA-Z0-9-]+\\.[a-zA-Z0-9-.]+')\n",
        "print(\"Number of links:\", df[link_inds].shape)\n",
        "print(\"Number of phone-numbers\", df[phone_inds].shape)\n",
        "print(\"Number of email-addresses\", df[email_inds].shape)"
      ],
      "metadata": {
        "colab": {
          "base_uri": "https://localhost:8080/"
        },
        "id": "owWEWZEU4ZhX",
        "outputId": "1786cf36-78a6-47f1-fd0d-9a526a5f5253"
      },
      "execution_count": 145,
      "outputs": [
        {
          "output_type": "stream",
          "name": "stderr",
          "text": [
            "/usr/local/lib/python3.7/dist-packages/ipykernel_launcher.py:1: UserWarning: This pattern has match groups. To actually get the groups, use str.extract.\n",
            "  \"\"\"Entry point for launching an IPython kernel.\n",
            "/usr/local/lib/python3.7/dist-packages/ipykernel_launcher.py:2: UserWarning: This pattern has match groups. To actually get the groups, use str.extract.\n",
            "  \n"
          ]
        },
        {
          "output_type": "stream",
          "name": "stdout",
          "text": [
            "Number of links: (156, 16)\n",
            "Number of phone-numbers (0, 16)\n",
            "Number of email-addresses (250, 16)\n"
          ]
        }
      ]
    },
    {
      "cell_type": "code",
      "source": [
        "df.loc[link_inds, 'comment']"
      ],
      "metadata": {
        "colab": {
          "base_uri": "https://localhost:8080/"
        },
        "id": "Ye8eTCxDDf-8",
        "outputId": "11a28a56-1f84-4eac-c51f-3bce5566d72c"
      },
      "execution_count": 146,
      "outputs": [
        {
          "output_type": "execute_result",
          "data": {
            "text/plain": [
              "1122       Needs to be treated for Narcissistic Personality Disorder.\\r\\n Symptoms include:\\r\\n -Disregard ...\n",
              "32136      Hated this class. It was so boring and his lectures in class do not even relate to the online te...\n",
              "34864      http://wps.prenhall.com/esm_audesirk_bloe_7/0,8753,1139971-,00.html - This website could outteac...\n",
              "37038      If you are taking the American Century course, beware! Its some kind of propaganda, since Corke ...\n",
              "57339      Please avoid at all costs. Take with Math Dept. The material of the course is not all that diffi...\n",
              "                                                          ...                                                 \n",
              "3911623    He's a very nice guy. Tells jokes. And he has a very useful web site                            ...\n",
              "3917853    I personally enjoyed this class. Yes, his lectures may be mono-toned and fast paced but he makes...\n",
              "3922972    Please see http://www.ratemyprofessors.com/ShowRatings.jsptid=55852 for Professor Ferrer's ratin...\n",
              "3929346    4 tests (40 ques.): lowest grade dropped (Fairly easy). 60% class 40% recitation. Don't buy the ...\n",
              "3929376    Easy and simple class.Nice guy.Funny too.Go to class since some questions on the test are not in...\n",
              "Name: comment, Length: 156, dtype: object"
            ]
          },
          "metadata": {},
          "execution_count": 146
        }
      ]
    },
    {
      "cell_type": "code",
      "source": [
        "# For some reason, using df.loc[link_inds, 'comment'] wouldn't replace\n",
        "df['comment'].replace(r'\\s*https?://\\S+(\\s+|$)', ' ', inplace = True, regex = True)\n",
        "df['comment'].replace('^(\\+\\d{1,2}\\s)?\\(?\\d{3}\\)?[\\s.-]?\\d{3}[\\s.-]?\\d{4}$', ' ', inplace = True, regex = True)\n",
        "df['comment'].replace('[a-zA-Z0-9_.+-]+@[a-zA-Z0-9-]+\\.[a-zA-Z0-9-.]+', ' ', inplace = True, regex = True)"
      ],
      "metadata": {
        "id": "rrgxXgjw-mwG"
      },
      "execution_count": 168,
      "outputs": []
    },
    {
      "cell_type": "code",
      "source": [
        "print(\"Number of links:\", df[link_inds]['comment'].str.contains('\\s*https?://\\S+(\\s+|$)').shape)\n",
        "print(\"Number of phone-numbers\", df[phone_inds]['comment'].str.contains('^(\\+\\d{1,2}\\s)?\\(?\\d{3}\\)?[\\s.-]?\\d{3}[\\s.-]?\\d{4}$').shape)\n",
        "print(\"Number of email-addresses\", df[email_inds]['comment'].str.contains('[a-zA-Z0-9_.+-]+@[a-zA-Z0-9-]+\\.[a-zA-Z0-9-.]+').shape)"
      ],
      "metadata": {
        "colab": {
          "base_uri": "https://localhost:8080/"
        },
        "id": "4iwIGW_gB0i0",
        "outputId": "7ef1f2f2-aeb7-4b86-b79c-a4669d42640a"
      },
      "execution_count": 171,
      "outputs": [
        {
          "output_type": "stream",
          "name": "stdout",
          "text": [
            "Number of links: (0,)\n",
            "Number of phone-numbers (0,)\n",
            "Number of email-addresses (0,)\n"
          ]
        },
        {
          "output_type": "stream",
          "name": "stderr",
          "text": [
            "/usr/local/lib/python3.7/dist-packages/ipykernel_launcher.py:1: UserWarning: This pattern has match groups. To actually get the groups, use str.extract.\n",
            "  \"\"\"Entry point for launching an IPython kernel.\n",
            "/usr/local/lib/python3.7/dist-packages/ipykernel_launcher.py:2: UserWarning: This pattern has match groups. To actually get the groups, use str.extract.\n",
            "  \n"
          ]
        }
      ]
    },
    {
      "cell_type": "markdown",
      "source": [
        "# Symbols\n",
        "Normally would just be cleaned, but because we're dealing with grades a lot percentages might be useful. "
      ],
      "metadata": {
        "id": "cPmwnIKmAPvI"
      }
    },
    {
      "cell_type": "code",
      "source": [
        "print(df.shape)\n",
        "df_symbol_comments = df[df['comment'].str.contains(\"[*#@%$=_&\\^/<>]+\")]\n",
        "print(df_symbol_comments.shape)"
      ],
      "metadata": {
        "colab": {
          "base_uri": "https://localhost:8080/"
        },
        "id": "D-gbJk-9IAcH",
        "outputId": "4623b28f-2e04-4483-bac7-7690826ab8e0"
      },
      "execution_count": 149,
      "outputs": [
        {
          "output_type": "stream",
          "name": "stdout",
          "text": [
            "(3929872, 16)\n",
            "(361930, 16)\n"
          ]
        }
      ]
    },
    {
      "cell_type": "markdown",
      "source": [
        "### Ampersand (&)\n",
        "Dealing with ampersands, which are very common as a substitute for \"and\"\n",
        "\n"
      ],
      "metadata": {
        "id": "j2yNFRDdPVPk"
      }
    },
    {
      "cell_type": "code",
      "source": [
        "# First, shrinking multiple occurences of & in a row -> single occurence\n",
        "df['comment'].replace('&+', '&', inplace=True, regex=True)"
      ],
      "metadata": {
        "id": "NyrtMlFzP4Ky"
      },
      "execution_count": 150,
      "outputs": []
    },
    {
      "cell_type": "code",
      "source": [
        "df_amp_easy_comments = df[df['comment'].str.contains(\" & \")][['comment']] # Easy case with the &'s, comments use it as substitute for 'and'\n",
        "df_amp_easy_comments.shape"
      ],
      "metadata": {
        "colab": {
          "base_uri": "https://localhost:8080/"
        },
        "id": "0s0F8ryI9fci",
        "outputId": "856ced82-3ee9-4a76-9f56-c9154189d63f"
      },
      "execution_count": 151,
      "outputs": [
        {
          "output_type": "execute_result",
          "data": {
            "text/plain": [
              "(87917, 1)"
            ]
          },
          "metadata": {},
          "execution_count": 151
        }
      ]
    },
    {
      "cell_type": "code",
      "source": [
        "amp_contexts = df_amp_easy_comments['comment'].str.extract(r'(?P<context>.{1,19} & .{1,19})')\n",
        "amp_contexts.reset_index(inplace=True, drop=True)"
      ],
      "metadata": {
        "id": "lKpU9WTo93pS"
      },
      "execution_count": 152,
      "outputs": []
    },
    {
      "cell_type": "code",
      "source": [
        "for context in amp_contexts.loc[:20, 'context']:\n",
        "  print(context)"
      ],
      "metadata": {
        "colab": {
          "base_uri": "https://localhost:8080/"
        },
        "id": "n3LdMUKsGdXB",
        "outputId": "5d5fc35d-8f18-4645-a638-684e9a353a98"
      },
      "execution_count": 153,
      "outputs": [
        {
          "output_type": "stream",
          "name": "stdout",
          "text": [
            "le to work with him &  study efficiently \n",
            "s is extremely nice & helpful in her offi\n",
            "erman was very nice & helpful. I learned \n",
            "ll have you at ease & speaking espanol in\n",
            "rs before the test, & know the study guid\n",
            "class.2 online test & one final group pro\n",
            "r in my night class & I've got to say...h\n",
            " them up. Open book & Open note exams, wi\n",
            "ries to make it fun & keep you interested\n",
            "ries to make it fun & keep you interested\n",
            "gives great midterm & final reviews so ma\n",
            "s gramatical errors & focuses less on con\n",
            "In o92 & 096 I had straight \n",
            "ns. He's very blunt & to the point. He he\n",
            "r. Hixson (Journ220 & Journ227) and loved\n",
            " lost. Her lectures & materials on Blackb\n",
            "s, take notes, read & its a fairly easy A\n",
            "y. Read the chapter & u'll pass. Beware o\n",
            "Circuits I & II Professor\n",
            "other classes on BB & not had these probl\n",
            "re than English 101 & 102!\n"
          ]
        }
      ]
    },
    {
      "cell_type": "code",
      "source": [
        "df['comment'].replace(' & ', ' ', inplace=True, regex=True)"
      ],
      "metadata": {
        "id": "cBNa3WG-KiuS"
      },
      "execution_count": 154,
      "outputs": []
    },
    {
      "cell_type": "code",
      "source": [
        "df_amp_sub = df[df['comment'].str.contains(' & ')]\n",
        "df_amp_sub.shape"
      ],
      "metadata": {
        "colab": {
          "base_uri": "https://localhost:8080/"
        },
        "id": "sFNkTjFhLA05",
        "outputId": "0da4b694-3bed-4850-9bbd-8e70492f9141"
      },
      "execution_count": 155,
      "outputs": [
        {
          "output_type": "execute_result",
          "data": {
            "text/plain": [
              "(0, 16)"
            ]
          },
          "metadata": {},
          "execution_count": 155
        }
      ]
    },
    {
      "cell_type": "code",
      "source": [
        "df_amp_med_comments = df[df['comment'].str.contains(\"[a-zA-Z]& | &[a-zA-Z]\")][['comment']] # Tricky case where comments don't have proper spacing\n",
        "df_amp_med_comments.shape"
      ],
      "metadata": {
        "colab": {
          "base_uri": "https://localhost:8080/"
        },
        "id": "LHtShs_9wBaw",
        "outputId": "7c3189ae-c63b-4d8a-970d-d8dc211e5428"
      },
      "execution_count": 156,
      "outputs": [
        {
          "output_type": "execute_result",
          "data": {
            "text/plain": [
              "(2488, 1)"
            ]
          },
          "metadata": {},
          "execution_count": 156
        }
      ]
    },
    {
      "cell_type": "code",
      "source": [
        "df['comment'].replace('([a-zA-Z])& ', r'\\1 ', inplace=True, regex=True)\n",
        "df['comment'].replace(' &([a-zA-Z])', r' \\1', inplace=True, regex=True)"
      ],
      "metadata": {
        "id": "Jl86WDSlwayW"
      },
      "execution_count": 157,
      "outputs": []
    },
    {
      "cell_type": "code",
      "source": [
        "df_amp_med_comments = df[df['comment'].str.contains(\"[a-zA-Z]& | &[a-zA-Z]\")][['comment']] # Tricky case where comments don't have proper spacing\n",
        "df_amp_med_comments.shape"
      ],
      "metadata": {
        "colab": {
          "base_uri": "https://localhost:8080/"
        },
        "id": "BkdnbIcDxE6z",
        "outputId": "d0f649df-c342-4ea2-c727-72ae995fe0e7"
      },
      "execution_count": 158,
      "outputs": [
        {
          "output_type": "execute_result",
          "data": {
            "text/plain": [
              "(0, 1)"
            ]
          },
          "metadata": {},
          "execution_count": 158
        }
      ]
    },
    {
      "cell_type": "code",
      "source": [
        "common_amp_abbreviations = df['comment'].str.extract('(?P<abbrev>[a-zA-Z]&[a-zA-Z])')\n",
        "common_amp_abbreviations.shape"
      ],
      "metadata": {
        "colab": {
          "base_uri": "https://localhost:8080/"
        },
        "id": "cBvTvtXVSsV7",
        "outputId": "77b50006-1ff8-4950-b741-9ae26b5194f9"
      },
      "execution_count": 159,
      "outputs": [
        {
          "output_type": "execute_result",
          "data": {
            "text/plain": [
              "(3929872, 1)"
            ]
          },
          "metadata": {},
          "execution_count": 159
        }
      ]
    },
    {
      "cell_type": "code",
      "source": [
        "common_amp_abbreviations['abbrev'].str.lower().value_counts().head(50)"
      ],
      "metadata": {
        "colab": {
          "base_uri": "https://localhost:8080/"
        },
        "id": "fh6hToB_UAo6",
        "outputId": "43d001d6-80e7-463d-a64d-9e409d7be585"
      },
      "execution_count": 160,
      "outputs": [
        {
          "output_type": "execute_result",
          "data": {
            "text/plain": [
              "a&p    3813\n",
              "q&a     298\n",
              "w&m     120\n",
              "a&m     106\n",
              "a&b     106\n",
              "m&f      98\n",
              "e&m      92\n",
              "m&m      85\n",
              "w&l      80\n",
              "s&t      79\n",
              "e&e      77\n",
              "f&m      75\n",
              "t&f      65\n",
              "d&c      64\n",
              "b&w      58\n",
              "e&h      55\n",
              "s&q      50\n",
              "s&a      48\n",
              "s&s      46\n",
              "s&e      44\n",
              "t&t      42\n",
              "i&i      42\n",
              "s&p      40\n",
              "s&c      35\n",
              "s&b      34\n",
              "s&d      32\n",
              "d&d      31\n",
              "s&h      31\n",
              "s&m      30\n",
              "s&l      29\n",
              "m&a      29\n",
              "c&i      29\n",
              "c&t      29\n",
              "e&s      28\n",
              "y&p      27\n",
              "r&w      27\n",
              "s&i      26\n",
              "t&c      26\n",
              "e&c      25\n",
              "e&f      25\n",
              "s&n      25\n",
              "e&t      24\n",
              "s&f      23\n",
              "a&c      23\n",
              "t&p      23\n",
              "r&r      23\n",
              "d&f      22\n",
              "e&i      22\n",
              "w&j      22\n",
              "r&d      22\n",
              "Name: abbrev, dtype: int64"
            ]
          },
          "metadata": {},
          "execution_count": 160
        }
      ]
    },
    {
      "cell_type": "code",
      "source": [
        "amp_contexts = df[df['comment'].str.contains(r'[a-zA-Z]&[a-zA-Z]')]"
      ],
      "metadata": {
        "id": "84S9mHU-LdSl"
      },
      "execution_count": 161,
      "outputs": []
    },
    {
      "cell_type": "code",
      "source": [
        "print(amp_contexts.shape)\n",
        "amp_contexts.reset_index(inplace=True, drop=True)\n",
        "for comment in amp_contexts.loc[:50, 'comment']:\n",
        "  print(comment)"
      ],
      "metadata": {
        "colab": {
          "base_uri": "https://localhost:8080/"
        },
        "id": "wUdncLVbLwRL",
        "outputId": "f66d3ef2-e15d-411c-d8a1-c30ebd686384"
      },
      "execution_count": 162,
      "outputs": [
        {
          "output_type": "stream",
          "name": "stdout",
          "text": [
            "(8604, 16)\n",
            "Its a hard class and well he dosent do much, the T&Q are easy if you do the homework. just do the home work like 2 or 3 times and you will pass the class\n",
            "He doesn't teach the material and doesn't review for the exams he gives. You would be better off taking a different professor. I read the books and studied nonstop and still only scraped a C. I aced the lab portion of it, and that was the reason for the C. I aced microbiology and A&P before I even took his class. Find someone else.\n",
            "I took this professor for Biology 1406. I looked up which professor to take for my A&P class and when his name popped up, it gave me a flash of PTSD. His lectures had absolutely nothing to do with the materials on the tests. I could have skipped the whole semester, read the textbook by myself and could have gotten the same grade as I received.\n",
            "Do you really need to pass your a&p with a good grade after so much effort? Then do yourself a favor by not taking the class with him. Please, please and please, make a good decision from the beginning so that you dont have to regret at the end. I told you.\n",
            "I took this class straight out of high school. I managed to pull a B, but worked liked a dog to get it. FInd another professor. You will regret taking him unless ur willing to devote ur life to A&P. GET THE HECK OUT. TRUST ME. I had nightmares about this classs.I wish I knew about ratemyprof. back then. Avoid this guy at all costs.\n",
            "Dr. B. is all about her students. She goes above and beyond to help us land jobs. Her acting classes are amazing. She is the heart of the theatre program at E&H.\n",
            "I had Shirley for A&P I and II.  She is a nice professor  A little monotone.  She will answer any questions you have.  The material is hard and her tests are NOT easy.  The true/false are often written very confusingly.  Over all a good teacher.\n",
            "Reacting Class; Must speak at every class pretty much sometimes your role sucks. However, as long as you say your piece&participate youre ok. 2 writing assignments per game (3 games in all)& a final. Fair grading&the class itself can get really intense. really nice lady. DO NOT BE THE BRITISH GOVERNORS GENERAL IN THE INDIA GAME.\n",
            "Hard, but fair. You have to actually come to class, do all the reading, and memorize hundreds of body parts and their functions. Imagine that, in an A&P class! Dr. Hicks is definitly putting out pre-medical students who will one day know where their patient's body parts are.\n",
            "Mostly easy online tests, plus one brutally-graded read&write-paper. Not a particularly interesting teacher, but not dull either. Textbook reading is not completely necessary as very, very few questions are taken from it.\n",
            "Took her web-based In&Soc. class. Big mistake.\n",
            "He sucks! not helpful at all all he does is read the book in the class. if you ask him a question that is not from the book he would tell you to ask a specialist. so I dont know how he got to teach the class. very unhelpful and the tests suck you sould be happy if you get a C in the class unless you spend days&nights studying accounting\n",
            "Dr. P is wonderful!!!  He supplies his own notes- $6. No need for text book. Just read his notes, study his notes, take notes in class, pay attention, go to class, go to his lab and you should make an A. I loved him and begged him to teach A&P this fall.  He is always very willing to chat with you after class if you need some assistance.\n",
            "I took him for A&p 1 and 2 for one I had a amazing SI teacher and two that girl never showed up for SI..  Be prepared not to have a life  procrastination is not an option while other classes you can read a bite and pass Barnes makes it to where studying once or twice isn't enough you must look over this stuff at least 4 times a week to pass\n",
            "Dr. Barnes is an excellent instructor. He knows science in and out. His lectures are long and sometimes interesting. He's sarcastic as hell but I thinks it because you should know A&P 1 material before coming to A&P 2. I received a C because I chose not to study. If you study you will do fine. There is also SI classes before actual class that helps\n",
            "Took him for both A&P 1&2. For A&P1 he was great because he is funny and a great ice breaker of a professor. He's test are incredibly hard. Also during A&P2 he has quizzes that are formatted like his test. However, his grading system is formatted in a way that allowed me to make 5&6 out of 10 on the quizzes and 2 Ds on tests, but still pulled a B.\n",
            "Dr. Barnes is an excellent teacher! I am taking him for A&P 1. His lectures are based off of detailed powerpoint slides; the important information you need to know will be in red. However, only about 80% of what is highlighted in red is on the test, So if it is on the slide, it is fair game. Study the material in depth!! Loved him! Great teacher!!!\n",
            "A&P 1 was hard for me considering my father had just passed away. I made notecards and read the chapters. The only help I got from him was that I either didn't study enough or didn't comprehend the material. I would highly recommend taking another professor.\n",
            "Had him for A&P and it was horrible...He reads straight from powerpoints and tells you that info will be on the test, its NOT! You will have to know ALL the info from the book and the powerpoints just to make it thru...DO NOT TAKE DR. BARNES\n",
            "Good prof. Class is straight forward if you pay attention. What he lectures is on the test. No more. Essay format tough, but easy enough if you study.  Would highly recommend for A&P.  You will learn the material.\n",
            "He's a very exellent teacher. I would recomend him to anyone who want's to take A&P\n",
            "Anyone who is in anyway intimidated from A&P should take his class. He is a great teacher and makes everything easy to understand.\n",
            "Taking him for A&P I.  He is really smart but doesn't explain clearly.  He doesn't allow questions to be asked during the lecture, only in the very beginning or the very end.  This is useless because he's already gone through the entire lecture.  He doesn't give points for the lab reports.\n",
            "Taking him for A&P I.  He is really smart but doesn't explain clearly.  He doesn't allow questions to be asked during the lecture, only in the very beginning or the very end.  This is useless because he's already gone through the entire lecture.  He doesn't give points for the lab reports.\n",
            "Dr. Mong is funny and lets you know the schedule and topics he will cover per class period.  He makes each subject covered as easy as possible to comprehend but is not an easy A unless you read and write good notes.  I took him for both A&P 1 and 2 and would recommend him if you want to learn anatomy in its simplest form!\n",
            "he seems like a down to earth type of professor who makes his teachings and class times enjoyable to be in.I find myself interested in his lectures.i am glad to be able to have been instructed by someone like him who shows interest in different generations&allows others to feel as though he TRULY understands the experiences students are experiences\n",
            "I took (PSY 061) as an summer online course. I am really happy I decided to take this class! Prof Chaiken was wonderful! Assignments relatively easy if you put in some effort&she always had great feedback. I would recommend this course and I would take another one of her classes! I still had time to enjoy my summer and I still received an A!\n",
            "I cannot belive they let this man call himself a professor. He has completely wasted what could have been such an interesting class! He is lazy, and does not care at all about teaching. If I wasn't so set on graduating this Dec, I would honestly take M&A over again. It is too bad, I just learned of this website. Kudos to RMP.com for creating this..\n",
            "Kill me twice, I would hate to take this class again. I was taking StatsII and Lab&Stats at the same time, but somehow this was a lot harder. Classes were hard to pay attention, too. I like that we have multiple chances on the hw&quiz and she's nice enough to try to help you try to succeed in the class. I just wouldn't want to take it again.\n",
            "interesting, fun, nottoohard&nottooeasy-justright!\n",
            "Mr. Cavin is a really great professor. He's actually a guest professor; he actually works for the N&O.\n",
            "i took sister maryann for my death&dying class also my anthro class!!! one word for her class is AWESOME!\n",
            "She is AMAZING!My favorite class so far!Yes,she seems intimidating at first but she's really awesome.She really does care.The class takes work&it's not an easy A but definitely worth it,I learned in that class not like others.1 long paper and 2 t/f multiple choice tests.I was 1 of 2 freshmen in the class w/upperclassmen&we passed so it's possible.\n",
            "intelligent,interesting,an amazing professor&person.very informative&always available,if a student actually tries to contact her.best advice READ,READ! yeah so she had some personal issues this semester..but who doesn't be more understanding,at least shes honest&adjusted the schedule for the class!\n",
            "I needed this class to graduate from Texas A&M University.  I withdrew from it at Texas A&M and came home for the summer to try and take it. The class moved very fast and I did get lost but Mr.Richardson helped me so much. He let me retake a couple exams and he helped me anytime I had a question. He was awesome!\n",
            "Dr.Hallock is the best teacher she's so nice&makes history interesting because she teaches like shes telling a story&make you want to know more. She is very understanding&lenient. If I need to take another history class I would def take it with her again!\n",
            "A complete sweetheart, and very friendly and understanding if you're willing to talk to her. Fairly easy class as long as you show up, pay attention to what she's saying, and do your work correctly&on time. She does speak a bit fast, but if you ask, she's always more than willing to explain it again for you. Very knowledgeable, take her if you can!\n",
            "Lenson Rocks like Crack! Who but Lenson would speak at Extravaganja, let me do Poetry and photography for my papers, and talk about S&M the day I bring my little sister... I still need to figure out how to get high with him... Ha!\n",
            "Horan clearly is an expert on the subject of M&A, but doesn't really impart enough of his wisdom.  I was really excited for this class, but didn't learn too much more than I could have on my own.  Easy A or B+ if that's your objective, but don't come out of it expecting to know much about doing any major deals.  The textbook is terrible, too.\n",
            "I recommend this professor for this class. She was always available when help was needed. Our final research project was graded lightly considering we had less time to conduct research compared to other classes. I learned a lot in this class. Made class interesting with hands on learning like probability testing with M&Ms. Definitely recommend her!\n",
            "Wonderful and very pleasant.Took her class last semester and taking it again.Give moderate amount of work but what do you expect for college.Essays are hand written which is good when practicing timing for the exit exam.Will work with you;VERY&TOO understanding so DON'T take her for granted. Helpful and sine have improved in my writing skills :)\n",
            "OMG!! His class was HARD and CHALLENGING. You will leave his class cursing every time. He will read the 1st sentence (the lead) and give you an F if its not right&wont matter about the rest of paper.BUT when u PASS his class u will feel like u've  won gold medal. He is hard but he WILL make you a better writer. Paper every week. 2 tests. Need book.\n",
            "great teacher, she sends you her power points which are a life saver when studying for tests and lab practicles, very helpful, i heards a&p was a nightmare but with her it was fun. you need to study to pass but with every science corse you need to study. she prepares you for a&p2 very well. aslo very understanding if you need to miss a class.\n",
            "Dr. Lodato was a wonderful teacher! I had heard horror stories about A&P, but with Dr. L it was actually fun! She really cares about your well being, and wants you to to do well. She is very clear in her teaching and expectations of her students. I learned a TON of information, but never felt overloaded. As long as you study you can get an A!\n",
            "Good Lecturer, well educated, seems to really care about students learning the material. She designs her tests to be as easy as possible.  Dr. L is good humored and easy to approach. A&P is a lot of material, take her but dont think you will get by without reading the chapters.  Also, there are three really hot girls in my class. :)\n",
            "Unfortunately the curriculum of this class was bad enough that I contemplated on going to the dean about it. Shes a great person fun to talk to but 1) your grade is entirely based of 3 exams 2) no hw to count towards grades that re enforce lecture 3) exams can be up to 14 chapters worth of info I reccomend taking A&P before taking this class\n",
            "Contrary to A&P, her pathophysiology class is somewhat difficult because she makes it so. Encourages class partucipation,but tries to prove everyone wrong. Seems self righteous and does not like to be challenged by students. Provides you with 10pt. test essays, however does not go over these in class, expects you to know from A&P! Avoid NOT hot!\n",
            "I have had Theresa for 2 different classes (cell bio and A&P1); she is not to hard but she does make you think. She will do whatever she needs to, to make sure you get it. She teaches her classes relating the content to everyday things that you can relate to and remember. Would highly recommend!\n",
            "Don't take class if you want to actually learn Teaches more history than A&P Goes off topic more often than not Gives assignments in class so show up Easy grader Uses textbook sometimes I would NOT recommend\n",
            "Professor Cosgrove is a wonderful educator and extremely knowledgeable in art history.  In my opinion she could be teaching at UCLA, Columbia or Harvard, very intelligent and articulate. Prof.Cosgrove does not tolerate impolite or disinterested students,which makes learning better&more enjoyable for students interested in learning;kind&senseofhumor\n",
            "If you can get away with taking this216 instead of BIO 240241, do it; it is definitely easier (I've taken both). That being said, this class is a pain. The lectures are boring and are always at 8am, and the tests are really hard unless you are really good at memorizing the mastering A&P. \n"
          ]
        }
      ]
    },
    {
      "cell_type": "markdown",
      "source": [
        "### Percent (%)"
      ],
      "metadata": {
        "id": "EVL4A9us4EDO"
      }
    },
    {
      "cell_type": "markdown",
      "source": [
        "### Slashes (/ and \\\\)\n",
        "- Used to shorten text (w/ standing for with).\n",
        "- Used to represent a fraction, might be able to replace with \"out of\"\n",
        "- Used to abbreivate \"or\" \n",
        "\n",
        "Interestingly, both slashes are sometimes used to express emoticons (:\\ or :/)"
      ],
      "metadata": {
        "id": "68EYNp2e0p7i"
      }
    },
    {
      "cell_type": "code",
      "source": [
        "regular_slashes = df[df['comment'].str.contains('/')]\n",
        "back_slashes = df[df['comment'].str.contains(r'\\\\')]\n",
        "print(\"Size of regular slashes:\", regular_slashes.shape)\n",
        "print(\"Size of back slashes:\", back_slashes.shape)"
      ],
      "metadata": {
        "colab": {
          "base_uri": "https://localhost:8080/"
        },
        "id": "13n0oEJX0pRR",
        "outputId": "dbdcacd6-8d75-4366-8978-847c729b2340"
      },
      "execution_count": 163,
      "outputs": [
        {
          "output_type": "stream",
          "name": "stdout",
          "text": [
            "Size of regular slashes: (157772, 16)\n",
            "Size of back slashes: (40, 16)\n"
          ]
        }
      ]
    },
    {
      "cell_type": "code",
      "source": [
        "\n",
        "for comment in back_slashes['comment']:\n",
        "  print(comment)"
      ],
      "metadata": {
        "colab": {
          "base_uri": "https://localhost:8080/"
        },
        "id": "J3Wc7ocM1gaj",
        "outputId": "4078ab30-1bbd-413d-f30a-1486194250bf"
      },
      "execution_count": 164,
      "outputs": [
        {
          "output_type": "stream",
          "name": "stdout",
          "text": [
            "Got a C+ in his class after studying like crazy for every test. Worked harder for this stupid wellness class than for all my others and still ended up bringing my gpa down. DONT take the 7:30 class. He is \\ a stickler about attendance which is annoying. Not willing to meet with students outside of class and arrogant. Nice enough man but dont take\n",
            "Nice guy really funny kind of Per\\/  but its awesome. Great field trips but tests are hardcore way hard\n",
            "Dr. Lamourelle's blackboard site is extremely unorganized. Her guidelines for writing essays, and projects are the same. She did respond to all of my emails and gave out her phone number to whoever needed it, but even her responses back were confusing. One time she didn't know where to turn in an assignment. :\\. If you can keep away, KEEP AWAY!\n",
            "Really good at explaining things. Seemed like a nice guy. Thought he did an all-around better job of things than Brenda Gunderson (who everyone else seems to recommend :\\).\n",
            "Most of the ES105 students are not math\\science majors so no one really wants to be there.  The class can be interesting if you pay attention.  Took the hybrid class, last two exams were take home.  The answers are easy IF you can figure out the questions!!!!\n",
            "Thanks for the knowledge to help me get by in the workfield\\life.\n",
            "She is a very strict professor. No curve, no cheat sheet, little review, no multiple choice, and you can\\'t use the textbook or notes during test. She made almost no effort to find out if we understood the material before tests and hence nearly everyone failed the first test. She was unclear on what we need to study and there was  about 300 pages to read each month. Finally, she announced tests are related to tests, but there is so many formulas, definitions, terms, and diagrams we need to memorize that it\\'s nearly impossible to pass.\n",
            "Very nice guy, VERY confusing and vague teacher.  Many facts are outdated.  Can be very dry.  Unlike everyone else, I highly recommend using a (older version) textbook.  His slides are VERY VERY confusing and simply reading the book will be way more beneficial. Easy Gened, but don't take it if you want your money's worth (I found out too late :\\ )\n",
            "I don't know...my opinion is mixed. Her lectures are annoying - she speaks way too fast. She makes us study over 20 arbitrary images for each quiz but you only write about four. The short papers and final research paper are obnoxiously hard. However, she's much clearer if you see her in her office. Overall, I wouldn't recommend this class. :\\\n",
            "Professor Heffernan puts all other teachers to shame, he does not tolerate anything less than excellence. His passion and understanding for business and education is apparent. He will never leave you behind, if ever your understanding of business is his top priority! This class is a joy if you put in the time and effort. \\^.^/\n",
            "she is very helpful. her tests arent multiple choice but she gets the questions from the reviews and uses different numbers. shes clear and always available when you need her. she gives extra time in the lab for those who need help. she gives make up tests. laid back and fun teacher. NO PHONE IN CLASS, YES LAPTOP ;-) got a B+ with good work :-\\\n",
            "Great professor! Explains everything well, tells you 90%of the topics from each chapter that will be on exams.  Probably the only teacher i could stand for a 5 and 1\\2 night class. Love her, definitely take if you can get into her intro to biology class. Also, she's extremely quick to respond to emailed questions. Read book, take notes and study!\n",
            "80% of the class grade was the exams. 20% was the homework. Luckily, the homework was graded off of effort instead of completeness however I don't think that was a very good thing. His lectures are long and pretty boring  so you have to find some way to pay attention during class. The material is near useless as well so.. :\\\n",
            "Although I rated 3 I could have gone with 5 or 1. (Much like how he marks). I enjoyed his classes and thought-provoking queries\\discussions. Obviously highly intelligent. Must truly engage this man to get the most out of it.\n",
            "Prof. Bunkse is knowledgeable RE Cultural Geography, but over the course of the semester I became convinced that Cultural Geography is his very own made up field that exists only in GEOG203. Ideas are abstract, and lectures disjointed at best. If you're logic\\math\\sci oriented you'll probably struggle. If you're emotional or abstract you'll be fine\n",
            "She is a wonderful teacher. Her classes are not easy and she does not sugar coat things. So some students blame her for there short comings rather than take credit for there own actions. I would take every class with her if i could. Truly one of the smartest people i have ever met in her field. I hope to be an Aquatic Ecologist 1\\2 as good as her\n",
            "You are going to hate\\loath Warren there is absolutely no getting around that. If this is your first philosophy class do not take Warren. He is very likely to completely turn you away from the subject.However if you enjoy philosophy like my self you may enjoy the challenge that is Warren. I tried very hard all be it not my absolute best and got a C\n",
            "she is a nice lady, I took her for lab once a week, she is very challenging. you have to be VERY specific when you write a lab report, and study well for her tests\\quizzes. I'm hoping to get at least a B!\n",
            "N\\a\n",
            "This is the 3rd class where I had him:  If you are a lazy slacker or tardy, don't sign up-you won't pass.  If you try, be on time, and do your work, you CAN'T receive anything below an A\\B.  Large amounts of homework hours given each week.  I had two A's and one B+ from him each semester.  As long as you work, you'll see he's a great professor.\n",
            "Lenny is so rude..i want to get out of his class so bad. Now i know why he was the only professor available, for every day\\time\n",
            "Taking this course with Bob means you will have to teach yourself. Which means this course with Bob is not good with a full course load. Here you normally take 5 courses per semester. If you have a heavy semester I reccomend dropping out from Bob. Work on your GPA avoid this problem class\\teacher.\n",
            "I'm really bad at math and with her i received a B!!! \\ her lectures are fun and she will give you points if you need them :)\n",
            "Wonderful lady.  She knows her stuff.  Hybrid class.  You do need the book and will use it every single day to do really easy work.  Only 3 big assignments the whole semester plus once a week online work that you must do to pass the class.For her having surgery and being gone she did an amazing job keeping up with the class.\\\n",
            "H3's a/\\/ aw3s0me pr()fesSor! He makes the class fun as much as possible, and tries to help the student in any way he can. If you just pay attention in his class, you're going to get your desirable grade! One thing that I loved about him was that, he gave everybody a chance, especially HOPE! :)\n",
            "Recommended, she makes this class very fun, interesting, and easy to understand.\\Before taking this class I hated it but after a week she made me like the class\n",
            "HE MOVES VERY FAST IN CLASS, BUT STOP IF YOU HAVE QUESTION TEST ARE BASE I\\ON HIS REVIEW HE GIVES YOU A REVIEW BEFORE EACH TEST NOT THE BEST MATH TEACH HE IS DOABLE\n",
            "I took her Art History: Stone Age -Gothic course online. Often did not have quizzes up on time, and would take a lot of time to respond to e-mails. However if you can easily teach yourself, the online will be fairly easy-do yourself a favor and save the notes from her online slides, because she will remove them before tests! \\\n",
            "Pretty cool guy. Very easy going. Doesn't seem like he fully understands Linux, but he's a boss at the AS\\400. He'll help you out whenever you have a problem.\n",
            "This is hands down the best teacher at this school. Some say he's boring and hard teacher but that is probably someone who is on facebook the whole time. Good and interesting class if you pay attention.  Study the sample questions they are on the test \\same format. Study the slides and understand them for the incorrect questions to get an a A I did\n",
            "awesome teacher! I definitely recommend her \\ city park\n",
            "She makes classes so hard while they are so easy with other. she gives confused homework. when she meets a student who related to her or to her friends she gives him\\her good score.I recommend students not to take classes with her. never never never\n",
            "I feel she is not easy to get an A. I got an A but my critical thinking is very good. But I think she is a pretty easy B teacher. btw, lots of homework and many discussion. A good news is she has extra credit for you.  Tosumup, lots of work, clear\\responsible teacher, not easy A.\n",
            "She doesn't really help you out on what she wants the essay to have. In her assignment requirements, it's somewhat vague and unclear. When she gives out sample papers to look at, she gives it out for us to look at the day before the rough drafts are due, which isn't really helpful. :\\ Other than that, everything else is pretty much... easy. x)\n",
            "He didn't really explain things very well, especially since i'm a audio learner. He seemed to follow the book, but the questions on the quizzes were not from the book. Maybe it might be because im a computer major, but he's also always talking about \"ice fishing in wisconsin\" and his prior business jobs. so boring :\\\n",
            "Mrs. Grabiel is a very nice lady and will tell you some of her funny stories, but this class is a lot of work. If you are looking for an easy A, this is not the class for you. Long online quizzes and animations, long take home test, quizzes in class and three essays due THE SAME DAY.  too much work i know its hybrid but still :\\\n",
            "His class is simple but tests are hard. 7\\8 50 question tests plus a final and paper. You really have to understand the concepts to pass, not just the definitions. Talks like a therapist most of the time.\n",
            "Amazing teacher, very intelligent, compassionate and makes the environment conducive to learning.\\\\\\\\\\'/\n",
            "the WORST professor I have taken. boring class, boring professor. he kept calling us \"hopeless\". didn't bother to help us out at all. exams were all multiple choice (doesn't even contain information from the handouts). every class, all he did was read the handouts. STAY AWAY AS MUCH AS POSSIBLE if you value your grade. retaking in summer. =\\\n",
            "Ill be very honest: Pro.-Easy assignments&tests,Open book= easy A. con.-one letter typo and she is upset and reduce points.OCD- Big time!Gives to type her whole book(incl. recom.\\love letters to herself&wants U sign it),only in order to do minor assignments.bottom line- Easy A- LOTS of work&Time consuming. take it only if U R extremely fast typist!\n"
          ]
        }
      ]
    },
    {
      "cell_type": "code",
      "source": [
        "i = 0\n",
        "for comment in regular_slashes['comment']:\n",
        "  print(comment)\n",
        "  i += 1\n",
        "  if i == 25: break"
      ],
      "metadata": {
        "colab": {
          "base_uri": "https://localhost:8080/"
        },
        "id": "_iQxkb343KOF",
        "outputId": "3516e049-7032-4869-dd37-949d5b197f04"
      },
      "execution_count": 165,
      "outputs": [
        {
          "output_type": "stream",
          "name": "stdout",
          "text": [
            "This guy is awesome.  I totally failed my first quiz and still got a B+ in the class b/c I was able to work with him  study efficiently with his guidance. Go to review sessions! Ask lots of questions! He gives great / hilarious stories in class  as examples. You will work very hard! But you'll be rewarded in the end!\n",
            "nice person, terrible instructor. she know barely anything about photographic processes/ digital imaging and honestly has no right accepting huge sums of tuition to do so. if you take her class you will learn nothing about the stated subject matter of the class. as a now working professional with hindsight my advice would be, avoid at all costs.\n",
            "It's funny that people would say she's tough. If you attend class, skim the chaptrs before the test, know the study guides, you'll do fine.  She even has review days. She SAYS 1/2 the test q's come from the book, but as the semester wore on, most were from the lecture. Note: She's very serious about punishing cheaters and talks feminist sometimes\n",
            "This is an easy A if you do the homework and show up. Daily group quizzes based on the homework that are 5 easy questions, tests are 10 questions and are also easy if you know the stuff. He is old and will sometimes not be able to answer questions/gets confused. You will be teaching yourself with the textbook all year.\n",
            "Sweet old man that really understands math but gets a little confused sometimes. If you have a brain for math you can half ass the class and pull an A. I've gotten 100's on 5/7 tests by literally only attempting to learn the material the night before. 10 question tests with extra credit. The daily participation quizzes will get to you though, study\n",
            "i was in college algebra for his class- biggest advice: just go to every class, even though it's boring, he gives daily clicker/paper quizzes, but they're so easy, and he makes everything easy enough to get a B at least. great, friendly person as well.\n",
            "Really nice!! One of the most positive professors I have had so far. If you struggle talk to him or go to tutoring in roop hall 3rd floor. He gives clicker activites, scratch off activities, and multiple choice test/short answer tests. U have to teach yourself from the book sometimes because he is older and talks monotone, but I recommend his class\n",
            "He's so sweet that I really feel guilty exposing what a poor teacher he is. I took this class as a refresher and I am more confused now than when I first walked through the door. Get ready to teach yourself if you want to pass, I recommend study groups and just show up b/c that can get you alot of extra credit, like 10% added to your final grade.\n",
            "Student from way back in 2003/2004. Worst teacher I EVER had! Main problem was his tests were impossible to finish unless you could recall info. at lightning speed. Also graded too arbitrarily. If your answer felt like what he wanted,word-for-word, it was correct. Very cold/harsh. Two miracles that came too late: Cunningham retiring,Selby gone.\n",
            "He's a great teacher if you want to learn CSS. It's a religion to him. He shows websites and sources outside of classroom material that justifies his claim and aids the teaching/learning process.\n",
            "Always gives 8/10 class is 70 points total. You have to wow her to actually get better than an 8 or else just for standing up there and talking you get an 8. You need to change your voice and physicalize the characters you act out.\n",
            "Grades are inconsistent for everyone. You can be fully prepared for the class and outperform certain slackers unprepared people and expect a standard 8/10. Very good blow off class to chill and watch people do stories they prepared. Otherwise expect a B, i thought she loved me as a student cause she always laughed at my performances.\n",
            "Class was fun and very easy. Just come to class prepared and you will do fine. The only part that was bad was the grading system. A lot of students received 8/10 on EVERYTHING, no matter if one student did much better than another. Fun, easy, but a bit confusing grading system.\n",
            "do attend her class she takes roll. she was okay always very cheerful and she really wants you to engage yourself in your performances do little voices be REALLY theatrical you'll get a better grade, i just felt like you had to more than WOW her to get a 10/10. just step out of your comfort zone and you'll get a good grade\n",
            "Great teacher. Easy grader but if you're uncomfortable about performing (if you're just taking it for upper general ed.) it can be stressful to start the class. Stick with it, it's fun and gets better at the end. A great performer that gets the audience/students excited and enthralled in the story.Attendance a must!\n",
            "TOOK HIM FOR BIOLOGY. VERY EASY. JUST WATCH HIS VIDEOS ON INTERNET OFF ANGEL AND WRITE WORD FOR WORD ON THE EMPTY LECTURE NOTES HE GIVES ON ANGEL. HIS TESTS ARE STRAIGHT FROM VIDEOS. BOOK IS AN EXTRA TOOL SOMETIMES USED. I ONLY DID 5/7 LESSONS EACH TEST AND GOT 73 BOTH TIMES. STUDY THE NOTES FROM VIDEO AND YOULL BE FINE.\n",
            "Mr. Poole is the worst professor I ever had.  He made me cry before the final exam and told me I was rude b/c I arrived 5 minutes late.  He does not care about the students, or their feelings.  He is a cynical, mean, grouchy old man that should not be allowed to teach!  Worst experience ever!\n",
            "I love English anyways. I thought this class was very organized. Lots of references to help you write a better paper. I took the 16 weeks course w/ 1-2 discussion postings and 1 essay approx. Pretty quick to email back. syllabus was clear.\n",
            "She was acceptable. Didn't create notes/slides, she used hand written (and crappy) pieces of paper put on the overhead projector as notes in class. Seemed to not know what she was talking about at points. Was approachable with concerns on issues/marking for exams.\n",
            "take her courses! she's wonderful! explains things well, will sit with you as long as it takes to help you understand a concept. very available. best lecturer.  speaks at good speed so you can keep up in notetaking. reasonably challenging exams/assignments. go to class, get great grades!\n",
            "AWFUL. 2nd in row her students have taken her to the dean to dispute their marks. If you question your mark, she will remark it to an F/d and then average your original mark. Mine was A! when confronted about the remarking and why she marked the question wrong when it is word for word in the text her response was well i'm not an expert\n",
            "AWFUL PROF!!! Several students that complained about their mark midterm makr, she dropped it by over 30% without explanation(went from an A to D-). Many students (including myself)had to see the Chair and/or Admin. Interesting course if taught by someone else. Even the TA was outraged by her remarki\n",
            "Monotonous. Jumped all over the place, making it diffcult to take notes. If she used overheads/slideshow or handouts it would make the class easier to follow. This is picky, but she presented many key facts incorrectly (Athens won the Pello****ian War\n",
            "Class was 100 % online. The course was pretty much self paced (only deadlines, no meetings). The course used Canvas and McGraw-Hill Connect/SmartBook. Reading was understandable and exams were similar to quizzes. There was a 6 page book report and and an extra credit opportunity. This class was perfect paced for me (single mom, full time job).\n",
            "This class may be open book/open notes for tests but it is NOT an easy A. There is only 1 homework assignment and 1 extra credit. If you miss a class you could lose out on a lot of pts. Mr. French does group work and quizzes and you never know when and how much. Great instructor loved his animated personality, he kept things fun.\n"
          ]
        }
      ]
    },
    {
      "cell_type": "markdown",
      "source": [
        "# Numbers"
      ],
      "metadata": {
        "id": "_IjBC3RlIG7n"
      }
    },
    {
      "cell_type": "code",
      "source": [
        "profs = df.dropna(subset='prof_class')\n",
        "profs = profs[profs['prof_class'].str.contains('\\d{1,3}')]"
      ],
      "metadata": {
        "colab": {
          "base_uri": "https://localhost:8080/",
          "height": 346
        },
        "id": "fAIu0FFFMkte",
        "outputId": "692d9387-f66c-4367-a585-9c3aec9ea0ca"
      },
      "execution_count": 192,
      "outputs": [
        {
          "output_type": "error",
          "ename": "TypeError",
          "evalue": "ignored",
          "traceback": [
            "\u001b[0;31m---------------------------------------------------------------------------\u001b[0m",
            "\u001b[0;31mTypeError\u001b[0m                                 Traceback (most recent call last)",
            "\u001b[0;32m<ipython-input-192-bfc7df9a38ef>\u001b[0m in \u001b[0;36m<module>\u001b[0;34m()\u001b[0m\n\u001b[0;32m----> 1\u001b[0;31m \u001b[0mprofs\u001b[0m \u001b[0;34m=\u001b[0m \u001b[0mdf\u001b[0m\u001b[0;34m.\u001b[0m\u001b[0mdropna\u001b[0m\u001b[0;34m(\u001b[0m\u001b[0msubset\u001b[0m\u001b[0;34m=\u001b[0m\u001b[0;34m'prof_class'\u001b[0m\u001b[0;34m)\u001b[0m\u001b[0;34m\u001b[0m\u001b[0;34m\u001b[0m\u001b[0m\n\u001b[0m\u001b[1;32m      2\u001b[0m \u001b[0mprofs\u001b[0m \u001b[0;34m=\u001b[0m \u001b[0mprofs\u001b[0m\u001b[0;34m[\u001b[0m\u001b[0mprofs\u001b[0m\u001b[0;34m[\u001b[0m\u001b[0;34m'prof_class'\u001b[0m\u001b[0;34m]\u001b[0m\u001b[0;34m.\u001b[0m\u001b[0mstr\u001b[0m\u001b[0;34m.\u001b[0m\u001b[0mcontains\u001b[0m\u001b[0;34m(\u001b[0m\u001b[0;34m'\\d{1,3}'\u001b[0m\u001b[0;34m)\u001b[0m\u001b[0;34m]\u001b[0m\u001b[0;34m\u001b[0m\u001b[0;34m\u001b[0m\u001b[0m\n",
            "\u001b[0;32m/usr/local/lib/python3.7/dist-packages/pandas/util/_decorators.py\u001b[0m in \u001b[0;36mwrapper\u001b[0;34m(*args, **kwargs)\u001b[0m\n\u001b[1;32m    309\u001b[0m                     \u001b[0mstacklevel\u001b[0m\u001b[0;34m=\u001b[0m\u001b[0mstacklevel\u001b[0m\u001b[0;34m,\u001b[0m\u001b[0;34m\u001b[0m\u001b[0;34m\u001b[0m\u001b[0m\n\u001b[1;32m    310\u001b[0m                 )\n\u001b[0;32m--> 311\u001b[0;31m             \u001b[0;32mreturn\u001b[0m \u001b[0mfunc\u001b[0m\u001b[0;34m(\u001b[0m\u001b[0;34m*\u001b[0m\u001b[0margs\u001b[0m\u001b[0;34m,\u001b[0m \u001b[0;34m**\u001b[0m\u001b[0mkwargs\u001b[0m\u001b[0;34m)\u001b[0m\u001b[0;34m\u001b[0m\u001b[0;34m\u001b[0m\u001b[0m\n\u001b[0m\u001b[1;32m    312\u001b[0m \u001b[0;34m\u001b[0m\u001b[0m\n\u001b[1;32m    313\u001b[0m         \u001b[0;32mreturn\u001b[0m \u001b[0mwrapper\u001b[0m\u001b[0;34m\u001b[0m\u001b[0;34m\u001b[0m\u001b[0m\n",
            "\u001b[0;32m/usr/local/lib/python3.7/dist-packages/pandas/core/frame.py\u001b[0m in \u001b[0;36mdropna\u001b[0;34m(self, axis, how, thresh, subset, inplace)\u001b[0m\n\u001b[1;32m   5948\u001b[0m         \u001b[0;32mif\u001b[0m \u001b[0msubset\u001b[0m \u001b[0;32mis\u001b[0m \u001b[0;32mnot\u001b[0m \u001b[0;32mNone\u001b[0m\u001b[0;34m:\u001b[0m\u001b[0;34m\u001b[0m\u001b[0;34m\u001b[0m\u001b[0m\n\u001b[1;32m   5949\u001b[0m             \u001b[0max\u001b[0m \u001b[0;34m=\u001b[0m \u001b[0mself\u001b[0m\u001b[0;34m.\u001b[0m\u001b[0m_get_axis\u001b[0m\u001b[0;34m(\u001b[0m\u001b[0magg_axis\u001b[0m\u001b[0;34m)\u001b[0m\u001b[0;34m\u001b[0m\u001b[0;34m\u001b[0m\u001b[0m\n\u001b[0;32m-> 5950\u001b[0;31m             \u001b[0mindices\u001b[0m \u001b[0;34m=\u001b[0m \u001b[0max\u001b[0m\u001b[0;34m.\u001b[0m\u001b[0mget_indexer_for\u001b[0m\u001b[0;34m(\u001b[0m\u001b[0msubset\u001b[0m\u001b[0;34m)\u001b[0m\u001b[0;34m\u001b[0m\u001b[0;34m\u001b[0m\u001b[0m\n\u001b[0m\u001b[1;32m   5951\u001b[0m             \u001b[0mcheck\u001b[0m \u001b[0;34m=\u001b[0m \u001b[0mindices\u001b[0m \u001b[0;34m==\u001b[0m \u001b[0;34m-\u001b[0m\u001b[0;36m1\u001b[0m\u001b[0;34m\u001b[0m\u001b[0;34m\u001b[0m\u001b[0m\n\u001b[1;32m   5952\u001b[0m             \u001b[0;32mif\u001b[0m \u001b[0mcheck\u001b[0m\u001b[0;34m.\u001b[0m\u001b[0many\u001b[0m\u001b[0;34m(\u001b[0m\u001b[0;34m)\u001b[0m\u001b[0;34m:\u001b[0m\u001b[0;34m\u001b[0m\u001b[0;34m\u001b[0m\u001b[0m\n",
            "\u001b[0;32m/usr/local/lib/python3.7/dist-packages/pandas/core/indexes/base.py\u001b[0m in \u001b[0;36mget_indexer_for\u001b[0;34m(self, target, **kwargs)\u001b[0m\n\u001b[1;32m   5273\u001b[0m         \"\"\"\n\u001b[1;32m   5274\u001b[0m         \u001b[0;32mif\u001b[0m \u001b[0mself\u001b[0m\u001b[0;34m.\u001b[0m\u001b[0m_index_as_unique\u001b[0m\u001b[0;34m:\u001b[0m\u001b[0;34m\u001b[0m\u001b[0;34m\u001b[0m\u001b[0m\n\u001b[0;32m-> 5275\u001b[0;31m             \u001b[0;32mreturn\u001b[0m \u001b[0mself\u001b[0m\u001b[0;34m.\u001b[0m\u001b[0mget_indexer\u001b[0m\u001b[0;34m(\u001b[0m\u001b[0mtarget\u001b[0m\u001b[0;34m,\u001b[0m \u001b[0;34m**\u001b[0m\u001b[0mkwargs\u001b[0m\u001b[0;34m)\u001b[0m\u001b[0;34m\u001b[0m\u001b[0;34m\u001b[0m\u001b[0m\n\u001b[0m\u001b[1;32m   5276\u001b[0m         \u001b[0mindexer\u001b[0m\u001b[0;34m,\u001b[0m \u001b[0m_\u001b[0m \u001b[0;34m=\u001b[0m \u001b[0mself\u001b[0m\u001b[0;34m.\u001b[0m\u001b[0mget_indexer_non_unique\u001b[0m\u001b[0;34m(\u001b[0m\u001b[0mtarget\u001b[0m\u001b[0;34m)\u001b[0m\u001b[0;34m\u001b[0m\u001b[0;34m\u001b[0m\u001b[0m\n\u001b[1;32m   5277\u001b[0m         \u001b[0;32mreturn\u001b[0m \u001b[0mindexer\u001b[0m\u001b[0;34m\u001b[0m\u001b[0;34m\u001b[0m\u001b[0m\n",
            "\u001b[0;32m/usr/local/lib/python3.7/dist-packages/pandas/core/indexes/base.py\u001b[0m in \u001b[0;36mget_indexer\u001b[0;34m(self, target, method, limit, tolerance)\u001b[0m\n\u001b[1;32m   3435\u001b[0m         \u001b[0;31m# returned ndarray is np.intp\u001b[0m\u001b[0;34m\u001b[0m\u001b[0;34m\u001b[0m\u001b[0;34m\u001b[0m\u001b[0m\n\u001b[1;32m   3436\u001b[0m         \u001b[0mmethod\u001b[0m \u001b[0;34m=\u001b[0m \u001b[0mmissing\u001b[0m\u001b[0;34m.\u001b[0m\u001b[0mclean_reindex_fill_method\u001b[0m\u001b[0;34m(\u001b[0m\u001b[0mmethod\u001b[0m\u001b[0;34m)\u001b[0m\u001b[0;34m\u001b[0m\u001b[0;34m\u001b[0m\u001b[0m\n\u001b[0;32m-> 3437\u001b[0;31m         \u001b[0mtarget\u001b[0m \u001b[0;34m=\u001b[0m \u001b[0mself\u001b[0m\u001b[0;34m.\u001b[0m\u001b[0m_maybe_cast_listlike_indexer\u001b[0m\u001b[0;34m(\u001b[0m\u001b[0mtarget\u001b[0m\u001b[0;34m)\u001b[0m\u001b[0;34m\u001b[0m\u001b[0;34m\u001b[0m\u001b[0m\n\u001b[0m\u001b[1;32m   3438\u001b[0m \u001b[0;34m\u001b[0m\u001b[0m\n\u001b[1;32m   3439\u001b[0m         \u001b[0mself\u001b[0m\u001b[0;34m.\u001b[0m\u001b[0m_check_indexing_method\u001b[0m\u001b[0;34m(\u001b[0m\u001b[0mmethod\u001b[0m\u001b[0;34m,\u001b[0m \u001b[0mlimit\u001b[0m\u001b[0;34m,\u001b[0m \u001b[0mtolerance\u001b[0m\u001b[0;34m)\u001b[0m\u001b[0;34m\u001b[0m\u001b[0;34m\u001b[0m\u001b[0m\n",
            "\u001b[0;32m/usr/local/lib/python3.7/dist-packages/pandas/core/indexes/base.py\u001b[0m in \u001b[0;36m_maybe_cast_listlike_indexer\u001b[0;34m(self, target)\u001b[0m\n\u001b[1;32m   5706\u001b[0m         \u001b[0mAnalogue\u001b[0m \u001b[0mto\u001b[0m \u001b[0mmaybe_cast_indexer\u001b[0m \u001b[0;32mfor\u001b[0m \u001b[0mget_indexer\u001b[0m \u001b[0minstead\u001b[0m \u001b[0mof\u001b[0m \u001b[0mget_loc\u001b[0m\u001b[0;34m.\u001b[0m\u001b[0;34m\u001b[0m\u001b[0;34m\u001b[0m\u001b[0m\n\u001b[1;32m   5707\u001b[0m         \"\"\"\n\u001b[0;32m-> 5708\u001b[0;31m         \u001b[0;32mreturn\u001b[0m \u001b[0mensure_index\u001b[0m\u001b[0;34m(\u001b[0m\u001b[0mtarget\u001b[0m\u001b[0;34m)\u001b[0m\u001b[0;34m\u001b[0m\u001b[0;34m\u001b[0m\u001b[0m\n\u001b[0m\u001b[1;32m   5709\u001b[0m \u001b[0;34m\u001b[0m\u001b[0m\n\u001b[1;32m   5710\u001b[0m     \u001b[0;34m@\u001b[0m\u001b[0mfinal\u001b[0m\u001b[0;34m\u001b[0m\u001b[0;34m\u001b[0m\u001b[0m\n",
            "\u001b[0;32m/usr/local/lib/python3.7/dist-packages/pandas/core/indexes/base.py\u001b[0m in \u001b[0;36mensure_index\u001b[0;34m(index_like, copy)\u001b[0m\n\u001b[1;32m   6334\u001b[0m     \u001b[0;32melse\u001b[0m\u001b[0;34m:\u001b[0m\u001b[0;34m\u001b[0m\u001b[0;34m\u001b[0m\u001b[0m\n\u001b[1;32m   6335\u001b[0m \u001b[0;34m\u001b[0m\u001b[0m\n\u001b[0;32m-> 6336\u001b[0;31m         \u001b[0;32mreturn\u001b[0m \u001b[0mIndex\u001b[0m\u001b[0;34m(\u001b[0m\u001b[0mindex_like\u001b[0m\u001b[0;34m,\u001b[0m \u001b[0mcopy\u001b[0m\u001b[0;34m=\u001b[0m\u001b[0mcopy\u001b[0m\u001b[0;34m)\u001b[0m\u001b[0;34m\u001b[0m\u001b[0;34m\u001b[0m\u001b[0m\n\u001b[0m\u001b[1;32m   6337\u001b[0m \u001b[0;34m\u001b[0m\u001b[0m\n\u001b[1;32m   6338\u001b[0m \u001b[0;34m\u001b[0m\u001b[0m\n",
            "\u001b[0;32m/usr/local/lib/python3.7/dist-packages/pandas/core/indexes/base.py\u001b[0m in \u001b[0;36m__new__\u001b[0;34m(cls, data, dtype, copy, name, tupleize_cols, **kwargs)\u001b[0m\n\u001b[1;32m    472\u001b[0m \u001b[0;34m\u001b[0m\u001b[0m\n\u001b[1;32m    473\u001b[0m         \u001b[0;32melif\u001b[0m \u001b[0mis_scalar\u001b[0m\u001b[0;34m(\u001b[0m\u001b[0mdata\u001b[0m\u001b[0;34m)\u001b[0m\u001b[0;34m:\u001b[0m\u001b[0;34m\u001b[0m\u001b[0;34m\u001b[0m\u001b[0m\n\u001b[0;32m--> 474\u001b[0;31m             \u001b[0;32mraise\u001b[0m \u001b[0mcls\u001b[0m\u001b[0;34m.\u001b[0m\u001b[0m_scalar_data_error\u001b[0m\u001b[0;34m(\u001b[0m\u001b[0mdata\u001b[0m\u001b[0;34m)\u001b[0m\u001b[0;34m\u001b[0m\u001b[0;34m\u001b[0m\u001b[0m\n\u001b[0m\u001b[1;32m    475\u001b[0m         \u001b[0;32melif\u001b[0m \u001b[0mhasattr\u001b[0m\u001b[0;34m(\u001b[0m\u001b[0mdata\u001b[0m\u001b[0;34m,\u001b[0m \u001b[0;34m\"__array__\"\u001b[0m\u001b[0;34m)\u001b[0m\u001b[0;34m:\u001b[0m\u001b[0;34m\u001b[0m\u001b[0;34m\u001b[0m\u001b[0m\n\u001b[1;32m    476\u001b[0m             \u001b[0;32mreturn\u001b[0m \u001b[0mIndex\u001b[0m\u001b[0;34m(\u001b[0m\u001b[0mnp\u001b[0m\u001b[0;34m.\u001b[0m\u001b[0masarray\u001b[0m\u001b[0;34m(\u001b[0m\u001b[0mdata\u001b[0m\u001b[0;34m)\u001b[0m\u001b[0;34m,\u001b[0m \u001b[0mdtype\u001b[0m\u001b[0;34m=\u001b[0m\u001b[0mdtype\u001b[0m\u001b[0;34m,\u001b[0m \u001b[0mcopy\u001b[0m\u001b[0;34m=\u001b[0m\u001b[0mcopy\u001b[0m\u001b[0;34m,\u001b[0m \u001b[0mname\u001b[0m\u001b[0;34m=\u001b[0m\u001b[0mname\u001b[0m\u001b[0;34m,\u001b[0m \u001b[0;34m**\u001b[0m\u001b[0mkwargs\u001b[0m\u001b[0;34m)\u001b[0m\u001b[0;34m\u001b[0m\u001b[0;34m\u001b[0m\u001b[0m\n",
            "\u001b[0;31mTypeError\u001b[0m: Index(...) must be called with a collection of some kind, 'prof_class' was passed"
          ]
        }
      ]
    },
    {
      "cell_type": "code",
      "source": [
        "profs['prof_class']"
      ],
      "metadata": {
        "id": "SsbkvEI6NVsx"
      },
      "execution_count": null,
      "outputs": []
    },
    {
      "cell_type": "code",
      "source": [
        "df_nums = df['comment'].str.extractall('(?P<number>\\d+)')"
      ],
      "metadata": {
        "id": "AyYb_WfRIIGP"
      },
      "execution_count": 176,
      "outputs": []
    },
    {
      "cell_type": "code",
      "source": [
        "print(df_nums.loc[27])\n",
        "df.loc[27, 'comment']"
      ],
      "metadata": {
        "colab": {
          "base_uri": "https://localhost:8080/",
          "height": 157
        },
        "id": "HS1yeE-MIoHe",
        "outputId": "9325cbb9-0ce6-4b68-b491-cef863c93b55"
      },
      "execution_count": 183,
      "outputs": [
        {
          "output_type": "stream",
          "name": "stdout",
          "text": [
            "      number\n",
            "match       \n",
            "0         63\n",
            "1         40\n"
          ]
        },
        {
          "output_type": "execute_result",
          "data": {
            "text/plain": [
              "\"To all the people that said she is a good teacher you are insane.  First test, the average was 63 and first quiz the average was 40. She didn't curve it at all and didn't understand why we would want one.  What she teaches is so simplistic compared to what she puts on the test. Good luck because she will probably be the reason you fail out...\""
            ],
            "application/vnd.google.colaboratory.intrinsic+json": {
              "type": "string"
            }
          },
          "metadata": {},
          "execution_count": 183
        }
      ]
    },
    {
      "cell_type": "markdown",
      "source": [
        "# Observations\n",
        "* There are duplicates in the comments, easy to drop though\n",
        "* Professor id was not scraped, **NEEDS TO BE DONE IN FUTURE SCRAPES**\n",
        "* Clarity rating rounds down\n",
        "* Clarity ratings skew positve, then heavily negative (5, 4, then 1)\n",
        "* Some comments are null, and some are null with the text \"No Comments\".\n",
        "* There are swear words in some of the reviews, though they may not have been admin reviewed. **Grab this feature when scraping**\n",
        "* Comments sometimes mention their grade, sometimes enclosed in quotes. While this isn't accounted for right now, should be in the future\n",
        "* Classes have abbreviations, will be hard to capture true class\n",
        "* Emojis are filtered out, but how to deal with emoticons like :)?"
      ],
      "metadata": {
        "id": "nqewMlaRGB8V"
      }
    },
    {
      "cell_type": "markdown",
      "source": [
        "# TODO\n"
      ],
      "metadata": {
        "id": "KBH70oAnRtqc"
      }
    },
    {
      "cell_type": "markdown",
      "source": [
        "* Have to figure out a way to find reviews that contain words that our models don't have (slang words)\n",
        "* How to deal with numbers (0-9) and normalize them; might need to just completely ignore them for now\n",
        "* Abbreviations like w/ need to be expanded\n",
        "* ~~**Deal with html entities, either by parsing them or removing them**~~\n",
        "* Common abbreviations using & need to be dealt with (slightly challenging, because it might be like q&a which means question and answer, or & in a university name like A&M)"
      ],
      "metadata": {
        "id": "rAJZ1Mm7Mf0k"
      }
    }
  ]
}