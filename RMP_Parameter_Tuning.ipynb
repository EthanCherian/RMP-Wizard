{
  "cells": [
    {
      "cell_type": "markdown",
      "metadata": {
        "id": "gQV3OxqpZG_N"
      },
      "source": [
        "# Preprocessing Setup\n",
        "Basic steps, because there are domain specific problems to account for later"
      ]
    },
    {
      "cell_type": "code",
      "execution_count": null,
      "metadata": {
        "id": "k7nhxQ8_ZI86"
      },
      "outputs": [],
      "source": [
        "import pandas as pd\n",
        "import numpy as np\n",
        "import re\n",
        "import spacy\n",
        "import pkg_resources\n",
        "from spacy.lang.en.stop_words import STOP_WORDS\n",
        "from collections import Counter\n",
        "\n",
        "import nltk\n",
        "from nltk.stem import WordNetLemmatizer\n",
        "from nltk.corpus import words, wordnet, brown"
      ]
    },
    {
      "cell_type": "code",
      "execution_count": null,
      "metadata": {
        "colab": {
          "base_uri": "https://localhost:8080/"
        },
        "id": "6jDqCGD3s7Ku",
        "outputId": "f4816162-c31a-4aeb-de5a-47e07291ce3a"
      },
      "outputs": [
        {
          "name": "stdout",
          "output_type": "stream",
          "text": [
            "\u001b[38;5;2m✔ Download and installation successful\u001b[0m\n",
            "You can now load the package via spacy.load('en_core_web_md')\n"
          ]
        },
        {
          "name": "stderr",
          "output_type": "stream",
          "text": [
            "[nltk_data] Downloading package words to /root/nltk_data...\n",
            "[nltk_data]   Package words is already up-to-date!\n",
            "[nltk_data] Downloading package omw-1.4 to /root/nltk_data...\n",
            "[nltk_data]   Package omw-1.4 is already up-to-date!\n",
            "[nltk_data] Downloading package wordnet to /root/nltk_data...\n",
            "[nltk_data]   Package wordnet is already up-to-date!\n"
          ]
        },
        {
          "data": {
            "text/plain": [
              "True"
            ]
          },
          "execution_count": 2,
          "metadata": {},
          "output_type": "execute_result"
        }
      ],
      "source": [
        "# !pip install symspellpy\n",
        "\n",
        "from spacy.cli import download\n",
        "download('en_core_web_md')\n",
        "nltk.download('words')\n",
        "nltk.download('omw-1.4')\n",
        "nltk.download('wordnet')"
      ]
    },
    {
      "cell_type": "code",
      "execution_count": null,
      "metadata": {
        "id": "MnPL-zIAs8Ml"
      },
      "outputs": [],
      "source": [
        "# from symspellpy import SymSpell, Verbosity"
      ]
    },
    {
      "cell_type": "code",
      "execution_count": null,
      "metadata": {
        "colab": {
          "base_uri": "https://localhost:8080/"
        },
        "id": "UMSveQ7KZ2R_",
        "outputId": "c8f52a31-31ff-407d-a716-66783d4ba36f"
      },
      "outputs": [
        {
          "name": "stdout",
          "output_type": "stream",
          "text": [
            "Drive already mounted at /content/drive; to attempt to forcibly remount, call drive.mount(\"/content/drive\", force_remount=True).\n"
          ]
        }
      ],
      "source": [
        "from google.colab import drive\n",
        "drive.mount('/content/drive')"
      ]
    },
    {
      "cell_type": "code",
      "execution_count": null,
      "metadata": {
        "id": "yLicijJQZLzr"
      },
      "outputs": [],
      "source": [
        "reviews = pd.read_csv(\"/content/drive/MyDrive/RMP/reviews_filtered.csv\").sample(n=300000, random_state=1)\n",
        "# reviews = pd.read_csv(\"/content/drive/MyDrive/RMP/scraped_comments_with_professor.csv\").sample(n=300000, random_state=1)\n",
        "# reviews[['comment_id', 'firstName', 'lastName', 'prof_class', 'comment', 'clarityRating', 'helpfulRating']].to_csv(\"/content/drive/MyDrive/RMP/scraped_comments_sample.csv\")"
      ]
    },
    {
      "cell_type": "code",
      "execution_count": null,
      "metadata": {
        "colab": {
          "base_uri": "https://localhost:8080/",
          "height": 548
        },
        "id": "9vGcWkCVlghQ",
        "outputId": "28e22846-b43c-445b-a681-1cd0b54287e5"
      },
      "outputs": [
        {
          "data": {
            "text/html": [
              "\n",
              "  <div id=\"df-360c42f4-7dd5-4ce6-ad48-7e70e190f6a0\">\n",
              "    <div class=\"colab-df-container\">\n",
              "      <div>\n",
              "<style scoped>\n",
              "    .dataframe tbody tr th:only-of-type {\n",
              "        vertical-align: middle;\n",
              "    }\n",
              "\n",
              "    .dataframe tbody tr th {\n",
              "        vertical-align: top;\n",
              "    }\n",
              "\n",
              "    .dataframe thead th {\n",
              "        text-align: right;\n",
              "    }\n",
              "</style>\n",
              "<table border=\"1\" class=\"dataframe\">\n",
              "  <thead>\n",
              "    <tr style=\"text-align: right;\">\n",
              "      <th></th>\n",
              "      <th>Unnamed: 0</th>\n",
              "      <th>firstName</th>\n",
              "      <th>lastName</th>\n",
              "      <th>prof_class</th>\n",
              "      <th>comment</th>\n",
              "      <th>date</th>\n",
              "      <th>clarityRating</th>\n",
              "      <th>helpfulRating</th>\n",
              "      <th>professor_id</th>\n",
              "      <th>comment_id</th>\n",
              "      <th>qualityRating</th>\n",
              "      <th>sentiment</th>\n",
              "    </tr>\n",
              "  </thead>\n",
              "  <tbody>\n",
              "    <tr>\n",
              "      <th>307424</th>\n",
              "      <td>652065</td>\n",
              "      <td>Daniel</td>\n",
              "      <td>Propson</td>\n",
              "      <td>PHIL1010</td>\n",
              "      <td>Amazing professor! He is so kind and friendly ...</td>\n",
              "      <td>2013-08-25 04:50:41+00:00</td>\n",
              "      <td>5</td>\n",
              "      <td>5</td>\n",
              "      <td>VGVhY2hlci0xNDEyOTA1</td>\n",
              "      <td>UmF0aW5nLTIyMDgxOTI2</td>\n",
              "      <td>5.0</td>\n",
              "      <td>True</td>\n",
              "    </tr>\n",
              "    <tr>\n",
              "      <th>265217</th>\n",
              "      <td>620499</td>\n",
              "      <td>Carol</td>\n",
              "      <td>Nauman</td>\n",
              "      <td>MTH94</td>\n",
              "      <td>I took this class in Spring of 2015, this was ...</td>\n",
              "      <td>2016-06-14 21:08:43+00:00</td>\n",
              "      <td>5</td>\n",
              "      <td>5</td>\n",
              "      <td>VGVhY2hlci0xMzMxMDMy</td>\n",
              "      <td>UmF0aW5nLTI2NzI2MDc1</td>\n",
              "      <td>5.0</td>\n",
              "      <td>True</td>\n",
              "    </tr>\n",
              "    <tr>\n",
              "      <th>140855</th>\n",
              "      <td>351290</td>\n",
              "      <td>Christine</td>\n",
              "      <td>Mains</td>\n",
              "      <td>GNED1401</td>\n",
              "      <td>Condescending and does not respect students. T...</td>\n",
              "      <td>2015-12-02 17:01:35+00:00</td>\n",
              "      <td>1</td>\n",
              "      <td>1</td>\n",
              "      <td>VGVhY2hlci0xMzA0MTgy</td>\n",
              "      <td>UmF0aW5nLTI1NTI4MTc1</td>\n",
              "      <td>1.0</td>\n",
              "      <td>False</td>\n",
              "    </tr>\n",
              "    <tr>\n",
              "      <th>181201</th>\n",
              "      <td>818880</td>\n",
              "      <td>Laura</td>\n",
              "      <td>Rutledge</td>\n",
              "      <td>BI55</td>\n",
              "      <td>she didnt seem enthused to teach at all..she w...</td>\n",
              "      <td>2009-08-18 15:26:33+00:00</td>\n",
              "      <td>1</td>\n",
              "      <td>1</td>\n",
              "      <td>VGVhY2hlci05OTMzMDk=</td>\n",
              "      <td>UmF0aW5nLTE2MTMxMTQy</td>\n",
              "      <td>1.0</td>\n",
              "      <td>False</td>\n",
              "    </tr>\n",
              "    <tr>\n",
              "      <th>143393</th>\n",
              "      <td>238563</td>\n",
              "      <td>Caryl</td>\n",
              "      <td>Rahn</td>\n",
              "      <td>CGS1060</td>\n",
              "      <td>This professor has a very well organized class...</td>\n",
              "      <td>2014-03-19 11:20:29+00:00</td>\n",
              "      <td>5</td>\n",
              "      <td>5</td>\n",
              "      <td>VGVhY2hlci0xMDQwMzI5</td>\n",
              "      <td>UmF0aW5nLTIyOTI0NTcx</td>\n",
              "      <td>5.0</td>\n",
              "      <td>True</td>\n",
              "    </tr>\n",
              "  </tbody>\n",
              "</table>\n",
              "</div>\n",
              "      <button class=\"colab-df-convert\" onclick=\"convertToInteractive('df-360c42f4-7dd5-4ce6-ad48-7e70e190f6a0')\"\n",
              "              title=\"Convert this dataframe to an interactive table.\"\n",
              "              style=\"display:none;\">\n",
              "        \n",
              "  <svg xmlns=\"http://www.w3.org/2000/svg\" height=\"24px\"viewBox=\"0 0 24 24\"\n",
              "       width=\"24px\">\n",
              "    <path d=\"M0 0h24v24H0V0z\" fill=\"none\"/>\n",
              "    <path d=\"M18.56 5.44l.94 2.06.94-2.06 2.06-.94-2.06-.94-.94-2.06-.94 2.06-2.06.94zm-11 1L8.5 8.5l.94-2.06 2.06-.94-2.06-.94L8.5 2.5l-.94 2.06-2.06.94zm10 10l.94 2.06.94-2.06 2.06-.94-2.06-.94-.94-2.06-.94 2.06-2.06.94z\"/><path d=\"M17.41 7.96l-1.37-1.37c-.4-.4-.92-.59-1.43-.59-.52 0-1.04.2-1.43.59L10.3 9.45l-7.72 7.72c-.78.78-.78 2.05 0 2.83L4 21.41c.39.39.9.59 1.41.59.51 0 1.02-.2 1.41-.59l7.78-7.78 2.81-2.81c.8-.78.8-2.07 0-2.86zM5.41 20L4 18.59l7.72-7.72 1.47 1.35L5.41 20z\"/>\n",
              "  </svg>\n",
              "      </button>\n",
              "      \n",
              "  <style>\n",
              "    .colab-df-container {\n",
              "      display:flex;\n",
              "      flex-wrap:wrap;\n",
              "      gap: 12px;\n",
              "    }\n",
              "\n",
              "    .colab-df-convert {\n",
              "      background-color: #E8F0FE;\n",
              "      border: none;\n",
              "      border-radius: 50%;\n",
              "      cursor: pointer;\n",
              "      display: none;\n",
              "      fill: #1967D2;\n",
              "      height: 32px;\n",
              "      padding: 0 0 0 0;\n",
              "      width: 32px;\n",
              "    }\n",
              "\n",
              "    .colab-df-convert:hover {\n",
              "      background-color: #E2EBFA;\n",
              "      box-shadow: 0px 1px 2px rgba(60, 64, 67, 0.3), 0px 1px 3px 1px rgba(60, 64, 67, 0.15);\n",
              "      fill: #174EA6;\n",
              "    }\n",
              "\n",
              "    [theme=dark] .colab-df-convert {\n",
              "      background-color: #3B4455;\n",
              "      fill: #D2E3FC;\n",
              "    }\n",
              "\n",
              "    [theme=dark] .colab-df-convert:hover {\n",
              "      background-color: #434B5C;\n",
              "      box-shadow: 0px 1px 3px 1px rgba(0, 0, 0, 0.15);\n",
              "      filter: drop-shadow(0px 1px 2px rgba(0, 0, 0, 0.3));\n",
              "      fill: #FFFFFF;\n",
              "    }\n",
              "  </style>\n",
              "\n",
              "      <script>\n",
              "        const buttonEl =\n",
              "          document.querySelector('#df-360c42f4-7dd5-4ce6-ad48-7e70e190f6a0 button.colab-df-convert');\n",
              "        buttonEl.style.display =\n",
              "          google.colab.kernel.accessAllowed ? 'block' : 'none';\n",
              "\n",
              "        async function convertToInteractive(key) {\n",
              "          const element = document.querySelector('#df-360c42f4-7dd5-4ce6-ad48-7e70e190f6a0');\n",
              "          const dataTable =\n",
              "            await google.colab.kernel.invokeFunction('convertToInteractive',\n",
              "                                                     [key], {});\n",
              "          if (!dataTable) return;\n",
              "\n",
              "          const docLinkHtml = 'Like what you see? Visit the ' +\n",
              "            '<a target=\"_blank\" href=https://colab.research.google.com/notebooks/data_table.ipynb>data table notebook</a>'\n",
              "            + ' to learn more about interactive tables.';\n",
              "          element.innerHTML = '';\n",
              "          dataTable['output_type'] = 'display_data';\n",
              "          await google.colab.output.renderOutput(dataTable, element);\n",
              "          const docLink = document.createElement('div');\n",
              "          docLink.innerHTML = docLinkHtml;\n",
              "          element.appendChild(docLink);\n",
              "        }\n",
              "      </script>\n",
              "    </div>\n",
              "  </div>\n",
              "  "
            ],
            "text/plain": [
              "        Unnamed: 0  firstName  lastName prof_class  \\\n",
              "307424      652065     Daniel   Propson   PHIL1010   \n",
              "265217      620499      Carol    Nauman      MTH94   \n",
              "140855      351290  Christine     Mains   GNED1401   \n",
              "181201      818880      Laura  Rutledge       BI55   \n",
              "143393      238563      Caryl      Rahn    CGS1060   \n",
              "\n",
              "                                                  comment  \\\n",
              "307424  Amazing professor! He is so kind and friendly ...   \n",
              "265217  I took this class in Spring of 2015, this was ...   \n",
              "140855  Condescending and does not respect students. T...   \n",
              "181201  she didnt seem enthused to teach at all..she w...   \n",
              "143393  This professor has a very well organized class...   \n",
              "\n",
              "                             date  clarityRating  helpfulRating  \\\n",
              "307424  2013-08-25 04:50:41+00:00              5              5   \n",
              "265217  2016-06-14 21:08:43+00:00              5              5   \n",
              "140855  2015-12-02 17:01:35+00:00              1              1   \n",
              "181201  2009-08-18 15:26:33+00:00              1              1   \n",
              "143393  2014-03-19 11:20:29+00:00              5              5   \n",
              "\n",
              "                professor_id            comment_id  qualityRating  sentiment  \n",
              "307424  VGVhY2hlci0xNDEyOTA1  UmF0aW5nLTIyMDgxOTI2            5.0       True  \n",
              "265217  VGVhY2hlci0xMzMxMDMy  UmF0aW5nLTI2NzI2MDc1            5.0       True  \n",
              "140855  VGVhY2hlci0xMzA0MTgy  UmF0aW5nLTI1NTI4MTc1            1.0      False  \n",
              "181201  VGVhY2hlci05OTMzMDk=  UmF0aW5nLTE2MTMxMTQy            1.0      False  \n",
              "143393  VGVhY2hlci0xMDQwMzI5  UmF0aW5nLTIyOTI0NTcx            5.0       True  "
            ]
          },
          "execution_count": 6,
          "metadata": {},
          "output_type": "execute_result"
        }
      ],
      "source": [
        "reviews.head()"
      ]
    },
    {
      "cell_type": "markdown",
      "metadata": {
        "id": "tGS9yvAMag7H"
      },
      "source": [
        "## Duplicates and Nulls"
      ]
    },
    {
      "cell_type": "code",
      "execution_count": null,
      "metadata": {
        "colab": {
          "base_uri": "https://localhost:8080/"
        },
        "id": "CLUgn5sbZ_1g",
        "outputId": "975ad8a5-4c72-42d3-dabe-7dc03bcd1eca"
      },
      "outputs": [
        {
          "name": "stdout",
          "output_type": "stream",
          "text": [
            "Shape before dropping: (300000, 12)\n",
            "Shape after dropping: (300000, 12)\n"
          ]
        }
      ],
      "source": [
        "print(\"Shape before dropping:\", reviews.shape)\n",
        "reviews.drop_duplicates(subset=\"comment_id\", keep=\"first\", inplace=True)\n",
        "\n",
        "reviews.drop_duplicates(subset=\"comment\", keep=\"first\", inplace=True)\n",
        "\n",
        "# drop rows containing only \"No Comments\" (default value assigned by RMP to a review that didn't enter a comment)\n",
        "reviews = reviews[reviews[\"comment\"] != \"No Comments\"]\n",
        "\n",
        "# drop rows containing NaN comment\n",
        "reviews.dropna(subset=[\"comment\"], inplace=True)\n",
        "\n",
        "# fill null names with empty string\n",
        "reviews['firstName'].fillna('', inplace=True)\n",
        "reviews['lastName'].fillna('', inplace=True)\n",
        "\n",
        "# Dropping reviews with qualityRating == 3.0\n",
        "reviews['qualityRating'] = (reviews['helpfulRating']+reviews['clarityRating'])/2.0\n",
        "reviews = reviews[reviews[\"qualityRating\"] != 3.0]\n",
        "reviews[\"sentiment\"] = reviews[\"qualityRating\"] > 3.0\n",
        "\n",
        "print(\"Shape after dropping:\", reviews.shape)\n",
        "reviews.reset_index(drop=True, inplace=True)"
      ]
    },
    {
      "cell_type": "markdown",
      "metadata": {
        "id": "yDFaJC7Fe4nk"
      },
      "source": [
        "## Removing Urls, Phone Numbers, and Emails"
      ]
    },
    {
      "cell_type": "code",
      "execution_count": null,
      "metadata": {
        "colab": {
          "base_uri": "https://localhost:8080/"
        },
        "id": "yzZSR-eXe9Cr",
        "outputId": "7944c441-839b-4c4e-ea4b-d32318fc3cfc"
      },
      "outputs": [
        {
          "name": "stdout",
          "output_type": "stream",
          "text": [
            "Hey! Check out this link:  \n",
            "Hey! Check out this phone number:  \n",
            "Hey! Check out this email address:  \n"
          ]
        }
      ],
      "source": [
        "def remove_urls(text):\n",
        "    return re.sub(r'https?://\\S+|www\\.\\S+', ' ', text)\n",
        "\n",
        "def remove_phones(text):\n",
        "    return re.sub(r'\\d{3}-\\d{3}-\\d{4}', ' ', text)\n",
        "\n",
        "def remove_emails(text):\n",
        "    return re.sub(r'[a-zA-Z0-9_.+-]+@[a-zA-Z0-9-]+\\.[a-zA-Z0-9-.]+', ' ', text)\n",
        "\n",
        "print(remove_urls('Hey! Check out this link: www.somelink.com'))\n",
        "print(remove_phones(\"Hey! Check out this phone number: 742-457-0417\"))\n",
        "print(remove_emails(\"Hey! Check out this email address: nooneuses@yahoo.com\"))"
      ]
    },
    {
      "cell_type": "markdown",
      "metadata": {
        "id": "ZDTjxLjqnu-B"
      },
      "source": [
        "## Html Artifacts"
      ]
    },
    {
      "cell_type": "code",
      "execution_count": null,
      "metadata": {
        "colab": {
          "base_uri": "https://localhost:8080/"
        },
        "id": "BEmTjY8mnzaQ",
        "outputId": "04f26bf3-d6fe-4654-8840-311165e09544"
      },
      "outputs": [
        {
          "name": "stdout",
          "output_type": "stream",
          "text": [
            "This professor is such an easy  A , why are y'all struggling    </div>\n",
            "This professor is such an easy &quot;A&quot;, why are y'all struggling &#63;&#63;&#63  \n"
          ]
        }
      ],
      "source": [
        "# TODO: Convert html entites of quotes -> \"'\" to normalize\n",
        "def remove_html_entities(text):\n",
        "  text = re.sub('&[0-9a-zA-Z#]+;', ' ', text)\n",
        "  return re.sub('&#63;?', '', text)\n",
        "\n",
        "def remove_html_tags(text):\n",
        "  return re.sub('<.{1,6}?>', ' ', text)\n",
        "\n",
        "text = \"This professor is such an easy &quot;A&quot;, why are y'all struggling &#63;&#63;&#63 </div>\"\n",
        "print(remove_html_entities(text))\n",
        "print(remove_html_tags(text))"
      ]
    },
    {
      "cell_type": "markdown",
      "metadata": {
        "id": "BxBEJJO9a-Jo"
      },
      "source": [
        "## Emoticon Conversion to Words"
      ]
    },
    {
      "cell_type": "code",
      "execution_count": null,
      "metadata": {
        "id": "Rf2Q8b2TbAsr"
      },
      "outputs": [],
      "source": [
        "#@title Emoticon Mapping\n",
        "EMOTICONS = {\n",
        "    u\"<3\": \"emopos\",\n",
        "    u\":‑)\":\"emopos\",\n",
        "    u\":-))\":\"emopos\",\n",
        "    u\":-)))\":\"emopos\",\n",
        "    u\":)\":\"emopos\",\n",
        "    u\":))\":\"emopos\",\n",
        "    u\":)))\":\"emopos\",\n",
        "    u\":-]\":\"emopos\",\n",
        "    u\":]\":\"emopos\",\n",
        "    u\":-3\":\"emopos\",\n",
        "    u\":3\":\"emopos\",\n",
        "    u\":->\":\"emopos\",\n",
        "    u\":>\":\"emopos\",\n",
        "    u\"8-)\":\"emopos\",\n",
        "    u\":-}\":\"emopos\",\n",
        "    u\":}\":\"emopos\",\n",
        "    u\":-)\":\"emopos\",\n",
        "    u\":c)\":\"emopos\",\n",
        "    u\":^)\":\"emopos\",\n",
        "    u\"=]\":\"emopos\",\n",
        "    u\"=)\":\"emopos\",\n",
        "    u\":‑D\":\"emopos\",\n",
        "    u\":D\":\"emopos\",\n",
        "    u\"8‑D\":\"emopos\",\n",
        "    u\"8D\":\"emopos\",\n",
        "    u\"X‑D\":\"emopos\",\n",
        "    u\"XD\":\"emopos\",\n",
        "    u\"=D\":\"emopos\",\n",
        "    u\"=3\":\"emopos\",\n",
        "    u\"B^D\":\"emopos\",\n",
        "    u\":-))\":\"emopos\",\n",
        "    u\":-(\":\"emoneg\",\n",
        "    u\":‑(\":\"emoneg\",\n",
        "    u\":(\":\"emoneg\",\n",
        "    u\":‑c\":\"emoneg\",\n",
        "    u\":c\":\"emoneg\",\n",
        "    u\":‑<\":\"emoneg\",\n",
        "    u\":<\":\"emoneg\",\n",
        "    u\":‑[\":\"emoneg\",\n",
        "    u\":[\":\"emoneg\",\n",
        "    u\":-||\":\"emoneg\",\n",
        "    u\">:[\":\"emoneg\",\n",
        "    u\":{\":\"emoneg\",\n",
        "    u\">:(\":\"emoneg\",\n",
        "    u\":'‑(\":\"emoneg\",\n",
        "    u\":'(\":\"emoneg\",\n",
        "    u\":'‑)\":\"emopos\",\n",
        "    u\":')\":\"emopos\",\n",
        "    u\"D‑':\":\"emoneg\",\n",
        "    u\"D:<\":\"emoneg\",\n",
        "    u\"D:\":\"emoneg\",\n",
        "    u\"D8\":\"emoneg\",\n",
        "    u\"D;\":\"emoneg\",\n",
        "    u\"D=\":\"emoneg\",\n",
        "    u\"DX\":\"emoneg\",\n",
        "    u\";‑)\":\"emopos\",\n",
        "    u\";)\":\"emopos\",\n",
        "    u\"*-)\":\"emopos\",\n",
        "    u\"*)\":\"emopos\",\n",
        "    u\";‑]\":\"emopos\",\n",
        "    u\";]\":\"emopos\",\n",
        "    u\";^)\":\"emopos\",\n",
        "    u\":‑,\":\"emopos\",\n",
        "    u\";D\":\"emopos\",\n",
        "    u\":‑P\":\"emopos\",\n",
        "    u\":P\":\"emopos\",\n",
        "    u\"X‑P\":\"emopos\",\n",
        "    u\"XP\":\"emopos\",\n",
        "    u\":‑Þ\":\"emopos\",\n",
        "    u\":Þ\":\"emopos\",\n",
        "    u\"=p\":\"emopos\",\n",
        "    u\":‑/\":\"emoneg\",\n",
        "    u\":/\":\"emoneg\",\n",
        "    u\":-[.]\":\"emoneg\",\n",
        "    u\">:[(\\)]\":\"emoneg\",\n",
        "    u\">:/\":\"emoneg\",\n",
        "    u\":[(\\)]\":\"emoneg\",\n",
        "    u\"=/\":\"emoneg\",\n",
        "    u\"=[(\\)]\":\"emoneg\",\n",
        "    u\":L\":\"emoneg\",\n",
        "    u\"=L\":\"emoneg\",\n",
        "    u\":‑|\":\"emoneg\",\n",
        "    u\":|\":\"emoneg\",\n",
        "    u\"O:‑)\":\"emopos\",\n",
        "    u\"O:)\":\"emopos\",\n",
        "    u\"0:‑3\":\"emopos\",\n",
        "    u\"0:3\":\"emopos\",\n",
        "    u\"0:‑)\":\"emopos\",\n",
        "    u\"0:)\":\"emopos\",\n",
        "    u\":‑b\":\"emopos\",\n",
        "    u\"(>_<)\":\"emoneg\",\n",
        "    u\"(>_<)>\":\"emoneg\",\n",
        "    u\"^_^\":\"emopos\",\n",
        "    u\"(^_^)/\":\"emopos\",\n",
        "    u\"(^O^)／\":\"emopos\",\n",
        "    u\"(^o^)／\":\"emopos\",\n",
        "    u\"('_')\":\"emoneg\",\n",
        "    u\"(/_;)\":\"emoneg\",\n",
        "    u\"(T_T) (;_;)\":\"emoneg\",\n",
        "    u\"(;_;\":\"emoneg\",\n",
        "    u\"(;_:)\":\"emoneg\",\n",
        "    u\"(;O;)\":\"emoneg\",\n",
        "    u\"(:_;)\":\"emoneg\",\n",
        "    u\"(ToT)\":\"emoneg\",\n",
        "    u\";_;\":\"emoneg\",\n",
        "    u\";-;\":\"emoneg\",\n",
        "    u\";n;\":\"emoneg\",\n",
        "    u\"Q.Q\":\"emoneg\",\n",
        "    u\"T.T\":\"emoneg\",\n",
        "    u\"Q_Q\":\"emoneg\",\n",
        "    u\"(-.-)\":\"emopos\",\n",
        "    u\"(-_-)\":\"emopos\",\n",
        "    u\"(；一_一)\":\"emopos\",\n",
        "    u\"(=_=)\":\"emoneg\",\n",
        "    u\"^m^\":\"emopos\",\n",
        "    u\">^_^<\":\"emopos\",\n",
        "    u\"<^!^>\":\"emopos\",\n",
        "    u\"^/^\":\"emopos\",\n",
        "    u\"（*^_^*）\" :\"emopos\",\n",
        "    u\"(^<^) (^.^)\":\"emopos\",\n",
        "    u\"(^^)\":\"emopos\",\n",
        "    u\"(^.^)\":\"emopos\",\n",
        "    u\"(^_^.)\":\"emopos\",\n",
        "    u\"(^_^)\":\"emopos\",\n",
        "    u\"(^^)\":\"emopos\",\n",
        "    u\"(^J^)\":\"emopos\",\n",
        "    u\"(*^.^*)\":\"emopos\",\n",
        "    u\"(^—^）\":\"emopos\",\n",
        "    u\"(#^.^#)\":\"emopos\",\n",
        "    u\"(*^0^*)\":\"emopos\",\n",
        "    u\"(*^^)v\":\"emopos\",\n",
        "    u\"(^_^)v\":\"emopos\",\n",
        "    u'(-\"-)':\"emoneg\",\n",
        "    u\"(ーー;)\":\"emoneg\",\n",
        "    u\"(＾ｖ＾)\":\"emopos\",\n",
        "    u\"(＾ｕ＾)\":\"emopos\",\n",
        "    u\"(^)o(^)\":\"emopos\",\n",
        "    u\"(^O^)\":\"emopos\",\n",
        "    u\"(^o^)\":\"emopos\",\n",
        "    u\")^o^(\":\"emopos\",\n",
        "    u\":O o_O\":\"emoneg\",\n",
        "    u\"o_0\":\"emoneg\",\n",
        "    u\"o.O\":\"emoneg\",\n",
        "    u\"(o.o)\":\"emoneg\",\n",
        "    u\"(*￣m￣)\": \"emoneg\",\n",
        "}\n",
        "\n",
        "for emote, val in EMOTICONS.items():\n",
        "  EMOTICONS[emote] = val.lower().replace(',', ' ').replace(' ', '_')"
      ]
    },
    {
      "cell_type": "code",
      "execution_count": null,
      "metadata": {
        "colab": {
          "base_uri": "https://localhost:8080/"
        },
        "id": "x-jJdrc-bpp9",
        "outputId": "010129f3-7031-4282-ec00-ffe1e9efe895"
      },
      "outputs": [
        {
          "name": "stdout",
          "output_type": "stream",
          "text": [
            "Hello emopos emopos\n"
          ]
        }
      ],
      "source": [
        "def convert_emoticons(text):\n",
        "  return EMOTICONS.get(text, text)\n",
        "  \n",
        "text = \"Hello :-) :-)\"\n",
        "text_split = text.split()\n",
        "for i, txt in enumerate(text_split):\n",
        "  text_split[i] = convert_emoticons(txt)\n",
        "print(' '.join(text_split))"
      ]
    },
    {
      "cell_type": "markdown",
      "metadata": {
        "id": "h9wPsJ3ghEBw"
      },
      "source": [
        "## Contractions"
      ]
    },
    {
      "cell_type": "code",
      "execution_count": null,
      "metadata": {
        "colab": {
          "base_uri": "https://localhost:8080/"
        },
        "id": "VgcFh25YhG5U",
        "outputId": "5f6ffcfa-b7a5-4211-fc50-e10e85c92034"
      },
      "outputs": [
        {
          "data": {
            "text/plain": [
              "147"
            ]
          },
          "execution_count": 12,
          "metadata": {},
          "output_type": "execute_result"
        }
      ],
      "source": [
        "#@title Contraction Mapping\n",
        "contraction_mapping = {\n",
        "    \"dont\": \"do not\",\n",
        "    \"doesnt\": \"does not\",\n",
        "    \"arent\": \"are not\",\n",
        "    \"cant\": \"can not\",\n",
        "    \"couldve\": \"could have\",\n",
        "    \"couldnt\": \"could not\",\n",
        "    \"didnt\": \"did not\",\n",
        "    \"aint\": \"is not\",\n",
        "    \"arent\": \"are not\",\n",
        "    \"hes\": \"he is\",\n",
        "    \"shes\": \"she is\",\n",
        "    \"havent\": \"have not\",\n",
        "    \"hasnt\": \"has not\",\n",
        "    'youll': \"you will\",\n",
        "    \"ive\": \"i have\",\n",
        "    \"youve\": \"you have\",\n",
        "    \"shouldve\": \"should have\",\n",
        "    \"im\": \"i am\",\n",
        "    \"isnt\": \"is not\",\n",
        "    \"ain't\": \"is not\", \n",
        "    \"aren't\": \"are not\",\n",
        "    \"can't\": \"cannot\",\n",
        "    \"'cause\": \"because\", \n",
        "    \"could've\": \"could have\", \n",
        "    \"couldn't\": \"could not\", \n",
        "    \"didn't\": \"did not\",  \n",
        "    \"doesn't\": \"does not\", \n",
        "    \"don't\": \"do not\", \n",
        "    \"hadn't\": \"had not\", \n",
        "    \"hasn't\": \"has not\", \n",
        "    \"shouldnt\": \"should not\",\n",
        "    \"haven't\": \"have not\", \n",
        "    \"he'd\": \"he would\",\n",
        "    \"he'll\": \"he will\", \n",
        "    \"he's\": \"he is\", \n",
        "    \"how'd\": \"how did\", \n",
        "    \"how'd'y\": \"how do you\", \n",
        "    \"how'll\": \"how will\", \n",
        "    \"how's\": \"how is\",\n",
        "    \"i'd\": \"i would\", \n",
        "    \"i'd've\": \"i would have\", \n",
        "    \"i'll\": \"i will\",  \n",
        "    \"i'll've\": \"i will have\",\n",
        "    \"i'm\": \"i am\", \n",
        "    \"i've\": \"i have\", \n",
        "    \"isn't\": \"is not\", \n",
        "    \"it'd\": \"it would\", \n",
        "    \"it'd've\": \"it would have\", \n",
        "    \"it'll\": \"it will\", \n",
        "    \"it'll've\": \"it will have\",\n",
        "    \"it's\": \"it is\", \n",
        "    \"let's\": \"let us\", \n",
        "    \"ma'am\": \"madam\", \n",
        "    \"mayn't\": \"may not\", \n",
        "    \"might've\": \"might have\",\n",
        "    \"mightn't\": \"might not\",\n",
        "    \"mightn't've\": \"might not have\", \n",
        "    \"must've\": \"must have\", \n",
        "    \"mustn't\": \"must not\", \n",
        "    \"mustn't've\": \"must not have\", \n",
        "    \"needn't\": \"need not\", \n",
        "    \"needn't've\": \"need not have\",\n",
        "    \"o'clock\": \"of the clock\", \n",
        "    \"oughtn't\": \"ought not\", \n",
        "    \"oughtn't've\": \"ought not have\", \n",
        "    \"shan't\": \"shall not\", \n",
        "    \"sha'n't\": \"shall not\", \n",
        "    \"shan't've\": \"shall not have\", \n",
        "    \"she'd\": \"she would\", \n",
        "    \"she'd've\": \"she would have\", \n",
        "    \"she'll\": \"she will\", \n",
        "    \"she'll've\": \"she will have\", \n",
        "    \"she's\": \"she is\", \n",
        "    \"should've\": \"should have\", \n",
        "    \"shouldn't\": \"should not\", \n",
        "    \"shouldn't've\": \"should not have\", \n",
        "    \"this's\": \"this is\",\n",
        "    \"this'll\": \"this will\",\n",
        "    \"thisll\": \"this will\",\n",
        "    \"that'd\": \"that would\", \n",
        "    \"that'd've\": \"that would have\", \n",
        "    \"that's\": \"that is\", \n",
        "    \"thats\": \"that is\",\n",
        "    \"there'd\": \"there would\", \n",
        "    \"there'd've\": \"there would have\", \n",
        "    \"there's\": \"there is\", \n",
        "    \"theres\": \"there is\",\n",
        "    \"here's\": \"here is\",\n",
        "    \"heres\": \"here is\",\n",
        "    \"they'd\": \"they would\", \n",
        "    \"they'd've\": \"they would have\", \n",
        "    \"they'll\": \"they will\", \n",
        "    \"they'll've\": \"they will have\", \n",
        "    \"they're\": \"they are\", \n",
        "    \"they've\": \"they have\", \n",
        "    \"to've\": \"to have\", \n",
        "    \"wasn't\": \"was not\", \n",
        "    \"wasnt\": \"was not\",\n",
        "    \"we'd\": \"we would\", \n",
        "    \"we'd've\": \"we would have\", \n",
        "    \"we'll\": \"we will\", \n",
        "    \"we'll've\": \"we will have\", \n",
        "    \"we're\": \"we are\", \n",
        "    \"we've\": \"we have\", \n",
        "    \"weve\": \"we have\",\n",
        "    \"werent\": \"were not\",\n",
        "    \"weren't\": \"were not\", \n",
        "    \"what'll\": \"what will\",\n",
        "    \"whatll\": \"what will\",\n",
        "    \"what'll've\": \"what will have\", \n",
        "    \"what're\": \"what are\",  \n",
        "    \"what's\": \"what is\", \n",
        "    \"what's\": \"what is\",\n",
        "    \"whatve\": \"what have\",\n",
        "    \"what've\": \"what have\", \n",
        "    \"when's\": \"when is\", \n",
        "    \"when've\": \"when have\", \n",
        "    \"where'd\": \"where did\", \n",
        "    \"where's\": \"where is\", \n",
        "    \"wheres\": \"where is\", \n",
        "    \"where've\": \"where have\",\n",
        "    \"who'll\": \"who will\", \n",
        "    \"who'll've\": \"who will have\", \n",
        "    \"who's\": \"who is\", \n",
        "    \"who've\": \"who have\", \n",
        "    \"whys\": \"why is\",\n",
        "    \"why's\": \"why is\", \n",
        "    \"why've\": \"why have\", \n",
        "    \"will've\": \"will have\", \n",
        "    \"willve\": \"will have\",\n",
        "    \"won't\": \"will not\", \n",
        "    \"wont\": \"will not\",\n",
        "    \"won't've\": \"will not have\", \n",
        "    \"would've\": \"would have\", \n",
        "    \"wouldve\": \"would have\",\n",
        "    \"wouldn't\": \"would not\", \n",
        "    \"wouldnt\": \"would not\",\n",
        "    \"wouldn't've\": \"would not have\", \n",
        "    \"y'all\": \"you all\", \n",
        "    \"y'all'd\": \"you all would\",\n",
        "    \"y'all'd've\": \"you all would have\",\n",
        "    \"y'all're\": \"you all are\",\n",
        "    \"y'all've\": \"you all have\",\n",
        "    \"you'd\": \"you would\", \n",
        "    \"you'd've\": \"you would have\", \n",
        "    \"you'll\": \"you will\", \n",
        "    \"you'll've\": \"you will have\", \n",
        "    \"you're\": \"you are\", \n",
        "    \"you've\": \"you have\"\n",
        "}\n",
        "\n",
        "len(contraction_mapping)"
      ]
    },
    {
      "cell_type": "code",
      "execution_count": null,
      "metadata": {
        "colab": {
          "base_uri": "https://localhost:8080/"
        },
        "id": "Rydaj1_hLuSL",
        "outputId": "e9e87c3f-972d-4631-88f3-fd8f0e32b4ba"
      },
      "outputs": [
        {
          "data": {
            "text/plain": [
              "147"
            ]
          },
          "execution_count": 13,
          "metadata": {},
          "output_type": "execute_result"
        }
      ],
      "source": [
        "len(contraction_mapping)"
      ]
    },
    {
      "cell_type": "code",
      "execution_count": null,
      "metadata": {
        "colab": {
          "base_uri": "https://localhost:8080/"
        },
        "id": "Sl1TXvlvmjdx",
        "outputId": "cd1999c7-5056-4a20-dc4e-fff34434fdbf"
      },
      "outputs": [
        {
          "name": "stdout",
          "output_type": "stream",
          "text": [
            "you are a pig and i should have slayed you, grrr\n"
          ]
        }
      ],
      "source": [
        "def expand_contraction(text): # Before expanding contraction, might want to clean of symbols that are not '\n",
        "  return contraction_mapping.get(text, text)\n",
        "\n",
        "text = \"You're a pig and I should've slayed you, grrr\"\n",
        "text_split = text.split()\n",
        "for i, txt in enumerate(text_split):\n",
        "  text_split[i] = expand_contraction(txt.lower())\n",
        "print(' '.join(text_split))"
      ]
    },
    {
      "cell_type": "markdown",
      "metadata": {
        "id": "gt7C3v2wNuNN"
      },
      "source": [
        "## Slang/Vocabulary"
      ]
    },
    {
      "cell_type": "code",
      "execution_count": null,
      "metadata": {
        "id": "4c8Slb5mNx8U"
      },
      "outputs": [],
      "source": [
        "#@title Vocab Mapping\n",
        "vocab_mapping = {\n",
        "    'ta': 'teaching assistant',\n",
        "    'tas', 'teaching assistants',\n",
        "    'biz': 'business',\n",
        "    'hw': 'homework',\n",
        "    'hws': 'homeworks',\n",
        "    'faq': 'frequently answered question',\n",
        "    'faqs': 'frequently answered questions',\n",
        "    'mcq': 'multiple choice question',\n",
        "    'mcqs': 'multiple choice questions',\n",
        "    'frq': 'free response question',\n",
        "    'frqs': 'free response questions',\n",
        "    'ppt': 'powerpoint',\n",
        "    'ppts': 'powerpoints',\n",
        "    'ques': 'question',\n",
        "    'bs': 'bullshit',\n",
        "    'bsing': 'bullshitting',\n",
        "    'bsed': 'bullshitted',\n",
        "    'lol': 'laugh out loud',\n",
        "    'btw': 'by the way',\n",
        "    'imo': 'in my opinion',\n",
        "    'imho': 'in my honest opinion',\n",
        "    'tbh': 'to be honest',\n",
        "    'asap': 'as soon as possible',\n",
        "    'idc': 'i do not care',\n",
        "    'omg': 'oh my god',\n",
        "    'ppl': 'people',\n",
        "    'rip': 'rest in peace',\n",
        "    'srsly': 'seriously',\n",
        "    'thx': 'thanks',\n",
        "    'txt': 'text',\n",
        "    'ur': 'your',\n",
        "    'tho': 'though',\n",
        "    'wtf': 'what the fuck',\n",
        "    'wth': 'what the heck',\n",
        "    'bc': 'because',\n",
        "    'b4': 'before',\n",
        "    'h8': 'hate',\n",
        "    'jk': 'just kidding',\n",
        "    'cuz': 'because',\n",
        "    'coz': 'because',\n",
        "    'cos': 'because',\n",
        "    'pts': 'points',\n",
        "    'pg': 'page',\n",
        "    'req': 'requirement',\n",
        "    'reqs': 'requirements',\n",
        "    'abt': 'about',\n",
        "    'fav': 'favorite',\n",
        "    'lil': 'little'\n",
        "}"
      ]
    },
    {
      "cell_type": "markdown",
      "metadata": {
        "id": "eWtsBJUGtPK8"
      },
      "source": [
        "## Spellchecker"
      ]
    },
    {
      "cell_type": "code",
      "execution_count": null,
      "metadata": {
        "id": "FKD7XvKttROM"
      },
      "outputs": [],
      "source": [
        "# sym_spell = SymSpell(max_dictionary_edit_distance=2, prefix_length=7)\n",
        "# dictionary_path = pkg_resources.resource_filename(\n",
        "#     \"symspellpy\", \"frequency_dictionary_en_82_765.txt\"\n",
        "# )\n",
        "# # term_index is the column of the term and count_index is the\n",
        "# # column of the term frequency\n",
        "# sym_spell.load_dictionary(dictionary_path, term_index=0, count_index=1)\n",
        "\n",
        "# # lookup suggestions for single-word input strings\n",
        "# input_term = \"memebers\"  # misspelling of \"members\"\n",
        "\n",
        "# # Verbosity.TOP gets the best suggestion\n",
        "# suggestion = sym_spell.lookup(input_term, Verbosity.TOP, max_edit_distance=2)\n",
        "# print(suggestion[0], len(suggestion))"
      ]
    },
    {
      "cell_type": "markdown",
      "metadata": {
        "id": "9q3TYcnvmjP7"
      },
      "source": [
        "## Stopwords"
      ]
    },
    {
      "cell_type": "code",
      "execution_count": null,
      "metadata": {
        "id": "kYOoJLdAmkw_"
      },
      "outputs": [],
      "source": [
        "# amend list of stop words to keep whatever it is we want by removing words from list that we want to keep\n",
        "\n",
        "# TODO: is the list of stopwords on git complete and accurate or does someone want to read through all 325 stopwords spacy gives and determine which ones to keep?\n",
        "# stopwords = STOP_WORDS\n",
        "# stopwords.remove(\"but\")\n",
        "# stopwords.remove(\"not\")\n",
        "# stopwords.remove(\"nor\")\n",
        "# stopwords.remove(\"never\")\n",
        "\n",
        "# stopwords = set()\n",
        "gen_stops = set([\"mr\", \"ms\", \"dr\", \"doctor\", \"s\", \"t\", \"i\", \"me\", \"myself\", \"is\", \"she\", \"he\", \"we\", \"him\", \"her\", \"it\"])\n",
        "domain_stops = set([\"book\", \"books\", \"college\", \"colleges\", \"lecture\", \"lectures\", \"university\", \"universities\", \"lab\", \"labs\", \"hw\", \"hws\", \"quiz\", \"quizzes\", \"prof\", \"professor\", \"teacher\", \"class\", \"classes\", \"course\", \"courses\"])\n",
        "stopwords = gen_stops.union(domain_stops)\n"
      ]
    },
    {
      "cell_type": "code",
      "execution_count": null,
      "metadata": {
        "id": "tHxLVIbvjs-N"
      },
      "outputs": [],
      "source": [
        "course_abbreviated_stopwords = {\n",
        "    'eng', 'bio', 'engl', 'hist', 'chem', 'psy', 'soc', 'econ', 'psych', 'span', 'comm', 'acct',\n",
        "    'phil', 'bus', 'enc', 'phys', 'anth', 'acc', 'eco', 'nurs', 'pols', 'spch', 'mgmt', 'geog', 'soci', 'geo',\n",
        "    'phy', 'stat', 'mgt', 'govt', 'gov', 'spa', 'en', 'pol', 'edu', 'gen', 'mkt', 'music', 'alg', 'calc', 'fren',\n",
        "    'poli', 'law', 'crim', 'engr', 'art', 'busn',\n",
        "}\n",
        "\n",
        "course_fluff_stopwords = {\n",
        "    'intro', 'introduction', 'introductory', 'basic', 'concept', 'concepts', 'studies', 'discovery', 'background', 'knowledge',\n",
        "    'materials', 'intermediate', 'advanced', 'managing', 'management', 'theory', 'thoeries', 'design', 'analysis',\n",
        "    'science', 'sciences', 'overview', 'laboratory', 'principles', 'practices', 'contemporary', 'modern',\n",
        "    'civilization', \n",
        "}\n",
        "\n",
        "course_full_stopwords = {\n",
        "    'math', 'english', 'biology', 'history', 'chemistry', 'psychology', 'sociology', 'spanish', 'communication', 'accounting',\n",
        "    'philosophy', 'business', 'physics', 'anthropology', 'ecology', 'economics', 'political', 'management', 'geology',\n",
        "    'statistics', 'government', 'marketing', 'music', 'algebra', 'calculus', 'french', 'german', 'law', 'criminology', 'engineering',\n",
        "    'health', 'art', 'theater', 'astrology', 'science', 'sciences', 'writing', 'finance', 'japanese', 'arab', 'religion', 'ethnic',\n",
        "    'speech', 'culture', 'literature'\n",
        "}\n",
        "\n",
        "stopwords.update(course_abbreviated_stopwords)\n",
        "# stopwords.update(course_fluff_stopwords)\n",
        "stopwords.update(course_full_stopwords)\n",
        "\n",
        "stopwords_small = course_abbreviated_stopwords.union(course_full_stopwords)\n",
        "stopwords_large = stopwords.union(course_fluff_stopwords)\n",
        "stopwords_medium = stopwords"
      ]
    },
    {
      "cell_type": "code",
      "execution_count": null,
      "metadata": {
        "id": "XO8h8-CKkOFG"
      },
      "outputs": [],
      "source": [
        "regex_course_stopwords = [\n",
        "    'math', 'engl', 'bio', 'hist', 'chem', 'psy', 'soc', 'span', 'acct', 'phil',\n",
        "    'phys', 'anth', 'eco', 'pols', 'geo', 'gov', 'alg', 'calc', 'fren', 'germ',\n",
        "    'crim', 'astr', 'sci', 'jap', 'relig', 'ethn', 'russ', 'eur', 'asia', 'afri',\n",
        "    'christ', 'isl', 'ital', 'arch', 'chin'\n",
        "]\n",
        "\n",
        "regex_course_stopwords = [r'\\b' + word + r'\\S+' for word in regex_course_stopwords]\n",
        "regex_course_stopwords.append(r'\\S+' + 'logy' + r'\\b')\n",
        "regex_course_stopwords.append(r'\\S+' + 'phy' + r'\\b')"
      ]
    },
    {
      "cell_type": "markdown",
      "metadata": {
        "id": "PT1TVLy465BY"
      },
      "source": [
        "## Spacy Setup"
      ]
    },
    {
      "cell_type": "code",
      "execution_count": null,
      "metadata": {
        "id": "lyioHaPm67ik"
      },
      "outputs": [],
      "source": [
        "nlp = spacy.load('en_core_web_sm', exclude=['lemmatizer', 'parser', 'textcat', 'custom'])"
      ]
    },
    {
      "cell_type": "markdown",
      "metadata": {
        "id": "zOf9dOyURHNm"
      },
      "source": [
        "# Undersampling\n",
        "Currently the method used to undersample is messy.\n",
        "Not only this, but with multinomial nb the stats are:"
      ]
    },
    {
      "cell_type": "code",
      "execution_count": null,
      "metadata": {
        "id": "n2-48HYpRGsX"
      },
      "outputs": [],
      "source": [
        "# reviews_pos = reviews[reviews['sentiment'] == 1]\n",
        "# reviews_neg = reviews[reviews['sentiment'] == 0]\n",
        "# print(len(reviews_pos), len(reviews_neg))\n",
        "# reviews_pos = reviews[reviews['sentiment'] == 1].sample(n = int(len(reviews_neg)*(.7/.3)), random_state=1) # Messy way of undersampling\n",
        "\n",
        "# print(len(reviews_pos))\n",
        "\n",
        "# reviews_pos.reset_index(inplace=True, drop=True)\n",
        "# reviews_neg.reset_index(inplace=True, drop=True)\n",
        "# reviews = pd.concat([reviews_pos, reviews_neg], ignore_index=True)\n",
        "\n",
        "# print(reviews.sentiment.value_counts())\n",
        "# print(reviews.sentiment.value_counts()[True]/len(reviews))"
      ]
    },
    {
      "cell_type": "markdown",
      "metadata": {
        "id": "x8c1-4PfqaCa"
      },
      "source": [
        "# Preprocessing Pipeline"
      ]
    },
    {
      "cell_type": "code",
      "execution_count": null,
      "metadata": {
        "colab": {
          "base_uri": "https://localhost:8080/"
        },
        "id": "hI6lvtrgqc0i",
        "outputId": "bbe847a7-e725-4df6-961c-18be63223391"
      },
      "outputs": [
        {
          "name": "stdout",
          "output_type": "stream",
          "text": [
            "25000\n",
            "50000\n",
            "75000\n",
            "100000\n",
            "125000\n",
            "150000\n",
            "175000\n",
            "200000\n",
            "225000\n",
            "250000\n",
            "275000\n",
            "300000\n"
          ]
        }
      ],
      "source": [
        "spellchecked_comments = []\n",
        "lemm = WordNetLemmatizer()\n",
        "grades = set(['a', 'b', 'c', 'd', 'e', 'f'])\n",
        "unseen = Counter()\n",
        "\n",
        "def preprocess_pipeline(df):\n",
        "  cnt = 0 # to keep track of progress\n",
        "  comments_proper = []\n",
        "  for index, review in df.iterrows():\n",
        "    comment = review['comment']\n",
        "    fname = review['firstName'].lower().split(' ')\n",
        "    lname = review['lastName'].lower().split(' ')\n",
        "    names = set(fname + lname)\n",
        "\n",
        "    cnt += 1\n",
        "    if cnt % 25000 == 0:\n",
        "      print(cnt)\n",
        "\n",
        "    comment = remove_urls(comment)\n",
        "    comment = remove_phones(comment)\n",
        "    comment = remove_emails(comment)\n",
        "    comment = remove_html_entities(comment)\n",
        "    comment = remove_html_tags(comment)\n",
        "\n",
        "    comment_split = comment.split(' ')\n",
        "    new_comment_split = []\n",
        "    for i, word in enumerate(comment_split):\n",
        "      word = convert_emoticons(word)\n",
        "      word = word.lower()\n",
        "      word = expand_contraction(word)\n",
        "      word = re.sub(\"[^a-z\\s]+\", ' ', word)   # replace characters that are not alphabetic, space, or underscore\n",
        "      # word = word.replace(\"'\", ' ') # replace apostrophe with space\n",
        "      word = re.sub(r'(.)\\1\\1+', '\\g<1>', word)  # replace any three character+ sequence with one\n",
        "      word = re.sub('\\s+', ' ', word)\n",
        "      word = word.strip() # trailing whitespace because punctuation replaced by space\n",
        "      # if word not in names:\n",
        "      new_comment_split.extend(word.split(' '))\n",
        "\n",
        "    # comment = comment.lower()\n",
        "    # comment = re.sub(\"[^a-zA-Z\\s]+\", ' ', comment)   # replace characters that are not alphabetic, space, or underscore\n",
        "    # comment = comment.replace(\"'\", '') # remove apostrophes\n",
        "    # comment = re.sub(r'(.)\\1\\1+', '\\g<1>', comment)  # replace any three characters sequence with one\n",
        "    # comment = re.sub('\\s+', ' ', comment)\n",
        "    # comment = comment.strip() # trailing whitespace because punctuation replaced by space\n",
        "\n",
        "    \n",
        "    # comment_split = comment.split(' ')\n",
        "    # new_comment_split = []\n",
        "    # for i, word in enumerate(comment_split):\n",
        "    #   if word not in names:\n",
        "    #     new_comment_split.append(word)\n",
        "\n",
        "    # Remove partial course names from comments\n",
        "    for course_name in regex_course_stopwords:\n",
        "      comment = re.sub(course_name, ' ', comment)\n",
        "\n",
        "    # Remove names from the comment\n",
        "    for i, word in enumerate(new_comment_split):\n",
        "      if word in names:\n",
        "        new_comment_split[i] = ''\n",
        "      else:\n",
        "        new_comment_split[i] = vocab_mapping.get(word, word)\n",
        "\n",
        "    comment = ' '.join(new_comment_split)\n",
        "    comment = re.sub('\\s+', ' ', comment)\n",
        "    comment = comment.strip()\n",
        "\n",
        "    # comment = [lemm.lemmatize(word) for word in comment.split()] # Lemmatize\n",
        "    # comment = [word for word in comment.split() if word not in stopwords] # remove stopwords\n",
        "    # comment = \" \".join(comment)\n",
        "\n",
        "    # comment = ' '.join(word for word in comment.split() if len(word) > 1)\n",
        "\n",
        "    comments_proper.append(comment)\n",
        "    # spellchecked_comments.append(' '.join(sym_spell.lookup(word, Verbosity.TOP, max_edit_distance=2, include_unknown=True)[0].term for word in comment.split()))\n",
        "  return comments_proper\n",
        "\n",
        "comments_proper = preprocess_pipeline(reviews)"
      ]
    },
    {
      "cell_type": "code",
      "execution_count": null,
      "metadata": {
        "id": "3YUgaFJgA4VL"
      },
      "outputs": [],
      "source": [
        "unseen_words = Counter()\n",
        "people = Counter()\n",
        "def preprocess_pipe(texts):\n",
        "    preproc_pipe = []\n",
        "    for doc in nlp.pipe(texts, batch_size=200):\n",
        "      # for word in doc:\n",
        "      #   if word.pos_ == 'PROPN':\n",
        "      #     unseen_words[word.text] += 1\n",
        "      #     print(word.text, word.pos_)\n",
        "      # print(doc.ents)\n",
        "      for word in doc.ents:\n",
        "        if word.label_ == 'PERSON':\n",
        "          people[word.text] += 1\n",
        "          # print(word.text,word.label_)\n",
        "\n",
        "# preprocess_pipe(comments_proper)\n",
        "# print(unseen_words, len(unseen_words))\n",
        "# print(people, len(people))"
      ]
    },
    {
      "cell_type": "code",
      "execution_count": null,
      "metadata": {
        "colab": {
          "base_uri": "https://localhost:8080/"
        },
        "id": "FoPSuw4tS6hA",
        "outputId": "00293bfd-1fa0-40ff-8c74-691a6a1a79f2"
      },
      "outputs": [
        {
          "name": "stdout",
          "output_type": "stream",
          "text": [
            "Counter()\n"
          ]
        }
      ],
      "source": [
        "print(people)"
      ]
    },
    {
      "cell_type": "code",
      "execution_count": null,
      "metadata": {
        "id": "JEQYPIoJsS7_"
      },
      "outputs": [],
      "source": [
        "# i = 0\n",
        "# for comment, spellcheck_comment in zip(comments_proper, spellchecked_comments):\n",
        "#   print(comment)\n",
        "#   print(spellcheck_comment)\n",
        "#   print('\\n')\n",
        "#   i += 1\n",
        "#   if i == 10:\n",
        "#     break"
      ]
    },
    {
      "cell_type": "code",
      "execution_count": null,
      "metadata": {
        "colab": {
          "base_uri": "https://localhost:8080/"
        },
        "id": "xOD02O1J8tGW",
        "outputId": "54cf96f7-de6b-42be-eab0-76b58e768c1d"
      },
      "outputs": [
        {
          "data": {
            "text/plain": [
              "0     amazing professor he is so kind and friendly a...\n",
              "1     i took this class in spring of this was the to...\n",
              "2     condescending and does not respect students tr...\n",
              "3     she did not seem enthused to teach at all she ...\n",
              "4     this professor has a very well organized class...\n",
              "5     enjoy the class would take a class of his agai...\n",
              "6     easy a when she is doing examples on how to wr...\n",
              "7     this woman is plain terrible worst teacher i h...\n",
              "8     dr is hilarious he acts like he wants the stud...\n",
              "9     dr teaches well but you should be prepared to ...\n",
              "10    i did not learn anything in this class i have ...\n",
              "11    mrs is extremely friendly and willing to work ...\n",
              "12                                         knowledgable\n",
              "13    this teacher is super funny she is a little al...\n",
              "14    professor teaches very well but no matter how ...\n",
              "15    this was a very easy class it seems like as lo...\n",
              "16    prof is a good professor her lectures feel lon...\n",
              "17    this class was an honest ate of time and money...\n",
              "18    fantastic he is extremely clear in his lecture...\n",
              "19    i took dr for pr theory and ended up getting a...\n",
              "20    first off mr is a guy if anyone has taken the ...\n",
              "21    awesome really funny made me understand femini...\n",
              "22    good teacher easy course interesting course wh...\n",
              "23           class is confusing and teacher is confused\n",
              "24    decent teacher but makes tests hard you have t...\n",
              "Name: cleanedComment, dtype: object"
            ]
          },
          "execution_count": 26,
          "metadata": {},
          "output_type": "execute_result"
        }
      ],
      "source": [
        "reviews[\"cleanedComment\"] = pd.Series(comments_proper)\n",
        "# reviews[\"cleanedCommentChecked\"] = pd.Series(spellchecked_comments)\n",
        "reviews['cleanedComment'].head(25)"
      ]
    },
    {
      "cell_type": "code",
      "execution_count": null,
      "metadata": {
        "colab": {
          "base_uri": "https://localhost:8080/"
        },
        "id": "lnRBko2cixUB",
        "outputId": "f76e8a48-fbae-4d48-a3f1-34098fb61bef"
      },
      "outputs": [
        {
          "data": {
            "text/plain": [
              "True     220836\n",
              "False     79164\n",
              "Name: sentiment, dtype: int64"
            ]
          },
          "execution_count": 27,
          "metadata": {},
          "output_type": "execute_result"
        }
      ],
      "source": [
        "reviews['sentiment'].value_counts()"
      ]
    },
    {
      "cell_type": "code",
      "execution_count": null,
      "metadata": {
        "colab": {
          "base_uri": "https://localhost:8080/"
        },
        "id": "GHyYnLveFXXE",
        "outputId": "b1827606-8a2e-4b24-b3fe-78b58bb9447f"
      },
      "outputs": [
        {
          "name": "stdout",
          "output_type": "stream",
          "text": [
            "Amazing professor! He is so kind and friendly and makes class very welcoming! He is definitely a fair grader and does give extra credit. There were about 5 response papers, 2 major essays and 1 exam (which he let us do take home). I would highly recommend this professor! Passed with a B+\n",
            "amazing professor he is so kind and friendly and makes class very welcoming he is definitely a fair grader and does give extra credit there were about response papers major essays and exam which he let us do take home i would highly recommend this professor passed with a b\n",
            "\n",
            "\n",
            "I took this class in Spring of 2015, this was the toughest Math class I had taken this far. Professor Nauman helped me in the math lab on numerous occasions, via email, and no matter what is going on she responds and lets me know what I am doing wrong. She really cares for her students and teaching is absolutely her forte.. Excellent teacher!!!\n",
            "i took this class in spring of this was the toughest math class i had taken this far professor helped me in the math lab on numerous occasions via email and no matter what is going on she responds and lets me know what i am doing wrong she really cares for her students and teaching is absolutely her forte excellent teacher\n",
            "\n",
            "\n",
            "Condescending and does not respect students. Treats students like they are in elementary school. Outright rude sometimes, not supportive of learning. Not a comfortable environment to learn in. Would not recommend her to anyone. \n",
            "condescending and does not respect students treats students like they are in elementary school outright rude sometimes not supportive of learning not a comfortable environment to learn in would not recommend her to anyone\n",
            "\n",
            "\n",
            "she didnt seem enthused to teach at all..she wasnt helpful and when i had a passing in the family she wouldnt let me make up the work i missed\n",
            "she did not seem enthused to teach at all she was not helpful and when i had a passing in the family she would not let me make up the work i missed\n",
            "\n",
            "\n",
            "This professor has a very well organized class. She answers all questions and helps anyone who asks. The class is very easy if you come to class and do the work. Do not cheat.\n",
            "this professor has a very well organized class she answers all questions and helps anyone who asks the class is very easy if you come to class and do the work do not cheat\n",
            "\n",
            "\n",
            "enjoy the class. would take a class of his again any semester.\n",
            "enjoy the class would take a class of his again any semester\n",
            "\n",
            "\n",
            "easy A. when she's doing examples on how to write a paragraph, she's coming up w/ great examples off the top of her head!! she defenitely knows her stuff. i learned how to be more descriptive in my writing. i'm in english 101 now and i'm glad i had her as a teacher b/c she was a whole lot of help. i'd recommend her. i'm telling you easy A.\n",
            "easy a when she is doing examples on how to write a paragraph she is coming up w great examples off the top of her head she defenitely knows her stuff i learned how to be more descriptive in my writing i am in english now and i am glad i had her as a teacher b c she was a whole lot of help i would recommend her i am telling you easy a\n",
            "\n",
            "\n",
            "This woman is plain terrible, worst teacher i've had in my life. Has a monotoned annoying voice that is very difficult to tune into. I rather read the textbook than to attend her class.\n",
            "this woman is plain terrible worst teacher i have had in my life has a monotoned annoying voice that is very difficult to tune into i rather read the textbook than to attend her class\n",
            "\n",
            "\n",
            "Dr. Ng is hilarious.  He acts like he wants the students to fail, but ultimately he is very fair.  Expect extremely long tests and homework assignments.\n",
            "dr is hilarious he acts like he wants the students to fail but ultimately he is very fair expect extremely long tests and homework assignments\n",
            "\n",
            "\n",
            "Dr. Fung teaches well, but you should be prepared to work for a good grade. He'll help you as well, if you're willing to put in the work, which might mean visiting during office hours.\n",
            "dr teaches well but you should be prepared to work for a good grade he will help you as well if you are willing to put in the work which might mean visiting during office hours\n",
            "\n",
            "\n",
            "I didn't learn anything in this class... I have a hard time learning Chemistry as it is... and I just didn't learn it at all. She's one of the better choices though... Northrup or Swartling are better... but Dycus is okay, Get the solutions manual and youll have 100 on the homeworks, but learn it or youll fail the tests and quizzes!READ ON YOUR OWN\n",
            "i did not learn anything in this class i have a hard time learning chemistry as it is and i just did not learn it at all she is one of the better choices though northrup or swartling are better but is okay get the solutions manual and you will have on the homeworks but learn it or you will fail the tests and quizzes read on your own\n",
            "\n",
            "\n",
            "Mrs Yakumithis is extremely friendly and willing to work with you. I cannot imagine her making &quot;cutting&quot; or snide remarks; I don't think it is her nature. You would have to be a real slacker to illicit that sort of response. Do the study guide, and you'll be fine.\n",
            "mrs is extremely friendly and willing to work with you i cannot imagine her making cutting or snide remarks i do not think it is her nature you would have to be a real slacker to illicit that sort of response do the study guide and you will be fine\n",
            "\n",
            "\n",
            "Knowledgable\n",
            "knowledgable\n",
            "\n",
            "\n",
            "This teacher is super funny.  She is a little &quot;all over the place&quot; and she does deviate from the syllabus.  However, when she does deviate from the syllabus, it has always been to the students' benefit.  She is EXTREMELY helpful.  If you do bad in her class, you didn't apply yourself!\n",
            "this teacher is super funny she is a little all over the place and she does deviate from the syllabus however when she does deviate from the syllabus it has always been to the students benefit she is extremely helpful if you do bad in her class you did not apply yourself\n",
            "\n",
            "\n",
            "Professor Wan teaches very well but no matter how many notes you take in his class he does not grade fairly.  I wouldn't recommend him. His favorite grade to give out is a D when you should have pass his class with a C  my homework average was a 90% and I was never absent in his class on his tests I had B's and C's and my final grade was a D.\n",
            "professor teaches very well but no matter how many notes you take in his class he does not grade fairly i would not recommend him his favorite grade to give out is a d when you should have pass his class with a c my homework average was a and i was never absent in his class on his tests i had b s and c s and my final grade was a d\n",
            "\n",
            "\n",
            "This was a very easy class. It seems like as long as you did the work, you got a good grade. Lectures were boring some nights. I personally loved the information taught in this class and thought it could be something used in the business world. I would take his class again.\n",
            "this was a very easy class it seems like as long as you did the work you got a good grade lectures were boring some nights i personally loved the information taught in this class and thought it could be something used in the business world i would take his class again\n",
            "\n",
            "\n",
            "Prof. Livesay is a good professor. Her lectures feel long  and strung out but she stops somewhat frequently for questions. Her tests are pretty hard but as long as you go over the worksheets/packets you should be fine. Overall I would take her again.\n",
            "prof is a good professor her lectures feel long and strung out but she stops somewhat frequently for questions her tests are pretty hard but as long as you go over the worksheets packets you should be fine overall i would take her again\n",
            "\n",
            "\n",
            "This class was an honest ate of time and money. Gave homework on material not covered. Hardly spent any time teaching and got angry when we asked questions\n",
            "this class was an honest ate of time and money gave homework on material not covered hardly spent any time teaching and got angry when we asked questions\n",
            "\n",
            "\n",
            "FANTASTIC. He's extremely clear in his lectures, really knows what he's talking about, gives great examples. We don't use the book much and he doesn't refer to it, but it's useful for studying before exams (his are very fair and to-the-point). He's also hillarious and makes class interesting because he encourages participation.\n",
            "fantastic he is extremely clear in his lectures really knows what he is talking about gives great examples we do not use the book much and he does not refer to it but it is useful for studying before exams his are very fair and to the point he is also hillarious and makes class interesting because he encourages participation\n",
            "\n",
            "\n",
            "I took Dr. Allen for PR Theory and ended up getting an A minus in the class but studied extremely hard for his 3 tests (the 3 tests determine your grade and that's it!) Make sure to pay special attention to how he explains the case studies and his small side comments. He likes to put that info on the tests. Attendance isn't taken but go to class!!!\n",
            "i took dr for pr theory and ended up getting an a minus in the class but studied extremely hard for his tests the tests determine your grade and that is it make sure to pay special attention to how he explains the case studies and his small side comments he likes to put that info on the tests attendance is not taken but go to class\n",
            "\n",
            "\n",
            "First off Mr. Robin Marble is a guy. If anyone has taken the time to meet their online professors they would know that. HE is clear since the beginning in his syllabus what is expected and the assignment due dates. No he's not going to hold your hand. If you can't handle to do it on your own, then don't. Very easy A.\n",
            "first off mr is a guy if anyone has taken the time to meet their online professors they would know that he is clear since the beginning in his syllabus what is expected and the assignment due dates no he is not going to hold your hand if you cannot handle to do it on your own then don t very easy a\n",
            "\n",
            "\n",
            "Awesome. Really funny. Made me understand feminism in a whole new light.\n",
            "awesome really funny made me understand feminism in a whole new light\n",
            "\n",
            "\n",
            "Good teacher. Easy course. Interesting course. What more could you want&#63;\n",
            "good teacher easy course interesting course what more could you want\n",
            "\n",
            "\n",
            "Class is confusing and teacher is confused\n",
            "class is confusing and teacher is confused\n",
            "\n",
            "\n",
            "Decent teacher, but makes tests hard. You have to be a math ace to get an A in this class. Helpfull in and out of class though.\n",
            "decent teacher but makes tests hard you have to be a math ace to get an a in this class helpfull in and out of class though\n",
            "\n",
            "\n",
            "Professor Schmidt was great in lecture. Test averages were around 70% (great compared to some classes). However, I think your success in this class really depends on the TA you have.\n",
            "professor was great in lecture test averages were around great compared to some classes however i think your success in this class really depends on the teaching assistant you have\n",
            "\n",
            "\n",
            "consistently late, consistently unpleasant\n",
            "consistently late consistently unpleasant\n",
            "\n",
            "\n",
            "Dr. Korn is a very nice and approachable professor who really cares about her students success. Although she can be a little disorganized at times her exams come directly from her PowerPoint. Exams and quizzes are very straightforward and there are no surprises.\n",
            "dr korn is a very nice and approachable professor who really cares about her students success although she can be a little disorganized at times her exams come directly from her powerpoint exams and quizzes are very straightforward and there are no surprises\n",
            "\n",
            "\n",
            "She was okay. Very boring class though. Also she changed due dates and requirements and posted a lot online, so even though you were taking a physical class, it felt almost like a hybrid. But did offer a lot of extra credit and we only had to write one paper. She is a tough grader though.\n",
            "she was okay very boring class though also she changed due dates and requirements and posted a lot online so even though you were taking a physical class it felt almost like a hybrid but did offer a lot of extra credit and we only had to write one paper she is a tough grader though\n",
            "\n",
            "\n",
            "This is my favorite professor. You do not have to do the readings. As long as you are willing to come to class and take notes you will ace the class. I frequently went to his office hours and he was very understanding and pushed back deadlines for the whole class\n",
            "this is my favorite professor you do not have to do the readings as long as you are willing to come to class and take notes you will ace the class i frequently went to his office hours and he was very understanding and pushed back deadlines for the whole class\n",
            "\n",
            "\n",
            "I took college algebra in Fall 2008.He is extremely helpful.He try to explain clearly though his accent is not English.I recommend him anyway.\n",
            "i took college algebra in fall he is extremely helpful he try to explain clearly though his accent is not english i recommend him anyway\n",
            "\n",
            "\n",
            "Mr. Ichiro might come off as a hard prof, but his class is so worth it. Demos are really great. He spends a lot of time drawing on the board and values the importance of basic technical skills. Sometimes his lectures might seem too long, but I can tell he has a lot of good knowledge he wants to share  re art history. I recommend taking him!\n",
            "mr might come off as a hard prof but his class is so worth it demos are really great he spends a lot of time drawing on the board and values the importance of basic technical skills sometimes his lectures might seem too long but i can tell he has a lot of good knowledge he wants to share re art history i recommend taking him\n",
            "\n",
            "\n",
            "As with any math class, you will WANT to attend class. She is very good at teaching, always available and I wish she taught the higher levels. Communication with her is the key if you do not understand as she is always willing to help. (Everyone hates Chapter 2 in the book but once you get passed that it gets better). I highly recommend her.\n",
            "as with any math class you will want to attend class she is very good at teaching always available and i wish she taught the higher levels communication with her is the key if you do not understand as she is always willing to help everyone hates chapter in the book but once you get passed that it gets better i highly recommend her\n",
            "\n",
            "\n",
            "Great teacher!!! He works hard to make your future bright. He would guide you and give you in depth politics. He puts it real too. Most fun class I ever had in college out of current almost 90 credits! Take him if you wanna enjoy,learn politics and have fun at the same time.\n",
            "great teacher he works hard to make your future bright he would guide you and give you in depth politics he puts it real too most fun class i ever had in college out of current almost credits take him if you wanna enjoy learn politics and have fun at the same time\n",
            "\n",
            "\n",
            "Don't bother buying the book. The class is pretty easy, and she's incredibly nice. I was disappointed that she hardly emailed back though. Nevertheless, she was a good teacher. Probably one of the sweetest professors. She also clearly loves DePaul!\n",
            "do not bother buying the book the class is pretty easy and she is incredibly nice i was disappointed that she hardly emailed back though nevertheless she was a good teacher probably one of the sweetest professors she also clearly loves depaul\n",
            "\n",
            "\n",
            "He is really good, Pay attention to the test reviews because that's whats going to go on the tests. The final project is really easy. He always has a good attitude to help the students but don't slack on the tests because those are the strongest grade for the rest HE IS REALLY GOOD, I highly recommend him.\n",
            "he is really good pay attention to the test reviews because that is whats going to go on the tests the final project is really easy he always has a good attitude to help the students but do not slack on the tests because those are the strongest grade for the rest he is really good i highly recommend him\n",
            "\n",
            "\n",
            "Siniawski's subtle Midwestern accent is so fantastic. The man is great. The class isn't that hard, there are a few quizzes (lowest is dropped), no exams, a decent sized project or two, homework, but none of it is super time consuming. He is so laid back which makes the class so stress free which made me efficient at work. Best ENGR100 prof by far.\n",
            "s subtle midwestern accent is so fantastic the man is great the class is not that hard there are a few quizzes lowest is dropped no exams a decent sized project or two homework but none of it is super time consuming he is so laid back which makes the class so stress free which made me efficient at work best engr prof by far\n",
            "\n",
            "\n",
            "This class is pretty basic and easy if you participate in your group and attend class. She is a pretty easy grader and wants to see you succeed. She is really nice and a bit quirky in all the good ways. I recommend this teacher!\n",
            "this class is pretty basic and easy if you participate in your group and attend class she is a pretty easy grader and wants to see you succeed she is really nice and a bit quirky in all the good ways i recommend this teacher\n",
            "\n",
            "\n",
            "Viktoria's lectures are clear and concise, and I liked how she explained the math behind the concepts to make things clearer. Her exams were fair, but final was a bit tough. Problem sets didn't really help me prepare for exams. She's very helpful in office hours though. She's kinda funny too :)\n",
            "s lectures are clear and concise and i liked how she explained the math behind the concepts to make things clearer her exams were fair but final was a bit tough problem sets did not really help me prepare for exams she is very helpful in office hours though she is kinda funny too emopos\n",
            "\n",
            "\n",
            "Easy, easy class. Cool guy, subjects get boring sometimes and off-track, but you'll be happy if you show up to class and get involved. Tests and writing assignments are a joke.\n",
            "easy easy class cool guy subjects get boring sometimes and off track but you will be happy if you show up to class and get involved tests and writing assignments are a joke\n",
            "\n",
            "\n",
            "Im currently in my 4th year and he is the BEST professor I've had in Ryerson. You will actually learn and he keeps you engaged in class. You MUST take ANY course with Mark and you feel be amazed!\n",
            "i am currently in my th year and he is the best professor i have had in ryerson you will actually learn and he keeps you engaged in class you must take any course with mark and you feel be amazed\n",
            "\n",
            "\n",
            "Macro was more complexed than I ever thought. This class was difficult at times because I took the accelerated online class however there were plenty of source materials to study along with interactive graphs and powerpoints. You must read the book! The tests were fairly easy if you read the book and the Midterm and Fianl are proctored but not hard\n",
            "macro was more complexed than i ever thought this class was difficult at times because i took the accelerated online class however there were plenty of source materials to study along with interactive graphs and powerpoints you must read the book the tests were fairly easy if you read the book and the midterm and fianl are proctored but not hard\n",
            "\n",
            "\n",
            "Online course was a tediously written list of instructions for students to follow. Retention was poor because students were not doing any thinking on their own. Instructor had a long list of items for the final project that were required at prior to final submission of project. The list was \"hidden\" until submission was to be posted.\n",
            "online course was a tediously written list of instructions for students to follow retention was poor because students were not doing any thinking on their own instructor had a long list of items for the final project that were required at prior to final submission of project the list was hidden until submission was to be posted\n",
            "\n",
            "\n",
            "He mumbled so much during his lectures that you often didn't even know what he was talking about. He was never clear on what he expected from assignments so preparing for them was extremely difficult, and  when he took off points on assignments, his reasoning for doing so was very unclear. Also, he rarely responded to e-mails.\n",
            "he mumbled so much during his lectures that you often did not even know what he was talking about he was never clear on what he expected from assignments so preparing for them was extremely difficult and when he took off points on assignments his reasoning for doing so was very unclear also he rarely responded to e mails\n",
            "\n",
            "\n",
            "Doesn't understand basic narrative structures, is needlessly argumentative and goes off on tangents, doesn't listen to students in discussion (mostly just waits for her turn to talk).    If you disagree with her opinions, she'll mark you down.  Didn't learn a thing in this class.  It's just read-and-regurgitate if you want a good grade.\n",
            "does not understand basic narrative structures is needlessly argumentative and goes off on tangents does not listen to students in discussion mostly just waits for her turn to talk if you disagree with her opinions she will mark you down did not learn a thing in this class it is just read and regurgitate if you want a good grade\n",
            "\n",
            "\n",
            "best language teacher i have ever had.\n",
            "best language teacher i have ever had\n",
            "\n",
            "\n",
            "Prof. Wikstr&ouml;m is the best French teacher I've ever had, and my favorite professor at Tulane so far. He's energetic, enthusiastic, and really wants his students to do well. His class is a lot of work, but it's definitely manageable and definitely worth doing. I highly recommend him to anyone who wants to learn French!\n",
            "prof wikstr m is the best french teacher i have ever had and my favorite professor at tulane so far he is energetic enthusiastic and really wants his students to do well his class is a lot of work but it is definitely manageable and definitely worth doing i highly recommend him to anyone who wants to learn french\n",
            "\n",
            "\n",
            "When I first started this class I was very doubtful on how I would do. Math is my weak subject, but he definetly changed my outlook on it. He made it fun & never wanted to miss a class.I am a lot more confident and definetly feel that I learned soooo much.Tk u!Dr Chandler You're one in a million & definetly have heart. What many are missings Klopez\n",
            "when i first started this class i was very doubtful on how i would do math is my weak subject but he definetly changed my outlook on it he made it fun never wanted to miss a class i am a lot more confident and definetly feel that i learned so much tk u dr you are one in a million definetly have heart what many are missings klopez\n",
            "\n",
            "\n",
            "Professor Maiuzzo is a very nice guy, but he is oblivious to what goes on in class, and he won't understand your questions. You can eat and play videogames with the sound maxed, and he won't notice. His tests are open book/open notes. You CANNOT fail his class, but you won't learn much either. Half of it is reviewing since he forgets where we are.\n",
            "professor is a very nice guy but he is oblivious to what goes on in class and he will not understand your questions you can eat and play videogames with the sound maxed and he will not notice his tests are open book open notes you cannot fail his class but you will not learn much either half of it is reviewing since he forgets where we are\n",
            "\n",
            "\n",
            "Prof Cortes es la mejor. mi favorite en la escuela. yo le amo senora!y tu clase rocks.\n",
            "prof es la mejor mi favorite en la escuela yo le amo senora y tu clase rocks\n",
            "\n",
            "\n"
          ]
        }
      ],
      "source": [
        "for index, row in reviews.head(50).iterrows():\n",
        "    print(row['comment'])\n",
        "    print(row['cleanedComment'])\n",
        "    print('\\n')"
      ]
    },
    {
      "cell_type": "code",
      "execution_count": null,
      "metadata": {
        "id": "sWKakPo-v8xK"
      },
      "outputs": [],
      "source": [
        "# dropping rows <= 5\n",
        "# reviews['wordCount'] = reviews[\"cleanedComment\"].str.split().str.len()\n",
        "# reviews[['wordCount', 'cleanedComment']].head(5)\n",
        "\n",
        "# reviews = reviews[reviews['wordCount'] > 5]\n",
        "# reviews.shape\n",
        "reviews = reviews.loc[:, [\"firstName\", \"lastName\", \"comment\", \"cleanedComment\", \"clarityRating\", \"sentiment\", \"professor_id\"]]"
      ]
    },
    {
      "cell_type": "markdown",
      "metadata": {
        "id": "2fgpG8vr9bdI"
      },
      "source": [
        "# Document Sentiment Pipeline"
      ]
    },
    {
      "cell_type": "code",
      "execution_count": null,
      "metadata": {
        "id": "hODBzDigiKcz"
      },
      "outputs": [],
      "source": [
        "from sklearn.feature_extraction.text import CountVectorizer, TfidfVectorizer\n",
        "from sklearn.model_selection import train_test_split, RandomizedSearchCV, StratifiedGroupKFold\n",
        "from sklearn.naive_bayes import MultinomialNB\n",
        "from sklearn.linear_model import LogisticRegression\n",
        "from sklearn.tree import DecisionTreeClassifier\n",
        "from sklearn.metrics import accuracy_score, f1_score, precision_score, recall_score, confusion_matrix\n",
        "\n",
        "from sklearn.feature_selection import chi2, SelectPercentile, SelectKBest\n",
        "from sklearn.pipeline import Pipeline"
      ]
    },
    {
      "cell_type": "code",
      "execution_count": null,
      "metadata": {
        "id": "RWK7q8fLik7s"
      },
      "outputs": [],
      "source": [
        "def evalPerformance(yp, yt, mode=\"micro\"):\n",
        "    prec_score = precision_score(yt, yp)\n",
        "    rec_score = recall_score(yt, yp)\n",
        "    f1 = f1_score(yt, yp, average=mode)\n",
        "    acc_score = accuracy_score(yt, yp)\n",
        "    conf_m = confusion_matrix(yt, yp)\n",
        "\n",
        "\n",
        "    print(f\"Precision Score: {prec_score*100}\")\n",
        "    print(f\"Recall Score: {rec_score*100}\")\n",
        "    print(\"F1 Score: {0}\".format(f1 * 100))\n",
        "    print(\"Accuracy Score: \" + str(acc_score * 100))\n",
        "    print(conf_m)\n"
      ]
    },
    {
      "cell_type": "code",
      "execution_count": null,
      "metadata": {
        "colab": {
          "base_uri": "https://localhost:8080/",
          "height": 1000
        },
        "id": "LgV4O0LccPE8",
        "outputId": "50975318-121c-4df0-c0ab-bdb31f68baa1"
      },
      "outputs": [
        {
          "data": {
            "text/html": [
              "\n",
              "  <div id=\"df-acd666fc-2438-489b-9753-99b4a745f982\">\n",
              "    <div class=\"colab-df-container\">\n",
              "      <div>\n",
              "<style scoped>\n",
              "    .dataframe tbody tr th:only-of-type {\n",
              "        vertical-align: middle;\n",
              "    }\n",
              "\n",
              "    .dataframe tbody tr th {\n",
              "        vertical-align: top;\n",
              "    }\n",
              "\n",
              "    .dataframe thead th {\n",
              "        text-align: right;\n",
              "    }\n",
              "</style>\n",
              "<table border=\"1\" class=\"dataframe\">\n",
              "  <thead>\n",
              "    <tr style=\"text-align: right;\">\n",
              "      <th></th>\n",
              "      <th></th>\n",
              "      <th>firstName</th>\n",
              "      <th>lastName</th>\n",
              "      <th>comment</th>\n",
              "      <th>clarityRating</th>\n",
              "      <th>sentiment</th>\n",
              "    </tr>\n",
              "    <tr>\n",
              "      <th>professor_id</th>\n",
              "      <th>cleanedComment</th>\n",
              "      <th></th>\n",
              "      <th></th>\n",
              "      <th></th>\n",
              "      <th></th>\n",
              "      <th></th>\n",
              "    </tr>\n",
              "  </thead>\n",
              "  <tbody>\n",
              "    <tr>\n",
              "      <th rowspan=\"5\" valign=\"top\">VGVhY2hlci05Mjc1NTI=</th>\n",
              "      <th>do not take this lady for speech much easier options and you will learn just as much she has to many useless rules and overall she just wants to be in control of everything</th>\n",
              "      <td>.</td>\n",
              "      <td>Ramage</td>\n",
              "      <td>Do Not Take this lady for speech. Much easier ...</td>\n",
              "      <td>1</td>\n",
              "      <td>False</td>\n",
              "    </tr>\n",
              "    <tr>\n",
              "      <th>i cannot say that her methods of grading were unfair however many times requirements for a speech dates and other major things about what was going on were changed in the middle of a lecture if you missed it then you may receive a changes like these are not emphasized if you do not have your outline in hand on speech day you get a</th>\n",
              "      <td>.</td>\n",
              "      <td>Ramage</td>\n",
              "      <td>I can't say that her methods of grading were u...</td>\n",
              "      <td>1</td>\n",
              "      <td>False</td>\n",
              "    </tr>\n",
              "    <tr>\n",
              "      <th>maybe the last commenter should have accepted a few lessons from mrs there are at least two misspelled words and at least one misused word in the comments grammar matters mrs is a very good teacher i learned much more because she taught the correct way of doing things</th>\n",
              "      <td>.</td>\n",
              "      <td>Ramage</td>\n",
              "      <td>Maybe the last commenter should have accepted ...</td>\n",
              "      <td>4</td>\n",
              "      <td>True</td>\n",
              "    </tr>\n",
              "    <tr>\n",
              "      <th>not relly a speech teacher more of just an outline teacher she does not grade you speech just your outline so be orginized i took her and i was not satisfied her style is more of grading the paper based on grammer more of and english class then a speech class</th>\n",
              "      <td>.</td>\n",
              "      <td>Ramage</td>\n",
              "      <td>Not relly a speech teacher more of just an out...</td>\n",
              "      <td>1</td>\n",
              "      <td>False</td>\n",
              "    </tr>\n",
              "    <tr>\n",
              "      <th>she does not put up with nonsense or tardiness at all she expects respect she will teach you the correct way of speaking whether you can adapt to it or not what you learn will definitely benefit you in life very organized prompt with returning grades organization is worth a lot in a busy schedule</th>\n",
              "      <td>.</td>\n",
              "      <td>Ramage</td>\n",
              "      <td>She does not put up with  nonsense or tardines...</td>\n",
              "      <td>4</td>\n",
              "      <td>True</td>\n",
              "    </tr>\n",
              "    <tr>\n",
              "      <th>...</th>\n",
              "      <th>...</th>\n",
              "      <td>...</td>\n",
              "      <td>...</td>\n",
              "      <td>...</td>\n",
              "      <td>...</td>\n",
              "      <td>...</td>\n",
              "    </tr>\n",
              "    <tr>\n",
              "      <th rowspan=\"3\" valign=\"top\">VGVhY2hlci0xNjIxNTU4</th>\n",
              "      <th>dr j aka cobra is amazing not the typical over glorified professors you encounter at walsh he actually has a real phd down to earth and actually selflessly works with students to over come obstacles after the last class i wondered if it be cheezy to shake his hand but apparently more than half the class did so and asked to take future class</th>\n",
              "      <td>Jeremy</td>\n",
              "      <td>Lim</td>\n",
              "      <td>Dr J (aka Cobra) is amazing!! Not the typical ...</td>\n",
              "      <td>5</td>\n",
              "      <td>True</td>\n",
              "    </tr>\n",
              "    <tr>\n",
              "      <th>dr j is awesome and funny knows his stuff real well and demonstrates how marketing theories tie into real world applications i am still blown away by the gorilla video very energetic although english may not be his first language</th>\n",
              "      <td>Jeremy</td>\n",
              "      <td>Lim</td>\n",
              "      <td>Dr J is awesome and funny... Knows his stuff r...</td>\n",
              "      <td>4</td>\n",
              "      <td>True</td>\n",
              "    </tr>\n",
              "    <tr>\n",
              "      <th>interesting and energetic too bad it is on a monday evening</th>\n",
              "      <td>Jeremy</td>\n",
              "      <td>Lim</td>\n",
              "      <td>Interesting and energetic. Too bad it is on a ...</td>\n",
              "      <td>4</td>\n",
              "      <td>True</td>\n",
              "    </tr>\n",
              "    <tr>\n",
              "      <th rowspan=\"2\" valign=\"top\">VGVhY2hlci0xNjIxNTYx</th>\n",
              "      <th>awful professor his quizzes were worded to trick you to the th degree he does not care about how students are doing in the class he expects you to treat his class as the only one take this class at your own risk because it will drop your gpa no matter how good you do in other classes avoid and take another professor instead</th>\n",
              "      <td>Gregorio</td>\n",
              "      <td>Pantoja</td>\n",
              "      <td>Awful professor. His quizzes were worded to tr...</td>\n",
              "      <td>1</td>\n",
              "      <td>False</td>\n",
              "    </tr>\n",
              "    <tr>\n",
              "      <th>i actually had him during intersession at swc he was awesome really passionate he relates history to the present day makes it easy to understand we had quizzes midterm final group project i suck with history but i was actually able to absorb everything with ease great lecturer</th>\n",
              "      <td>Gregorio</td>\n",
              "      <td>Pantoja</td>\n",
              "      <td>I actually had him during intersession at SWC ...</td>\n",
              "      <td>5</td>\n",
              "      <td>True</td>\n",
              "    </tr>\n",
              "  </tbody>\n",
              "</table>\n",
              "<p>299948 rows × 5 columns</p>\n",
              "</div>\n",
              "      <button class=\"colab-df-convert\" onclick=\"convertToInteractive('df-acd666fc-2438-489b-9753-99b4a745f982')\"\n",
              "              title=\"Convert this dataframe to an interactive table.\"\n",
              "              style=\"display:none;\">\n",
              "        \n",
              "  <svg xmlns=\"http://www.w3.org/2000/svg\" height=\"24px\"viewBox=\"0 0 24 24\"\n",
              "       width=\"24px\">\n",
              "    <path d=\"M0 0h24v24H0V0z\" fill=\"none\"/>\n",
              "    <path d=\"M18.56 5.44l.94 2.06.94-2.06 2.06-.94-2.06-.94-.94-2.06-.94 2.06-2.06.94zm-11 1L8.5 8.5l.94-2.06 2.06-.94-2.06-.94L8.5 2.5l-.94 2.06-2.06.94zm10 10l.94 2.06.94-2.06 2.06-.94-2.06-.94-.94-2.06-.94 2.06-2.06.94z\"/><path d=\"M17.41 7.96l-1.37-1.37c-.4-.4-.92-.59-1.43-.59-.52 0-1.04.2-1.43.59L10.3 9.45l-7.72 7.72c-.78.78-.78 2.05 0 2.83L4 21.41c.39.39.9.59 1.41.59.51 0 1.02-.2 1.41-.59l7.78-7.78 2.81-2.81c.8-.78.8-2.07 0-2.86zM5.41 20L4 18.59l7.72-7.72 1.47 1.35L5.41 20z\"/>\n",
              "  </svg>\n",
              "      </button>\n",
              "      \n",
              "  <style>\n",
              "    .colab-df-container {\n",
              "      display:flex;\n",
              "      flex-wrap:wrap;\n",
              "      gap: 12px;\n",
              "    }\n",
              "\n",
              "    .colab-df-convert {\n",
              "      background-color: #E8F0FE;\n",
              "      border: none;\n",
              "      border-radius: 50%;\n",
              "      cursor: pointer;\n",
              "      display: none;\n",
              "      fill: #1967D2;\n",
              "      height: 32px;\n",
              "      padding: 0 0 0 0;\n",
              "      width: 32px;\n",
              "    }\n",
              "\n",
              "    .colab-df-convert:hover {\n",
              "      background-color: #E2EBFA;\n",
              "      box-shadow: 0px 1px 2px rgba(60, 64, 67, 0.3), 0px 1px 3px 1px rgba(60, 64, 67, 0.15);\n",
              "      fill: #174EA6;\n",
              "    }\n",
              "\n",
              "    [theme=dark] .colab-df-convert {\n",
              "      background-color: #3B4455;\n",
              "      fill: #D2E3FC;\n",
              "    }\n",
              "\n",
              "    [theme=dark] .colab-df-convert:hover {\n",
              "      background-color: #434B5C;\n",
              "      box-shadow: 0px 1px 3px 1px rgba(0, 0, 0, 0.15);\n",
              "      filter: drop-shadow(0px 1px 2px rgba(0, 0, 0, 0.3));\n",
              "      fill: #FFFFFF;\n",
              "    }\n",
              "  </style>\n",
              "\n",
              "      <script>\n",
              "        const buttonEl =\n",
              "          document.querySelector('#df-acd666fc-2438-489b-9753-99b4a745f982 button.colab-df-convert');\n",
              "        buttonEl.style.display =\n",
              "          google.colab.kernel.accessAllowed ? 'block' : 'none';\n",
              "\n",
              "        async function convertToInteractive(key) {\n",
              "          const element = document.querySelector('#df-acd666fc-2438-489b-9753-99b4a745f982');\n",
              "          const dataTable =\n",
              "            await google.colab.kernel.invokeFunction('convertToInteractive',\n",
              "                                                     [key], {});\n",
              "          if (!dataTable) return;\n",
              "\n",
              "          const docLinkHtml = 'Like what you see? Visit the ' +\n",
              "            '<a target=\"_blank\" href=https://colab.research.google.com/notebooks/data_table.ipynb>data table notebook</a>'\n",
              "            + ' to learn more about interactive tables.';\n",
              "          element.innerHTML = '';\n",
              "          dataTable['output_type'] = 'display_data';\n",
              "          await google.colab.output.renderOutput(dataTable, element);\n",
              "          const docLink = document.createElement('div');\n",
              "          docLink.innerHTML = docLinkHtml;\n",
              "          element.appendChild(docLink);\n",
              "        }\n",
              "      </script>\n",
              "    </div>\n",
              "  </div>\n",
              "  "
            ],
            "text/plain": [
              "                                                                        firstName  \\\n",
              "professor_id         cleanedComment                                                 \n",
              "VGVhY2hlci05Mjc1NTI= do not take this lady for speech much easier op...         .   \n",
              "                     i cannot say that her methods of grading were u...         .   \n",
              "                     maybe the last commenter should have accepted a...         .   \n",
              "                     not relly a speech teacher more of just an outl...         .   \n",
              "                     she does not put up with nonsense or tardiness ...         .   \n",
              "...                                                                           ...   \n",
              "VGVhY2hlci0xNjIxNTU4 dr j aka cobra is amazing not the typical over ...    Jeremy   \n",
              "                     dr j is awesome and funny knows his stuff real ...    Jeremy   \n",
              "                     interesting and energetic too bad it is on a mo...    Jeremy   \n",
              "VGVhY2hlci0xNjIxNTYx awful professor his quizzes were worded to tric...  Gregorio   \n",
              "                     i actually had him during intersession at swc h...  Gregorio   \n",
              "\n",
              "                                                                        lastName  \\\n",
              "professor_id         cleanedComment                                                \n",
              "VGVhY2hlci05Mjc1NTI= do not take this lady for speech much easier op...   Ramage   \n",
              "                     i cannot say that her methods of grading were u...   Ramage   \n",
              "                     maybe the last commenter should have accepted a...   Ramage   \n",
              "                     not relly a speech teacher more of just an outl...   Ramage   \n",
              "                     she does not put up with nonsense or tardiness ...   Ramage   \n",
              "...                                                                          ...   \n",
              "VGVhY2hlci0xNjIxNTU4 dr j aka cobra is amazing not the typical over ...      Lim   \n",
              "                     dr j is awesome and funny knows his stuff real ...      Lim   \n",
              "                     interesting and energetic too bad it is on a mo...      Lim   \n",
              "VGVhY2hlci0xNjIxNTYx awful professor his quizzes were worded to tric...  Pantoja   \n",
              "                     i actually had him during intersession at swc h...  Pantoja   \n",
              "\n",
              "                                                                                                                   comment  \\\n",
              "professor_id         cleanedComment                                                                                          \n",
              "VGVhY2hlci05Mjc1NTI= do not take this lady for speech much easier op...  Do Not Take this lady for speech. Much easier ...   \n",
              "                     i cannot say that her methods of grading were u...  I can't say that her methods of grading were u...   \n",
              "                     maybe the last commenter should have accepted a...  Maybe the last commenter should have accepted ...   \n",
              "                     not relly a speech teacher more of just an outl...  Not relly a speech teacher more of just an out...   \n",
              "                     she does not put up with nonsense or tardiness ...  She does not put up with  nonsense or tardines...   \n",
              "...                                                                                                                    ...   \n",
              "VGVhY2hlci0xNjIxNTU4 dr j aka cobra is amazing not the typical over ...  Dr J (aka Cobra) is amazing!! Not the typical ...   \n",
              "                     dr j is awesome and funny knows his stuff real ...  Dr J is awesome and funny... Knows his stuff r...   \n",
              "                     interesting and energetic too bad it is on a mo...  Interesting and energetic. Too bad it is on a ...   \n",
              "VGVhY2hlci0xNjIxNTYx awful professor his quizzes were worded to tric...  Awful professor. His quizzes were worded to tr...   \n",
              "                     i actually had him during intersession at swc h...  I actually had him during intersession at SWC ...   \n",
              "\n",
              "                                                                         clarityRating  \\\n",
              "professor_id         cleanedComment                                                      \n",
              "VGVhY2hlci05Mjc1NTI= do not take this lady for speech much easier op...              1   \n",
              "                     i cannot say that her methods of grading were u...              1   \n",
              "                     maybe the last commenter should have accepted a...              4   \n",
              "                     not relly a speech teacher more of just an outl...              1   \n",
              "                     she does not put up with nonsense or tardiness ...              4   \n",
              "...                                                                                ...   \n",
              "VGVhY2hlci0xNjIxNTU4 dr j aka cobra is amazing not the typical over ...              5   \n",
              "                     dr j is awesome and funny knows his stuff real ...              4   \n",
              "                     interesting and energetic too bad it is on a mo...              4   \n",
              "VGVhY2hlci0xNjIxNTYx awful professor his quizzes were worded to tric...              1   \n",
              "                     i actually had him during intersession at swc h...              5   \n",
              "\n",
              "                                                                         sentiment  \n",
              "professor_id         cleanedComment                                                 \n",
              "VGVhY2hlci05Mjc1NTI= do not take this lady for speech much easier op...      False  \n",
              "                     i cannot say that her methods of grading were u...      False  \n",
              "                     maybe the last commenter should have accepted a...       True  \n",
              "                     not relly a speech teacher more of just an outl...      False  \n",
              "                     she does not put up with nonsense or tardiness ...       True  \n",
              "...                                                                            ...  \n",
              "VGVhY2hlci0xNjIxNTU4 dr j aka cobra is amazing not the typical over ...       True  \n",
              "                     dr j is awesome and funny knows his stuff real ...       True  \n",
              "                     interesting and energetic too bad it is on a mo...       True  \n",
              "VGVhY2hlci0xNjIxNTYx awful professor his quizzes were worded to tric...      False  \n",
              "                     i actually had him during intersession at swc h...       True  \n",
              "\n",
              "[299948 rows x 5 columns]"
            ]
          },
          "execution_count": 32,
          "metadata": {},
          "output_type": "execute_result"
        }
      ],
      "source": [
        "review_ids = reviews.groupby(['professor_id', 'cleanedComment']) \n",
        "review_ids.first()"
      ]
    },
    {
      "cell_type": "code",
      "execution_count": null,
      "metadata": {
        "colab": {
          "base_uri": "https://localhost:8080/"
        },
        "id": "f-Z9aUrLZXEO",
        "outputId": "328357a3-9604-44c8-b39d-867898e5caf2"
      },
      "outputs": [
        {
          "name": "stdout",
          "output_type": "stream",
          "text": [
            "['VGVhY2hlci0xNDEyOTA1' 'VGVhY2hlci0xMzMxMDMy' 'VGVhY2hlci0xMzA0MTgy'\n",
            " 'VGVhY2hlci05OTMzMDk=' 'VGVhY2hlci0xMDQwMzI5']\n",
            "0     True\n",
            "1     True\n",
            "2    False\n",
            "3    False\n",
            "4     True\n",
            "Name: sentiment, dtype: bool\n"
          ]
        },
        {
          "data": {
            "text/plain": [
              "0    amazing professor he is so kind and friendly a...\n",
              "1    i took this class in spring of this was the to...\n",
              "2    condescending and does not respect students tr...\n",
              "3    she did not seem enthused to teach at all she ...\n",
              "4    this professor has a very well organized class...\n",
              "Name: cleanedComment, dtype: object"
            ]
          },
          "execution_count": 33,
          "metadata": {},
          "output_type": "execute_result"
        }
      ],
      "source": [
        "groups_professor_id_list = np.array(reviews['professor_id'].values)\n",
        "print(groups_professor_id_list[:5])\n",
        "\n",
        "y = reviews['sentiment']\n",
        "print(y.head(5))\n",
        "\n",
        "X = reviews['cleanedComment']\n",
        "X.head(5)"
      ]
    },
    {
      "cell_type": "markdown",
      "metadata": {
        "id": "vGK0_PdnY06y"
      },
      "source": [
        "## Pipeline"
      ]
    },
    {
      "cell_type": "code",
      "execution_count": null,
      "metadata": {
        "id": "neJl7wH8iFOq"
      },
      "outputs": [],
      "source": [
        "sent_pipeline = Pipeline([\n",
        "    # (\"vectorizer\", CountVectorizer(ngram_range=(1,2), max_df=0.5)), \n",
        "    (\"vectorizer\", TfidfVectorizer(ngram_range=(1,3), min_df = 5)),\n",
        "    (\"selector\"  , SelectPercentile(score_func=chi2, percentile=22)),\n",
        "    (\"classifier\", LogisticRegression(solver='sag', C = 2.5))\n",
        "    # (\"classifier\" , MultinomialNB(alpha=1.0))\n",
        "    # (\"classifer\" , DecisionTreeClassifier(max_depth=5))\n",
        "])"
      ]
    },
    {
      "cell_type": "code",
      "execution_count": null,
      "metadata": {
        "id": "4Xkfrjo7Zyhv"
      },
      "outputs": [],
      "source": [
        "# param_list = {\n",
        "#     'vectorizer__ngram_range': [(1, 3)],\n",
        "#     'vectorizer__min_df': [5, 6, 7],\n",
        "#     'selector__percentile': range(10, 33, 2),\n",
        "#     'classifier__alpha': np.arange(0, .71, .02),\n",
        "# }\n",
        "\n",
        "param_list = {\n",
        "    'vectorizer__ngram_range': [(1, 3)],\n",
        "    'vectorizer__min_df': [5, 6, 7],\n",
        "    'vectorizer__stop_words': [stopwords_small, stopwords_medium, stopwords_large],\n",
        "    'selector__percentile': range(16, 33, 2),\n",
        "    'classifier__solver': ['newton-cg', 'liblinear', 'sag', 'saga'],\n",
        "    'classifier__C': [20, 15, 10, 7.5, 5, 2.5],\n",
        "}"
      ]
    },
    {
      "cell_type": "code",
      "execution_count": null,
      "metadata": {
        "id": "GZApmZcFYg_N"
      },
      "outputs": [],
      "source": [
        "sgkf = StratifiedGroupKFold(n_splits = 5)\n",
        "random_search = RandomizedSearchCV(sent_pipeline, param_list, scoring='f1_micro', cv=sgkf, n_iter=20, verbose=3)"
      ]
    },
    {
      "cell_type": "markdown",
      "metadata": {
        "id": "Ut1td3pakWqX"
      },
      "source": [
        "## Cross Validation"
      ]
    },
    {
      "cell_type": "code",
      "execution_count": null,
      "metadata": {
        "colab": {
          "background_save": true,
          "base_uri": "https://localhost:8080/"
        },
        "id": "D5B4B3KDZRcl",
        "outputId": "08c213e1-b67d-4c67-8b10-1cf77edc877b"
      },
      "outputs": [
        {
          "name": "stdout",
          "output_type": "stream",
          "text": [
            "Fitting 5 folds for each of 20 candidates, totalling 100 fits\n",
            "[CV 1/5] END classifier__C=5, classifier__solver=liblinear, selector__percentile=26, vectorizer__min_df=6, vectorizer__ngram_range=(1, 3), vectorizer__stop_words={'fren', 'phys', 'management', 'econ', 'eco', 'geog', 'accounting', 'religion', 'calc', 'criminology', 'science', 'span', 'government', 'en', 'algebra', 'french', 'geo', 'engl', 'soci', 'statistics', 'geology', 'nurs', 'psych', 'soc', 'ecology', 'gen', 'writing', 'culture', 'pol', 'english', 'anthropology', 'health', 'speech', 'eng', 'comm', 'enc', 'astrology', 'stat', 'crim', 'business', 'phy', 'literature', 'ethnic', 'german', 'bus', 'marketing', 'calculus', 'finance', 'hist', 'acc', 'art', 'chemistry', 'music', 'anth', 'communication', 'mkt', 'sociology', 'pols', 'acct', 'edu', 'philosophy', 'physics', 'theater', 'economics', 'mgt', 'spanish', 'history', 'biology', 'alg', 'spch', 'mgmt', 'poli', 'law', 'psy', 'psychology', 'math', 'sciences', 'engineering', 'chem', 'engr', 'political', 'phil', 'busn', 'japanese', 'arab', 'gov', 'bio', 'spa', 'govt'};, score=0.942 total time= 1.1min\n",
            "[CV 2/5] END classifier__C=5, classifier__solver=liblinear, selector__percentile=26, vectorizer__min_df=6, vectorizer__ngram_range=(1, 3), vectorizer__stop_words={'fren', 'phys', 'management', 'econ', 'eco', 'geog', 'accounting', 'religion', 'calc', 'criminology', 'science', 'span', 'government', 'en', 'algebra', 'french', 'geo', 'engl', 'soci', 'statistics', 'geology', 'nurs', 'psych', 'soc', 'ecology', 'gen', 'writing', 'culture', 'pol', 'english', 'anthropology', 'health', 'speech', 'eng', 'comm', 'enc', 'astrology', 'stat', 'crim', 'business', 'phy', 'literature', 'ethnic', 'german', 'bus', 'marketing', 'calculus', 'finance', 'hist', 'acc', 'art', 'chemistry', 'music', 'anth', 'communication', 'mkt', 'sociology', 'pols', 'acct', 'edu', 'philosophy', 'physics', 'theater', 'economics', 'mgt', 'spanish', 'history', 'biology', 'alg', 'spch', 'mgmt', 'poli', 'law', 'psy', 'psychology', 'math', 'sciences', 'engineering', 'chem', 'engr', 'political', 'phil', 'busn', 'japanese', 'arab', 'gov', 'bio', 'spa', 'govt'};, score=0.941 total time= 1.1min\n",
            "[CV 3/5] END classifier__C=5, classifier__solver=liblinear, selector__percentile=26, vectorizer__min_df=6, vectorizer__ngram_range=(1, 3), vectorizer__stop_words={'fren', 'phys', 'management', 'econ', 'eco', 'geog', 'accounting', 'religion', 'calc', 'criminology', 'science', 'span', 'government', 'en', 'algebra', 'french', 'geo', 'engl', 'soci', 'statistics', 'geology', 'nurs', 'psych', 'soc', 'ecology', 'gen', 'writing', 'culture', 'pol', 'english', 'anthropology', 'health', 'speech', 'eng', 'comm', 'enc', 'astrology', 'stat', 'crim', 'business', 'phy', 'literature', 'ethnic', 'german', 'bus', 'marketing', 'calculus', 'finance', 'hist', 'acc', 'art', 'chemistry', 'music', 'anth', 'communication', 'mkt', 'sociology', 'pols', 'acct', 'edu', 'philosophy', 'physics', 'theater', 'economics', 'mgt', 'spanish', 'history', 'biology', 'alg', 'spch', 'mgmt', 'poli', 'law', 'psy', 'psychology', 'math', 'sciences', 'engineering', 'chem', 'engr', 'political', 'phil', 'busn', 'japanese', 'arab', 'gov', 'bio', 'spa', 'govt'};, score=0.941 total time= 1.1min\n",
            "[CV 4/5] END classifier__C=5, classifier__solver=liblinear, selector__percentile=26, vectorizer__min_df=6, vectorizer__ngram_range=(1, 3), vectorizer__stop_words={'fren', 'phys', 'management', 'econ', 'eco', 'geog', 'accounting', 'religion', 'calc', 'criminology', 'science', 'span', 'government', 'en', 'algebra', 'french', 'geo', 'engl', 'soci', 'statistics', 'geology', 'nurs', 'psych', 'soc', 'ecology', 'gen', 'writing', 'culture', 'pol', 'english', 'anthropology', 'health', 'speech', 'eng', 'comm', 'enc', 'astrology', 'stat', 'crim', 'business', 'phy', 'literature', 'ethnic', 'german', 'bus', 'marketing', 'calculus', 'finance', 'hist', 'acc', 'art', 'chemistry', 'music', 'anth', 'communication', 'mkt', 'sociology', 'pols', 'acct', 'edu', 'philosophy', 'physics', 'theater', 'economics', 'mgt', 'spanish', 'history', 'biology', 'alg', 'spch', 'mgmt', 'poli', 'law', 'psy', 'psychology', 'math', 'sciences', 'engineering', 'chem', 'engr', 'political', 'phil', 'busn', 'japanese', 'arab', 'gov', 'bio', 'spa', 'govt'};, score=0.941 total time= 1.2min\n",
            "[CV 5/5] END classifier__C=5, classifier__solver=liblinear, selector__percentile=26, vectorizer__min_df=6, vectorizer__ngram_range=(1, 3), vectorizer__stop_words={'fren', 'phys', 'management', 'econ', 'eco', 'geog', 'accounting', 'religion', 'calc', 'criminology', 'science', 'span', 'government', 'en', 'algebra', 'french', 'geo', 'engl', 'soci', 'statistics', 'geology', 'nurs', 'psych', 'soc', 'ecology', 'gen', 'writing', 'culture', 'pol', 'english', 'anthropology', 'health', 'speech', 'eng', 'comm', 'enc', 'astrology', 'stat', 'crim', 'business', 'phy', 'literature', 'ethnic', 'german', 'bus', 'marketing', 'calculus', 'finance', 'hist', 'acc', 'art', 'chemistry', 'music', 'anth', 'communication', 'mkt', 'sociology', 'pols', 'acct', 'edu', 'philosophy', 'physics', 'theater', 'economics', 'mgt', 'spanish', 'history', 'biology', 'alg', 'spch', 'mgmt', 'poli', 'law', 'psy', 'psychology', 'math', 'sciences', 'engineering', 'chem', 'engr', 'political', 'phil', 'busn', 'japanese', 'arab', 'gov', 'bio', 'spa', 'govt'};, score=0.941 total time= 1.1min\n",
            "[CV 1/5] END classifier__C=15, classifier__solver=sag, selector__percentile=28, vectorizer__min_df=5, vectorizer__ngram_range=(1, 3), vectorizer__stop_words={'fren', 'lectures', 'lecture', 'she', 'me', 'labs', 'econ', 'geog', 'religion', 'calc', 'laboratory', 'dr', 'algebra', 'french', 'intermediate', 'geo', 'he', 'geology', 'psych', 'ecology', 'writing', 'culture', 'materials', 'mr', 'we', 'english', 'concept', 'speech', 'enc', 'astrology', 'literature', 'bus', 'marketing', 'finance', 'hist', 'chemistry', 'music', 'myself', 'class', 'acct', 't', 'edu', 'philosophy', 'physics', 'theater', 'economics', 'introduction', 'mgt', 'spanish', 'biology', 'mgmt', 'background', 'engineering', 'political', 'phil', 'is', 'busn', 'basic', 'intro', 'discovery', 'doctor', 'i', 'design', 'knowledge', 'spa', 'studies', 'govt', 'quizzes', 'hw', 'phys', 'management', 'principles', 'courses', 'introductory', 'lab', 'thoeries', 's', 'professor', 'eco', 'accounting', 'overview', 'criminology', 'science', 'span', 'government', 'en', 'college', 'books', 'engl', 'concepts', 'analysis', 'soci', 'statistics', 'nurs', 'soc', 'civilization', 'managing', 'gen', 'him', 'quiz', 'pol', 'anthropology', 'health', 'ms', 'contemporary', 'eng', 'comm', 'stat', 'crim', 'business', 'phy', 'ethnic', 'colleges', 'her', 'german', 'calculus', 'acc', 'art', 'it', 'anth', 'communication', 'mkt', 'sociology', 'teacher', 'practices', 'university', 'pols', 'theory', 'prof', 'advanced', 'history', 'alg', 'spch', 'poli', 'psychology', 'law', 'psy', 'math', 'sciences', 'chem', 'course', 'hws', 'engr', 'japanese', 'arab', 'classes', 'gov', 'book', 'universities', 'bio', 'modern'};, score=0.938 total time= 1.2min\n",
            "[CV 2/5] END classifier__C=15, classifier__solver=sag, selector__percentile=28, vectorizer__min_df=5, vectorizer__ngram_range=(1, 3), vectorizer__stop_words={'fren', 'lectures', 'lecture', 'she', 'me', 'labs', 'econ', 'geog', 'religion', 'calc', 'laboratory', 'dr', 'algebra', 'french', 'intermediate', 'geo', 'he', 'geology', 'psych', 'ecology', 'writing', 'culture', 'materials', 'mr', 'we', 'english', 'concept', 'speech', 'enc', 'astrology', 'literature', 'bus', 'marketing', 'finance', 'hist', 'chemistry', 'music', 'myself', 'class', 'acct', 't', 'edu', 'philosophy', 'physics', 'theater', 'economics', 'introduction', 'mgt', 'spanish', 'biology', 'mgmt', 'background', 'engineering', 'political', 'phil', 'is', 'busn', 'basic', 'intro', 'discovery', 'doctor', 'i', 'design', 'knowledge', 'spa', 'studies', 'govt', 'quizzes', 'hw', 'phys', 'management', 'principles', 'courses', 'introductory', 'lab', 'thoeries', 's', 'professor', 'eco', 'accounting', 'overview', 'criminology', 'science', 'span', 'government', 'en', 'college', 'books', 'engl', 'concepts', 'analysis', 'soci', 'statistics', 'nurs', 'soc', 'civilization', 'managing', 'gen', 'him', 'quiz', 'pol', 'anthropology', 'health', 'ms', 'contemporary', 'eng', 'comm', 'stat', 'crim', 'business', 'phy', 'ethnic', 'colleges', 'her', 'german', 'calculus', 'acc', 'art', 'it', 'anth', 'communication', 'mkt', 'sociology', 'teacher', 'practices', 'university', 'pols', 'theory', 'prof', 'advanced', 'history', 'alg', 'spch', 'poli', 'psychology', 'law', 'psy', 'math', 'sciences', 'chem', 'course', 'hws', 'engr', 'japanese', 'arab', 'classes', 'gov', 'book', 'universities', 'bio', 'modern'};, score=0.939 total time= 1.2min\n",
            "[CV 3/5] END classifier__C=15, classifier__solver=sag, selector__percentile=28, vectorizer__min_df=5, vectorizer__ngram_range=(1, 3), vectorizer__stop_words={'fren', 'lectures', 'lecture', 'she', 'me', 'labs', 'econ', 'geog', 'religion', 'calc', 'laboratory', 'dr', 'algebra', 'french', 'intermediate', 'geo', 'he', 'geology', 'psych', 'ecology', 'writing', 'culture', 'materials', 'mr', 'we', 'english', 'concept', 'speech', 'enc', 'astrology', 'literature', 'bus', 'marketing', 'finance', 'hist', 'chemistry', 'music', 'myself', 'class', 'acct', 't', 'edu', 'philosophy', 'physics', 'theater', 'economics', 'introduction', 'mgt', 'spanish', 'biology', 'mgmt', 'background', 'engineering', 'political', 'phil', 'is', 'busn', 'basic', 'intro', 'discovery', 'doctor', 'i', 'design', 'knowledge', 'spa', 'studies', 'govt', 'quizzes', 'hw', 'phys', 'management', 'principles', 'courses', 'introductory', 'lab', 'thoeries', 's', 'professor', 'eco', 'accounting', 'overview', 'criminology', 'science', 'span', 'government', 'en', 'college', 'books', 'engl', 'concepts', 'analysis', 'soci', 'statistics', 'nurs', 'soc', 'civilization', 'managing', 'gen', 'him', 'quiz', 'pol', 'anthropology', 'health', 'ms', 'contemporary', 'eng', 'comm', 'stat', 'crim', 'business', 'phy', 'ethnic', 'colleges', 'her', 'german', 'calculus', 'acc', 'art', 'it', 'anth', 'communication', 'mkt', 'sociology', 'teacher', 'practices', 'university', 'pols', 'theory', 'prof', 'advanced', 'history', 'alg', 'spch', 'poli', 'psychology', 'law', 'psy', 'math', 'sciences', 'chem', 'course', 'hws', 'engr', 'japanese', 'arab', 'classes', 'gov', 'book', 'universities', 'bio', 'modern'};, score=0.939 total time= 1.2min\n",
            "[CV 4/5] END classifier__C=15, classifier__solver=sag, selector__percentile=28, vectorizer__min_df=5, vectorizer__ngram_range=(1, 3), vectorizer__stop_words={'fren', 'lectures', 'lecture', 'she', 'me', 'labs', 'econ', 'geog', 'religion', 'calc', 'laboratory', 'dr', 'algebra', 'french', 'intermediate', 'geo', 'he', 'geology', 'psych', 'ecology', 'writing', 'culture', 'materials', 'mr', 'we', 'english', 'concept', 'speech', 'enc', 'astrology', 'literature', 'bus', 'marketing', 'finance', 'hist', 'chemistry', 'music', 'myself', 'class', 'acct', 't', 'edu', 'philosophy', 'physics', 'theater', 'economics', 'introduction', 'mgt', 'spanish', 'biology', 'mgmt', 'background', 'engineering', 'political', 'phil', 'is', 'busn', 'basic', 'intro', 'discovery', 'doctor', 'i', 'design', 'knowledge', 'spa', 'studies', 'govt', 'quizzes', 'hw', 'phys', 'management', 'principles', 'courses', 'introductory', 'lab', 'thoeries', 's', 'professor', 'eco', 'accounting', 'overview', 'criminology', 'science', 'span', 'government', 'en', 'college', 'books', 'engl', 'concepts', 'analysis', 'soci', 'statistics', 'nurs', 'soc', 'civilization', 'managing', 'gen', 'him', 'quiz', 'pol', 'anthropology', 'health', 'ms', 'contemporary', 'eng', 'comm', 'stat', 'crim', 'business', 'phy', 'ethnic', 'colleges', 'her', 'german', 'calculus', 'acc', 'art', 'it', 'anth', 'communication', 'mkt', 'sociology', 'teacher', 'practices', 'university', 'pols', 'theory', 'prof', 'advanced', 'history', 'alg', 'spch', 'poli', 'psychology', 'law', 'psy', 'math', 'sciences', 'chem', 'course', 'hws', 'engr', 'japanese', 'arab', 'classes', 'gov', 'book', 'universities', 'bio', 'modern'};, score=0.939 total time= 1.1min\n",
            "[CV 5/5] END classifier__C=15, classifier__solver=sag, selector__percentile=28, vectorizer__min_df=5, vectorizer__ngram_range=(1, 3), vectorizer__stop_words={'fren', 'lectures', 'lecture', 'she', 'me', 'labs', 'econ', 'geog', 'religion', 'calc', 'laboratory', 'dr', 'algebra', 'french', 'intermediate', 'geo', 'he', 'geology', 'psych', 'ecology', 'writing', 'culture', 'materials', 'mr', 'we', 'english', 'concept', 'speech', 'enc', 'astrology', 'literature', 'bus', 'marketing', 'finance', 'hist', 'chemistry', 'music', 'myself', 'class', 'acct', 't', 'edu', 'philosophy', 'physics', 'theater', 'economics', 'introduction', 'mgt', 'spanish', 'biology', 'mgmt', 'background', 'engineering', 'political', 'phil', 'is', 'busn', 'basic', 'intro', 'discovery', 'doctor', 'i', 'design', 'knowledge', 'spa', 'studies', 'govt', 'quizzes', 'hw', 'phys', 'management', 'principles', 'courses', 'introductory', 'lab', 'thoeries', 's', 'professor', 'eco', 'accounting', 'overview', 'criminology', 'science', 'span', 'government', 'en', 'college', 'books', 'engl', 'concepts', 'analysis', 'soci', 'statistics', 'nurs', 'soc', 'civilization', 'managing', 'gen', 'him', 'quiz', 'pol', 'anthropology', 'health', 'ms', 'contemporary', 'eng', 'comm', 'stat', 'crim', 'business', 'phy', 'ethnic', 'colleges', 'her', 'german', 'calculus', 'acc', 'art', 'it', 'anth', 'communication', 'mkt', 'sociology', 'teacher', 'practices', 'university', 'pols', 'theory', 'prof', 'advanced', 'history', 'alg', 'spch', 'poli', 'psychology', 'law', 'psy', 'math', 'sciences', 'chem', 'course', 'hws', 'engr', 'japanese', 'arab', 'classes', 'gov', 'book', 'universities', 'bio', 'modern'};, score=0.939 total time= 1.1min\n",
            "[CV 1/5] END classifier__C=10, classifier__solver=saga, selector__percentile=28, vectorizer__min_df=6, vectorizer__ngram_range=(1, 3), vectorizer__stop_words={'fren', 'lectures', 'lecture', 'she', 'me', 'labs', 'econ', 'geog', 'religion', 'calc', 'laboratory', 'dr', 'algebra', 'french', 'intermediate', 'geo', 'he', 'geology', 'psych', 'ecology', 'writing', 'culture', 'materials', 'mr', 'we', 'english', 'concept', 'speech', 'enc', 'astrology', 'literature', 'bus', 'marketing', 'finance', 'hist', 'chemistry', 'music', 'myself', 'class', 'acct', 't', 'edu', 'philosophy', 'physics', 'theater', 'economics', 'introduction', 'mgt', 'spanish', 'biology', 'mgmt', 'background', 'engineering', 'political', 'phil', 'is', 'busn', 'basic', 'intro', 'discovery', 'doctor', 'i', 'design', 'knowledge', 'spa', 'studies', 'govt', 'quizzes', 'hw', 'phys', 'management', 'principles', 'courses', 'introductory', 'lab', 'thoeries', 's', 'professor', 'eco', 'accounting', 'overview', 'criminology', 'science', 'span', 'government', 'en', 'college', 'books', 'engl', 'concepts', 'analysis', 'soci', 'statistics', 'nurs', 'soc', 'civilization', 'managing', 'gen', 'him', 'quiz', 'pol', 'anthropology', 'health', 'ms', 'contemporary', 'eng', 'comm', 'stat', 'crim', 'business', 'phy', 'ethnic', 'colleges', 'her', 'german', 'calculus', 'acc', 'art', 'it', 'anth', 'communication', 'mkt', 'sociology', 'teacher', 'practices', 'university', 'pols', 'theory', 'prof', 'advanced', 'history', 'alg', 'spch', 'poli', 'psychology', 'law', 'psy', 'math', 'sciences', 'chem', 'course', 'hws', 'engr', 'japanese', 'arab', 'classes', 'gov', 'book', 'universities', 'bio', 'modern'};, score=0.939 total time= 1.3min\n",
            "[CV 2/5] END classifier__C=10, classifier__solver=saga, selector__percentile=28, vectorizer__min_df=6, vectorizer__ngram_range=(1, 3), vectorizer__stop_words={'fren', 'lectures', 'lecture', 'she', 'me', 'labs', 'econ', 'geog', 'religion', 'calc', 'laboratory', 'dr', 'algebra', 'french', 'intermediate', 'geo', 'he', 'geology', 'psych', 'ecology', 'writing', 'culture', 'materials', 'mr', 'we', 'english', 'concept', 'speech', 'enc', 'astrology', 'literature', 'bus', 'marketing', 'finance', 'hist', 'chemistry', 'music', 'myself', 'class', 'acct', 't', 'edu', 'philosophy', 'physics', 'theater', 'economics', 'introduction', 'mgt', 'spanish', 'biology', 'mgmt', 'background', 'engineering', 'political', 'phil', 'is', 'busn', 'basic', 'intro', 'discovery', 'doctor', 'i', 'design', 'knowledge', 'spa', 'studies', 'govt', 'quizzes', 'hw', 'phys', 'management', 'principles', 'courses', 'introductory', 'lab', 'thoeries', 's', 'professor', 'eco', 'accounting', 'overview', 'criminology', 'science', 'span', 'government', 'en', 'college', 'books', 'engl', 'concepts', 'analysis', 'soci', 'statistics', 'nurs', 'soc', 'civilization', 'managing', 'gen', 'him', 'quiz', 'pol', 'anthropology', 'health', 'ms', 'contemporary', 'eng', 'comm', 'stat', 'crim', 'business', 'phy', 'ethnic', 'colleges', 'her', 'german', 'calculus', 'acc', 'art', 'it', 'anth', 'communication', 'mkt', 'sociology', 'teacher', 'practices', 'university', 'pols', 'theory', 'prof', 'advanced', 'history', 'alg', 'spch', 'poli', 'psychology', 'law', 'psy', 'math', 'sciences', 'chem', 'course', 'hws', 'engr', 'japanese', 'arab', 'classes', 'gov', 'book', 'universities', 'bio', 'modern'};, score=0.940 total time= 1.2min\n",
            "[CV 3/5] END classifier__C=10, classifier__solver=saga, selector__percentile=28, vectorizer__min_df=6, vectorizer__ngram_range=(1, 3), vectorizer__stop_words={'fren', 'lectures', 'lecture', 'she', 'me', 'labs', 'econ', 'geog', 'religion', 'calc', 'laboratory', 'dr', 'algebra', 'french', 'intermediate', 'geo', 'he', 'geology', 'psych', 'ecology', 'writing', 'culture', 'materials', 'mr', 'we', 'english', 'concept', 'speech', 'enc', 'astrology', 'literature', 'bus', 'marketing', 'finance', 'hist', 'chemistry', 'music', 'myself', 'class', 'acct', 't', 'edu', 'philosophy', 'physics', 'theater', 'economics', 'introduction', 'mgt', 'spanish', 'biology', 'mgmt', 'background', 'engineering', 'political', 'phil', 'is', 'busn', 'basic', 'intro', 'discovery', 'doctor', 'i', 'design', 'knowledge', 'spa', 'studies', 'govt', 'quizzes', 'hw', 'phys', 'management', 'principles', 'courses', 'introductory', 'lab', 'thoeries', 's', 'professor', 'eco', 'accounting', 'overview', 'criminology', 'science', 'span', 'government', 'en', 'college', 'books', 'engl', 'concepts', 'analysis', 'soci', 'statistics', 'nurs', 'soc', 'civilization', 'managing', 'gen', 'him', 'quiz', 'pol', 'anthropology', 'health', 'ms', 'contemporary', 'eng', 'comm', 'stat', 'crim', 'business', 'phy', 'ethnic', 'colleges', 'her', 'german', 'calculus', 'acc', 'art', 'it', 'anth', 'communication', 'mkt', 'sociology', 'teacher', 'practices', 'university', 'pols', 'theory', 'prof', 'advanced', 'history', 'alg', 'spch', 'poli', 'psychology', 'law', 'psy', 'math', 'sciences', 'chem', 'course', 'hws', 'engr', 'japanese', 'arab', 'classes', 'gov', 'book', 'universities', 'bio', 'modern'};, score=0.939 total time= 1.4min\n",
            "[CV 4/5] END classifier__C=10, classifier__solver=saga, selector__percentile=28, vectorizer__min_df=6, vectorizer__ngram_range=(1, 3), vectorizer__stop_words={'fren', 'lectures', 'lecture', 'she', 'me', 'labs', 'econ', 'geog', 'religion', 'calc', 'laboratory', 'dr', 'algebra', 'french', 'intermediate', 'geo', 'he', 'geology', 'psych', 'ecology', 'writing', 'culture', 'materials', 'mr', 'we', 'english', 'concept', 'speech', 'enc', 'astrology', 'literature', 'bus', 'marketing', 'finance', 'hist', 'chemistry', 'music', 'myself', 'class', 'acct', 't', 'edu', 'philosophy', 'physics', 'theater', 'economics', 'introduction', 'mgt', 'spanish', 'biology', 'mgmt', 'background', 'engineering', 'political', 'phil', 'is', 'busn', 'basic', 'intro', 'discovery', 'doctor', 'i', 'design', 'knowledge', 'spa', 'studies', 'govt', 'quizzes', 'hw', 'phys', 'management', 'principles', 'courses', 'introductory', 'lab', 'thoeries', 's', 'professor', 'eco', 'accounting', 'overview', 'criminology', 'science', 'span', 'government', 'en', 'college', 'books', 'engl', 'concepts', 'analysis', 'soci', 'statistics', 'nurs', 'soc', 'civilization', 'managing', 'gen', 'him', 'quiz', 'pol', 'anthropology', 'health', 'ms', 'contemporary', 'eng', 'comm', 'stat', 'crim', 'business', 'phy', 'ethnic', 'colleges', 'her', 'german', 'calculus', 'acc', 'art', 'it', 'anth', 'communication', 'mkt', 'sociology', 'teacher', 'practices', 'university', 'pols', 'theory', 'prof', 'advanced', 'history', 'alg', 'spch', 'poli', 'psychology', 'law', 'psy', 'math', 'sciences', 'chem', 'course', 'hws', 'engr', 'japanese', 'arab', 'classes', 'gov', 'book', 'universities', 'bio', 'modern'};, score=0.940 total time= 1.3min\n",
            "[CV 5/5] END classifier__C=10, classifier__solver=saga, selector__percentile=28, vectorizer__min_df=6, vectorizer__ngram_range=(1, 3), vectorizer__stop_words={'fren', 'lectures', 'lecture', 'she', 'me', 'labs', 'econ', 'geog', 'religion', 'calc', 'laboratory', 'dr', 'algebra', 'french', 'intermediate', 'geo', 'he', 'geology', 'psych', 'ecology', 'writing', 'culture', 'materials', 'mr', 'we', 'english', 'concept', 'speech', 'enc', 'astrology', 'literature', 'bus', 'marketing', 'finance', 'hist', 'chemistry', 'music', 'myself', 'class', 'acct', 't', 'edu', 'philosophy', 'physics', 'theater', 'economics', 'introduction', 'mgt', 'spanish', 'biology', 'mgmt', 'background', 'engineering', 'political', 'phil', 'is', 'busn', 'basic', 'intro', 'discovery', 'doctor', 'i', 'design', 'knowledge', 'spa', 'studies', 'govt', 'quizzes', 'hw', 'phys', 'management', 'principles', 'courses', 'introductory', 'lab', 'thoeries', 's', 'professor', 'eco', 'accounting', 'overview', 'criminology', 'science', 'span', 'government', 'en', 'college', 'books', 'engl', 'concepts', 'analysis', 'soci', 'statistics', 'nurs', 'soc', 'civilization', 'managing', 'gen', 'him', 'quiz', 'pol', 'anthropology', 'health', 'ms', 'contemporary', 'eng', 'comm', 'stat', 'crim', 'business', 'phy', 'ethnic', 'colleges', 'her', 'german', 'calculus', 'acc', 'art', 'it', 'anth', 'communication', 'mkt', 'sociology', 'teacher', 'practices', 'university', 'pols', 'theory', 'prof', 'advanced', 'history', 'alg', 'spch', 'poli', 'psychology', 'law', 'psy', 'math', 'sciences', 'chem', 'course', 'hws', 'engr', 'japanese', 'arab', 'classes', 'gov', 'book', 'universities', 'bio', 'modern'};, score=0.940 total time= 1.2min\n",
            "[CV 1/5] END classifier__C=15, classifier__solver=liblinear, selector__percentile=24, vectorizer__min_df=7, vectorizer__ngram_range=(1, 3), vectorizer__stop_words={'fren', 'phys', 'management', 'econ', 'eco', 'geog', 'accounting', 'religion', 'calc', 'criminology', 'science', 'span', 'government', 'en', 'algebra', 'french', 'geo', 'engl', 'soci', 'statistics', 'geology', 'nurs', 'psych', 'soc', 'ecology', 'gen', 'writing', 'culture', 'pol', 'english', 'anthropology', 'health', 'speech', 'eng', 'comm', 'enc', 'astrology', 'stat', 'crim', 'business', 'phy', 'literature', 'ethnic', 'german', 'bus', 'marketing', 'calculus', 'finance', 'hist', 'acc', 'art', 'chemistry', 'music', 'anth', 'communication', 'mkt', 'sociology', 'pols', 'acct', 'edu', 'philosophy', 'physics', 'theater', 'economics', 'mgt', 'spanish', 'history', 'biology', 'alg', 'spch', 'mgmt', 'poli', 'law', 'psy', 'psychology', 'math', 'sciences', 'engineering', 'chem', 'engr', 'political', 'phil', 'busn', 'japanese', 'arab', 'gov', 'bio', 'spa', 'govt'};, score=0.940 total time= 1.2min\n",
            "[CV 2/5] END classifier__C=15, classifier__solver=liblinear, selector__percentile=24, vectorizer__min_df=7, vectorizer__ngram_range=(1, 3), vectorizer__stop_words={'fren', 'phys', 'management', 'econ', 'eco', 'geog', 'accounting', 'religion', 'calc', 'criminology', 'science', 'span', 'government', 'en', 'algebra', 'french', 'geo', 'engl', 'soci', 'statistics', 'geology', 'nurs', 'psych', 'soc', 'ecology', 'gen', 'writing', 'culture', 'pol', 'english', 'anthropology', 'health', 'speech', 'eng', 'comm', 'enc', 'astrology', 'stat', 'crim', 'business', 'phy', 'literature', 'ethnic', 'german', 'bus', 'marketing', 'calculus', 'finance', 'hist', 'acc', 'art', 'chemistry', 'music', 'anth', 'communication', 'mkt', 'sociology', 'pols', 'acct', 'edu', 'philosophy', 'physics', 'theater', 'economics', 'mgt', 'spanish', 'history', 'biology', 'alg', 'spch', 'mgmt', 'poli', 'law', 'psy', 'psychology', 'math', 'sciences', 'engineering', 'chem', 'engr', 'political', 'phil', 'busn', 'japanese', 'arab', 'gov', 'bio', 'spa', 'govt'};, score=0.939 total time= 1.1min\n",
            "[CV 3/5] END classifier__C=15, classifier__solver=liblinear, selector__percentile=24, vectorizer__min_df=7, vectorizer__ngram_range=(1, 3), vectorizer__stop_words={'fren', 'phys', 'management', 'econ', 'eco', 'geog', 'accounting', 'religion', 'calc', 'criminology', 'science', 'span', 'government', 'en', 'algebra', 'french', 'geo', 'engl', 'soci', 'statistics', 'geology', 'nurs', 'psych', 'soc', 'ecology', 'gen', 'writing', 'culture', 'pol', 'english', 'anthropology', 'health', 'speech', 'eng', 'comm', 'enc', 'astrology', 'stat', 'crim', 'business', 'phy', 'literature', 'ethnic', 'german', 'bus', 'marketing', 'calculus', 'finance', 'hist', 'acc', 'art', 'chemistry', 'music', 'anth', 'communication', 'mkt', 'sociology', 'pols', 'acct', 'edu', 'philosophy', 'physics', 'theater', 'economics', 'mgt', 'spanish', 'history', 'biology', 'alg', 'spch', 'mgmt', 'poli', 'law', 'psy', 'psychology', 'math', 'sciences', 'engineering', 'chem', 'engr', 'political', 'phil', 'busn', 'japanese', 'arab', 'gov', 'bio', 'spa', 'govt'};, score=0.939 total time= 1.1min\n",
            "[CV 4/5] END classifier__C=15, classifier__solver=liblinear, selector__percentile=24, vectorizer__min_df=7, vectorizer__ngram_range=(1, 3), vectorizer__stop_words={'fren', 'phys', 'management', 'econ', 'eco', 'geog', 'accounting', 'religion', 'calc', 'criminology', 'science', 'span', 'government', 'en', 'algebra', 'french', 'geo', 'engl', 'soci', 'statistics', 'geology', 'nurs', 'psych', 'soc', 'ecology', 'gen', 'writing', 'culture', 'pol', 'english', 'anthropology', 'health', 'speech', 'eng', 'comm', 'enc', 'astrology', 'stat', 'crim', 'business', 'phy', 'literature', 'ethnic', 'german', 'bus', 'marketing', 'calculus', 'finance', 'hist', 'acc', 'art', 'chemistry', 'music', 'anth', 'communication', 'mkt', 'sociology', 'pols', 'acct', 'edu', 'philosophy', 'physics', 'theater', 'economics', 'mgt', 'spanish', 'history', 'biology', 'alg', 'spch', 'mgmt', 'poli', 'law', 'psy', 'psychology', 'math', 'sciences', 'engineering', 'chem', 'engr', 'political', 'phil', 'busn', 'japanese', 'arab', 'gov', 'bio', 'spa', 'govt'};, score=0.940 total time= 1.1min\n",
            "[CV 5/5] END classifier__C=15, classifier__solver=liblinear, selector__percentile=24, vectorizer__min_df=7, vectorizer__ngram_range=(1, 3), vectorizer__stop_words={'fren', 'phys', 'management', 'econ', 'eco', 'geog', 'accounting', 'religion', 'calc', 'criminology', 'science', 'span', 'government', 'en', 'algebra', 'french', 'geo', 'engl', 'soci', 'statistics', 'geology', 'nurs', 'psych', 'soc', 'ecology', 'gen', 'writing', 'culture', 'pol', 'english', 'anthropology', 'health', 'speech', 'eng', 'comm', 'enc', 'astrology', 'stat', 'crim', 'business', 'phy', 'literature', 'ethnic', 'german', 'bus', 'marketing', 'calculus', 'finance', 'hist', 'acc', 'art', 'chemistry', 'music', 'anth', 'communication', 'mkt', 'sociology', 'pols', 'acct', 'edu', 'philosophy', 'physics', 'theater', 'economics', 'mgt', 'spanish', 'history', 'biology', 'alg', 'spch', 'mgmt', 'poli', 'law', 'psy', 'psychology', 'math', 'sciences', 'engineering', 'chem', 'engr', 'political', 'phil', 'busn', 'japanese', 'arab', 'gov', 'bio', 'spa', 'govt'};, score=0.940 total time= 1.2min\n",
            "[CV 1/5] END classifier__C=5, classifier__solver=newton-cg, selector__percentile=22, vectorizer__min_df=7, vectorizer__ngram_range=(1, 3), vectorizer__stop_words={'fren', 'lectures', 'hw', 'lecture', 'quizzes', 'phys', 'courses', 'management', 'lab', 'she', 'me', 's', 'professor', 'labs', 'econ', 'eco', 'geog', 'accounting', 'religion', 'calc', 'criminology', 'dr', 'span', 'science', 'government', 'en', 'college', 'algebra', 'french', 'books', 'geo', 'engl', 'he', 'soci', 'statistics', 'nurs', 'psych', 'geology', 'soc', 'ecology', 'gen', 'writing', 'him', 'culture', 'mr', 'we', 'quiz', 'pol', 'english', 'anthropology', 'health', 'ms', 'speech', 'eng', 'comm', 'enc', 'astrology', 'stat', 'crim', 'business', 'phy', 'literature', 'ethnic', 'colleges', 'her', 'bus', 'german', 'marketing', 'calculus', 'finance', 'hist', 'acc', 'art', 'chemistry', 'it', 'music', 'anth', 'myself', 'mkt', 'communication', 'class', 'teacher', 'sociology', 'university', 'pols', 'acct', 't', 'edu', 'philosophy', 'physics', 'theater', 'economics', 'prof', 'mgt', 'spanish', 'history', 'biology', 'alg', 'spch', 'mgmt', 'poli', 'law', 'psy', 'psychology', 'math', 'sciences', 'engineering', 'chem', 'course', 'hws', 'engr', 'political', 'phil', 'is', 'busn', 'japanese', 'arab', 'classes', 'gov', 'doctor', 'i', 'book', 'universities', 'bio', 'spa', 'govt'};, score=0.940 total time= 1.0min\n",
            "[CV 2/5] END classifier__C=5, classifier__solver=newton-cg, selector__percentile=22, vectorizer__min_df=7, vectorizer__ngram_range=(1, 3), vectorizer__stop_words={'fren', 'lectures', 'hw', 'lecture', 'quizzes', 'phys', 'courses', 'management', 'lab', 'she', 'me', 's', 'professor', 'labs', 'econ', 'eco', 'geog', 'accounting', 'religion', 'calc', 'criminology', 'dr', 'span', 'science', 'government', 'en', 'college', 'algebra', 'french', 'books', 'geo', 'engl', 'he', 'soci', 'statistics', 'nurs', 'psych', 'geology', 'soc', 'ecology', 'gen', 'writing', 'him', 'culture', 'mr', 'we', 'quiz', 'pol', 'english', 'anthropology', 'health', 'ms', 'speech', 'eng', 'comm', 'enc', 'astrology', 'stat', 'crim', 'business', 'phy', 'literature', 'ethnic', 'colleges', 'her', 'bus', 'german', 'marketing', 'calculus', 'finance', 'hist', 'acc', 'art', 'chemistry', 'it', 'music', 'anth', 'myself', 'mkt', 'communication', 'class', 'teacher', 'sociology', 'university', 'pols', 'acct', 't', 'edu', 'philosophy', 'physics', 'theater', 'economics', 'prof', 'mgt', 'spanish', 'history', 'biology', 'alg', 'spch', 'mgmt', 'poli', 'law', 'psy', 'psychology', 'math', 'sciences', 'engineering', 'chem', 'course', 'hws', 'engr', 'political', 'phil', 'is', 'busn', 'japanese', 'arab', 'classes', 'gov', 'doctor', 'i', 'book', 'universities', 'bio', 'spa', 'govt'};, score=0.940 total time= 1.0min\n",
            "[CV 3/5] END classifier__C=5, classifier__solver=newton-cg, selector__percentile=22, vectorizer__min_df=7, vectorizer__ngram_range=(1, 3), vectorizer__stop_words={'fren', 'lectures', 'hw', 'lecture', 'quizzes', 'phys', 'courses', 'management', 'lab', 'she', 'me', 's', 'professor', 'labs', 'econ', 'eco', 'geog', 'accounting', 'religion', 'calc', 'criminology', 'dr', 'span', 'science', 'government', 'en', 'college', 'algebra', 'french', 'books', 'geo', 'engl', 'he', 'soci', 'statistics', 'nurs', 'psych', 'geology', 'soc', 'ecology', 'gen', 'writing', 'him', 'culture', 'mr', 'we', 'quiz', 'pol', 'english', 'anthropology', 'health', 'ms', 'speech', 'eng', 'comm', 'enc', 'astrology', 'stat', 'crim', 'business', 'phy', 'literature', 'ethnic', 'colleges', 'her', 'bus', 'german', 'marketing', 'calculus', 'finance', 'hist', 'acc', 'art', 'chemistry', 'it', 'music', 'anth', 'myself', 'mkt', 'communication', 'class', 'teacher', 'sociology', 'university', 'pols', 'acct', 't', 'edu', 'philosophy', 'physics', 'theater', 'economics', 'prof', 'mgt', 'spanish', 'history', 'biology', 'alg', 'spch', 'mgmt', 'poli', 'law', 'psy', 'psychology', 'math', 'sciences', 'engineering', 'chem', 'course', 'hws', 'engr', 'political', 'phil', 'is', 'busn', 'japanese', 'arab', 'classes', 'gov', 'doctor', 'i', 'book', 'universities', 'bio', 'spa', 'govt'};, score=0.940 total time= 1.0min\n",
            "[CV 4/5] END classifier__C=5, classifier__solver=newton-cg, selector__percentile=22, vectorizer__min_df=7, vectorizer__ngram_range=(1, 3), vectorizer__stop_words={'fren', 'lectures', 'hw', 'lecture', 'quizzes', 'phys', 'courses', 'management', 'lab', 'she', 'me', 's', 'professor', 'labs', 'econ', 'eco', 'geog', 'accounting', 'religion', 'calc', 'criminology', 'dr', 'span', 'science', 'government', 'en', 'college', 'algebra', 'french', 'books', 'geo', 'engl', 'he', 'soci', 'statistics', 'nurs', 'psych', 'geology', 'soc', 'ecology', 'gen', 'writing', 'him', 'culture', 'mr', 'we', 'quiz', 'pol', 'english', 'anthropology', 'health', 'ms', 'speech', 'eng', 'comm', 'enc', 'astrology', 'stat', 'crim', 'business', 'phy', 'literature', 'ethnic', 'colleges', 'her', 'bus', 'german', 'marketing', 'calculus', 'finance', 'hist', 'acc', 'art', 'chemistry', 'it', 'music', 'anth', 'myself', 'mkt', 'communication', 'class', 'teacher', 'sociology', 'university', 'pols', 'acct', 't', 'edu', 'philosophy', 'physics', 'theater', 'economics', 'prof', 'mgt', 'spanish', 'history', 'biology', 'alg', 'spch', 'mgmt', 'poli', 'law', 'psy', 'psychology', 'math', 'sciences', 'engineering', 'chem', 'course', 'hws', 'engr', 'political', 'phil', 'is', 'busn', 'japanese', 'arab', 'classes', 'gov', 'doctor', 'i', 'book', 'universities', 'bio', 'spa', 'govt'};, score=0.940 total time= 1.0min\n",
            "[CV 5/5] END classifier__C=5, classifier__solver=newton-cg, selector__percentile=22, vectorizer__min_df=7, vectorizer__ngram_range=(1, 3), vectorizer__stop_words={'fren', 'lectures', 'hw', 'lecture', 'quizzes', 'phys', 'courses', 'management', 'lab', 'she', 'me', 's', 'professor', 'labs', 'econ', 'eco', 'geog', 'accounting', 'religion', 'calc', 'criminology', 'dr', 'span', 'science', 'government', 'en', 'college', 'algebra', 'french', 'books', 'geo', 'engl', 'he', 'soci', 'statistics', 'nurs', 'psych', 'geology', 'soc', 'ecology', 'gen', 'writing', 'him', 'culture', 'mr', 'we', 'quiz', 'pol', 'english', 'anthropology', 'health', 'ms', 'speech', 'eng', 'comm', 'enc', 'astrology', 'stat', 'crim', 'business', 'phy', 'literature', 'ethnic', 'colleges', 'her', 'bus', 'german', 'marketing', 'calculus', 'finance', 'hist', 'acc', 'art', 'chemistry', 'it', 'music', 'anth', 'myself', 'mkt', 'communication', 'class', 'teacher', 'sociology', 'university', 'pols', 'acct', 't', 'edu', 'philosophy', 'physics', 'theater', 'economics', 'prof', 'mgt', 'spanish', 'history', 'biology', 'alg', 'spch', 'mgmt', 'poli', 'law', 'psy', 'psychology', 'math', 'sciences', 'engineering', 'chem', 'course', 'hws', 'engr', 'political', 'phil', 'is', 'busn', 'japanese', 'arab', 'classes', 'gov', 'doctor', 'i', 'book', 'universities', 'bio', 'spa', 'govt'};, score=0.940 total time= 1.1min\n",
            "[CV 1/5] END classifier__C=10, classifier__solver=sag, selector__percentile=16, vectorizer__min_df=6, vectorizer__ngram_range=(1, 3), vectorizer__stop_words={'fren', 'lectures', 'hw', 'lecture', 'quizzes', 'phys', 'courses', 'management', 'lab', 'she', 'me', 's', 'professor', 'labs', 'econ', 'eco', 'geog', 'accounting', 'religion', 'calc', 'criminology', 'dr', 'span', 'science', 'government', 'en', 'college', 'algebra', 'french', 'books', 'geo', 'engl', 'he', 'soci', 'statistics', 'nurs', 'psych', 'geology', 'soc', 'ecology', 'gen', 'writing', 'him', 'culture', 'mr', 'we', 'quiz', 'pol', 'english', 'anthropology', 'health', 'ms', 'speech', 'eng', 'comm', 'enc', 'astrology', 'stat', 'crim', 'business', 'phy', 'literature', 'ethnic', 'colleges', 'her', 'bus', 'german', 'marketing', 'calculus', 'finance', 'hist', 'acc', 'art', 'chemistry', 'it', 'music', 'anth', 'myself', 'mkt', 'communication', 'class', 'teacher', 'sociology', 'university', 'pols', 'acct', 't', 'edu', 'philosophy', 'physics', 'theater', 'economics', 'prof', 'mgt', 'spanish', 'history', 'biology', 'alg', 'spch', 'mgmt', 'poli', 'law', 'psy', 'psychology', 'math', 'sciences', 'engineering', 'chem', 'course', 'hws', 'engr', 'political', 'phil', 'is', 'busn', 'japanese', 'arab', 'classes', 'gov', 'doctor', 'i', 'book', 'universities', 'bio', 'spa', 'govt'};, score=0.939 total time=  58.2s\n",
            "[CV 2/5] END classifier__C=10, classifier__solver=sag, selector__percentile=16, vectorizer__min_df=6, vectorizer__ngram_range=(1, 3), vectorizer__stop_words={'fren', 'lectures', 'hw', 'lecture', 'quizzes', 'phys', 'courses', 'management', 'lab', 'she', 'me', 's', 'professor', 'labs', 'econ', 'eco', 'geog', 'accounting', 'religion', 'calc', 'criminology', 'dr', 'span', 'science', 'government', 'en', 'college', 'algebra', 'french', 'books', 'geo', 'engl', 'he', 'soci', 'statistics', 'nurs', 'psych', 'geology', 'soc', 'ecology', 'gen', 'writing', 'him', 'culture', 'mr', 'we', 'quiz', 'pol', 'english', 'anthropology', 'health', 'ms', 'speech', 'eng', 'comm', 'enc', 'astrology', 'stat', 'crim', 'business', 'phy', 'literature', 'ethnic', 'colleges', 'her', 'bus', 'german', 'marketing', 'calculus', 'finance', 'hist', 'acc', 'art', 'chemistry', 'it', 'music', 'anth', 'myself', 'mkt', 'communication', 'class', 'teacher', 'sociology', 'university', 'pols', 'acct', 't', 'edu', 'philosophy', 'physics', 'theater', 'economics', 'prof', 'mgt', 'spanish', 'history', 'biology', 'alg', 'spch', 'mgmt', 'poli', 'law', 'psy', 'psychology', 'math', 'sciences', 'engineering', 'chem', 'course', 'hws', 'engr', 'political', 'phil', 'is', 'busn', 'japanese', 'arab', 'classes', 'gov', 'doctor', 'i', 'book', 'universities', 'bio', 'spa', 'govt'};, score=0.940 total time=  59.0s\n",
            "[CV 3/5] END classifier__C=10, classifier__solver=sag, selector__percentile=16, vectorizer__min_df=6, vectorizer__ngram_range=(1, 3), vectorizer__stop_words={'fren', 'lectures', 'hw', 'lecture', 'quizzes', 'phys', 'courses', 'management', 'lab', 'she', 'me', 's', 'professor', 'labs', 'econ', 'eco', 'geog', 'accounting', 'religion', 'calc', 'criminology', 'dr', 'span', 'science', 'government', 'en', 'college', 'algebra', 'french', 'books', 'geo', 'engl', 'he', 'soci', 'statistics', 'nurs', 'psych', 'geology', 'soc', 'ecology', 'gen', 'writing', 'him', 'culture', 'mr', 'we', 'quiz', 'pol', 'english', 'anthropology', 'health', 'ms', 'speech', 'eng', 'comm', 'enc', 'astrology', 'stat', 'crim', 'business', 'phy', 'literature', 'ethnic', 'colleges', 'her', 'bus', 'german', 'marketing', 'calculus', 'finance', 'hist', 'acc', 'art', 'chemistry', 'it', 'music', 'anth', 'myself', 'mkt', 'communication', 'class', 'teacher', 'sociology', 'university', 'pols', 'acct', 't', 'edu', 'philosophy', 'physics', 'theater', 'economics', 'prof', 'mgt', 'spanish', 'history', 'biology', 'alg', 'spch', 'mgmt', 'poli', 'law', 'psy', 'psychology', 'math', 'sciences', 'engineering', 'chem', 'course', 'hws', 'engr', 'political', 'phil', 'is', 'busn', 'japanese', 'arab', 'classes', 'gov', 'doctor', 'i', 'book', 'universities', 'bio', 'spa', 'govt'};, score=0.940 total time=  58.1s\n",
            "[CV 4/5] END classifier__C=10, classifier__solver=sag, selector__percentile=16, vectorizer__min_df=6, vectorizer__ngram_range=(1, 3), vectorizer__stop_words={'fren', 'lectures', 'hw', 'lecture', 'quizzes', 'phys', 'courses', 'management', 'lab', 'she', 'me', 's', 'professor', 'labs', 'econ', 'eco', 'geog', 'accounting', 'religion', 'calc', 'criminology', 'dr', 'span', 'science', 'government', 'en', 'college', 'algebra', 'french', 'books', 'geo', 'engl', 'he', 'soci', 'statistics', 'nurs', 'psych', 'geology', 'soc', 'ecology', 'gen', 'writing', 'him', 'culture', 'mr', 'we', 'quiz', 'pol', 'english', 'anthropology', 'health', 'ms', 'speech', 'eng', 'comm', 'enc', 'astrology', 'stat', 'crim', 'business', 'phy', 'literature', 'ethnic', 'colleges', 'her', 'bus', 'german', 'marketing', 'calculus', 'finance', 'hist', 'acc', 'art', 'chemistry', 'it', 'music', 'anth', 'myself', 'mkt', 'communication', 'class', 'teacher', 'sociology', 'university', 'pols', 'acct', 't', 'edu', 'philosophy', 'physics', 'theater', 'economics', 'prof', 'mgt', 'spanish', 'history', 'biology', 'alg', 'spch', 'mgmt', 'poli', 'law', 'psy', 'psychology', 'math', 'sciences', 'engineering', 'chem', 'course', 'hws', 'engr', 'political', 'phil', 'is', 'busn', 'japanese', 'arab', 'classes', 'gov', 'doctor', 'i', 'book', 'universities', 'bio', 'spa', 'govt'};, score=0.940 total time=  58.3s\n",
            "[CV 5/5] END classifier__C=10, classifier__solver=sag, selector__percentile=16, vectorizer__min_df=6, vectorizer__ngram_range=(1, 3), vectorizer__stop_words={'fren', 'lectures', 'hw', 'lecture', 'quizzes', 'phys', 'courses', 'management', 'lab', 'she', 'me', 's', 'professor', 'labs', 'econ', 'eco', 'geog', 'accounting', 'religion', 'calc', 'criminology', 'dr', 'span', 'science', 'government', 'en', 'college', 'algebra', 'french', 'books', 'geo', 'engl', 'he', 'soci', 'statistics', 'nurs', 'psych', 'geology', 'soc', 'ecology', 'gen', 'writing', 'him', 'culture', 'mr', 'we', 'quiz', 'pol', 'english', 'anthropology', 'health', 'ms', 'speech', 'eng', 'comm', 'enc', 'astrology', 'stat', 'crim', 'business', 'phy', 'literature', 'ethnic', 'colleges', 'her', 'bus', 'german', 'marketing', 'calculus', 'finance', 'hist', 'acc', 'art', 'chemistry', 'it', 'music', 'anth', 'myself', 'mkt', 'communication', 'class', 'teacher', 'sociology', 'university', 'pols', 'acct', 't', 'edu', 'philosophy', 'physics', 'theater', 'economics', 'prof', 'mgt', 'spanish', 'history', 'biology', 'alg', 'spch', 'mgmt', 'poli', 'law', 'psy', 'psychology', 'math', 'sciences', 'engineering', 'chem', 'course', 'hws', 'engr', 'political', 'phil', 'is', 'busn', 'japanese', 'arab', 'classes', 'gov', 'doctor', 'i', 'book', 'universities', 'bio', 'spa', 'govt'};, score=0.940 total time=  59.9s\n",
            "[CV 1/5] END classifier__C=20, classifier__solver=liblinear, selector__percentile=20, vectorizer__min_df=7, vectorizer__ngram_range=(1, 3), vectorizer__stop_words={'fren', 'lectures', 'lecture', 'she', 'me', 'labs', 'econ', 'geog', 'religion', 'calc', 'laboratory', 'dr', 'algebra', 'french', 'intermediate', 'geo', 'he', 'geology', 'psych', 'ecology', 'writing', 'culture', 'materials', 'mr', 'we', 'english', 'concept', 'speech', 'enc', 'astrology', 'literature', 'bus', 'marketing', 'finance', 'hist', 'chemistry', 'music', 'myself', 'class', 'acct', 't', 'edu', 'philosophy', 'physics', 'theater', 'economics', 'introduction', 'mgt', 'spanish', 'biology', 'mgmt', 'background', 'engineering', 'political', 'phil', 'is', 'busn', 'basic', 'intro', 'discovery', 'doctor', 'i', 'design', 'knowledge', 'spa', 'studies', 'govt', 'quizzes', 'hw', 'phys', 'management', 'principles', 'courses', 'introductory', 'lab', 'thoeries', 's', 'professor', 'eco', 'accounting', 'overview', 'criminology', 'science', 'span', 'government', 'en', 'college', 'books', 'engl', 'concepts', 'analysis', 'soci', 'statistics', 'nurs', 'soc', 'civilization', 'managing', 'gen', 'him', 'quiz', 'pol', 'anthropology', 'health', 'ms', 'contemporary', 'eng', 'comm', 'stat', 'crim', 'business', 'phy', 'ethnic', 'colleges', 'her', 'german', 'calculus', 'acc', 'art', 'it', 'anth', 'communication', 'mkt', 'sociology', 'teacher', 'practices', 'university', 'pols', 'theory', 'prof', 'advanced', 'history', 'alg', 'spch', 'poli', 'psychology', 'law', 'psy', 'math', 'sciences', 'chem', 'course', 'hws', 'engr', 'japanese', 'arab', 'classes', 'gov', 'book', 'universities', 'bio', 'modern'};, score=0.938 total time=  58.7s\n",
            "[CV 2/5] END classifier__C=20, classifier__solver=liblinear, selector__percentile=20, vectorizer__min_df=7, vectorizer__ngram_range=(1, 3), vectorizer__stop_words={'fren', 'lectures', 'lecture', 'she', 'me', 'labs', 'econ', 'geog', 'religion', 'calc', 'laboratory', 'dr', 'algebra', 'french', 'intermediate', 'geo', 'he', 'geology', 'psych', 'ecology', 'writing', 'culture', 'materials', 'mr', 'we', 'english', 'concept', 'speech', 'enc', 'astrology', 'literature', 'bus', 'marketing', 'finance', 'hist', 'chemistry', 'music', 'myself', 'class', 'acct', 't', 'edu', 'philosophy', 'physics', 'theater', 'economics', 'introduction', 'mgt', 'spanish', 'biology', 'mgmt', 'background', 'engineering', 'political', 'phil', 'is', 'busn', 'basic', 'intro', 'discovery', 'doctor', 'i', 'design', 'knowledge', 'spa', 'studies', 'govt', 'quizzes', 'hw', 'phys', 'management', 'principles', 'courses', 'introductory', 'lab', 'thoeries', 's', 'professor', 'eco', 'accounting', 'overview', 'criminology', 'science', 'span', 'government', 'en', 'college', 'books', 'engl', 'concepts', 'analysis', 'soci', 'statistics', 'nurs', 'soc', 'civilization', 'managing', 'gen', 'him', 'quiz', 'pol', 'anthropology', 'health', 'ms', 'contemporary', 'eng', 'comm', 'stat', 'crim', 'business', 'phy', 'ethnic', 'colleges', 'her', 'german', 'calculus', 'acc', 'art', 'it', 'anth', 'communication', 'mkt', 'sociology', 'teacher', 'practices', 'university', 'pols', 'theory', 'prof', 'advanced', 'history', 'alg', 'spch', 'poli', 'psychology', 'law', 'psy', 'math', 'sciences', 'chem', 'course', 'hws', 'engr', 'japanese', 'arab', 'classes', 'gov', 'book', 'universities', 'bio', 'modern'};, score=0.938 total time=  59.8s\n",
            "[CV 3/5] END classifier__C=20, classifier__solver=liblinear, selector__percentile=20, vectorizer__min_df=7, vectorizer__ngram_range=(1, 3), vectorizer__stop_words={'fren', 'lectures', 'lecture', 'she', 'me', 'labs', 'econ', 'geog', 'religion', 'calc', 'laboratory', 'dr', 'algebra', 'french', 'intermediate', 'geo', 'he', 'geology', 'psych', 'ecology', 'writing', 'culture', 'materials', 'mr', 'we', 'english', 'concept', 'speech', 'enc', 'astrology', 'literature', 'bus', 'marketing', 'finance', 'hist', 'chemistry', 'music', 'myself', 'class', 'acct', 't', 'edu', 'philosophy', 'physics', 'theater', 'economics', 'introduction', 'mgt', 'spanish', 'biology', 'mgmt', 'background', 'engineering', 'political', 'phil', 'is', 'busn', 'basic', 'intro', 'discovery', 'doctor', 'i', 'design', 'knowledge', 'spa', 'studies', 'govt', 'quizzes', 'hw', 'phys', 'management', 'principles', 'courses', 'introductory', 'lab', 'thoeries', 's', 'professor', 'eco', 'accounting', 'overview', 'criminology', 'science', 'span', 'government', 'en', 'college', 'books', 'engl', 'concepts', 'analysis', 'soci', 'statistics', 'nurs', 'soc', 'civilization', 'managing', 'gen', 'him', 'quiz', 'pol', 'anthropology', 'health', 'ms', 'contemporary', 'eng', 'comm', 'stat', 'crim', 'business', 'phy', 'ethnic', 'colleges', 'her', 'german', 'calculus', 'acc', 'art', 'it', 'anth', 'communication', 'mkt', 'sociology', 'teacher', 'practices', 'university', 'pols', 'theory', 'prof', 'advanced', 'history', 'alg', 'spch', 'poli', 'psychology', 'law', 'psy', 'math', 'sciences', 'chem', 'course', 'hws', 'engr', 'japanese', 'arab', 'classes', 'gov', 'book', 'universities', 'bio', 'modern'};, score=0.938 total time=  58.7s\n",
            "[CV 4/5] END classifier__C=20, classifier__solver=liblinear, selector__percentile=20, vectorizer__min_df=7, vectorizer__ngram_range=(1, 3), vectorizer__stop_words={'fren', 'lectures', 'lecture', 'she', 'me', 'labs', 'econ', 'geog', 'religion', 'calc', 'laboratory', 'dr', 'algebra', 'french', 'intermediate', 'geo', 'he', 'geology', 'psych', 'ecology', 'writing', 'culture', 'materials', 'mr', 'we', 'english', 'concept', 'speech', 'enc', 'astrology', 'literature', 'bus', 'marketing', 'finance', 'hist', 'chemistry', 'music', 'myself', 'class', 'acct', 't', 'edu', 'philosophy', 'physics', 'theater', 'economics', 'introduction', 'mgt', 'spanish', 'biology', 'mgmt', 'background', 'engineering', 'political', 'phil', 'is', 'busn', 'basic', 'intro', 'discovery', 'doctor', 'i', 'design', 'knowledge', 'spa', 'studies', 'govt', 'quizzes', 'hw', 'phys', 'management', 'principles', 'courses', 'introductory', 'lab', 'thoeries', 's', 'professor', 'eco', 'accounting', 'overview', 'criminology', 'science', 'span', 'government', 'en', 'college', 'books', 'engl', 'concepts', 'analysis', 'soci', 'statistics', 'nurs', 'soc', 'civilization', 'managing', 'gen', 'him', 'quiz', 'pol', 'anthropology', 'health', 'ms', 'contemporary', 'eng', 'comm', 'stat', 'crim', 'business', 'phy', 'ethnic', 'colleges', 'her', 'german', 'calculus', 'acc', 'art', 'it', 'anth', 'communication', 'mkt', 'sociology', 'teacher', 'practices', 'university', 'pols', 'theory', 'prof', 'advanced', 'history', 'alg', 'spch', 'poli', 'psychology', 'law', 'psy', 'math', 'sciences', 'chem', 'course', 'hws', 'engr', 'japanese', 'arab', 'classes', 'gov', 'book', 'universities', 'bio', 'modern'};, score=0.938 total time=  57.7s\n",
            "[CV 5/5] END classifier__C=20, classifier__solver=liblinear, selector__percentile=20, vectorizer__min_df=7, vectorizer__ngram_range=(1, 3), vectorizer__stop_words={'fren', 'lectures', 'lecture', 'she', 'me', 'labs', 'econ', 'geog', 'religion', 'calc', 'laboratory', 'dr', 'algebra', 'french', 'intermediate', 'geo', 'he', 'geology', 'psych', 'ecology', 'writing', 'culture', 'materials', 'mr', 'we', 'english', 'concept', 'speech', 'enc', 'astrology', 'literature', 'bus', 'marketing', 'finance', 'hist', 'chemistry', 'music', 'myself', 'class', 'acct', 't', 'edu', 'philosophy', 'physics', 'theater', 'economics', 'introduction', 'mgt', 'spanish', 'biology', 'mgmt', 'background', 'engineering', 'political', 'phil', 'is', 'busn', 'basic', 'intro', 'discovery', 'doctor', 'i', 'design', 'knowledge', 'spa', 'studies', 'govt', 'quizzes', 'hw', 'phys', 'management', 'principles', 'courses', 'introductory', 'lab', 'thoeries', 's', 'professor', 'eco', 'accounting', 'overview', 'criminology', 'science', 'span', 'government', 'en', 'college', 'books', 'engl', 'concepts', 'analysis', 'soci', 'statistics', 'nurs', 'soc', 'civilization', 'managing', 'gen', 'him', 'quiz', 'pol', 'anthropology', 'health', 'ms', 'contemporary', 'eng', 'comm', 'stat', 'crim', 'business', 'phy', 'ethnic', 'colleges', 'her', 'german', 'calculus', 'acc', 'art', 'it', 'anth', 'communication', 'mkt', 'sociology', 'teacher', 'practices', 'university', 'pols', 'theory', 'prof', 'advanced', 'history', 'alg', 'spch', 'poli', 'psychology', 'law', 'psy', 'math', 'sciences', 'chem', 'course', 'hws', 'engr', 'japanese', 'arab', 'classes', 'gov', 'book', 'universities', 'bio', 'modern'};, score=0.938 total time=  57.5s\n",
            "[CV 1/5] END classifier__C=20, classifier__solver=newton-cg, selector__percentile=24, vectorizer__min_df=6, vectorizer__ngram_range=(1, 3), vectorizer__stop_words={'fren', 'phys', 'management', 'econ', 'eco', 'geog', 'accounting', 'religion', 'calc', 'criminology', 'science', 'span', 'government', 'en', 'algebra', 'french', 'geo', 'engl', 'soci', 'statistics', 'geology', 'nurs', 'psych', 'soc', 'ecology', 'gen', 'writing', 'culture', 'pol', 'english', 'anthropology', 'health', 'speech', 'eng', 'comm', 'enc', 'astrology', 'stat', 'crim', 'business', 'phy', 'literature', 'ethnic', 'german', 'bus', 'marketing', 'calculus', 'finance', 'hist', 'acc', 'art', 'chemistry', 'music', 'anth', 'communication', 'mkt', 'sociology', 'pols', 'acct', 'edu', 'philosophy', 'physics', 'theater', 'economics', 'mgt', 'spanish', 'history', 'biology', 'alg', 'spch', 'mgmt', 'poli', 'law', 'psy', 'psychology', 'math', 'sciences', 'engineering', 'chem', 'engr', 'political', 'phil', 'busn', 'japanese', 'arab', 'gov', 'bio', 'spa', 'govt'};, score=0.939 total time= 1.4min\n",
            "[CV 2/5] END classifier__C=20, classifier__solver=newton-cg, selector__percentile=24, vectorizer__min_df=6, vectorizer__ngram_range=(1, 3), vectorizer__stop_words={'fren', 'phys', 'management', 'econ', 'eco', 'geog', 'accounting', 'religion', 'calc', 'criminology', 'science', 'span', 'government', 'en', 'algebra', 'french', 'geo', 'engl', 'soci', 'statistics', 'geology', 'nurs', 'psych', 'soc', 'ecology', 'gen', 'writing', 'culture', 'pol', 'english', 'anthropology', 'health', 'speech', 'eng', 'comm', 'enc', 'astrology', 'stat', 'crim', 'business', 'phy', 'literature', 'ethnic', 'german', 'bus', 'marketing', 'calculus', 'finance', 'hist', 'acc', 'art', 'chemistry', 'music', 'anth', 'communication', 'mkt', 'sociology', 'pols', 'acct', 'edu', 'philosophy', 'physics', 'theater', 'economics', 'mgt', 'spanish', 'history', 'biology', 'alg', 'spch', 'mgmt', 'poli', 'law', 'psy', 'psychology', 'math', 'sciences', 'engineering', 'chem', 'engr', 'political', 'phil', 'busn', 'japanese', 'arab', 'gov', 'bio', 'spa', 'govt'};, score=0.939 total time= 1.4min\n",
            "[CV 3/5] END classifier__C=20, classifier__solver=newton-cg, selector__percentile=24, vectorizer__min_df=6, vectorizer__ngram_range=(1, 3), vectorizer__stop_words={'fren', 'phys', 'management', 'econ', 'eco', 'geog', 'accounting', 'religion', 'calc', 'criminology', 'science', 'span', 'government', 'en', 'algebra', 'french', 'geo', 'engl', 'soci', 'statistics', 'geology', 'nurs', 'psych', 'soc', 'ecology', 'gen', 'writing', 'culture', 'pol', 'english', 'anthropology', 'health', 'speech', 'eng', 'comm', 'enc', 'astrology', 'stat', 'crim', 'business', 'phy', 'literature', 'ethnic', 'german', 'bus', 'marketing', 'calculus', 'finance', 'hist', 'acc', 'art', 'chemistry', 'music', 'anth', 'communication', 'mkt', 'sociology', 'pols', 'acct', 'edu', 'philosophy', 'physics', 'theater', 'economics', 'mgt', 'spanish', 'history', 'biology', 'alg', 'spch', 'mgmt', 'poli', 'law', 'psy', 'psychology', 'math', 'sciences', 'engineering', 'chem', 'engr', 'political', 'phil', 'busn', 'japanese', 'arab', 'gov', 'bio', 'spa', 'govt'};, score=0.939 total time= 1.4min\n",
            "[CV 4/5] END classifier__C=20, classifier__solver=newton-cg, selector__percentile=24, vectorizer__min_df=6, vectorizer__ngram_range=(1, 3), vectorizer__stop_words={'fren', 'phys', 'management', 'econ', 'eco', 'geog', 'accounting', 'religion', 'calc', 'criminology', 'science', 'span', 'government', 'en', 'algebra', 'french', 'geo', 'engl', 'soci', 'statistics', 'geology', 'nurs', 'psych', 'soc', 'ecology', 'gen', 'writing', 'culture', 'pol', 'english', 'anthropology', 'health', 'speech', 'eng', 'comm', 'enc', 'astrology', 'stat', 'crim', 'business', 'phy', 'literature', 'ethnic', 'german', 'bus', 'marketing', 'calculus', 'finance', 'hist', 'acc', 'art', 'chemistry', 'music', 'anth', 'communication', 'mkt', 'sociology', 'pols', 'acct', 'edu', 'philosophy', 'physics', 'theater', 'economics', 'mgt', 'spanish', 'history', 'biology', 'alg', 'spch', 'mgmt', 'poli', 'law', 'psy', 'psychology', 'math', 'sciences', 'engineering', 'chem', 'engr', 'political', 'phil', 'busn', 'japanese', 'arab', 'gov', 'bio', 'spa', 'govt'};, score=0.939 total time= 1.4min\n",
            "[CV 5/5] END classifier__C=20, classifier__solver=newton-cg, selector__percentile=24, vectorizer__min_df=6, vectorizer__ngram_range=(1, 3), vectorizer__stop_words={'fren', 'phys', 'management', 'econ', 'eco', 'geog', 'accounting', 'religion', 'calc', 'criminology', 'science', 'span', 'government', 'en', 'algebra', 'french', 'geo', 'engl', 'soci', 'statistics', 'geology', 'nurs', 'psych', 'soc', 'ecology', 'gen', 'writing', 'culture', 'pol', 'english', 'anthropology', 'health', 'speech', 'eng', 'comm', 'enc', 'astrology', 'stat', 'crim', 'business', 'phy', 'literature', 'ethnic', 'german', 'bus', 'marketing', 'calculus', 'finance', 'hist', 'acc', 'art', 'chemistry', 'music', 'anth', 'communication', 'mkt', 'sociology', 'pols', 'acct', 'edu', 'philosophy', 'physics', 'theater', 'economics', 'mgt', 'spanish', 'history', 'biology', 'alg', 'spch', 'mgmt', 'poli', 'law', 'psy', 'psychology', 'math', 'sciences', 'engineering', 'chem', 'engr', 'political', 'phil', 'busn', 'japanese', 'arab', 'gov', 'bio', 'spa', 'govt'};, score=0.939 total time= 1.4min\n",
            "[CV 1/5] END classifier__C=10, classifier__solver=sag, selector__percentile=22, vectorizer__min_df=7, vectorizer__ngram_range=(1, 3), vectorizer__stop_words={'fren', 'lectures', 'lecture', 'she', 'me', 'labs', 'econ', 'geog', 'religion', 'calc', 'laboratory', 'dr', 'algebra', 'french', 'intermediate', 'geo', 'he', 'geology', 'psych', 'ecology', 'writing', 'culture', 'materials', 'mr', 'we', 'english', 'concept', 'speech', 'enc', 'astrology', 'literature', 'bus', 'marketing', 'finance', 'hist', 'chemistry', 'music', 'myself', 'class', 'acct', 't', 'edu', 'philosophy', 'physics', 'theater', 'economics', 'introduction', 'mgt', 'spanish', 'biology', 'mgmt', 'background', 'engineering', 'political', 'phil', 'is', 'busn', 'basic', 'intro', 'discovery', 'doctor', 'i', 'design', 'knowledge', 'spa', 'studies', 'govt', 'quizzes', 'hw', 'phys', 'management', 'principles', 'courses', 'introductory', 'lab', 'thoeries', 's', 'professor', 'eco', 'accounting', 'overview', 'criminology', 'science', 'span', 'government', 'en', 'college', 'books', 'engl', 'concepts', 'analysis', 'soci', 'statistics', 'nurs', 'soc', 'civilization', 'managing', 'gen', 'him', 'quiz', 'pol', 'anthropology', 'health', 'ms', 'contemporary', 'eng', 'comm', 'stat', 'crim', 'business', 'phy', 'ethnic', 'colleges', 'her', 'german', 'calculus', 'acc', 'art', 'it', 'anth', 'communication', 'mkt', 'sociology', 'teacher', 'practices', 'university', 'pols', 'theory', 'prof', 'advanced', 'history', 'alg', 'spch', 'poli', 'psychology', 'law', 'psy', 'math', 'sciences', 'chem', 'course', 'hws', 'engr', 'japanese', 'arab', 'classes', 'gov', 'book', 'universities', 'bio', 'modern'};, score=0.939 total time=  58.6s\n",
            "[CV 2/5] END classifier__C=10, classifier__solver=sag, selector__percentile=22, vectorizer__min_df=7, vectorizer__ngram_range=(1, 3), vectorizer__stop_words={'fren', 'lectures', 'lecture', 'she', 'me', 'labs', 'econ', 'geog', 'religion', 'calc', 'laboratory', 'dr', 'algebra', 'french', 'intermediate', 'geo', 'he', 'geology', 'psych', 'ecology', 'writing', 'culture', 'materials', 'mr', 'we', 'english', 'concept', 'speech', 'enc', 'astrology', 'literature', 'bus', 'marketing', 'finance', 'hist', 'chemistry', 'music', 'myself', 'class', 'acct', 't', 'edu', 'philosophy', 'physics', 'theater', 'economics', 'introduction', 'mgt', 'spanish', 'biology', 'mgmt', 'background', 'engineering', 'political', 'phil', 'is', 'busn', 'basic', 'intro', 'discovery', 'doctor', 'i', 'design', 'knowledge', 'spa', 'studies', 'govt', 'quizzes', 'hw', 'phys', 'management', 'principles', 'courses', 'introductory', 'lab', 'thoeries', 's', 'professor', 'eco', 'accounting', 'overview', 'criminology', 'science', 'span', 'government', 'en', 'college', 'books', 'engl', 'concepts', 'analysis', 'soci', 'statistics', 'nurs', 'soc', 'civilization', 'managing', 'gen', 'him', 'quiz', 'pol', 'anthropology', 'health', 'ms', 'contemporary', 'eng', 'comm', 'stat', 'crim', 'business', 'phy', 'ethnic', 'colleges', 'her', 'german', 'calculus', 'acc', 'art', 'it', 'anth', 'communication', 'mkt', 'sociology', 'teacher', 'practices', 'university', 'pols', 'theory', 'prof', 'advanced', 'history', 'alg', 'spch', 'poli', 'psychology', 'law', 'psy', 'math', 'sciences', 'chem', 'course', 'hws', 'engr', 'japanese', 'arab', 'classes', 'gov', 'book', 'universities', 'bio', 'modern'};, score=0.940 total time=  58.5s\n",
            "[CV 3/5] END classifier__C=10, classifier__solver=sag, selector__percentile=22, vectorizer__min_df=7, vectorizer__ngram_range=(1, 3), vectorizer__stop_words={'fren', 'lectures', 'lecture', 'she', 'me', 'labs', 'econ', 'geog', 'religion', 'calc', 'laboratory', 'dr', 'algebra', 'french', 'intermediate', 'geo', 'he', 'geology', 'psych', 'ecology', 'writing', 'culture', 'materials', 'mr', 'we', 'english', 'concept', 'speech', 'enc', 'astrology', 'literature', 'bus', 'marketing', 'finance', 'hist', 'chemistry', 'music', 'myself', 'class', 'acct', 't', 'edu', 'philosophy', 'physics', 'theater', 'economics', 'introduction', 'mgt', 'spanish', 'biology', 'mgmt', 'background', 'engineering', 'political', 'phil', 'is', 'busn', 'basic', 'intro', 'discovery', 'doctor', 'i', 'design', 'knowledge', 'spa', 'studies', 'govt', 'quizzes', 'hw', 'phys', 'management', 'principles', 'courses', 'introductory', 'lab', 'thoeries', 's', 'professor', 'eco', 'accounting', 'overview', 'criminology', 'science', 'span', 'government', 'en', 'college', 'books', 'engl', 'concepts', 'analysis', 'soci', 'statistics', 'nurs', 'soc', 'civilization', 'managing', 'gen', 'him', 'quiz', 'pol', 'anthropology', 'health', 'ms', 'contemporary', 'eng', 'comm', 'stat', 'crim', 'business', 'phy', 'ethnic', 'colleges', 'her', 'german', 'calculus', 'acc', 'art', 'it', 'anth', 'communication', 'mkt', 'sociology', 'teacher', 'practices', 'university', 'pols', 'theory', 'prof', 'advanced', 'history', 'alg', 'spch', 'poli', 'psychology', 'law', 'psy', 'math', 'sciences', 'chem', 'course', 'hws', 'engr', 'japanese', 'arab', 'classes', 'gov', 'book', 'universities', 'bio', 'modern'};, score=0.940 total time= 1.0min\n",
            "[CV 4/5] END classifier__C=10, classifier__solver=sag, selector__percentile=22, vectorizer__min_df=7, vectorizer__ngram_range=(1, 3), vectorizer__stop_words={'fren', 'lectures', 'lecture', 'she', 'me', 'labs', 'econ', 'geog', 'religion', 'calc', 'laboratory', 'dr', 'algebra', 'french', 'intermediate', 'geo', 'he', 'geology', 'psych', 'ecology', 'writing', 'culture', 'materials', 'mr', 'we', 'english', 'concept', 'speech', 'enc', 'astrology', 'literature', 'bus', 'marketing', 'finance', 'hist', 'chemistry', 'music', 'myself', 'class', 'acct', 't', 'edu', 'philosophy', 'physics', 'theater', 'economics', 'introduction', 'mgt', 'spanish', 'biology', 'mgmt', 'background', 'engineering', 'political', 'phil', 'is', 'busn', 'basic', 'intro', 'discovery', 'doctor', 'i', 'design', 'knowledge', 'spa', 'studies', 'govt', 'quizzes', 'hw', 'phys', 'management', 'principles', 'courses', 'introductory', 'lab', 'thoeries', 's', 'professor', 'eco', 'accounting', 'overview', 'criminology', 'science', 'span', 'government', 'en', 'college', 'books', 'engl', 'concepts', 'analysis', 'soci', 'statistics', 'nurs', 'soc', 'civilization', 'managing', 'gen', 'him', 'quiz', 'pol', 'anthropology', 'health', 'ms', 'contemporary', 'eng', 'comm', 'stat', 'crim', 'business', 'phy', 'ethnic', 'colleges', 'her', 'german', 'calculus', 'acc', 'art', 'it', 'anth', 'communication', 'mkt', 'sociology', 'teacher', 'practices', 'university', 'pols', 'theory', 'prof', 'advanced', 'history', 'alg', 'spch', 'poli', 'psychology', 'law', 'psy', 'math', 'sciences', 'chem', 'course', 'hws', 'engr', 'japanese', 'arab', 'classes', 'gov', 'book', 'universities', 'bio', 'modern'};, score=0.940 total time=  57.5s\n",
            "[CV 5/5] END classifier__C=10, classifier__solver=sag, selector__percentile=22, vectorizer__min_df=7, vectorizer__ngram_range=(1, 3), vectorizer__stop_words={'fren', 'lectures', 'lecture', 'she', 'me', 'labs', 'econ', 'geog', 'religion', 'calc', 'laboratory', 'dr', 'algebra', 'french', 'intermediate', 'geo', 'he', 'geology', 'psych', 'ecology', 'writing', 'culture', 'materials', 'mr', 'we', 'english', 'concept', 'speech', 'enc', 'astrology', 'literature', 'bus', 'marketing', 'finance', 'hist', 'chemistry', 'music', 'myself', 'class', 'acct', 't', 'edu', 'philosophy', 'physics', 'theater', 'economics', 'introduction', 'mgt', 'spanish', 'biology', 'mgmt', 'background', 'engineering', 'political', 'phil', 'is', 'busn', 'basic', 'intro', 'discovery', 'doctor', 'i', 'design', 'knowledge', 'spa', 'studies', 'govt', 'quizzes', 'hw', 'phys', 'management', 'principles', 'courses', 'introductory', 'lab', 'thoeries', 's', 'professor', 'eco', 'accounting', 'overview', 'criminology', 'science', 'span', 'government', 'en', 'college', 'books', 'engl', 'concepts', 'analysis', 'soci', 'statistics', 'nurs', 'soc', 'civilization', 'managing', 'gen', 'him', 'quiz', 'pol', 'anthropology', 'health', 'ms', 'contemporary', 'eng', 'comm', 'stat', 'crim', 'business', 'phy', 'ethnic', 'colleges', 'her', 'german', 'calculus', 'acc', 'art', 'it', 'anth', 'communication', 'mkt', 'sociology', 'teacher', 'practices', 'university', 'pols', 'theory', 'prof', 'advanced', 'history', 'alg', 'spch', 'poli', 'psychology', 'law', 'psy', 'math', 'sciences', 'chem', 'course', 'hws', 'engr', 'japanese', 'arab', 'classes', 'gov', 'book', 'universities', 'bio', 'modern'};, score=0.940 total time=  59.3s\n",
            "[CV 1/5] END classifier__C=7.5, classifier__solver=saga, selector__percentile=16, vectorizer__min_df=6, vectorizer__ngram_range=(1, 3), vectorizer__stop_words={'fren', 'lectures', 'lecture', 'she', 'me', 'labs', 'econ', 'geog', 'religion', 'calc', 'laboratory', 'dr', 'algebra', 'french', 'intermediate', 'geo', 'he', 'geology', 'psych', 'ecology', 'writing', 'culture', 'materials', 'mr', 'we', 'english', 'concept', 'speech', 'enc', 'astrology', 'literature', 'bus', 'marketing', 'finance', 'hist', 'chemistry', 'music', 'myself', 'class', 'acct', 't', 'edu', 'philosophy', 'physics', 'theater', 'economics', 'introduction', 'mgt', 'spanish', 'biology', 'mgmt', 'background', 'engineering', 'political', 'phil', 'is', 'busn', 'basic', 'intro', 'discovery', 'doctor', 'i', 'design', 'knowledge', 'spa', 'studies', 'govt', 'quizzes', 'hw', 'phys', 'management', 'principles', 'courses', 'introductory', 'lab', 'thoeries', 's', 'professor', 'eco', 'accounting', 'overview', 'criminology', 'science', 'span', 'government', 'en', 'college', 'books', 'engl', 'concepts', 'analysis', 'soci', 'statistics', 'nurs', 'soc', 'civilization', 'managing', 'gen', 'him', 'quiz', 'pol', 'anthropology', 'health', 'ms', 'contemporary', 'eng', 'comm', 'stat', 'crim', 'business', 'phy', 'ethnic', 'colleges', 'her', 'german', 'calculus', 'acc', 'art', 'it', 'anth', 'communication', 'mkt', 'sociology', 'teacher', 'practices', 'university', 'pols', 'theory', 'prof', 'advanced', 'history', 'alg', 'spch', 'poli', 'psychology', 'law', 'psy', 'math', 'sciences', 'chem', 'course', 'hws', 'engr', 'japanese', 'arab', 'classes', 'gov', 'book', 'universities', 'bio', 'modern'};, score=0.939 total time= 1.1min\n",
            "[CV 2/5] END classifier__C=7.5, classifier__solver=saga, selector__percentile=16, vectorizer__min_df=6, vectorizer__ngram_range=(1, 3), vectorizer__stop_words={'fren', 'lectures', 'lecture', 'she', 'me', 'labs', 'econ', 'geog', 'religion', 'calc', 'laboratory', 'dr', 'algebra', 'french', 'intermediate', 'geo', 'he', 'geology', 'psych', 'ecology', 'writing', 'culture', 'materials', 'mr', 'we', 'english', 'concept', 'speech', 'enc', 'astrology', 'literature', 'bus', 'marketing', 'finance', 'hist', 'chemistry', 'music', 'myself', 'class', 'acct', 't', 'edu', 'philosophy', 'physics', 'theater', 'economics', 'introduction', 'mgt', 'spanish', 'biology', 'mgmt', 'background', 'engineering', 'political', 'phil', 'is', 'busn', 'basic', 'intro', 'discovery', 'doctor', 'i', 'design', 'knowledge', 'spa', 'studies', 'govt', 'quizzes', 'hw', 'phys', 'management', 'principles', 'courses', 'introductory', 'lab', 'thoeries', 's', 'professor', 'eco', 'accounting', 'overview', 'criminology', 'science', 'span', 'government', 'en', 'college', 'books', 'engl', 'concepts', 'analysis', 'soci', 'statistics', 'nurs', 'soc', 'civilization', 'managing', 'gen', 'him', 'quiz', 'pol', 'anthropology', 'health', 'ms', 'contemporary', 'eng', 'comm', 'stat', 'crim', 'business', 'phy', 'ethnic', 'colleges', 'her', 'german', 'calculus', 'acc', 'art', 'it', 'anth', 'communication', 'mkt', 'sociology', 'teacher', 'practices', 'university', 'pols', 'theory', 'prof', 'advanced', 'history', 'alg', 'spch', 'poli', 'psychology', 'law', 'psy', 'math', 'sciences', 'chem', 'course', 'hws', 'engr', 'japanese', 'arab', 'classes', 'gov', 'book', 'universities', 'bio', 'modern'};, score=0.940 total time= 1.1min\n",
            "[CV 3/5] END classifier__C=7.5, classifier__solver=saga, selector__percentile=16, vectorizer__min_df=6, vectorizer__ngram_range=(1, 3), vectorizer__stop_words={'fren', 'lectures', 'lecture', 'she', 'me', 'labs', 'econ', 'geog', 'religion', 'calc', 'laboratory', 'dr', 'algebra', 'french', 'intermediate', 'geo', 'he', 'geology', 'psych', 'ecology', 'writing', 'culture', 'materials', 'mr', 'we', 'english', 'concept', 'speech', 'enc', 'astrology', 'literature', 'bus', 'marketing', 'finance', 'hist', 'chemistry', 'music', 'myself', 'class', 'acct', 't', 'edu', 'philosophy', 'physics', 'theater', 'economics', 'introduction', 'mgt', 'spanish', 'biology', 'mgmt', 'background', 'engineering', 'political', 'phil', 'is', 'busn', 'basic', 'intro', 'discovery', 'doctor', 'i', 'design', 'knowledge', 'spa', 'studies', 'govt', 'quizzes', 'hw', 'phys', 'management', 'principles', 'courses', 'introductory', 'lab', 'thoeries', 's', 'professor', 'eco', 'accounting', 'overview', 'criminology', 'science', 'span', 'government', 'en', 'college', 'books', 'engl', 'concepts', 'analysis', 'soci', 'statistics', 'nurs', 'soc', 'civilization', 'managing', 'gen', 'him', 'quiz', 'pol', 'anthropology', 'health', 'ms', 'contemporary', 'eng', 'comm', 'stat', 'crim', 'business', 'phy', 'ethnic', 'colleges', 'her', 'german', 'calculus', 'acc', 'art', 'it', 'anth', 'communication', 'mkt', 'sociology', 'teacher', 'practices', 'university', 'pols', 'theory', 'prof', 'advanced', 'history', 'alg', 'spch', 'poli', 'psychology', 'law', 'psy', 'math', 'sciences', 'chem', 'course', 'hws', 'engr', 'japanese', 'arab', 'classes', 'gov', 'book', 'universities', 'bio', 'modern'};, score=0.940 total time= 1.1min\n",
            "[CV 4/5] END classifier__C=7.5, classifier__solver=saga, selector__percentile=16, vectorizer__min_df=6, vectorizer__ngram_range=(1, 3), vectorizer__stop_words={'fren', 'lectures', 'lecture', 'she', 'me', 'labs', 'econ', 'geog', 'religion', 'calc', 'laboratory', 'dr', 'algebra', 'french', 'intermediate', 'geo', 'he', 'geology', 'psych', 'ecology', 'writing', 'culture', 'materials', 'mr', 'we', 'english', 'concept', 'speech', 'enc', 'astrology', 'literature', 'bus', 'marketing', 'finance', 'hist', 'chemistry', 'music', 'myself', 'class', 'acct', 't', 'edu', 'philosophy', 'physics', 'theater', 'economics', 'introduction', 'mgt', 'spanish', 'biology', 'mgmt', 'background', 'engineering', 'political', 'phil', 'is', 'busn', 'basic', 'intro', 'discovery', 'doctor', 'i', 'design', 'knowledge', 'spa', 'studies', 'govt', 'quizzes', 'hw', 'phys', 'management', 'principles', 'courses', 'introductory', 'lab', 'thoeries', 's', 'professor', 'eco', 'accounting', 'overview', 'criminology', 'science', 'span', 'government', 'en', 'college', 'books', 'engl', 'concepts', 'analysis', 'soci', 'statistics', 'nurs', 'soc', 'civilization', 'managing', 'gen', 'him', 'quiz', 'pol', 'anthropology', 'health', 'ms', 'contemporary', 'eng', 'comm', 'stat', 'crim', 'business', 'phy', 'ethnic', 'colleges', 'her', 'german', 'calculus', 'acc', 'art', 'it', 'anth', 'communication', 'mkt', 'sociology', 'teacher', 'practices', 'university', 'pols', 'theory', 'prof', 'advanced', 'history', 'alg', 'spch', 'poli', 'psychology', 'law', 'psy', 'math', 'sciences', 'chem', 'course', 'hws', 'engr', 'japanese', 'arab', 'classes', 'gov', 'book', 'universities', 'bio', 'modern'};, score=0.940 total time= 1.1min\n",
            "[CV 5/5] END classifier__C=7.5, classifier__solver=saga, selector__percentile=16, vectorizer__min_df=6, vectorizer__ngram_range=(1, 3), vectorizer__stop_words={'fren', 'lectures', 'lecture', 'she', 'me', 'labs', 'econ', 'geog', 'religion', 'calc', 'laboratory', 'dr', 'algebra', 'french', 'intermediate', 'geo', 'he', 'geology', 'psych', 'ecology', 'writing', 'culture', 'materials', 'mr', 'we', 'english', 'concept', 'speech', 'enc', 'astrology', 'literature', 'bus', 'marketing', 'finance', 'hist', 'chemistry', 'music', 'myself', 'class', 'acct', 't', 'edu', 'philosophy', 'physics', 'theater', 'economics', 'introduction', 'mgt', 'spanish', 'biology', 'mgmt', 'background', 'engineering', 'political', 'phil', 'is', 'busn', 'basic', 'intro', 'discovery', 'doctor', 'i', 'design', 'knowledge', 'spa', 'studies', 'govt', 'quizzes', 'hw', 'phys', 'management', 'principles', 'courses', 'introductory', 'lab', 'thoeries', 's', 'professor', 'eco', 'accounting', 'overview', 'criminology', 'science', 'span', 'government', 'en', 'college', 'books', 'engl', 'concepts', 'analysis', 'soci', 'statistics', 'nurs', 'soc', 'civilization', 'managing', 'gen', 'him', 'quiz', 'pol', 'anthropology', 'health', 'ms', 'contemporary', 'eng', 'comm', 'stat', 'crim', 'business', 'phy', 'ethnic', 'colleges', 'her', 'german', 'calculus', 'acc', 'art', 'it', 'anth', 'communication', 'mkt', 'sociology', 'teacher', 'practices', 'university', 'pols', 'theory', 'prof', 'advanced', 'history', 'alg', 'spch', 'poli', 'psychology', 'law', 'psy', 'math', 'sciences', 'chem', 'course', 'hws', 'engr', 'japanese', 'arab', 'classes', 'gov', 'book', 'universities', 'bio', 'modern'};, score=0.940 total time= 1.1min\n",
            "[CV 1/5] END classifier__C=15, classifier__solver=liblinear, selector__percentile=32, vectorizer__min_df=6, vectorizer__ngram_range=(1, 3), vectorizer__stop_words={'fren', 'lectures', 'hw', 'lecture', 'quizzes', 'phys', 'courses', 'management', 'lab', 'she', 'me', 's', 'professor', 'labs', 'econ', 'eco', 'geog', 'accounting', 'religion', 'calc', 'criminology', 'dr', 'span', 'science', 'government', 'en', 'college', 'algebra', 'french', 'books', 'geo', 'engl', 'he', 'soci', 'statistics', 'nurs', 'psych', 'geology', 'soc', 'ecology', 'gen', 'writing', 'him', 'culture', 'mr', 'we', 'quiz', 'pol', 'english', 'anthropology', 'health', 'ms', 'speech', 'eng', 'comm', 'enc', 'astrology', 'stat', 'crim', 'business', 'phy', 'literature', 'ethnic', 'colleges', 'her', 'bus', 'german', 'marketing', 'calculus', 'finance', 'hist', 'acc', 'art', 'chemistry', 'it', 'music', 'anth', 'myself', 'mkt', 'communication', 'class', 'teacher', 'sociology', 'university', 'pols', 'acct', 't', 'edu', 'philosophy', 'physics', 'theater', 'economics', 'prof', 'mgt', 'spanish', 'history', 'biology', 'alg', 'spch', 'mgmt', 'poli', 'law', 'psy', 'psychology', 'math', 'sciences', 'engineering', 'chem', 'course', 'hws', 'engr', 'political', 'phil', 'is', 'busn', 'japanese', 'arab', 'classes', 'gov', 'doctor', 'i', 'book', 'universities', 'bio', 'spa', 'govt'};, score=0.938 total time= 1.0min\n",
            "[CV 2/5] END classifier__C=15, classifier__solver=liblinear, selector__percentile=32, vectorizer__min_df=6, vectorizer__ngram_range=(1, 3), vectorizer__stop_words={'fren', 'lectures', 'hw', 'lecture', 'quizzes', 'phys', 'courses', 'management', 'lab', 'she', 'me', 's', 'professor', 'labs', 'econ', 'eco', 'geog', 'accounting', 'religion', 'calc', 'criminology', 'dr', 'span', 'science', 'government', 'en', 'college', 'algebra', 'french', 'books', 'geo', 'engl', 'he', 'soci', 'statistics', 'nurs', 'psych', 'geology', 'soc', 'ecology', 'gen', 'writing', 'him', 'culture', 'mr', 'we', 'quiz', 'pol', 'english', 'anthropology', 'health', 'ms', 'speech', 'eng', 'comm', 'enc', 'astrology', 'stat', 'crim', 'business', 'phy', 'literature', 'ethnic', 'colleges', 'her', 'bus', 'german', 'marketing', 'calculus', 'finance', 'hist', 'acc', 'art', 'chemistry', 'it', 'music', 'anth', 'myself', 'mkt', 'communication', 'class', 'teacher', 'sociology', 'university', 'pols', 'acct', 't', 'edu', 'philosophy', 'physics', 'theater', 'economics', 'prof', 'mgt', 'spanish', 'history', 'biology', 'alg', 'spch', 'mgmt', 'poli', 'law', 'psy', 'psychology', 'math', 'sciences', 'engineering', 'chem', 'course', 'hws', 'engr', 'political', 'phil', 'is', 'busn', 'japanese', 'arab', 'classes', 'gov', 'doctor', 'i', 'book', 'universities', 'bio', 'spa', 'govt'};, score=0.938 total time= 1.0min\n",
            "[CV 3/5] END classifier__C=15, classifier__solver=liblinear, selector__percentile=32, vectorizer__min_df=6, vectorizer__ngram_range=(1, 3), vectorizer__stop_words={'fren', 'lectures', 'hw', 'lecture', 'quizzes', 'phys', 'courses', 'management', 'lab', 'she', 'me', 's', 'professor', 'labs', 'econ', 'eco', 'geog', 'accounting', 'religion', 'calc', 'criminology', 'dr', 'span', 'science', 'government', 'en', 'college', 'algebra', 'french', 'books', 'geo', 'engl', 'he', 'soci', 'statistics', 'nurs', 'psych', 'geology', 'soc', 'ecology', 'gen', 'writing', 'him', 'culture', 'mr', 'we', 'quiz', 'pol', 'english', 'anthropology', 'health', 'ms', 'speech', 'eng', 'comm', 'enc', 'astrology', 'stat', 'crim', 'business', 'phy', 'literature', 'ethnic', 'colleges', 'her', 'bus', 'german', 'marketing', 'calculus', 'finance', 'hist', 'acc', 'art', 'chemistry', 'it', 'music', 'anth', 'myself', 'mkt', 'communication', 'class', 'teacher', 'sociology', 'university', 'pols', 'acct', 't', 'edu', 'philosophy', 'physics', 'theater', 'economics', 'prof', 'mgt', 'spanish', 'history', 'biology', 'alg', 'spch', 'mgmt', 'poli', 'law', 'psy', 'psychology', 'math', 'sciences', 'engineering', 'chem', 'course', 'hws', 'engr', 'political', 'phil', 'is', 'busn', 'japanese', 'arab', 'classes', 'gov', 'doctor', 'i', 'book', 'universities', 'bio', 'spa', 'govt'};, score=0.939 total time= 1.0min\n",
            "[CV 4/5] END classifier__C=15, classifier__solver=liblinear, selector__percentile=32, vectorizer__min_df=6, vectorizer__ngram_range=(1, 3), vectorizer__stop_words={'fren', 'lectures', 'hw', 'lecture', 'quizzes', 'phys', 'courses', 'management', 'lab', 'she', 'me', 's', 'professor', 'labs', 'econ', 'eco', 'geog', 'accounting', 'religion', 'calc', 'criminology', 'dr', 'span', 'science', 'government', 'en', 'college', 'algebra', 'french', 'books', 'geo', 'engl', 'he', 'soci', 'statistics', 'nurs', 'psych', 'geology', 'soc', 'ecology', 'gen', 'writing', 'him', 'culture', 'mr', 'we', 'quiz', 'pol', 'english', 'anthropology', 'health', 'ms', 'speech', 'eng', 'comm', 'enc', 'astrology', 'stat', 'crim', 'business', 'phy', 'literature', 'ethnic', 'colleges', 'her', 'bus', 'german', 'marketing', 'calculus', 'finance', 'hist', 'acc', 'art', 'chemistry', 'it', 'music', 'anth', 'myself', 'mkt', 'communication', 'class', 'teacher', 'sociology', 'university', 'pols', 'acct', 't', 'edu', 'philosophy', 'physics', 'theater', 'economics', 'prof', 'mgt', 'spanish', 'history', 'biology', 'alg', 'spch', 'mgmt', 'poli', 'law', 'psy', 'psychology', 'math', 'sciences', 'engineering', 'chem', 'course', 'hws', 'engr', 'political', 'phil', 'is', 'busn', 'japanese', 'arab', 'classes', 'gov', 'doctor', 'i', 'book', 'universities', 'bio', 'spa', 'govt'};, score=0.939 total time= 1.1min\n",
            "[CV 5/5] END classifier__C=15, classifier__solver=liblinear, selector__percentile=32, vectorizer__min_df=6, vectorizer__ngram_range=(1, 3), vectorizer__stop_words={'fren', 'lectures', 'hw', 'lecture', 'quizzes', 'phys', 'courses', 'management', 'lab', 'she', 'me', 's', 'professor', 'labs', 'econ', 'eco', 'geog', 'accounting', 'religion', 'calc', 'criminology', 'dr', 'span', 'science', 'government', 'en', 'college', 'algebra', 'french', 'books', 'geo', 'engl', 'he', 'soci', 'statistics', 'nurs', 'psych', 'geology', 'soc', 'ecology', 'gen', 'writing', 'him', 'culture', 'mr', 'we', 'quiz', 'pol', 'english', 'anthropology', 'health', 'ms', 'speech', 'eng', 'comm', 'enc', 'astrology', 'stat', 'crim', 'business', 'phy', 'literature', 'ethnic', 'colleges', 'her', 'bus', 'german', 'marketing', 'calculus', 'finance', 'hist', 'acc', 'art', 'chemistry', 'it', 'music', 'anth', 'myself', 'mkt', 'communication', 'class', 'teacher', 'sociology', 'university', 'pols', 'acct', 't', 'edu', 'philosophy', 'physics', 'theater', 'economics', 'prof', 'mgt', 'spanish', 'history', 'biology', 'alg', 'spch', 'mgmt', 'poli', 'law', 'psy', 'psychology', 'math', 'sciences', 'engineering', 'chem', 'course', 'hws', 'engr', 'political', 'phil', 'is', 'busn', 'japanese', 'arab', 'classes', 'gov', 'doctor', 'i', 'book', 'universities', 'bio', 'spa', 'govt'};, score=0.938 total time= 1.1min\n",
            "[CV 1/5] END classifier__C=10, classifier__solver=newton-cg, selector__percentile=22, vectorizer__min_df=6, vectorizer__ngram_range=(1, 3), vectorizer__stop_words={'fren', 'lectures', 'hw', 'lecture', 'quizzes', 'phys', 'courses', 'management', 'lab', 'she', 'me', 's', 'professor', 'labs', 'econ', 'eco', 'geog', 'accounting', 'religion', 'calc', 'criminology', 'dr', 'span', 'science', 'government', 'en', 'college', 'algebra', 'french', 'books', 'geo', 'engl', 'he', 'soci', 'statistics', 'nurs', 'psych', 'geology', 'soc', 'ecology', 'gen', 'writing', 'him', 'culture', 'mr', 'we', 'quiz', 'pol', 'english', 'anthropology', 'health', 'ms', 'speech', 'eng', 'comm', 'enc', 'astrology', 'stat', 'crim', 'business', 'phy', 'literature', 'ethnic', 'colleges', 'her', 'bus', 'german', 'marketing', 'calculus', 'finance', 'hist', 'acc', 'art', 'chemistry', 'it', 'music', 'anth', 'myself', 'mkt', 'communication', 'class', 'teacher', 'sociology', 'university', 'pols', 'acct', 't', 'edu', 'philosophy', 'physics', 'theater', 'economics', 'prof', 'mgt', 'spanish', 'history', 'biology', 'alg', 'spch', 'mgmt', 'poli', 'law', 'psy', 'psychology', 'math', 'sciences', 'engineering', 'chem', 'course', 'hws', 'engr', 'political', 'phil', 'is', 'busn', 'japanese', 'arab', 'classes', 'gov', 'doctor', 'i', 'book', 'universities', 'bio', 'spa', 'govt'};, score=0.939 total time= 1.2min\n",
            "[CV 2/5] END classifier__C=10, classifier__solver=newton-cg, selector__percentile=22, vectorizer__min_df=6, vectorizer__ngram_range=(1, 3), vectorizer__stop_words={'fren', 'lectures', 'hw', 'lecture', 'quizzes', 'phys', 'courses', 'management', 'lab', 'she', 'me', 's', 'professor', 'labs', 'econ', 'eco', 'geog', 'accounting', 'religion', 'calc', 'criminology', 'dr', 'span', 'science', 'government', 'en', 'college', 'algebra', 'french', 'books', 'geo', 'engl', 'he', 'soci', 'statistics', 'nurs', 'psych', 'geology', 'soc', 'ecology', 'gen', 'writing', 'him', 'culture', 'mr', 'we', 'quiz', 'pol', 'english', 'anthropology', 'health', 'ms', 'speech', 'eng', 'comm', 'enc', 'astrology', 'stat', 'crim', 'business', 'phy', 'literature', 'ethnic', 'colleges', 'her', 'bus', 'german', 'marketing', 'calculus', 'finance', 'hist', 'acc', 'art', 'chemistry', 'it', 'music', 'anth', 'myself', 'mkt', 'communication', 'class', 'teacher', 'sociology', 'university', 'pols', 'acct', 't', 'edu', 'philosophy', 'physics', 'theater', 'economics', 'prof', 'mgt', 'spanish', 'history', 'biology', 'alg', 'spch', 'mgmt', 'poli', 'law', 'psy', 'psychology', 'math', 'sciences', 'engineering', 'chem', 'course', 'hws', 'engr', 'political', 'phil', 'is', 'busn', 'japanese', 'arab', 'classes', 'gov', 'doctor', 'i', 'book', 'universities', 'bio', 'spa', 'govt'};, score=0.940 total time= 1.1min\n",
            "[CV 3/5] END classifier__C=10, classifier__solver=newton-cg, selector__percentile=22, vectorizer__min_df=6, vectorizer__ngram_range=(1, 3), vectorizer__stop_words={'fren', 'lectures', 'hw', 'lecture', 'quizzes', 'phys', 'courses', 'management', 'lab', 'she', 'me', 's', 'professor', 'labs', 'econ', 'eco', 'geog', 'accounting', 'religion', 'calc', 'criminology', 'dr', 'span', 'science', 'government', 'en', 'college', 'algebra', 'french', 'books', 'geo', 'engl', 'he', 'soci', 'statistics', 'nurs', 'psych', 'geology', 'soc', 'ecology', 'gen', 'writing', 'him', 'culture', 'mr', 'we', 'quiz', 'pol', 'english', 'anthropology', 'health', 'ms', 'speech', 'eng', 'comm', 'enc', 'astrology', 'stat', 'crim', 'business', 'phy', 'literature', 'ethnic', 'colleges', 'her', 'bus', 'german', 'marketing', 'calculus', 'finance', 'hist', 'acc', 'art', 'chemistry', 'it', 'music', 'anth', 'myself', 'mkt', 'communication', 'class', 'teacher', 'sociology', 'university', 'pols', 'acct', 't', 'edu', 'philosophy', 'physics', 'theater', 'economics', 'prof', 'mgt', 'spanish', 'history', 'biology', 'alg', 'spch', 'mgmt', 'poli', 'law', 'psy', 'psychology', 'math', 'sciences', 'engineering', 'chem', 'course', 'hws', 'engr', 'political', 'phil', 'is', 'busn', 'japanese', 'arab', 'classes', 'gov', 'doctor', 'i', 'book', 'universities', 'bio', 'spa', 'govt'};, score=0.940 total time= 1.1min\n",
            "[CV 4/5] END classifier__C=10, classifier__solver=newton-cg, selector__percentile=22, vectorizer__min_df=6, vectorizer__ngram_range=(1, 3), vectorizer__stop_words={'fren', 'lectures', 'hw', 'lecture', 'quizzes', 'phys', 'courses', 'management', 'lab', 'she', 'me', 's', 'professor', 'labs', 'econ', 'eco', 'geog', 'accounting', 'religion', 'calc', 'criminology', 'dr', 'span', 'science', 'government', 'en', 'college', 'algebra', 'french', 'books', 'geo', 'engl', 'he', 'soci', 'statistics', 'nurs', 'psych', 'geology', 'soc', 'ecology', 'gen', 'writing', 'him', 'culture', 'mr', 'we', 'quiz', 'pol', 'english', 'anthropology', 'health', 'ms', 'speech', 'eng', 'comm', 'enc', 'astrology', 'stat', 'crim', 'business', 'phy', 'literature', 'ethnic', 'colleges', 'her', 'bus', 'german', 'marketing', 'calculus', 'finance', 'hist', 'acc', 'art', 'chemistry', 'it', 'music', 'anth', 'myself', 'mkt', 'communication', 'class', 'teacher', 'sociology', 'university', 'pols', 'acct', 't', 'edu', 'philosophy', 'physics', 'theater', 'economics', 'prof', 'mgt', 'spanish', 'history', 'biology', 'alg', 'spch', 'mgmt', 'poli', 'law', 'psy', 'psychology', 'math', 'sciences', 'engineering', 'chem', 'course', 'hws', 'engr', 'political', 'phil', 'is', 'busn', 'japanese', 'arab', 'classes', 'gov', 'doctor', 'i', 'book', 'universities', 'bio', 'spa', 'govt'};, score=0.940 total time= 1.1min\n",
            "[CV 5/5] END classifier__C=10, classifier__solver=newton-cg, selector__percentile=22, vectorizer__min_df=6, vectorizer__ngram_range=(1, 3), vectorizer__stop_words={'fren', 'lectures', 'hw', 'lecture', 'quizzes', 'phys', 'courses', 'management', 'lab', 'she', 'me', 's', 'professor', 'labs', 'econ', 'eco', 'geog', 'accounting', 'religion', 'calc', 'criminology', 'dr', 'span', 'science', 'government', 'en', 'college', 'algebra', 'french', 'books', 'geo', 'engl', 'he', 'soci', 'statistics', 'nurs', 'psych', 'geology', 'soc', 'ecology', 'gen', 'writing', 'him', 'culture', 'mr', 'we', 'quiz', 'pol', 'english', 'anthropology', 'health', 'ms', 'speech', 'eng', 'comm', 'enc', 'astrology', 'stat', 'crim', 'business', 'phy', 'literature', 'ethnic', 'colleges', 'her', 'bus', 'german', 'marketing', 'calculus', 'finance', 'hist', 'acc', 'art', 'chemistry', 'it', 'music', 'anth', 'myself', 'mkt', 'communication', 'class', 'teacher', 'sociology', 'university', 'pols', 'acct', 't', 'edu', 'philosophy', 'physics', 'theater', 'economics', 'prof', 'mgt', 'spanish', 'history', 'biology', 'alg', 'spch', 'mgmt', 'poli', 'law', 'psy', 'psychology', 'math', 'sciences', 'engineering', 'chem', 'course', 'hws', 'engr', 'political', 'phil', 'is', 'busn', 'japanese', 'arab', 'classes', 'gov', 'doctor', 'i', 'book', 'universities', 'bio', 'spa', 'govt'};, score=0.940 total time= 1.1min\n",
            "[CV 1/5] END classifier__C=15, classifier__solver=saga, selector__percentile=18, vectorizer__min_df=5, vectorizer__ngram_range=(1, 3), vectorizer__stop_words={'fren', 'phys', 'management', 'econ', 'eco', 'geog', 'accounting', 'religion', 'calc', 'criminology', 'science', 'span', 'government', 'en', 'algebra', 'french', 'geo', 'engl', 'soci', 'statistics', 'geology', 'nurs', 'psych', 'soc', 'ecology', 'gen', 'writing', 'culture', 'pol', 'english', 'anthropology', 'health', 'speech', 'eng', 'comm', 'enc', 'astrology', 'stat', 'crim', 'business', 'phy', 'literature', 'ethnic', 'german', 'bus', 'marketing', 'calculus', 'finance', 'hist', 'acc', 'art', 'chemistry', 'music', 'anth', 'communication', 'mkt', 'sociology', 'pols', 'acct', 'edu', 'philosophy', 'physics', 'theater', 'economics', 'mgt', 'spanish', 'history', 'biology', 'alg', 'spch', 'mgmt', 'poli', 'law', 'psy', 'psychology', 'math', 'sciences', 'engineering', 'chem', 'engr', 'political', 'phil', 'busn', 'japanese', 'arab', 'gov', 'bio', 'spa', 'govt'};, score=0.940 total time= 1.6min\n",
            "[CV 2/5] END classifier__C=15, classifier__solver=saga, selector__percentile=18, vectorizer__min_df=5, vectorizer__ngram_range=(1, 3), vectorizer__stop_words={'fren', 'phys', 'management', 'econ', 'eco', 'geog', 'accounting', 'religion', 'calc', 'criminology', 'science', 'span', 'government', 'en', 'algebra', 'french', 'geo', 'engl', 'soci', 'statistics', 'geology', 'nurs', 'psych', 'soc', 'ecology', 'gen', 'writing', 'culture', 'pol', 'english', 'anthropology', 'health', 'speech', 'eng', 'comm', 'enc', 'astrology', 'stat', 'crim', 'business', 'phy', 'literature', 'ethnic', 'german', 'bus', 'marketing', 'calculus', 'finance', 'hist', 'acc', 'art', 'chemistry', 'music', 'anth', 'communication', 'mkt', 'sociology', 'pols', 'acct', 'edu', 'philosophy', 'physics', 'theater', 'economics', 'mgt', 'spanish', 'history', 'biology', 'alg', 'spch', 'mgmt', 'poli', 'law', 'psy', 'psychology', 'math', 'sciences', 'engineering', 'chem', 'engr', 'political', 'phil', 'busn', 'japanese', 'arab', 'gov', 'bio', 'spa', 'govt'};, score=0.940 total time= 1.6min\n",
            "[CV 3/5] END classifier__C=15, classifier__solver=saga, selector__percentile=18, vectorizer__min_df=5, vectorizer__ngram_range=(1, 3), vectorizer__stop_words={'fren', 'phys', 'management', 'econ', 'eco', 'geog', 'accounting', 'religion', 'calc', 'criminology', 'science', 'span', 'government', 'en', 'algebra', 'french', 'geo', 'engl', 'soci', 'statistics', 'geology', 'nurs', 'psych', 'soc', 'ecology', 'gen', 'writing', 'culture', 'pol', 'english', 'anthropology', 'health', 'speech', 'eng', 'comm', 'enc', 'astrology', 'stat', 'crim', 'business', 'phy', 'literature', 'ethnic', 'german', 'bus', 'marketing', 'calculus', 'finance', 'hist', 'acc', 'art', 'chemistry', 'music', 'anth', 'communication', 'mkt', 'sociology', 'pols', 'acct', 'edu', 'philosophy', 'physics', 'theater', 'economics', 'mgt', 'spanish', 'history', 'biology', 'alg', 'spch', 'mgmt', 'poli', 'law', 'psy', 'psychology', 'math', 'sciences', 'engineering', 'chem', 'engr', 'political', 'phil', 'busn', 'japanese', 'arab', 'gov', 'bio', 'spa', 'govt'};, score=0.940 total time= 1.5min\n",
            "[CV 4/5] END classifier__C=15, classifier__solver=saga, selector__percentile=18, vectorizer__min_df=5, vectorizer__ngram_range=(1, 3), vectorizer__stop_words={'fren', 'phys', 'management', 'econ', 'eco', 'geog', 'accounting', 'religion', 'calc', 'criminology', 'science', 'span', 'government', 'en', 'algebra', 'french', 'geo', 'engl', 'soci', 'statistics', 'geology', 'nurs', 'psych', 'soc', 'ecology', 'gen', 'writing', 'culture', 'pol', 'english', 'anthropology', 'health', 'speech', 'eng', 'comm', 'enc', 'astrology', 'stat', 'crim', 'business', 'phy', 'literature', 'ethnic', 'german', 'bus', 'marketing', 'calculus', 'finance', 'hist', 'acc', 'art', 'chemistry', 'music', 'anth', 'communication', 'mkt', 'sociology', 'pols', 'acct', 'edu', 'philosophy', 'physics', 'theater', 'economics', 'mgt', 'spanish', 'history', 'biology', 'alg', 'spch', 'mgmt', 'poli', 'law', 'psy', 'psychology', 'math', 'sciences', 'engineering', 'chem', 'engr', 'political', 'phil', 'busn', 'japanese', 'arab', 'gov', 'bio', 'spa', 'govt'};, score=0.940 total time= 1.5min\n",
            "[CV 5/5] END classifier__C=15, classifier__solver=saga, selector__percentile=18, vectorizer__min_df=5, vectorizer__ngram_range=(1, 3), vectorizer__stop_words={'fren', 'phys', 'management', 'econ', 'eco', 'geog', 'accounting', 'religion', 'calc', 'criminology', 'science', 'span', 'government', 'en', 'algebra', 'french', 'geo', 'engl', 'soci', 'statistics', 'geology', 'nurs', 'psych', 'soc', 'ecology', 'gen', 'writing', 'culture', 'pol', 'english', 'anthropology', 'health', 'speech', 'eng', 'comm', 'enc', 'astrology', 'stat', 'crim', 'business', 'phy', 'literature', 'ethnic', 'german', 'bus', 'marketing', 'calculus', 'finance', 'hist', 'acc', 'art', 'chemistry', 'music', 'anth', 'communication', 'mkt', 'sociology', 'pols', 'acct', 'edu', 'philosophy', 'physics', 'theater', 'economics', 'mgt', 'spanish', 'history', 'biology', 'alg', 'spch', 'mgmt', 'poli', 'law', 'psy', 'psychology', 'math', 'sciences', 'engineering', 'chem', 'engr', 'political', 'phil', 'busn', 'japanese', 'arab', 'gov', 'bio', 'spa', 'govt'};, score=0.940 total time= 1.5min\n",
            "[CV 1/5] END classifier__C=10, classifier__solver=sag, selector__percentile=28, vectorizer__min_df=5, vectorizer__ngram_range=(1, 3), vectorizer__stop_words={'fren', 'lectures', 'hw', 'lecture', 'quizzes', 'phys', 'courses', 'management', 'lab', 'she', 'me', 's', 'professor', 'labs', 'econ', 'eco', 'geog', 'accounting', 'religion', 'calc', 'criminology', 'dr', 'span', 'science', 'government', 'en', 'college', 'algebra', 'french', 'books', 'geo', 'engl', 'he', 'soci', 'statistics', 'nurs', 'psych', 'geology', 'soc', 'ecology', 'gen', 'writing', 'him', 'culture', 'mr', 'we', 'quiz', 'pol', 'english', 'anthropology', 'health', 'ms', 'speech', 'eng', 'comm', 'enc', 'astrology', 'stat', 'crim', 'business', 'phy', 'literature', 'ethnic', 'colleges', 'her', 'bus', 'german', 'marketing', 'calculus', 'finance', 'hist', 'acc', 'art', 'chemistry', 'it', 'music', 'anth', 'myself', 'mkt', 'communication', 'class', 'teacher', 'sociology', 'university', 'pols', 'acct', 't', 'edu', 'philosophy', 'physics', 'theater', 'economics', 'prof', 'mgt', 'spanish', 'history', 'biology', 'alg', 'spch', 'mgmt', 'poli', 'law', 'psy', 'psychology', 'math', 'sciences', 'engineering', 'chem', 'course', 'hws', 'engr', 'political', 'phil', 'is', 'busn', 'japanese', 'arab', 'classes', 'gov', 'doctor', 'i', 'book', 'universities', 'bio', 'spa', 'govt'};, score=0.939 total time= 1.0min\n",
            "[CV 2/5] END classifier__C=10, classifier__solver=sag, selector__percentile=28, vectorizer__min_df=5, vectorizer__ngram_range=(1, 3), vectorizer__stop_words={'fren', 'lectures', 'hw', 'lecture', 'quizzes', 'phys', 'courses', 'management', 'lab', 'she', 'me', 's', 'professor', 'labs', 'econ', 'eco', 'geog', 'accounting', 'religion', 'calc', 'criminology', 'dr', 'span', 'science', 'government', 'en', 'college', 'algebra', 'french', 'books', 'geo', 'engl', 'he', 'soci', 'statistics', 'nurs', 'psych', 'geology', 'soc', 'ecology', 'gen', 'writing', 'him', 'culture', 'mr', 'we', 'quiz', 'pol', 'english', 'anthropology', 'health', 'ms', 'speech', 'eng', 'comm', 'enc', 'astrology', 'stat', 'crim', 'business', 'phy', 'literature', 'ethnic', 'colleges', 'her', 'bus', 'german', 'marketing', 'calculus', 'finance', 'hist', 'acc', 'art', 'chemistry', 'it', 'music', 'anth', 'myself', 'mkt', 'communication', 'class', 'teacher', 'sociology', 'university', 'pols', 'acct', 't', 'edu', 'philosophy', 'physics', 'theater', 'economics', 'prof', 'mgt', 'spanish', 'history', 'biology', 'alg', 'spch', 'mgmt', 'poli', 'law', 'psy', 'psychology', 'math', 'sciences', 'engineering', 'chem', 'course', 'hws', 'engr', 'political', 'phil', 'is', 'busn', 'japanese', 'arab', 'classes', 'gov', 'doctor', 'i', 'book', 'universities', 'bio', 'spa', 'govt'};, score=0.940 total time=  60.0s\n",
            "[CV 3/5] END classifier__C=10, classifier__solver=sag, selector__percentile=28, vectorizer__min_df=5, vectorizer__ngram_range=(1, 3), vectorizer__stop_words={'fren', 'lectures', 'hw', 'lecture', 'quizzes', 'phys', 'courses', 'management', 'lab', 'she', 'me', 's', 'professor', 'labs', 'econ', 'eco', 'geog', 'accounting', 'religion', 'calc', 'criminology', 'dr', 'span', 'science', 'government', 'en', 'college', 'algebra', 'french', 'books', 'geo', 'engl', 'he', 'soci', 'statistics', 'nurs', 'psych', 'geology', 'soc', 'ecology', 'gen', 'writing', 'him', 'culture', 'mr', 'we', 'quiz', 'pol', 'english', 'anthropology', 'health', 'ms', 'speech', 'eng', 'comm', 'enc', 'astrology', 'stat', 'crim', 'business', 'phy', 'literature', 'ethnic', 'colleges', 'her', 'bus', 'german', 'marketing', 'calculus', 'finance', 'hist', 'acc', 'art', 'chemistry', 'it', 'music', 'anth', 'myself', 'mkt', 'communication', 'class', 'teacher', 'sociology', 'university', 'pols', 'acct', 't', 'edu', 'philosophy', 'physics', 'theater', 'economics', 'prof', 'mgt', 'spanish', 'history', 'biology', 'alg', 'spch', 'mgmt', 'poli', 'law', 'psy', 'psychology', 'math', 'sciences', 'engineering', 'chem', 'course', 'hws', 'engr', 'political', 'phil', 'is', 'busn', 'japanese', 'arab', 'classes', 'gov', 'doctor', 'i', 'book', 'universities', 'bio', 'spa', 'govt'};, score=0.939 total time= 1.0min\n",
            "[CV 4/5] END classifier__C=10, classifier__solver=sag, selector__percentile=28, vectorizer__min_df=5, vectorizer__ngram_range=(1, 3), vectorizer__stop_words={'fren', 'lectures', 'hw', 'lecture', 'quizzes', 'phys', 'courses', 'management', 'lab', 'she', 'me', 's', 'professor', 'labs', 'econ', 'eco', 'geog', 'accounting', 'religion', 'calc', 'criminology', 'dr', 'span', 'science', 'government', 'en', 'college', 'algebra', 'french', 'books', 'geo', 'engl', 'he', 'soci', 'statistics', 'nurs', 'psych', 'geology', 'soc', 'ecology', 'gen', 'writing', 'him', 'culture', 'mr', 'we', 'quiz', 'pol', 'english', 'anthropology', 'health', 'ms', 'speech', 'eng', 'comm', 'enc', 'astrology', 'stat', 'crim', 'business', 'phy', 'literature', 'ethnic', 'colleges', 'her', 'bus', 'german', 'marketing', 'calculus', 'finance', 'hist', 'acc', 'art', 'chemistry', 'it', 'music', 'anth', 'myself', 'mkt', 'communication', 'class', 'teacher', 'sociology', 'university', 'pols', 'acct', 't', 'edu', 'philosophy', 'physics', 'theater', 'economics', 'prof', 'mgt', 'spanish', 'history', 'biology', 'alg', 'spch', 'mgmt', 'poli', 'law', 'psy', 'psychology', 'math', 'sciences', 'engineering', 'chem', 'course', 'hws', 'engr', 'political', 'phil', 'is', 'busn', 'japanese', 'arab', 'classes', 'gov', 'doctor', 'i', 'book', 'universities', 'bio', 'spa', 'govt'};, score=0.940 total time= 1.0min\n",
            "[CV 5/5] END classifier__C=10, classifier__solver=sag, selector__percentile=28, vectorizer__min_df=5, vectorizer__ngram_range=(1, 3), vectorizer__stop_words={'fren', 'lectures', 'hw', 'lecture', 'quizzes', 'phys', 'courses', 'management', 'lab', 'she', 'me', 's', 'professor', 'labs', 'econ', 'eco', 'geog', 'accounting', 'religion', 'calc', 'criminology', 'dr', 'span', 'science', 'government', 'en', 'college', 'algebra', 'french', 'books', 'geo', 'engl', 'he', 'soci', 'statistics', 'nurs', 'psych', 'geology', 'soc', 'ecology', 'gen', 'writing', 'him', 'culture', 'mr', 'we', 'quiz', 'pol', 'english', 'anthropology', 'health', 'ms', 'speech', 'eng', 'comm', 'enc', 'astrology', 'stat', 'crim', 'business', 'phy', 'literature', 'ethnic', 'colleges', 'her', 'bus', 'german', 'marketing', 'calculus', 'finance', 'hist', 'acc', 'art', 'chemistry', 'it', 'music', 'anth', 'myself', 'mkt', 'communication', 'class', 'teacher', 'sociology', 'university', 'pols', 'acct', 't', 'edu', 'philosophy', 'physics', 'theater', 'economics', 'prof', 'mgt', 'spanish', 'history', 'biology', 'alg', 'spch', 'mgmt', 'poli', 'law', 'psy', 'psychology', 'math', 'sciences', 'engineering', 'chem', 'course', 'hws', 'engr', 'political', 'phil', 'is', 'busn', 'japanese', 'arab', 'classes', 'gov', 'doctor', 'i', 'book', 'universities', 'bio', 'spa', 'govt'};, score=0.940 total time=  60.0s\n",
            "[CV 1/5] END classifier__C=5, classifier__solver=saga, selector__percentile=30, vectorizer__min_df=7, vectorizer__ngram_range=(1, 3), vectorizer__stop_words={'fren', 'lectures', 'lecture', 'she', 'me', 'labs', 'econ', 'geog', 'religion', 'calc', 'laboratory', 'dr', 'algebra', 'french', 'intermediate', 'geo', 'he', 'geology', 'psych', 'ecology', 'writing', 'culture', 'materials', 'mr', 'we', 'english', 'concept', 'speech', 'enc', 'astrology', 'literature', 'bus', 'marketing', 'finance', 'hist', 'chemistry', 'music', 'myself', 'class', 'acct', 't', 'edu', 'philosophy', 'physics', 'theater', 'economics', 'introduction', 'mgt', 'spanish', 'biology', 'mgmt', 'background', 'engineering', 'political', 'phil', 'is', 'busn', 'basic', 'intro', 'discovery', 'doctor', 'i', 'design', 'knowledge', 'spa', 'studies', 'govt', 'quizzes', 'hw', 'phys', 'management', 'principles', 'courses', 'introductory', 'lab', 'thoeries', 's', 'professor', 'eco', 'accounting', 'overview', 'criminology', 'science', 'span', 'government', 'en', 'college', 'books', 'engl', 'concepts', 'analysis', 'soci', 'statistics', 'nurs', 'soc', 'civilization', 'managing', 'gen', 'him', 'quiz', 'pol', 'anthropology', 'health', 'ms', 'contemporary', 'eng', 'comm', 'stat', 'crim', 'business', 'phy', 'ethnic', 'colleges', 'her', 'german', 'calculus', 'acc', 'art', 'it', 'anth', 'communication', 'mkt', 'sociology', 'teacher', 'practices', 'university', 'pols', 'theory', 'prof', 'advanced', 'history', 'alg', 'spch', 'poli', 'psychology', 'law', 'psy', 'math', 'sciences', 'chem', 'course', 'hws', 'engr', 'japanese', 'arab', 'classes', 'gov', 'book', 'universities', 'bio', 'modern'};, score=0.940 total time= 1.0min\n",
            "[CV 2/5] END classifier__C=5, classifier__solver=saga, selector__percentile=30, vectorizer__min_df=7, vectorizer__ngram_range=(1, 3), vectorizer__stop_words={'fren', 'lectures', 'lecture', 'she', 'me', 'labs', 'econ', 'geog', 'religion', 'calc', 'laboratory', 'dr', 'algebra', 'french', 'intermediate', 'geo', 'he', 'geology', 'psych', 'ecology', 'writing', 'culture', 'materials', 'mr', 'we', 'english', 'concept', 'speech', 'enc', 'astrology', 'literature', 'bus', 'marketing', 'finance', 'hist', 'chemistry', 'music', 'myself', 'class', 'acct', 't', 'edu', 'philosophy', 'physics', 'theater', 'economics', 'introduction', 'mgt', 'spanish', 'biology', 'mgmt', 'background', 'engineering', 'political', 'phil', 'is', 'busn', 'basic', 'intro', 'discovery', 'doctor', 'i', 'design', 'knowledge', 'spa', 'studies', 'govt', 'quizzes', 'hw', 'phys', 'management', 'principles', 'courses', 'introductory', 'lab', 'thoeries', 's', 'professor', 'eco', 'accounting', 'overview', 'criminology', 'science', 'span', 'government', 'en', 'college', 'books', 'engl', 'concepts', 'analysis', 'soci', 'statistics', 'nurs', 'soc', 'civilization', 'managing', 'gen', 'him', 'quiz', 'pol', 'anthropology', 'health', 'ms', 'contemporary', 'eng', 'comm', 'stat', 'crim', 'business', 'phy', 'ethnic', 'colleges', 'her', 'german', 'calculus', 'acc', 'art', 'it', 'anth', 'communication', 'mkt', 'sociology', 'teacher', 'practices', 'university', 'pols', 'theory', 'prof', 'advanced', 'history', 'alg', 'spch', 'poli', 'psychology', 'law', 'psy', 'math', 'sciences', 'chem', 'course', 'hws', 'engr', 'japanese', 'arab', 'classes', 'gov', 'book', 'universities', 'bio', 'modern'};, score=0.940 total time=  59.9s\n",
            "[CV 3/5] END classifier__C=5, classifier__solver=saga, selector__percentile=30, vectorizer__min_df=7, vectorizer__ngram_range=(1, 3), vectorizer__stop_words={'fren', 'lectures', 'lecture', 'she', 'me', 'labs', 'econ', 'geog', 'religion', 'calc', 'laboratory', 'dr', 'algebra', 'french', 'intermediate', 'geo', 'he', 'geology', 'psych', 'ecology', 'writing', 'culture', 'materials', 'mr', 'we', 'english', 'concept', 'speech', 'enc', 'astrology', 'literature', 'bus', 'marketing', 'finance', 'hist', 'chemistry', 'music', 'myself', 'class', 'acct', 't', 'edu', 'philosophy', 'physics', 'theater', 'economics', 'introduction', 'mgt', 'spanish', 'biology', 'mgmt', 'background', 'engineering', 'political', 'phil', 'is', 'busn', 'basic', 'intro', 'discovery', 'doctor', 'i', 'design', 'knowledge', 'spa', 'studies', 'govt', 'quizzes', 'hw', 'phys', 'management', 'principles', 'courses', 'introductory', 'lab', 'thoeries', 's', 'professor', 'eco', 'accounting', 'overview', 'criminology', 'science', 'span', 'government', 'en', 'college', 'books', 'engl', 'concepts', 'analysis', 'soci', 'statistics', 'nurs', 'soc', 'civilization', 'managing', 'gen', 'him', 'quiz', 'pol', 'anthropology', 'health', 'ms', 'contemporary', 'eng', 'comm', 'stat', 'crim', 'business', 'phy', 'ethnic', 'colleges', 'her', 'german', 'calculus', 'acc', 'art', 'it', 'anth', 'communication', 'mkt', 'sociology', 'teacher', 'practices', 'university', 'pols', 'theory', 'prof', 'advanced', 'history', 'alg', 'spch', 'poli', 'psychology', 'law', 'psy', 'math', 'sciences', 'chem', 'course', 'hws', 'engr', 'japanese', 'arab', 'classes', 'gov', 'book', 'universities', 'bio', 'modern'};, score=0.940 total time= 1.0min\n",
            "[CV 4/5] END classifier__C=5, classifier__solver=saga, selector__percentile=30, vectorizer__min_df=7, vectorizer__ngram_range=(1, 3), vectorizer__stop_words={'fren', 'lectures', 'lecture', 'she', 'me', 'labs', 'econ', 'geog', 'religion', 'calc', 'laboratory', 'dr', 'algebra', 'french', 'intermediate', 'geo', 'he', 'geology', 'psych', 'ecology', 'writing', 'culture', 'materials', 'mr', 'we', 'english', 'concept', 'speech', 'enc', 'astrology', 'literature', 'bus', 'marketing', 'finance', 'hist', 'chemistry', 'music', 'myself', 'class', 'acct', 't', 'edu', 'philosophy', 'physics', 'theater', 'economics', 'introduction', 'mgt', 'spanish', 'biology', 'mgmt', 'background', 'engineering', 'political', 'phil', 'is', 'busn', 'basic', 'intro', 'discovery', 'doctor', 'i', 'design', 'knowledge', 'spa', 'studies', 'govt', 'quizzes', 'hw', 'phys', 'management', 'principles', 'courses', 'introductory', 'lab', 'thoeries', 's', 'professor', 'eco', 'accounting', 'overview', 'criminology', 'science', 'span', 'government', 'en', 'college', 'books', 'engl', 'concepts', 'analysis', 'soci', 'statistics', 'nurs', 'soc', 'civilization', 'managing', 'gen', 'him', 'quiz', 'pol', 'anthropology', 'health', 'ms', 'contemporary', 'eng', 'comm', 'stat', 'crim', 'business', 'phy', 'ethnic', 'colleges', 'her', 'german', 'calculus', 'acc', 'art', 'it', 'anth', 'communication', 'mkt', 'sociology', 'teacher', 'practices', 'university', 'pols', 'theory', 'prof', 'advanced', 'history', 'alg', 'spch', 'poli', 'psychology', 'law', 'psy', 'math', 'sciences', 'chem', 'course', 'hws', 'engr', 'japanese', 'arab', 'classes', 'gov', 'book', 'universities', 'bio', 'modern'};, score=0.940 total time=  59.6s\n",
            "[CV 5/5] END classifier__C=5, classifier__solver=saga, selector__percentile=30, vectorizer__min_df=7, vectorizer__ngram_range=(1, 3), vectorizer__stop_words={'fren', 'lectures', 'lecture', 'she', 'me', 'labs', 'econ', 'geog', 'religion', 'calc', 'laboratory', 'dr', 'algebra', 'french', 'intermediate', 'geo', 'he', 'geology', 'psych', 'ecology', 'writing', 'culture', 'materials', 'mr', 'we', 'english', 'concept', 'speech', 'enc', 'astrology', 'literature', 'bus', 'marketing', 'finance', 'hist', 'chemistry', 'music', 'myself', 'class', 'acct', 't', 'edu', 'philosophy', 'physics', 'theater', 'economics', 'introduction', 'mgt', 'spanish', 'biology', 'mgmt', 'background', 'engineering', 'political', 'phil', 'is', 'busn', 'basic', 'intro', 'discovery', 'doctor', 'i', 'design', 'knowledge', 'spa', 'studies', 'govt', 'quizzes', 'hw', 'phys', 'management', 'principles', 'courses', 'introductory', 'lab', 'thoeries', 's', 'professor', 'eco', 'accounting', 'overview', 'criminology', 'science', 'span', 'government', 'en', 'college', 'books', 'engl', 'concepts', 'analysis', 'soci', 'statistics', 'nurs', 'soc', 'civilization', 'managing', 'gen', 'him', 'quiz', 'pol', 'anthropology', 'health', 'ms', 'contemporary', 'eng', 'comm', 'stat', 'crim', 'business', 'phy', 'ethnic', 'colleges', 'her', 'german', 'calculus', 'acc', 'art', 'it', 'anth', 'communication', 'mkt', 'sociology', 'teacher', 'practices', 'university', 'pols', 'theory', 'prof', 'advanced', 'history', 'alg', 'spch', 'poli', 'psychology', 'law', 'psy', 'math', 'sciences', 'chem', 'course', 'hws', 'engr', 'japanese', 'arab', 'classes', 'gov', 'book', 'universities', 'bio', 'modern'};, score=0.940 total time= 1.0min\n",
            "[CV 1/5] END classifier__C=10, classifier__solver=liblinear, selector__percentile=32, vectorizer__min_df=5, vectorizer__ngram_range=(1, 3), vectorizer__stop_words={'fren', 'lectures', 'hw', 'lecture', 'quizzes', 'phys', 'courses', 'management', 'lab', 'she', 'me', 's', 'professor', 'labs', 'econ', 'eco', 'geog', 'accounting', 'religion', 'calc', 'criminology', 'dr', 'span', 'science', 'government', 'en', 'college', 'algebra', 'french', 'books', 'geo', 'engl', 'he', 'soci', 'statistics', 'nurs', 'psych', 'geology', 'soc', 'ecology', 'gen', 'writing', 'him', 'culture', 'mr', 'we', 'quiz', 'pol', 'english', 'anthropology', 'health', 'ms', 'speech', 'eng', 'comm', 'enc', 'astrology', 'stat', 'crim', 'business', 'phy', 'literature', 'ethnic', 'colleges', 'her', 'bus', 'german', 'marketing', 'calculus', 'finance', 'hist', 'acc', 'art', 'chemistry', 'it', 'music', 'anth', 'myself', 'mkt', 'communication', 'class', 'teacher', 'sociology', 'university', 'pols', 'acct', 't', 'edu', 'philosophy', 'physics', 'theater', 'economics', 'prof', 'mgt', 'spanish', 'history', 'biology', 'alg', 'spch', 'mgmt', 'poli', 'law', 'psy', 'psychology', 'math', 'sciences', 'engineering', 'chem', 'course', 'hws', 'engr', 'political', 'phil', 'is', 'busn', 'japanese', 'arab', 'classes', 'gov', 'doctor', 'i', 'book', 'universities', 'bio', 'spa', 'govt'};, score=0.939 total time=  59.4s\n",
            "[CV 2/5] END classifier__C=10, classifier__solver=liblinear, selector__percentile=32, vectorizer__min_df=5, vectorizer__ngram_range=(1, 3), vectorizer__stop_words={'fren', 'lectures', 'hw', 'lecture', 'quizzes', 'phys', 'courses', 'management', 'lab', 'she', 'me', 's', 'professor', 'labs', 'econ', 'eco', 'geog', 'accounting', 'religion', 'calc', 'criminology', 'dr', 'span', 'science', 'government', 'en', 'college', 'algebra', 'french', 'books', 'geo', 'engl', 'he', 'soci', 'statistics', 'nurs', 'psych', 'geology', 'soc', 'ecology', 'gen', 'writing', 'him', 'culture', 'mr', 'we', 'quiz', 'pol', 'english', 'anthropology', 'health', 'ms', 'speech', 'eng', 'comm', 'enc', 'astrology', 'stat', 'crim', 'business', 'phy', 'literature', 'ethnic', 'colleges', 'her', 'bus', 'german', 'marketing', 'calculus', 'finance', 'hist', 'acc', 'art', 'chemistry', 'it', 'music', 'anth', 'myself', 'mkt', 'communication', 'class', 'teacher', 'sociology', 'university', 'pols', 'acct', 't', 'edu', 'philosophy', 'physics', 'theater', 'economics', 'prof', 'mgt', 'spanish', 'history', 'biology', 'alg', 'spch', 'mgmt', 'poli', 'law', 'psy', 'psychology', 'math', 'sciences', 'engineering', 'chem', 'course', 'hws', 'engr', 'political', 'phil', 'is', 'busn', 'japanese', 'arab', 'classes', 'gov', 'doctor', 'i', 'book', 'universities', 'bio', 'spa', 'govt'};, score=0.939 total time= 1.0min\n",
            "[CV 3/5] END classifier__C=10, classifier__solver=liblinear, selector__percentile=32, vectorizer__min_df=5, vectorizer__ngram_range=(1, 3), vectorizer__stop_words={'fren', 'lectures', 'hw', 'lecture', 'quizzes', 'phys', 'courses', 'management', 'lab', 'she', 'me', 's', 'professor', 'labs', 'econ', 'eco', 'geog', 'accounting', 'religion', 'calc', 'criminology', 'dr', 'span', 'science', 'government', 'en', 'college', 'algebra', 'french', 'books', 'geo', 'engl', 'he', 'soci', 'statistics', 'nurs', 'psych', 'geology', 'soc', 'ecology', 'gen', 'writing', 'him', 'culture', 'mr', 'we', 'quiz', 'pol', 'english', 'anthropology', 'health', 'ms', 'speech', 'eng', 'comm', 'enc', 'astrology', 'stat', 'crim', 'business', 'phy', 'literature', 'ethnic', 'colleges', 'her', 'bus', 'german', 'marketing', 'calculus', 'finance', 'hist', 'acc', 'art', 'chemistry', 'it', 'music', 'anth', 'myself', 'mkt', 'communication', 'class', 'teacher', 'sociology', 'university', 'pols', 'acct', 't', 'edu', 'philosophy', 'physics', 'theater', 'economics', 'prof', 'mgt', 'spanish', 'history', 'biology', 'alg', 'spch', 'mgmt', 'poli', 'law', 'psy', 'psychology', 'math', 'sciences', 'engineering', 'chem', 'course', 'hws', 'engr', 'political', 'phil', 'is', 'busn', 'japanese', 'arab', 'classes', 'gov', 'doctor', 'i', 'book', 'universities', 'bio', 'spa', 'govt'};, score=0.939 total time=  59.7s\n",
            "[CV 4/5] END classifier__C=10, classifier__solver=liblinear, selector__percentile=32, vectorizer__min_df=5, vectorizer__ngram_range=(1, 3), vectorizer__stop_words={'fren', 'lectures', 'hw', 'lecture', 'quizzes', 'phys', 'courses', 'management', 'lab', 'she', 'me', 's', 'professor', 'labs', 'econ', 'eco', 'geog', 'accounting', 'religion', 'calc', 'criminology', 'dr', 'span', 'science', 'government', 'en', 'college', 'algebra', 'french', 'books', 'geo', 'engl', 'he', 'soci', 'statistics', 'nurs', 'psych', 'geology', 'soc', 'ecology', 'gen', 'writing', 'him', 'culture', 'mr', 'we', 'quiz', 'pol', 'english', 'anthropology', 'health', 'ms', 'speech', 'eng', 'comm', 'enc', 'astrology', 'stat', 'crim', 'business', 'phy', 'literature', 'ethnic', 'colleges', 'her', 'bus', 'german', 'marketing', 'calculus', 'finance', 'hist', 'acc', 'art', 'chemistry', 'it', 'music', 'anth', 'myself', 'mkt', 'communication', 'class', 'teacher', 'sociology', 'university', 'pols', 'acct', 't', 'edu', 'philosophy', 'physics', 'theater', 'economics', 'prof', 'mgt', 'spanish', 'history', 'biology', 'alg', 'spch', 'mgmt', 'poli', 'law', 'psy', 'psychology', 'math', 'sciences', 'engineering', 'chem', 'course', 'hws', 'engr', 'political', 'phil', 'is', 'busn', 'japanese', 'arab', 'classes', 'gov', 'doctor', 'i', 'book', 'universities', 'bio', 'spa', 'govt'};, score=0.940 total time=  59.0s\n",
            "[CV 5/5] END classifier__C=10, classifier__solver=liblinear, selector__percentile=32, vectorizer__min_df=5, vectorizer__ngram_range=(1, 3), vectorizer__stop_words={'fren', 'lectures', 'hw', 'lecture', 'quizzes', 'phys', 'courses', 'management', 'lab', 'she', 'me', 's', 'professor', 'labs', 'econ', 'eco', 'geog', 'accounting', 'religion', 'calc', 'criminology', 'dr', 'span', 'science', 'government', 'en', 'college', 'algebra', 'french', 'books', 'geo', 'engl', 'he', 'soci', 'statistics', 'nurs', 'psych', 'geology', 'soc', 'ecology', 'gen', 'writing', 'him', 'culture', 'mr', 'we', 'quiz', 'pol', 'english', 'anthropology', 'health', 'ms', 'speech', 'eng', 'comm', 'enc', 'astrology', 'stat', 'crim', 'business', 'phy', 'literature', 'ethnic', 'colleges', 'her', 'bus', 'german', 'marketing', 'calculus', 'finance', 'hist', 'acc', 'art', 'chemistry', 'it', 'music', 'anth', 'myself', 'mkt', 'communication', 'class', 'teacher', 'sociology', 'university', 'pols', 'acct', 't', 'edu', 'philosophy', 'physics', 'theater', 'economics', 'prof', 'mgt', 'spanish', 'history', 'biology', 'alg', 'spch', 'mgmt', 'poli', 'law', 'psy', 'psychology', 'math', 'sciences', 'engineering', 'chem', 'course', 'hws', 'engr', 'political', 'phil', 'is', 'busn', 'japanese', 'arab', 'classes', 'gov', 'doctor', 'i', 'book', 'universities', 'bio', 'spa', 'govt'};, score=0.940 total time= 1.0min\n",
            "[CV 1/5] END classifier__C=5, classifier__solver=sag, selector__percentile=32, vectorizer__min_df=5, vectorizer__ngram_range=(1, 3), vectorizer__stop_words={'fren', 'phys', 'management', 'econ', 'eco', 'geog', 'accounting', 'religion', 'calc', 'criminology', 'science', 'span', 'government', 'en', 'algebra', 'french', 'geo', 'engl', 'soci', 'statistics', 'geology', 'nurs', 'psych', 'soc', 'ecology', 'gen', 'writing', 'culture', 'pol', 'english', 'anthropology', 'health', 'speech', 'eng', 'comm', 'enc', 'astrology', 'stat', 'crim', 'business', 'phy', 'literature', 'ethnic', 'german', 'bus', 'marketing', 'calculus', 'finance', 'hist', 'acc', 'art', 'chemistry', 'music', 'anth', 'communication', 'mkt', 'sociology', 'pols', 'acct', 'edu', 'philosophy', 'physics', 'theater', 'economics', 'mgt', 'spanish', 'history', 'biology', 'alg', 'spch', 'mgmt', 'poli', 'law', 'psy', 'psychology', 'math', 'sciences', 'engineering', 'chem', 'engr', 'political', 'phil', 'busn', 'japanese', 'arab', 'gov', 'bio', 'spa', 'govt'};, score=0.942 total time= 1.1min\n",
            "[CV 2/5] END classifier__C=5, classifier__solver=sag, selector__percentile=32, vectorizer__min_df=5, vectorizer__ngram_range=(1, 3), vectorizer__stop_words={'fren', 'phys', 'management', 'econ', 'eco', 'geog', 'accounting', 'religion', 'calc', 'criminology', 'science', 'span', 'government', 'en', 'algebra', 'french', 'geo', 'engl', 'soci', 'statistics', 'geology', 'nurs', 'psych', 'soc', 'ecology', 'gen', 'writing', 'culture', 'pol', 'english', 'anthropology', 'health', 'speech', 'eng', 'comm', 'enc', 'astrology', 'stat', 'crim', 'business', 'phy', 'literature', 'ethnic', 'german', 'bus', 'marketing', 'calculus', 'finance', 'hist', 'acc', 'art', 'chemistry', 'music', 'anth', 'communication', 'mkt', 'sociology', 'pols', 'acct', 'edu', 'philosophy', 'physics', 'theater', 'economics', 'mgt', 'spanish', 'history', 'biology', 'alg', 'spch', 'mgmt', 'poli', 'law', 'psy', 'psychology', 'math', 'sciences', 'engineering', 'chem', 'engr', 'political', 'phil', 'busn', 'japanese', 'arab', 'gov', 'bio', 'spa', 'govt'};, score=0.941 total time= 1.1min\n",
            "[CV 3/5] END classifier__C=5, classifier__solver=sag, selector__percentile=32, vectorizer__min_df=5, vectorizer__ngram_range=(1, 3), vectorizer__stop_words={'fren', 'phys', 'management', 'econ', 'eco', 'geog', 'accounting', 'religion', 'calc', 'criminology', 'science', 'span', 'government', 'en', 'algebra', 'french', 'geo', 'engl', 'soci', 'statistics', 'geology', 'nurs', 'psych', 'soc', 'ecology', 'gen', 'writing', 'culture', 'pol', 'english', 'anthropology', 'health', 'speech', 'eng', 'comm', 'enc', 'astrology', 'stat', 'crim', 'business', 'phy', 'literature', 'ethnic', 'german', 'bus', 'marketing', 'calculus', 'finance', 'hist', 'acc', 'art', 'chemistry', 'music', 'anth', 'communication', 'mkt', 'sociology', 'pols', 'acct', 'edu', 'philosophy', 'physics', 'theater', 'economics', 'mgt', 'spanish', 'history', 'biology', 'alg', 'spch', 'mgmt', 'poli', 'law', 'psy', 'psychology', 'math', 'sciences', 'engineering', 'chem', 'engr', 'political', 'phil', 'busn', 'japanese', 'arab', 'gov', 'bio', 'spa', 'govt'};, score=0.942 total time= 1.1min\n",
            "[CV 4/5] END classifier__C=5, classifier__solver=sag, selector__percentile=32, vectorizer__min_df=5, vectorizer__ngram_range=(1, 3), vectorizer__stop_words={'fren', 'phys', 'management', 'econ', 'eco', 'geog', 'accounting', 'religion', 'calc', 'criminology', 'science', 'span', 'government', 'en', 'algebra', 'french', 'geo', 'engl', 'soci', 'statistics', 'geology', 'nurs', 'psych', 'soc', 'ecology', 'gen', 'writing', 'culture', 'pol', 'english', 'anthropology', 'health', 'speech', 'eng', 'comm', 'enc', 'astrology', 'stat', 'crim', 'business', 'phy', 'literature', 'ethnic', 'german', 'bus', 'marketing', 'calculus', 'finance', 'hist', 'acc', 'art', 'chemistry', 'music', 'anth', 'communication', 'mkt', 'sociology', 'pols', 'acct', 'edu', 'philosophy', 'physics', 'theater', 'economics', 'mgt', 'spanish', 'history', 'biology', 'alg', 'spch', 'mgmt', 'poli', 'law', 'psy', 'psychology', 'math', 'sciences', 'engineering', 'chem', 'engr', 'political', 'phil', 'busn', 'japanese', 'arab', 'gov', 'bio', 'spa', 'govt'};, score=0.941 total time= 1.1min\n",
            "[CV 5/5] END classifier__C=5, classifier__solver=sag, selector__percentile=32, vectorizer__min_df=5, vectorizer__ngram_range=(1, 3), vectorizer__stop_words={'fren', 'phys', 'management', 'econ', 'eco', 'geog', 'accounting', 'religion', 'calc', 'criminology', 'science', 'span', 'government', 'en', 'algebra', 'french', 'geo', 'engl', 'soci', 'statistics', 'geology', 'nurs', 'psych', 'soc', 'ecology', 'gen', 'writing', 'culture', 'pol', 'english', 'anthropology', 'health', 'speech', 'eng', 'comm', 'enc', 'astrology', 'stat', 'crim', 'business', 'phy', 'literature', 'ethnic', 'german', 'bus', 'marketing', 'calculus', 'finance', 'hist', 'acc', 'art', 'chemistry', 'music', 'anth', 'communication', 'mkt', 'sociology', 'pols', 'acct', 'edu', 'philosophy', 'physics', 'theater', 'economics', 'mgt', 'spanish', 'history', 'biology', 'alg', 'spch', 'mgmt', 'poli', 'law', 'psy', 'psychology', 'math', 'sciences', 'engineering', 'chem', 'engr', 'political', 'phil', 'busn', 'japanese', 'arab', 'gov', 'bio', 'spa', 'govt'};, score=0.941 total time= 1.1min\n",
            "[CV 1/5] END classifier__C=2.5, classifier__solver=liblinear, selector__percentile=26, vectorizer__min_df=5, vectorizer__ngram_range=(1, 3), vectorizer__stop_words={'fren', 'phys', 'management', 'econ', 'eco', 'geog', 'accounting', 'religion', 'calc', 'criminology', 'science', 'span', 'government', 'en', 'algebra', 'french', 'geo', 'engl', 'soci', 'statistics', 'geology', 'nurs', 'psych', 'soc', 'ecology', 'gen', 'writing', 'culture', 'pol', 'english', 'anthropology', 'health', 'speech', 'eng', 'comm', 'enc', 'astrology', 'stat', 'crim', 'business', 'phy', 'literature', 'ethnic', 'german', 'bus', 'marketing', 'calculus', 'finance', 'hist', 'acc', 'art', 'chemistry', 'music', 'anth', 'communication', 'mkt', 'sociology', 'pols', 'acct', 'edu', 'philosophy', 'physics', 'theater', 'economics', 'mgt', 'spanish', 'history', 'biology', 'alg', 'spch', 'mgmt', 'poli', 'law', 'psy', 'psychology', 'math', 'sciences', 'engineering', 'chem', 'engr', 'political', 'phil', 'busn', 'japanese', 'arab', 'gov', 'bio', 'spa', 'govt'};, score=0.941 total time= 1.1min\n",
            "[CV 2/5] END classifier__C=2.5, classifier__solver=liblinear, selector__percentile=26, vectorizer__min_df=5, vectorizer__ngram_range=(1, 3), vectorizer__stop_words={'fren', 'phys', 'management', 'econ', 'eco', 'geog', 'accounting', 'religion', 'calc', 'criminology', 'science', 'span', 'government', 'en', 'algebra', 'french', 'geo', 'engl', 'soci', 'statistics', 'geology', 'nurs', 'psych', 'soc', 'ecology', 'gen', 'writing', 'culture', 'pol', 'english', 'anthropology', 'health', 'speech', 'eng', 'comm', 'enc', 'astrology', 'stat', 'crim', 'business', 'phy', 'literature', 'ethnic', 'german', 'bus', 'marketing', 'calculus', 'finance', 'hist', 'acc', 'art', 'chemistry', 'music', 'anth', 'communication', 'mkt', 'sociology', 'pols', 'acct', 'edu', 'philosophy', 'physics', 'theater', 'economics', 'mgt', 'spanish', 'history', 'biology', 'alg', 'spch', 'mgmt', 'poli', 'law', 'psy', 'psychology', 'math', 'sciences', 'engineering', 'chem', 'engr', 'political', 'phil', 'busn', 'japanese', 'arab', 'gov', 'bio', 'spa', 'govt'};, score=0.940 total time= 1.0min\n",
            "[CV 3/5] END classifier__C=2.5, classifier__solver=liblinear, selector__percentile=26, vectorizer__min_df=5, vectorizer__ngram_range=(1, 3), vectorizer__stop_words={'fren', 'phys', 'management', 'econ', 'eco', 'geog', 'accounting', 'religion', 'calc', 'criminology', 'science', 'span', 'government', 'en', 'algebra', 'french', 'geo', 'engl', 'soci', 'statistics', 'geology', 'nurs', 'psych', 'soc', 'ecology', 'gen', 'writing', 'culture', 'pol', 'english', 'anthropology', 'health', 'speech', 'eng', 'comm', 'enc', 'astrology', 'stat', 'crim', 'business', 'phy', 'literature', 'ethnic', 'german', 'bus', 'marketing', 'calculus', 'finance', 'hist', 'acc', 'art', 'chemistry', 'music', 'anth', 'communication', 'mkt', 'sociology', 'pols', 'acct', 'edu', 'philosophy', 'physics', 'theater', 'economics', 'mgt', 'spanish', 'history', 'biology', 'alg', 'spch', 'mgmt', 'poli', 'law', 'psy', 'psychology', 'math', 'sciences', 'engineering', 'chem', 'engr', 'political', 'phil', 'busn', 'japanese', 'arab', 'gov', 'bio', 'spa', 'govt'};, score=0.941 total time= 1.1min\n",
            "[CV 4/5] END classifier__C=2.5, classifier__solver=liblinear, selector__percentile=26, vectorizer__min_df=5, vectorizer__ngram_range=(1, 3), vectorizer__stop_words={'fren', 'phys', 'management', 'econ', 'eco', 'geog', 'accounting', 'religion', 'calc', 'criminology', 'science', 'span', 'government', 'en', 'algebra', 'french', 'geo', 'engl', 'soci', 'statistics', 'geology', 'nurs', 'psych', 'soc', 'ecology', 'gen', 'writing', 'culture', 'pol', 'english', 'anthropology', 'health', 'speech', 'eng', 'comm', 'enc', 'astrology', 'stat', 'crim', 'business', 'phy', 'literature', 'ethnic', 'german', 'bus', 'marketing', 'calculus', 'finance', 'hist', 'acc', 'art', 'chemistry', 'music', 'anth', 'communication', 'mkt', 'sociology', 'pols', 'acct', 'edu', 'philosophy', 'physics', 'theater', 'economics', 'mgt', 'spanish', 'history', 'biology', 'alg', 'spch', 'mgmt', 'poli', 'law', 'psy', 'psychology', 'math', 'sciences', 'engineering', 'chem', 'engr', 'political', 'phil', 'busn', 'japanese', 'arab', 'gov', 'bio', 'spa', 'govt'};, score=0.941 total time= 1.0min\n",
            "[CV 5/5] END classifier__C=2.5, classifier__solver=liblinear, selector__percentile=26, vectorizer__min_df=5, vectorizer__ngram_range=(1, 3), vectorizer__stop_words={'fren', 'phys', 'management', 'econ', 'eco', 'geog', 'accounting', 'religion', 'calc', 'criminology', 'science', 'span', 'government', 'en', 'algebra', 'french', 'geo', 'engl', 'soci', 'statistics', 'geology', 'nurs', 'psych', 'soc', 'ecology', 'gen', 'writing', 'culture', 'pol', 'english', 'anthropology', 'health', 'speech', 'eng', 'comm', 'enc', 'astrology', 'stat', 'crim', 'business', 'phy', 'literature', 'ethnic', 'german', 'bus', 'marketing', 'calculus', 'finance', 'hist', 'acc', 'art', 'chemistry', 'music', 'anth', 'communication', 'mkt', 'sociology', 'pols', 'acct', 'edu', 'philosophy', 'physics', 'theater', 'economics', 'mgt', 'spanish', 'history', 'biology', 'alg', 'spch', 'mgmt', 'poli', 'law', 'psy', 'psychology', 'math', 'sciences', 'engineering', 'chem', 'engr', 'political', 'phil', 'busn', 'japanese', 'arab', 'gov', 'bio', 'spa', 'govt'};, score=0.941 total time= 1.1min\n",
            "[CV 1/5] END classifier__C=20, classifier__solver=sag, selector__percentile=26, vectorizer__min_df=6, vectorizer__ngram_range=(1, 3), vectorizer__stop_words={'fren', 'lectures', 'hw', 'lecture', 'quizzes', 'phys', 'courses', 'management', 'lab', 'she', 'me', 's', 'professor', 'labs', 'econ', 'eco', 'geog', 'accounting', 'religion', 'calc', 'criminology', 'dr', 'span', 'science', 'government', 'en', 'college', 'algebra', 'french', 'books', 'geo', 'engl', 'he', 'soci', 'statistics', 'nurs', 'psych', 'geology', 'soc', 'ecology', 'gen', 'writing', 'him', 'culture', 'mr', 'we', 'quiz', 'pol', 'english', 'anthropology', 'health', 'ms', 'speech', 'eng', 'comm', 'enc', 'astrology', 'stat', 'crim', 'business', 'phy', 'literature', 'ethnic', 'colleges', 'her', 'bus', 'german', 'marketing', 'calculus', 'finance', 'hist', 'acc', 'art', 'chemistry', 'it', 'music', 'anth', 'myself', 'mkt', 'communication', 'class', 'teacher', 'sociology', 'university', 'pols', 'acct', 't', 'edu', 'philosophy', 'physics', 'theater', 'economics', 'prof', 'mgt', 'spanish', 'history', 'biology', 'alg', 'spch', 'mgmt', 'poli', 'law', 'psy', 'psychology', 'math', 'sciences', 'engineering', 'chem', 'course', 'hws', 'engr', 'political', 'phil', 'is', 'busn', 'japanese', 'arab', 'classes', 'gov', 'doctor', 'i', 'book', 'universities', 'bio', 'spa', 'govt'};, score=0.937 total time= 1.1min\n",
            "[CV 2/5] END classifier__C=20, classifier__solver=sag, selector__percentile=26, vectorizer__min_df=6, vectorizer__ngram_range=(1, 3), vectorizer__stop_words={'fren', 'lectures', 'hw', 'lecture', 'quizzes', 'phys', 'courses', 'management', 'lab', 'she', 'me', 's', 'professor', 'labs', 'econ', 'eco', 'geog', 'accounting', 'religion', 'calc', 'criminology', 'dr', 'span', 'science', 'government', 'en', 'college', 'algebra', 'french', 'books', 'geo', 'engl', 'he', 'soci', 'statistics', 'nurs', 'psych', 'geology', 'soc', 'ecology', 'gen', 'writing', 'him', 'culture', 'mr', 'we', 'quiz', 'pol', 'english', 'anthropology', 'health', 'ms', 'speech', 'eng', 'comm', 'enc', 'astrology', 'stat', 'crim', 'business', 'phy', 'literature', 'ethnic', 'colleges', 'her', 'bus', 'german', 'marketing', 'calculus', 'finance', 'hist', 'acc', 'art', 'chemistry', 'it', 'music', 'anth', 'myself', 'mkt', 'communication', 'class', 'teacher', 'sociology', 'university', 'pols', 'acct', 't', 'edu', 'philosophy', 'physics', 'theater', 'economics', 'prof', 'mgt', 'spanish', 'history', 'biology', 'alg', 'spch', 'mgmt', 'poli', 'law', 'psy', 'psychology', 'math', 'sciences', 'engineering', 'chem', 'course', 'hws', 'engr', 'political', 'phil', 'is', 'busn', 'japanese', 'arab', 'classes', 'gov', 'doctor', 'i', 'book', 'universities', 'bio', 'spa', 'govt'};, score=0.938 total time= 1.1min\n",
            "[CV 3/5] END classifier__C=20, classifier__solver=sag, selector__percentile=26, vectorizer__min_df=6, vectorizer__ngram_range=(1, 3), vectorizer__stop_words={'fren', 'lectures', 'hw', 'lecture', 'quizzes', 'phys', 'courses', 'management', 'lab', 'she', 'me', 's', 'professor', 'labs', 'econ', 'eco', 'geog', 'accounting', 'religion', 'calc', 'criminology', 'dr', 'span', 'science', 'government', 'en', 'college', 'algebra', 'french', 'books', 'geo', 'engl', 'he', 'soci', 'statistics', 'nurs', 'psych', 'geology', 'soc', 'ecology', 'gen', 'writing', 'him', 'culture', 'mr', 'we', 'quiz', 'pol', 'english', 'anthropology', 'health', 'ms', 'speech', 'eng', 'comm', 'enc', 'astrology', 'stat', 'crim', 'business', 'phy', 'literature', 'ethnic', 'colleges', 'her', 'bus', 'german', 'marketing', 'calculus', 'finance', 'hist', 'acc', 'art', 'chemistry', 'it', 'music', 'anth', 'myself', 'mkt', 'communication', 'class', 'teacher', 'sociology', 'university', 'pols', 'acct', 't', 'edu', 'philosophy', 'physics', 'theater', 'economics', 'prof', 'mgt', 'spanish', 'history', 'biology', 'alg', 'spch', 'mgmt', 'poli', 'law', 'psy', 'psychology', 'math', 'sciences', 'engineering', 'chem', 'course', 'hws', 'engr', 'political', 'phil', 'is', 'busn', 'japanese', 'arab', 'classes', 'gov', 'doctor', 'i', 'book', 'universities', 'bio', 'spa', 'govt'};, score=0.938 total time= 1.1min\n",
            "[CV 4/5] END classifier__C=20, classifier__solver=sag, selector__percentile=26, vectorizer__min_df=6, vectorizer__ngram_range=(1, 3), vectorizer__stop_words={'fren', 'lectures', 'hw', 'lecture', 'quizzes', 'phys', 'courses', 'management', 'lab', 'she', 'me', 's', 'professor', 'labs', 'econ', 'eco', 'geog', 'accounting', 'religion', 'calc', 'criminology', 'dr', 'span', 'science', 'government', 'en', 'college', 'algebra', 'french', 'books', 'geo', 'engl', 'he', 'soci', 'statistics', 'nurs', 'psych', 'geology', 'soc', 'ecology', 'gen', 'writing', 'him', 'culture', 'mr', 'we', 'quiz', 'pol', 'english', 'anthropology', 'health', 'ms', 'speech', 'eng', 'comm', 'enc', 'astrology', 'stat', 'crim', 'business', 'phy', 'literature', 'ethnic', 'colleges', 'her', 'bus', 'german', 'marketing', 'calculus', 'finance', 'hist', 'acc', 'art', 'chemistry', 'it', 'music', 'anth', 'myself', 'mkt', 'communication', 'class', 'teacher', 'sociology', 'university', 'pols', 'acct', 't', 'edu', 'philosophy', 'physics', 'theater', 'economics', 'prof', 'mgt', 'spanish', 'history', 'biology', 'alg', 'spch', 'mgmt', 'poli', 'law', 'psy', 'psychology', 'math', 'sciences', 'engineering', 'chem', 'course', 'hws', 'engr', 'political', 'phil', 'is', 'busn', 'japanese', 'arab', 'classes', 'gov', 'doctor', 'i', 'book', 'universities', 'bio', 'spa', 'govt'};, score=0.938 total time= 1.1min\n",
            "[CV 5/5] END classifier__C=20, classifier__solver=sag, selector__percentile=26, vectorizer__min_df=6, vectorizer__ngram_range=(1, 3), vectorizer__stop_words={'fren', 'lectures', 'hw', 'lecture', 'quizzes', 'phys', 'courses', 'management', 'lab', 'she', 'me', 's', 'professor', 'labs', 'econ', 'eco', 'geog', 'accounting', 'religion', 'calc', 'criminology', 'dr', 'span', 'science', 'government', 'en', 'college', 'algebra', 'french', 'books', 'geo', 'engl', 'he', 'soci', 'statistics', 'nurs', 'psych', 'geology', 'soc', 'ecology', 'gen', 'writing', 'him', 'culture', 'mr', 'we', 'quiz', 'pol', 'english', 'anthropology', 'health', 'ms', 'speech', 'eng', 'comm', 'enc', 'astrology', 'stat', 'crim', 'business', 'phy', 'literature', 'ethnic', 'colleges', 'her', 'bus', 'german', 'marketing', 'calculus', 'finance', 'hist', 'acc', 'art', 'chemistry', 'it', 'music', 'anth', 'myself', 'mkt', 'communication', 'class', 'teacher', 'sociology', 'university', 'pols', 'acct', 't', 'edu', 'philosophy', 'physics', 'theater', 'economics', 'prof', 'mgt', 'spanish', 'history', 'biology', 'alg', 'spch', 'mgmt', 'poli', 'law', 'psy', 'psychology', 'math', 'sciences', 'engineering', 'chem', 'course', 'hws', 'engr', 'political', 'phil', 'is', 'busn', 'japanese', 'arab', 'classes', 'gov', 'doctor', 'i', 'book', 'universities', 'bio', 'spa', 'govt'};, score=0.938 total time= 1.1min\n",
            "[CV 1/5] END classifier__C=15, classifier__solver=newton-cg, selector__percentile=22, vectorizer__min_df=5, vectorizer__ngram_range=(1, 3), vectorizer__stop_words={'fren', 'lectures', 'hw', 'lecture', 'quizzes', 'phys', 'courses', 'management', 'lab', 'she', 'me', 's', 'professor', 'labs', 'econ', 'eco', 'geog', 'accounting', 'religion', 'calc', 'criminology', 'dr', 'span', 'science', 'government', 'en', 'college', 'algebra', 'french', 'books', 'geo', 'engl', 'he', 'soci', 'statistics', 'nurs', 'psych', 'geology', 'soc', 'ecology', 'gen', 'writing', 'him', 'culture', 'mr', 'we', 'quiz', 'pol', 'english', 'anthropology', 'health', 'ms', 'speech', 'eng', 'comm', 'enc', 'astrology', 'stat', 'crim', 'business', 'phy', 'literature', 'ethnic', 'colleges', 'her', 'bus', 'german', 'marketing', 'calculus', 'finance', 'hist', 'acc', 'art', 'chemistry', 'it', 'music', 'anth', 'myself', 'mkt', 'communication', 'class', 'teacher', 'sociology', 'university', 'pols', 'acct', 't', 'edu', 'philosophy', 'physics', 'theater', 'economics', 'prof', 'mgt', 'spanish', 'history', 'biology', 'alg', 'spch', 'mgmt', 'poli', 'law', 'psy', 'psychology', 'math', 'sciences', 'engineering', 'chem', 'course', 'hws', 'engr', 'political', 'phil', 'is', 'busn', 'japanese', 'arab', 'classes', 'gov', 'doctor', 'i', 'book', 'universities', 'bio', 'spa', 'govt'};, score=0.939 total time= 1.2min\n",
            "[CV 2/5] END classifier__C=15, classifier__solver=newton-cg, selector__percentile=22, vectorizer__min_df=5, vectorizer__ngram_range=(1, 3), vectorizer__stop_words={'fren', 'lectures', 'hw', 'lecture', 'quizzes', 'phys', 'courses', 'management', 'lab', 'she', 'me', 's', 'professor', 'labs', 'econ', 'eco', 'geog', 'accounting', 'religion', 'calc', 'criminology', 'dr', 'span', 'science', 'government', 'en', 'college', 'algebra', 'french', 'books', 'geo', 'engl', 'he', 'soci', 'statistics', 'nurs', 'psych', 'geology', 'soc', 'ecology', 'gen', 'writing', 'him', 'culture', 'mr', 'we', 'quiz', 'pol', 'english', 'anthropology', 'health', 'ms', 'speech', 'eng', 'comm', 'enc', 'astrology', 'stat', 'crim', 'business', 'phy', 'literature', 'ethnic', 'colleges', 'her', 'bus', 'german', 'marketing', 'calculus', 'finance', 'hist', 'acc', 'art', 'chemistry', 'it', 'music', 'anth', 'myself', 'mkt', 'communication', 'class', 'teacher', 'sociology', 'university', 'pols', 'acct', 't', 'edu', 'philosophy', 'physics', 'theater', 'economics', 'prof', 'mgt', 'spanish', 'history', 'biology', 'alg', 'spch', 'mgmt', 'poli', 'law', 'psy', 'psychology', 'math', 'sciences', 'engineering', 'chem', 'course', 'hws', 'engr', 'political', 'phil', 'is', 'busn', 'japanese', 'arab', 'classes', 'gov', 'doctor', 'i', 'book', 'universities', 'bio', 'spa', 'govt'};, score=0.939 total time= 1.2min\n",
            "[CV 3/5] END classifier__C=15, classifier__solver=newton-cg, selector__percentile=22, vectorizer__min_df=5, vectorizer__ngram_range=(1, 3), vectorizer__stop_words={'fren', 'lectures', 'hw', 'lecture', 'quizzes', 'phys', 'courses', 'management', 'lab', 'she', 'me', 's', 'professor', 'labs', 'econ', 'eco', 'geog', 'accounting', 'religion', 'calc', 'criminology', 'dr', 'span', 'science', 'government', 'en', 'college', 'algebra', 'french', 'books', 'geo', 'engl', 'he', 'soci', 'statistics', 'nurs', 'psych', 'geology', 'soc', 'ecology', 'gen', 'writing', 'him', 'culture', 'mr', 'we', 'quiz', 'pol', 'english', 'anthropology', 'health', 'ms', 'speech', 'eng', 'comm', 'enc', 'astrology', 'stat', 'crim', 'business', 'phy', 'literature', 'ethnic', 'colleges', 'her', 'bus', 'german', 'marketing', 'calculus', 'finance', 'hist', 'acc', 'art', 'chemistry', 'it', 'music', 'anth', 'myself', 'mkt', 'communication', 'class', 'teacher', 'sociology', 'university', 'pols', 'acct', 't', 'edu', 'philosophy', 'physics', 'theater', 'economics', 'prof', 'mgt', 'spanish', 'history', 'biology', 'alg', 'spch', 'mgmt', 'poli', 'law', 'psy', 'psychology', 'math', 'sciences', 'engineering', 'chem', 'course', 'hws', 'engr', 'political', 'phil', 'is', 'busn', 'japanese', 'arab', 'classes', 'gov', 'doctor', 'i', 'book', 'universities', 'bio', 'spa', 'govt'};, score=0.939 total time= 1.2min\n",
            "[CV 4/5] END classifier__C=15, classifier__solver=newton-cg, selector__percentile=22, vectorizer__min_df=5, vectorizer__ngram_range=(1, 3), vectorizer__stop_words={'fren', 'lectures', 'hw', 'lecture', 'quizzes', 'phys', 'courses', 'management', 'lab', 'she', 'me', 's', 'professor', 'labs', 'econ', 'eco', 'geog', 'accounting', 'religion', 'calc', 'criminology', 'dr', 'span', 'science', 'government', 'en', 'college', 'algebra', 'french', 'books', 'geo', 'engl', 'he', 'soci', 'statistics', 'nurs', 'psych', 'geology', 'soc', 'ecology', 'gen', 'writing', 'him', 'culture', 'mr', 'we', 'quiz', 'pol', 'english', 'anthropology', 'health', 'ms', 'speech', 'eng', 'comm', 'enc', 'astrology', 'stat', 'crim', 'business', 'phy', 'literature', 'ethnic', 'colleges', 'her', 'bus', 'german', 'marketing', 'calculus', 'finance', 'hist', 'acc', 'art', 'chemistry', 'it', 'music', 'anth', 'myself', 'mkt', 'communication', 'class', 'teacher', 'sociology', 'university', 'pols', 'acct', 't', 'edu', 'philosophy', 'physics', 'theater', 'economics', 'prof', 'mgt', 'spanish', 'history', 'biology', 'alg', 'spch', 'mgmt', 'poli', 'law', 'psy', 'psychology', 'math', 'sciences', 'engineering', 'chem', 'course', 'hws', 'engr', 'political', 'phil', 'is', 'busn', 'japanese', 'arab', 'classes', 'gov', 'doctor', 'i', 'book', 'universities', 'bio', 'spa', 'govt'};, score=0.939 total time= 1.2min\n",
            "[CV 5/5] END classifier__C=15, classifier__solver=newton-cg, selector__percentile=22, vectorizer__min_df=5, vectorizer__ngram_range=(1, 3), vectorizer__stop_words={'fren', 'lectures', 'hw', 'lecture', 'quizzes', 'phys', 'courses', 'management', 'lab', 'she', 'me', 's', 'professor', 'labs', 'econ', 'eco', 'geog', 'accounting', 'religion', 'calc', 'criminology', 'dr', 'span', 'science', 'government', 'en', 'college', 'algebra', 'french', 'books', 'geo', 'engl', 'he', 'soci', 'statistics', 'nurs', 'psych', 'geology', 'soc', 'ecology', 'gen', 'writing', 'him', 'culture', 'mr', 'we', 'quiz', 'pol', 'english', 'anthropology', 'health', 'ms', 'speech', 'eng', 'comm', 'enc', 'astrology', 'stat', 'crim', 'business', 'phy', 'literature', 'ethnic', 'colleges', 'her', 'bus', 'german', 'marketing', 'calculus', 'finance', 'hist', 'acc', 'art', 'chemistry', 'it', 'music', 'anth', 'myself', 'mkt', 'communication', 'class', 'teacher', 'sociology', 'university', 'pols', 'acct', 't', 'edu', 'philosophy', 'physics', 'theater', 'economics', 'prof', 'mgt', 'spanish', 'history', 'biology', 'alg', 'spch', 'mgmt', 'poli', 'law', 'psy', 'psychology', 'math', 'sciences', 'engineering', 'chem', 'course', 'hws', 'engr', 'political', 'phil', 'is', 'busn', 'japanese', 'arab', 'classes', 'gov', 'doctor', 'i', 'book', 'universities', 'bio', 'spa', 'govt'};, score=0.939 total time= 1.2min\n"
          ]
        },
        {
          "data": {
            "text/plain": [
              "RandomizedSearchCV(cv=StratifiedGroupKFold(n_splits=5, random_state=None, shuffle=False),\n",
              "                   estimator=Pipeline(steps=[('vectorizer',\n",
              "                                              TfidfVectorizer(min_df=5,\n",
              "                                                              ngram_range=(1,\n",
              "                                                                           3))),\n",
              "                                             ('selector',\n",
              "                                              SelectPercentile(percentile=22,\n",
              "                                                               score_func=<function chi2 at 0x7fe175e33050>)),\n",
              "                                             ('classifier',\n",
              "                                              LogisticRegression(C=2.5,\n",
              "                                                                 solver='sag'))]),\n",
              "                   n_iter=20,\n",
              "                   param_distributions={'cla...\n",
              "                                                                    'communication',\n",
              "                                                                    'course',\n",
              "                                                                    'courses',\n",
              "                                                                    'crim', ...},\n",
              "                                                                   {'acc',\n",
              "                                                                    'accounting',\n",
              "                                                                    'acct',\n",
              "                                                                    'advanced',\n",
              "                                                                    'alg',\n",
              "                                                                    'algebra',\n",
              "                                                                    'analysis',\n",
              "                                                                    'anth',\n",
              "                                                                    'anthropology',\n",
              "                                                                    'arab',\n",
              "                                                                    'art',\n",
              "                                                                    'astrology',\n",
              "                                                                    'background',\n",
              "                                                                    'basic',\n",
              "                                                                    'bio',\n",
              "                                                                    'biology',\n",
              "                                                                    'book',\n",
              "                                                                    'books',\n",
              "                                                                    'bus',\n",
              "                                                                    'business',\n",
              "                                                                    'busn',\n",
              "                                                                    'calc',\n",
              "                                                                    'calculus',\n",
              "                                                                    'chem',\n",
              "                                                                    'chemistry',\n",
              "                                                                    'civilization',\n",
              "                                                                    'class',\n",
              "                                                                    'classes',\n",
              "                                                                    'college',\n",
              "                                                                    'colleges', ...}]},\n",
              "                   scoring='f1_micro', verbose=3)"
            ]
          },
          "execution_count": 42,
          "metadata": {},
          "output_type": "execute_result"
        }
      ],
      "source": [
        "random_search.fit(X, y, groups=groups_professor_id_list)"
      ]
    },
    {
      "cell_type": "markdown",
      "metadata": {
        "id": "K4xgujDtOAnH"
      },
      "source": [
        "## Estimator Selection"
      ]
    },
    {
      "cell_type": "code",
      "execution_count": 43,
      "metadata": {
        "id": "bs2o0LnM9pN-",
        "colab": {
          "base_uri": "https://localhost:8080/"
        },
        "outputId": "c3dba6d3-7da9-4d34-87cb-aceb3cd26145"
      },
      "outputs": [
        {
          "output_type": "stream",
          "name": "stdout",
          "text": [
            "{'vectorizer__stop_words': {'fren', 'phys', 'management', 'econ', 'eco', 'geog', 'accounting', 'religion', 'calc', 'criminology', 'science', 'span', 'government', 'en', 'algebra', 'french', 'geo', 'engl', 'soci', 'statistics', 'geology', 'nurs', 'psych', 'soc', 'ecology', 'gen', 'writing', 'culture', 'pol', 'english', 'anthropology', 'health', 'speech', 'eng', 'comm', 'enc', 'astrology', 'stat', 'crim', 'business', 'phy', 'literature', 'ethnic', 'german', 'bus', 'marketing', 'calculus', 'finance', 'hist', 'acc', 'art', 'chemistry', 'music', 'anth', 'communication', 'mkt', 'sociology', 'pols', 'acct', 'edu', 'philosophy', 'physics', 'theater', 'economics', 'mgt', 'spanish', 'history', 'biology', 'alg', 'spch', 'mgmt', 'poli', 'law', 'psy', 'psychology', 'math', 'sciences', 'engineering', 'chem', 'engr', 'political', 'phil', 'busn', 'japanese', 'arab', 'gov', 'bio', 'spa', 'govt'}, 'vectorizer__ngram_range': (1, 3), 'vectorizer__min_df': 6, 'selector__percentile': 26, 'classifier__solver': 'liblinear', 'classifier__C': 5}\n",
            "Pipeline(steps=[('vectorizer',\n",
            "                 TfidfVectorizer(min_df=6, ngram_range=(1, 3),\n",
            "                                 stop_words={'acc', 'accounting', 'acct', 'alg',\n",
            "                                             'algebra', 'anth', 'anthropology',\n",
            "                                             'arab', 'art', 'astrology', 'bio',\n",
            "                                             'biology', 'bus', 'business',\n",
            "                                             'busn', 'calc', 'calculus', 'chem',\n",
            "                                             'chemistry', 'comm',\n",
            "                                             'communication', 'crim',\n",
            "                                             'criminology', 'culture', 'eco',\n",
            "                                             'ecology', 'econ', 'economics',\n",
            "                                             'edu', 'en', ...})),\n",
            "                ('selector',\n",
            "                 SelectPercentile(percentile=26,\n",
            "                                  score_func=<function chi2 at 0x7fe175e33050>)),\n",
            "                ('classifier', LogisticRegression(C=5, solver='liblinear'))])\n"
          ]
        }
      ],
      "source": [
        "print(random_search.best_params_)\n",
        "print(random_search.best_estimator_)\n",
        "best_estimator = random_search.best_estimator_"
      ]
    },
    {
      "cell_type": "code",
      "execution_count": null,
      "metadata": {
        "id": "v7SIxo7XlYwy"
      },
      "outputs": [],
      "source": [
        "# best_estimator = Pipeline([\n",
        "#     (\"vectorizer\", TfidfVectorizer(ngram_range=(1,2), min_df=8, stop_words=stopwords)),\n",
        "#     (\"selector\"  , SelectPercentile(score_func=chi2, percentile=30)),\n",
        "#     (\"classifer\" , MultinomialNB())\n",
        "# ])\n",
        "# best_estimator.fit(X, y)"
      ]
    },
    {
      "cell_type": "markdown",
      "metadata": {
        "id": "aJURPM6lkxvG"
      },
      "source": [
        "# Validating (or Testing???)"
      ]
    },
    {
      "cell_type": "code",
      "execution_count": 51,
      "metadata": {
        "id": "grbfpSHzj4vb"
      },
      "outputs": [],
      "source": [
        "test_reviews = pd.read_csv(\"/content/drive/MyDrive/RMP/scraped_comments.csv\").sample(n=120000, random_state=1)"
      ]
    },
    {
      "cell_type": "code",
      "execution_count": 52,
      "metadata": {
        "id": "DNKBABCDkInt",
        "colab": {
          "base_uri": "https://localhost:8080/"
        },
        "outputId": "bae76a85-d60e-4c8b-82cf-f8f34f60d3fe"
      },
      "outputs": [
        {
          "output_type": "stream",
          "name": "stdout",
          "text": [
            "Shape before dropping: (120000, 16)\n",
            "Shape after dropping: (105800, 18)\n"
          ]
        },
        {
          "output_type": "stream",
          "name": "stderr",
          "text": [
            "/usr/local/lib/python3.7/dist-packages/pandas/util/_decorators.py:311: SettingWithCopyWarning: \n",
            "A value is trying to be set on a copy of a slice from a DataFrame\n",
            "\n",
            "See the caveats in the documentation: https://pandas.pydata.org/pandas-docs/stable/user_guide/indexing.html#returning-a-view-versus-a-copy\n",
            "  return func(*args, **kwargs)\n",
            "/usr/local/lib/python3.7/dist-packages/ipykernel_launcher.py:19: SettingWithCopyWarning: \n",
            "A value is trying to be set on a copy of a slice from a DataFrame.\n",
            "Try using .loc[row_indexer,col_indexer] = value instead\n",
            "\n",
            "See the caveats in the documentation: https://pandas.pydata.org/pandas-docs/stable/user_guide/indexing.html#returning-a-view-versus-a-copy\n"
          ]
        }
      ],
      "source": [
        "print(\"Shape before dropping:\", test_reviews.shape)\n",
        "test_reviews.drop_duplicates(subset=\"comment_id\", keep=\"first\", inplace=True)\n",
        "\n",
        "test_reviews.drop_duplicates(subset=\"comment\", keep=\"first\", inplace=True)\n",
        "\n",
        "# drop rows containing only \"No Comments\" (default value assigned by RMP to a review that didn't enter a comment)\n",
        "test_reviews = test_reviews[test_reviews[\"comment\"] != \"No Comments\"]\n",
        "\n",
        "# drop rows containing NaN comment\n",
        "test_reviews.dropna(subset=[\"comment\"], inplace=True)\n",
        "\n",
        "# fill null names with empty string\n",
        "test_reviews['firstName'].fillna('', inplace=True)\n",
        "test_reviews['lastName'].fillna('', inplace=True)\n",
        "\n",
        "# Dropping test_reviews with qualityRating == 3\n",
        "test_reviews['qualityRating'] = (test_reviews['helpfulRating']+test_reviews['clarityRating'])/2.0\n",
        "test_reviews = test_reviews[test_reviews[\"qualityRating\"] != 3.0]\n",
        "test_reviews[\"sentiment\"] = test_reviews[\"qualityRating\"] > 3.0\n",
        "\n",
        "print(\"Shape after dropping:\", test_reviews.shape)\n",
        "test_reviews.reset_index(drop=True, inplace=True)"
      ]
    },
    {
      "cell_type": "code",
      "execution_count": 53,
      "metadata": {
        "id": "89kZU5EskZst",
        "colab": {
          "base_uri": "https://localhost:8080/"
        },
        "outputId": "29468739-b329-4dab-f667-61dfb1663de8"
      },
      "outputs": [
        {
          "output_type": "stream",
          "name": "stdout",
          "text": [
            "25000\n",
            "50000\n",
            "75000\n",
            "100000\n"
          ]
        }
      ],
      "source": [
        "comments_proper = []\n",
        "\n",
        "comments_proper = preprocess_pipeline(test_reviews)"
      ]
    },
    {
      "cell_type": "code",
      "execution_count": 54,
      "metadata": {
        "id": "sL639IqRkpVx"
      },
      "outputs": [],
      "source": [
        "sent_predA = best_estimator.predict(comments_proper)"
      ]
    },
    {
      "cell_type": "code",
      "execution_count": 55,
      "metadata": {
        "id": "JtYNIKMUmzyM"
      },
      "outputs": [],
      "source": [
        "test_reviews.reset_index(inplace=True, drop=True)"
      ]
    },
    {
      "cell_type": "markdown",
      "metadata": {
        "id": "XlGQQhFDafI_"
      },
      "source": [
        "## Accuracy"
      ]
    },
    {
      "cell_type": "code",
      "execution_count": 56,
      "metadata": {
        "id": "c-q4csk0k8D0",
        "colab": {
          "base_uri": "https://localhost:8080/"
        },
        "outputId": "55efa3ec-2a5b-425a-9547-87cfeaa9bc98"
      },
      "outputs": [
        {
          "output_type": "stream",
          "name": "stdout",
          "text": [
            "Precision Score: 93.67122022041839\n",
            "Recall Score: 95.61339692291111\n",
            "F1 Score: 92.39035916824196\n",
            "Accuracy Score: 92.39035916824196\n",
            "[[26779  4795]\n",
            " [ 3256 70970]]\n"
          ]
        }
      ],
      "source": [
        "evalPerformance(sent_predA, test_reviews['sentiment'])"
      ]
    },
    {
      "cell_type": "code",
      "execution_count": 57,
      "metadata": {
        "id": "amqFgxlce_bB",
        "colab": {
          "base_uri": "https://localhost:8080/"
        },
        "outputId": "542b347b-e812-42ae-b219-7f9524353b96"
      },
      "outputs": [
        {
          "output_type": "execute_result",
          "data": {
            "text/plain": [
              "0.9239035916824196"
            ]
          },
          "metadata": {},
          "execution_count": 57
        }
      ],
      "source": [
        "right = sum(a == b for a, b in zip(sent_predA, test_reviews['sentiment']))\n",
        "right / len(sent_predA)"
      ]
    },
    {
      "cell_type": "code",
      "source": [
        "docs = [\n",
        "    \"He has his own grading criteria, which may throw you off. Tests are divided into weekly quiz, which you can redo them for better grade. PAs are difficult and mimir grading provides limited info, but he do provide fast and helpful feedback via office hour or mail. I was too late when I realized that, so contact him quickly if PA is hurting you.\",\n",
        "    \"Makes the course unnecessarily hard. Passing a test with a C is uncommon. Don't be tricked by how nice of a guy he is, he wants to watch the world burn.\",\n",
        "    \"This Professor is a very helpful, but is extremely difficult. The homework is a lot of work and expect the final to very very difficult.\",\n",
        "    \"Think it was his first time teaching 221 so he was disorganized on the syllabus and assignments. Quite a bit of work so wouldn't recommend taking his class before ETAM. He pushes you to develop good programming practices. You'll come out of this class a better individual programmer but probably not with the best grade.\",\n",
        "    \"I have perspective transferring from TAMU to another University, this class is hard, and talking to graduate students from other institutions it's not hard to see why, there's typically graduate level DSA covered in this class. It's worth taking for that reason alone. The depth, and content covered makes this the most important class in TAMU CS.\",\n",
        "    \"Insufferable lectures, but an easy grader. She may be the professor you want, but she is not the professor you need.\",\n",
        "    \"Leyk is a decent teacher for 121. This was the first semester she taught the course I believe so it was kinda all over the place, but she did a good job. HW isn't impossible or unreasonable and there's plenty of help. Also only having a final project and no final exam was nice.\"\n",
        "]\n",
        "\n",
        "sample_reviews = pd.DataFrame(data={'firstName': ['Philip Teresa']*7, 'lastName': ['Ritchey Leyk']*7, 'comment': docs})\n",
        "docs_preprocessed = preprocess_pipeline(sample_reviews)\n",
        "\n",
        "for comment in docs_preprocessed:\n",
        "  print(comment)"
      ],
      "metadata": {
        "colab": {
          "base_uri": "https://localhost:8080/"
        },
        "id": "6DUowO_b20rN",
        "outputId": "6253143e-1638-4f66-dd37-b95d7ec2a041"
      },
      "execution_count": 63,
      "outputs": [
        {
          "output_type": "stream",
          "name": "stdout",
          "text": [
            "he has his own grading criteria which may throw you off tests are divided into weekly quiz which you can redo them for better grade pas are difficult and mimir grading provides limited info but he do provide fast and helpful feedback via office hour or mail i was too late when i realized that so contact him quickly if pa is hurting you\n",
            "makes the course unnecessarily hard passing a test with a c is uncommon do not be tricked by how nice of a guy he is he wants to watch the world burn\n",
            "this professor is a very helpful but is extremely difficult the homework is a lot of work and expect the final to very very difficult\n",
            "think it was his first time teaching so he was disorganized on the syllabus and assignments quite a bit of work so would not recommend taking his class before etam he pushes you to develop good programming practices you will come out of this class a better individual programmer but probably not with the best grade\n",
            "i have perspective transferring from tamu to another university this class is hard and talking to graduate students from other institutions it is not hard to see why there is typically graduate level dsa covered in this class it is worth taking for that reason alone the depth and content covered makes this the most important class in tamu cs\n",
            "insufferable lectures but an easy grader she may be the professor you want but she is not the professor you need\n",
            "is a decent teacher for this was the first semester she taught the course i believe so it was kinda all over the place but she did a good job homework is not impossible or unreasonable and there is plenty of help also only having a final project and no final exam was nice\n"
          ]
        }
      ]
    },
    {
      "cell_type": "code",
      "source": [
        "\n",
        "'''array([\n",
        "       [0.37252759, 0.62747241],\n",
        "       [0.33527024, 0.66472976],\n",
        "       [0.04423447, 0.95576553],\n",
        "       [0.14304011, 0.85695989],\n",
        "       [0.48898867, 0.51101133],\n",
        "       [0.59293458, 0.40706542],\n",
        "       [0.24181395, 0.75818605]])'''\n",
        "best_estimator.predict_proba(docs_preprocessed)"
      ],
      "metadata": {
        "colab": {
          "base_uri": "https://localhost:8080/"
        },
        "id": "Dc58sGvs190h",
        "outputId": "9aa4613f-3d74-4d9f-b0e7-5de4bbb3099b"
      },
      "execution_count": 66,
      "outputs": [
        {
          "output_type": "execute_result",
          "data": {
            "text/plain": [
              "array([[0.37252759, 0.62747241],\n",
              "       [0.18490677, 0.81509323],\n",
              "       [0.04423447, 0.95576553],\n",
              "       [0.31818556, 0.68181444],\n",
              "       [0.40490644, 0.59509356],\n",
              "       [0.59293458, 0.40706542],\n",
              "       [0.15071307, 0.84928693]])"
            ]
          },
          "metadata": {},
          "execution_count": 66
        }
      ]
    },
    {
      "cell_type": "markdown",
      "metadata": {
        "id": "Jzl-f7BvdTIS"
      },
      "source": [
        "# Possible Improvements\n",
        "* Could engineer new features using words that are capitalized in the review\n",
        "* Remove reviews that're not english"
      ]
    }
  ],
  "metadata": {
    "colab": {
      "collapsed_sections": [],
      "name": "RMP Parameter Tuning",
      "toc_visible": true,
      "provenance": []
    },
    "gpuClass": "standard",
    "kernelspec": {
      "display_name": "Python 3",
      "name": "python3"
    },
    "language_info": {
      "name": "python"
    }
  },
  "nbformat": 4,
  "nbformat_minor": 0
}