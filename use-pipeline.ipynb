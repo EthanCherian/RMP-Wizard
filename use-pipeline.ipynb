{
 "cells": [
  {
   "cell_type": "code",
   "execution_count": 1,
   "metadata": {},
   "outputs": [],
   "source": [
    "from joblib import load\n",
    "import re"
   ]
  },
  {
   "cell_type": "markdown",
   "metadata": {},
   "source": [
    "### Load pipeline"
   ]
  },
  {
   "cell_type": "code",
   "execution_count": 2,
   "metadata": {},
   "outputs": [],
   "source": [
    "sent_pipe = load(\"Attempts/NB-pipeline.joblib\")"
   ]
  },
  {
   "cell_type": "markdown",
   "metadata": {},
   "source": [
    "#### Useful functions"
   ]
  },
  {
   "cell_type": "code",
   "execution_count": 3,
   "metadata": {},
   "outputs": [],
   "source": [
    "def basicPreproc(comments: list):\n",
    "    comments_proper = []\n",
    "\n",
    "    for review in comments:\n",
    "        review = re.sub('&([a-zA-z]+|#\\d+);', \"\", review)           # remove HTML codes\n",
    "        review = re.sub('&#63;?', '', review)                       # HTML code for question mark evades erasure on occasion, handle here\n",
    "        review = re.sub(r'\\s*https?://\\S+(\\s+|$)', ' ', review)                                     # remove links\n",
    "        review = re.sub(\"^(\\+\\d{1,2}\\s)?\\(?\\d{3}\\)?[\\s.-]?\\d{3}[\\s.-]?\\d{4}$\", ' ', review)         # remove phone numbers\n",
    "        review = re.sub(\"[a-zA-Z0-9_.+-]+@[a-zA-Z0-9-]+\\.[a-zA-Z0-9-.]+\", \" \", review)              # remove email addresses\n",
    "\n",
    "        review = re.sub(r'(.)\\1\\1+', '\\g<1>', review)               # replace any three characters in a row with one\n",
    "\n",
    "        review = re.sub('[^a-zA-Z]+', ' ', review)                  # remove non-alphabetic characters\n",
    "\n",
    "        review = re.sub('\\s+', ' ', review)\n",
    "        review = review.lower()                                     # lowercase review for uniformity\n",
    "\n",
    "        comments_proper.append(review)\n",
    "\n",
    "    return comments_proper"
   ]
  },
  {
   "cell_type": "code",
   "execution_count": 4,
   "metadata": {},
   "outputs": [],
   "source": [
    "def printResults(docs: list, preds:list, probs:list):\n",
    "    # now with fancy text coloring (works best in dark mode)\n",
    "    for comm, pred, prob in zip(docs, preds, probs):\n",
    "        print(\"\\033[2;32mComment: \\033[0;37m{0}\".format(comm))\n",
    "        \n",
    "        if pred == 0:\n",
    "            print(\"\\033[0;31mSentiment: \\033[0;31m{0}\".format(pred))\n",
    "            print(\"\\t\\033[0;35mConfidence:\\033[1;35m %0.5f%%\" % (prob[0] * 100))\n",
    "        else:\n",
    "            print(\"\\033[0;34mSentiment: \\033[0;34m{0}\".format(pred))\n",
    "            print(\"\\t\\033[0;35mConfidence:\\033[1;35m %0.5f%%\" % (prob[1] * 100))\n",
    "        \n",
    "        print()"
   ]
  },
  {
   "cell_type": "markdown",
   "metadata": {},
   "source": [
    "### Begin testing pipeline"
   ]
  },
  {
   "cell_type": "markdown",
   "metadata": {},
   "source": [
    "First, we need example reviews to classify.\n",
    "\n",
    "These are reviews that were misclassified by some earlier models, let's see if the pipeline improvements make it better.\n",
    "\n",
    "Also, these are for professors that we all had together :)"
   ]
  },
  {
   "cell_type": "code",
   "execution_count": 5,
   "metadata": {},
   "outputs": [],
   "source": [
    "# new comments to predict on\n",
    "docs = [\n",
    "    \"He has his own grading criteria, which may throw you off. Tests are divided into weekly quiz, which you can redo them for better grade. PAs are difficult and mimir grading provides limited info, but he do provide fast and helpful feedback via office hour or mail. I was too late when I realized that, so contact him quickly if PA is hurting you.\",\n",
    "    \"Makes the course unnecessarily hard. Passing a test with a C is uncommon. Don't be tricked by how nice of a guy he is, he wants to watch the world burn.\",\n",
    "    \"This Professor is a very helpful, but is extremely difficult. The homework is a lot of work and expect the final to very very difficult.\",\n",
    "    \"Think it was his first time teaching 221 so he was disorganized on the syllabus and assignments. Quite a bit of work so wouldn't recommend taking his class before ETAM. He pushes you to develop good programming practices. You'll come out of this class a better individual programmer but probably not with the best grade.\",\n",
    "    \"I have perspective transferring from TAMU to another University, this class is hard, and talking to graduate students from other institutions it's not hard to see why, there's typically graduate level DSA covered in this class. It's worth taking for that reason alone. The depth, and content covered makes this the most important class in TAMU CS.\",\n",
    "    \"Insufferable lectures, but an easy grader. She may be the professor you want, but she is not the professor you need.\",\n",
    "    \"Leyk is a decent teacher for 121. This was the first semester she taught the course I believe so it was kinda all over the place, but she did a good job. HW isn't impossible or unreasonable and there's plenty of help. Also only having a final project and no final exam was nice.\"\n",
    "]"
   ]
  },
  {
   "cell_type": "markdown",
   "metadata": {},
   "source": [
    "Preprocess comments to ensure uniformity"
   ]
  },
  {
   "cell_type": "code",
   "execution_count": 6,
   "metadata": {},
   "outputs": [],
   "source": [
    "preproc_comments = basicPreproc(docs)"
   ]
  },
  {
   "cell_type": "markdown",
   "metadata": {},
   "source": [
    "Using pipeline, predict sentiments of each comment, as well as confidence thereof"
   ]
  },
  {
   "cell_type": "code",
   "execution_count": 7,
   "metadata": {},
   "outputs": [],
   "source": [
    "preds = sent_pipe.predict(preproc_comments)\n",
    "probs = sent_pipe.predict_proba(preproc_comments).tolist()          # probs is a list of lists, shown below for clarity"
   ]
  },
  {
   "cell_type": "markdown",
   "metadata": {},
   "source": [
    "Output results"
   ]
  },
  {
   "cell_type": "code",
   "execution_count": 8,
   "metadata": {},
   "outputs": [
    {
     "name": "stdout",
     "output_type": "stream",
     "text": [
      "\u001b[2;32mComment: \u001b[0;37mHe has his own grading criteria, which may throw you off. Tests are divided into weekly quiz, which you can redo them for better grade. PAs are difficult and mimir grading provides limited info, but he do provide fast and helpful feedback via office hour or mail. I was too late when I realized that, so contact him quickly if PA is hurting you.\n",
      "\u001b[0;31mSentiment: \u001b[0;31m0\n",
      "\t\u001b[0;35mConfidence:\u001b[1;35m 99.99527%\n",
      "\n",
      "\u001b[2;32mComment: \u001b[0;37mMakes the course unnecessarily hard. Passing a test with a C is uncommon. Don't be tricked by how nice of a guy he is, he wants to watch the world burn.\n",
      "\u001b[0;31mSentiment: \u001b[0;31m0\n",
      "\t\u001b[0;35mConfidence:\u001b[1;35m 96.02287%\n",
      "\n",
      "\u001b[2;32mComment: \u001b[0;37mThis Professor is a very helpful, but is extremely difficult. The homework is a lot of work and expect the final to very very difficult.\n",
      "\u001b[0;34mSentiment: \u001b[0;34m1\n",
      "\t\u001b[0;35mConfidence:\u001b[1;35m 99.91636%\n",
      "\n",
      "\u001b[2;32mComment: \u001b[0;37mThink it was his first time teaching 221 so he was disorganized on the syllabus and assignments. Quite a bit of work so wouldn't recommend taking his class before ETAM. He pushes you to develop good programming practices. You'll come out of this class a better individual programmer but probably not with the best grade.\n",
      "\u001b[0;34mSentiment: \u001b[0;34m1\n",
      "\t\u001b[0;35mConfidence:\u001b[1;35m 99.99698%\n",
      "\n",
      "\u001b[2;32mComment: \u001b[0;37mI have perspective transferring from TAMU to another University, this class is hard, and talking to graduate students from other institutions it's not hard to see why, there's typically graduate level DSA covered in this class. It's worth taking for that reason alone. The depth, and content covered makes this the most important class in TAMU CS.\n",
      "\u001b[0;31mSentiment: \u001b[0;31m0\n",
      "\t\u001b[0;35mConfidence:\u001b[1;35m 99.99362%\n",
      "\n",
      "\u001b[2;32mComment: \u001b[0;37mInsufferable lectures, but an easy grader. She may be the professor you want, but she is not the professor you need.\n",
      "\u001b[0;34mSentiment: \u001b[0;34m1\n",
      "\t\u001b[0;35mConfidence:\u001b[1;35m 99.37992%\n",
      "\n",
      "\u001b[2;32mComment: \u001b[0;37mLeyk is a decent teacher for 121. This was the first semester she taught the course I believe so it was kinda all over the place, but she did a good job. HW isn't impossible or unreasonable and there's plenty of help. Also only having a final project and no final exam was nice.\n",
      "\u001b[0;31mSentiment: \u001b[0;31m0\n",
      "\t\u001b[0;35mConfidence:\u001b[1;35m 89.61741%\n",
      "\n"
     ]
    }
   ],
   "source": [
    "printResults(docs, preds, probs)"
   ]
  },
  {
   "cell_type": "markdown",
   "metadata": {},
   "source": [
    "#### Examining probability values\n",
    "\n",
    "List of lists, where inner lists represent probabilities for a single comment\n",
    "\n",
    "ie. `probs[1][0]` (0.960228721961716) represents the confidence with which the model believes the second comment has a *negative* sentiment, and the value next to it (0.03977127803830788) is the likelihood that it has *positive* sentiment"
   ]
  },
  {
   "cell_type": "code",
   "execution_count": 9,
   "metadata": {},
   "outputs": [
    {
     "data": {
      "text/plain": [
       "[[0.9999527030073255, 4.7296992719313765e-05],\n",
       " [0.960228721961716, 0.03977127803830788],\n",
       " [0.0008364494577630544, 0.9991635505422285],\n",
       " [3.0200411033148475e-05, 0.9999697995889829],\n",
       " [0.9999361542766583, 6.384572329533306e-05],\n",
       " [0.006200802878954854, 0.993799197121028],\n",
       " [0.8961740800108247, 0.10382591998917863]]"
      ]
     },
     "execution_count": 9,
     "metadata": {},
     "output_type": "execute_result"
    }
   ],
   "source": [
    "probs"
   ]
  }
 ],
 "metadata": {
  "kernelspec": {
   "display_name": "Python 3.9.13 64-bit (windows store)",
   "language": "python",
   "name": "python3"
  },
  "language_info": {
   "codemirror_mode": {
    "name": "ipython",
    "version": 3
   },
   "file_extension": ".py",
   "mimetype": "text/x-python",
   "name": "python",
   "nbconvert_exporter": "python",
   "pygments_lexer": "ipython3",
   "version": "3.9.13"
  },
  "orig_nbformat": 4,
  "vscode": {
   "interpreter": {
    "hash": "ed8ce2715666cca47edfe3dc40f16f58fc193b5a7b06958e2ae06c97afdf9990"
   }
  }
 },
 "nbformat": 4,
 "nbformat_minor": 2
}
