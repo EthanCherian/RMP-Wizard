{
 "cells": [
  {
   "cell_type": "markdown",
   "metadata": {},
   "source": [
    "## Random Forest Classifier for sentiment analysis\n",
    "\n",
    "Borrowing almost entirely from https://www.kaggle.com/code/onadegibert/sentiment-analysis-with-tfidf-and-random-forest/notebook\n",
    "\n",
    "For more info on how random forests work, see https://towardsdatascience.com/understanding-random-forest-58381e0602d2"
   ]
  },
  {
   "cell_type": "code",
   "execution_count": 5,
   "metadata": {},
   "outputs": [],
   "source": [
    "import pandas as pd\n",
    "import numpy as np\n",
    "import seaborn as sns\n",
    "import matplotlib.pyplot as plt\n",
    "\n",
    "import re\n",
    "import nltk\n",
    "%matplotlib inline"
   ]
  },
  {
   "cell_type": "code",
   "execution_count": 6,
   "metadata": {},
   "outputs": [
    {
     "data": {
      "text/html": [
       "<div>\n",
       "<style scoped>\n",
       "    .dataframe tbody tr th:only-of-type {\n",
       "        vertical-align: middle;\n",
       "    }\n",
       "\n",
       "    .dataframe tbody tr th {\n",
       "        vertical-align: top;\n",
       "    }\n",
       "\n",
       "    .dataframe thead th {\n",
       "        text-align: right;\n",
       "    }\n",
       "</style>\n",
       "<table border=\"1\" class=\"dataframe\">\n",
       "  <thead>\n",
       "    <tr style=\"text-align: right;\">\n",
       "      <th></th>\n",
       "      <th>firstName</th>\n",
       "      <th>lastName</th>\n",
       "      <th>comment</th>\n",
       "      <th>clarityRating</th>\n",
       "      <th>cleaned comment</th>\n",
       "      <th>sentiment</th>\n",
       "    </tr>\n",
       "  </thead>\n",
       "  <tbody>\n",
       "    <tr>\n",
       "      <th>0</th>\n",
       "      <td>Peter</td>\n",
       "      <td>Williams</td>\n",
       "      <td>A great professor who really cares about his s...</td>\n",
       "      <td>5</td>\n",
       "      <td>great professor care student</td>\n",
       "      <td>1</td>\n",
       "    </tr>\n",
       "    <tr>\n",
       "      <th>1</th>\n",
       "      <td>Eric</td>\n",
       "      <td>Lehman</td>\n",
       "      <td>I don't know why people would say he does not ...</td>\n",
       "      <td>5</td>\n",
       "      <td>don t know people care class , accept b , grad...</td>\n",
       "      <td>1</td>\n",
       "    </tr>\n",
       "    <tr>\n",
       "      <th>2</th>\n",
       "      <td>Betsy</td>\n",
       "      <td>Glade</td>\n",
       "      <td>Even though the book you have to read is prett...</td>\n",
       "      <td>4</td>\n",
       "      <td>book read pretty difficult , test easy answer ...</td>\n",
       "      <td>1</td>\n",
       "    </tr>\n",
       "    <tr>\n",
       "      <th>3</th>\n",
       "      <td>Donald</td>\n",
       "      <td>Heckelman</td>\n",
       "      <td>Good teacher, although his lectures are very s...</td>\n",
       "      <td>4</td>\n",
       "      <td>good teacher , lecture stale</td>\n",
       "      <td>1</td>\n",
       "    </tr>\n",
       "    <tr>\n",
       "      <th>4</th>\n",
       "      <td>David</td>\n",
       "      <td>Lipset</td>\n",
       "      <td>Rude to students with questions, dry speech, r...</td>\n",
       "      <td>3</td>\n",
       "      <td>rude student question , dry speech , ramble ea...</td>\n",
       "      <td>1</td>\n",
       "    </tr>\n",
       "  </tbody>\n",
       "</table>\n",
       "</div>"
      ],
      "text/plain": [
       "  firstName   lastName                                            comment  \\\n",
       "0     Peter   Williams  A great professor who really cares about his s...   \n",
       "1      Eric     Lehman  I don't know why people would say he does not ...   \n",
       "2     Betsy      Glade  Even though the book you have to read is prett...   \n",
       "3    Donald  Heckelman  Good teacher, although his lectures are very s...   \n",
       "4     David     Lipset  Rude to students with questions, dry speech, r...   \n",
       "\n",
       "   clarityRating                                    cleaned comment  sentiment  \n",
       "0              5                       great professor care student          1  \n",
       "1              5  don t know people care class , accept b , grad...          1  \n",
       "2              4  book read pretty difficult , test easy answer ...          1  \n",
       "3              4                       good teacher , lecture stale          1  \n",
       "4              3  rude student question , dry speech , ramble ea...          1  "
      ]
     },
     "execution_count": 6,
     "metadata": {},
     "output_type": "execute_result"
    }
   ],
   "source": [
    "reviews = pd.read_csv(\"comments_preproc.csv\", index_col=0).sample(n=50000, random_state=0)\n",
    "reviews.reset_index(drop=True, inplace=True)\n",
    "reviews.dropna(subset=[\"cleaned comment\"], inplace=True)\n",
    "\n",
    "reviews.head()"
   ]
  },
  {
   "cell_type": "code",
   "execution_count": 7,
   "metadata": {},
   "outputs": [
    {
     "data": {
      "text/plain": [
       " 1    30525\n",
       "-1    13207\n",
       " 0     6266\n",
       "Name: sentiment, dtype: int64"
      ]
     },
     "execution_count": 7,
     "metadata": {},
     "output_type": "execute_result"
    }
   ],
   "source": [
    "reviews[\"sentiment\"] = reviews[\"clarityRating\"].apply(lambda x: 1 if x > 3 else 0 if x == 3 else -1)\n",
    "reviews[\"sentiment\"].value_counts()"
   ]
  },
  {
   "cell_type": "markdown",
   "metadata": {},
   "source": [
    "**interesting pie chart of sentiment values, should be included in EDA not here lol**"
   ]
  },
  {
   "cell_type": "code",
   "execution_count": 8,
   "metadata": {},
   "outputs": [
    {
     "data": {
      "image/png": "[encoded data removed]",
      "text/plain": [
       "<Figure size 432x432 with 1 Axes>"
      ]
     },
     "metadata": {},
     "output_type": "display_data"
    }
   ],
   "source": [
    "reviews[\"sentiment\"].value_counts().plot.pie(figsize=(6,6), title=\"Distribution of comment sentiment (100k sample)\", labels=[\"\",\"\",\"\"], autopct=\"%1.1f%%\")\n",
    "labels = [\"Positive\", \"Negative\", \"Neutral\"]\n",
    "plt.legend(labels, loc=3)\n",
    "plt.gca().set_aspect(\"equal\")"
   ]
  },
  {
   "cell_type": "code",
   "execution_count": 9,
   "metadata": {},
   "outputs": [
    {
     "name": "stdout",
     "output_type": "stream",
     "text": [
      "Data distribution:\n",
      "- Train: 24999 \n",
      "- Validation: 12499 \n",
      "- Test: 12500\n"
     ]
    }
   ],
   "source": [
    "from sklearn.model_selection import train_test_split\n",
    "X = reviews[\"cleaned comment\"]\n",
    "y = reviews[\"sentiment\"]\n",
    "\n",
    "X_train, X_test, y_train, y_test = train_test_split(X, y, test_size=0.5, random_state=0)\n",
    "X_val, X_test, y_val, y_test = train_test_split(X_test, y_test, test_size=0.5, random_state=0)\n",
    "\n",
    "print(\"Data distribution:\\n- Train: {} \\n- Validation: {} \\n- Test: {}\".format(len(y_train),len(y_val),len(y_test)))"
   ]
  },
  {
   "cell_type": "code",
   "execution_count": 10,
   "metadata": {},
   "outputs": [],
   "source": [
    "from sklearn.feature_extraction.text import TfidfVectorizer\n",
    "def vectorize(data, tfidf_vect_fit):\n",
    "    X_tfidf = tfidf_vect_fit.transform(data)\n",
    "    words = tfidf_vect_fit.get_feature_names_out()\n",
    "    X_tfidf_df = pd.DataFrame(X_tfidf.toarray())\n",
    "    X_tfidf_df.columns = words\n",
    "    return X_tfidf_df"
   ]
  },
  {
   "cell_type": "code",
   "execution_count": 11,
   "metadata": {},
   "outputs": [],
   "source": [
    "tfidf_vect = TfidfVectorizer()\n",
    "tfidf_vect_fit = tfidf_vect.fit(X_train)\n",
    "X_train = vectorize(X_train, tfidf_vect_fit)"
   ]
  },
  {
   "cell_type": "markdown",
   "metadata": {},
   "source": [
    "### Preliminary RF model without hyperparameters\n",
    "\n",
    "Use 5-cross-fold validation"
   ]
  },
  {
   "cell_type": "code",
   "execution_count": 15,
   "metadata": {},
   "outputs": [],
   "source": [
    "from sklearn.ensemble import RandomForestClassifier\n",
    "from sklearn.model_selection import cross_val_score\n",
    "\n",
    "rf = RandomForestClassifier()"
   ]
  },
  {
   "cell_type": "code",
   "execution_count": 26,
   "metadata": {},
   "outputs": [
    {
     "name": "stdout",
     "output_type": "stream",
     "text": [
      "[0.7388     0.7402     0.7472     0.7436     0.73574715]\n"
     ]
    },
    {
     "data": {
      "text/plain": [
       "0.7411094298859773"
      ]
     },
     "execution_count": 26,
     "metadata": {},
     "output_type": "execute_result"
    }
   ],
   "source": [
    "scores = cross_val_score(rf, X_train, y_train.values.ravel(), cv=5)\n",
    "\n",
    "print(scores)\n",
    "scores.mean()"
   ]
  },
  {
   "cell_type": "markdown",
   "metadata": {},
   "source": [
    "### Now, try hyperparameter tuning using GridSearchCV"
   ]
  },
  {
   "cell_type": "code",
   "execution_count": 12,
   "metadata": {},
   "outputs": [],
   "source": [
    "def print_results(results):\n",
    "    print('BEST PARAMS: {}\\n'.format(results.best_params_))\n",
    "\n",
    "    means = results.cv_results_['mean_test_score']\n",
    "    stds = results.cv_results_['std_test_score']\n",
    "    for mean, std, params in zip(means, stds, results.cv_results_['params']):\n",
    "        print('{} (+/-{}) for {}'.format(round(mean, 3), round(std * 2, 3), params))"
   ]
  },
  {
   "cell_type": "code",
   "execution_count": 16,
   "metadata": {},
   "outputs": [
    {
     "name": "stdout",
     "output_type": "stream",
     "text": [
      "BEST PARAMS: {'max_depth': None, 'n_estimators': 100}\n",
      "\n",
      "0.612 (+/-0.0) for {'max_depth': 2, 'n_estimators': 5}\n",
      "0.612 (+/-0.0) for {'max_depth': 2, 'n_estimators': 50}\n",
      "0.612 (+/-0.0) for {'max_depth': 2, 'n_estimators': 100}\n",
      "0.621 (+/-0.006) for {'max_depth': 10, 'n_estimators': 5}\n",
      "0.613 (+/-0.001) for {'max_depth': 10, 'n_estimators': 50}\n",
      "0.612 (+/-0.0) for {'max_depth': 10, 'n_estimators': 100}\n",
      "0.642 (+/-0.005) for {'max_depth': 20, 'n_estimators': 5}\n",
      "0.625 (+/-0.004) for {'max_depth': 20, 'n_estimators': 50}\n",
      "0.627 (+/-0.006) for {'max_depth': 20, 'n_estimators': 100}\n",
      "0.68 (+/-0.009) for {'max_depth': None, 'n_estimators': 5}\n",
      "0.738 (+/-0.006) for {'max_depth': None, 'n_estimators': 50}\n",
      "0.741 (+/-0.004) for {'max_depth': None, 'n_estimators': 100}\n"
     ]
    }
   ],
   "source": [
    "from sklearn.model_selection import GridSearchCV\n",
    "\n",
    "rf = RandomForestClassifier()\n",
    "parameters = {\n",
    "    \"n_estimators\": [5,50,100],\n",
    "    \"max_depth\": [2,10,20,None]\n",
    "}\n",
    "\n",
    "cv = GridSearchCV(rf, parameters)\n",
    "cv.fit(X_train, y_train.values.ravel())\n",
    "print_results(cv)"
   ]
  },
  {
   "cell_type": "code",
   "execution_count": 17,
   "metadata": {},
   "outputs": [
    {
     "data": {
      "text/plain": [
       "RandomForestClassifier()"
      ]
     },
     "execution_count": 17,
     "metadata": {},
     "output_type": "execute_result"
    }
   ],
   "source": [
    "cv.best_estimator_"
   ]
  },
  {
   "cell_type": "code",
   "execution_count": 18,
   "metadata": {},
   "outputs": [
    {
     "data": {
      "text/plain": [
       "RandomForestClassifier(n_estimators=50)"
      ]
     },
     "execution_count": 18,
     "metadata": {},
     "output_type": "execute_result"
    }
   ],
   "source": [
    "X_val = vectorize(X_val, tfidf_vect_fit)\n",
    "\n",
    "rf1 = RandomForestClassifier(n_estimators=100, max_depth=20)\n",
    "rf1.fit(X_train, y_train.values.ravel())\n",
    "\n",
    "rf2 = RandomForestClassifier(n_estimators=100, max_depth=None)\n",
    "rf2.fit(X_train, y_train.values.ravel())\n",
    "\n",
    "rf3 = RandomForestClassifier(n_estimators=50, max_depth=None)\n",
    "rf3.fit(X_train, y_train.values.ravel())"
   ]
  },
  {
   "cell_type": "code",
   "execution_count": 25,
   "metadata": {},
   "outputs": [
    {
     "name": "stderr",
     "output_type": "stream",
     "text": [
      "C:\\Users\\ethan\\AppData\\Local\\Packages\\PythonSoftwareFoundation.Python.3.9_qbz5n2kfra8p0\\LocalCache\\local-packages\\Python39\\site-packages\\sklearn\\metrics\\_classification.py:1318: UndefinedMetricWarning: Precision is ill-defined and being set to 0.0 in labels with no predicted samples. Use `zero_division` parameter to control this behavior.\n",
      "  _warn_prf(average, modifier, msg_start, len(result))\n"
     ]
    },
    {
     "name": "stdout",
     "output_type": "stream",
     "text": [
      "MAX DEPTH: 20 / # OF EST: 100 -- A: 0.619 / P: 0.621 / R: 0.619\n",
      "MAX DEPTH: None / # OF EST: 100 -- A: 0.74 / P: 0.712 / R: 0.74\n",
      "MAX DEPTH: None / # OF EST: 50 -- A: 0.738 / P: 0.672 / R: 0.738\n"
     ]
    }
   ],
   "source": [
    "from sklearn.metrics import accuracy_score,precision_score,recall_score\n",
    "\n",
    "for mdl in [rf1,rf2,rf3]:\n",
    "    y_pred = mdl.predict(X_val)\n",
    "    accuracy = round(accuracy_score(y_val,y_pred), 3)\n",
    "    precision = round(precision_score(y_val,y_pred, average=\"weighted\"), 3)\n",
    "    recall = round(recall_score(y_val,y_pred, average=\"weighted\"), 3)\n",
    "    print('MAX DEPTH: {} / # OF EST: {} -- A: {} / P: {} / R: {}'.format(mdl.max_depth,\n",
    "                                                                         mdl.n_estimators,\n",
    "                                                                         accuracy,\n",
    "                                                                         precision,\n",
    "                                                                         recall))"
   ]
  },
  {
   "cell_type": "code",
   "execution_count": 23,
   "metadata": {},
   "outputs": [
    {
     "data": {
      "image/png": "[encoded data removed]",
      "text/plain": [
       "<Figure size 720x720 with 1 Axes>"
      ]
     },
     "metadata": {
      "needs_background": "light"
     },
     "output_type": "display_data"
    }
   ],
   "source": [
    "feat_importances = pd.Series(rf2.feature_importances_, index=X_train.columns)\n",
    "feat_importances.nlargest(20).plot(kind='bar',figsize=(10,10))\n",
    "plt.title(\"Top 20 important features\")\n",
    "plt.xticks(rotation=45)\n",
    "plt.show()"
   ]
  },
  {
   "cell_type": "markdown",
   "metadata": {},
   "source": [
    "## Use bigrams instead, hope it works better :)"
   ]
  },
  {
   "cell_type": "code",
   "execution_count": 27,
   "metadata": {},
   "outputs": [
    {
     "data": {
      "text/plain": [
       "<generator object bigrams at 0x00000275B22CA040>"
      ]
     },
     "execution_count": 27,
     "metadata": {},
     "output_type": "execute_result"
    }
   ],
   "source": [
    "all_words = \" \".join([text for text in reviews[\"cleaned comment\"]])\n",
    "all_words = all_words.split()\n",
    "bgrams = nltk.bigrams(all_words)\n",
    "bgrams"
   ]
  }
 ],
 "metadata": {
  "kernelspec": {
   "display_name": "Python 3.9.13 64-bit (windows store)",
   "language": "python",
   "name": "python3"
  },
  "language_info": {
   "codemirror_mode": {
    "name": "ipython",
    "version": 3
   },
   "file_extension": ".py",
   "mimetype": "text/x-python",
   "name": "python",
   "nbconvert_exporter": "python",
   "pygments_lexer": "ipython3",
   "version": "3.9.13"
  },
  "orig_nbformat": 4,
  "vscode": {
   "interpreter": {
    "hash": "ed8ce2715666cca47edfe3dc40f16f58fc193b5a7b06958e2ae06c97afdf9990"
   }
  }
 },
 "nbformat": 4,
 "nbformat_minor": 2
}
