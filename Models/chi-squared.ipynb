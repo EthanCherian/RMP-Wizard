{
 "cells": [
  {
   "cell_type": "markdown",
   "metadata": {},
   "source": [
    "# Chi Squared Model\n",
    "\n",
    "http://ethen8181.github.io/machine-learning/text_classification/chisquare.html"
   ]
  },
  {
   "cell_type": "code",
   "execution_count": 1,
   "metadata": {},
   "outputs": [],
   "source": [
    "import pandas as pd\n",
    "import numpy as np\n",
    "import matplotlib.pyplot as plt\n",
    "%matplotlib inline\n",
    "\n",
    "from sklearn.feature_selection import chi2, SelectKBest, SelectPercentile\n",
    "from sklearn.feature_extraction.text import CountVectorizer\n",
    "\n",
    "from sklearn.metrics import accuracy_score, f1_score\n",
    "from sklearn.model_selection import train_test_split\n",
    "from sklearn.naive_bayes import MultinomialNB"
   ]
  },
  {
   "cell_type": "code",
   "execution_count": 2,
   "metadata": {},
   "outputs": [],
   "source": [
    "reviews = pd.read_csv(\"../Data/comments_preproc.csv\").sample(n=20000, random_state=0)\n",
    "reviews.dropna(subset=[\"cleanedComment\"], inplace=True)\n",
    "reviews.reset_index(drop=True, inplace=True)"
   ]
  },
  {
   "cell_type": "code",
   "execution_count": 3,
   "metadata": {},
   "outputs": [],
   "source": [
    "def graphPercentiles(X_new, y):\n",
    "    percs = range(5, 31, 5)\n",
    "    accs = []\n",
    "    for p in percs:\n",
    "        print(\"Starting loop iteration for top {0}%\".format(p))\n",
    "        percbest = SelectPercentile(score_func=chi2, percentile=p)\n",
    "        X_percbest = percbest.fit_transform(X_new, y)\n",
    "        print(\"\\tDone selecting, fitting, and transforming percentile\")\n",
    "\n",
    "        X_train, X_test, y_train, y_test = train_test_split(X_percbest, y, test_size=0.2, stratify=y, random_state=1)        # split into training and testing subsets\n",
    "    \n",
    "        model = MultinomialNB().fit(X_train, y_train)           # create and fit model, use it to predict outcomes on test set\n",
    "        print(\"\\tDone fitting Naive Bayes\")\n",
    "        y_pred = model.predict(X_test)\n",
    "        print(\"\\tDone predicting\")\n",
    "\n",
    "        accs.append(accuracy_score(y_test, y_pred))\n",
    "        print(\"Finished loop iteration for top {0}%\\n\".format(p))\n",
    "    \n",
    "    plt.scatter(percs, accs)\n",
    "    plt.figure(figsize=(25,5))\n",
    "    plt.show()"
   ]
  },
  {
   "cell_type": "code",
   "execution_count": 4,
   "metadata": {},
   "outputs": [],
   "source": [
    "def graphSelections(X_new, y):\n",
    "    ks = range(1000, 5001, 250)\n",
    "    accs = []\n",
    "    for k in ks:\n",
    "        print(\"Starting loop iteration for top {0} features\".format(k))\n",
    "        percbest = SelectKBest(score_func=chi2, k=k)\n",
    "        X_percbest = percbest.fit_transform(X_new, y)\n",
    "\n",
    "        X_train, X_test, y_train, y_test = train_test_split(X_percbest, y, test_size=0.2, stratify=y, random_state=1)        # split into training and testing subsets\n",
    "    \n",
    "        model = MultinomialNB().fit(X_train, y_train)           # create and fit model, use it to predict outcomes on test set\n",
    "        y_pred = model.predict(X_test)\n",
    "\n",
    "        accs.append(accuracy_score(y_test, y_pred))\n",
    "        print(\"Finished loop iteration for top {0} features\".format(k))\n",
    "    \n",
    "    plt.scatter(ks, accs)\n",
    "    plt.figure(figsize=(25,5))\n",
    "    plt.show()"
   ]
  },
  {
   "cell_type": "markdown",
   "metadata": {},
   "source": [
    "### Graph performance\n",
    "\n",
    "wrt to top % or top k features selected"
   ]
  },
  {
   "cell_type": "code",
   "execution_count": 5,
   "metadata": {},
   "outputs": [],
   "source": [
    "#graphPercentiles(X_dtm, y)"
   ]
  },
  {
   "cell_type": "code",
   "execution_count": 6,
   "metadata": {},
   "outputs": [],
   "source": [
    "#graphSelections(X_dtm, y)"
   ]
  },
  {
   "cell_type": "code",
   "execution_count": 7,
   "metadata": {},
   "outputs": [],
   "source": [
    "def evalPerformance(y_pred, y_test, mode=\"weighted\"):\n",
    "    acc_score = accuracy_score(y_test, y_pred)\n",
    "    print(\"Accuracy Score: \" + str(acc_score * 100))\n",
    "\n",
    "    f1 = f1_score(y_test, y_pred, average=mode)\n",
    "    print(\"F1 Score: {0}\".format(f1 * 100))"
   ]
  },
  {
   "cell_type": "code",
   "execution_count": 8,
   "metadata": {},
   "outputs": [],
   "source": [
    "def runChi2Model(ngr=(1,1)):\n",
    "    cv = CountVectorizer(ngram_range=ngr)           # prepare elements for general NB model\n",
    "    X = cv.fit_transform(reviews[\"cleanedComment\"]).toarray()\n",
    "    y = reviews[\"sentiment\"]\n",
    "\n",
    "    percbest = SelectPercentile(score_func=chi2, percentile=25)      # select 25% most important features\n",
    "    X_percbest = percbest.fit_transform(X, y)\n",
    "\n",
    "    X_train, X_test, y_train, y_test = train_test_split(X_percbest, y, test_size=0.2, stratify=y, random_state=1)        # split into training and testing subsets\n",
    "    model = MultinomialNB().fit(X_train, y_train)           # create and fit model, use it to predict outcomes on test set\n",
    "    y_pred = model.predict(X_test)\n",
    "\n",
    "    evalPerformance(y_pred, y_test)"
   ]
  },
  {
   "cell_type": "markdown",
   "metadata": {},
   "source": [
    "### Use optimal k% with all three input types"
   ]
  },
  {
   "cell_type": "code",
   "execution_count": 9,
   "metadata": {},
   "outputs": [
    {
     "name": "stdout",
     "output_type": "stream",
     "text": [
      "Accuracy Score: 88.55\n",
      "F1 Score: 88.34534227118931\n"
     ]
    }
   ],
   "source": [
    "runChi2Model(ngr=(1,1))     # unigrams"
   ]
  },
  {
   "cell_type": "code",
   "execution_count": 10,
   "metadata": {},
   "outputs": [
    {
     "name": "stdout",
     "output_type": "stream",
     "text": [
      "Accuracy Score: 81.8\n",
      "F1 Score: 78.78602787559751\n"
     ]
    }
   ],
   "source": [
    "runChi2Model(ngr=(2,2))     # bigrams"
   ]
  },
  {
   "cell_type": "code",
   "execution_count": 11,
   "metadata": {},
   "outputs": [
    {
     "name": "stdout",
     "output_type": "stream",
     "text": [
      "Accuracy Score: 90.17500000000001\n",
      "F1 Score: 89.56781012495274\n"
     ]
    }
   ],
   "source": [
    "runChi2Model(ngr=(1,2))     # unigrams + bigrams"
   ]
  }
 ],
 "metadata": {
  "kernelspec": {
   "display_name": "Python 3.9.13 64-bit (windows store)",
   "language": "python",
   "name": "python3"
  },
  "language_info": {
   "codemirror_mode": {
    "name": "ipython",
    "version": 3
   },
   "file_extension": ".py",
   "mimetype": "text/x-python",
   "name": "python",
   "nbconvert_exporter": "python",
   "pygments_lexer": "ipython3",
   "version": "3.9.13"
  },
  "orig_nbformat": 4,
  "vscode": {
   "interpreter": {
    "hash": "ed8ce2715666cca47edfe3dc40f16f58fc193b5a7b06958e2ae06c97afdf9990"
   }
  }
 },
 "nbformat": 4,
 "nbformat_minor": 2
}
