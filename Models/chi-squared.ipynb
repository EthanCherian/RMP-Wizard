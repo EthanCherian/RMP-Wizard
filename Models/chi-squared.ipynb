{
 "cells": [
  {
   "cell_type": "markdown",
   "metadata": {},
   "source": [
    "# Chi Squared Model\n",
    "\n",
    "http://ethen8181.github.io/machine-learning/text_classification/chisquare.html"
   ]
  },
  {
   "cell_type": "code",
   "execution_count": 1,
   "metadata": {},
   "outputs": [],
   "source": [
    "import pandas as pd\n",
    "import numpy as np\n",
    "import matplotlib.pyplot as plt\n",
    "%matplotlib inline\n",
    "\n",
    "from sklearn.feature_selection import chi2, SelectKBest, SelectPercentile\n",
    "from sklearn.feature_extraction.text import CountVectorizer\n",
    "\n",
    "from sklearn.metrics import accuracy_score\n",
    "from sklearn.model_selection import train_test_split\n",
    "from sklearn.naive_bayes import MultinomialNB"
   ]
  },
  {
   "cell_type": "code",
   "execution_count": 2,
   "metadata": {},
   "outputs": [],
   "source": [
    "reviews = pd.read_csv(\"../Data/comments_preproc.csv\").sample(n=50000, random_state=0)\n",
    "reviews.dropna(subset=[\"cleanedComment\"], inplace=True)\n",
    "reviews.reset_index(drop=True, inplace=True)"
   ]
  },
  {
   "cell_type": "code",
   "execution_count": 3,
   "metadata": {},
   "outputs": [
    {
     "data": {
      "text/plain": [
       "1    36793\n",
       "0    13206\n",
       "Name: sentiment, dtype: int64"
      ]
     },
     "execution_count": 3,
     "metadata": {},
     "output_type": "execute_result"
    }
   ],
   "source": [
    "cv = CountVectorizer()\n",
    "\n",
    "X = reviews[\"cleanedComment\"]\n",
    "y = reviews[\"sentiment\"]\n",
    "\n",
    "y.value_counts()"
   ]
  },
  {
   "cell_type": "code",
   "execution_count": 4,
   "metadata": {},
   "outputs": [],
   "source": [
    "X_dtm = cv.fit_transform(X)\n",
    "X_dtm = X_dtm.toarray()\n",
    "#pd.DataFrame(X_dtm, columns=cv.get_feature_names_out())"
   ]
  },
  {
   "cell_type": "code",
   "execution_count": 5,
   "metadata": {},
   "outputs": [],
   "source": [
    "#y_binarized = LabelBinarizer().fit_transform(y)\n",
    "#print(y_binarized)\n",
    "#print()\n",
    "\n",
    "#observed = np.dot(y_binarized.T, X_dtm)\n",
    "#print(observed)"
   ]
  },
  {
   "cell_type": "code",
   "execution_count": 6,
   "metadata": {},
   "outputs": [],
   "source": [
    "#class_prob = y_binarized.mean(axis=0).reshape(1,-1)\n",
    "#feature_count = X_dtm.sum(axis=0).reshape(1,-1)\n",
    "#expected = np.dot(class_prob.T, feature_count)\n",
    "#print(expected)"
   ]
  },
  {
   "cell_type": "code",
   "execution_count": 7,
   "metadata": {},
   "outputs": [],
   "source": [
    "#chisq = (observed - expected) ** 2 / expected\n",
    "#chisq_score = chisq.sum(axis=0)\n",
    "#print(chisq_score)"
   ]
  },
  {
   "cell_type": "code",
   "execution_count": 8,
   "metadata": {},
   "outputs": [],
   "source": [
    "#chi2score = chi2(X_dtm, y)\n",
    "#chi2score"
   ]
  },
  {
   "cell_type": "code",
   "execution_count": 9,
   "metadata": {},
   "outputs": [],
   "source": [
    "def graphPercentiles(X_new, y):\n",
    "    percs = range(5, 31, 5)\n",
    "    accs = []\n",
    "    for p in percs:\n",
    "        print(\"Starting loop iteration for top {0}%\".format(p))\n",
    "        percbest = SelectPercentile(score_func=chi2, percentile=p)\n",
    "        X_percbest = percbest.fit_transform(X_new, y)\n",
    "        print(\"\\tDone selecting, fitting, and transforming percentile\")\n",
    "\n",
    "        X_train, X_test, y_train, y_test = train_test_split(X_percbest, y, test_size=0.2, stratify=y, random_state=1)        # split into training and testing subsets\n",
    "    \n",
    "        model = MultinomialNB().fit(X_train, y_train)           # create and fit model, use it to predict outcomes on test set\n",
    "        print(\"\\tDone fitting Naive Bayes\")\n",
    "        y_pred = model.predict(X_test)\n",
    "        print(\"\\tDone predicting\")\n",
    "\n",
    "        accs.append(accuracy_score(y_test, y_pred))\n",
    "        print(\"Finished loop iteration for top {0}%\\n\".format(p))\n",
    "    \n",
    "    plt.scatter(percs, accs)\n",
    "    plt.figure(figsize=(25,5))\n",
    "    plt.show()"
   ]
  },
  {
   "cell_type": "code",
   "execution_count": 13,
   "metadata": {},
   "outputs": [],
   "source": [
    "def graphSelections(X_new, y):\n",
    "    ks = range(1000, 5001, 250)\n",
    "    accs = []\n",
    "    for k in ks:\n",
    "        print(\"Starting loop iteration for top {0} features\".format(k))\n",
    "        percbest = SelectKBest(score_func=chi2, k=k)\n",
    "        X_percbest = percbest.fit_transform(X_new, y)\n",
    "\n",
    "        X_train, X_test, y_train, y_test = train_test_split(X_percbest, y, test_size=0.2, stratify=y, random_state=1)        # split into training and testing subsets\n",
    "    \n",
    "        model = MultinomialNB().fit(X_train, y_train)           # create and fit model, use it to predict outcomes on test set\n",
    "        y_pred = model.predict(X_test)\n",
    "\n",
    "        accs.append(accuracy_score(y_test, y_pred))\n",
    "        print(\"Finished loop iteration for top {0} features\".format(k))\n",
    "    \n",
    "    plt.scatter(ks, accs)\n",
    "    plt.figure(figsize=(25,5))\n",
    "    plt.show()"
   ]
  },
  {
   "cell_type": "code",
   "execution_count": 12,
   "metadata": {},
   "outputs": [
    {
     "name": "stdout",
     "output_type": "stream",
     "text": [
      "Starting loop iteration for top 5%\n",
      "\tDone selecting percentile\n",
      "\tDone fitting Naive Bayes\n",
      "\tDone predicting\n",
      "Finished loop iteration for top 5%\n",
      "\n",
      "Starting loop iteration for top 10%\n",
      "\tDone selecting percentile\n",
      "\tDone fitting Naive Bayes\n",
      "\tDone predicting\n",
      "Finished loop iteration for top 10%\n",
      "\n",
      "Starting loop iteration for top 15%\n",
      "\tDone selecting percentile\n",
      "\tDone fitting Naive Bayes\n",
      "\tDone predicting\n",
      "Finished loop iteration for top 15%\n",
      "\n",
      "Starting loop iteration for top 20%\n",
      "\tDone selecting percentile\n",
      "\tDone fitting Naive Bayes\n",
      "\tDone predicting\n",
      "Finished loop iteration for top 20%\n",
      "\n",
      "Starting loop iteration for top 25%\n",
      "\tDone selecting percentile\n",
      "\tDone fitting Naive Bayes\n",
      "\tDone predicting\n",
      "Finished loop iteration for top 25%\n",
      "\n",
      "Starting loop iteration for top 30%\n",
      "\tDone selecting percentile\n",
      "\tDone fitting Naive Bayes\n",
      "\tDone predicting\n",
      "Finished loop iteration for top 30%\n",
      "\n"
     ]
    },
    {
     "data": {
      "image/png": "[encoded data removed]",
      "text/plain": [
       "<Figure size 432x288 with 1 Axes>"
      ]
     },
     "metadata": {
      "needs_background": "light"
     },
     "output_type": "display_data"
    },
    {
     "data": {
      "text/plain": [
       "<Figure size 1800x360 with 0 Axes>"
      ]
     },
     "metadata": {},
     "output_type": "display_data"
    }
   ],
   "source": [
    "graphPercentiles(X_dtm, y)"
   ]
  },
  {
   "cell_type": "code",
   "execution_count": 14,
   "metadata": {},
   "outputs": [
    {
     "name": "stdout",
     "output_type": "stream",
     "text": [
      "Starting loop iteration for top 1000 features\n",
      "Finished loop iteration for top 1000 features\n",
      "Starting loop iteration for top 1250 features\n"
     ]
    }
   ],
   "source": [
    "graphSelections(X_dtm, y)"
   ]
  }
 ],
 "metadata": {
  "kernelspec": {
   "display_name": "Python 3.9.13 64-bit (windows store)",
   "language": "python",
   "name": "python3"
  },
  "language_info": {
   "codemirror_mode": {
    "name": "ipython",
    "version": 3
   },
   "file_extension": ".py",
   "mimetype": "text/x-python",
   "name": "python",
   "nbconvert_exporter": "python",
   "pygments_lexer": "ipython3",
   "version": "3.9.13"
  },
  "orig_nbformat": 4,
  "vscode": {
   "interpreter": {
    "hash": "ed8ce2715666cca47edfe3dc40f16f58fc193b5a7b06958e2ae06c97afdf9990"
   }
  }
 },
 "nbformat": 4,
 "nbformat_minor": 2
}
