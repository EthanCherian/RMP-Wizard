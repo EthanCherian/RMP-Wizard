{
 "cells": [
  {
   "cell_type": "markdown",
   "metadata": {},
   "source": [
    "# Support Vector Machine (SVM) model\n",
    "\n",
    "https://medium.com/@bedigunjit/simple-guide-to-text-classification-nlp-using-svm-and-naive-bayes-with-python-421db3a72d34\n",
    "\n",
    "For deeper intuition of SVM, see https://towardsdatascience.com/deep-dive-into-support-vector-machine-654c8d517103"
   ]
  },
  {
   "cell_type": "code",
   "execution_count": 3,
   "metadata": {},
   "outputs": [],
   "source": [
    "import pandas as pd\n",
    "import matplotlib.pyplot as plt\n",
    "%matplotlib inline\n",
    "\n",
    "from sklearn.feature_extraction.text import TfidfVectorizer\n",
    "from sklearn.model_selection import train_test_split\n",
    "from sklearn.svm import SVC\n",
    "from sklearn.metrics import accuracy_score, f1_score"
   ]
  },
  {
   "cell_type": "code",
   "execution_count": 4,
   "metadata": {},
   "outputs": [],
   "source": [
    "reviews = pd.read_csv(\"../Data/comments_preproc.csv\").sample(n=50000, random_state=0)\n",
    "reviews.dropna(subset=[\"cleanedComment\"], inplace=True)\n",
    "reviews.reset_index(inplace=True, drop=True)\n",
    "\n",
    "reviews[\"sentiment\"] = reviews[\"clarityRating\"].apply(lambda x: 1 if x > 2.5 else 0)"
   ]
  },
  {
   "cell_type": "code",
   "execution_count": 5,
   "metadata": {},
   "outputs": [],
   "source": [
    "X_train, X_test, y_train, y_test = train_test_split(reviews[\"cleanedComment\"], reviews[\"sentiment\"], test_size=0.2, random_state=1)"
   ]
  },
  {
   "cell_type": "code",
   "execution_count": 6,
   "metadata": {},
   "outputs": [],
   "source": [
    "def runSVM(ngr=(1,1), kernel=\"linear\", c=1):\n",
    "    tfidf_vect = TfidfVectorizer(max_features=7000, ngram_range=ngr)\n",
    "    tfidf_vect.fit(reviews[\"cleanedComment\"])\n",
    "\n",
    "    train_feat = tfidf_vect.transform(X_train)\n",
    "    test_feat = tfidf_vect.transform(X_test)\n",
    "\n",
    "    svm = SVC(C=c, kernel=kernel, degree=3, gamma=\"auto\")\n",
    "    svm.fit(train_feat, y_train)\n",
    "\n",
    "    y_pred = svm.predict(test_feat)\n",
    "\n",
    "    acc = accuracy_score(y_test, y_pred) * 100\n",
    "    print(\"Accuracy: {0}\".format(acc))\n",
    "    print(\"F1 Score: {0}\".format(f1_score(y_test, y_pred) * 100))\n",
    "\n",
    "    return acc"
   ]
  },
  {
   "cell_type": "code",
   "execution_count": 7,
   "metadata": {},
   "outputs": [],
   "source": [
    "def plotC():\n",
    "    c_vals = range(1, 10)\n",
    "    accs = []\n",
    "    for c in c_vals:\n",
    "        print(\"Running model for C = {0}\".format(c))\n",
    "        acc = runSVM(ngr=(1,2), c=c)\n",
    "        print(\"\\tFinished model for C = {0}\".format(c))\n",
    "        accs.append(acc)\n",
    "    \n",
    "    plt.scatter(c_vals, accs)\n",
    "    plt.figure(figsize=(25,5))\n",
    "    plt.show()"
   ]
  },
  {
   "cell_type": "code",
   "execution_count": 8,
   "metadata": {},
   "outputs": [
    {
     "name": "stdout",
     "output_type": "stream",
     "text": [
      "Running model for C = 1\n",
      "Accuracy: 87.03\n",
      "F1 Score: 91.35621459513494\n",
      "\tFinished model for C = 1\n",
      "Running model for C = 2\n",
      "Accuracy: 86.63\n",
      "F1 Score: 91.02744782229381\n",
      "\tFinished model for C = 2\n",
      "Running model for C = 3\n",
      "Accuracy: 86.38\n",
      "F1 Score: 90.85169263836646\n",
      "\tFinished model for C = 3\n",
      "Running model for C = 4\n",
      "Accuracy: 85.99\n",
      "F1 Score: 90.58277878604557\n",
      "\tFinished model for C = 4\n",
      "Running model for C = 5\n",
      "Accuracy: 85.71\n",
      "F1 Score: 90.37775233990976\n",
      "\tFinished model for C = 5\n",
      "Running model for C = 6\n",
      "Accuracy: 85.46000000000001\n",
      "F1 Score: 90.1889338731444\n",
      "\tFinished model for C = 6\n",
      "Running model for C = 7\n",
      "Accuracy: 85.28999999999999\n",
      "F1 Score: 90.07221434838361\n",
      "\tFinished model for C = 7\n",
      "Running model for C = 8\n",
      "Accuracy: 85.1\n",
      "F1 Score: 89.94058871185527\n",
      "\tFinished model for C = 8\n",
      "Running model for C = 9\n",
      "Accuracy: 84.97\n",
      "F1 Score: 89.85076642582214\n",
      "\tFinished model for C = 9\n"
     ]
    },
    {
     "data": {
      "image/png": "[encoded data removed]",
      "text/plain": [
       "<Figure size 432x288 with 1 Axes>"
      ]
     },
     "metadata": {
      "needs_background": "light"
     },
     "output_type": "display_data"
    },
    {
     "data": {
      "text/plain": [
       "<Figure size 1800x360 with 0 Axes>"
      ]
     },
     "metadata": {},
     "output_type": "display_data"
    }
   ],
   "source": [
    "plotC()"
   ]
  },
  {
   "cell_type": "code",
   "execution_count": 9,
   "metadata": {},
   "outputs": [],
   "source": [
    "def plotKernels():\n",
    "    kernels = [\"linear\", \"poly\", \"rbf\", \"sigmoid\"]\n",
    "    accs = []\n",
    "    for kernel in kernels:\n",
    "        print(\"Running model for Kernel type \\\"{0}\\\"\".format(kernel))\n",
    "        acc = runSVM(ngr=(1,2), kernel=kernel)\n",
    "        print(\"\\tFinished model for Kernel type \\\"{0}\\\"\".format(kernel))\n",
    "        accs.append(acc)\n",
    "    \n",
    "    plt.scatter(kernels, accs)\n",
    "    plt.figure(figsize=(25,5))\n",
    "    plt.show()"
   ]
  },
  {
   "cell_type": "code",
   "execution_count": 10,
   "metadata": {},
   "outputs": [
    {
     "name": "stdout",
     "output_type": "stream",
     "text": [
      "Running model for Kernel type \"linear\"\n",
      "Accuracy: 87.03\n",
      "F1 Score: 91.35621459513494\n",
      "\tFinished model for Kernel type \"linear\"\n",
      "Running model for Kernel type \"poly\"\n",
      "Accuracy: 73.58\n",
      "F1 Score: 84.77935245996082\n",
      "\tFinished model for Kernel type \"poly\"\n",
      "Running model for Kernel type \"rbf\"\n",
      "Accuracy: 73.58\n",
      "F1 Score: 84.77935245996082\n",
      "\tFinished model for Kernel type \"rbf\"\n",
      "Running model for Kernel type \"sigmoid\"\n",
      "Accuracy: 73.58\n",
      "F1 Score: 84.77935245996082\n",
      "\tFinished model for Kernel type \"sigmoid\"\n"
     ]
    },
    {
     "data": {
      "image/png": "[encoded data removed]",
      "text/plain": [
       "<Figure size 432x288 with 1 Axes>"
      ]
     },
     "metadata": {
      "needs_background": "light"
     },
     "output_type": "display_data"
    },
    {
     "data": {
      "text/plain": [
       "<Figure size 1800x360 with 0 Axes>"
      ]
     },
     "metadata": {},
     "output_type": "display_data"
    }
   ],
   "source": [
    "plotKernels()"
   ]
  },
  {
   "cell_type": "code",
   "execution_count": 14,
   "metadata": {},
   "outputs": [
    {
     "name": "stdout",
     "output_type": "stream",
     "text": [
      "Accuracy: 86.09\n",
      "F1 Score: 90.80330578512397\n"
     ]
    },
    {
     "data": {
      "text/plain": [
       "86.09"
      ]
     },
     "execution_count": 14,
     "metadata": {},
     "output_type": "execute_result"
    }
   ],
   "source": [
    "runSVM(ngr=(1,1))"
   ]
  },
  {
   "cell_type": "code",
   "execution_count": 15,
   "metadata": {},
   "outputs": [
    {
     "name": "stdout",
     "output_type": "stream",
     "text": [
      "Accuracy: 83.66\n",
      "F1 Score: 89.41435605079036\n"
     ]
    },
    {
     "data": {
      "text/plain": [
       "83.66"
      ]
     },
     "execution_count": 15,
     "metadata": {},
     "output_type": "execute_result"
    }
   ],
   "source": [
    "runSVM(ngr=(2,2))"
   ]
  },
  {
   "cell_type": "code",
   "execution_count": 16,
   "metadata": {},
   "outputs": [
    {
     "name": "stdout",
     "output_type": "stream",
     "text": [
      "Accuracy: 87.03\n",
      "F1 Score: 91.35621459513494\n"
     ]
    },
    {
     "data": {
      "text/plain": [
       "87.03"
      ]
     },
     "execution_count": 16,
     "metadata": {},
     "output_type": "execute_result"
    }
   ],
   "source": [
    "runSVM(ngr=(1,2))"
   ]
  }
 ],
 "metadata": {
  "kernelspec": {
   "display_name": "Python 3.9.13 64-bit (windows store)",
   "language": "python",
   "name": "python3"
  },
  "language_info": {
   "codemirror_mode": {
    "name": "ipython",
    "version": 3
   },
   "file_extension": ".py",
   "mimetype": "text/x-python",
   "name": "python",
   "nbconvert_exporter": "python",
   "pygments_lexer": "ipython3",
   "version": "3.9.13"
  },
  "orig_nbformat": 4,
  "vscode": {
   "interpreter": {
    "hash": "ed8ce2715666cca47edfe3dc40f16f58fc193b5a7b06958e2ae06c97afdf9990"
   }
  }
 },
 "nbformat": 4,
 "nbformat_minor": 2
}
