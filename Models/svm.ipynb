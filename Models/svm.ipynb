{
 "cells": [
  {
   "cell_type": "markdown",
   "metadata": {},
   "source": [
    "# Support Vector Machine (SVM) model\n",
    "\n",
    "https://medium.com/@bedigunjit/simple-guide-to-text-classification-nlp-using-svm-and-naive-bayes-with-python-421db3a72d34\n",
    "\n",
    "For deeper intuition of SVM, see https://towardsdatascience.com/deep-dive-into-support-vector-machine-654c8d517103"
   ]
  },
  {
   "cell_type": "code",
   "execution_count": 1,
   "metadata": {},
   "outputs": [],
   "source": [
    "import pandas as pd\n",
    "from sklearn.feature_extraction.text import TfidfVectorizer\n",
    "from sklearn.model_selection import train_test_split\n",
    "from sklearn.svm import SVC\n",
    "from sklearn.metrics import accuracy_score, f1_score"
   ]
  },
  {
   "cell_type": "code",
   "execution_count": 2,
   "metadata": {},
   "outputs": [],
   "source": [
    "reviews = pd.read_csv(\"../Data/comments_preproc.csv\").sample(n=200000, random_state=0)\n",
    "reviews.dropna(subset=[\"cleanedComment\"], inplace=True)\n",
    "reviews.reset_index(inplace=True, drop=True)\n",
    "\n",
    "reviews[\"sentiment\"] = reviews[\"clarityRating\"].apply(lambda x: 1 if x > 2.5 else 0)"
   ]
  },
  {
   "cell_type": "code",
   "execution_count": 3,
   "metadata": {},
   "outputs": [],
   "source": [
    "X_train, X_test, y_train, y_test = train_test_split(reviews[\"cleanedComment\"], reviews[\"sentiment\"], test_size=0.2, random_state=1)"
   ]
  },
  {
   "cell_type": "code",
   "execution_count": 4,
   "metadata": {},
   "outputs": [],
   "source": [
    "def runSVM(ngr=(1,1)):\n",
    "    tfidf_vect = TfidfVectorizer(max_features=7000, ngram_range=ngr)\n",
    "    tfidf_vect.fit(reviews[\"cleanedComment\"])\n",
    "\n",
    "    train_feat = tfidf_vect.transform(X_train)\n",
    "    test_feat = tfidf_vect.transform(X_test)\n",
    "\n",
    "    svm = SVC(C=1.0, kernel=\"linear\", degree=3, gamma=\"auto\")\n",
    "    svm.fit(train_feat, y_train)\n",
    "\n",
    "    y_pred = svm.predict(test_feat)\n",
    "\n",
    "    print(\"Accuracy: {0}\".format(accuracy_score(y_test, y_pred) * 100))\n",
    "    print(\"F1 Score: {0}\".format(f1_score(y_test, y_pred) * 100))"
   ]
  },
  {
   "cell_type": "code",
   "execution_count": 5,
   "metadata": {},
   "outputs": [
    {
     "name": "stdout",
     "output_type": "stream",
     "text": [
      "Accuracy: 86.66683334166709\n",
      "F1 Score: 91.13486377312698\n"
     ]
    }
   ],
   "source": [
    "runSVM(ngr=(1,1))"
   ]
  },
  {
   "cell_type": "code",
   "execution_count": 6,
   "metadata": {},
   "outputs": [
    {
     "name": "stdout",
     "output_type": "stream",
     "text": [
      "Accuracy: 84.87174358717937\n",
      "F1 Score: 90.16017562403447\n"
     ]
    }
   ],
   "source": [
    "runSVM(ngr=(2,2))"
   ]
  },
  {
   "cell_type": "code",
   "execution_count": 7,
   "metadata": {},
   "outputs": [
    {
     "name": "stdout",
     "output_type": "stream",
     "text": [
      "Accuracy: 87.63938196909845\n",
      "F1 Score: 91.73465293566937\n"
     ]
    }
   ],
   "source": [
    "runSVM(ngr=(1,2))"
   ]
  }
 ],
 "metadata": {
  "kernelspec": {
   "display_name": "Python 3.9.13 64-bit (windows store)",
   "language": "python",
   "name": "python3"
  },
  "language_info": {
   "codemirror_mode": {
    "name": "ipython",
    "version": 3
   },
   "file_extension": ".py",
   "mimetype": "text/x-python",
   "name": "python",
   "nbconvert_exporter": "python",
   "pygments_lexer": "ipython3",
   "version": "3.9.13"
  },
  "orig_nbformat": 4,
  "vscode": {
   "interpreter": {
    "hash": "ed8ce2715666cca47edfe3dc40f16f58fc193b5a7b06958e2ae06c97afdf9990"
   }
  }
 },
 "nbformat": 4,
 "nbformat_minor": 2
}
