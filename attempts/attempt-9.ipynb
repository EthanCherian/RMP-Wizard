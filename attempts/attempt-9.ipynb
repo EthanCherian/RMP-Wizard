{
 "cells": [
  {
   "cell_type": "markdown",
   "metadata": {},
   "source": [
    "# Introduce Pipeline module"
   ]
  },
  {
   "cell_type": "code",
   "execution_count": 79,
   "metadata": {},
   "outputs": [],
   "source": [
    "import pandas as pd\n",
    "import re\n",
    "import nltk\n",
    "\n",
    "from sklearn.feature_extraction.text import CountVectorizer\n",
    "from sklearn.model_selection import train_test_split\n",
    "from sklearn.naive_bayes import MultinomialNB\n",
    "from sklearn.metrics import accuracy_score, f1_score\n",
    "\n",
    "from sklearn.feature_selection import chi2, SelectPercentile\n",
    "from sklearn.pipeline import Pipeline"
   ]
  },
  {
   "cell_type": "markdown",
   "metadata": {},
   "source": [
    "Surprise! We are no longer practically limited wrt space and/or time"
   ]
  },
  {
   "cell_type": "code",
   "execution_count": 80,
   "metadata": {},
   "outputs": [],
   "source": [
    "reviews = pd.read_csv(\"../Data/scraped_comments_with_professor.csv\")#.sample(n=300000, random_state=1)"
   ]
  },
  {
   "cell_type": "code",
   "execution_count": 81,
   "metadata": {},
   "outputs": [],
   "source": [
    "reviews.drop_duplicates(subset=\"comment_id\", keep=\"first\", inplace=True)\n",
    "\n",
    "reviews.dropna(subset=[\"comment\"], inplace=True)\n",
    "reviews = reviews[reviews[\"comment\"] != \"No Comments\"]\n",
    "\n",
    "reviews[\"comment\"] = reviews[\"comment\"].apply(lambda x: x if len(x.split()) > 5 else None)\n",
    "reviews.dropna(subset=[\"comment\"], inplace=True)"
   ]
  },
  {
   "cell_type": "code",
   "execution_count": 82,
   "metadata": {},
   "outputs": [
    {
     "data": {
      "text/plain": [
       " 5.0    176812\n",
       " 4.5     58705\n",
       " 4.0     52643\n",
       " 1.0     45128\n",
       " 2.0     26945\n",
       " 3.5     22896\n",
       " 1.5     19230\n",
       " 2.5     17510\n",
       "-1.0         1\n",
       "Name: starRating, dtype: int64"
      ]
     },
     "execution_count": 82,
     "metadata": {},
     "output_type": "execute_result"
    }
   ],
   "source": [
    "reviews[\"starRating\"] = (reviews[\"clarityRating\"] + reviews[\"helpfulRating\"]) / 2\n",
    "reviews = reviews[reviews[\"starRating\"] != 3.0]         # drop 3 star reviews\n",
    "reviews.reset_index(drop=True, inplace=True)\n",
    "\n",
    "reviews[\"starRating\"].value_counts()"
   ]
  },
  {
   "cell_type": "code",
   "execution_count": 83,
   "metadata": {},
   "outputs": [],
   "source": [
    "comments_proper = []\n",
    "\n",
    "for i in range(reviews.shape[0]):\n",
    "    review = reviews[\"comment\"][i]\n",
    "    review = re.sub('&([a-zA-z]+|#\\d+);', \"\", review)           # remove HTML codes\n",
    "    review = re.sub('&#63;?', '', review)                       # HTML code for question mark evades erasure on occasion, handle here\n",
    "    review = re.sub(r'\\s*https?://\\S+(\\s+|$)', ' ', review)                                     # remove links\n",
    "    review = re.sub(\"^(\\+\\d{1,2}\\s)?\\(?\\d{3}\\)?[\\s.-]?\\d{3}[\\s.-]?\\d{4}$\", ' ', review)         # remove phone numbers\n",
    "    review = re.sub(\"[a-zA-Z0-9_.+-]+@[a-zA-Z0-9-]+\\.[a-zA-Z0-9-.]+\", \" \", review)              # remove email addresses\n",
    "\n",
    "    review = re.sub(r'(.)\\1\\1+', '\\g<1>', review)               # replace any three characters in a row with one\n",
    "\n",
    "    review = re.sub('[^a-zA-Z]+', ' ', review)                  # remove non-alphabetic characters\n",
    "\n",
    "    review = re.sub('\\s+', ' ', review)\n",
    "    review = review.lower()                                     # lowercase review for uniformity\n",
    "\n",
    "    comments_proper.append(review)"
   ]
  },
  {
   "cell_type": "code",
   "execution_count": 84,
   "metadata": {},
   "outputs": [
    {
     "data": {
      "text/html": [
       "<div>\n",
       "<style scoped>\n",
       "    .dataframe tbody tr th:only-of-type {\n",
       "        vertical-align: middle;\n",
       "    }\n",
       "\n",
       "    .dataframe tbody tr th {\n",
       "        vertical-align: top;\n",
       "    }\n",
       "\n",
       "    .dataframe thead th {\n",
       "        text-align: right;\n",
       "    }\n",
       "</style>\n",
       "<table border=\"1\" class=\"dataframe\">\n",
       "  <thead>\n",
       "    <tr style=\"text-align: right;\">\n",
       "      <th></th>\n",
       "      <th>professor_id</th>\n",
       "      <th>firstName</th>\n",
       "      <th>lastName</th>\n",
       "      <th>comment</th>\n",
       "      <th>starRating</th>\n",
       "      <th>cleanedComment</th>\n",
       "      <th>sentiment</th>\n",
       "    </tr>\n",
       "  </thead>\n",
       "  <tbody>\n",
       "    <tr>\n",
       "      <th>0</th>\n",
       "      <td>VGVhY2hlci0xMjQzMzQ3</td>\n",
       "      <td>Kurt</td>\n",
       "      <td>Douglass</td>\n",
       "      <td>Good teacher, good lectures. Obviously cares a...</td>\n",
       "      <td>5.0</td>\n",
       "      <td>good teacher good lectures obviously cares abo...</td>\n",
       "      <td>1</td>\n",
       "    </tr>\n",
       "    <tr>\n",
       "      <th>1</th>\n",
       "      <td>VGVhY2hlci0xMjQzMzQ3</td>\n",
       "      <td>Kurt</td>\n",
       "      <td>Douglass</td>\n",
       "      <td>Good teacher, very lenient with grading and at...</td>\n",
       "      <td>5.0</td>\n",
       "      <td>good teacher very lenient with grading and att...</td>\n",
       "      <td>1</td>\n",
       "    </tr>\n",
       "    <tr>\n",
       "      <th>2</th>\n",
       "      <td>VGVhY2hlci0xMjQzMzQ3</td>\n",
       "      <td>Kurt</td>\n",
       "      <td>Douglass</td>\n",
       "      <td>Very difficult class.  His grading is hard to ...</td>\n",
       "      <td>1.5</td>\n",
       "      <td>very difficult class his grading is hard to un...</td>\n",
       "      <td>0</td>\n",
       "    </tr>\n",
       "    <tr>\n",
       "      <th>3</th>\n",
       "      <td>VGVhY2hlci0xMDExMDU2</td>\n",
       "      <td>Paula</td>\n",
       "      <td>Zobisch</td>\n",
       "      <td>Excellent mentor. Created valuable foundations...</td>\n",
       "      <td>5.0</td>\n",
       "      <td>excellent mentor created valuable foundations ...</td>\n",
       "      <td>1</td>\n",
       "    </tr>\n",
       "    <tr>\n",
       "      <th>4</th>\n",
       "      <td>VGVhY2hlci0xMDExMDU2</td>\n",
       "      <td>Paula</td>\n",
       "      <td>Zobisch</td>\n",
       "      <td>Awesome...Had her for two classes at baker col...</td>\n",
       "      <td>5.0</td>\n",
       "      <td>awesome had her for two classes at baker colle...</td>\n",
       "      <td>1</td>\n",
       "    </tr>\n",
       "  </tbody>\n",
       "</table>\n",
       "</div>"
      ],
      "text/plain": [
       "           professor_id firstName  lastName  \\\n",
       "0  VGVhY2hlci0xMjQzMzQ3      Kurt  Douglass   \n",
       "1  VGVhY2hlci0xMjQzMzQ3      Kurt  Douglass   \n",
       "2  VGVhY2hlci0xMjQzMzQ3      Kurt  Douglass   \n",
       "3  VGVhY2hlci0xMDExMDU2     Paula   Zobisch   \n",
       "4  VGVhY2hlci0xMDExMDU2     Paula   Zobisch   \n",
       "\n",
       "                                             comment  starRating  \\\n",
       "0  Good teacher, good lectures. Obviously cares a...         5.0   \n",
       "1  Good teacher, very lenient with grading and at...         5.0   \n",
       "2  Very difficult class.  His grading is hard to ...         1.5   \n",
       "3  Excellent mentor. Created valuable foundations...         5.0   \n",
       "4  Awesome...Had her for two classes at baker col...         5.0   \n",
       "\n",
       "                                      cleanedComment  sentiment  \n",
       "0  good teacher good lectures obviously cares abo...          1  \n",
       "1  good teacher very lenient with grading and att...          1  \n",
       "2  very difficult class his grading is hard to un...          0  \n",
       "3  excellent mentor created valuable foundations ...          1  \n",
       "4  awesome had her for two classes at baker colle...          1  "
      ]
     },
     "execution_count": 84,
     "metadata": {},
     "output_type": "execute_result"
    }
   ],
   "source": [
    "reviews = reviews.loc[:, [\"professor_id\", \"firstName\", \"lastName\", \"comment\", \"starRating\"]]\n",
    "reviews[\"cleanedComment\"] = pd.Series(comments_proper)\n",
    "reviews[\"sentiment\"] = reviews[\"starRating\"].apply(lambda x: 1 if x > 2.5 else 0)\n",
    "\n",
    "reviews.head()"
   ]
  },
  {
   "cell_type": "code",
   "execution_count": 85,
   "metadata": {},
   "outputs": [],
   "source": [
    "prof_counts = reviews[\"professor_id\"].value_counts()\n",
    "prof_train, prof_test, cnt_train, cnt_test = train_test_split(prof_counts.index, prof_counts.values, test_size=0.2, random_state=1)"
   ]
  },
  {
   "cell_type": "code",
   "execution_count": 86,
   "metadata": {},
   "outputs": [],
   "source": [
    "comm_train = reviews[reviews[\"professor_id\"].isin(prof_train)][\"cleanedComment\"]\n",
    "comm_test = reviews[reviews[\"professor_id\"].isin(prof_test)][\"cleanedComment\"]\n",
    "\n",
    "sent_train = reviews[reviews[\"professor_id\"].isin(prof_train)][\"sentiment\"]\n",
    "sent_test = reviews[reviews[\"professor_id\"].isin(prof_test)][\"sentiment\"]"
   ]
  },
  {
   "cell_type": "code",
   "execution_count": 87,
   "metadata": {},
   "outputs": [],
   "source": [
    "def evalPerformance(y_pred, y_test, mode=\"weighted\"):\n",
    "    acc_score = accuracy_score(y_test, y_pred)\n",
    "    print(\"Accuracy Score: \" + str(acc_score * 100))\n",
    "    \n",
    "    f1 = f1_score(y_test, y_pred, average=mode)\n",
    "    print(\"F1 Score: {0}\".format(f1 * 100))"
   ]
  },
  {
   "cell_type": "code",
   "execution_count": 88,
   "metadata": {},
   "outputs": [],
   "source": [
    "pipeline = Pipeline([\n",
    "    (\"vectorizer\", CountVectorizer(ngram_range=(1,2), max_df=0.5)), \n",
    "    (\"selector\"  , SelectPercentile(score_func=chi2, percentile=50)),\n",
    "    (\"classifer\" , MultinomialNB())\n",
    "])"
   ]
  },
  {
   "cell_type": "code",
   "execution_count": 89,
   "metadata": {},
   "outputs": [],
   "source": [
    "sentiment_fit = pipeline.fit(comm_train, sent_train)"
   ]
  },
  {
   "cell_type": "code",
   "execution_count": 90,
   "metadata": {},
   "outputs": [],
   "source": [
    "sent_pred = pipeline.predict(comm_test)"
   ]
  },
  {
   "cell_type": "code",
   "execution_count": 91,
   "metadata": {},
   "outputs": [
    {
     "name": "stdout",
     "output_type": "stream",
     "text": [
      "Accuracy Score: 93.42164187899216\n",
      "F1 Score: 93.4152216040509\n"
     ]
    }
   ],
   "source": [
    "evalPerformance(sent_pred, sent_test)"
   ]
  },
  {
   "cell_type": "code",
   "execution_count": 92,
   "metadata": {},
   "outputs": [
    {
     "data": {
      "text/plain": [
       "['NB-pipeline.joblib']"
      ]
     },
     "execution_count": 92,
     "metadata": {},
     "output_type": "execute_result"
    }
   ],
   "source": [
    "from joblib import dump\n",
    "\n",
    "dump(pipeline, \"NB-pipeline.joblib\")"
   ]
  },
  {
   "cell_type": "code",
   "execution_count": 93,
   "metadata": {},
   "outputs": [],
   "source": [
    "old_reviews = pd.read_csv(\"../Data/scraped_comments.csv\").sample(n=100000, random_state=1)\n",
    "\n",
    "old_reviews.drop_duplicates(subset=\"comment_id\", keep=\"first\", inplace=True)\n",
    "\n",
    "old_reviews.dropna(subset=[\"comment\"], inplace=True)\n",
    "old_reviews = old_reviews[old_reviews[\"comment\"] != \"No Comments\"]\n",
    "old_reviews[\"comment\"] = old_reviews[\"comment\"].apply(lambda x: x if len(x.split()) > 5 else None)\n",
    "old_reviews.dropna(subset=[\"comment\"], inplace=True)\n",
    "\n",
    "old_reviews.reset_index(drop=True, inplace=True)"
   ]
  },
  {
   "cell_type": "code",
   "execution_count": 94,
   "metadata": {},
   "outputs": [],
   "source": [
    "old_reviews[\"starRating\"] = (old_reviews[\"clarityRating\"] + old_reviews[\"helpfulRating\"]) / 2\n",
    "old_reviews = old_reviews[old_reviews[\"starRating\"] != 3.0]         # drop 3 star reviews"
   ]
  },
  {
   "cell_type": "code",
   "execution_count": 95,
   "metadata": {},
   "outputs": [],
   "source": [
    "def basicPreproc(comments: list):\n",
    "    comments_proper = []\n",
    "\n",
    "    for review in comments:\n",
    "        review = re.sub('&([a-zA-z]+|#\\d+);', \"\", review)           # remove HTML codes\n",
    "        review = re.sub('&#63;?', '', review)                       # HTML code for question mark evades erasure on occasion, handle here\n",
    "        review = re.sub(r'\\s*https?://\\S+(\\s+|$)', ' ', review)                                     # remove links\n",
    "        review = re.sub(\"^(\\+\\d{1,2}\\s)?\\(?\\d{3}\\)?[\\s.-]?\\d{3}[\\s.-]?\\d{4}$\", ' ', review)         # remove phone numbers\n",
    "        review = re.sub(\"[a-zA-Z0-9_.+-]+@[a-zA-Z0-9-]+\\.[a-zA-Z0-9-.]+\", \" \", review)              # remove email addresses\n",
    "\n",
    "        review = re.sub(r'(.)\\1\\1+', '\\g<1>', review)               # replace any three characters in a row with one\n",
    "\n",
    "        review = re.sub('[^a-zA-Z]+', ' ', review)                  # remove non-alphabetic characters\n",
    "\n",
    "        review = re.sub('\\s+', ' ', review)\n",
    "        review = review.lower()                                     # lowercase review for uniformity\n",
    "\n",
    "        comments_proper.append(review)\n",
    "\n",
    "    return comments_proper"
   ]
  },
  {
   "cell_type": "code",
   "execution_count": 96,
   "metadata": {},
   "outputs": [],
   "source": [
    "preproc_comments = basicPreproc(old_reviews[\"comment\"])"
   ]
  },
  {
   "cell_type": "code",
   "execution_count": 97,
   "metadata": {},
   "outputs": [],
   "source": [
    "preds = pipeline.predict(preproc_comments)"
   ]
  },
  {
   "cell_type": "code",
   "execution_count": 98,
   "metadata": {},
   "outputs": [],
   "source": [
    "real_sentiment = old_reviews[\"starRating\"].apply(lambda x: 1 if x > 2.5 else 0)"
   ]
  },
  {
   "cell_type": "code",
   "execution_count": 99,
   "metadata": {},
   "outputs": [
    {
     "name": "stdout",
     "output_type": "stream",
     "text": [
      "Accuracy Score: 91.63063288425116\n",
      "F1 Score: 91.63358906475055\n"
     ]
    }
   ],
   "source": [
    "evalPerformance(preds, real_sentiment)"
   ]
  },
  {
   "cell_type": "code",
   "execution_count": 100,
   "metadata": {},
   "outputs": [],
   "source": [
    "# new sentences to predict on\n",
    "docs = [\n",
    "    \"Prof Ritchey is a great guy and an even better teacher! Anyone who doesn't like his class is just an idiot lmao\",\n",
    "    \"If you get this guy, just drop out. It's actually a better use of your time to stick forks in your eyes than trying to understand his lectures.\",\n",
    "    \"I'm just happy to be here!\",\n",
    "    \"This guy sucks and stinks and is bad and I hate him.\",\n",
    "    \"Trying to use very negative words so the model picks up the bad terrible horrible hate sentiment\"\n",
    "]\n",
    "\n",
    "preproc_comments = basicPreproc(docs)"
   ]
  },
  {
   "cell_type": "code",
   "execution_count": 101,
   "metadata": {},
   "outputs": [],
   "source": [
    "preds = pipeline.predict(preproc_comments)"
   ]
  },
  {
   "cell_type": "code",
   "execution_count": 102,
   "metadata": {},
   "outputs": [],
   "source": [
    "def printResults(docs: list, preds:list):\n",
    "    # now with fancy text coloring (works best in dark mode)\n",
    "    for comm, pred in zip(docs, preds):\n",
    "        print(\"\\033[2;32mComment: \\033[0;37m{0}\".format(comm))\n",
    "        \n",
    "        if pred == 0:\n",
    "            print(\"\\033[0;31mSentiment: \\033[0;31m{0}\".format(pred))\n",
    "        else:\n",
    "            print(\"\\033[0;34mSentiment: \\033[0;34m{0}\".format(pred))\n",
    "        \n",
    "        print()"
   ]
  },
  {
   "cell_type": "code",
   "execution_count": 103,
   "metadata": {},
   "outputs": [
    {
     "name": "stdout",
     "output_type": "stream",
     "text": [
      "\u001b[2;32mComment: \u001b[0;37mProf Ritchey is a great guy and an even better teacher! Anyone who doesn't like his class is just an idiot lmao\n",
      "\u001b[0;34mSentiment: \u001b[0;34m1\n",
      "\n",
      "\u001b[2;32mComment: \u001b[0;37mIf you get this guy, just drop out. It's actually a better use of your time to stick forks in your eyes than trying to understand his lectures.\n",
      "\u001b[0;31mSentiment: \u001b[0;31m0\n",
      "\n",
      "\u001b[2;32mComment: \u001b[0;37mI'm just happy to be here!\n",
      "\u001b[0;34mSentiment: \u001b[0;34m1\n",
      "\n",
      "\u001b[2;32mComment: \u001b[0;37mThis guy sucks and stinks and is bad and I hate him.\n",
      "\u001b[0;31mSentiment: \u001b[0;31m0\n",
      "\n",
      "\u001b[2;32mComment: \u001b[0;37mTrying to use very negative words so the model picks up the bad terrible horrible hate sentiment\n",
      "\u001b[0;31mSentiment: \u001b[0;31m0\n",
      "\n"
     ]
    }
   ],
   "source": [
    "printResults(docs, preds)"
   ]
  }
 ],
 "metadata": {
  "kernelspec": {
   "display_name": "Python 3.9.13 64-bit (windows store)",
   "language": "python",
   "name": "python3"
  },
  "language_info": {
   "codemirror_mode": {
    "name": "ipython",
    "version": 3
   },
   "file_extension": ".py",
   "mimetype": "text/x-python",
   "name": "python",
   "nbconvert_exporter": "python",
   "pygments_lexer": "ipython3",
   "version": "3.9.13"
  },
  "orig_nbformat": 4,
  "vscode": {
   "interpreter": {
    "hash": "ed8ce2715666cca47edfe3dc40f16f58fc193b5a7b06958e2ae06c97afdf9990"
   }
  }
 },
 "nbformat": 4,
 "nbformat_minor": 2
}
