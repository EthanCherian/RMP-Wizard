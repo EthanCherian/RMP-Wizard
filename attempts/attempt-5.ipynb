{
 "cells": [
  {
   "cell_type": "markdown",
   "metadata": {},
   "source": [
    "# Take proper star values by averaging clarity and helpful ratings\n",
    "at some point, remove mixed sentiment reviews"
   ]
  },
  {
   "cell_type": "code",
   "execution_count": 1,
   "metadata": {},
   "outputs": [],
   "source": [
    "import pandas as pd\n",
    "import re\n",
    "\n",
    "from sklearn.feature_extraction.text import CountVectorizer\n",
    "from sklearn.model_selection import train_test_split\n",
    "from sklearn.naive_bayes import MultinomialNB\n",
    "from sklearn.metrics import accuracy_score, f1_score\n",
    "\n",
    "from sklearn.feature_selection import chi2, SelectPercentile"
   ]
  },
  {
   "cell_type": "code",
   "execution_count": 2,
   "metadata": {},
   "outputs": [],
   "source": [
    "reviews = pd.read_csv(\"../Data/scraped_comments_with_professor.csv\").sample(n=25000, random_state=1)"
   ]
  },
  {
   "cell_type": "code",
   "execution_count": 3,
   "metadata": {},
   "outputs": [
    {
     "data": {
      "text/plain": [
       "5    12853\n",
       "4     4210\n",
       "1     3473\n",
       "3     2345\n",
       "2     2119\n",
       "Name: helpfulRating, dtype: int64"
      ]
     },
     "execution_count": 3,
     "metadata": {},
     "output_type": "execute_result"
    }
   ],
   "source": [
    "reviews[\"helpfulRating\"].value_counts()"
   ]
  },
  {
   "cell_type": "code",
   "execution_count": 4,
   "metadata": {},
   "outputs": [
    {
     "data": {
      "text/plain": [
       "5.0    10028\n",
       "4.5     3287\n",
       "4.0     2944\n",
       "1.0     2460\n",
       "3.0     1503\n",
       "2.0     1480\n",
       "3.5     1247\n",
       "1.5     1092\n",
       "2.5      959\n",
       "Name: starRating, dtype: int64"
      ]
     },
     "execution_count": 4,
     "metadata": {},
     "output_type": "execute_result"
    }
   ],
   "source": [
    "reviews[\"starRating\"] = (reviews[\"clarityRating\"] + reviews[\"helpfulRating\"]) / 2\n",
    "reviews[\"starRating\"].value_counts()"
   ]
  },
  {
   "cell_type": "markdown",
   "metadata": {},
   "source": [
    "### Barebones preprocessing"
   ]
  },
  {
   "cell_type": "code",
   "execution_count": 5,
   "metadata": {},
   "outputs": [],
   "source": [
    "reviews.drop_duplicates(subset=\"comment_id\", keep=\"first\", inplace=True)\n",
    "\n",
    "reviews.dropna(subset=[\"comment\"], inplace=True)\n",
    "reviews = reviews[reviews[\"comment\"] != \"No Comments\"]\n",
    "\n",
    "reviews[\"comment\"] = reviews[\"comment\"].apply(lambda x: x if len(x.split()) > 5 else None)\n",
    "reviews.dropna(subset=[\"comment\"], inplace=True)\n",
    "\n",
    "reviews.reset_index(drop=True, inplace=True)"
   ]
  },
  {
   "cell_type": "code",
   "execution_count": 6,
   "metadata": {},
   "outputs": [],
   "source": [
    "comments_proper = []\n",
    "\n",
    "for i in range(reviews.shape[0]):\n",
    "    review = reviews[\"comment\"][i]\n",
    "    review = re.sub('&([a-zA-z]+|#\\d+);', \"\", review)           # remove HTML codes\n",
    "    review = re.sub('&#63;?', '', review)                       # HTML code for question mark evades erasure on occasion, handle here\n",
    "    review = re.sub(r'\\s*https?://\\S+(\\s+|$)', ' ', review)                                     # remove links\n",
    "    review = re.sub(\"^(\\+\\d{1,2}\\s)?\\(?\\d{3}\\)?[\\s.-]?\\d{3}[\\s.-]?\\d{4}$\", ' ', review)         # remove phone numbers\n",
    "    review = re.sub(\"[a-zA-Z0-9_.+-]+@[a-zA-Z0-9-]+\\.[a-zA-Z0-9-.]+\", \" \", review)              # remove email addresses\n",
    "\n",
    "    review = re.sub(r'(.)\\1\\1+', '\\g<1>', review)               # replace any three characters in a row with one\n",
    "\n",
    "    review = re.sub('[^a-zA-Z]+', ' ', review)                  # remove non-alphabetic characters\n",
    "\n",
    "    review = re.sub('\\s+', ' ', review)\n",
    "    review = review.lower()                                     # lowercase review for uniformity\n",
    "\n",
    "    comments_proper.append(review)"
   ]
  },
  {
   "cell_type": "code",
   "execution_count": 7,
   "metadata": {},
   "outputs": [
    {
     "data": {
      "text/html": [
       "<div>\n",
       "<style scoped>\n",
       "    .dataframe tbody tr th:only-of-type {\n",
       "        vertical-align: middle;\n",
       "    }\n",
       "\n",
       "    .dataframe tbody tr th {\n",
       "        vertical-align: top;\n",
       "    }\n",
       "\n",
       "    .dataframe thead th {\n",
       "        text-align: right;\n",
       "    }\n",
       "</style>\n",
       "<table border=\"1\" class=\"dataframe\">\n",
       "  <thead>\n",
       "    <tr style=\"text-align: right;\">\n",
       "      <th></th>\n",
       "      <th>professor_id</th>\n",
       "      <th>firstName</th>\n",
       "      <th>lastName</th>\n",
       "      <th>comment</th>\n",
       "      <th>starRating</th>\n",
       "      <th>cleanedComment</th>\n",
       "      <th>sentiment</th>\n",
       "    </tr>\n",
       "  </thead>\n",
       "  <tbody>\n",
       "    <tr>\n",
       "      <th>0</th>\n",
       "      <td>VGVhY2hlci0xNTY2MjAx</td>\n",
       "      <td>Christina</td>\n",
       "      <td>Kelson</td>\n",
       "      <td>Overall this was the best laid out course I ha...</td>\n",
       "      <td>3.0</td>\n",
       "      <td>overall this was the best laid out course i ha...</td>\n",
       "      <td>1</td>\n",
       "    </tr>\n",
       "    <tr>\n",
       "      <th>1</th>\n",
       "      <td>VGVhY2hlci0xNTk4MTk5</td>\n",
       "      <td>Alex</td>\n",
       "      <td>Tourlakes</td>\n",
       "      <td>The class I was dreading the most turned out t...</td>\n",
       "      <td>5.0</td>\n",
       "      <td>the class i was dreading the most turned out t...</td>\n",
       "      <td>1</td>\n",
       "    </tr>\n",
       "    <tr>\n",
       "      <th>2</th>\n",
       "      <td>VGVhY2hlci0xMDQwNTQz</td>\n",
       "      <td>Gaby</td>\n",
       "      <td>Fahmy</td>\n",
       "      <td>Loved &amp; benefitted a lot from pathophysiology ...</td>\n",
       "      <td>5.0</td>\n",
       "      <td>loved benefitted a lot from pathophysiology wi...</td>\n",
       "      <td>1</td>\n",
       "    </tr>\n",
       "    <tr>\n",
       "      <th>3</th>\n",
       "      <td>VGVhY2hlci05NDAzNzM=</td>\n",
       "      <td>Van</td>\n",
       "      <td>Peterson</td>\n",
       "      <td>Loved this class. awesome prof. just do the ho...</td>\n",
       "      <td>4.0</td>\n",
       "      <td>loved this class awesome prof just do the home...</td>\n",
       "      <td>1</td>\n",
       "    </tr>\n",
       "    <tr>\n",
       "      <th>4</th>\n",
       "      <td>VGVhY2hlci0xMzgwODgx</td>\n",
       "      <td>Tara</td>\n",
       "      <td>Thompson</td>\n",
       "      <td>she's great.. easygoing and always ready to help.</td>\n",
       "      <td>3.5</td>\n",
       "      <td>she s great easygoing and always ready to help</td>\n",
       "      <td>1</td>\n",
       "    </tr>\n",
       "  </tbody>\n",
       "</table>\n",
       "</div>"
      ],
      "text/plain": [
       "           professor_id  firstName   lastName  \\\n",
       "0  VGVhY2hlci0xNTY2MjAx  Christina     Kelson   \n",
       "1  VGVhY2hlci0xNTk4MTk5       Alex  Tourlakes   \n",
       "2  VGVhY2hlci0xMDQwNTQz       Gaby      Fahmy   \n",
       "3  VGVhY2hlci05NDAzNzM=        Van   Peterson   \n",
       "4  VGVhY2hlci0xMzgwODgx       Tara   Thompson   \n",
       "\n",
       "                                             comment  starRating  \\\n",
       "0  Overall this was the best laid out course I ha...         3.0   \n",
       "1  The class I was dreading the most turned out t...         5.0   \n",
       "2  Loved & benefitted a lot from pathophysiology ...         5.0   \n",
       "3  Loved this class. awesome prof. just do the ho...         4.0   \n",
       "4  she's great.. easygoing and always ready to help.         3.5   \n",
       "\n",
       "                                      cleanedComment  sentiment  \n",
       "0  overall this was the best laid out course i ha...          1  \n",
       "1  the class i was dreading the most turned out t...          1  \n",
       "2  loved benefitted a lot from pathophysiology wi...          1  \n",
       "3  loved this class awesome prof just do the home...          1  \n",
       "4    she s great easygoing and always ready to help           1  "
      ]
     },
     "execution_count": 7,
     "metadata": {},
     "output_type": "execute_result"
    }
   ],
   "source": [
    "reviews = reviews.loc[:, [\"professor_id\", \"firstName\", \"lastName\", \"comment\", \"starRating\"]]\n",
    "reviews[\"cleanedComment\"] = pd.Series(comments_proper)\n",
    "reviews[\"sentiment\"] = reviews[\"starRating\"].apply(lambda x: 1 if x > 2.5 else 0)\n",
    "\n",
    "reviews.head()"
   ]
  },
  {
   "cell_type": "markdown",
   "metadata": {},
   "source": [
    "### Perform professor split"
   ]
  },
  {
   "cell_type": "code",
   "execution_count": 8,
   "metadata": {},
   "outputs": [],
   "source": [
    "prof_counts = reviews[\"professor_id\"].value_counts()\n",
    "prof_train, prof_test, cnt_train, cnt_test = train_test_split(prof_counts.index, prof_counts.values, test_size=0.2, random_state=1)"
   ]
  },
  {
   "cell_type": "code",
   "execution_count": 9,
   "metadata": {},
   "outputs": [],
   "source": [
    "comm_train = reviews[reviews[\"professor_id\"].isin(prof_train)][\"cleanedComment\"]\n",
    "comm_test = reviews[reviews[\"professor_id\"].isin(prof_test)][\"cleanedComment\"]\n",
    "\n",
    "sent_train = reviews[reviews[\"professor_id\"].isin(prof_train)][\"sentiment\"]\n",
    "sent_test = reviews[reviews[\"professor_id\"].isin(prof_test)][\"sentiment\"]"
   ]
  },
  {
   "cell_type": "code",
   "execution_count": 10,
   "metadata": {},
   "outputs": [],
   "source": [
    "def evalPerformance(y_pred, y_test, mode=\"weighted\"):\n",
    "    acc_score = accuracy_score(y_test, y_pred)\n",
    "    print(\"Accuracy Score: \" + str(acc_score * 100))\n",
    "    \n",
    "    f1 = f1_score(y_test, y_pred, average=mode)\n",
    "    print(\"F1 Score: {0}\".format(f1 * 100))"
   ]
  },
  {
   "cell_type": "markdown",
   "metadata": {},
   "source": [
    "### Prepare vectorizer and feature selector"
   ]
  },
  {
   "cell_type": "code",
   "execution_count": 11,
   "metadata": {},
   "outputs": [],
   "source": [
    "cv = CountVectorizer(ngram_range=(1,2))             # consider adding min_df term (start at 0.001)\n",
    "X = cv.fit_transform(reviews[\"cleanedComment\"]).toarray()"
   ]
  },
  {
   "cell_type": "code",
   "execution_count": 12,
   "metadata": {},
   "outputs": [
    {
     "data": {
      "text/plain": [
       "array([[0, 0, 0, ..., 0, 0, 0],\n",
       "       [0, 0, 0, ..., 0, 0, 0],\n",
       "       [0, 0, 0, ..., 0, 0, 0],\n",
       "       ...,\n",
       "       [0, 0, 0, ..., 0, 0, 0],\n",
       "       [0, 0, 0, ..., 0, 0, 0],\n",
       "       [0, 0, 0, ..., 0, 0, 0]], dtype=int64)"
      ]
     },
     "execution_count": 12,
     "metadata": {},
     "output_type": "execute_result"
    }
   ],
   "source": [
    "percbest = SelectPercentile(score_func=chi2, percentile=25)      # select 25% most important features using chi2\n",
    "percbest.fit_transform(X, reviews[\"sentiment\"])"
   ]
  },
  {
   "cell_type": "markdown",
   "metadata": {},
   "source": [
    "### Create naive bayes model and evaluate performance"
   ]
  },
  {
   "cell_type": "code",
   "execution_count": 13,
   "metadata": {},
   "outputs": [],
   "source": [
    "X_train = percbest.transform(cv.transform(comm_train))      # get training vector from top 25% of features\n",
    "model = MultinomialNB().fit(X_train, sent_train)            # train model"
   ]
  },
  {
   "cell_type": "code",
   "execution_count": 14,
   "metadata": {},
   "outputs": [],
   "source": [
    "X_test = percbest.transform(cv.transform(comm_test))\n",
    "sent_pred = model.predict(X_test)"
   ]
  },
  {
   "cell_type": "code",
   "execution_count": 15,
   "metadata": {},
   "outputs": [
    {
     "name": "stdout",
     "output_type": "stream",
     "text": [
      "Accuracy Score: 93.76185458377239\n",
      "F1 Score: 93.58414245126114\n"
     ]
    }
   ],
   "source": [
    "evalPerformance(sent_pred, sent_test)"
   ]
  }
 ],
 "metadata": {
  "kernelspec": {
   "display_name": "Python 3.9.13 64-bit (windows store)",
   "language": "python",
   "name": "python3"
  },
  "language_info": {
   "codemirror_mode": {
    "name": "ipython",
    "version": 3
   },
   "file_extension": ".py",
   "mimetype": "text/x-python",
   "name": "python",
   "nbconvert_exporter": "python",
   "pygments_lexer": "ipython3",
   "version": "3.9.13"
  },
  "orig_nbformat": 4,
  "vscode": {
   "interpreter": {
    "hash": "ed8ce2715666cca47edfe3dc40f16f58fc193b5a7b06958e2ae06c97afdf9990"
   }
  }
 },
 "nbformat": 4,
 "nbformat_minor": 2
}
