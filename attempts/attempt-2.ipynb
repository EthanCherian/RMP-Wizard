{
 "cells": [
  {
   "cell_type": "markdown",
   "metadata": {},
   "source": [
    "# Attempt incorporating professor-based split"
   ]
  },
  {
   "cell_type": "code",
   "execution_count": 1,
   "metadata": {},
   "outputs": [],
   "source": [
    "import pandas as pd\n",
    "import re\n",
    "\n",
    "from sklearn.feature_extraction.text import CountVectorizer\n",
    "from sklearn.model_selection import train_test_split\n",
    "from sklearn.naive_bayes import MultinomialNB\n",
    "from sklearn.metrics import accuracy_score, f1_score\n",
    "\n",
    "from sklearn.feature_selection import chi2, SelectPercentile"
   ]
  },
  {
   "cell_type": "code",
   "execution_count": 2,
   "metadata": {},
   "outputs": [],
   "source": [
    "reviews = pd.read_csv(\"../Data/scraped_comments_with_professor.csv\").sample(n=15000, random_state=0)"
   ]
  },
  {
   "cell_type": "markdown",
   "metadata": {},
   "source": [
    "### Barebones preprocessing\n",
    "\n",
    "Same as `pausers.ipynb`"
   ]
  },
  {
   "cell_type": "code",
   "execution_count": 3,
   "metadata": {},
   "outputs": [
    {
     "data": {
      "text/html": [
       "<div>\n",
       "<style scoped>\n",
       "    .dataframe tbody tr th:only-of-type {\n",
       "        vertical-align: middle;\n",
       "    }\n",
       "\n",
       "    .dataframe tbody tr th {\n",
       "        vertical-align: top;\n",
       "    }\n",
       "\n",
       "    .dataframe thead th {\n",
       "        text-align: right;\n",
       "    }\n",
       "</style>\n",
       "<table border=\"1\" class=\"dataframe\">\n",
       "  <thead>\n",
       "    <tr style=\"text-align: right;\">\n",
       "      <th></th>\n",
       "      <th>professor_id</th>\n",
       "      <th>comment_id</th>\n",
       "      <th>firstName</th>\n",
       "      <th>lastName</th>\n",
       "      <th>prof_class</th>\n",
       "      <th>comment</th>\n",
       "      <th>ratingTags</th>\n",
       "      <th>date</th>\n",
       "      <th>attendanceMandatory</th>\n",
       "      <th>grade</th>\n",
       "      <th>clarityRating</th>\n",
       "      <th>difficultyRating</th>\n",
       "      <th>helpfulRating</th>\n",
       "      <th>textbookUse</th>\n",
       "      <th>thumbsDownTotal</th>\n",
       "      <th>thumbsUpTotal</th>\n",
       "      <th>wouldTakeAgain</th>\n",
       "    </tr>\n",
       "  </thead>\n",
       "  <tbody>\n",
       "    <tr>\n",
       "      <th>0</th>\n",
       "      <td>VGVhY2hlci0xNDYwNTM2</td>\n",
       "      <td>UmF0aW5nLTE3NTcyNzc2</td>\n",
       "      <td>Heather</td>\n",
       "      <td>Kruse</td>\n",
       "      <td>PSYC331</td>\n",
       "      <td>She is so incredible and is always willing to ...</td>\n",
       "      <td>NaN</td>\n",
       "      <td>2010-09-03 12:58:29 +0000 UTC</td>\n",
       "      <td>NaN</td>\n",
       "      <td>NaN</td>\n",
       "      <td>5</td>\n",
       "      <td>3</td>\n",
       "      <td>5</td>\n",
       "      <td>3.0</td>\n",
       "      <td>0</td>\n",
       "      <td>0</td>\n",
       "      <td>NaN</td>\n",
       "    </tr>\n",
       "    <tr>\n",
       "      <th>1</th>\n",
       "      <td>VGVhY2hlci0xMjkzMDkw</td>\n",
       "      <td>UmF0aW5nLTE2OTMxOTc3</td>\n",
       "      <td>Joseph</td>\n",
       "      <td>Lavalle</td>\n",
       "      <td>SPAN1101</td>\n",
       "      <td>Awesome Teacher. Highly Recommended. Funny guy...</td>\n",
       "      <td>NaN</td>\n",
       "      <td>2010-03-31 02:34:03 +0000 UTC</td>\n",
       "      <td>NaN</td>\n",
       "      <td>NaN</td>\n",
       "      <td>5</td>\n",
       "      <td>1</td>\n",
       "      <td>5</td>\n",
       "      <td>4.0</td>\n",
       "      <td>0</td>\n",
       "      <td>0</td>\n",
       "      <td>NaN</td>\n",
       "    </tr>\n",
       "    <tr>\n",
       "      <th>2</th>\n",
       "      <td>VGVhY2hlci0xMjEwNzE2</td>\n",
       "      <td>UmF0aW5nLTMwNjg1MDg2</td>\n",
       "      <td>John</td>\n",
       "      <td>Park</td>\n",
       "      <td>CMSC341</td>\n",
       "      <td>Honestly one of the best compsci professors at...</td>\n",
       "      <td>LOTS OF HOMEWORK--Amazing lectures--Caring</td>\n",
       "      <td>2018-11-08 12:20:45 +0000 UTC</td>\n",
       "      <td>non mandatory</td>\n",
       "      <td>NaN</td>\n",
       "      <td>5</td>\n",
       "      <td>4</td>\n",
       "      <td>5</td>\n",
       "      <td>0.0</td>\n",
       "      <td>4</td>\n",
       "      <td>1</td>\n",
       "      <td>1.0</td>\n",
       "    </tr>\n",
       "    <tr>\n",
       "      <th>3</th>\n",
       "      <td>VGVhY2hlci0xMzQyNDg4</td>\n",
       "      <td>UmF0aW5nLTE5MTMzMjgw</td>\n",
       "      <td>Thomas</td>\n",
       "      <td>Buford</td>\n",
       "      <td>BSC110</td>\n",
       "      <td>He is an excellent teacher.  He puts all of th...</td>\n",
       "      <td>NaN</td>\n",
       "      <td>2011-10-31 15:37:23 +0000 UTC</td>\n",
       "      <td>NaN</td>\n",
       "      <td>NaN</td>\n",
       "      <td>4</td>\n",
       "      <td>2</td>\n",
       "      <td>4</td>\n",
       "      <td>3.0</td>\n",
       "      <td>0</td>\n",
       "      <td>0</td>\n",
       "      <td>NaN</td>\n",
       "    </tr>\n",
       "    <tr>\n",
       "      <th>4</th>\n",
       "      <td>VGVhY2hlci0xMDcxMDM2</td>\n",
       "      <td>UmF0aW5nLTE2MTM3NjQz</td>\n",
       "      <td>Shawn</td>\n",
       "      <td>Kenny</td>\n",
       "      <td>ENGR4000</td>\n",
       "      <td>Fair prof. Very thorough in his coverage of th...</td>\n",
       "      <td>NaN</td>\n",
       "      <td>2009-08-20 15:39:11 +0000 UTC</td>\n",
       "      <td>NaN</td>\n",
       "      <td>NaN</td>\n",
       "      <td>4</td>\n",
       "      <td>3</td>\n",
       "      <td>5</td>\n",
       "      <td>4.0</td>\n",
       "      <td>0</td>\n",
       "      <td>0</td>\n",
       "      <td>NaN</td>\n",
       "    </tr>\n",
       "  </tbody>\n",
       "</table>\n",
       "</div>"
      ],
      "text/plain": [
       "           professor_id            comment_id firstName lastName prof_class  \\\n",
       "0  VGVhY2hlci0xNDYwNTM2  UmF0aW5nLTE3NTcyNzc2   Heather    Kruse    PSYC331   \n",
       "1  VGVhY2hlci0xMjkzMDkw  UmF0aW5nLTE2OTMxOTc3    Joseph  Lavalle   SPAN1101   \n",
       "2  VGVhY2hlci0xMjEwNzE2  UmF0aW5nLTMwNjg1MDg2      John     Park    CMSC341   \n",
       "3  VGVhY2hlci0xMzQyNDg4  UmF0aW5nLTE5MTMzMjgw    Thomas   Buford     BSC110   \n",
       "4  VGVhY2hlci0xMDcxMDM2  UmF0aW5nLTE2MTM3NjQz     Shawn    Kenny   ENGR4000   \n",
       "\n",
       "                                             comment  \\\n",
       "0  She is so incredible and is always willing to ...   \n",
       "1  Awesome Teacher. Highly Recommended. Funny guy...   \n",
       "2  Honestly one of the best compsci professors at...   \n",
       "3  He is an excellent teacher.  He puts all of th...   \n",
       "4  Fair prof. Very thorough in his coverage of th...   \n",
       "\n",
       "                                   ratingTags                           date  \\\n",
       "0                                         NaN  2010-09-03 12:58:29 +0000 UTC   \n",
       "1                                         NaN  2010-03-31 02:34:03 +0000 UTC   \n",
       "2  LOTS OF HOMEWORK--Amazing lectures--Caring  2018-11-08 12:20:45 +0000 UTC   \n",
       "3                                         NaN  2011-10-31 15:37:23 +0000 UTC   \n",
       "4                                         NaN  2009-08-20 15:39:11 +0000 UTC   \n",
       "\n",
       "  attendanceMandatory grade  clarityRating  difficultyRating  helpfulRating  \\\n",
       "0                 NaN   NaN              5                 3              5   \n",
       "1                 NaN   NaN              5                 1              5   \n",
       "2       non mandatory   NaN              5                 4              5   \n",
       "3                 NaN   NaN              4                 2              4   \n",
       "4                 NaN   NaN              4                 3              5   \n",
       "\n",
       "   textbookUse  thumbsDownTotal  thumbsUpTotal  wouldTakeAgain  \n",
       "0          3.0                0              0             NaN  \n",
       "1          4.0                0              0             NaN  \n",
       "2          0.0                4              1             1.0  \n",
       "3          3.0                0              0             NaN  \n",
       "4          4.0                0              0             NaN  "
      ]
     },
     "execution_count": 3,
     "metadata": {},
     "output_type": "execute_result"
    }
   ],
   "source": [
    "reviews.drop_duplicates(subset=\"comment_id\", keep=\"first\", inplace=True)\n",
    "\n",
    "reviews.dropna(subset=[\"comment\"], inplace=True)\n",
    "reviews = reviews[reviews[\"comment\"] != \"No Comments\"]\n",
    "\n",
    "reviews[\"comment\"] = reviews[\"comment\"].apply(lambda x: x if len(x.split()) > 5 else None)\n",
    "reviews.dropna(subset=[\"comment\"], inplace=True)\n",
    "\n",
    "reviews.reset_index(drop=True, inplace=True)\n",
    "\n",
    "reviews.head()"
   ]
  },
  {
   "cell_type": "code",
   "execution_count": 4,
   "metadata": {},
   "outputs": [],
   "source": [
    "comments_proper = []\n",
    "\n",
    "for i in range(reviews.shape[0]):\n",
    "    review = reviews[\"comment\"][i]\n",
    "    review = re.sub('&([a-zA-z]+|#\\d+);', \"\", review)           # remove HTML codes\n",
    "    review = re.sub('&#63;?', '', review)                       # HTML code for question mark evades erasure on occasion, handle here\n",
    "    review = re.sub(r'\\s*https?://\\S+(\\s+|$)', ' ', review)                                     # remove links\n",
    "    review = re.sub(\"^(\\+\\d{1,2}\\s)?\\(?\\d{3}\\)?[\\s.-]?\\d{3}[\\s.-]?\\d{4}$\", ' ', review)         # remove phone numbers\n",
    "    review = re.sub(\"[a-zA-Z0-9_.+-]+@[a-zA-Z0-9-]+\\.[a-zA-Z0-9-.]+\", \" \", review)              # remove email addresses\n",
    "\n",
    "    review = re.sub(r'(.)\\1\\1+', '\\g<1>', review)               # replace any three characters in a row with one\n",
    "\n",
    "    review = re.sub('[^a-zA-Z]+', ' ', review)                  # remove non-alphabetic characters\n",
    "\n",
    "    review = re.sub('\\s+', ' ', review)\n",
    "    review = review.lower()                                     # lowercase review for uniformity\n",
    "\n",
    "    comments_proper.append(review)"
   ]
  },
  {
   "cell_type": "code",
   "execution_count": 5,
   "metadata": {},
   "outputs": [
    {
     "data": {
      "text/html": [
       "<div>\n",
       "<style scoped>\n",
       "    .dataframe tbody tr th:only-of-type {\n",
       "        vertical-align: middle;\n",
       "    }\n",
       "\n",
       "    .dataframe tbody tr th {\n",
       "        vertical-align: top;\n",
       "    }\n",
       "\n",
       "    .dataframe thead th {\n",
       "        text-align: right;\n",
       "    }\n",
       "</style>\n",
       "<table border=\"1\" class=\"dataframe\">\n",
       "  <thead>\n",
       "    <tr style=\"text-align: right;\">\n",
       "      <th></th>\n",
       "      <th>professor_id</th>\n",
       "      <th>firstName</th>\n",
       "      <th>lastName</th>\n",
       "      <th>comment</th>\n",
       "      <th>clarityRating</th>\n",
       "      <th>cleanedComment</th>\n",
       "      <th>sentiment</th>\n",
       "    </tr>\n",
       "  </thead>\n",
       "  <tbody>\n",
       "    <tr>\n",
       "      <th>0</th>\n",
       "      <td>VGVhY2hlci0xNDYwNTM2</td>\n",
       "      <td>Heather</td>\n",
       "      <td>Kruse</td>\n",
       "      <td>She is so incredible and is always willing to ...</td>\n",
       "      <td>5</td>\n",
       "      <td>she is so incredible and is always willing to ...</td>\n",
       "      <td>1</td>\n",
       "    </tr>\n",
       "    <tr>\n",
       "      <th>1</th>\n",
       "      <td>VGVhY2hlci0xMjkzMDkw</td>\n",
       "      <td>Joseph</td>\n",
       "      <td>Lavalle</td>\n",
       "      <td>Awesome Teacher. Highly Recommended. Funny guy...</td>\n",
       "      <td>5</td>\n",
       "      <td>awesome teacher highly recommended funny guy a...</td>\n",
       "      <td>1</td>\n",
       "    </tr>\n",
       "    <tr>\n",
       "      <th>2</th>\n",
       "      <td>VGVhY2hlci0xMjEwNzE2</td>\n",
       "      <td>John</td>\n",
       "      <td>Park</td>\n",
       "      <td>Honestly one of the best compsci professors at...</td>\n",
       "      <td>5</td>\n",
       "      <td>honestly one of the best compsci professors at...</td>\n",
       "      <td>1</td>\n",
       "    </tr>\n",
       "    <tr>\n",
       "      <th>3</th>\n",
       "      <td>VGVhY2hlci0xMzQyNDg4</td>\n",
       "      <td>Thomas</td>\n",
       "      <td>Buford</td>\n",
       "      <td>He is an excellent teacher.  He puts all of th...</td>\n",
       "      <td>4</td>\n",
       "      <td>he is an excellent teacher he puts all of the ...</td>\n",
       "      <td>1</td>\n",
       "    </tr>\n",
       "    <tr>\n",
       "      <th>4</th>\n",
       "      <td>VGVhY2hlci0xMDcxMDM2</td>\n",
       "      <td>Shawn</td>\n",
       "      <td>Kenny</td>\n",
       "      <td>Fair prof. Very thorough in his coverage of th...</td>\n",
       "      <td>4</td>\n",
       "      <td>fair prof very thorough in his coverage of the...</td>\n",
       "      <td>1</td>\n",
       "    </tr>\n",
       "  </tbody>\n",
       "</table>\n",
       "</div>"
      ],
      "text/plain": [
       "           professor_id firstName lastName  \\\n",
       "0  VGVhY2hlci0xNDYwNTM2   Heather    Kruse   \n",
       "1  VGVhY2hlci0xMjkzMDkw    Joseph  Lavalle   \n",
       "2  VGVhY2hlci0xMjEwNzE2      John     Park   \n",
       "3  VGVhY2hlci0xMzQyNDg4    Thomas   Buford   \n",
       "4  VGVhY2hlci0xMDcxMDM2     Shawn    Kenny   \n",
       "\n",
       "                                             comment  clarityRating  \\\n",
       "0  She is so incredible and is always willing to ...              5   \n",
       "1  Awesome Teacher. Highly Recommended. Funny guy...              5   \n",
       "2  Honestly one of the best compsci professors at...              5   \n",
       "3  He is an excellent teacher.  He puts all of th...              4   \n",
       "4  Fair prof. Very thorough in his coverage of th...              4   \n",
       "\n",
       "                                      cleanedComment  sentiment  \n",
       "0  she is so incredible and is always willing to ...          1  \n",
       "1  awesome teacher highly recommended funny guy a...          1  \n",
       "2  honestly one of the best compsci professors at...          1  \n",
       "3  he is an excellent teacher he puts all of the ...          1  \n",
       "4  fair prof very thorough in his coverage of the...          1  "
      ]
     },
     "execution_count": 5,
     "metadata": {},
     "output_type": "execute_result"
    }
   ],
   "source": [
    "reviews = reviews.loc[:, [\"professor_id\", \"firstName\", \"lastName\", \"comment\", \"clarityRating\"]]\n",
    "reviews[\"cleanedComment\"] = pd.Series(comments_proper)\n",
    "reviews[\"sentiment\"] = reviews[\"clarityRating\"].apply(lambda x: 1 if x > 2.5 else 0)\n",
    "\n",
    "reviews.head()"
   ]
  },
  {
   "cell_type": "markdown",
   "metadata": {},
   "source": [
    "### Split comments by professor\n",
    "\n",
    "* `prof_train` and `prof_test` are professor IDs\n",
    "* `cnt_train` and `cnt_test` are respective comment counts for each professor"
   ]
  },
  {
   "cell_type": "code",
   "execution_count": 6,
   "metadata": {},
   "outputs": [],
   "source": [
    "prof_counts = reviews[\"professor_id\"].value_counts()\n",
    "prof_train, prof_test, cnt_train, cnt_test = train_test_split(prof_counts.index, prof_counts.values, test_size=0.2, random_state=1)"
   ]
  },
  {
   "cell_type": "markdown",
   "metadata": {},
   "source": [
    "Get corresponding comments for all professors in train and test set separately"
   ]
  },
  {
   "cell_type": "code",
   "execution_count": 7,
   "metadata": {},
   "outputs": [],
   "source": [
    "comm_train = reviews[reviews[\"professor_id\"].isin(prof_train)][\"cleanedComment\"]\n",
    "comm_test = reviews[reviews[\"professor_id\"].isin(prof_test)][\"cleanedComment\"]"
   ]
  },
  {
   "cell_type": "markdown",
   "metadata": {},
   "source": [
    "Get sentiments for all professors separately"
   ]
  },
  {
   "cell_type": "code",
   "execution_count": 8,
   "metadata": {},
   "outputs": [],
   "source": [
    "sent_train = reviews[reviews[\"professor_id\"].isin(prof_train)][\"sentiment\"]\n",
    "sent_test = reviews[reviews[\"professor_id\"].isin(prof_test)][\"sentiment\"]"
   ]
  },
  {
   "cell_type": "markdown",
   "metadata": {},
   "source": [
    "### Run Naive Bayes Model"
   ]
  },
  {
   "cell_type": "code",
   "execution_count": 9,
   "metadata": {},
   "outputs": [],
   "source": [
    "def evalPerformance(y_pred, y_test, mode=\"weighted\"):\n",
    "    acc_score = accuracy_score(y_test, y_pred)\n",
    "    print(\"Accuracy Score: \" + str(acc_score * 100))\n",
    "    \n",
    "    f1 = f1_score(y_test, y_pred, average=mode)\n",
    "    print(\"F1 Score: {0}\".format(f1 * 100))"
   ]
  },
  {
   "cell_type": "code",
   "execution_count": 10,
   "metadata": {},
   "outputs": [],
   "source": [
    "cv = CountVectorizer(ngram_range=(1,2), max_features=5000)\n",
    "X = cv.fit_transform(reviews[\"cleanedComment\"]).toarray()"
   ]
  },
  {
   "cell_type": "code",
   "execution_count": 11,
   "metadata": {},
   "outputs": [],
   "source": [
    "X_train = cv.transform(comm_train)\n",
    "model = MultinomialNB().fit(X_train, sent_train)"
   ]
  },
  {
   "cell_type": "code",
   "execution_count": 12,
   "metadata": {},
   "outputs": [],
   "source": [
    "X_test = cv.transform(comm_test)\n",
    "sent_pred = model.predict(X_test)"
   ]
  },
  {
   "cell_type": "code",
   "execution_count": 13,
   "metadata": {},
   "outputs": [
    {
     "name": "stdout",
     "output_type": "stream",
     "text": [
      "Accuracy Score: 87.86167960479887\n",
      "F1 Score: 88.2433905869451\n"
     ]
    }
   ],
   "source": [
    "evalPerformance(sent_pred, sent_test)"
   ]
  }
 ],
 "metadata": {
  "kernelspec": {
   "display_name": "Python 3.9.13 64-bit (windows store)",
   "language": "python",
   "name": "python3"
  },
  "language_info": {
   "codemirror_mode": {
    "name": "ipython",
    "version": 3
   },
   "file_extension": ".py",
   "mimetype": "text/x-python",
   "name": "python",
   "nbconvert_exporter": "python",
   "pygments_lexer": "ipython3",
   "version": "3.9.13"
  },
  "orig_nbformat": 4,
  "vscode": {
   "interpreter": {
    "hash": "ed8ce2715666cca47edfe3dc40f16f58fc193b5a7b06958e2ae06c97afdf9990"
   }
  }
 },
 "nbformat": 4,
 "nbformat_minor": 2
}
