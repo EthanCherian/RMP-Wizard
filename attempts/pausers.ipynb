{
 "cells": [
  {
   "cell_type": "markdown",
   "metadata": {},
   "source": [
    "# Seemingly pretty good attempt"
   ]
  },
  {
   "cell_type": "code",
   "execution_count": 1,
   "metadata": {},
   "outputs": [],
   "source": [
    "import pandas as pd\n",
    "import re\n",
    "\n",
    "from sklearn.feature_extraction.text import CountVectorizer\n",
    "from sklearn.model_selection import train_test_split\n",
    "from sklearn.naive_bayes import MultinomialNB\n",
    "from sklearn.metrics import accuracy_score, f1_score\n",
    "\n",
    "from sklearn.feature_selection import chi2, SelectPercentile"
   ]
  },
  {
   "cell_type": "code",
   "execution_count": 2,
   "metadata": {},
   "outputs": [],
   "source": [
    "reviews = pd.read_csv(\"../Data/scraped_comments.csv\").sample(n=15000, random_state=0)"
   ]
  },
  {
   "cell_type": "markdown",
   "metadata": {},
   "source": [
    "### Barebones preprocessing"
   ]
  },
  {
   "cell_type": "code",
   "execution_count": 3,
   "metadata": {},
   "outputs": [],
   "source": [
    "reviews.drop_duplicates(subset=\"comment_id\", keep=\"first\", inplace=True)\n",
    "\n",
    "reviews.dropna(subset=[\"comment\"], inplace=True)\n",
    "\n",
    "reviews = reviews[reviews[\"comment\"] != \"No Comments\"]\n",
    "\n",
    "reviews[\"comment\"] = reviews[\"comment\"].apply(lambda x: x if len(x.split()) > 5 else None)\n",
    "\n",
    "reviews.dropna(subset=[\"comment\"], inplace=True)\n",
    "\n",
    "reviews.reset_index(drop=True, inplace=True)"
   ]
  },
  {
   "cell_type": "code",
   "execution_count": 4,
   "metadata": {},
   "outputs": [],
   "source": [
    "comments_proper = []\n",
    "\n",
    "for i in range(reviews.shape[0]):\n",
    "    review = reviews[\"comment\"][i]\n",
    "    review = re.sub('&([a-zA-z]+|#\\d+);', \"\", review)           # remove HTML codes\n",
    "    review = re.sub('&#63;?', '', review)                       # HTML code for question mark evades erasure on occasion, handle here\n",
    "    review = re.sub(r'\\s*https?://\\S+(\\s+|$)', ' ', review)                                     # remove links\n",
    "    review = re.sub(\"^(\\+\\d{1,2}\\s)?\\(?\\d{3}\\)?[\\s.-]?\\d{3}[\\s.-]?\\d{4}$\", ' ', review)         # remove phone numbers\n",
    "    review = re.sub(\"[a-zA-Z0-9_.+-]+@[a-zA-Z0-9-]+\\.[a-zA-Z0-9-.]+\", \" \", review)              # remove email addresses\n",
    "\n",
    "    review = re.sub(r'(.)\\1\\1+', '\\g<1>', review)               # replace any three characters in a row with one\n",
    "\n",
    "    review = re.sub('[^a-zA-Z]+', ' ', review)               # remove non-alphabetic characters, spaces, and underscores\n",
    "\n",
    "    review = re.sub('\\s+', ' ', review)\n",
    "    review = review.lower()                                     # lowercase review for uniformity\n",
    "\n",
    "    comments_proper.append(review)"
   ]
  },
  {
   "cell_type": "code",
   "execution_count": 5,
   "metadata": {},
   "outputs": [
    {
     "data": {
      "text/html": [
       "<div>\n",
       "<style scoped>\n",
       "    .dataframe tbody tr th:only-of-type {\n",
       "        vertical-align: middle;\n",
       "    }\n",
       "\n",
       "    .dataframe tbody tr th {\n",
       "        vertical-align: top;\n",
       "    }\n",
       "\n",
       "    .dataframe thead th {\n",
       "        text-align: right;\n",
       "    }\n",
       "</style>\n",
       "<table border=\"1\" class=\"dataframe\">\n",
       "  <thead>\n",
       "    <tr style=\"text-align: right;\">\n",
       "      <th></th>\n",
       "      <th>firstName</th>\n",
       "      <th>lastName</th>\n",
       "      <th>comment</th>\n",
       "      <th>clarityRating</th>\n",
       "      <th>cleanedComment</th>\n",
       "      <th>sentiment</th>\n",
       "    </tr>\n",
       "  </thead>\n",
       "  <tbody>\n",
       "    <tr>\n",
       "      <th>0</th>\n",
       "      <td>Robbin</td>\n",
       "      <td>Jeffries</td>\n",
       "      <td>an amazing caring teacher. please do the readi...</td>\n",
       "      <td>4</td>\n",
       "      <td>an amazing caring teacher please do the readin...</td>\n",
       "      <td>1</td>\n",
       "    </tr>\n",
       "    <tr>\n",
       "      <th>1</th>\n",
       "      <td>Judith</td>\n",
       "      <td>Rood</td>\n",
       "      <td>Rude! Did not care about students or class. Co...</td>\n",
       "      <td>1</td>\n",
       "      <td>rude did not care about students or class cons...</td>\n",
       "      <td>0</td>\n",
       "    </tr>\n",
       "    <tr>\n",
       "      <th>2</th>\n",
       "      <td>Ruben</td>\n",
       "      <td>Murillo</td>\n",
       "      <td>I LOVE YOU MURILLO! YOU ARE HILLARIOUS</td>\n",
       "      <td>5</td>\n",
       "      <td>i love you murillo you are hillarious</td>\n",
       "      <td>1</td>\n",
       "    </tr>\n",
       "    <tr>\n",
       "      <th>3</th>\n",
       "      <td>Hazel</td>\n",
       "      <td>Sanderson</td>\n",
       "      <td>Dr. Sanderson taught in the first class.  She ...</td>\n",
       "      <td>1</td>\n",
       "      <td>dr sanderson taught in the first class she doe...</td>\n",
       "      <td>0</td>\n",
       "    </tr>\n",
       "    <tr>\n",
       "      <th>4</th>\n",
       "      <td>Annette</td>\n",
       "      <td>McGregor</td>\n",
       "      <td>This class is hard for a gen ed, but not that ...</td>\n",
       "      <td>5</td>\n",
       "      <td>this class is hard for a gen ed but not that b...</td>\n",
       "      <td>1</td>\n",
       "    </tr>\n",
       "  </tbody>\n",
       "</table>\n",
       "</div>"
      ],
      "text/plain": [
       "  firstName   lastName                                            comment  \\\n",
       "0    Robbin   Jeffries  an amazing caring teacher. please do the readi...   \n",
       "1    Judith       Rood  Rude! Did not care about students or class. Co...   \n",
       "2     Ruben    Murillo             I LOVE YOU MURILLO! YOU ARE HILLARIOUS   \n",
       "3     Hazel  Sanderson  Dr. Sanderson taught in the first class.  She ...   \n",
       "4   Annette   McGregor  This class is hard for a gen ed, but not that ...   \n",
       "\n",
       "   clarityRating                                     cleanedComment  sentiment  \n",
       "0              4  an amazing caring teacher please do the readin...          1  \n",
       "1              1  rude did not care about students or class cons...          0  \n",
       "2              5              i love you murillo you are hillarious          1  \n",
       "3              1  dr sanderson taught in the first class she doe...          0  \n",
       "4              5  this class is hard for a gen ed but not that b...          1  "
      ]
     },
     "execution_count": 5,
     "metadata": {},
     "output_type": "execute_result"
    }
   ],
   "source": [
    "reviews = reviews.loc[:, [\"firstName\", \"lastName\", \"comment\", \"clarityRating\"]]\n",
    "reviews[\"cleanedComment\"] = pd.Series(comments_proper)\n",
    "reviews[\"sentiment\"] = reviews[\"clarityRating\"].apply(lambda x: 1 if x > 2.5 else 0)\n",
    "\n",
    "reviews.head()"
   ]
  },
  {
   "cell_type": "markdown",
   "metadata": {},
   "source": [
    "### Run Naive Bayes model\n",
    "\n",
    "Use chi squared for selecting top quarter of features"
   ]
  },
  {
   "cell_type": "code",
   "execution_count": 6,
   "metadata": {},
   "outputs": [],
   "source": [
    "def evalPerformance(y_pred, y_test, mode=\"weighted\"):\n",
    "    acc_score = accuracy_score(y_test, y_pred)\n",
    "    print(\"Accuracy Score: \" + str(acc_score * 100))\n",
    "    \n",
    "    f1 = f1_score(y_test, y_pred, average=mode)\n",
    "    print(\"F1 Score: {0}\".format(f1 * 100))"
   ]
  },
  {
   "cell_type": "code",
   "execution_count": 7,
   "metadata": {},
   "outputs": [],
   "source": [
    "def runNBModel(X, y):\n",
    "    X_train, X_test, y_train, y_test = train_test_split(X, y, test_size=0.2, stratify=y, random_state=1)        # split into training and testing subsets\n",
    "    \n",
    "    model = MultinomialNB().fit(X_train, y_train)           # create and fit model, use it to predict outcomes on test set\n",
    "    y_pred = model.predict(X_test)\n",
    "\n",
    "    evalPerformance(y_pred, y_test)"
   ]
  },
  {
   "cell_type": "code",
   "execution_count": 8,
   "metadata": {},
   "outputs": [],
   "source": [
    "def featureSelectChi2(ngr=(1,1)):\n",
    "    cv = CountVectorizer(ngram_range=ngr)           # prepare elements for general NB model\n",
    "    X = cv.fit_transform(reviews[\"cleanedComment\"]).toarray()\n",
    "    y = reviews[\"sentiment\"]\n",
    "\n",
    "    percbest = SelectPercentile(score_func=chi2, percentile=25)      # select top quartile of features by importance\n",
    "    X_percbest = percbest.fit_transform(X, y)\n",
    "\n",
    "    return X_percbest, y"
   ]
  },
  {
   "cell_type": "code",
   "execution_count": 9,
   "metadata": {},
   "outputs": [
    {
     "name": "stdout",
     "output_type": "stream",
     "text": [
      "Accuracy Score: 91.21245828698554\n",
      "F1 Score: 90.74000564965314\n"
     ]
    }
   ],
   "source": [
    "X, y = featureSelectChi2(ngr=(1,2))\n",
    "runNBModel(X, y)"
   ]
  }
 ],
 "metadata": {
  "kernelspec": {
   "display_name": "Python 3.9.13 64-bit (windows store)",
   "language": "python",
   "name": "python3"
  },
  "language_info": {
   "codemirror_mode": {
    "name": "ipython",
    "version": 3
   },
   "file_extension": ".py",
   "mimetype": "text/x-python",
   "name": "python",
   "nbconvert_exporter": "python",
   "pygments_lexer": "ipython3",
   "version": "3.9.13"
  },
  "orig_nbformat": 4,
  "vscode": {
   "interpreter": {
    "hash": "ed8ce2715666cca47edfe3dc40f16f58fc193b5a7b06958e2ae06c97afdf9990"
   }
  }
 },
 "nbformat": 4,
 "nbformat_minor": 2
}
