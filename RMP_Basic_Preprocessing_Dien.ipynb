{
  "cells": [
    {
      "cell_type": "markdown",
      "metadata": {
        "id": "gQV3OxqpZG_N"
      },
      "source": [
        "# Preprocessing Setup\n",
        "Basic steps, because there are domain specific problems to account for later"
      ]
    },
    {
      "cell_type": "code",
      "execution_count": null,
      "metadata": {
        "id": "k7nhxQ8_ZI86"
      },
      "outputs": [],
      "source": [
        "import pandas as pd\n",
        "import numpy as np\n",
        "import re\n",
        "import spacy\n",
        "import pkg_resources\n",
        "from spacy.lang.en.stop_words import STOP_WORDS\n",
        "from collections import Counter\n",
        "\n",
        "import nltk\n",
        "from nltk.stem import WordNetLemmatizer\n",
        "from nltk.corpus import words, wordnet, brown"
      ]
    },
    {
      "cell_type": "code",
      "execution_count": null,
      "metadata": {
        "colab": {
          "base_uri": "https://localhost:8080/"
        },
        "id": "6jDqCGD3s7Ku",
        "outputId": "a8b1ad53-0f78-47a7-e641-7f3367ee5419"
      },
      "outputs": [
        {
          "name": "stdout",
          "output_type": "stream",
          "text": [
            "\u001b[38;5;2m✔ Download and installation successful\u001b[0m\n",
            "You can now load the package via spacy.load('en_core_web_md')\n"
          ]
        },
        {
          "name": "stderr",
          "output_type": "stream",
          "text": [
            "[nltk_data] Downloading package words to /root/nltk_data...\n",
            "[nltk_data]   Package words is already up-to-date!\n",
            "[nltk_data] Downloading package omw-1.4 to /root/nltk_data...\n",
            "[nltk_data]   Package omw-1.4 is already up-to-date!\n",
            "[nltk_data] Downloading package wordnet to /root/nltk_data...\n",
            "[nltk_data]   Package wordnet is already up-to-date!\n"
          ]
        },
        {
          "data": {
            "text/plain": [
              "True"
            ]
          },
          "execution_count": 2,
          "metadata": {},
          "output_type": "execute_result"
        }
      ],
      "source": [
        "# !pip install symspellpy\n",
        "\n",
        "from spacy.cli import download\n",
        "download('en_core_web_md')\n",
        "nltk.download('words')\n",
        "nltk.download('omw-1.4')\n",
        "nltk.download('wordnet')"
      ]
    },
    {
      "cell_type": "code",
      "execution_count": null,
      "metadata": {
        "id": "MnPL-zIAs8Ml"
      },
      "outputs": [],
      "source": [
        "# from symspellpy import SymSpell, Verbosity"
      ]
    },
    {
      "cell_type": "code",
      "execution_count": null,
      "metadata": {
        "colab": {
          "base_uri": "https://localhost:8080/"
        },
        "id": "UMSveQ7KZ2R_",
        "outputId": "87e58a00-43be-4527-d1dd-1858e172358a"
      },
      "outputs": [
        {
          "name": "stdout",
          "output_type": "stream",
          "text": [
            "Drive already mounted at /content/drive; to attempt to forcibly remount, call drive.mount(\"/content/drive\", force_remount=True).\n"
          ]
        }
      ],
      "source": [
        "from google.colab import drive\n",
        "drive.mount('/content/drive')"
      ]
    },
    {
      "cell_type": "code",
      "execution_count": null,
      "metadata": {
        "id": "yLicijJQZLzr"
      },
      "outputs": [],
      "source": [
        "reviews = pd.read_csv(\"/content/drive/MyDrive/RMP/reviews_filtered.csv\").sample(n=300000, random_state=1)\n",
        "# reviews = pd.read_csv(\"/content/drive/MyDrive/RMP/scraped_comments_with_professor.csv\").sample(n=300000, random_state=1)\n",
        "# reviews[['comment_id', 'firstName', 'lastName', 'prof_class', 'comment', 'clarityRating', 'helpfulRating']].to_csv(\"/content/drive/MyDrive/RMP/scraped_comments_sample.csv\")"
      ]
    },
    {
      "cell_type": "code",
      "execution_count": null,
      "metadata": {
        "colab": {
          "base_uri": "https://localhost:8080/",
          "height": 756
        },
        "id": "9vGcWkCVlghQ",
        "outputId": "0938b879-6a26-4278-d56b-408123bb22f5"
      },
      "outputs": [
        {
          "data": {
            "text/html": [
              "\n",
              "  <div id=\"df-bf669f8e-be7c-495b-94ab-3866b2ffe598\">\n",
              "    <div class=\"colab-df-container\">\n",
              "      <div>\n",
              "<style scoped>\n",
              "    .dataframe tbody tr th:only-of-type {\n",
              "        vertical-align: middle;\n",
              "    }\n",
              "\n",
              "    .dataframe tbody tr th {\n",
              "        vertical-align: top;\n",
              "    }\n",
              "\n",
              "    .dataframe thead th {\n",
              "        text-align: right;\n",
              "    }\n",
              "</style>\n",
              "<table border=\"1\" class=\"dataframe\">\n",
              "  <thead>\n",
              "    <tr style=\"text-align: right;\">\n",
              "      <th></th>\n",
              "      <th>Unnamed: 0</th>\n",
              "      <th>firstName</th>\n",
              "      <th>lastName</th>\n",
              "      <th>prof_class</th>\n",
              "      <th>comment</th>\n",
              "      <th>date</th>\n",
              "      <th>clarityRating</th>\n",
              "      <th>helpfulRating</th>\n",
              "      <th>professor_id</th>\n",
              "      <th>comment_id</th>\n",
              "      <th>qualityRating</th>\n",
              "      <th>sentiment</th>\n",
              "    </tr>\n",
              "  </thead>\n",
              "  <tbody>\n",
              "    <tr>\n",
              "      <th>307424</th>\n",
              "      <td>843276</td>\n",
              "      <td>Corey</td>\n",
              "      <td>Zwikstra</td>\n",
              "      <td>EN310</td>\n",
              "      <td>He is clearly well versed on the topic. Howeve...</td>\n",
              "      <td>2012-12-02 17:52:09+00:00</td>\n",
              "      <td>1</td>\n",
              "      <td>1</td>\n",
              "      <td>VGVhY2hlci0xMjY4MTU4</td>\n",
              "      <td>UmF0aW5nLTIwOTMxNjI3</td>\n",
              "      <td>1.0</td>\n",
              "      <td>False</td>\n",
              "    </tr>\n",
              "    <tr>\n",
              "      <th>265217</th>\n",
              "      <td>835083</td>\n",
              "      <td>Jeff</td>\n",
              "      <td>Thompson</td>\n",
              "      <td>FINA445</td>\n",
              "      <td>Really nice guy but the class was terrible. He...</td>\n",
              "      <td>2007-11-19 14:13:32+00:00</td>\n",
              "      <td>3</td>\n",
              "      <td>4</td>\n",
              "      <td>VGVhY2hlci0xMDUzMDc2</td>\n",
              "      <td>UmF0aW5nLTEzNjc4MTc2</td>\n",
              "      <td>3.5</td>\n",
              "      <td>True</td>\n",
              "    </tr>\n",
              "    <tr>\n",
              "      <th>140855</th>\n",
              "      <td>215011</td>\n",
              "      <td>Danney</td>\n",
              "      <td>Ursery</td>\n",
              "      <td>PHIL119</td>\n",
              "      <td>This instructor is wonderful! If you need help...</td>\n",
              "      <td>2009-05-10 19:55:20+00:00</td>\n",
              "      <td>4</td>\n",
              "      <td>5</td>\n",
              "      <td>VGVhY2hlci05OTEzODg=</td>\n",
              "      <td>UmF0aW5nLTE1ODA3MDAx</td>\n",
              "      <td>4.5</td>\n",
              "      <td>True</td>\n",
              "    </tr>\n",
              "    <tr>\n",
              "      <th>181201</th>\n",
              "      <td>610297</td>\n",
              "      <td>Cheira</td>\n",
              "      <td>Belguellaoui</td>\n",
              "      <td>FREN420</td>\n",
              "      <td>I didn't know anything about the  Maghreb and ...</td>\n",
              "      <td>2008-12-06 22:25:06+00:00</td>\n",
              "      <td>5</td>\n",
              "      <td>5</td>\n",
              "      <td>VGVhY2hlci05NDc4MjA=</td>\n",
              "      <td>UmF0aW5nLTE1MTIyMDM0</td>\n",
              "      <td>5.0</td>\n",
              "      <td>True</td>\n",
              "    </tr>\n",
              "    <tr>\n",
              "      <th>143393</th>\n",
              "      <td>547933</td>\n",
              "      <td>Paul</td>\n",
              "      <td>Koester</td>\n",
              "      <td>MA123</td>\n",
              "      <td>Paul is a pretty good teacher, pay attention i...</td>\n",
              "      <td>2011-07-28 21:01:05+00:00</td>\n",
              "      <td>4</td>\n",
              "      <td>4</td>\n",
              "      <td>VGVhY2hlci0xMzE5NjA0</td>\n",
              "      <td>UmF0aW5nLTE4ODYxMzg1</td>\n",
              "      <td>4.0</td>\n",
              "      <td>True</td>\n",
              "    </tr>\n",
              "  </tbody>\n",
              "</table>\n",
              "</div>\n",
              "      <button class=\"colab-df-convert\" onclick=\"convertToInteractive('df-bf669f8e-be7c-495b-94ab-3866b2ffe598')\"\n",
              "              title=\"Convert this dataframe to an interactive table.\"\n",
              "              style=\"display:none;\">\n",
              "        \n",
              "  <svg xmlns=\"http://www.w3.org/2000/svg\" height=\"24px\"viewBox=\"0 0 24 24\"\n",
              "       width=\"24px\">\n",
              "    <path d=\"M0 0h24v24H0V0z\" fill=\"none\"/>\n",
              "    <path d=\"M18.56 5.44l.94 2.06.94-2.06 2.06-.94-2.06-.94-.94-2.06-.94 2.06-2.06.94zm-11 1L8.5 8.5l.94-2.06 2.06-.94-2.06-.94L8.5 2.5l-.94 2.06-2.06.94zm10 10l.94 2.06.94-2.06 2.06-.94-2.06-.94-.94-2.06-.94 2.06-2.06.94z\"/><path d=\"M17.41 7.96l-1.37-1.37c-.4-.4-.92-.59-1.43-.59-.52 0-1.04.2-1.43.59L10.3 9.45l-7.72 7.72c-.78.78-.78 2.05 0 2.83L4 21.41c.39.39.9.59 1.41.59.51 0 1.02-.2 1.41-.59l7.78-7.78 2.81-2.81c.8-.78.8-2.07 0-2.86zM5.41 20L4 18.59l7.72-7.72 1.47 1.35L5.41 20z\"/>\n",
              "  </svg>\n",
              "      </button>\n",
              "      \n",
              "  <style>\n",
              "    .colab-df-container {\n",
              "      display:flex;\n",
              "      flex-wrap:wrap;\n",
              "      gap: 12px;\n",
              "    }\n",
              "\n",
              "    .colab-df-convert {\n",
              "      background-color: #E8F0FE;\n",
              "      border: none;\n",
              "      border-radius: 50%;\n",
              "      cursor: pointer;\n",
              "      display: none;\n",
              "      fill: #1967D2;\n",
              "      height: 32px;\n",
              "      padding: 0 0 0 0;\n",
              "      width: 32px;\n",
              "    }\n",
              "\n",
              "    .colab-df-convert:hover {\n",
              "      background-color: #E2EBFA;\n",
              "      box-shadow: 0px 1px 2px rgba(60, 64, 67, 0.3), 0px 1px 3px 1px rgba(60, 64, 67, 0.15);\n",
              "      fill: #174EA6;\n",
              "    }\n",
              "\n",
              "    [theme=dark] .colab-df-convert {\n",
              "      background-color: #3B4455;\n",
              "      fill: #D2E3FC;\n",
              "    }\n",
              "\n",
              "    [theme=dark] .colab-df-convert:hover {\n",
              "      background-color: #434B5C;\n",
              "      box-shadow: 0px 1px 3px 1px rgba(0, 0, 0, 0.15);\n",
              "      filter: drop-shadow(0px 1px 2px rgba(0, 0, 0, 0.3));\n",
              "      fill: #FFFFFF;\n",
              "    }\n",
              "  </style>\n",
              "\n",
              "      <script>\n",
              "        const buttonEl =\n",
              "          document.querySelector('#df-bf669f8e-be7c-495b-94ab-3866b2ffe598 button.colab-df-convert');\n",
              "        buttonEl.style.display =\n",
              "          google.colab.kernel.accessAllowed ? 'block' : 'none';\n",
              "\n",
              "        async function convertToInteractive(key) {\n",
              "          const element = document.querySelector('#df-bf669f8e-be7c-495b-94ab-3866b2ffe598');\n",
              "          const dataTable =\n",
              "            await google.colab.kernel.invokeFunction('convertToInteractive',\n",
              "                                                     [key], {});\n",
              "          if (!dataTable) return;\n",
              "\n",
              "          const docLinkHtml = 'Like what you see? Visit the ' +\n",
              "            '<a target=\"_blank\" href=https://colab.research.google.com/notebooks/data_table.ipynb>data table notebook</a>'\n",
              "            + ' to learn more about interactive tables.';\n",
              "          element.innerHTML = '';\n",
              "          dataTable['output_type'] = 'display_data';\n",
              "          await google.colab.output.renderOutput(dataTable, element);\n",
              "          const docLink = document.createElement('div');\n",
              "          docLink.innerHTML = docLinkHtml;\n",
              "          element.appendChild(docLink);\n",
              "        }\n",
              "      </script>\n",
              "    </div>\n",
              "  </div>\n",
              "  "
            ],
            "text/plain": [
              "        Unnamed: 0 firstName      lastName prof_class  \\\n",
              "307424      843276     Corey      Zwikstra      EN310   \n",
              "265217      835083      Jeff      Thompson    FINA445   \n",
              "140855      215011    Danney        Ursery    PHIL119   \n",
              "181201      610297    Cheira  Belguellaoui    FREN420   \n",
              "143393      547933      Paul       Koester      MA123   \n",
              "\n",
              "                                                  comment  \\\n",
              "307424  He is clearly well versed on the topic. Howeve...   \n",
              "265217  Really nice guy but the class was terrible. He...   \n",
              "140855  This instructor is wonderful! If you need help...   \n",
              "181201  I didn't know anything about the  Maghreb and ...   \n",
              "143393  Paul is a pretty good teacher, pay attention i...   \n",
              "\n",
              "                             date  clarityRating  helpfulRating  \\\n",
              "307424  2012-12-02 17:52:09+00:00              1              1   \n",
              "265217  2007-11-19 14:13:32+00:00              3              4   \n",
              "140855  2009-05-10 19:55:20+00:00              4              5   \n",
              "181201  2008-12-06 22:25:06+00:00              5              5   \n",
              "143393  2011-07-28 21:01:05+00:00              4              4   \n",
              "\n",
              "                professor_id            comment_id  qualityRating  sentiment  \n",
              "307424  VGVhY2hlci0xMjY4MTU4  UmF0aW5nLTIwOTMxNjI3            1.0      False  \n",
              "265217  VGVhY2hlci0xMDUzMDc2  UmF0aW5nLTEzNjc4MTc2            3.5       True  \n",
              "140855  VGVhY2hlci05OTEzODg=  UmF0aW5nLTE1ODA3MDAx            4.5       True  \n",
              "181201  VGVhY2hlci05NDc4MjA=  UmF0aW5nLTE1MTIyMDM0            5.0       True  \n",
              "143393  VGVhY2hlci0xMzE5NjA0  UmF0aW5nLTE4ODYxMzg1            4.0       True  "
            ]
          },
          "execution_count": 6,
          "metadata": {},
          "output_type": "execute_result"
        }
      ],
      "source": [
        "reviews.head()"
      ]
    },
    {
      "cell_type": "markdown",
      "metadata": {
        "id": "tGS9yvAMag7H"
      },
      "source": [
        "## Duplicates and Nulls"
      ]
    },
    {
      "cell_type": "code",
      "execution_count": null,
      "metadata": {
        "colab": {
          "base_uri": "https://localhost:8080/"
        },
        "id": "CLUgn5sbZ_1g",
        "outputId": "e15eb748-ed10-448a-d930-8321f7d32853"
      },
      "outputs": [
        {
          "name": "stdout",
          "output_type": "stream",
          "text": [
            "Shape before dropping: (300000, 12)\n",
            "Shape after dropping: (300000, 12)\n"
          ]
        }
      ],
      "source": [
        "print(\"Shape before dropping:\", reviews.shape)\n",
        "reviews.drop_duplicates(subset=\"comment_id\", keep=\"first\", inplace=True)\n",
        "\n",
        "# drop rows containing only \"No Comments\" (default value assigned by RMP to a review that didn't enter a comment)\n",
        "reviews = reviews[reviews[\"comment\"] != \"No Comments\"]\n",
        "\n",
        "# drop rows containing NaN comment\n",
        "reviews.dropna(subset=[\"comment\"], inplace=True)\n",
        "\n",
        "# fill null names with empty string\n",
        "reviews['firstName'].fillna('', inplace=True)\n",
        "reviews['lastName'].fillna('', inplace=True)\n",
        "\n",
        "# Dropping qualityRating == 3.0\n",
        "reviews['qualityRating'] = (reviews['helpfulRating']+reviews['clarityRating'])/2.0\n",
        "reviews = reviews[reviews[\"qualityRating\"] != 3.0]\n",
        "reviews[\"sentiment\"] = reviews[\"qualityRating\"] > 3.0\n",
        "\n",
        "print(\"Shape after dropping:\", reviews.shape)\n",
        "reviews.reset_index(drop=True, inplace=True)"
      ]
    },
    {
      "cell_type": "markdown",
      "metadata": {
        "id": "yDFaJC7Fe4nk"
      },
      "source": [
        "## Removing Urls, Phone Numbers, and Emails"
      ]
    },
    {
      "cell_type": "code",
      "execution_count": null,
      "metadata": {
        "colab": {
          "base_uri": "https://localhost:8080/"
        },
        "id": "yzZSR-eXe9Cr",
        "outputId": "e383cee6-34fa-4534-d15a-90dce1e49a1b"
      },
      "outputs": [
        {
          "name": "stdout",
          "output_type": "stream",
          "text": [
            "Hey! Check out this link:  \n",
            "Hey! Check out this phone number:  \n",
            "Hey! Check out this email address:  \n"
          ]
        }
      ],
      "source": [
        "def remove_urls(text):\n",
        "    return re.sub(r'https?://\\S+|www\\.\\S+', ' ', text)\n",
        "\n",
        "def remove_phones(text):\n",
        "    return re.sub(r'\\d{3}-\\d{3}-\\d{4}', ' ', text)\n",
        "\n",
        "def remove_emails(text):\n",
        "    return re.sub(r'[a-zA-Z0-9_.+-]+@[a-zA-Z0-9-]+\\.[a-zA-Z0-9-.]+', ' ', text)\n",
        "\n",
        "print(remove_urls('Hey! Check out this link: www.somelink.com'))\n",
        "print(remove_phones(\"Hey! Check out this phone number: 742-457-0417\"))\n",
        "print(remove_emails(\"Hey! Check out this email address: nooneuses@yahoo.com\"))"
      ]
    },
    {
      "cell_type": "markdown",
      "metadata": {
        "id": "ZDTjxLjqnu-B"
      },
      "source": [
        "## Html Artifacts"
      ]
    },
    {
      "cell_type": "code",
      "execution_count": null,
      "metadata": {
        "colab": {
          "base_uri": "https://localhost:8080/"
        },
        "id": "BEmTjY8mnzaQ",
        "outputId": "b9834cbe-bb20-44ee-c43e-f9e8739d44d1"
      },
      "outputs": [
        {
          "name": "stdout",
          "output_type": "stream",
          "text": [
            "This professor is such an easy  A , why are y'all struggling    </div>\n",
            "This professor is such an easy &quot;A&quot;, why are y'all struggling &#63;&#63;&#63  \n"
          ]
        }
      ],
      "source": [
        "# TODO: Convert html entites of quotes -> \"'\" to normalize\n",
        "def remove_html_entities(text):\n",
        "  text = re.sub('&[0-9a-zA-Z#]+;', ' ', text)\n",
        "  return re.sub('&#63;?', '', text)\n",
        "\n",
        "def remove_html_tags(text):\n",
        "  return re.sub('<.{1,6}?>', ' ', text)\n",
        "\n",
        "text = \"This professor is such an easy &quot;A&quot;, why are y'all struggling &#63;&#63;&#63 </div>\"\n",
        "print(remove_html_entities(text))\n",
        "print(remove_html_tags(text))"
      ]
    },
    {
      "cell_type": "markdown",
      "metadata": {
        "id": "BxBEJJO9a-Jo"
      },
      "source": [
        "## Emoticon Conversion to Words"
      ]
    },
    {
      "cell_type": "code",
      "execution_count": null,
      "metadata": {
        "id": "Rf2Q8b2TbAsr"
      },
      "outputs": [],
      "source": [
        "#@title Emoticon Mapping\n",
        "EMOTICONS = {\n",
        "    u\"<3\": \"emopos\",\n",
        "    u\":‑)\":\"emopos\",\n",
        "    u\":-))\":\"emopos\",\n",
        "    u\":-)))\":\"emopos\",\n",
        "    u\":)\":\"emopos\",\n",
        "    u\":))\":\"emopos\",\n",
        "    u\":)))\":\"emopos\",\n",
        "    u\":-]\":\"emopos\",\n",
        "    u\":]\":\"emopos\",\n",
        "    u\":-3\":\"emopos\",\n",
        "    u\":3\":\"emopos\",\n",
        "    u\":->\":\"emopos\",\n",
        "    u\":>\":\"emopos\",\n",
        "    u\"8-)\":\"emopos\",\n",
        "    u\":-}\":\"emopos\",\n",
        "    u\":}\":\"emopos\",\n",
        "    u\":-)\":\"emopos\",\n",
        "    u\":c)\":\"emopos\",\n",
        "    u\":^)\":\"emopos\",\n",
        "    u\"=]\":\"emopos\",\n",
        "    u\"=)\":\"emopos\",\n",
        "    u\":‑D\":\"emopos\",\n",
        "    u\":D\":\"emopos\",\n",
        "    u\"8‑D\":\"emopos\",\n",
        "    u\"8D\":\"emopos\",\n",
        "    u\"X‑D\":\"emopos\",\n",
        "    u\"XD\":\"emopos\",\n",
        "    u\"=D\":\"emopos\",\n",
        "    u\"=3\":\"emopos\",\n",
        "    u\"B^D\":\"emopos\",\n",
        "    u\":-))\":\"emopos\",\n",
        "    u\":-(\":\"emoneg\",\n",
        "    u\":‑(\":\"emoneg\",\n",
        "    u\":(\":\"emoneg\",\n",
        "    u\":‑c\":\"emoneg\",\n",
        "    u\":c\":\"emoneg\",\n",
        "    u\":‑<\":\"emoneg\",\n",
        "    u\":<\":\"emoneg\",\n",
        "    u\":‑[\":\"emoneg\",\n",
        "    u\":[\":\"emoneg\",\n",
        "    u\":-||\":\"emoneg\",\n",
        "    u\">:[\":\"emoneg\",\n",
        "    u\":{\":\"emoneg\",\n",
        "    u\">:(\":\"emoneg\",\n",
        "    u\":'‑(\":\"emoneg\",\n",
        "    u\":'(\":\"emoneg\",\n",
        "    u\":'‑)\":\"emopos\",\n",
        "    u\":')\":\"emopos\",\n",
        "    u\"D‑':\":\"emoneg\",\n",
        "    u\"D:<\":\"emoneg\",\n",
        "    u\"D:\":\"emoneg\",\n",
        "    u\"D8\":\"emoneg\",\n",
        "    u\"D;\":\"emoneg\",\n",
        "    u\"D=\":\"emoneg\",\n",
        "    u\"DX\":\"emoneg\",\n",
        "    u\";‑)\":\"emopos\",\n",
        "    u\";)\":\"emopos\",\n",
        "    u\"*-)\":\"emopos\",\n",
        "    u\"*)\":\"emopos\",\n",
        "    u\";‑]\":\"emopos\",\n",
        "    u\";]\":\"emopos\",\n",
        "    u\";^)\":\"emopos\",\n",
        "    u\":‑,\":\"emopos\",\n",
        "    u\";D\":\"emopos\",\n",
        "    u\":‑P\":\"emopos\",\n",
        "    u\":P\":\"emopos\",\n",
        "    u\"X‑P\":\"emopos\",\n",
        "    u\"XP\":\"emopos\",\n",
        "    u\":‑Þ\":\"emopos\",\n",
        "    u\":Þ\":\"emopos\",\n",
        "    u\"=p\":\"emopos\",\n",
        "    u\":‑/\":\"emoneg\",\n",
        "    u\":/\":\"emoneg\",\n",
        "    u\":-[.]\":\"emoneg\",\n",
        "    u\">:[(\\)]\":\"emoneg\",\n",
        "    u\">:/\":\"emoneg\",\n",
        "    u\":[(\\)]\":\"emoneg\",\n",
        "    u\"=/\":\"emoneg\",\n",
        "    u\"=[(\\)]\":\"emoneg\",\n",
        "    u\":L\":\"emoneg\",\n",
        "    u\"=L\":\"emoneg\",\n",
        "    u\":‑|\":\"emoneg\",\n",
        "    u\":|\":\"emoneg\",\n",
        "    u\"O:‑)\":\"emopos\",\n",
        "    u\"O:)\":\"emopos\",\n",
        "    u\"0:‑3\":\"emopos\",\n",
        "    u\"0:3\":\"emopos\",\n",
        "    u\"0:‑)\":\"emopos\",\n",
        "    u\"0:)\":\"emopos\",\n",
        "    u\":‑b\":\"emopos\",\n",
        "    u\"(>_<)\":\"emoneg\",\n",
        "    u\"(>_<)>\":\"emoneg\",\n",
        "    u\"^_^\":\"emopos\",\n",
        "    u\"(^_^)/\":\"emopos\",\n",
        "    u\"(^O^)／\":\"emopos\",\n",
        "    u\"(^o^)／\":\"emopos\",\n",
        "    u\"('_')\":\"emoneg\",\n",
        "    u\"(/_;)\":\"emoneg\",\n",
        "    u\"(T_T) (;_;)\":\"emoneg\",\n",
        "    u\"(;_;\":\"emoneg\",\n",
        "    u\"(;_:)\":\"emoneg\",\n",
        "    u\"(;O;)\":\"emoneg\",\n",
        "    u\"(:_;)\":\"emoneg\",\n",
        "    u\"(ToT)\":\"emoneg\",\n",
        "    u\";_;\":\"emoneg\",\n",
        "    u\";-;\":\"emoneg\",\n",
        "    u\";n;\":\"emoneg\",\n",
        "    u\"Q.Q\":\"emoneg\",\n",
        "    u\"T.T\":\"emoneg\",\n",
        "    u\"Q_Q\":\"emoneg\",\n",
        "    u\"(-.-)\":\"emopos\",\n",
        "    u\"(-_-)\":\"emopos\",\n",
        "    u\"(；一_一)\":\"emopos\",\n",
        "    u\"(=_=)\":\"emoneg\",\n",
        "    u\"^m^\":\"emopos\",\n",
        "    u\">^_^<\":\"emopos\",\n",
        "    u\"<^!^>\":\"emopos\",\n",
        "    u\"^/^\":\"emopos\",\n",
        "    u\"（*^_^*）\" :\"emopos\",\n",
        "    u\"(^<^) (^.^)\":\"emopos\",\n",
        "    u\"(^^)\":\"emopos\",\n",
        "    u\"(^.^)\":\"emopos\",\n",
        "    u\"(^_^.)\":\"emopos\",\n",
        "    u\"(^_^)\":\"emopos\",\n",
        "    u\"(^^)\":\"emopos\",\n",
        "    u\"(^J^)\":\"emopos\",\n",
        "    u\"(*^.^*)\":\"emopos\",\n",
        "    u\"(^—^）\":\"emopos\",\n",
        "    u\"(#^.^#)\":\"emopos\",\n",
        "    u\"(*^0^*)\":\"emopos\",\n",
        "    u\"(*^^)v\":\"emopos\",\n",
        "    u\"(^_^)v\":\"emopos\",\n",
        "    u'(-\"-)':\"emoneg\",\n",
        "    u\"(ーー;)\":\"emoneg\",\n",
        "    u\"(＾ｖ＾)\":\"emopos\",\n",
        "    u\"(＾ｕ＾)\":\"emopos\",\n",
        "    u\"(^)o(^)\":\"emopos\",\n",
        "    u\"(^O^)\":\"emopos\",\n",
        "    u\"(^o^)\":\"emopos\",\n",
        "    u\")^o^(\":\"emopos\",\n",
        "    u\":O o_O\":\"emoneg\",\n",
        "    u\"o_0\":\"emoneg\",\n",
        "    u\"o.O\":\"emoneg\",\n",
        "    u\"(o.o)\":\"emoneg\",\n",
        "    u\"(*￣m￣)\": \"emoneg\",\n",
        "}\n",
        "\n",
        "for emote, val in EMOTICONS.items():\n",
        "  EMOTICONS[emote] = val.lower().replace(',', ' ').replace(' ', '_')"
      ]
    },
    {
      "cell_type": "code",
      "execution_count": null,
      "metadata": {
        "colab": {
          "base_uri": "https://localhost:8080/"
        },
        "id": "x-jJdrc-bpp9",
        "outputId": "2e2efda3-4b3e-4a32-9709-197ffc596256"
      },
      "outputs": [
        {
          "name": "stdout",
          "output_type": "stream",
          "text": [
            "Hello emopos emopos\n"
          ]
        }
      ],
      "source": [
        "def convert_emoticons(text):\n",
        "  return EMOTICONS.get(text, text)\n",
        "  \n",
        "text = \"Hello :-) :-)\"\n",
        "text_split = text.split()\n",
        "for i, txt in enumerate(text_split):\n",
        "  text_split[i] = convert_emoticons(txt)\n",
        "print(' '.join(text_split))"
      ]
    },
    {
      "cell_type": "markdown",
      "metadata": {
        "id": "h9wPsJ3ghEBw"
      },
      "source": [
        "## Contractions"
      ]
    },
    {
      "cell_type": "code",
      "execution_count": null,
      "metadata": {
        "id": "VgcFh25YhG5U"
      },
      "outputs": [],
      "source": [
        "#@title Contraction Mapping\n",
        "contraction_mapping = {\n",
        "    \"dont\": \"do not\",\n",
        "    \"doesnt\": \"does not\",\n",
        "    \"arent\": \"are not\",\n",
        "    \"cant\": \"can not\",\n",
        "    \"couldve\": \"could have\",\n",
        "    \"couldnt\": \"could not\",\n",
        "    \"didnt\": \"did not\",\n",
        "    \"aint\": \"is not\",\n",
        "    \"arent\": \"are not\",\n",
        "    \"hes\": \"he is\",\n",
        "    \"shes\": \"she is\",\n",
        "    \"havent\": \"have not\",\n",
        "    \"hasnt\": \"has not\",\n",
        "    'youll': \"you will\",\n",
        "    \"ive\": \"i have\",\n",
        "    \"youve\": \"you have\",\n",
        "    \"shouldve\": \"should have\",\n",
        "    \"im\": \"i am\",\n",
        "    \"isnt\": \"is not\",\n",
        "    \"ain't\": \"is not\", \n",
        "    \"aren't\": \"are not\",\n",
        "    \"can't\": \"cannot\",\n",
        "    \"'cause\": \"because\", \n",
        "    \"could've\": \"could have\", \n",
        "    \"couldn't\": \"could not\", \n",
        "    \"didn't\": \"did not\",  \n",
        "    \"doesn't\": \"does not\", \n",
        "    \"don't\": \"do not\", \n",
        "    \"hadn't\": \"had not\", \n",
        "    \"hasn't\": \"has not\", \n",
        "    \"shouldnt\": \"should not\",\n",
        "    \"haven't\": \"have not\", \n",
        "    \"he'd\": \"he would\",\n",
        "    \"he'll\": \"he will\", \n",
        "    \"he's\": \"he is\", \n",
        "    \"how'd\": \"how did\", \n",
        "    \"how'd'y\": \"how do you\", \n",
        "    \"how'll\": \"how will\", \n",
        "    \"how's\": \"how is\",\n",
        "    \"i'd\": \"i would\", \n",
        "    \"i'd've\": \"i would have\", \n",
        "    \"i'll\": \"i will\",  \n",
        "    \"i'll've\": \"i will have\",\n",
        "    \"i'm\": \"i am\", \n",
        "    \"i've\": \"i have\", \n",
        "    \"isn't\": \"is not\", \n",
        "    \"it'd\": \"it would\", \n",
        "    \"it'd've\": \"it would have\", \n",
        "    \"it'll\": \"it will\", \n",
        "    \"it'll've\": \"it will have\",\n",
        "    \"it's\": \"it is\", \n",
        "    \"let's\": \"let us\", \n",
        "    \"ma'am\": \"madam\", \n",
        "    \"mayn't\": \"may not\", \n",
        "    \"might've\": \"might have\",\n",
        "    \"mightn't\": \"might not\",\n",
        "    \"mightn't've\": \"might not have\", \n",
        "    \"must've\": \"must have\", \n",
        "    \"mustn't\": \"must not\", \n",
        "    \"mustn't've\": \"must not have\", \n",
        "    \"needn't\": \"need not\", \n",
        "    \"needn't've\": \"need not have\",\n",
        "    \"o'clock\": \"of the clock\", \n",
        "    \"oughtn't\": \"ought not\", \n",
        "    \"oughtn't've\": \"ought not have\", \n",
        "    \"shan't\": \"shall not\", \n",
        "    \"sha'n't\": \"shall not\", \n",
        "    \"shan't've\": \"shall not have\", \n",
        "    \"she'd\": \"she would\", \n",
        "    \"she'd've\": \"she would have\", \n",
        "    \"she'll\": \"she will\", \n",
        "    \"she'll've\": \"she will have\", \n",
        "    \"she's\": \"she is\", \n",
        "    \"should've\": \"should have\", \n",
        "    \"shouldn't\": \"should not\", \n",
        "    \"shouldn't've\": \"should not have\", \n",
        "    \"this's\": \"this is\",\n",
        "    \"this'll\": \"this will\",\n",
        "    \"thisll\": \"this will\",\n",
        "    \"that'd\": \"that would\", \n",
        "    \"that'd've\": \"that would have\", \n",
        "    \"that's\": \"that is\", \n",
        "    \"thats\": \"that is\",\n",
        "    \"there'd\": \"there would\", \n",
        "    \"there'd've\": \"there would have\", \n",
        "    \"there's\": \"there is\", \n",
        "    \"theres\": \"there is\",\n",
        "    \"here's\": \"here is\",\n",
        "    \"heres\": \"here is\",\n",
        "    \"they'd\": \"they would\", \n",
        "    \"they'd've\": \"they would have\", \n",
        "    \"they'll\": \"they will\", \n",
        "    \"they'll've\": \"they will have\", \n",
        "    \"they're\": \"they are\", \n",
        "    \"they've\": \"they have\", \n",
        "    \"to've\": \"to have\", \n",
        "    \"wasn't\": \"was not\", \n",
        "    \"wasnt\": \"was not\",\n",
        "    \"we'd\": \"we would\", \n",
        "    \"we'd've\": \"we would have\", \n",
        "    \"we'll\": \"we will\", \n",
        "    \"we'll've\": \"we will have\", \n",
        "    \"we're\": \"we are\", \n",
        "    \"we've\": \"we have\", \n",
        "    \"weve\": \"we have\",\n",
        "    \"werent\": \"were not\",\n",
        "    \"weren't\": \"were not\", \n",
        "    \"what'll\": \"what will\",\n",
        "    \"whatll\": \"what will\",\n",
        "    \"what'll've\": \"what will have\", \n",
        "    \"what're\": \"what are\",  \n",
        "    \"what's\": \"what is\", \n",
        "    \"what's\": \"what is\",\n",
        "    \"whatve\": \"what have\",\n",
        "    \"what've\": \"what have\", \n",
        "    \"when's\": \"when is\", \n",
        "    \"when've\": \"when have\", \n",
        "    \"where'd\": \"where did\", \n",
        "    \"where's\": \"where is\", \n",
        "    \"wheres\": \"where is\", \n",
        "    \"where've\": \"where have\",\n",
        "    \"who'll\": \"who will\", \n",
        "    \"who'll've\": \"who will have\", \n",
        "    \"who's\": \"who is\", \n",
        "    \"who've\": \"who have\", \n",
        "    \"whys\": \"why is\",\n",
        "    \"why's\": \"why is\", \n",
        "    \"why've\": \"why have\", \n",
        "    \"will've\": \"will have\", \n",
        "    \"willve\": \"will have\",\n",
        "    \"won't\": \"will not\", \n",
        "    \"wont\": \"will not\",\n",
        "    \"won't've\": \"will not have\", \n",
        "    \"would've\": \"would have\", \n",
        "    \"wouldve\": \"would have\",\n",
        "    \"wouldn't\": \"would not\", \n",
        "    \"wouldnt\": \"would not\",\n",
        "    \"wouldn't've\": \"would not have\", \n",
        "    \"y'all\": \"you all\", \n",
        "    \"y'all'd\": \"you all would\",\n",
        "    \"y'all'd've\": \"you all would have\",\n",
        "    \"y'all're\": \"you all are\",\n",
        "    \"y'all've\": \"you all have\",\n",
        "    \"you'd\": \"you would\", \n",
        "    \"you'd've\": \"you would have\", \n",
        "    \"you'll\": \"you will\", \n",
        "    \"you'll've\": \"you will have\", \n",
        "    \"you're\": \"you are\", \n",
        "    \"you've\": \"you have\"\n",
        "}\n",
        "\n",
        "len(contraction_mapping)"
      ]
    },
    {
      "cell_type": "code",
      "execution_count": null,
      "metadata": {
        "colab": {
          "base_uri": "https://localhost:8080/"
        },
        "id": "Rydaj1_hLuSL",
        "outputId": "85227d40-aa16-4ad9-96a7-0cc2079332ed"
      },
      "outputs": [
        {
          "data": {
            "text/plain": [
              "120"
            ]
          },
          "execution_count": 13,
          "metadata": {},
          "output_type": "execute_result"
        }
      ],
      "source": [
        "len(contraction_mapping)"
      ]
    },
    {
      "cell_type": "code",
      "execution_count": null,
      "metadata": {
        "colab": {
          "base_uri": "https://localhost:8080/"
        },
        "id": "Sl1TXvlvmjdx",
        "outputId": "6b7665e5-9443-436c-b0e2-627a50bae1b6"
      },
      "outputs": [
        {
          "name": "stdout",
          "output_type": "stream",
          "text": [
            "you are a pig and i should have slayed you, grrr\n"
          ]
        }
      ],
      "source": [
        "def expand_contraction(text): # Before expanding contraction, might want to clean of symbols that are not '\n",
        "  return contraction_mapping.get(text, text)\n",
        "\n",
        "text = \"You're a pig and I should've slayed you, grrr\"\n",
        "text_split = text.split()\n",
        "for i, txt in enumerate(text_split):\n",
        "  text_split[i] = expand_contraction(txt.lower())\n",
        "print(' '.join(text_split))"
      ]
    },
    {
      "cell_type": "markdown",
      "metadata": {
        "id": "gt7C3v2wNuNN"
      },
      "source": [
        "## Slang/Vocabulary"
      ]
    },
    {
      "cell_type": "code",
      "execution_count": null,
      "metadata": {
        "id": "4c8Slb5mNx8U"
      },
      "outputs": [],
      "source": [
        "#@title Vocab Mapping\n",
        "vocab_mapping = {\n",
        "    'ta': 'teaching assistant',\n",
        "    'biz': 'business',\n",
        "    'hw': 'homework',\n",
        "    'hws': 'homeworks',\n",
        "    'faq': 'frequently answered question',\n",
        "    'faqs': 'frequently answered questions',\n",
        "    'mcq': 'multiple choice question',\n",
        "    'mcqs': 'multiple choice questions',\n",
        "    'frq': 'free response question',\n",
        "    'frqs': 'free response questions',\n",
        "    'ppt': 'powerpoint',\n",
        "    'ppts': 'powerpoints',\n",
        "    'ques': 'question',\n",
        "    'bs': 'bullshit',\n",
        "    'bsing': 'bullshitting',\n",
        "    'bsed': 'bullshitted',\n",
        "    'lol': 'laugh out loud',\n",
        "    'btw': 'by the way',\n",
        "    'imo': 'in my opinion',\n",
        "    'imho': 'in my honest opinion',\n",
        "    'tbh': 'to be honest',\n",
        "    'asap': 'as soon as possible',\n",
        "    'idc': 'i do not care',\n",
        "    'omg': 'oh my god',\n",
        "    'ppl': 'people',\n",
        "    'rip': 'rest in peace',\n",
        "    'srsly': 'seriously',\n",
        "    'thx': 'thanks',\n",
        "    'txt': 'text',\n",
        "    'ur': 'your',\n",
        "    'tho': 'though',\n",
        "    'wtf': 'what the fuck',\n",
        "    'wth': 'what the heck',\n",
        "    'bc': 'because',\n",
        "    'b4': 'before',\n",
        "    'h8': 'hate',\n",
        "    'jk': 'just kidding',\n",
        "    'cuz': 'because'\n",
        "}"
      ]
    },
    {
      "cell_type": "markdown",
      "metadata": {
        "id": "eWtsBJUGtPK8"
      },
      "source": [
        "## Spellchecker"
      ]
    },
    {
      "cell_type": "code",
      "execution_count": null,
      "metadata": {
        "id": "FKD7XvKttROM"
      },
      "outputs": [],
      "source": [
        "# sym_spell = SymSpell(max_dictionary_edit_distance=2, prefix_length=7)\n",
        "# dictionary_path = pkg_resources.resource_filename(\n",
        "#     \"symspellpy\", \"frequency_dictionary_en_82_765.txt\"\n",
        "# )\n",
        "# # term_index is the column of the term and count_index is the\n",
        "# # column of the term frequency\n",
        "# sym_spell.load_dictionary(dictionary_path, term_index=0, count_index=1)\n",
        "\n",
        "# # lookup suggestions for single-word input strings\n",
        "# input_term = \"memebers\"  # misspelling of \"members\"\n",
        "\n",
        "# # Verbosity.TOP gets the best suggestion\n",
        "# suggestion = sym_spell.lookup(input_term, Verbosity.TOP, max_edit_distance=2)\n",
        "# print(suggestion[0], len(suggestion))"
      ]
    },
    {
      "cell_type": "markdown",
      "metadata": {
        "id": "9q3TYcnvmjP7"
      },
      "source": [
        "## Stopwords"
      ]
    },
    {
      "cell_type": "code",
      "execution_count": null,
      "metadata": {
        "id": "kYOoJLdAmkw_"
      },
      "outputs": [],
      "source": [
        "# amend list of stop words to keep whatever it is we want by removing words from list that we want to keep\n",
        "\n",
        "# TODO: is the list of stopwords on git complete and accurate or does someone want to read through all 325 stopwords spacy gives and determine which ones to keep?\n",
        "# stopwords = STOP_WORDS\n",
        "# stopwords.remove(\"but\")\n",
        "# stopwords.remove(\"not\")\n",
        "# stopwords.remove(\"nor\")\n",
        "# stopwords.remove(\"never\")\n",
        "general_stopwords = set([\"mr\", \"ms\", \"dr\", \"s\", \"t\", \"i\", \"me\", \"myself\", \"is\", \"the\"])\n",
        "\n",
        "gen_stops = set([\"mr\", \"ms\", \"dr\", \"doctor\", \"s\", \"t\", \"i\", \"me\", \"myself\", \"is\", \"she\", \"he\", \"we\", \"him\", \"her\", \"it\"])\n",
        "domain_stops = set([\"book\", \"books\", \"college\", \"colleges\", \"lecture\", \"lectures\", \"university\", \"universities\", \"lab\", \"labs\", \"hw\", \"hws\", \"quiz\", \"quizzes\", \"prof\", \"professor\", \"teacher\", \"class\", \"classes\", \"course\", \"courses\"])\n",
        "stopwords = gen_stops.union(domain_stops)"
      ]
    },
    {
      "cell_type": "markdown",
      "metadata": {
        "id": "PT1TVLy465BY"
      },
      "source": [
        "## Spacy Setup"
      ]
    },
    {
      "cell_type": "code",
      "execution_count": null,
      "metadata": {
        "id": "lyioHaPm67ik"
      },
      "outputs": [],
      "source": [
        "nlp = spacy.load('en_core_web_sm', exclude=['lemmatizer', 'parser', 'textcat', 'custom'])"
      ]
    },
    {
      "cell_type": "markdown",
      "metadata": {
        "id": "zOf9dOyURHNm"
      },
      "source": [
        "# Undersampling\n",
        "Currently the method used to undersample is messy. "
      ]
    },
    {
      "cell_type": "code",
      "execution_count": null,
      "metadata": {
        "colab": {
          "base_uri": "https://localhost:8080/"
        },
        "id": "n2-48HYpRGsX",
        "outputId": "0fe4370f-3a5a-4fbd-a460-26d8b1894aad"
      },
      "outputs": [
        {
          "name": "stdout",
          "output_type": "stream",
          "text": [
            "220850 79150\n",
            "184683\n",
            "True     184683\n",
            "False     79150\n",
            "Name: sentiment, dtype: int64\n",
            "0.6999996209723575\n"
          ]
        }
      ],
      "source": [
        "reviews_pos = reviews[reviews['sentiment'] == 1]\n",
        "reviews_neg = reviews[reviews['sentiment'] == 0]\n",
        "print(len(reviews_pos), len(reviews_neg))\n",
        "reviews_pos = reviews[reviews['sentiment'] == 1].sample(n = int(len(reviews_neg)*(.7/.3)), random_state=1) # Messy way of undersampling\n",
        "\n",
        "print(len(reviews_pos))\n",
        "\n",
        "reviews_pos.reset_index(inplace=True, drop=True)\n",
        "reviews_neg.reset_index(inplace=True, drop=True)\n",
        "reviews = pd.concat([reviews_pos, reviews_neg], ignore_index=True)\n",
        "\n",
        "print(reviews.sentiment.value_counts())\n",
        "print(reviews.sentiment.value_counts()[True]/len(reviews))"
      ]
    },
    {
      "cell_type": "markdown",
      "metadata": {
        "id": "x8c1-4PfqaCa"
      },
      "source": [
        "# Preprocessing Pipeline"
      ]
    },
    {
      "cell_type": "code",
      "execution_count": null,
      "metadata": {
        "colab": {
          "base_uri": "https://localhost:8080/"
        },
        "id": "hI6lvtrgqc0i",
        "outputId": "0a8b1772-1136-4a70-f96a-304f0d095085"
      },
      "outputs": [
        {
          "name": "stdout",
          "output_type": "stream",
          "text": [
            "25000\n",
            "50000\n",
            "75000\n",
            "100000\n",
            "125000\n",
            "150000\n",
            "175000\n",
            "200000\n",
            "225000\n",
            "250000\n"
          ]
        }
      ],
      "source": [
        "spellchecked_comments = []\n",
        "lemm = WordNetLemmatizer()\n",
        "grades = set(['a', 'b', 'c', 'd', 'e', 'f'])\n",
        "unseen = Counter()\n",
        "\n",
        "def preprocess_pipeline(df):\n",
        "  cnt = 0 # to keep track of progress\n",
        "  comments_proper = []\n",
        "  for index, review in df.iterrows():\n",
        "    comment = review['comment']\n",
        "    fname = review['firstName'].lower().split(' ')\n",
        "    lname = review['lastName'].lower().split(' ')\n",
        "    names = set(fname + lname)\n",
        "\n",
        "    cnt += 1\n",
        "    if cnt % 25000 == 0:\n",
        "      print(cnt)\n",
        "\n",
        "    comment = remove_urls(comment)\n",
        "    comment = remove_phones(comment)\n",
        "    comment = remove_emails(comment)\n",
        "    comment = remove_html_entities(comment)\n",
        "    comment = remove_html_tags(comment)\n",
        "\n",
        "    comment_split = comment.split(' ')\n",
        "    new_comment_split = []\n",
        "    for i, word in enumerate(comment_split):\n",
        "      word = convert_emoticons(word)\n",
        "      word = word.lower()\n",
        "      word = expand_contraction(word)\n",
        "      word = re.sub(\"[^a-z\\s]+\", ' ', word)   # replace characters that are not alphabetic, space, or underscore\n",
        "      # word = word.replace(\"'\", ' ') # replace apostrophe with space\n",
        "      word = re.sub(r'(.)\\1\\1+', '\\g<1>', word)  # replace any three character+ sequence with one\n",
        "      word = re.sub('\\s+', ' ', word)\n",
        "      word = word.strip() # trailing whitespace because punctuation replaced by space\n",
        "      # if word not in names:\n",
        "      new_comment_split.extend(word.split(' '))\n",
        "\n",
        "    # comment = comment.lower()\n",
        "    # comment = re.sub(\"[^a-zA-Z\\s]+\", ' ', comment)   # replace characters that are not alphabetic, space, or underscore\n",
        "    # comment = comment.replace(\"'\", '') # remove apostrophes\n",
        "    # comment = re.sub(r'(.)\\1\\1+', '\\g<1>', comment)  # replace any three characters sequence with one\n",
        "    # comment = re.sub('\\s+', ' ', comment)\n",
        "    # comment = comment.strip() # trailing whitespace because punctuation replaced by space\n",
        "\n",
        "    \n",
        "    # comment_split = comment.split(' ')\n",
        "    # new_comment_split = []\n",
        "    # for i, word in enumerate(comment_split):\n",
        "    #   if word not in names:\n",
        "    #     new_comment_split.append(word)\n",
        "\n",
        "    # Remove names from the comment\n",
        "    for i, word in enumerate(new_comment_split):\n",
        "      if word in names or word in stopwords:\n",
        "        new_comment_split[i] = ''\n",
        "      else:\n",
        "        new_comment_split[i] = vocab_mapping.get(word, word)\n",
        "\n",
        "    comment = ' '.join(new_comment_split)\n",
        "    comment = re.sub('\\s+', ' ', comment)\n",
        "    comment = comment.strip()\n",
        "\n",
        "    # comment = [lemm.lemmatize(word) for word in comment.split()] # Lemmatize\n",
        "    # comment = [word for word in comment.split() if word not in stopwords] # remove stopwords\n",
        "    # comment = \" \".join(comment)\n",
        "\n",
        "    # comment = ' '.join(word for word in comment.split() if len(word) > 1)\n",
        "\n",
        "    comments_proper.append(comment)\n",
        "    # spellchecked_comments.append(' '.join(sym_spell.lookup(word, Verbosity.TOP, max_edit_distance=2, include_unknown=True)[0].term for word in comment.split()))\n",
        "  return comments_proper\n",
        "\n",
        "comments_proper = preprocess_pipeline(reviews)"
      ]
    },
    {
      "cell_type": "code",
      "execution_count": null,
      "metadata": {
        "id": "3YUgaFJgA4VL"
      },
      "outputs": [],
      "source": [
        "unseen_words = Counter()\n",
        "people = Counter()\n",
        "def preprocess_pipe(texts):\n",
        "    preproc_pipe = []\n",
        "    for doc in nlp.pipe(texts, batch_size=200):\n",
        "      # for word in doc:\n",
        "      #   if word.pos_ == 'PROPN':\n",
        "      #     unseen_words[word.text] += 1\n",
        "      #     print(word.text, word.pos_)\n",
        "      # print(doc.ents)\n",
        "      for word in doc.ents:\n",
        "        if word.label_ == 'PERSON':\n",
        "          people[word.text] += 1\n",
        "          # print(word.text,word.label_)\n",
        "\n",
        "# preprocess_pipe(comments_proper)\n",
        "# print(unseen_words, len(unseen_words))\n",
        "# print(people, len(people))"
      ]
    },
    {
      "cell_type": "code",
      "execution_count": null,
      "metadata": {
        "colab": {
          "base_uri": "https://localhost:8080/"
        },
        "id": "FoPSuw4tS6hA",
        "outputId": "5b5e6095-6323-48ac-9750-9ce5a895de2f"
      },
      "outputs": [
        {
          "name": "stdout",
          "output_type": "stream",
          "text": [
            "Counter()\n"
          ]
        }
      ],
      "source": [
        "print(people)"
      ]
    },
    {
      "cell_type": "code",
      "execution_count": null,
      "metadata": {
        "id": "JEQYPIoJsS7_"
      },
      "outputs": [],
      "source": [
        "# i = 0\n",
        "# for comment, spellcheck_comment in zip(comments_proper, spellchecked_comments):\n",
        "#   print(comment)\n",
        "#   print(spellcheck_comment)\n",
        "#   print('\\n')\n",
        "#   i += 1\n",
        "#   if i == 10:\n",
        "#     break"
      ]
    },
    {
      "cell_type": "code",
      "execution_count": null,
      "metadata": {
        "colab": {
          "base_uri": "https://localhost:8080/"
        },
        "id": "xOD02O1J8tGW",
        "outputId": "caca1f09-4bde-443e-a6db-d011a3e8518a"
      },
      "outputs": [
        {
          "data": {
            "text/plain": [
              "0                                    a phenomenal great\n",
              "1     the greatest here point blank period take if y...\n",
              "2     really really cares about students will invite...\n",
              "3     gives some difficult assignments but also help...\n",
              "4     was a very nice and interesting didnt take for...\n",
              "5     was the greatest have ever had the pleasure of...\n",
              "6     a kind caring inspirational this was so easy w...\n",
              "7     an awesome will not take crap from anyone and ...\n",
              "8     great and a thoughtful intelligent instructor ...\n",
              "9     an excellent his teaching style uncomplicated ...\n",
              "10    awesome very dedicated and helpful although ca...\n",
              "11    love so sweet and understanding would love to ...\n",
              "12    was very clear and if you ever had a problem a...\n",
              "13    took his online very easy you do a discussion ...\n",
              "14    had for semesters its true there a work load b...\n",
              "15    the tests are not that bad as long as you stud...\n",
              "16    was amazing if not for then would have never m...\n",
              "17    very nice and was clear about expectations and...\n",
              "18    brings his years of teaching social studies to...\n",
              "19    was an awesome really cares for students and h...\n",
              "20    great very friendly relates to you and very he...\n",
              "21    the best have had at cal his extremely valuabl...\n",
              "22    amazing and so sweet was so easy to understand...\n",
              "23    a great loved this very helpful a writing so y...\n",
              "24                                          a very good\n",
              "Name: cleanedComment, dtype: object"
            ]
          },
          "execution_count": 24,
          "metadata": {},
          "output_type": "execute_result"
        }
      ],
      "source": [
        "reviews[\"cleanedComment\"] = pd.Series(comments_proper)\n",
        "# reviews[\"cleanedCommentChecked\"] = pd.Series(spellchecked_comments)\n",
        "reviews['cleanedComment'].head(25)"
      ]
    },
    {
      "cell_type": "code",
      "execution_count": null,
      "metadata": {
        "colab": {
          "base_uri": "https://localhost:8080/"
        },
        "id": "lnRBko2cixUB",
        "outputId": "7b0a1032-9b61-4ba0-cba0-34f5137af88e"
      },
      "outputs": [
        {
          "data": {
            "text/plain": [
              "True     184683\n",
              "False     79150\n",
              "Name: sentiment, dtype: int64"
            ]
          },
          "execution_count": 25,
          "metadata": {},
          "output_type": "execute_result"
        }
      ],
      "source": [
        "reviews['sentiment'].value_counts()"
      ]
    },
    {
      "cell_type": "code",
      "execution_count": null,
      "metadata": {
        "colab": {
          "base_uri": "https://localhost:8080/"
        },
        "id": "Fs3LW3xXPtoZ",
        "outputId": "dcc0bb27-1a1c-4e63-9db4-91d14e5fc956"
      },
      "outputs": [
        {
          "data": {
            "text/plain": [
              "0.6999996209723575"
            ]
          },
          "execution_count": 26,
          "metadata": {},
          "output_type": "execute_result"
        }
      ],
      "source": [
        "reviews['sentiment'].value_counts()[True]/len(reviews)"
      ]
    },
    {
      "cell_type": "code",
      "execution_count": null,
      "metadata": {
        "colab": {
          "base_uri": "https://localhost:8080/"
        },
        "id": "GHyYnLveFXXE",
        "outputId": "d15e87d4-f3ac-4c16-d396-d38c31e89c40"
      },
      "outputs": [
        {
          "name": "stdout",
          "output_type": "stream",
          "text": [
            "Dr. Schur is a phenomenal professor. Great class!\n",
            "a phenomenal great\n",
            "\n",
            "\n",
            "She is the greatest professor here. Point, Blank, period. Take her class if you want to grow as a person and a student. Her class is reasonable and fairly easy if you put in the effort. I love her so much. BOW.\n",
            "the greatest here point blank period take if you want to grow as a person and a student reasonable and fairly easy if you put in the effort love so much bow\n",
            "\n",
            "\n",
            "she really really cares about students, will invite you over for Christmas, talk about problems after class all around nice person. Her class really makes you grow as a writer and makes you realize what your writing needs to be good.\n",
            "really really cares about students will invite you over for christmas talk about problems after all around nice person really makes you grow as a writer and makes you realize what your writing needs to be good\n",
            "\n",
            "\n",
            "Ms.Khan gives some difficult assignments, but she also helps students tremendously.\n",
            "gives some difficult assignments but also helps students tremendously\n",
            "\n",
            "\n",
            "Ms.Preston was a very nice and interesting teacher!I didnt take her for Business, I had her for ISDS she made it fairly easy.She go step by step of the things she's looking for if your not clear on the assignment or notes she will help with no problem. she's easy to talk to and she listen!she work in the best intrest of the student:-)\n",
            "was a very nice and interesting didnt take for business had for isds made fairly easy go step by step of the things looking for if your not clear on the assignment or notes will help with no problem easy to talk to and listen work in the best intrest of the student\n",
            "\n",
            "\n",
            "Dr. Steele's was the greatest professor I have ever had the pleasure of knowing. She was passionate, concise, detailed, realistic, & genuine. She challenged me to think outside the box & always kept me interested in the class discussions. Thanks to her I now recognize my own leadership strengths & weaknesses. Unforgettably wonderful, experience.\n",
            "was the greatest have ever had the pleasure of knowing was passionate concise detailed realistic genuine challenged to think outside the box always kept interested in the discussions thanks to now recognize my own leadership strengths weaknesses unforgettably wonderful experience\n",
            "\n",
            "\n",
            "She's a kind, caring & inspirational teacher. This class was SO easy it was ridiculous. I received extra credit on each assignment & she just raved about my  weekly discussion posts. Put a little extra effort & she'll give you a few more points. Weekly discussions posts & comment on 2 more. Don't really need the t.b. A few projects w/PowerPoint :)\n",
            "a kind caring inspirational this was so easy was ridiculous received extra credit on each assignment just raved about my weekly discussion posts put a little extra effort will give you a few more points weekly discussions posts comment on more do not really need the b a few projects w powerpoint emopos\n",
            "\n",
            "\n",
            "Kim is an awesome teacher.  She won't take crap from anyone and won't move on until everyone gets it.  She is more than willing to give extra help and is one of the best I've had at UAA.  Take her if you get the chance.\n",
            "an awesome will not take crap from anyone and will not move on until everyone gets more than willing to give extra help and one of the best have had at uaa take if you get the chance\n",
            "\n",
            "\n",
            "Great class and a thoughtful, intelligent instructor. Schedule and course requirements are crystal clear. Readings are all online (no textbook. I would recommend this class and professor to anyone with an interest in bioethics or philosophy.\n",
            "great and a thoughtful intelligent instructor schedule and requirements are crystal clear readings are all online no textbook would recommend this and to anyone with an interest in bioethics or philosophy\n",
            "\n",
            "\n",
            "Mr. Saman is an excellent professor! His teaching style is uncomplicated, clear, and to the point. He is a very nice man and goes above and beyond to ensure the material is understood. If you work hard and put forth the effort he will always go the extra mile! If you struggle with Math, I highly recommend this professor!  You won't be disappointed!\n",
            "an excellent his teaching style uncomplicated clear and to the point a very nice man and goes above and beyond to ensure the material understood if you work hard and put forth the effort will always go the extra mile if you struggle with math highly recommend this you will not be disappointed\n",
            "\n",
            "\n",
            "Awesome Teacher!!! She is very dedicated and helpful although she can be a tough grader. She gives you everything you need to succeed in her class though and is worth the price of tuition :)\n",
            "awesome very dedicated and helpful although can be a tough grader gives you everything you need to succeed in though and worth the price of tuition emopos\n",
            "\n",
            "\n",
            "I love her. She is so sweet and understanding. I would love to have her again. on the first days of her class, it may seem overwhelmingly because she gives out so many hand outs, but it is not, its easy. she is not a tough grader\n",
            "love so sweet and understanding would love to have again on the first days of may seem overwhelmingly because gives out so many hand outs but not its easy not a tough grader\n",
            "\n",
            "\n",
            "She was very clear and if you ever had a problem all you had to do was ask. every one in the class seamed to like her and she was always smiling.\n",
            "was very clear and if you ever had a problem all you had to do was ask every one in the seamed to like and was always smiling\n",
            "\n",
            "\n",
            "Took his online class!  VERY EASY!! You do a discussion each week which helps in learning ART more easily!  Do each study guide as all tests are based off the study guides. HIGHLY RECOMMENDED!!!\n",
            "took his online very easy you do a discussion each week which helps in learning art more easily do each study guide as all tests are based off the study guides highly recommended\n",
            "\n",
            "\n",
            "Had her for 2semesters, its true there's a work load but hey its college. If you don't understand something and need extra help she will help you no problem. If you follow instructions on the syllabus on how you can make up testquiz you will be able to make it up. Do your work. AVOID 1) texting 2) Don't be late to class. She's a cool teacher\n",
            "had for semesters its true there a work load but hey its if you do not understand something and need extra help will help you no problem if you follow instructions on the syllabus on how you can make up testquiz you will be able to make up do your work avoid texting do not be late to a cool\n",
            "\n",
            "\n",
            "The tests are not that bad, as long as you studied the text book and whatever else she assigns. The kicker is the projects. They are really time consuming and the instructions are unclear. Other than that, good grades are pretty easy to get. I would recommend her, just make sure that you have time to work with people on projects.\n",
            "the tests are not that bad as long as you studied the text and whatever else assigns the kicker the projects they are really time consuming and the instructions are unclear other than that good grades are pretty easy to get would recommend just make sure that you have time to work with people on projects\n",
            "\n",
            "\n",
            "Professor was amazing. If not for him then I would have never majored in Soc. He's great, very insightful and have a lot to share about the world. Very mellow, down to earth, and always willing to work with his students. I would consider it an honor to take another class with him. Thanks for being awesome professor E. Keep rocking.\n",
            "was amazing if not for then would have never majored in soc great very insightful and have a lot to share about the world very mellow down to earth and always willing to work with his students would consider an honor to take another with thanks for being awesome e keep rocking\n",
            "\n",
            "\n",
            "Very nice and was clear about expectations and class requirements.\n",
            "very nice and was clear about expectations and requirements\n",
            "\n",
            "\n",
            "Prof. Madden brings his 15+ years of teaching social studies to his students.  The assignments are creative and fun. In class we watched a lot of YouTube videos and went on mini field trips.\n",
            "brings his years of teaching social studies to his students the assignments are creative and fun in watched a lot of youtube videos and went on mini field trips\n",
            "\n",
            "\n",
            "She was an awesome teacher. She really cares for her students and helps you any way she can. Would de recommend her to a friend\n",
            "was an awesome really cares for students and helps you any way can would de recommend to a friend\n",
            "\n",
            "\n",
            "Great teacher. Very friendly relates to you and very helpful and gives you practices test so you know what to expect on the test.Yuu will find intrest in math when you take his class.\n",
            "great very friendly relates to you and very helpful and gives you practices test so you know what to expect on the test yuu will find intrest in math when you take his\n",
            "\n",
            "\n",
            "Cort is THE BEST professor I have had at Cal. His class is extremely valuable and I have recommended this class to my friends. This material is applicable to your life, regardless of your major. He genuinely wants you to learn and isn't focused on grading. The class is very interactive rather than lecture-based. You will love his class.\n",
            "the best have had at cal his extremely valuable and have recommended this to my friends this material applicable to your life regardless of your major genuinely wants you to learn and not focused on grading the very interactive rather than based you will love his\n",
            "\n",
            "\n",
            "She is amazing and so sweet she was so easy to understand and her homework that she gives us is so easy \n",
            "amazing and so sweet was so easy to understand and homework that gives us so easy\n",
            "\n",
            "\n",
            "Professor Swallow is a great professor. I loved this class. She is very helpful. It's a writing class, so you can obviously expect to write papers, but the classes are interesting and have a great interactive environment. I wouldn't have wanted to take this course with any other professor.\n",
            "a great loved this very helpful a writing so you can obviously expect to write papers but the are interesting and have a great interactive environment would not have wanted to take this with any other\n",
            "\n",
            "\n",
            "he is a very good professor\n",
            "a very good\n",
            "\n",
            "\n",
            "I would take Allegra again. She is a very good teacher. 3 papers for the semester. No midterm or final exam.  Can learn a lot from her class, her class is about social work without the science end of it. I recommend anyone to take her class.\n",
            "would take again a very good papers for the semester no midterm or final exam can learn a lot from about social work without the science end of recommend anyone to take\n",
            "\n",
            "\n",
            "She is a lot of fun and very bubbly but if she is having a bad day or if the class is not behaving properly, she will put the class in its place. You will need to participate and the more creative and outgoing you are, the better you will do in class. Have fun while you're there and you'll enjoy the class and learn a great deal.\n",
            "a lot of fun and very bubbly but if having a bad day or if the not behaving properly will put the in its place you will need to participate and the more creative and outgoing you are the better you will do in have fun while you are there and you will enjoy the and learn a great deal\n",
            "\n",
            "\n",
            "She was a pretty fun teacher. Not overwhelming difficult but there will be some work. Just show up to class and do the busy work and you will get a 3.7 will a minimal amount of effort. She not too bad to look at either ; )\n",
            "was a pretty fun not overwhelming difficult but there will be some work just show up to and do the busy work and you will get a will a minimal amount of effort not too bad to look at either\n",
            "\n",
            "\n",
            "One of my favorite professors at Rutgers. TAKE HIM!!!\n",
            "one of my favorite professors at rutgers take\n",
            "\n",
            "\n",
            "Adam Ferrari was hands down my favorite professor during my first semester at UCO. He's extremely helpful and lenient in grading, and he's very clear on what he expects in assignments. He's easy to talk to, and always willing to help. You have a lot of decision in what you do your assignments over, which makes the class even better. TAKE HIM!!!\n",
            "was hands down my favorite during my first semester at uco extremely helpful and lenient in grading and very clear on what expects in assignments easy to talk to and always willing to help you have a lot of decision in what you do your assignments over which makes the even better take\n",
            "\n",
            "\n",
            "This teacher was really helpful, very excited about the subject, and always getting the students involved.\n",
            "this was really helpful very excited about the subject and always getting the students involved\n",
            "\n",
            "\n",
            "He makes the material interesting, he brings in fun real world examples and current research. He does a good job of remembering everyone's name, even outside of class, and he has fun teaching\n",
            "makes the material interesting brings in fun real world examples and current research does a good job of remembering everyone name even outside of and has fun teaching\n",
            "\n",
            "\n",
            "Dr. Rose is one of the best teachers I've had  at SBCC. She has a quiz every lecture and it forces you to keep up, which I actually learned to be a blessing. All the neg. comments about her are about her tests being hard, but honestly if you attend every class and pay attention this class is a LOT of info, but she is more than willing to help you.\n",
            "one of the best teachers have had at sbcc has a every and forces you to keep up which actually learned to be a blessing all the neg comments about are about tests being hard but honestly if you attend every and pay attention this a lot of info but more than willing to help you\n",
            "\n",
            "\n",
            "I had him. Intro to Philosophy. Enjoyed it very much! His class is not for close-minded people or \"in the box\" thinkers. He doesn't tell and teach you things so you can regurgitate the info, like every teacher sense preschool. He wants students to form their own opinions and question things. Participate, Ask Questions. You'll pass! Great Professor!\n",
            "had intro to philosophy enjoyed very much his not for close minded people or in the box thinkers does not tell and teach you things so you can regurgitate the info like every sense preschool wants students to form their own opinions and question things participate ask questions you will pass great\n",
            "\n",
            "\n",
            "Bonnie is great! I don't think I've ever had a professor who cares more about her students and their success. She could explain the material a little more clearly. The textbook is online which is great! There are quizzes and homework due every week, but if you do them and pay attention in class you'll have no problem on the tests.\n",
            "great do not think have ever had a who cares more about students and their success could explain the material a little more clearly the textbook online which great there are and homework due every week but if you do them and pay attention in you will have no problem on the tests\n",
            "\n",
            "\n",
            "Mr. Sherman is really helpful professor. He thinks of his students as smart and never will put students down. He is really understanding will not hide his grading process. He offers a lot of extra credit and is really interested in student?s successes.\n",
            "really helpful thinks of his students as smart and never will put students down really understanding will not hide his grading process offers a lot of extra credit and really interested in student successes\n",
            "\n",
            "\n",
            "pretty easy, really nice, interesting subject\n",
            "pretty easy really nice interesting subject\n",
            "\n",
            "\n",
            "I though she was great! Awesome teacher! She spends the first 30 minutes of every lecture reviewing the prior lecture. She records every class and posts it on blackboard. She loves helping students. My advice: Go to her office hours, take her practice exams and review your answers w/ her. She tells u exactly what she wants for her final!!\n",
            "though was great awesome spends the first minutes of every reviewing the prior records every and posts on blackboard loves helping students my advice go to office hours take practice exams and review your answers w tells u exactly what wants for final\n",
            "\n",
            "\n",
            "If you can't keep up with the work he assigns you are not trying. Poli Sci majors are supposed to devour their literature; if you don't like to read technical policy papers, foreign history and economic analysis then quit while your ahead and go become a Communications Major. Easy grader (far easier than Grace or Farmer). Very likable too.\n",
            "if you cannot keep up with the work assigns you are not trying poli sci majors are supposed to devour their literature if you do not like to read technical policy papers foreign history and economic analysis then quit while your ahead and go become a communications major easy grader far easier than grace or farmer very likable too\n",
            "\n",
            "\n",
            "Great class but I will say it is pretty tough material so I would make sure that you show up. He has a major project, 3 exams and a few articles you have to respond to, but other than that he is a great guy. Great introduction to the world of Investing and he lives it everyday so its very easy to obtain knowledge from him. I would recommend this.\n",
            "great but will say pretty tough material so would make sure that you show up has a major project exams and a few articles you have to respond to but other than that a great guy great introduction to the world of investing and lives everyday so its very easy to obtain knowledge from would recommend this\n",
            "\n",
            "\n",
            "I don't know what the last poster is talking about.  Essay Q's were totally straight forward.  Each one came from a lecture.  He even told us a &quot;pretend essay&quot; for the review class, and put it on the final.  Not an easy grader, but not crazy tough either.  Doesn't give extra credit, but said that on first day.  Would def take him again.\n",
            "do not know what the last poster talking about essay q were totally straight forward each one came from a even told us a pretend essay for the review and put on the final not an easy grader but not crazy tough either does not give extra credit but said that on first day would def take again\n",
            "\n",
            "\n",
            "Would get off subject easily in class but she is always willing to help.\n",
            "would get off subject easily in but always willing to help\n",
            "\n",
            "\n",
            "Very good teacher. I would not however advise you to take her if your feelings are easily hurt. She is very blunt in what she says. Don't miss her classes, don't leave early without informing her but most of all don't speak until spoken too. Follows these rule and you will pass her class with flying colors. Don't be a know it all.\n",
            "very good would not however advise you to take if your feelings are easily hurt very blunt in what says do not miss do not leave early without informing but most of all do not speak until spoken too follows these rule and you will pass with flying colors do not be a know all\n",
            "\n",
            "\n",
            "She is hot and very passionate about what she teaches. I loved her class. If you read, you will get an A. Her class was interesting and she got the whole class involved. Take her if you can.\n",
            "hot and very passionate about what teaches loved if you read you will get an a was interesting and got the whole involved take if you can\n",
            "\n",
            "\n",
            "Amazing Teacher, Basically gives you all the answers. He makes you think while allowing you to pass the class with out any problems, Show up to class so you can get the answers for the test and you should pass....TO EASY.\n",
            "amazing basically gives you all the answers makes you think while allowing you to pass the with out any problems show up to so you can get the answers for the test and you should pass to easy\n",
            "\n",
            "\n",
            "Class was very interesting. Kevin exposed a wide variety of economic issues concerning the country today, some I knew nothing about. Would recommend Kevin for a professor anytime.\n",
            "was very interesting exposed a wide variety of economic issues concerning the country today some knew nothing about would recommend for a anytime\n",
            "\n",
            "\n",
            "FUSELLI WAS GREAT! All you have to do is come to class and you will pass. He goes over all test/quiz material and study guides. He prefers his students to come to class, but he has no attendance policy. He goes over all the scripts and plays so they are easy to understand, and it makes reading them interesting. He loves what he does, TAKE FUSELLI!\n",
            "was great all you have to do come to and you will pass goes over all test material and study guides prefers his students to come to but has no attendance policy goes over all the scripts and plays so they are easy to understand and makes reading them interesting loves what does take\n",
            "\n",
            "\n",
            "Great professor. She really cares about her students. You can get a lot out of the class if you take the time to do the work.\n",
            "great really cares about students you can get a lot out of the if you take the time to do the work\n",
            "\n",
            "\n",
            "Katie, Not only is a brilliant Professor she makes her classes fun &amp; interactive. She has you looking for answers inside yourself that you otherwise might of skipped, or not taken the time to really understand on what an interesting, deep and with a lot of fantastic research. She was hands down one of the most knowledgeable Professors I met.\n",
            "katie not only a brilliant makes fun interactive has you looking for answers inside yourself that you otherwise might of skipped or not taken the time to really understand on what an interesting deep and with a lot of fantastic research was hands down one of the most knowledgeable professors met\n",
            "\n",
            "\n",
            "Greatest teacher in history\n",
            "greatest in history\n",
            "\n",
            "\n"
          ]
        }
      ],
      "source": [
        "for index, row in reviews.head(50).iterrows():\n",
        "    print(row['comment'])\n",
        "    print(row['cleanedComment'])\n",
        "    print('\\n')"
      ]
    },
    {
      "cell_type": "code",
      "execution_count": null,
      "metadata": {
        "id": "sWKakPo-v8xK"
      },
      "outputs": [],
      "source": [
        "# dropping rows <= 5\n",
        "# reviews['wordCount'] = reviews[\"cleanedComment\"].str.split().str.len()\n",
        "# reviews[['wordCount', 'cleanedComment']].head(5)\n",
        "\n",
        "# reviews = reviews[reviews['wordCount'] > 5]\n",
        "# reviews.shape\n",
        "reviews = reviews.loc[:, [\"firstName\", \"lastName\", \"comment\", \"cleanedComment\", \"clarityRating\", \"sentiment\", \"professor_id\"]]"
      ]
    },
    {
      "cell_type": "markdown",
      "metadata": {
        "id": "2fgpG8vr9bdI"
      },
      "source": [
        "# Document Sentiment Pipeline"
      ]
    },
    {
      "cell_type": "code",
      "execution_count": null,
      "metadata": {
        "id": "hODBzDigiKcz"
      },
      "outputs": [],
      "source": [
        "from sklearn.feature_extraction.text import CountVectorizer, TfidfVectorizer\n",
        "from sklearn.model_selection import train_test_split, StratifiedGroupKFold\n",
        "from sklearn.naive_bayes import MultinomialNB\n",
        "from sklearn.tree import DecisionTreeClassifier\n",
        "from sklearn.metrics import accuracy_score, f1_score, precision_score, recall_score, confusion_matrix\n",
        "\n",
        "from sklearn.feature_selection import chi2, SelectPercentile, SelectKBest\n",
        "from sklearn.pipeline import Pipeline"
      ]
    },
    {
      "cell_type": "code",
      "execution_count": null,
      "metadata": {
        "id": "RWK7q8fLik7s"
      },
      "outputs": [],
      "source": [
        "def evalPerformance(yp, yt, mode=\"micro\"):\n",
        "    prec_score = precision_score(yt, yp)\n",
        "    rec_score = recall_score(yt, yp)\n",
        "    f1 = f1_score(yt, yp, average=mode) # In our case, we want to use micro f1 score\n",
        "                                        # because both classes should have equal importance\n",
        "    acc_score = accuracy_score(yt, yp)\n",
        "    conf_m = confusion_matrix(yt, yp)\n",
        "\n",
        "\n",
        "    print(f\"Precision Score: {prec_score*100}\")\n",
        "    print(f\"Recall Score: {rec_score*100}\")\n",
        "    print(\"F1 Score: {0}\".format(f1 * 100))\n",
        "    print(\"Accuracy Score: \" + str(acc_score * 100))\n",
        "    print(conf_m)\n"
      ]
    },
    {
      "cell_type": "code",
      "execution_count": null,
      "metadata": {
        "colab": {
          "base_uri": "https://localhost:8080/",
          "height": 1000
        },
        "id": "wAGvoo4kTDs8",
        "outputId": "c37e7921-dca7-44c9-dd62-e303b5ba3976"
      },
      "outputs": [
        {
          "data": {
            "text/html": [
              "\n",
              "  <div id=\"df-1187ed6b-33ef-41ad-81bb-0ac231d27dc0\">\n",
              "    <div class=\"colab-df-container\">\n",
              "      <div>\n",
              "<style scoped>\n",
              "    .dataframe tbody tr th:only-of-type {\n",
              "        vertical-align: middle;\n",
              "    }\n",
              "\n",
              "    .dataframe tbody tr th {\n",
              "        vertical-align: top;\n",
              "    }\n",
              "\n",
              "    .dataframe thead th {\n",
              "        text-align: right;\n",
              "    }\n",
              "</style>\n",
              "<table border=\"1\" class=\"dataframe\">\n",
              "  <thead>\n",
              "    <tr style=\"text-align: right;\">\n",
              "      <th></th>\n",
              "      <th></th>\n",
              "      <th>firstName</th>\n",
              "      <th>lastName</th>\n",
              "      <th>comment</th>\n",
              "      <th>clarityRating</th>\n",
              "      <th>sentiment</th>\n",
              "    </tr>\n",
              "    <tr>\n",
              "      <th>professor_id</th>\n",
              "      <th>cleanedComment</th>\n",
              "      <th></th>\n",
              "      <th></th>\n",
              "      <th></th>\n",
              "      <th></th>\n",
              "      <th></th>\n",
              "    </tr>\n",
              "  </thead>\n",
              "  <tbody>\n",
              "    <tr>\n",
              "      <th rowspan=\"5\" valign=\"top\">VGVhY2hlci05Mjc1NTI=</th>\n",
              "      <th>cannot say that methods of grading were unfair however many times requirements for a speech dates and other major things about what was going on were changed in the middle of a if you missed then you may receive a changes like these are not emphasized if you do not have your outline in hand on speech day you get a</th>\n",
              "      <td>.</td>\n",
              "      <td>Ramage</td>\n",
              "      <td>I can't say that her methods of grading were u...</td>\n",
              "      <td>1</td>\n",
              "      <td>False</td>\n",
              "    </tr>\n",
              "    <tr>\n",
              "      <th>do not take this lady for speech much easier options and you will learn just as much has to many useless rules and overall just wants to be in control of everything</th>\n",
              "      <td>.</td>\n",
              "      <td>Ramage</td>\n",
              "      <td>Do Not Take this lady for speech. Much easier ...</td>\n",
              "      <td>1</td>\n",
              "      <td>False</td>\n",
              "    </tr>\n",
              "    <tr>\n",
              "      <th>does not put up with nonsense or tardiness at all expects respect will teach you the correct way of speaking whether you can adapt to or not what you learn will definitely benefit you in life very organized prompt with returning grades organization worth a lot in a busy schedule</th>\n",
              "      <td>.</td>\n",
              "      <td>Ramage</td>\n",
              "      <td>She does not put up with  nonsense or tardines...</td>\n",
              "      <td>4</td>\n",
              "      <td>True</td>\n",
              "    </tr>\n",
              "    <tr>\n",
              "      <th>maybe the last commenter should have accepted a few lessons from mrs there are at least two misspelled words and at least one misused word in the comments grammar matters mrs a very good learned much more because taught the correct way of doing things</th>\n",
              "      <td>.</td>\n",
              "      <td>Ramage</td>\n",
              "      <td>Maybe the last commenter should have accepted ...</td>\n",
              "      <td>4</td>\n",
              "      <td>True</td>\n",
              "    </tr>\n",
              "    <tr>\n",
              "      <th>not relly a speech more of just an outline does not grade you speech just your outline so be orginized took and was not satisfied style more of grading the paper based on grammer more of and english then a speech</th>\n",
              "      <td>.</td>\n",
              "      <td>Ramage</td>\n",
              "      <td>Not relly a speech teacher more of just an out...</td>\n",
              "      <td>1</td>\n",
              "      <td>False</td>\n",
              "    </tr>\n",
              "    <tr>\n",
              "      <th>...</th>\n",
              "      <th>...</th>\n",
              "      <td>...</td>\n",
              "      <td>...</td>\n",
              "      <td>...</td>\n",
              "      <td>...</td>\n",
              "      <td>...</td>\n",
              "    </tr>\n",
              "    <tr>\n",
              "      <th rowspan=\"2\" valign=\"top\">VGVhY2hlci0xNjIxNTU4</th>\n",
              "      <th>j aka cobra amazing not the typical over glorified professors you encounter at walsh actually has a real phd down to earth and actually selflessly works with students to over come obstacles after the last wondered if be cheezy to shake his hand but apparently more than half the did so and asked to take future</th>\n",
              "      <td>Jeremy</td>\n",
              "      <td>Lim</td>\n",
              "      <td>Dr J (aka Cobra) is amazing!! Not the typical ...</td>\n",
              "      <td>5</td>\n",
              "      <td>True</td>\n",
              "    </tr>\n",
              "    <tr>\n",
              "      <th>j awesome and funny knows his stuff real well and demonstrates how marketing theories tie into real world applications am still blown away by the gorilla video very energetic although english may not be his first language</th>\n",
              "      <td>Jeremy</td>\n",
              "      <td>Lim</td>\n",
              "      <td>Dr J is awesome and funny... Knows his stuff r...</td>\n",
              "      <td>4</td>\n",
              "      <td>True</td>\n",
              "    </tr>\n",
              "    <tr>\n",
              "      <th rowspan=\"3\" valign=\"top\">VGVhY2hlci0xNjIxNTYx</th>\n",
              "      <th>actually had during intersession at swc was awesome really passionate relates history to the present day makes easy to understand had midterm final group project suck with history but was actually able to absorb everything with ease great lecturer</th>\n",
              "      <td>Gregorio</td>\n",
              "      <td>Pantoja</td>\n",
              "      <td>I actually had him during intersession at SWC ...</td>\n",
              "      <td>5</td>\n",
              "      <td>True</td>\n",
              "    </tr>\n",
              "    <tr>\n",
              "      <th>awful his were worded to trick you to the th degree does not care about how students are doing in the expects you to treat his as the only one take this at your own risk because will drop your gpa no matter how good you do in other avoid and take another instead</th>\n",
              "      <td>Gregorio</td>\n",
              "      <td>Pantoja</td>\n",
              "      <td>Awful professor. His quizzes were worded to tr...</td>\n",
              "      <td>1</td>\n",
              "      <td>False</td>\n",
              "    </tr>\n",
              "    <tr>\n",
              "      <th>do not take his obviously new and has no idea what doing reads off of his own powerpoints which have numerous grammatical errors and made of the questions of the final come from a stated was optional expects you to memorize every detail of the reading and you f refuses to give ec avoid</th>\n",
              "      <td>Gregorio</td>\n",
              "      <td>Pantoja</td>\n",
              "      <td>Do NOT take his class. He is obviously new and...</td>\n",
              "      <td>2</td>\n",
              "      <td>False</td>\n",
              "    </tr>\n",
              "  </tbody>\n",
              "</table>\n",
              "<p>263779 rows × 5 columns</p>\n",
              "</div>\n",
              "      <button class=\"colab-df-convert\" onclick=\"convertToInteractive('df-1187ed6b-33ef-41ad-81bb-0ac231d27dc0')\"\n",
              "              title=\"Convert this dataframe to an interactive table.\"\n",
              "              style=\"display:none;\">\n",
              "        \n",
              "  <svg xmlns=\"http://www.w3.org/2000/svg\" height=\"24px\"viewBox=\"0 0 24 24\"\n",
              "       width=\"24px\">\n",
              "    <path d=\"M0 0h24v24H0V0z\" fill=\"none\"/>\n",
              "    <path d=\"M18.56 5.44l.94 2.06.94-2.06 2.06-.94-2.06-.94-.94-2.06-.94 2.06-2.06.94zm-11 1L8.5 8.5l.94-2.06 2.06-.94-2.06-.94L8.5 2.5l-.94 2.06-2.06.94zm10 10l.94 2.06.94-2.06 2.06-.94-2.06-.94-.94-2.06-.94 2.06-2.06.94z\"/><path d=\"M17.41 7.96l-1.37-1.37c-.4-.4-.92-.59-1.43-.59-.52 0-1.04.2-1.43.59L10.3 9.45l-7.72 7.72c-.78.78-.78 2.05 0 2.83L4 21.41c.39.39.9.59 1.41.59.51 0 1.02-.2 1.41-.59l7.78-7.78 2.81-2.81c.8-.78.8-2.07 0-2.86zM5.41 20L4 18.59l7.72-7.72 1.47 1.35L5.41 20z\"/>\n",
              "  </svg>\n",
              "      </button>\n",
              "      \n",
              "  <style>\n",
              "    .colab-df-container {\n",
              "      display:flex;\n",
              "      flex-wrap:wrap;\n",
              "      gap: 12px;\n",
              "    }\n",
              "\n",
              "    .colab-df-convert {\n",
              "      background-color: #E8F0FE;\n",
              "      border: none;\n",
              "      border-radius: 50%;\n",
              "      cursor: pointer;\n",
              "      display: none;\n",
              "      fill: #1967D2;\n",
              "      height: 32px;\n",
              "      padding: 0 0 0 0;\n",
              "      width: 32px;\n",
              "    }\n",
              "\n",
              "    .colab-df-convert:hover {\n",
              "      background-color: #E2EBFA;\n",
              "      box-shadow: 0px 1px 2px rgba(60, 64, 67, 0.3), 0px 1px 3px 1px rgba(60, 64, 67, 0.15);\n",
              "      fill: #174EA6;\n",
              "    }\n",
              "\n",
              "    [theme=dark] .colab-df-convert {\n",
              "      background-color: #3B4455;\n",
              "      fill: #D2E3FC;\n",
              "    }\n",
              "\n",
              "    [theme=dark] .colab-df-convert:hover {\n",
              "      background-color: #434B5C;\n",
              "      box-shadow: 0px 1px 3px 1px rgba(0, 0, 0, 0.15);\n",
              "      filter: drop-shadow(0px 1px 2px rgba(0, 0, 0, 0.3));\n",
              "      fill: #FFFFFF;\n",
              "    }\n",
              "  </style>\n",
              "\n",
              "      <script>\n",
              "        const buttonEl =\n",
              "          document.querySelector('#df-1187ed6b-33ef-41ad-81bb-0ac231d27dc0 button.colab-df-convert');\n",
              "        buttonEl.style.display =\n",
              "          google.colab.kernel.accessAllowed ? 'block' : 'none';\n",
              "\n",
              "        async function convertToInteractive(key) {\n",
              "          const element = document.querySelector('#df-1187ed6b-33ef-41ad-81bb-0ac231d27dc0');\n",
              "          const dataTable =\n",
              "            await google.colab.kernel.invokeFunction('convertToInteractive',\n",
              "                                                     [key], {});\n",
              "          if (!dataTable) return;\n",
              "\n",
              "          const docLinkHtml = 'Like what you see? Visit the ' +\n",
              "            '<a target=\"_blank\" href=https://colab.research.google.com/notebooks/data_table.ipynb>data table notebook</a>'\n",
              "            + ' to learn more about interactive tables.';\n",
              "          element.innerHTML = '';\n",
              "          dataTable['output_type'] = 'display_data';\n",
              "          await google.colab.output.renderOutput(dataTable, element);\n",
              "          const docLink = document.createElement('div');\n",
              "          docLink.innerHTML = docLinkHtml;\n",
              "          element.appendChild(docLink);\n",
              "        }\n",
              "      </script>\n",
              "    </div>\n",
              "  </div>\n",
              "  "
            ],
            "text/plain": [
              "                                                                        firstName  \\\n",
              "professor_id         cleanedComment                                                 \n",
              "VGVhY2hlci05Mjc1NTI= cannot say that methods of grading were unfair ...         .   \n",
              "                     do not take this lady for speech much easier op...         .   \n",
              "                     does not put up with nonsense or tardiness at a...         .   \n",
              "                     maybe the last commenter should have accepted a...         .   \n",
              "                     not relly a speech more of just an outline does...         .   \n",
              "...                                                                           ...   \n",
              "VGVhY2hlci0xNjIxNTU4 j aka cobra amazing not the typical over glorif...    Jeremy   \n",
              "                     j awesome and funny knows his stuff real well a...    Jeremy   \n",
              "VGVhY2hlci0xNjIxNTYx actually had during intersession at swc was awe...  Gregorio   \n",
              "                     awful his were worded to trick you to the th de...  Gregorio   \n",
              "                     do not take his obviously new and has no idea w...  Gregorio   \n",
              "\n",
              "                                                                        lastName  \\\n",
              "professor_id         cleanedComment                                                \n",
              "VGVhY2hlci05Mjc1NTI= cannot say that methods of grading were unfair ...   Ramage   \n",
              "                     do not take this lady for speech much easier op...   Ramage   \n",
              "                     does not put up with nonsense or tardiness at a...   Ramage   \n",
              "                     maybe the last commenter should have accepted a...   Ramage   \n",
              "                     not relly a speech more of just an outline does...   Ramage   \n",
              "...                                                                          ...   \n",
              "VGVhY2hlci0xNjIxNTU4 j aka cobra amazing not the typical over glorif...      Lim   \n",
              "                     j awesome and funny knows his stuff real well a...      Lim   \n",
              "VGVhY2hlci0xNjIxNTYx actually had during intersession at swc was awe...  Pantoja   \n",
              "                     awful his were worded to trick you to the th de...  Pantoja   \n",
              "                     do not take his obviously new and has no idea w...  Pantoja   \n",
              "\n",
              "                                                                                                                   comment  \\\n",
              "professor_id         cleanedComment                                                                                          \n",
              "VGVhY2hlci05Mjc1NTI= cannot say that methods of grading were unfair ...  I can't say that her methods of grading were u...   \n",
              "                     do not take this lady for speech much easier op...  Do Not Take this lady for speech. Much easier ...   \n",
              "                     does not put up with nonsense or tardiness at a...  She does not put up with  nonsense or tardines...   \n",
              "                     maybe the last commenter should have accepted a...  Maybe the last commenter should have accepted ...   \n",
              "                     not relly a speech more of just an outline does...  Not relly a speech teacher more of just an out...   \n",
              "...                                                                                                                    ...   \n",
              "VGVhY2hlci0xNjIxNTU4 j aka cobra amazing not the typical over glorif...  Dr J (aka Cobra) is amazing!! Not the typical ...   \n",
              "                     j awesome and funny knows his stuff real well a...  Dr J is awesome and funny... Knows his stuff r...   \n",
              "VGVhY2hlci0xNjIxNTYx actually had during intersession at swc was awe...  I actually had him during intersession at SWC ...   \n",
              "                     awful his were worded to trick you to the th de...  Awful professor. His quizzes were worded to tr...   \n",
              "                     do not take his obviously new and has no idea w...  Do NOT take his class. He is obviously new and...   \n",
              "\n",
              "                                                                         clarityRating  \\\n",
              "professor_id         cleanedComment                                                      \n",
              "VGVhY2hlci05Mjc1NTI= cannot say that methods of grading were unfair ...              1   \n",
              "                     do not take this lady for speech much easier op...              1   \n",
              "                     does not put up with nonsense or tardiness at a...              4   \n",
              "                     maybe the last commenter should have accepted a...              4   \n",
              "                     not relly a speech more of just an outline does...              1   \n",
              "...                                                                                ...   \n",
              "VGVhY2hlci0xNjIxNTU4 j aka cobra amazing not the typical over glorif...              5   \n",
              "                     j awesome and funny knows his stuff real well a...              4   \n",
              "VGVhY2hlci0xNjIxNTYx actually had during intersession at swc was awe...              5   \n",
              "                     awful his were worded to trick you to the th de...              1   \n",
              "                     do not take his obviously new and has no idea w...              2   \n",
              "\n",
              "                                                                         sentiment  \n",
              "professor_id         cleanedComment                                                 \n",
              "VGVhY2hlci05Mjc1NTI= cannot say that methods of grading were unfair ...      False  \n",
              "                     do not take this lady for speech much easier op...      False  \n",
              "                     does not put up with nonsense or tardiness at a...       True  \n",
              "                     maybe the last commenter should have accepted a...       True  \n",
              "                     not relly a speech more of just an outline does...      False  \n",
              "...                                                                            ...  \n",
              "VGVhY2hlci0xNjIxNTU4 j aka cobra amazing not the typical over glorif...       True  \n",
              "                     j awesome and funny knows his stuff real well a...       True  \n",
              "VGVhY2hlci0xNjIxNTYx actually had during intersession at swc was awe...       True  \n",
              "                     awful his were worded to trick you to the th de...      False  \n",
              "                     do not take his obviously new and has no idea w...      False  \n",
              "\n",
              "[263779 rows x 5 columns]"
            ]
          },
          "execution_count": 31,
          "metadata": {},
          "output_type": "execute_result"
        }
      ],
      "source": [
        "review_ids = reviews.groupby(['professor_id', 'cleanedComment'])\n",
        "review_ids.first()"
      ]
    },
    {
      "cell_type": "code",
      "execution_count": null,
      "metadata": {
        "colab": {
          "base_uri": "https://localhost:8080/"
        },
        "id": "5jZGti0qTGyO",
        "outputId": "49b1dc12-a1d7-44dd-acdb-414aa3dd26f1"
      },
      "outputs": [
        {
          "name": "stdout",
          "output_type": "stream",
          "text": [
            "['VGVhY2hlci0xMzAzMTM1' 'VGVhY2hlci0xMzIzMzE5' 'VGVhY2hlci0xMDY1OTE2'\n",
            " 'VGVhY2hlci0xMDgwMTY0' 'VGVhY2hlci0xMDExMDkz']\n",
            "0    True\n",
            "1    True\n",
            "2    True\n",
            "3    True\n",
            "4    True\n",
            "Name: sentiment, dtype: bool\n"
          ]
        },
        {
          "data": {
            "text/plain": [
              "0                                   a phenomenal great\n",
              "1    the greatest here point blank period take if y...\n",
              "2    really really cares about students will invite...\n",
              "3    gives some difficult assignments but also help...\n",
              "4    was a very nice and interesting didnt take for...\n",
              "Name: cleanedComment, dtype: object"
            ]
          },
          "execution_count": 32,
          "metadata": {},
          "output_type": "execute_result"
        }
      ],
      "source": [
        "groups_professor_id_list = np.array(reviews['professor_id'].values)\n",
        "print(groups_professor_id_list[:5])\n",
        "\n",
        "y = reviews['sentiment']\n",
        "print(y.head(5))\n",
        "\n",
        "X = reviews['cleanedComment']\n",
        "X.head(5)"
      ]
    },
    {
      "cell_type": "markdown",
      "metadata": {
        "id": "f-Io6phIFJAk"
      },
      "source": [
        "## Pipeline"
      ]
    },
    {
      "cell_type": "code",
      "execution_count": null,
      "metadata": {
        "id": "neJl7wH8iFOq"
      },
      "outputs": [],
      "source": [
        "# sent_pipeline = Pipeline([\n",
        "#     # (\"vectorizer\", CountVectorizer(ngram_range=(1,2), max_df=0.5)), \n",
        "#     (\"vectorizer\", TfidfVectorizer(ngram_range=(1,2), min_df=6, stop_words=stopwords)),\n",
        "#     (\"selector\"  , SelectPercentile(score_func=chi2, percentile=40)),\n",
        "#     (\"classifer\" , MultinomialNB(alpha=.1))\n",
        "#     # (\"classifer\" , DecisionTreeClassifier(max_depth=5))\n",
        "# ])\n",
        "\n",
        "# sent_pipeline = Pipeline([\n",
        "#     # (\"vectorizer\", CountVectorizer(ngram_range=(1,2), max_df=0.5)), \n",
        "#     (\"vectorizer\", TfidfVectorizer(ngram_range=(1,2), min_df=5, stop_words=stopwords)),\n",
        "#     (\"selector\"  , SelectPercentile(score_func=chi2, percentile=55)),\n",
        "#     (\"classifer\" , MultinomialNB(alpha=.15))\n",
        "#     # (\"classifer\" , DecisionTreeClassifier(max_depth=5))\n",
        "# ])\n",
        "\n",
        "sent_pipeline = Pipeline([\n",
        "    # (\"vectorizer\", CountVectorizer(ngram_range=(1,2), max_df=0.5)), \n",
        "    (\"vectorizer\", TfidfVectorizer(ngram_range=(1,3), min_df=5)),\n",
        "    (\"selector\"  , SelectPercentile(score_func=chi2, percentile=22)),\n",
        "    (\"classifer\" , MultinomialNB(alpha=.15))\n",
        "    # (\"classifer\" , DecisionTreeClassifier(max_depth=5))\n",
        "])"
      ]
    },
    {
      "cell_type": "markdown",
      "metadata": {
        "id": "zsz-KwJIFLgR"
      },
      "source": [
        "## Cross Validation"
      ]
    },
    {
      "cell_type": "code",
      "execution_count": null,
      "metadata": {
        "colab": {
          "background_save": true
        },
        "id": "WUD1uWfeTQ_3",
        "outputId": "a54f562a-c5c1-4265-e03f-ff1e9d12a845"
      },
      "outputs": [
        {
          "name": "stdout",
          "output_type": "stream",
          "text": [
            "Precision Score: 94.47092976802408\n",
            "Recall Score: 96.03888016461796\n",
            "F1 Score: 93.29277537715109\n",
            "Accuracy Score: 93.29277537715109\n",
            "[[13754  2076]\n",
            " [ 1463 35471]]\n",
            "\n",
            "Precision Score: 94.4792973651192\n",
            "Recall Score: 95.81449495086228\n",
            "F1 Score: 93.15089262024789\n",
            "Accuracy Score: 93.15089262024789\n",
            "[[13761  2068]\n",
            " [ 1546 35391]]\n",
            "\n",
            "Precision Score: 94.54724829351537\n",
            "Recall Score: 95.99079588521927\n",
            "F1 Score: 93.31804658037863\n",
            "Accuracy Score: 93.31804658037863\n",
            "[[13784  2045]\n",
            " [ 1481 35459]]\n",
            "\n",
            "Precision Score: 94.38324819071946\n",
            "Recall Score: 96.0416948693651\n",
            "F1 Score: 93.22846583909788\n",
            "Accuracy Score: 93.22846583909788\n",
            "[[13719  2111]\n",
            " [ 1462 35473]]\n",
            "\n",
            "Precision Score: 94.41245468116868\n",
            "Recall Score: 95.88217776213553\n",
            "F1 Score: 93.14559684663344\n",
            "Accuracy Score: 93.14559684663344\n",
            "[[13736  2096]\n",
            " [ 1521 35416]]\n",
            "\n"
          ]
        }
      ],
      "source": [
        "sgkf = StratifiedGroupKFold(n_splits=5)\n",
        "for train, test in sgkf.split(X, y, groups=groups_professor_id_list):\n",
        "  sentiment_fit = sent_pipeline.fit(X[train], y[train])\n",
        "  sent_pred = sent_pipeline.predict(X[test])\n",
        "  evalPerformance(sent_pred, y[test])\n",
        "  print()"
      ]
    },
    {
      "cell_type": "markdown",
      "metadata": {
        "id": "Ebc249sjimsY"
      },
      "source": [
        "# EDA"
      ]
    },
    {
      "cell_type": "code",
      "execution_count": null,
      "metadata": {
        "colab": {
          "background_save": true
        },
        "id": "UZfJTBN-kAWj"
      },
      "outputs": [],
      "source": [
        "import matplotlib.pyplot as plt\n",
        "import seaborn as sns"
      ]
    },
    {
      "cell_type": "code",
      "execution_count": null,
      "metadata": {
        "colab": {
          "background_save": true
        },
        "id": "oQfH3J2qipWY"
      },
      "outputs": [],
      "source": [
        "positive_reviews = reviews[reviews.sentiment == 1]\n",
        "negative_reviews = reviews[reviews.sentiment == 0]"
      ]
    },
    {
      "cell_type": "code",
      "execution_count": null,
      "metadata": {
        "colab": {
          "background_save": true
        },
        "id": "nUoFIufKj7-9",
        "outputId": "a5d4e7d1-b616-4572-9a99-d69e7c9dc9e4"
      },
      "outputs": [
        {
          "data": {
            "image/png": "[encoded data removed]",
            "text/plain": [
              "<Figure size 1800x360 with 1 Axes>"
            ]
          },
          "metadata": {},
          "output_type": "display_data"
        },
        {
          "data": {
            "image/png": "[encoded data removed]",
            "text/plain": [
              "<Figure size 1800x360 with 1 Axes>"
            ]
          },
          "metadata": {},
          "output_type": "display_data"
        }
      ],
      "source": [
        "from nltk import FreqDist\n",
        "\n",
        "%matplotlib inline\n",
        "def freq_ngrams(x, terms=40, n=1):        # function to plot most frequent n-grams\n",
        "    all_words = \" \".join([text for text in x])\n",
        "    all_words = all_words.split()\n",
        "\n",
        "    ngs = nltk.ngrams(all_words, n)\n",
        "    fdist = FreqDist(ngs)\n",
        "    words_df = pd.DataFrame({\"word\":list(fdist.keys()), \"count\":list(fdist.values())})\n",
        "\n",
        "    d = words_df.nlargest(columns=\"count\", n=terms)\n",
        "    plt.figure(figsize=(25,5))\n",
        "    plt.xticks(rotation=45)\n",
        "    ax = sns.barplot(data=d, x=\"word\", y=\"count\")\n",
        "    ax.set(ylabel=\"Count\")\n",
        "    plt.show()\n",
        "\n",
        "freq_ngrams(positive_reviews['cleanedComment'], terms=50, n=2)\n",
        "freq_ngrams(negative_reviews['cleanedComment'], terms=50, n=2)"
      ]
    },
    {
      "cell_type": "code",
      "execution_count": null,
      "metadata": {
        "colab": {
          "background_save": true
        },
        "id": "fp0D7NwlzAwf"
      },
      "outputs": [],
      "source": [
        "# print(cv.stop_words_)\n",
        "# print(len(cv.stop_words_))"
      ]
    },
    {
      "cell_type": "code",
      "execution_count": null,
      "metadata": {
        "colab": {
          "background_save": true
        },
        "id": "L5Guwt1CFzoZ"
      },
      "outputs": [],
      "source": [
        "all_words = set()\n",
        "for comment in reviews['cleanedComment']:\n",
        "  unique_words_comment = set(comment.split(' '))\n",
        "  all_words.update(unique_words_comment)\n"
      ]
    },
    {
      "cell_type": "code",
      "execution_count": null,
      "metadata": {
        "colab": {
          "background_save": true
        },
        "id": "ZTigFFwrKIne",
        "outputId": "c344ecba-f90c-4b56-ff95-a919a1557ca9"
      },
      "outputs": [
        {
          "data": {
            "text/plain": [
              "53093"
            ]
          },
          "execution_count": 40,
          "metadata": {},
          "output_type": "execute_result"
        }
      ],
      "source": [
        "len(all_words) # 52002"
      ]
    },
    {
      "cell_type": "markdown",
      "metadata": {
        "id": "aJURPM6lkxvG"
      },
      "source": [
        "# Validating (or Testing???)"
      ]
    },
    {
      "cell_type": "code",
      "execution_count": null,
      "metadata": {
        "colab": {
          "background_save": true
        },
        "id": "grbfpSHzj4vb"
      },
      "outputs": [],
      "source": [
        "test_reviews = pd.read_csv(\"/content/drive/MyDrive/RMP/scraped_comments.csv\").sample(n=120000, random_state=1)"
      ]
    },
    {
      "cell_type": "code",
      "execution_count": null,
      "metadata": {
        "colab": {
          "background_save": true
        },
        "id": "DNKBABCDkInt",
        "outputId": "43438d9c-231e-436f-eca6-7847b2d8e69b"
      },
      "outputs": [
        {
          "name": "stdout",
          "output_type": "stream",
          "text": [
            "Shape before dropping: (120000, 16)\n",
            "Shape after dropping: (106780, 18)\n"
          ]
        },
        {
          "name": "stderr",
          "output_type": "stream",
          "text": [
            "/usr/local/lib/python3.7/dist-packages/ipykernel_launcher.py:17: SettingWithCopyWarning: \n",
            "A value is trying to be set on a copy of a slice from a DataFrame.\n",
            "Try using .loc[row_indexer,col_indexer] = value instead\n",
            "\n",
            "See the caveats in the documentation: https://pandas.pydata.org/pandas-docs/stable/user_guide/indexing.html#returning-a-view-versus-a-copy\n"
          ]
        }
      ],
      "source": [
        "print(\"Shape before dropping:\", test_reviews.shape)\n",
        "test_reviews.drop_duplicates(subset=\"comment_id\", keep=\"first\", inplace=True)\n",
        "\n",
        "# drop rows containing only \"No Comments\" (default value assigned by RMP to a review that didn't enter a comment)\n",
        "test_reviews = test_reviews[test_reviews[\"comment\"] != \"No Comments\"]\n",
        "\n",
        "# drop rows containing NaN comment\n",
        "test_reviews.dropna(subset=[\"comment\"], inplace=True)\n",
        "\n",
        "# fill null names with empty string\n",
        "test_reviews['firstName'].fillna('', inplace=True)\n",
        "test_reviews['lastName'].fillna('', inplace=True)\n",
        "\n",
        "# Dropping test_reviews with qualityRating == 3\n",
        "test_reviews['qualityRating'] = (test_reviews['helpfulRating']+test_reviews['clarityRating'])/2.0\n",
        "test_reviews = test_reviews[test_reviews[\"qualityRating\"] != 3.0]\n",
        "test_reviews[\"sentiment\"] = test_reviews[\"qualityRating\"] > 3.0\n",
        "\n",
        "print(\"Shape after dropping:\", test_reviews.shape)\n",
        "test_reviews.reset_index(drop=True, inplace=True)"
      ]
    },
    {
      "cell_type": "code",
      "execution_count": null,
      "metadata": {
        "colab": {
          "background_save": true
        },
        "id": "89kZU5EskZst",
        "outputId": "c7267a6c-01c5-4ec1-9758-dc0280290e14"
      },
      "outputs": [
        {
          "name": "stdout",
          "output_type": "stream",
          "text": [
            "25000\n",
            "50000\n",
            "75000\n",
            "100000\n"
          ]
        }
      ],
      "source": [
        "comments_proper = []\n",
        "spellchecked_comments = []\n",
        "\n",
        "comments_proper = preprocess_pipeline(test_reviews)"
      ]
    },
    {
      "cell_type": "code",
      "execution_count": null,
      "metadata": {
        "colab": {
          "background_save": true
        },
        "id": "XXseA07ImrtU",
        "outputId": "55da2705-97aa-4b8f-a4b6-7b35d80b40f8"
      },
      "outputs": [
        {
          "data": {
            "text/plain": [
              "106780"
            ]
          },
          "execution_count": 44,
          "metadata": {},
          "output_type": "execute_result"
        }
      ],
      "source": [
        "len(comments_proper)"
      ]
    },
    {
      "cell_type": "code",
      "execution_count": null,
      "metadata": {
        "colab": {
          "background_save": true
        },
        "id": "sL639IqRkpVx"
      },
      "outputs": [],
      "source": [
        "sent_predA = sent_pipeline.predict(comments_proper)"
      ]
    },
    {
      "cell_type": "code",
      "execution_count": null,
      "metadata": {
        "colab": {
          "background_save": true
        },
        "id": "_op3y6_5n0RL",
        "outputId": "8931cc12-59b5-41f7-bb88-0a4dd1e4b6da"
      },
      "outputs": [
        {
          "name": "stdout",
          "output_type": "stream",
          "text": [
            "37512 31087 68599\n"
          ]
        }
      ],
      "source": [
        "ones = sum(sent_pred)\n",
        "zeroes = sum((i == 0 for i in sent_predA))\n",
        "print(ones, zeroes, ones+zeroes)"
      ]
    },
    {
      "cell_type": "code",
      "execution_count": null,
      "metadata": {
        "colab": {
          "background_save": true
        },
        "id": "3NRzzNm2muWV",
        "outputId": "0a271a2c-ecef-4331-8778-12cab6424c00"
      },
      "outputs": [
        {
          "data": {
            "text/plain": [
              "106780"
            ]
          },
          "execution_count": 47,
          "metadata": {},
          "output_type": "execute_result"
        }
      ],
      "source": [
        "len(sent_predA)"
      ]
    },
    {
      "cell_type": "code",
      "execution_count": null,
      "metadata": {
        "colab": {
          "background_save": true
        },
        "id": "JtYNIKMUmzyM"
      },
      "outputs": [],
      "source": [
        "test_reviews.reset_index(inplace=True, drop=True)"
      ]
    },
    {
      "cell_type": "markdown",
      "metadata": {
        "id": "XlGQQhFDafI_"
      },
      "source": [
        "## Accuracy"
      ]
    },
    {
      "cell_type": "code",
      "execution_count": null,
      "metadata": {
        "colab": {
          "background_save": true
        },
        "id": "c-q4csk0k8D0",
        "outputId": "4cd95eb9-a9ac-4e33-b8a0-e405fc8de516"
      },
      "outputs": [
        {
          "name": "stdout",
          "output_type": "stream",
          "text": [
            "Precision Score: 93.66520021666469\n",
            "Recall Score: 94.45510258459898\n",
            "F1 Score: 91.61172504214272\n",
            "Accuracy Score: 91.61172504214272\n",
            "[[26925  4795]\n",
            " [ 4162 70898]]\n"
          ]
        },
        {
          "data": {
            "application/vnd.google.colaboratory.intrinsic+json": {
              "type": "string"
            },
            "text/plain": [
              "'\\nPrecision Score: 91.96648216482166\\nRecall Score: 95.62749800159872\\nF1 Score: 91.05450458887432\\n\\nPrecision Score: 92.22649369350836\\nRecall Score: 95.56488142819079\\nF1 Score: 91.22026596740963\\nAccuracy Score: 91.22026596740963\\n\\nPrecision Score: 93.94723228142783\\nRecall Score: 94.35651478816946\\nF1 Score: 91.75969282637197\\n'"
            ]
          },
          "execution_count": 49,
          "metadata": {},
          "output_type": "execute_result"
        }
      ],
      "source": [
        "evalPerformance(sent_predA, test_reviews['sentiment'])\n",
        "'''\n",
        "Precision Score: 91.96648216482166\n",
        "Recall Score: 95.62749800159872\n",
        "F1 Score: 91.05450458887432\n",
        "\n",
        "Precision Score: 92.22649369350836\n",
        "Recall Score: 95.56488142819079\n",
        "F1 Score: 91.22026596740963\n",
        "Accuracy Score: 91.22026596740963\n",
        "\n",
        "Precision Score: 93.94723228142783\n",
        "Recall Score: 94.35651478816946\n",
        "F1 Score: 91.75969282637197\n",
        "'''"
      ]
    },
    {
      "cell_type": "code",
      "execution_count": null,
      "metadata": {
        "colab": {
          "background_save": true
        },
        "id": "amqFgxlce_bB",
        "outputId": "9f15f2a9-99f7-47bf-c51e-494e03553f73"
      },
      "outputs": [
        {
          "data": {
            "text/plain": [
              "0.9161172504214272"
            ]
          },
          "execution_count": 50,
          "metadata": {},
          "output_type": "execute_result"
        }
      ],
      "source": [
        "right = sum(a == b for a, b in zip(sent_predA, test_reviews['sentiment']))\n",
        "right / len(sent_predA)"
      ]
    },
    {
      "cell_type": "markdown",
      "metadata": {
        "id": "Jzl-f7BvdTIS"
      },
      "source": [
        "# Possible Improvements\n",
        "* Could engineer new features using words that are capitalized in the review\n",
        "* Remove reviews that're not english"
      ]
    }
  ],
  "metadata": {
    "colab": {
      "collapsed_sections": [],
      "name": "RMP Basic Preprocessing Dien",
      "toc_visible": true,
      "provenance": []
    },
    "gpuClass": "standard",
    "kernelspec": {
      "display_name": "Python 3",
      "name": "python3"
    },
    "language_info": {
      "name": "python"
    }
  },
  "nbformat": 4,
  "nbformat_minor": 0
}