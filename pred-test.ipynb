{
 "cells": [
  {
   "cell_type": "markdown",
   "metadata": {},
   "source": [
    "# Testing using a model to predict on new reviews"
   ]
  },
  {
   "cell_type": "code",
   "execution_count": 1,
   "metadata": {},
   "outputs": [],
   "source": [
    "from joblib import dump, load\n",
    "import re\n",
    "import pandas as pd\n",
    "\n",
    "from sklearn.metrics import accuracy_score, f1_score"
   ]
  },
  {
   "cell_type": "markdown",
   "metadata": {},
   "source": [
    "Load most effective model, from `attempt-3.ipynb`\n",
    "* vectorizer ( `NB-vectorizer` ) and feature selector ( `NB-chi2` ) needed as well to transform new comments\n",
    "* important that all three have been properly fit to train and test datasets in advance"
   ]
  },
  {
   "cell_type": "code",
   "execution_count": 2,
   "metadata": {},
   "outputs": [],
   "source": [
    "model = load(\"NB-model.joblib\")\n",
    "cv = load(\"NB-vectorizer.joblib\")\n",
    "percbest = load(\"NB-chi2.joblib\")"
   ]
  },
  {
   "cell_type": "code",
   "execution_count": 3,
   "metadata": {},
   "outputs": [],
   "source": [
    "# new sentences to predict on\n",
    "docs = [\n",
    "    \"Prof Ritchey is a great guy and an even better teacher! Anyone who doesn't like his class is just an idiot lmao\",\n",
    "    \"If you get this guy, just drop out. It's actually a better use of your time to stick forks in your eyes than trying to understand his lectures.\",\n",
    "    \"I'm just happy to be here!\",\n",
    "    \"This guy sucks and stinks and is bad and I hate him.\",\n",
    "    \"Trying to use very negative words so the model picks up the bad terrible horrible hate sentiment\"\n",
    "]"
   ]
  },
  {
   "cell_type": "markdown",
   "metadata": {},
   "source": [
    "### General functions"
   ]
  },
  {
   "cell_type": "code",
   "execution_count": 4,
   "metadata": {},
   "outputs": [],
   "source": [
    "def basicPreproc(comments: list):\n",
    "    comments_proper = []\n",
    "\n",
    "    for review in comments:\n",
    "        review = re.sub('&([a-zA-z]+|#\\d+);', \"\", review)           # remove HTML codes\n",
    "        review = re.sub('&#63;?', '', review)                       # HTML code for question mark evades erasure on occasion, handle here\n",
    "        review = re.sub(r'\\s*https?://\\S+(\\s+|$)', ' ', review)                                     # remove links\n",
    "        review = re.sub(\"^(\\+\\d{1,2}\\s)?\\(?\\d{3}\\)?[\\s.-]?\\d{3}[\\s.-]?\\d{4}$\", ' ', review)         # remove phone numbers\n",
    "        review = re.sub(\"[a-zA-Z0-9_.+-]+@[a-zA-Z0-9-]+\\.[a-zA-Z0-9-.]+\", \" \", review)              # remove email addresses\n",
    "\n",
    "        review = re.sub(r'(.)\\1\\1+', '\\g<1>', review)               # replace any three characters in a row with one\n",
    "\n",
    "        review = re.sub('[^a-zA-Z]+', ' ', review)                  # remove non-alphabetic characters\n",
    "\n",
    "        review = re.sub('\\s+', ' ', review)\n",
    "        review = review.lower()                                     # lowercase review for uniformity\n",
    "\n",
    "        comments_proper.append(review)\n",
    "\n",
    "    return comments_proper"
   ]
  },
  {
   "cell_type": "code",
   "execution_count": 5,
   "metadata": {},
   "outputs": [],
   "source": [
    "def getPreds(comments: list):\n",
    "    preds = []\n",
    "\n",
    "    for review in comments:\n",
    "        pred = model.predict(percbest.transform(cv.transform([review])))\n",
    "        preds.append(pred[0])       # model.predict() returns a list, so isolate individual value\n",
    "    \n",
    "    return preds"
   ]
  },
  {
   "cell_type": "code",
   "execution_count": 6,
   "metadata": {},
   "outputs": [],
   "source": [
    "def printResults(docs: list, preds:list):\n",
    "    # now with fancy text coloring (works best in dark mode)\n",
    "    for comm, pred in zip(docs, preds):\n",
    "        print(\"\\033[2;32mComment: \\033[0;37m{0}\".format(comm))\n",
    "        \n",
    "        if pred == 0:\n",
    "            print(\"\\033[0;31mSentiment: \\033[0;31m{0}\".format(pred))\n",
    "        else:\n",
    "            print(\"\\033[0;34mSentiment: \\033[0;34m{0}\".format(pred))\n",
    "        \n",
    "        print()"
   ]
  },
  {
   "cell_type": "code",
   "execution_count": 7,
   "metadata": {},
   "outputs": [],
   "source": [
    "def printResultsWithStars(docs: list, preds:list, ratings=[]):\n",
    "    # now with fancy text coloring (works best in dark mode)\n",
    "    for comm, pred, star in zip(docs, preds, ratings):\n",
    "        print(\"\\033[2;32mComment: \\033[0;37m{0}\".format(comm))\n",
    "        \n",
    "        if pred == 0:\n",
    "            print(\"\\033[0;31mSentiment: \\033[0;31m{0}\".format(pred))\n",
    "        else:\n",
    "            print(\"\\033[0;34mSentiment: \\033[0;34m{0}\".format(pred))\n",
    "        \n",
    "        print(\"\\033[0;33mStars Given: \\033[0;33m{0}\\n\".format(star))"
   ]
  },
  {
   "cell_type": "markdown",
   "metadata": {},
   "source": [
    "Run above functions on 5 example comments I made up"
   ]
  },
  {
   "cell_type": "code",
   "execution_count": 8,
   "metadata": {},
   "outputs": [],
   "source": [
    "preproc_comments = basicPreproc(docs)"
   ]
  },
  {
   "cell_type": "code",
   "execution_count": 9,
   "metadata": {},
   "outputs": [],
   "source": [
    "preds = getPreds(preproc_comments)"
   ]
  },
  {
   "cell_type": "code",
   "execution_count": 10,
   "metadata": {},
   "outputs": [
    {
     "name": "stdout",
     "output_type": "stream",
     "text": [
      "\u001b[2;32mComment: \u001b[0;37mProf Ritchey is a great guy and an even better teacher! Anyone who doesn't like his class is just an idiot lmao\n",
      "\u001b[0;34mSentiment: \u001b[0;34m1\n",
      "\n",
      "\u001b[2;32mComment: \u001b[0;37mIf you get this guy, just drop out. It's actually a better use of your time to stick forks in your eyes than trying to understand his lectures.\n",
      "\u001b[0;31mSentiment: \u001b[0;31m0\n",
      "\n",
      "\u001b[2;32mComment: \u001b[0;37mI'm just happy to be here!\n",
      "\u001b[0;34mSentiment: \u001b[0;34m1\n",
      "\n",
      "\u001b[2;32mComment: \u001b[0;37mThis guy sucks and stinks and is bad and I hate him.\n",
      "\u001b[0;31mSentiment: \u001b[0;31m0\n",
      "\n",
      "\u001b[2;32mComment: \u001b[0;37mTrying to use very negative words so the model picks up the bad terrible horrible hate sentiment\n",
      "\u001b[0;31mSentiment: \u001b[0;31m0\n",
      "\n"
     ]
    }
   ],
   "source": [
    "printResults(docs, preds)"
   ]
  },
  {
   "cell_type": "markdown",
   "metadata": {},
   "source": [
    "Try model on a sample from original set of scraped comments ( `scraped_comments.csv` )"
   ]
  },
  {
   "cell_type": "code",
   "execution_count": 11,
   "metadata": {},
   "outputs": [],
   "source": [
    "def evalPerformance(y_pred, y_test, mode=\"weighted\"):\n",
    "    acc_score = accuracy_score(y_test, y_pred)\n",
    "    print(\"Accuracy Score: \" + str(acc_score * 100))\n",
    "    \n",
    "    f1 = f1_score(y_test, y_pred, average=mode)\n",
    "    print(\"F1 Score: {0}\".format(f1 * 100))"
   ]
  },
  {
   "cell_type": "code",
   "execution_count": 12,
   "metadata": {},
   "outputs": [],
   "source": [
    "old_reviews = pd.read_csv(\"../Data/scraped_comments.csv\").sample(n=20000, random_state=1)\n",
    "\n",
    "old_reviews.drop_duplicates(subset=\"comment_id\", keep=\"first\", inplace=True)\n",
    "\n",
    "old_reviews.dropna(subset=[\"comment\"], inplace=True)\n",
    "old_reviews = old_reviews[old_reviews[\"comment\"] != \"No Comments\"]\n",
    "old_reviews[\"comment\"] = old_reviews[\"comment\"].apply(lambda x: x if len(x.split()) > 5 else None)\n",
    "old_reviews.dropna(subset=[\"comment\"], inplace=True)\n",
    "\n",
    "old_reviews.reset_index(drop=True, inplace=True)"
   ]
  },
  {
   "cell_type": "code",
   "execution_count": 13,
   "metadata": {},
   "outputs": [],
   "source": [
    "preproc_comments = basicPreproc(old_reviews[\"comment\"])"
   ]
  },
  {
   "cell_type": "code",
   "execution_count": 14,
   "metadata": {},
   "outputs": [],
   "source": [
    "preds = getPreds(preproc_comments)"
   ]
  },
  {
   "cell_type": "code",
   "execution_count": 15,
   "metadata": {},
   "outputs": [],
   "source": [
    "real_sentiment = old_reviews[\"clarityRating\"].apply(lambda x: 1 if x > 2.5 else 0)"
   ]
  },
  {
   "cell_type": "markdown",
   "metadata": {},
   "source": [
    "Not super feasible to print results for ~20k comments, use standard `evalPerformance()` function from other attempts to summarize accuracy"
   ]
  },
  {
   "cell_type": "code",
   "execution_count": 16,
   "metadata": {},
   "outputs": [
    {
     "name": "stdout",
     "output_type": "stream",
     "text": [
      "Accuracy Score: 86.29621430152756\n",
      "F1 Score: 85.30637470427551\n"
     ]
    }
   ],
   "source": [
    "evalPerformance(preds, real_sentiment)"
   ]
  },
  {
   "cell_type": "markdown",
   "metadata": {},
   "source": [
    "We can show results for some, so let's do that on the first 5 reviews, also taking into account their star ratings bc they're real :)"
   ]
  },
  {
   "cell_type": "code",
   "execution_count": 17,
   "metadata": {},
   "outputs": [],
   "source": [
    "comm_print = old_reviews[\"comment\"].iloc[0:5]\n",
    "preds_print = preds[0:5]\n",
    "stars_print = old_reviews[\"clarityRating\"].iloc[0:5]"
   ]
  },
  {
   "cell_type": "code",
   "execution_count": 18,
   "metadata": {},
   "outputs": [
    {
     "name": "stdout",
     "output_type": "stream",
     "text": [
      "\u001b[2;32mComment: \u001b[0;37mgood teacher! Class gets boring but keep busy and stay half-listening and you'll be good for the lecture questions. The lectures do have the potential to be interesting :) and yes, attendance is NOT mandatory!\n",
      "\u001b[0;34mSentiment: \u001b[0;34m1\n",
      "\u001b[0;33mStars Given: \u001b[0;33m5\n",
      "\n",
      "\u001b[2;32mComment: \u001b[0;37mHeis really helpful.He is themost helpful teacher I ve ever seen.He teaches well and I enjoy his class.His examples make it easier to understand.Just do what he tells you.You ll get an A\n",
      "\u001b[0;34mSentiment: \u001b[0;34m1\n",
      "\u001b[0;33mStars Given: \u001b[0;33m4\n",
      "\n",
      "\u001b[2;32mComment: \u001b[0;37mVery patient non tolerant and understanding lovely lady very concern about all her students\n",
      "\u001b[0;34mSentiment: \u001b[0;34m1\n",
      "\u001b[0;33mStars Given: \u001b[0;33m5\n",
      "\n",
      "\u001b[2;32mComment: \u001b[0;37mI hated the course and had to drop it but he is an alright guy. He even gives you his home number to call if you have problems. He makes you read a lot and gives tons of assignments. Not my fav, but ok.\n",
      "\u001b[0;34mSentiment: \u001b[0;34m1\n",
      "\u001b[0;33mStars Given: \u001b[0;33m3\n",
      "\n",
      "\u001b[2;32mComment: \u001b[0;37mEasiest class I've ever taken. I feel like I am in a &quot;special class.&quot; In my college experience I have yet to find a class in which the professor did not attend until this one. The class is woefully shallow and pedantic. It's pure lecture. Student input is constrained to single phrases that can only be uttered after she has made her point. If a stud\n",
      "\u001b[0;31mSentiment: \u001b[0;31m0\n",
      "\u001b[0;33mStars Given: \u001b[0;33m4\n",
      "\n"
     ]
    }
   ],
   "source": [
    "printResultsWithStars(comm_print, preds_print, stars_print)"
   ]
  }
 ],
 "metadata": {
  "kernelspec": {
   "display_name": "Python 3.9.13 64-bit (windows store)",
   "language": "python",
   "name": "python3"
  },
  "language_info": {
   "codemirror_mode": {
    "name": "ipython",
    "version": 3
   },
   "file_extension": ".py",
   "mimetype": "text/x-python",
   "name": "python",
   "nbconvert_exporter": "python",
   "pygments_lexer": "ipython3",
   "version": "3.9.13"
  },
  "orig_nbformat": 4,
  "vscode": {
   "interpreter": {
    "hash": "ed8ce2715666cca47edfe3dc40f16f58fc193b5a7b06958e2ae06c97afdf9990"
   }
  }
 },
 "nbformat": 4,
 "nbformat_minor": 2
}
