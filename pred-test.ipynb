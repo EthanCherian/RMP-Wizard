{
 "cells": [
  {
   "cell_type": "markdown",
   "metadata": {},
   "source": [
    "# Testing using a model to predict on new reviews"
   ]
  },
  {
   "cell_type": "code",
   "execution_count": 3,
   "metadata": {},
   "outputs": [],
   "source": [
    "from joblib import dump, load\n",
    "import re"
   ]
  },
  {
   "cell_type": "markdown",
   "metadata": {},
   "source": [
    "Load most effective model, from `attempt-3.ipynb`, along with `CountVectorizer` and `SelectPercentile` (feature selector)"
   ]
  },
  {
   "cell_type": "code",
   "execution_count": 6,
   "metadata": {},
   "outputs": [],
   "source": [
    "model = load(\"NB-model.joblib\")\n",
    "cv = load(\"NB-vectorizer.joblib\")\n",
    "percbest = load(\"NB-chi2.joblib\")"
   ]
  },
  {
   "cell_type": "code",
   "execution_count": 23,
   "metadata": {},
   "outputs": [],
   "source": [
    "# new sentences to predict on\n",
    "docs = [\n",
    "    \"Prof Ritchey is a great guy and an even better teacher! Anyone who doesn't like his class is just an idiot lmao\",\n",
    "    \"If you get this guy, just drop out. It's actually a better use of your time to stick forks in your eyes than trying to understand his lectures.\",\n",
    "    \"I'm just happy to be here!\",\n",
    "    \"This guy sucks and stinks and is bad and I hate him.\",\n",
    "    \"Trying to use very negative words so the model picks up the bad terrible horrible hate sentiment\"\n",
    "]"
   ]
  },
  {
   "cell_type": "markdown",
   "metadata": {},
   "source": [
    "Feed new comments into basic preprocessing pipeline"
   ]
  },
  {
   "cell_type": "code",
   "execution_count": 24,
   "metadata": {},
   "outputs": [
    {
     "data": {
      "text/plain": [
       "['prof ritchey is a great guy and an even better teacher anyone who doesn t like his class is just an idiot lmao',\n",
       " 'if you get this guy just drop out it s actually a better use of your time to stick forks in your eyes than trying to understand his lectures ',\n",
       " 'i m just happy to be here ',\n",
       " 'this guy sucks and stinks and is bad and i hate him ',\n",
       " 'trying to use very negative words so the model picks up the bad terrible horrible hate sentiment']"
      ]
     },
     "execution_count": 24,
     "metadata": {},
     "output_type": "execute_result"
    }
   ],
   "source": [
    "comments_proper = []\n",
    "\n",
    "for review in docs:\n",
    "    review = re.sub('&([a-zA-z]+|#\\d+);', \"\", review)           # remove HTML codes\n",
    "    review = re.sub('&#63;?', '', review)                       # HTML code for question mark evades erasure on occasion, handle here\n",
    "    review = re.sub(r'\\s*https?://\\S+(\\s+|$)', ' ', review)                                     # remove links\n",
    "    review = re.sub(\"^(\\+\\d{1,2}\\s)?\\(?\\d{3}\\)?[\\s.-]?\\d{3}[\\s.-]?\\d{4}$\", ' ', review)         # remove phone numbers\n",
    "    review = re.sub(\"[a-zA-Z0-9_.+-]+@[a-zA-Z0-9-]+\\.[a-zA-Z0-9-.]+\", \" \", review)              # remove email addresses\n",
    "\n",
    "    review = re.sub(r'(.)\\1\\1+', '\\g<1>', review)               # replace any three characters in a row with one\n",
    "\n",
    "    review = re.sub('[^a-zA-Z]+', ' ', review)                  # remove non-alphabetic characters\n",
    "\n",
    "    review = re.sub('\\s+', ' ', review)\n",
    "    review = review.lower()                                     # lowercase review for uniformity\n",
    "\n",
    "    comments_proper.append(review)\n",
    "\n",
    "comments_proper"
   ]
  },
  {
   "cell_type": "code",
   "execution_count": 25,
   "metadata": {},
   "outputs": [],
   "source": [
    "preds = []\n",
    "\n",
    "for review in comments_proper:\n",
    "    pred = model.predict(percbest.transform(cv.transform([review])))\n",
    "    preds.append(pred[0])       # model.predict() returns a list, so isolate individual value"
   ]
  },
  {
   "cell_type": "code",
   "execution_count": 26,
   "metadata": {},
   "outputs": [
    {
     "data": {
      "text/plain": [
       "[1, 1, 1, 1, 0]"
      ]
     },
     "execution_count": 26,
     "metadata": {},
     "output_type": "execute_result"
    }
   ],
   "source": [
    "preds"
   ]
  }
 ],
 "metadata": {
  "kernelspec": {
   "display_name": "Python 3.9.13 64-bit (windows store)",
   "language": "python",
   "name": "python3"
  },
  "language_info": {
   "codemirror_mode": {
    "name": "ipython",
    "version": 3
   },
   "file_extension": ".py",
   "mimetype": "text/x-python",
   "name": "python",
   "nbconvert_exporter": "python",
   "pygments_lexer": "ipython3",
   "version": "3.9.13"
  },
  "orig_nbformat": 4,
  "vscode": {
   "interpreter": {
    "hash": "ed8ce2715666cca47edfe3dc40f16f58fc193b5a7b06958e2ae06c97afdf9990"
   }
  }
 },
 "nbformat": 4,
 "nbformat_minor": 2
}
