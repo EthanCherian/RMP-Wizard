{
 "cells": [
  {
   "cell_type": "code",
   "execution_count": null,
   "metadata": {},
   "outputs": [],
   "source": [
    "import pandas as pd\n",
    "import re\n",
    "import nltk\n",
    "\n",
    "from sklearn.feature_extraction.text import CountVectorizer\n",
    "from sklearn.model_selection import train_test_split\n",
    "from sklearn.naive_bayes import MultinomialNB\n",
    "from sklearn.metrics import accuracy_score, f1_score, precision_score, recall_score\n",
    "from collections import Counter\n",
    "\n",
    "from sklearn.feature_selection import chi2, SelectPercentile\n",
    "from sklearn.pipeline import Pipeline\n",
    "\n",
    "from preproc import Preproc"
   ]
  },
  {
   "cell_type": "code",
   "execution_count": 2,
   "metadata": {},
   "outputs": [],
   "source": [
    "reviews = pd.read_csv(\"Data/scraped_comments_with_professor.csv\")"
   ]
  },
  {
   "cell_type": "code",
   "execution_count": 3,
   "metadata": {},
   "outputs": [],
   "source": [
    "reviews.drop_duplicates(subset=\"comment_id\", keep=\"first\", inplace=True)\n",
    "\n",
    "reviews.dropna(subset=[\"comment\"], inplace=True)\n",
    "reviews = reviews[reviews[\"comment\"] != \"No Comments\"]\n",
    "\n",
    "reviews['firstName'].fillna('', inplace=True)\n",
    "reviews['lastName'].fillna('', inplace=True)\n",
    "\n",
    "reviews[\"comment\"] = reviews[\"comment\"].apply(lambda x: x if len(x.split()) > 5 else None)\n",
    "reviews.dropna(subset=[\"comment\"], inplace=True)"
   ]
  },
  {
   "cell_type": "code",
   "execution_count": 4,
   "metadata": {},
   "outputs": [
    {
     "data": {
      "text/plain": [
       " 5.0    176812\n",
       " 4.5     58705\n",
       " 4.0     52643\n",
       " 1.0     45128\n",
       " 2.0     26945\n",
       " 3.5     22896\n",
       " 1.5     19230\n",
       " 2.5     17510\n",
       "-1.0         1\n",
       "Name: starRating, dtype: int64"
      ]
     },
     "execution_count": 4,
     "metadata": {},
     "output_type": "execute_result"
    }
   ],
   "source": [
    "reviews[\"starRating\"] = (reviews[\"clarityRating\"] + reviews[\"helpfulRating\"]) / 2\n",
    "reviews = reviews[reviews[\"starRating\"] != 3.0]         # drop 3 star reviews\n",
    "reviews.reset_index(drop=True, inplace=True)\n",
    "\n",
    "reviews[\"starRating\"].value_counts()"
   ]
  },
  {
   "cell_type": "code",
   "execution_count": 6,
   "metadata": {},
   "outputs": [],
   "source": [
    "sent_pipe = Pipeline([\n",
    "    (\"preprocessor\", Preproc()),            # condense all preprocessing into a single class\n",
    "    (\"vectorizer\", CountVectorizer(ngram_range=(1,2), max_df=0.5)), \n",
    "    (\"selector\"  , SelectPercentile(score_func=chi2, percentile=50)),\n",
    "    (\"classifer\" , MultinomialNB())\n",
    "])"
   ]
  },
  {
   "cell_type": "markdown",
   "metadata": {},
   "source": [
    "Fit pipeline on entire `reviews` dataframe\n",
    "\n",
    "Preprocessor (first step) doesn't need sentiment, but subsequent steps do"
   ]
  },
  {
   "cell_type": "code",
   "execution_count": 7,
   "metadata": {},
   "outputs": [
    {
     "name": "stdout",
     "output_type": "stream",
     "text": [
      "\n",
      ">>>>>>>>>> fit() called\n",
      "\n",
      "\n",
      ">>>>>>>>>> transform() called\n",
      "\n",
      "Entering preprocessing\n"
     ]
    }
   ],
   "source": [
    "sent_pipe_fit = sent_pipe.fit(reviews, reviews[\"sentiment\"])"
   ]
  },
  {
   "cell_type": "code",
   "execution_count": 8,
   "metadata": {},
   "outputs": [],
   "source": [
    "from sklearn.metrics import confusion_matrix\n",
    "\n",
    "def evalPerformance(y_pred, y_test, mode=\"weighted\"):\n",
    "    acc_score = accuracy_score(y_test, y_pred)\n",
    "    print(\"Accuracy: \" + str(acc_score * 100))\n",
    "    \n",
    "    f1 = f1_score(y_test, y_pred, average=mode)\n",
    "    print(\"F1 Score: {0}\\n\".format(f1 * 100))\n",
    "\n",
    "    prec = precision_score(y_test, y_pred, average=mode)\n",
    "    print(\"Precision: {0}\".format(prec * 100))\n",
    "    rec = recall_score(y_test, y_pred, average=mode)\n",
    "    print(\"Recall: {0}\\n\".format(rec * 100))\n",
    "\n",
    "    print(confusion_matrix(y_test, y_pred))"
   ]
  },
  {
   "cell_type": "code",
   "execution_count": 10,
   "metadata": {},
   "outputs": [],
   "source": [
    "old_reviews = pd.read_csv(\"Data/scraped_comments.csv\").sample(n=100000, random_state=1)\n",
    "\n",
    "old_reviews.drop_duplicates(subset=\"comment_id\", keep=\"first\", inplace=True)\n",
    "\n",
    "old_reviews.dropna(subset=[\"comment\"], inplace=True)\n",
    "old_reviews = old_reviews[old_reviews[\"comment\"] != \"No Comments\"]\n",
    "old_reviews[\"comment\"] = old_reviews[\"comment\"].apply(lambda x: x if len(x.split()) > 5 else None)\n",
    "old_reviews.dropna(subset=[\"comment\"], inplace=True)\n",
    "\n",
    "old_reviews.reset_index(drop=True, inplace=True)"
   ]
  },
  {
   "cell_type": "code",
   "execution_count": 11,
   "metadata": {},
   "outputs": [],
   "source": [
    "old_reviews[\"starRating\"] = (old_reviews[\"clarityRating\"] + old_reviews[\"helpfulRating\"]) / 2\n",
    "old_reviews = old_reviews[old_reviews[\"starRating\"] != 3.0]         # drop 3 star reviews"
   ]
  },
  {
   "cell_type": "code",
   "execution_count": 12,
   "metadata": {},
   "outputs": [
    {
     "name": "stdout",
     "output_type": "stream",
     "text": [
      "\n",
      ">>>>>>>>>> transform() called\n",
      "\n",
      "Entering preprocessing\n"
     ]
    }
   ],
   "source": [
    "preds = sent_pipe_fit.predict(old_reviews)"
   ]
  },
  {
   "cell_type": "code",
   "execution_count": 13,
   "metadata": {},
   "outputs": [
    {
     "name": "stdout",
     "output_type": "stream",
     "text": [
      "Accuracy: 91.74379682902715\n",
      "F1 Score: 91.74704135466203\n",
      "\n",
      "Precision: 91.75042840743701\n",
      "Recall: 91.74379682902715\n",
      "\n",
      "[[21670  3431]\n",
      " [ 3500 55348]]\n"
     ]
    }
   ],
   "source": [
    "real_sentiment = old_reviews[\"starRating\"].apply(lambda x: 1 if x > 2.5 else 0)\n",
    "evalPerformance(preds, real_sentiment)"
   ]
  }
 ],
 "metadata": {
  "kernelspec": {
   "display_name": "Python 3.9.13 64-bit (windows store)",
   "language": "python",
   "name": "python3"
  },
  "language_info": {
   "codemirror_mode": {
    "name": "ipython",
    "version": 3
   },
   "file_extension": ".py",
   "mimetype": "text/x-python",
   "name": "python",
   "nbconvert_exporter": "python",
   "pygments_lexer": "ipython3",
   "version": "3.9.13"
  },
  "orig_nbformat": 4,
  "vscode": {
   "interpreter": {
    "hash": "ed8ce2715666cca47edfe3dc40f16f58fc193b5a7b06958e2ae06c97afdf9990"
   }
  }
 },
 "nbformat": 4,
 "nbformat_minor": 2
}
