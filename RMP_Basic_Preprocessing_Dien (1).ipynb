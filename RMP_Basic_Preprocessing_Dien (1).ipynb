{
  "nbformat": 4,
  "nbformat_minor": 0,
  "metadata": {
    "colab": {
      "name": "RMP Basic Preprocessing Dien",
      "provenance": [],
      "collapsed_sections": [],
      "toc_visible": true
    },
    "kernelspec": {
      "name": "python3",
      "display_name": "Python 3"
    },
    "language_info": {
      "name": "python"
    },
    "gpuClass": "standard"
  },
  "cells": [
    {
      "cell_type": "markdown",
      "source": [
        "# Preprocessing Setup\n",
        "Basic steps, because there are domain specific problems to account for later"
      ],
      "metadata": {
        "id": "gQV3OxqpZG_N"
      }
    },
    {
      "cell_type": "code",
      "source": [
        "import pandas as pd\n",
        "import numpy as np\n",
        "import re\n",
        "import spacy\n",
        "import pkg_resources\n",
        "from spacy.lang.en.stop_words import STOP_WORDS\n",
        "from collections import Counter\n",
        "\n",
        "import nltk\n",
        "from nltk.stem import WordNetLemmatizer\n",
        "from nltk.corpus import words, wordnet, brown"
      ],
      "metadata": {
        "id": "k7nhxQ8_ZI86"
      },
      "execution_count": 1,
      "outputs": []
    },
    {
      "cell_type": "code",
      "source": [
        "# !pip install symspellpy\n",
        "\n",
        "from spacy.cli import download\n",
        "download('en_core_web_md')\n",
        "nltk.download('words')\n",
        "# nltk.download('omw-1.4')"
      ],
      "metadata": {
        "colab": {
          "base_uri": "https://localhost:8080/"
        },
        "id": "6jDqCGD3s7Ku",
        "outputId": "94457b9b-9af5-4a92-85e0-a74179cc83cc"
      },
      "execution_count": 2,
      "outputs": [
        {
          "output_type": "stream",
          "name": "stdout",
          "text": [
            "\u001b[38;5;2m✔ Download and installation successful\u001b[0m\n",
            "You can now load the package via spacy.load('en_core_web_md')\n"
          ]
        },
        {
          "output_type": "stream",
          "name": "stderr",
          "text": [
            "[nltk_data] Downloading package words to /root/nltk_data...\n",
            "[nltk_data]   Unzipping corpora/words.zip.\n"
          ]
        },
        {
          "output_type": "execute_result",
          "data": {
            "text/plain": [
              "True"
            ]
          },
          "metadata": {},
          "execution_count": 2
        }
      ]
    },
    {
      "cell_type": "code",
      "source": [
        "# from symspellpy import SymSpell, Verbosity"
      ],
      "metadata": {
        "id": "MnPL-zIAs8Ml"
      },
      "execution_count": 3,
      "outputs": []
    },
    {
      "cell_type": "code",
      "source": [
        "from google.colab import drive\n",
        "drive.mount('/content/drive')"
      ],
      "metadata": {
        "id": "UMSveQ7KZ2R_",
        "colab": {
          "base_uri": "https://localhost:8080/"
        },
        "outputId": "3928377a-b95f-44d9-d78b-db66debcc9ea"
      },
      "execution_count": 4,
      "outputs": [
        {
          "output_type": "stream",
          "name": "stdout",
          "text": [
            "Mounted at /content/drive\n"
          ]
        }
      ]
    },
    {
      "cell_type": "code",
      "source": [
        "reviews = pd.read_csv(\"/content/drive/MyDrive/RMP/scraped_comments_with_professor.csv\").sample(n=300000, random_state=1)\n",
        "# reviews[['comment_id', 'firstName', 'lastName', 'prof_class', 'comment', 'clarityRating', 'helpfulRating']].to_csv(\"/content/drive/MyDrive/RMP/scraped_comments_sample.csv\")"
      ],
      "metadata": {
        "id": "yLicijJQZLzr"
      },
      "execution_count": 5,
      "outputs": []
    },
    {
      "cell_type": "code",
      "source": [
        "reviews.head()"
      ],
      "metadata": {
        "id": "9vGcWkCVlghQ",
        "colab": {
          "base_uri": "https://localhost:8080/",
          "height": 617
        },
        "outputId": "566c25e1-346e-4b76-99cf-4e8c92d1c4ee"
      },
      "execution_count": 6,
      "outputs": [
        {
          "output_type": "execute_result",
          "data": {
            "text/plain": [
              "                professor_id            comment_id firstName     lastName  \\\n",
              "274508  VGVhY2hlci0xMDY5NDk0  UmF0aW5nLTMwNDk4MTI3    Dianne  Kwasniewski   \n",
              "414595  VGVhY2hlci0xNDMxMzc4  UmF0aW5nLTIyMDk4ODU3     Bruce      Freeman   \n",
              "459567  VGVhY2hlci0xNjA1MDYw  UmF0aW5nLTIzMzk1OTY1     Lorne    Goldstein   \n",
              "724268  VGVhY2hlci0xNTQ0NjU3  UmF0aW5nLTE4NzAzODIx      John     Trombley   \n",
              "859174  VGVhY2hlci0xMjQ2NTEz  UmF0aW5nLTI3ODQyMDIx  Lawrence  Mc Laughlin   \n",
              "\n",
              "            prof_class                                            comment  \\\n",
              "274508           AH100  I am currently in Ms. Dianne Kwasniewski's AH1...   \n",
              "414595  HUMANRELATIONS  Pretty easy, all you really need to do is go t...   \n",
              "459567        CML4111A  Fantastic class, great guy.  Awesome lectures ...   \n",
              "724268        CHEM1143  He's kinda new to the University. Class is not...   \n",
              "859174         GEOG111  He makes the class easy and the field trips ar...   \n",
              "\n",
              "                                               ratingTags  \\\n",
              "274508  Respected--Skip class? You won't pass.--Hilarious   \n",
              "414595                                                NaN   \n",
              "459567                                                NaN   \n",
              "724268                                                NaN   \n",
              "859174                Respected--Amazing lectures--Caring   \n",
              "\n",
              "                                 date attendanceMandatory         grade  \\\n",
              "274508  2018-09-12 23:18:48 +0000 UTC                 NaN  Not sure yet   \n",
              "414595  2013-09-01 18:04:12 +0000 UTC                   Y             A   \n",
              "459567  2014-06-23 19:44:33 +0000 UTC                   N           NaN   \n",
              "724268  2011-06-06 15:13:05 +0000 UTC                 NaN           NaN   \n",
              "859174  2017-02-20 13:14:54 +0000 UTC           mandatory             A   \n",
              "\n",
              "        clarityRating  difficultyRating  helpfulRating  textbookUse  \\\n",
              "274508              5                 2              5          5.0   \n",
              "414595              3                 2              4          3.0   \n",
              "459567              5                 4              4          1.0   \n",
              "724268              4                 3              4          4.0   \n",
              "859174              5                 2              5          5.0   \n",
              "\n",
              "        thumbsDownTotal  thumbsUpTotal  wouldTakeAgain  \n",
              "274508                0              2             1.0  \n",
              "414595                0              0             NaN  \n",
              "459567                0              0             NaN  \n",
              "724268                0              0             NaN  \n",
              "859174                0              8             1.0  "
            ],
            "text/html": [
              "\n",
              "  <div id=\"df-d3da184e-23b9-4249-ae4a-6f979a6a048c\">\n",
              "    <div class=\"colab-df-container\">\n",
              "      <div>\n",
              "<style scoped>\n",
              "    .dataframe tbody tr th:only-of-type {\n",
              "        vertical-align: middle;\n",
              "    }\n",
              "\n",
              "    .dataframe tbody tr th {\n",
              "        vertical-align: top;\n",
              "    }\n",
              "\n",
              "    .dataframe thead th {\n",
              "        text-align: right;\n",
              "    }\n",
              "</style>\n",
              "<table border=\"1\" class=\"dataframe\">\n",
              "  <thead>\n",
              "    <tr style=\"text-align: right;\">\n",
              "      <th></th>\n",
              "      <th>professor_id</th>\n",
              "      <th>comment_id</th>\n",
              "      <th>firstName</th>\n",
              "      <th>lastName</th>\n",
              "      <th>prof_class</th>\n",
              "      <th>comment</th>\n",
              "      <th>ratingTags</th>\n",
              "      <th>date</th>\n",
              "      <th>attendanceMandatory</th>\n",
              "      <th>grade</th>\n",
              "      <th>clarityRating</th>\n",
              "      <th>difficultyRating</th>\n",
              "      <th>helpfulRating</th>\n",
              "      <th>textbookUse</th>\n",
              "      <th>thumbsDownTotal</th>\n",
              "      <th>thumbsUpTotal</th>\n",
              "      <th>wouldTakeAgain</th>\n",
              "    </tr>\n",
              "  </thead>\n",
              "  <tbody>\n",
              "    <tr>\n",
              "      <th>274508</th>\n",
              "      <td>VGVhY2hlci0xMDY5NDk0</td>\n",
              "      <td>UmF0aW5nLTMwNDk4MTI3</td>\n",
              "      <td>Dianne</td>\n",
              "      <td>Kwasniewski</td>\n",
              "      <td>AH100</td>\n",
              "      <td>I am currently in Ms. Dianne Kwasniewski's AH1...</td>\n",
              "      <td>Respected--Skip class? You won't pass.--Hilarious</td>\n",
              "      <td>2018-09-12 23:18:48 +0000 UTC</td>\n",
              "      <td>NaN</td>\n",
              "      <td>Not sure yet</td>\n",
              "      <td>5</td>\n",
              "      <td>2</td>\n",
              "      <td>5</td>\n",
              "      <td>5.0</td>\n",
              "      <td>0</td>\n",
              "      <td>2</td>\n",
              "      <td>1.0</td>\n",
              "    </tr>\n",
              "    <tr>\n",
              "      <th>414595</th>\n",
              "      <td>VGVhY2hlci0xNDMxMzc4</td>\n",
              "      <td>UmF0aW5nLTIyMDk4ODU3</td>\n",
              "      <td>Bruce</td>\n",
              "      <td>Freeman</td>\n",
              "      <td>HUMANRELATIONS</td>\n",
              "      <td>Pretty easy, all you really need to do is go t...</td>\n",
              "      <td>NaN</td>\n",
              "      <td>2013-09-01 18:04:12 +0000 UTC</td>\n",
              "      <td>Y</td>\n",
              "      <td>A</td>\n",
              "      <td>3</td>\n",
              "      <td>2</td>\n",
              "      <td>4</td>\n",
              "      <td>3.0</td>\n",
              "      <td>0</td>\n",
              "      <td>0</td>\n",
              "      <td>NaN</td>\n",
              "    </tr>\n",
              "    <tr>\n",
              "      <th>459567</th>\n",
              "      <td>VGVhY2hlci0xNjA1MDYw</td>\n",
              "      <td>UmF0aW5nLTIzMzk1OTY1</td>\n",
              "      <td>Lorne</td>\n",
              "      <td>Goldstein</td>\n",
              "      <td>CML4111A</td>\n",
              "      <td>Fantastic class, great guy.  Awesome lectures ...</td>\n",
              "      <td>NaN</td>\n",
              "      <td>2014-06-23 19:44:33 +0000 UTC</td>\n",
              "      <td>N</td>\n",
              "      <td>NaN</td>\n",
              "      <td>5</td>\n",
              "      <td>4</td>\n",
              "      <td>4</td>\n",
              "      <td>1.0</td>\n",
              "      <td>0</td>\n",
              "      <td>0</td>\n",
              "      <td>NaN</td>\n",
              "    </tr>\n",
              "    <tr>\n",
              "      <th>724268</th>\n",
              "      <td>VGVhY2hlci0xNTQ0NjU3</td>\n",
              "      <td>UmF0aW5nLTE4NzAzODIx</td>\n",
              "      <td>John</td>\n",
              "      <td>Trombley</td>\n",
              "      <td>CHEM1143</td>\n",
              "      <td>He's kinda new to the University. Class is not...</td>\n",
              "      <td>NaN</td>\n",
              "      <td>2011-06-06 15:13:05 +0000 UTC</td>\n",
              "      <td>NaN</td>\n",
              "      <td>NaN</td>\n",
              "      <td>4</td>\n",
              "      <td>3</td>\n",
              "      <td>4</td>\n",
              "      <td>4.0</td>\n",
              "      <td>0</td>\n",
              "      <td>0</td>\n",
              "      <td>NaN</td>\n",
              "    </tr>\n",
              "    <tr>\n",
              "      <th>859174</th>\n",
              "      <td>VGVhY2hlci0xMjQ2NTEz</td>\n",
              "      <td>UmF0aW5nLTI3ODQyMDIx</td>\n",
              "      <td>Lawrence</td>\n",
              "      <td>Mc Laughlin</td>\n",
              "      <td>GEOG111</td>\n",
              "      <td>He makes the class easy and the field trips ar...</td>\n",
              "      <td>Respected--Amazing lectures--Caring</td>\n",
              "      <td>2017-02-20 13:14:54 +0000 UTC</td>\n",
              "      <td>mandatory</td>\n",
              "      <td>A</td>\n",
              "      <td>5</td>\n",
              "      <td>2</td>\n",
              "      <td>5</td>\n",
              "      <td>5.0</td>\n",
              "      <td>0</td>\n",
              "      <td>8</td>\n",
              "      <td>1.0</td>\n",
              "    </tr>\n",
              "  </tbody>\n",
              "</table>\n",
              "</div>\n",
              "      <button class=\"colab-df-convert\" onclick=\"convertToInteractive('df-d3da184e-23b9-4249-ae4a-6f979a6a048c')\"\n",
              "              title=\"Convert this dataframe to an interactive table.\"\n",
              "              style=\"display:none;\">\n",
              "        \n",
              "  <svg xmlns=\"http://www.w3.org/2000/svg\" height=\"24px\"viewBox=\"0 0 24 24\"\n",
              "       width=\"24px\">\n",
              "    <path d=\"M0 0h24v24H0V0z\" fill=\"none\"/>\n",
              "    <path d=\"M18.56 5.44l.94 2.06.94-2.06 2.06-.94-2.06-.94-.94-2.06-.94 2.06-2.06.94zm-11 1L8.5 8.5l.94-2.06 2.06-.94-2.06-.94L8.5 2.5l-.94 2.06-2.06.94zm10 10l.94 2.06.94-2.06 2.06-.94-2.06-.94-.94-2.06-.94 2.06-2.06.94z\"/><path d=\"M17.41 7.96l-1.37-1.37c-.4-.4-.92-.59-1.43-.59-.52 0-1.04.2-1.43.59L10.3 9.45l-7.72 7.72c-.78.78-.78 2.05 0 2.83L4 21.41c.39.39.9.59 1.41.59.51 0 1.02-.2 1.41-.59l7.78-7.78 2.81-2.81c.8-.78.8-2.07 0-2.86zM5.41 20L4 18.59l7.72-7.72 1.47 1.35L5.41 20z\"/>\n",
              "  </svg>\n",
              "      </button>\n",
              "      \n",
              "  <style>\n",
              "    .colab-df-container {\n",
              "      display:flex;\n",
              "      flex-wrap:wrap;\n",
              "      gap: 12px;\n",
              "    }\n",
              "\n",
              "    .colab-df-convert {\n",
              "      background-color: #E8F0FE;\n",
              "      border: none;\n",
              "      border-radius: 50%;\n",
              "      cursor: pointer;\n",
              "      display: none;\n",
              "      fill: #1967D2;\n",
              "      height: 32px;\n",
              "      padding: 0 0 0 0;\n",
              "      width: 32px;\n",
              "    }\n",
              "\n",
              "    .colab-df-convert:hover {\n",
              "      background-color: #E2EBFA;\n",
              "      box-shadow: 0px 1px 2px rgba(60, 64, 67, 0.3), 0px 1px 3px 1px rgba(60, 64, 67, 0.15);\n",
              "      fill: #174EA6;\n",
              "    }\n",
              "\n",
              "    [theme=dark] .colab-df-convert {\n",
              "      background-color: #3B4455;\n",
              "      fill: #D2E3FC;\n",
              "    }\n",
              "\n",
              "    [theme=dark] .colab-df-convert:hover {\n",
              "      background-color: #434B5C;\n",
              "      box-shadow: 0px 1px 3px 1px rgba(0, 0, 0, 0.15);\n",
              "      filter: drop-shadow(0px 1px 2px rgba(0, 0, 0, 0.3));\n",
              "      fill: #FFFFFF;\n",
              "    }\n",
              "  </style>\n",
              "\n",
              "      <script>\n",
              "        const buttonEl =\n",
              "          document.querySelector('#df-d3da184e-23b9-4249-ae4a-6f979a6a048c button.colab-df-convert');\n",
              "        buttonEl.style.display =\n",
              "          google.colab.kernel.accessAllowed ? 'block' : 'none';\n",
              "\n",
              "        async function convertToInteractive(key) {\n",
              "          const element = document.querySelector('#df-d3da184e-23b9-4249-ae4a-6f979a6a048c');\n",
              "          const dataTable =\n",
              "            await google.colab.kernel.invokeFunction('convertToInteractive',\n",
              "                                                     [key], {});\n",
              "          if (!dataTable) return;\n",
              "\n",
              "          const docLinkHtml = 'Like what you see? Visit the ' +\n",
              "            '<a target=\"_blank\" href=https://colab.research.google.com/notebooks/data_table.ipynb>data table notebook</a>'\n",
              "            + ' to learn more about interactive tables.';\n",
              "          element.innerHTML = '';\n",
              "          dataTable['output_type'] = 'display_data';\n",
              "          await google.colab.output.renderOutput(dataTable, element);\n",
              "          const docLink = document.createElement('div');\n",
              "          docLink.innerHTML = docLinkHtml;\n",
              "          element.appendChild(docLink);\n",
              "        }\n",
              "      </script>\n",
              "    </div>\n",
              "  </div>\n",
              "  "
            ]
          },
          "metadata": {},
          "execution_count": 6
        }
      ]
    },
    {
      "cell_type": "markdown",
      "source": [
        "## Duplicates and Nulls"
      ],
      "metadata": {
        "id": "tGS9yvAMag7H"
      }
    },
    {
      "cell_type": "code",
      "source": [
        "print(\"Shape before dropping:\", reviews.shape)\n",
        "reviews.drop_duplicates(subset=\"comment_id\", keep=\"first\", inplace=True)\n",
        "\n",
        "# drop rows containing only \"No Comments\" (default value assigned by RMP to a review that didn't enter a comment)\n",
        "reviews = reviews[reviews[\"comment\"] != \"No Comments\"]\n",
        "\n",
        "# drop rows containing NaN comment\n",
        "reviews.dropna(subset=[\"comment\"], inplace=True)\n",
        "\n",
        "# fill null names with empty string\n",
        "reviews['firstName'].fillna('', inplace=True)\n",
        "reviews['lastName'].fillna('', inplace=True)\n",
        "\n",
        "# Dropping reviews with clarityRating == 3\n",
        "reviews = reviews[reviews[\"clarityRating\"] != 3]\n",
        "reviews[\"sentiment\"] = reviews[\"clarityRating\"].apply(lambda x: 1 if x > 2.5 else 0)\n",
        "\n",
        "print(\"Shape after dropping:\", reviews.shape)\n",
        "reviews.reset_index(drop=True, inplace=True)"
      ],
      "metadata": {
        "id": "CLUgn5sbZ_1g",
        "colab": {
          "base_uri": "https://localhost:8080/"
        },
        "outputId": "427cd39d-0a2b-49b8-bc3f-10865bf8c07d"
      },
      "execution_count": 7,
      "outputs": [
        {
          "output_type": "stream",
          "name": "stdout",
          "text": [
            "Shape before dropping: (300000, 17)\n",
            "Shape after dropping: (262645, 18)\n"
          ]
        },
        {
          "output_type": "stream",
          "name": "stderr",
          "text": [
            "/usr/local/lib/python3.7/dist-packages/ipykernel_launcher.py:16: SettingWithCopyWarning: \n",
            "A value is trying to be set on a copy of a slice from a DataFrame.\n",
            "Try using .loc[row_indexer,col_indexer] = value instead\n",
            "\n",
            "See the caveats in the documentation: https://pandas.pydata.org/pandas-docs/stable/user_guide/indexing.html#returning-a-view-versus-a-copy\n",
            "  app.launch_new_instance()\n"
          ]
        }
      ]
    },
    {
      "cell_type": "markdown",
      "source": [
        "## Removing Urls, Phone Numbers, and Emails"
      ],
      "metadata": {
        "id": "yDFaJC7Fe4nk"
      }
    },
    {
      "cell_type": "code",
      "source": [
        "def remove_urls(text):\n",
        "    return re.sub(r'https?://\\S+|www\\.\\S+', ' ', text)\n",
        "\n",
        "def remove_phones(text):\n",
        "    return re.sub(r'\\d{3}-\\d{3}-\\d{4}', ' ', text)\n",
        "\n",
        "def remove_emails(text):\n",
        "    return re.sub(r'[a-zA-Z0-9_.+-]+@[a-zA-Z0-9-]+\\.[a-zA-Z0-9-.]+', ' ', text)\n",
        "\n",
        "print(remove_urls('Hey! Check out this link: www.somelink.com'))\n",
        "print(remove_phones(\"Hey! Check out this phone number: 742-457-0417\"))\n",
        "print(remove_emails(\"Hey! Check out this email address: nooneuses@yahoo.com\"))"
      ],
      "metadata": {
        "id": "yzZSR-eXe9Cr",
        "colab": {
          "base_uri": "https://localhost:8080/"
        },
        "outputId": "ff2994f0-ec7c-4dce-88b1-5ea0653df376"
      },
      "execution_count": 8,
      "outputs": [
        {
          "output_type": "stream",
          "name": "stdout",
          "text": [
            "Hey! Check out this link:  \n",
            "Hey! Check out this phone number:  \n",
            "Hey! Check out this email address:  \n"
          ]
        }
      ]
    },
    {
      "cell_type": "markdown",
      "source": [
        "## Html Artifacts"
      ],
      "metadata": {
        "id": "ZDTjxLjqnu-B"
      }
    },
    {
      "cell_type": "code",
      "source": [
        "# TODO: Convert html entites of quotes -> \"'\" to normalize\n",
        "def remove_html_entities(text):\n",
        "  text = re.sub('&[0-9a-zA-Z#]+;', ' ', text)\n",
        "  return re.sub('&#63;?', '', text)\n",
        "\n",
        "def remove_html_tags(text):\n",
        "  return re.sub('<.{1,6}?>', ' ', text)\n",
        "\n",
        "text = \"This professor is such an easy &quot;A&quot;, why are y'all struggling &#63;&#63;&#63 </div>\"\n",
        "print(remove_html_entities(text))\n",
        "print(remove_html_tags(text))"
      ],
      "metadata": {
        "id": "BEmTjY8mnzaQ",
        "colab": {
          "base_uri": "https://localhost:8080/"
        },
        "outputId": "5c0ec0a9-65d2-485b-9c3b-0981d4a50fb8"
      },
      "execution_count": 9,
      "outputs": [
        {
          "output_type": "stream",
          "name": "stdout",
          "text": [
            "This professor is such an easy  A , why are y'all struggling    </div>\n",
            "This professor is such an easy &quot;A&quot;, why are y'all struggling &#63;&#63;&#63  \n"
          ]
        }
      ]
    },
    {
      "cell_type": "markdown",
      "source": [
        "## Emoticon Conversion to Words"
      ],
      "metadata": {
        "id": "BxBEJJO9a-Jo"
      }
    },
    {
      "cell_type": "code",
      "source": [
        "#@title Emoticon Mapping\n",
        "EMOTICONS = {\n",
        "    u\":‑)\":\"emopos\",\n",
        "    u\":-))\":\"emopos\",\n",
        "    u\":-)))\":\"emopos\",\n",
        "    u\":)\":\"emopos\",\n",
        "    u\":))\":\"emopos\",\n",
        "    u\":)))\":\"emopos\",\n",
        "    u\":-]\":\"emopos\",\n",
        "    u\":]\":\"emopos\",\n",
        "    u\":-3\":\"emopos\",\n",
        "    u\":3\":\"emopos\",\n",
        "    u\":->\":\"emopos\",\n",
        "    u\":>\":\"emopos\",\n",
        "    u\"8-)\":\"emopos\",\n",
        "    u\":-}\":\"emopos\",\n",
        "    u\":}\":\"emopos\",\n",
        "    u\":-)\":\"emopos\",\n",
        "    u\":c)\":\"emopos\",\n",
        "    u\":^)\":\"emopos\",\n",
        "    u\"=]\":\"emopos\",\n",
        "    u\"=)\":\"emopos\",\n",
        "    u\":‑D\":\"emopos\",\n",
        "    u\":D\":\"emopos\",\n",
        "    u\"8‑D\":\"emopos\",\n",
        "    u\"8D\":\"emopos\",\n",
        "    u\"X‑D\":\"emopos\",\n",
        "    u\"XD\":\"emopos\",\n",
        "    u\"=D\":\"emopos\",\n",
        "    u\"=3\":\"emopos\",\n",
        "    u\"B^D\":\"emopos\",\n",
        "    u\":-))\":\"emopos\",\n",
        "    u\":-(\":\"emoneg\",\n",
        "    u\":‑(\":\"emoneg\",\n",
        "    u\":(\":\"emoneg\",\n",
        "    u\":‑c\":\"emoneg\",\n",
        "    u\":c\":\"emoneg\",\n",
        "    u\":‑<\":\"emoneg\",\n",
        "    u\":<\":\"emoneg\",\n",
        "    u\":‑[\":\"emoneg\",\n",
        "    u\":[\":\"emoneg\",\n",
        "    u\":-||\":\"emoneg\",\n",
        "    u\">:[\":\"emoneg\",\n",
        "    u\":{\":\"emoneg\",\n",
        "    u\">:(\":\"emoneg\",\n",
        "    u\":'‑(\":\"emoneg\",\n",
        "    u\":'(\":\"emoneg\",\n",
        "    u\":'‑)\":\"emopos\",\n",
        "    u\":')\":\"emopos\",\n",
        "    u\"D‑':\":\"emoneg\",\n",
        "    u\"D:<\":\"emoneg\",\n",
        "    u\"D:\":\"emoneg\",\n",
        "    u\"D8\":\"emoneg\",\n",
        "    u\"D;\":\"emoneg\",\n",
        "    u\"D=\":\"emoneg\",\n",
        "    u\"DX\":\"emoneg\",\n",
        "    u\";‑)\":\"emopos\",\n",
        "    u\";)\":\"emopos\",\n",
        "    u\"*-)\":\"emopos\",\n",
        "    u\"*)\":\"emopos\",\n",
        "    u\";‑]\":\"emopos\",\n",
        "    u\";]\":\"emopos\",\n",
        "    u\";^)\":\"emopos\",\n",
        "    u\":‑,\":\"emopos\",\n",
        "    u\";D\":\"emopos\",\n",
        "    u\":‑P\":\"emopos\",\n",
        "    u\":P\":\"emopos\",\n",
        "    u\"X‑P\":\"emopos\",\n",
        "    u\"XP\":\"emopos\",\n",
        "    u\":‑Þ\":\"emopos\",\n",
        "    u\":Þ\":\"emopos\",\n",
        "    u\"=p\":\"emopos\",\n",
        "    u\":‑/\":\"emoneg\",\n",
        "    u\":/\":\"emoneg\",\n",
        "    u\":-[.]\":\"emoneg\",\n",
        "    u\">:[(\\)]\":\"emoneg\",\n",
        "    u\">:/\":\"emoneg\",\n",
        "    u\":[(\\)]\":\"emoneg\",\n",
        "    u\"=/\":\"emoneg\",\n",
        "    u\"=[(\\)]\":\"emoneg\",\n",
        "    u\":L\":\"emoneg\",\n",
        "    u\"=L\":\"emoneg\",\n",
        "    u\":‑|\":\"emoneg\",\n",
        "    u\":|\":\"emoneg\",\n",
        "    u\"O:‑)\":\"emopos\",\n",
        "    u\"O:)\":\"emopos\",\n",
        "    u\"0:‑3\":\"emopos\",\n",
        "    u\"0:3\":\"emopos\",\n",
        "    u\"0:‑)\":\"emopos\",\n",
        "    u\"0:)\":\"emopos\",\n",
        "    u\":‑b\":\"emopos\",\n",
        "    u\"(>_<)\":\"emoneg\",\n",
        "    u\"(>_<)>\":\"emoneg\",\n",
        "    u\"^_^\":\"emopos\",\n",
        "    u\"(^_^)/\":\"emopos\",\n",
        "    u\"(^O^)／\":\"emopos\",\n",
        "    u\"(^o^)／\":\"emopos\",\n",
        "    u\"('_')\":\"emoneg\",\n",
        "    u\"(/_;)\":\"emoneg\",\n",
        "    u\"(T_T) (;_;)\":\"emoneg\",\n",
        "    u\"(;_;\":\"emoneg\",\n",
        "    u\"(;_:)\":\"emoneg\",\n",
        "    u\"(;O;)\":\"emoneg\",\n",
        "    u\"(:_;)\":\"emoneg\",\n",
        "    u\"(ToT)\":\"emoneg\",\n",
        "    u\";_;\":\"emoneg\",\n",
        "    u\";-;\":\"emoneg\",\n",
        "    u\";n;\":\"emoneg\",\n",
        "    u\"Q.Q\":\"emoneg\",\n",
        "    u\"T.T\":\"emoneg\",\n",
        "    u\"Q_Q\":\"emoneg\",\n",
        "    u\"(-.-)\":\"emopos\",\n",
        "    u\"(-_-)\":\"emopos\",\n",
        "    u\"(；一_一)\":\"emopos\",\n",
        "    u\"(=_=)\":\"emoneg\",\n",
        "    u\"^m^\":\"emopos\",\n",
        "    u\">^_^<\":\"emopos\",\n",
        "    u\"<^!^>\":\"emopos\",\n",
        "    u\"^/^\":\"emopos\",\n",
        "    u\"（*^_^*）\" :\"emopos\",\n",
        "    u\"(^<^) (^.^)\":\"emopos\",\n",
        "    u\"(^^)\":\"emopos\",\n",
        "    u\"(^.^)\":\"emopos\",\n",
        "    u\"(^_^.)\":\"emopos\",\n",
        "    u\"(^_^)\":\"emopos\",\n",
        "    u\"(^^)\":\"emopos\",\n",
        "    u\"(^J^)\":\"emopos\",\n",
        "    u\"(*^.^*)\":\"emopos\",\n",
        "    u\"(^—^）\":\"emopos\",\n",
        "    u\"(#^.^#)\":\"emopos\",\n",
        "    u\"(*^0^*)\":\"emopos\",\n",
        "    u\"(*^^)v\":\"emopos\",\n",
        "    u\"(^_^)v\":\"emopos\",\n",
        "    u'(-\"-)':\"emoneg\",\n",
        "    u\"(ーー;)\":\"emoneg\",\n",
        "    u\"(＾ｖ＾)\":\"emopos\",\n",
        "    u\"(＾ｕ＾)\":\"emopos\",\n",
        "    u\"(^)o(^)\":\"emopos\",\n",
        "    u\"(^O^)\":\"emopos\",\n",
        "    u\"(^o^)\":\"emopos\",\n",
        "    u\")^o^(\":\"emopos\",\n",
        "    u\":O o_O\":\"emoneg\",\n",
        "    u\"o_0\":\"emoneg\",\n",
        "    u\"o.O\":\"emoneg\",\n",
        "    u\"(o.o)\":\"emoneg\",\n",
        "    u\"(*￣m￣)\": \"emoneg\",\n",
        "}\n",
        "\n",
        "for emote, val in EMOTICONS.items():\n",
        "  EMOTICONS[emote] = val.lower().replace(',', ' ').replace(' ', '_')"
      ],
      "metadata": {
        "id": "Rf2Q8b2TbAsr",
        "cellView": "form"
      },
      "execution_count": 10,
      "outputs": []
    },
    {
      "cell_type": "code",
      "source": [
        "def convert_emoticons(text):\n",
        "  return EMOTICONS.get(text, text)\n",
        "  \n",
        "text = \"Hello :-) :-)\"\n",
        "text_split = text.split()\n",
        "for i, txt in enumerate(text_split):\n",
        "  text_split[i] = convert_emoticons(txt)\n",
        "print(' '.join(text_split))"
      ],
      "metadata": {
        "id": "x-jJdrc-bpp9",
        "colab": {
          "base_uri": "https://localhost:8080/"
        },
        "outputId": "04b0f0bf-f404-48a5-ac80-843c0bfe2f82"
      },
      "execution_count": 11,
      "outputs": [
        {
          "output_type": "stream",
          "name": "stdout",
          "text": [
            "Hello emopos emopos\n"
          ]
        }
      ]
    },
    {
      "cell_type": "markdown",
      "source": [
        "## Contractions"
      ],
      "metadata": {
        "id": "h9wPsJ3ghEBw"
      }
    },
    {
      "cell_type": "code",
      "source": [
        "#@title Contraction Mapping\n",
        "contraction_mapping = {\n",
        "    \"ain't\": \"is not\", \n",
        "    \"aren't\": \"are not\",\n",
        "    \"can't\": \"cannot\",\n",
        "    \"'cause\": \"because\", \n",
        "    \"could've\": \"could have\", \n",
        "    \"couldn't\": \"could not\", \n",
        "    \"didn't\": \"did not\",  \n",
        "    \"doesn't\": \"does not\", \n",
        "    \"don't\": \"do not\", \n",
        "    \"hadn't\": \"had not\", \n",
        "    \"hasn't\": \"has not\", \n",
        "    \"haven't\": \"have not\", \n",
        "    \"he'd\": \"he would\",\n",
        "    \"he'll\": \"he will\", \n",
        "    \"he's\": \"he is\", \n",
        "    \"how'd\": \"how did\", \n",
        "    \"how'd'y\": \"how do you\", \n",
        "    \"how'll\": \"how will\", \n",
        "    \"how's\": \"how is\",  \n",
        "    \"I'd\": \"I would\", \n",
        "    \"I'd've\": \"I would have\", \n",
        "    \"I'll\": \"I will\", \n",
        "    \"I'll've\": \"I will have\",\n",
        "    \"I'm\": \"I am\", \n",
        "    \"I've\": \"I have\", \n",
        "    \"i'd\": \"i would\", \n",
        "    \"i'd've\": \"i would have\", \n",
        "    \"i'll\": \"i will\",  \n",
        "    \"i'll've\": \"i will have\",\n",
        "    \"i'm\": \"i am\", \n",
        "    \"i've\": \"i have\", \n",
        "    \"isn't\": \"is not\", \n",
        "    \"it'd\": \"it would\", \n",
        "    \"it'd've\": \"it would have\", \n",
        "    \"it'll\": \"it will\", \n",
        "    \"it'll've\": \"it will have\",\n",
        "    \"it's\": \"it is\", \n",
        "    \"let's\": \"let us\", \n",
        "    \"ma'am\": \"madam\", \n",
        "    \"mayn't\": \"may not\", \"might've\": \"might have\",\"mightn't\": \"might not\",\"mightn't've\": \"might not have\", \"must've\": \"must have\", \"mustn't\": \"must not\", \"mustn't've\": \"must not have\", \"needn't\": \"need not\", \"needn't've\": \"need not have\",\"o'clock\": \"of the clock\", \"oughtn't\": \"ought not\", \"oughtn't've\": \"ought not have\", \"shan't\": \"shall not\", \"sha'n't\": \"shall not\", \"shan't've\": \"shall not have\", \"she'd\": \"she would\", \"she'd've\": \"she would have\", \"she'll\": \"she will\", \"she'll've\": \"she will have\", \"she's\": \"she is\", \"should've\": \"should have\", \"shouldn't\": \"should not\", \"shouldn't've\": \"should not have\", \"so've\": \"so have\",\"so's\": \"so as\", \"this's\": \"this is\",\"that'd\": \"that would\", \"that'd've\": \"that would have\", \"that's\": \"that is\", \"there'd\": \"there would\", \"there'd've\": \"there would have\", \"there's\": \"there is\", \"here's\": \"here is\",\"they'd\": \"they would\", \"they'd've\": \"they would have\", \"they'll\": \"they will\", \"they'll've\": \"they will have\", \"they're\": \"they are\", \"they've\": \"they have\", \"to've\": \"to have\", \"wasn't\": \"was not\", \"we'd\": \"we would\", \"we'd've\": \"we would have\", \"we'll\": \"we will\", \"we'll've\": \"we will have\", \"we're\": \"we are\", \"we've\": \"we have\", \"weren't\": \"were not\", \"what'll\": \"what will\", \"what'll've\": \"what will have\", \"what're\": \"what are\",  \"what's\": \"what is\", \"what've\": \"what have\", \"when's\": \"when is\", \"when've\": \"when have\", \"where'd\": \"where did\", \"where's\": \"where is\", \"where've\": \"where have\", \"who'll\": \"who will\", \"who'll've\": \"who will have\", \"who's\": \"who is\", \"who've\": \"who have\", \"why's\": \"why is\", \"why've\": \"why have\", \"will've\": \"will have\", \"won't\": \"will not\", \"won't've\": \"will not have\", \"would've\": \"would have\", \"wouldn't\": \"would not\", \"wouldn't've\": \"would not have\", \"y'all\": \"you all\", \"y'all'd\": \"you all would\",\"y'all'd've\": \"you all would have\",\"y'all're\": \"you all are\",\"y'all've\": \"you all have\",\"you'd\": \"you would\", \"you'd've\": \"you would have\", \"you'll\": \"you will\", \"you'll've\": \"you will have\", \"you're\": \"you are\", \"you've\": \"you have\" }"
      ],
      "metadata": {
        "id": "VgcFh25YhG5U",
        "cellView": "form"
      },
      "execution_count": 12,
      "outputs": []
    },
    {
      "cell_type": "code",
      "source": [
        "def expand_contraction(text): # Before expanding contraction, might want to clean of symbols that are not '\n",
        "  return contraction_mapping.get(text, text)\n",
        "\n",
        "text = \"You're a pig and I should've slayed you, grrr\"\n",
        "text_split = text.split()\n",
        "for i, txt in enumerate(text_split):\n",
        "  text_split[i] = expand_contraction(txt.lower())\n",
        "print(' '.join(text_split))"
      ],
      "metadata": {
        "id": "Sl1TXvlvmjdx",
        "colab": {
          "base_uri": "https://localhost:8080/"
        },
        "outputId": "4454cb0e-c060-4b45-890e-acaa42bcf734"
      },
      "execution_count": 13,
      "outputs": [
        {
          "output_type": "stream",
          "name": "stdout",
          "text": [
            "you are a pig and i should have slayed you, grrr\n"
          ]
        }
      ]
    },
    {
      "cell_type": "markdown",
      "source": [
        "## Spellchecker"
      ],
      "metadata": {
        "id": "eWtsBJUGtPK8"
      }
    },
    {
      "cell_type": "code",
      "source": [
        "# sym_spell = SymSpell(max_dictionary_edit_distance=2, prefix_length=7)\n",
        "# dictionary_path = pkg_resources.resource_filename(\n",
        "#     \"symspellpy\", \"frequency_dictionary_en_82_765.txt\"\n",
        "# )\n",
        "# # term_index is the column of the term and count_index is the\n",
        "# # column of the term frequency\n",
        "# sym_spell.load_dictionary(dictionary_path, term_index=0, count_index=1)\n",
        "\n",
        "# # lookup suggestions for single-word input strings\n",
        "# input_term = \"memebers\"  # misspelling of \"members\"\n",
        "\n",
        "# # Verbosity.TOP gets the best suggestion\n",
        "# suggestion = sym_spell.lookup(input_term, Verbosity.TOP, max_edit_distance=2)\n",
        "# print(suggestion[0], len(suggestion))"
      ],
      "metadata": {
        "id": "FKD7XvKttROM"
      },
      "execution_count": 14,
      "outputs": []
    },
    {
      "cell_type": "markdown",
      "source": [
        "## Stopwords"
      ],
      "metadata": {
        "id": "9q3TYcnvmjP7"
      }
    },
    {
      "cell_type": "code",
      "source": [
        "# amend list of stop words to keep whatever it is we want by removing words from list that we want to keep\n",
        "\n",
        "# TODO: is the list of stopwords on git complete and accurate or does someone want to read through all 325 stopwords spacy gives and determine which ones to keep?\n",
        "# stopwords = STOP_WORDS\n",
        "# stopwords.remove(\"but\")\n",
        "# stopwords.remove(\"not\")\n",
        "# stopwords.remove(\"nor\")\n",
        "# stopwords.remove(\"never\")\n",
        "stopwords = set([\"mr\", \"ms\", \"dr\"])"
      ],
      "metadata": {
        "id": "kYOoJLdAmkw_"
      },
      "execution_count": 247,
      "outputs": []
    },
    {
      "cell_type": "markdown",
      "source": [
        "## Spacy Setup"
      ],
      "metadata": {
        "id": "PT1TVLy465BY"
      }
    },
    {
      "cell_type": "code",
      "source": [
        "nlp = spacy.load('en_core_web_sm', exclude=['lemmatizer', 'parser', 'textcat', 'custom'])"
      ],
      "metadata": {
        "id": "lyioHaPm67ik"
      },
      "execution_count": 248,
      "outputs": []
    },
    {
      "cell_type": "markdown",
      "source": [
        "# Preprocessing Pipeline"
      ],
      "metadata": {
        "id": "x8c1-4PfqaCa"
      }
    },
    {
      "cell_type": "code",
      "source": [
        "comments_proper = []\n",
        "spellchecked_comments = []\n",
        "cnt = 0 # to keep track of progress\n",
        "lemm = WordNetLemmatizer()\n",
        "grades = set(['a', 'b', 'c', 'd', 'e', 'f'])\n",
        "unseen = Counter()\n",
        "\n",
        "for index, review in reviews.iterrows():\n",
        "  comment = review['comment']\n",
        "  fname = review['firstName'].lower().split(' ')\n",
        "  lname = review['lastName'].lower().split(' ')\n",
        "  names = set(fname + lname)\n",
        "\n",
        "  cnt += 1\n",
        "  if cnt % 25000 == 0:\n",
        "    print(cnt)\n",
        "\n",
        "  comment = remove_urls(comment)\n",
        "  comment = remove_phones(comment)\n",
        "  comment = remove_emails(comment)\n",
        "  comment = remove_html_entities(comment)\n",
        "  comment = remove_html_tags(comment)\n",
        "\n",
        "  comment_split = comment.split(' ')\n",
        "  new_comment_split = []\n",
        "  for i, word in enumerate(comment_split):\n",
        "    word = convert_emoticons(word)\n",
        "    word = word.lower()\n",
        "    # word = expand_contraction(word)\n",
        "    word = re.sub(\"[^a-zA-Z\\s]+\", ' ', word)   # replace characters that are not alphabetic, space, or underscore\n",
        "    # word = word.replace(\"'\", ' ') # replace apostrophe with space\n",
        "    word = re.sub(r'(.)\\1\\1+', '\\g<1>', word)  # replace any three character+ sequence with one\n",
        "    word = re.sub('\\s+', ' ', word)\n",
        "    word = word.strip() # trailing whitespace because punctuation replaced by space\n",
        "    # if word not in names:\n",
        "    new_comment_split.extend(word.split(' '))\n",
        "\n",
        "  # comment = comment.lower()\n",
        "  # comment = re.sub(\"[^a-zA-Z\\s]+\", ' ', comment)   # replace characters that are not alphabetic, space, or underscore\n",
        "  # comment = comment.replace(\"'\", '') # remove apostrophes\n",
        "  # comment = re.sub(r'(.)\\1\\1+', '\\g<1>', comment)  # replace any three characters sequence with one\n",
        "  # comment = re.sub('\\s+', ' ', comment)\n",
        "  # comment = comment.strip() # trailing whitespace because punctuation replaced by space\n",
        "\n",
        "  \n",
        "  # comment_split = comment.split(' ')\n",
        "  # new_comment_split = []\n",
        "  # for i, word in enumerate(comment_split):\n",
        "  #   if word not in names:\n",
        "  #     new_comment_split.append(word)\n",
        "\n",
        "  # Remove names from the comment\n",
        "  for i, word in enumerate(new_comment_split):\n",
        "    if word in names:\n",
        "      new_comment_split[i] = ''\n",
        "\n",
        "  comment = ' '.join(new_comment_split)\n",
        "  comment = re.sub('\\s+', ' ', comment)\n",
        "  comment = comment.strip()\n",
        "\n",
        "  # comment = [lemm.lemmatize(word) for word in comment.split()] # Lemmatize and remove stopwords\n",
        "  # comment = [word for word in comment.split() if word not in stopwords] # remove stopwords\n",
        "  # comment = \" \".join(comment)\n",
        "\n",
        "  comment = ' '.join(word for word in comment.split() if len(word) > 1)\n",
        "\n",
        "  comments_proper.append(comment)\n",
        "  # spellchecked_comments.append(' '.join(sym_spell.lookup(word, Verbosity.TOP, max_edit_distance=2, include_unknown=True)[0].term for word in comment.split()))"
      ],
      "metadata": {
        "id": "hI6lvtrgqc0i",
        "colab": {
          "base_uri": "https://localhost:8080/"
        },
        "outputId": "783b4acb-a3b0-459e-c374-aa67d42c3a6d"
      },
      "execution_count": 321,
      "outputs": [
        {
          "output_type": "stream",
          "name": "stdout",
          "text": [
            "25000\n",
            "50000\n",
            "75000\n",
            "100000\n",
            "125000\n",
            "150000\n",
            "175000\n",
            "200000\n",
            "225000\n",
            "250000\n"
          ]
        }
      ]
    },
    {
      "cell_type": "code",
      "source": [
        "unseen_words = Counter()\n",
        "people = Counter()\n",
        "def preprocess_pipe(texts):\n",
        "    preproc_pipe = []\n",
        "    for doc in nlp.pipe(texts, batch_size=200):\n",
        "      # for word in doc:\n",
        "      #   if word.pos_ == 'PROPN':\n",
        "      #     unseen_words[word.text] += 1\n",
        "      #     print(word.text, word.pos_)\n",
        "      # print(doc.ents)\n",
        "      for word in doc.ents:\n",
        "        if word.label_ == 'PERSON':\n",
        "          people[word.text] += 1\n",
        "          # print(word.text,word.label_)\n",
        "\n",
        "# preprocess_pipe(comments_proper)\n",
        "# print(unseen_words, len(unseen_words))\n",
        "# print(people, len(people))"
      ],
      "metadata": {
        "id": "3YUgaFJgA4VL"
      },
      "execution_count": 322,
      "outputs": []
    },
    {
      "cell_type": "code",
      "source": [
        "print(people)"
      ],
      "metadata": {
        "colab": {
          "base_uri": "https://localhost:8080/"
        },
        "id": "FoPSuw4tS6hA",
        "outputId": "380c117a-fbf4-492d-9907-eee85bdd776f"
      },
      "execution_count": 323,
      "outputs": [
        {
          "output_type": "stream",
          "name": "stdout",
          "text": [
            "Counter()\n"
          ]
        }
      ]
    },
    {
      "cell_type": "code",
      "source": [
        "# i = 0\n",
        "# for comment, spellcheck_comment in zip(comments_proper, spellchecked_comments):\n",
        "#   print(comment)\n",
        "#   print(spellcheck_comment)\n",
        "#   print('\\n')\n",
        "#   i += 1\n",
        "#   if i == 10:\n",
        "#     break"
      ],
      "metadata": {
        "id": "JEQYPIoJsS7_"
      },
      "execution_count": 324,
      "outputs": []
    },
    {
      "cell_type": "code",
      "source": [
        "reviews[\"cleanedComment\"] = pd.Series(comments_proper)\n",
        "# reviews[\"cleanedCommentChecked\"] = pd.Series(spellchecked_comments)\n",
        "reviews['cleanedComment'].head(25)"
      ],
      "metadata": {
        "id": "xOD02O1J8tGW",
        "colab": {
          "base_uri": "https://localhost:8080/"
        },
        "outputId": "0585f642-f7b8-40dc-fb3f-1f4040a2a417"
      },
      "execution_count": 325,
      "outputs": [
        {
          "output_type": "execute_result",
          "data": {
            "text/plain": [
              "0     am currently in ms ah course and couldn help b...\n",
              "1     fantastic class great guy awesome lectures go ...\n",
              "2     he kinda new to the university class is not th...\n",
              "3     he makes the class easy and the field trips ar...\n",
              "4     she awesome very helpful and fun cuts you alot...\n",
              "5     mr was great very helpful and so caring really...\n",
              "6     the entry before mine makes me believe the dud...\n",
              "7     hi is the best teacher like his class because ...\n",
              "8     loved this class super easy to follow along no...\n",
              "9     this professor was getting treatment for cance...\n",
              "10    great professor she explains material very wel...\n",
              "11    worst teacher in msu and probably the history ...\n",
              "12    took prof for last semester loved her but this...\n",
              "13    take her for winter for winter class it was ea...\n",
              "14                                 take another teacher\n",
              "15    she is obviously web designer and seems to kno...\n",
              "16    while loved the class and learned lot about my...\n",
              "17    most confusing instructions and direction ever...\n",
              "18    she is really really good teacher was excited ...\n",
              "19    this woman should not be teaching she shows he...\n",
              "20    is an excellent educator assuming that most st...\n",
              "21    he very lecture heavy and mainly teaches off p...\n",
              "22    intelligent man stupid professor more interest...\n",
              "23    her tests are hard she makes fun of my classma...\n",
              "24    best teacher ve had in the biz school hard tes...\n",
              "Name: cleanedComment, dtype: object"
            ]
          },
          "metadata": {},
          "execution_count": 325
        }
      ]
    },
    {
      "cell_type": "code",
      "source": [
        "reviews['sentiment'].value_counts()"
      ],
      "metadata": {
        "id": "lnRBko2cixUB",
        "colab": {
          "base_uri": "https://localhost:8080/"
        },
        "outputId": "6cbb5fd9-ae2a-4d6c-a578-612f987a2f8a"
      },
      "execution_count": 326,
      "outputs": [
        {
          "output_type": "execute_result",
          "data": {
            "text/plain": [
              "1    195995\n",
              "0     66650\n",
              "Name: sentiment, dtype: int64"
            ]
          },
          "metadata": {},
          "execution_count": 326
        }
      ]
    },
    {
      "cell_type": "code",
      "source": [
        "for index, row in reviews.head(50).iterrows():\n",
        "    print(row['comment'])\n",
        "    print(row['cleanedComment'])\n",
        "    print('\\n')"
      ],
      "metadata": {
        "colab": {
          "base_uri": "https://localhost:8080/"
        },
        "id": "GHyYnLveFXXE",
        "outputId": "ec17ed09-47cf-46b1-a621-da92ffcf76da"
      },
      "execution_count": 327,
      "outputs": [
        {
          "output_type": "stream",
          "name": "stdout",
          "text": [
            "I am currently in Ms. Dianne Kwasniewski's AH100 course and I couldn't help but get on here and give her a review. Truly one of the best professors (if not the best) I have had while attending HFC. 10/10 would recommend her to anyone for AH100. She's very educated in her field and will make it very easy to pass as long as you study and do your work\n",
            "am currently in ms ah course and couldn help but get on here and give her review truly one of the best professors if not the best have had while attending hfc would recommend her to anyone for ah she very educated in her field and will make it very easy to pass as long as you study and do your work\n",
            "\n",
            "\n",
            "Fantastic class, great guy.  Awesome lectures - go to them, even though you don't have to.  But don't expect to be spoonfed the course material.  You have to figure it out for yourself and engage with it.  (Psst - that's a good thing.)\n",
            "fantastic class great guy awesome lectures go to them even though you don have to but don expect to be spoonfed the course material you have to figure it out for yourself and engage with it psst that good thing\n",
            "\n",
            "\n",
            "He's kinda new to the University. Class is not that easy, but he can guide you through the course. And hw is masteringchemistry online, which is also a must if you want all your points to pass this class.\n",
            "he kinda new to the university class is not that easy but he can guide you through the course and hw is masteringchemistry online which is also must if you want all your points to pass this class\n",
            "\n",
            "\n",
            "He makes the class easy and the field trips are good. He does require attendance and if you don't work your grade will suffer. Overall nice prof.\n",
            "he makes the class easy and the field trips are good he does require attendance and if you don work your grade will suffer overall nice prof\n",
            "\n",
            "\n",
            "She's awesome!! Very helpful and fun! cuts you alot of slack if you need it. Always wants to help! Has fun projects! I would definitely recommend taking her for English 1301 or 1302!!\n",
            "she awesome very helpful and fun cuts you alot of slack if you need it always wants to help has fun projects would definitely recommend taking her for english or\n",
            "\n",
            "\n",
            "Mr. Corbitt was great!! Very helpful and so caring.. Really wants to see his students do well,, just asks for the respect in return that he shows his students.. Do that,, and study all the materials he posts online, which is a lot!! and you should do fine!!  Very handsome w a great sense of humor btw... ;)\n",
            "mr was great very helpful and so caring really wants to see his students do well just asks for the respect in return that he shows his students do that and study all the materials he posts online which is lot and you should do fine very handsome great sense of humor btw emopos\n",
            "\n",
            "\n",
            "The entry before mine makes me believe the dude was in history or space camp Mr. Ray was very intelligent and I learned a great deal. He is helpful and a very nice man. He does not give dozens of extra points but is very and if you study you do not need them. Read the entry before the history major.\n",
            "the entry before mine makes me believe the dude was in history or space camp mr was very intelligent and learned great deal he is helpful and very nice man he does not give dozens of extra points but is very and if you study you do not need them read the entry before the history major\n",
            "\n",
            "\n",
            "Hi is the best teacher. I like his class, because he has a lot of experiences.\n",
            "hi is the best teacher like his class because he has lot of experiences\n",
            "\n",
            "\n",
            "Loved this class! super easy to follow along. not only is he gorgeous. hes hilarious.totally makes it easy to pay attention the entire 3 hrs of class. His tests are aweseome not hard if you study terms. Hes pretty much awesome.\n",
            "loved this class super easy to follow along not only is he gorgeous hes hilarious totally makes it easy to pay attention the entire hrs of class his tests are aweseome not hard if you study terms hes pretty much awesome\n",
            "\n",
            "\n",
            "This professor was getting treatment for cancer during the term, so we had some unscheduled off days.  Nevertheless, he still made it to class enough.  I could tell he was having a hard time, but he still gave really good lectures.  He passed out very detailed lecture notes before every class.  He tested on material he went over in class.  Awesome!\n",
            "this professor was getting treatment for cancer during the term so we had some unscheduled off days nevertheless he still made it to class enough could tell he was having hard time but he still gave really good lectures he passed out very detailed lecture notes before every class he tested on material he went over in class awesome\n",
            "\n",
            "\n",
            "Great professor, she explains material very well and thorough.  Not an easy class but I got an A- but did have to work for it.\n",
            "great professor she explains material very well and thorough not an easy class but got an but did have to work for it\n",
            "\n",
            "\n",
            "Worst teacher in MSU and probably the history of teaching .  What she teaches isn't presented on the quizzes and it's very hard to understand her. I mean just look at the overall rating from her, it speaks for itself. I had 30 students the first day of class and then ended up with 10 people by the withdraw period.  \n",
            "worst teacher in msu and probably the history of teaching what she teaches isn presented on the quizzes and it very hard to understand her mean just look at the overall rating from her it speaks for itself had students the first day of class and then ended up with people by the withdraw period\n",
            "\n",
            "\n",
            "Took Prof B for A&P1 last semester & loved her, but this semester she seems 2 have \"checked out.\" Her lecture tests are very hard & will require you to read bk many times to get an A, labs were fairly easy. Shes a great person & I'm still going to walk out of this class with an A, but be prepared to WORK HARD,& study/learn the material on YOUR OWN!\n",
            "took prof for last semester loved her but this semester she seems have checked out her lecture tests are very hard will require you to read bk many times to get an labs were fairly easy shes great person still going to walk out of this class with an but be prepared to work hard study learn the material on your own\n",
            "\n",
            "\n",
            "TAKE HER FOR WINTER! For a winter class it was EASY, and the speaking was no problem! This is the best way to get the requirement done, and she lets you out before the 3 hours is over. She makes the environment relaxed for speaking, and yes shes strict about outlines, but nothing 4th grader couln't do! this class was a dream!\n",
            "take her for winter for winter class it was easy and the speaking was no problem this is the best way to get the requirement done and she lets you out before the hours is over she makes the environment relaxed for speaking and yes shes strict about outlines but nothing th grader couln do this class was dream\n",
            "\n",
            "\n",
            "take another teacher\n",
            "take another teacher\n",
            "\n",
            "\n",
            "She is obviously a web designer and seems to know her way around the programs. However, English is definitely not her first language and i have found that my clearly articulated questions become lost in translation. She is confrontational and gets frustrated easily with the class.\n",
            "she is obviously web designer and seems to know her way around the programs however english is definitely not her first language and have found that my clearly articulated questions become lost in translation she is confrontational and gets frustrated easily with the class\n",
            "\n",
            "\n",
            "While I loved the class and learned a lot about myself I can't say Mrs. Rogers was too helpful...I took this class online and on 3 occasions people posted questions for her on the discussion board and not one got a answer!  Her class is very organized and she is very precise on most assignments.  If you are a very needy learner don't choose her.\n",
            "while loved the class and learned lot about myself can say mrs was too helpful took this class online and on occasions people posted questions for her on the discussion board and not one got answer her class is very organized and she is very precise on most assignments if you are very needy learner don choose her\n",
            "\n",
            "\n",
            "Most confusing instructions and direction ever. If you save the assignment with one letter off you get a ZERO for the homework. VERY difficult for a 3 CREDIT COURSE!\n",
            "most confusing instructions and direction ever if you save the assignment with one letter off you get zero for the homework very difficult for credit course\n",
            "\n",
            "\n",
            "She is a really really good teacher. I was excited to go and learn a few new things but have learned SO MUCH. She is extremely helpful, you just need to talk to her. She really loves the subject, you can tell and wants everyone to succeed. She's extremely nice and wants to help in any way that she can. I would reccomend taking this class from her!!\n",
            "she is really really good teacher was excited to go and learn few new things but have learned so much she is extremely helpful you just need to talk to her she really loves the subject you can tell and wants everyone to succeed she extremely nice and wants to help in any way that she can would reccomend taking this class from her\n",
            "\n",
            "\n",
            "This woman should not be teaching. She shows her inexperience almost constantly. She makes up lesson plans as she goes along. You will not learn much in her classes and you will likely leave class every day very frustrated that your time and money was wasted.\n",
            "this woman should not be teaching she shows her inexperience almost constantly she makes up lesson plans as she goes along you will not learn much in her classes and you will likely leave class every day very frustrated that your time and money was wasted\n",
            "\n",
            "\n",
            "Paul is an excellent educator. Assuming that most students joined the class to further a career in some type of healthcare, the streamlined, yet thorough, design of the course provided students with the content most relevant to their goal. Paul delivered the information clearly and effectively, all while allowing his positive attitude and witty cha\n",
            "is an excellent educator assuming that most students joined the class to further career in some type of healthcare the streamlined yet thorough design of the course provided students with the content most relevant to their goal delivered the information clearly and effectively all while allowing his positive attitude and witty cha\n",
            "\n",
            "\n",
            "He's very lecture heavy and mainly teaches off powerpoints which he sends out before each exam; however, he usually tries to keep it interesting with jokes and stories. Tests are moderately easy, all multiple choice, and he usually curves them by a couple points. There's one group presentation, but is a very easy grader. Overall, great professor\n",
            "he very lecture heavy and mainly teaches off powerpoints which he sends out before each exam however he usually tries to keep it interesting with jokes and stories tests are moderately easy all multiple choice and he usually curves them by couple points there one group presentation but is very easy grader overall great professor\n",
            "\n",
            "\n",
            "Intelligent man, stupid professor. More interested in research than teaching or helping students. Wings lectures,using another professor's slides,changes exam grading & setup with little/no warning to students. Worthless in office hours. Unclear in what he wants from students-exams & HW. Grading took a few weeks to months. Untimely email responses.\n",
            "intelligent man stupid professor more interested in research than teaching or helping students wings lectures using another professor slides changes exam grading setup with little no warning to students worthless in office hours unclear in what he wants from students exams hw grading took few weeks to months untimely email responses\n",
            "\n",
            "\n",
            "Her tests are hard, she makes fun of my classmates? and she is a grad student? who is copying another teacher on the guidelines of her syllabus.  If you KNOW this and have a passion for this subject, you might be okay, but if you are new to it, you will struggle.  Lots of work and reading and tests are hard and long.  Never again\n",
            "her tests are hard she makes fun of my classmates and she is grad student who is copying another teacher on the guidelines of her syllabus if you know this and have passion for this subject you might be okay but if you are new to it you will struggle lots of work and reading and tests are hard and long never again\n",
            "\n",
            "\n",
            "Best teacher I've had in the biz school. Hard tests and quizzes but Is a very fair grader that really cares that you understand concepts. Extremely clear with lots of good examples. I strongly recommend him to anyone considering taking a Finance class.\n",
            "best teacher ve had in the biz school hard tests and quizzes but is very fair grader that really cares that you understand concepts extremely clear with lots of good examples strongly recommend him to anyone considering taking finance class\n",
            "\n",
            "\n",
            "Great teacher and very nice. Took her hybrid class. Huge work load but very easy.\n",
            "great teacher and very nice took her hybrid class huge work load but very easy\n",
            "\n",
            "\n",
            "Hard prof. Her study guides do NOT help in the least bit for her exams. You'll go up and ask her if you have a question right for model activities, she'll say yes, but then still mark it wrong! She is nice, but I would never recommend her unless it is your final resort\n",
            "hard prof her study guides do not help in the least bit for her exams you ll go up and ask her if you have question right for model activities she ll say yes but then still mark it wrong she is nice but would never recommend her unless it is your final resort\n",
            "\n",
            "\n",
            "Everything that is seems positive about this Mr Barnes is true just make sure your on point when your class because he give weekly quiz and the final is literally based off everything what you learn so take notes and pay attention\n",
            "everything that is seems positive about this mr is true just make sure your on point when your class because he give weekly quiz and the final is literally based off everything what you learn so take notes and pay attention\n",
            "\n",
            "\n",
            "Sweet man, but TRICKY! Lectures are miserable. Class is exam grades only. Textbook is entirely inaccurate, so using it on the exam is pointless. Also, doesn't tell you beforehand which info in the book is wrong. Deliberately makes the exams tricky.\n",
            "sweet man but tricky lectures are miserable class is exam grades only textbook is entirely inaccurate so using it on the exam is pointless also doesn tell you beforehand which info in the book is wrong deliberately makes the exams tricky\n",
            "\n",
            "\n",
            "Ditto.  I couldn't agree more.  He is awesome.\n",
            "ditto couldn agree more he is awesome\n",
            "\n",
            "\n",
            "Jill is hands down one of the most incredible teacherscoaches that i have ever had. She is someone who puts all of her effort into her work and truly cares about her studentsathletes. She is extremely knowledgable and knows what she's talking about. There is no way you will finish any of her courses without learning something. \n",
            "is hands down one of the most incredible teacherscoaches that have ever had she is someone who puts all of her effort into her work and truly cares about her studentsathletes she is extremely knowledgable and knows what she talking about there is no way you will finish any of her courses without learning something\n",
            "\n",
            "\n",
            "Gundula is one of the BEST professors that I ever had. She is helpful, caring, and charismatic. Her lectures and critiques are great in giving great inspirations for the assignments. I personally learned a lot from this class about developing projects in simple yet powerful ways. Definitely a must to take her classes since she is a great instructor\n",
            "is one of the best professors that ever had she is helpful caring and charismatic her lectures and critiques are great in giving great inspirations for the assignments personally learned lot from this class about developing projects in simple yet powerful ways definitely must to take her classes since she is great instructor\n",
            "\n",
            "\n",
            "okay ALL THESE COMMENTS BELOW are true!! &quot;BUT&quot; SHE IS NOT THE SAME ANYMORE. i took this teacher because i saw her ratings were good but she is super hard now! ask anyone they'll tell you that she is really hard now. because so may students cheated in her class n she found out. there are no take home test. the whole class is failing.\n",
            "okay all these comments below are true but she is not the same anymore took this teacher because saw her ratings were good but she is super hard now ask anyone they ll tell you that she is really hard now because so may students cheated in her class she found out there are no take home test the whole class is failing\n",
            "\n",
            "\n",
            "Terrible, terrible professor. Which is a shame because she's such a nice person and she's ridiculously smart. She definitely knows what she's talking about, she just doesn't know ho to lead a class. She'd be a great lecture professor at a state school but as far as leading discussion at a liberal arts college, nooo. Avoid her if you can.\n",
            "terrible terrible professor which is shame because she such nice person and she ridiculously smart she definitely knows what she talking about she just doesn know ho to lead class she be great lecture professor at state school but as far as leading discussion at liberal arts college no avoid her if you can\n",
            "\n",
            "\n",
            "AWESOME\n",
            "awesome\n",
            "\n",
            "\n",
            "Dr. Craker is a great professor. Her lectures are amazing and kept my interest throughout the semester. The first exam wasn't hard but the ones after were difficult. There is a quiz every week, which that are hard during the second half of the semester and had a lot of fill in questions. I recommend taking notes from the book in addition to class.\n",
            "dr is great professor her lectures are amazing and kept my interest throughout the semester the first exam wasn hard but the ones after were difficult there is quiz every week which that are hard during the second half of the semester and had lot of fill in questions recommend taking notes from the book in addition to class\n",
            "\n",
            "\n",
            "Prof. Rierson is great.  Although her dry humor may not resonate with many students due to the dry material, she really does try to make the subject interesting and really goes into depth about the case decisions.  It is very important to go to lectures because her exams are based on readings & lectures.  She also really cares about her students\n",
            "prof is great although her dry humor may not resonate with many students due to the dry material she really does try to make the subject interesting and really goes into depth about the case decisions it is very important to go to lectures because her exams are based on readings lectures she also really cares about her students\n",
            "\n",
            "\n",
            "Awesome teacher, if you are required to take College success make sure she is your teacher. She will teach you alot of great information and can be a easy A if you do all the work required.\n",
            "awesome teacher if you are required to take college success make sure she is your teacher she will teach you alot of great information and can be easy if you do all the work required\n",
            "\n",
            "\n",
            "Truly an amazing professor. Take her!!! She is really helpful and supportive. She's also a funny person. I actually enjoyed coming to class. She usually gets through the textbook during the beginning of the semester and gives online assessments. There are about three oral presentations and also speech drills.\n",
            "truly an amazing professor take her she is really helpful and supportive she also funny person actually enjoyed coming to class she usually gets through the textbook during the beginning of the semester and gives online assessments there are about three oral presentations and also speech drills\n",
            "\n",
            "\n",
            "Shes the only Professor Ive liked so far. She KNOWS what shes doing. You really do learn a lot and the class is very fun. Mrs. Copeland is super nice but she totally has control over her class. You can go to her and she will be really helpful!\n",
            "shes the only professor ive liked so far she knows what shes doing you really do learn lot and the class is very fun mrs is super nice but she totally has control over her class you can go to her and she will be really helpful\n",
            "\n",
            "\n",
            "Great teacher! I wish I could take her again next semester but she is not teaching the math i need. I have taken Wendy Denzel the last two semesters and I would highly recommend! She does not collect hw often, you need to be self motivated and not get behind. The quiz's and test questions come right from the hw. She is always cheerful! \n",
            "great teacher wish could take her again next semester but she is not teaching the math need have taken the last two semesters and would highly recommend she does not collect hw often you need to be self motivated and not get behind the quiz and test questions come right from the hw she is always cheerful\n",
            "\n",
            "\n",
            "He's very dedicated to art! I enjoy taking his class, taught me a lot!\n",
            "he very dedicated to art enjoy taking his class taught me lot\n",
            "\n",
            "\n",
            "Basically teaches a social justice education class as if he was addressing white people who have no concept whatsover of what social justice is.\n",
            "basically teaches social justice education class as if he was addressing white people who have no concept whatsover of what social justice is\n",
            "\n",
            "\n",
            "Professor Champion is a great professor and strives to see her students succeed in class, but life as well. I I appreciate the time and patience she has given us as a class. She is great professor and I would recommend anyone who is unsure about their goals in life to go to professor Champion first. - Jammin\n",
            "professor is great professor and strives to see her students succeed in class but life as well appreciate the time and patience she has given us as class she is great professor and would recommend anyone who is unsure about their goals in life to go to professor first jammin\n",
            "\n",
            "\n",
            "Joshua Arthurs teaches a class called &quot;The Politics of the Past - Museums, Monuments, and Memory&quot;... I highly recommend it! Accomplished, intelligent professor who teaches with enthusiasm.\n",
            "teaches class called the politics of the past museums monuments and memory highly recommend it accomplished intelligent professor who teaches with enthusiasm\n",
            "\n",
            "\n",
            "This course was hard to understand in the beginning. . . so it important to go through the onliune tutorial. After I got the hang of online and Dr. DeSpain answered a million questions for me, the class was great. I learned a lot.\n",
            "this course was hard to understand in the beginning so it important to go through the onliune tutorial after got the hang of online and dr answered million questions for me the class was great learned lot\n",
            "\n",
            "\n",
            "Dr. Kane is interesting. He loves teaching and it shows he just has trouble explaining things. He laughs at all his jokes which in humorous. He reads the test to you as a review. Great guy and will work with you.\n",
            "dr is interesting he loves teaching and it shows he just has trouble explaining things he laughs at all his jokes which in humorous he reads the test to you as review great guy and will work with you\n",
            "\n",
            "\n",
            "I literally memorized her notes that she prints and hands out and never made under a 100 on her tests. Never cracked a book. Took the combo class and loved it. She's quick to answer emails and is very smart. Wish she was teaching AP2 when I was taking it! I don't know why people fail her class. \n",
            "literally memorized her notes that she prints and hands out and never made under on her tests never cracked book took the combo class and loved it she quick to answer emails and is very smart wish she was teaching ap when was taking it don know why people fail her class\n",
            "\n",
            "\n",
            "The BEST MATH TEACHER you will ever have. I wish he teaches all levels of Math. He makes math so simple, and enjoyable to learn. You won't find another dedicated, thoughtful, and funny math teacher like Mr. Clamp.  He is one of a kind!!!!\n",
            "the best math teacher you will ever have wish he teaches all levels of math he makes math so simple and enjoyable to learn you won find another dedicated thoughtful and funny math teacher like mr he is one of kind\n",
            "\n",
            "\n",
            "Awesome class and great teacher. One of the only teachers I have ever had that assigns a project and lets you do ANYTHING you want to do. He will tell you to design a poster, but thats it. Subject matter, amount of info included, what it looks like... its all up to you. He just grades on how effective the design is. I loved it! I learned a lot.\n",
            "awesome class and great teacher one of the only teachers have ever had that assigns project and lets you do anything you want to do he will tell you to design poster but thats it subject matter amount of info included what it looks like its all up to you he just grades on how effective the design is loved it learned lot\n",
            "\n",
            "\n"
          ]
        }
      ]
    },
    {
      "cell_type": "code",
      "source": [
        "# dropping rows <= 5\n",
        "# reviews['wordCount'] = reviews[\"cleanedComment\"].str.split().str.len()\n",
        "# reviews[['wordCount', 'cleanedComment']].head(5)\n",
        "\n",
        "# reviews = reviews[reviews['wordCount'] > 5]\n",
        "# reviews.shape\n",
        "reviews = reviews.loc[:, [\"firstName\", \"lastName\", \"comment\", \"cleanedComment\", \"clarityRating\", \"sentiment\", \"professor_id\"]]"
      ],
      "metadata": {
        "id": "sWKakPo-v8xK"
      },
      "execution_count": 328,
      "outputs": []
    },
    {
      "cell_type": "markdown",
      "source": [
        "# Document Sentiment Pipeline"
      ],
      "metadata": {
        "id": "2fgpG8vr9bdI"
      }
    },
    {
      "cell_type": "code",
      "source": [
        "from sklearn.feature_extraction.text import CountVectorizer\n",
        "from sklearn.model_selection import train_test_split\n",
        "from sklearn.naive_bayes import MultinomialNB\n",
        "from sklearn.metrics import accuracy_score, f1_score\n",
        "\n",
        "from sklearn.feature_selection import chi2, SelectPercentile\n",
        "from sklearn.pipeline import Pipeline"
      ],
      "metadata": {
        "id": "hODBzDigiKcz"
      },
      "execution_count": 329,
      "outputs": []
    },
    {
      "cell_type": "code",
      "source": [
        "def evalPerformance(y_pred, y_test, mode=\"weighted\"):\n",
        "    acc_score = accuracy_score(y_test, y_pred)\n",
        "    print(\"Accuracy Score: \" + str(acc_score * 100))\n",
        "    \n",
        "    f1 = f1_score(y_test, y_pred, average=mode)\n",
        "    print(\"F1 Score: {0}\".format(f1 * 100))"
      ],
      "metadata": {
        "id": "RWK7q8fLik7s"
      },
      "execution_count": 330,
      "outputs": []
    },
    {
      "cell_type": "code",
      "source": [
        "prof_counts = reviews[\"professor_id\"].value_counts()\n",
        "prof_train, prof_test, cnt_train, cnt_test = train_test_split(prof_counts.index, prof_counts.values, test_size=0.2, random_state=1)\n",
        "del cnt_train, cnt_test"
      ],
      "metadata": {
        "id": "BOmlZXI-iyso"
      },
      "execution_count": 331,
      "outputs": []
    },
    {
      "cell_type": "code",
      "source": [
        "comm_train = reviews[reviews[\"professor_id\"].isin(prof_train)][\"cleanedComment\"]\n",
        "comm_test = reviews[reviews[\"professor_id\"].isin(prof_test)][\"cleanedComment\"]\n",
        "\n",
        "sent_train = reviews[reviews[\"professor_id\"].isin(prof_train)][\"sentiment\"]\n",
        "sent_test = reviews[reviews[\"professor_id\"].isin(prof_test)][\"sentiment\"]"
      ],
      "metadata": {
        "id": "Mi4es6Euie9e"
      },
      "execution_count": 332,
      "outputs": []
    },
    {
      "cell_type": "code",
      "source": [
        "sent_pipeline = Pipeline([\n",
        "    (\"vectorizer\", CountVectorizer(ngram_range=(1,2), max_df=0.5)), \n",
        "    (\"selector\"  , SelectPercentile(score_func=chi2, percentile=50)),\n",
        "    (\"classifer\" , MultinomialNB())\n",
        "])"
      ],
      "metadata": {
        "id": "neJl7wH8iFOq"
      },
      "execution_count": 333,
      "outputs": []
    },
    {
      "cell_type": "code",
      "source": [
        "sentiment_fit = sent_pipeline.fit(comm_train, sent_train)"
      ],
      "metadata": {
        "id": "-5X1npLi9ldO"
      },
      "execution_count": 334,
      "outputs": []
    },
    {
      "cell_type": "code",
      "source": [
        "sent_pred = sent_pipeline.predict(comm_test)"
      ],
      "metadata": {
        "id": "7b6WsctDiqmY"
      },
      "execution_count": 335,
      "outputs": []
    },
    {
      "cell_type": "code",
      "source": [
        "evalPerformance(sent_pred, sent_test)"
      ],
      "metadata": {
        "colab": {
          "base_uri": "https://localhost:8080/"
        },
        "id": "lKNWKuIBiriL",
        "outputId": "3cd3b4d2-ba3d-46f7-86e1-3029105cddc8"
      },
      "execution_count": 336,
      "outputs": [
        {
          "output_type": "stream",
          "name": "stdout",
          "text": [
            "Accuracy Score: 93.22982075579404\n",
            "F1 Score: 93.19393620187566\n"
          ]
        }
      ]
    },
    {
      "cell_type": "markdown",
      "source": [
        "## Accuracy"
      ],
      "metadata": {
        "id": "K4xgujDtOAnH"
      }
    },
    {
      "cell_type": "code",
      "source": [
        "# Test accuracy of model\n",
        "from sklearn.metrics import confusion_matrix, accuracy_score\n",
        "\n",
        "conf_m = confusion_matrix(sent_test, sent_pred)\n",
        "\n",
        "acc_score = accuracy_score(sent_test, sent_pred)\n",
        "\n",
        "print(\"Accuracy Score: \" + str(acc_score * 100))\n",
        "print(conf_m)\n",
        "\n",
        "# Baseline 300k, basic preprocess: 93.21459%\n",
        "# 300k, preprocess + name removal: 93.2165%\n",
        "# 300k, preprocess + name removal + emoticons: 93.2279%\n",
        "# 300k, preprocess + true name removal + emoticons: 93.2298%  ** True removal because it is more in depth remove\n",
        "# 300k, preprocess + name removal + emoticons + contraction expansion"
      ],
      "metadata": {
        "colab": {
          "base_uri": "https://localhost:8080/"
        },
        "id": "bs2o0LnM9pN-",
        "outputId": "535bb149-5103-4add-cb8b-838f431c25f4"
      },
      "execution_count": 337,
      "outputs": [
        {
          "output_type": "stream",
          "name": "stdout",
          "text": [
            "Accuracy Score: 93.22982075579404\n",
            "[[11475  1991]\n",
            " [ 1567 37521]]\n"
          ]
        }
      ]
    },
    {
      "cell_type": "code",
      "source": [
        "# del X, y, X_train, X_test, y_train, y_test, model, y_pred"
      ],
      "metadata": {
        "id": "WMRi-MT92D9J"
      },
      "execution_count": 338,
      "outputs": []
    },
    {
      "cell_type": "markdown",
      "source": [
        "# EDA"
      ],
      "metadata": {
        "id": "Ebc249sjimsY"
      }
    },
    {
      "cell_type": "code",
      "source": [
        "import matplotlib.pyplot as plt\n",
        "import seaborn as sns"
      ],
      "metadata": {
        "id": "UZfJTBN-kAWj"
      },
      "execution_count": 339,
      "outputs": []
    },
    {
      "cell_type": "code",
      "source": [
        "positive_reviews = reviews[reviews.sentiment == 1]\n",
        "negative_reviews = reviews[reviews.sentiment == 0]"
      ],
      "metadata": {
        "id": "oQfH3J2qipWY"
      },
      "execution_count": 340,
      "outputs": []
    },
    {
      "cell_type": "code",
      "source": [
        "from nltk import FreqDist\n",
        "\n",
        "%matplotlib inline\n",
        "def freq_ngrams(x, terms=40, n=1):        # function to plot most frequent n-grams\n",
        "    all_words = \" \".join([text for text in x])\n",
        "    all_words = all_words.split()\n",
        "\n",
        "    ngs = nltk.ngrams(all_words, n)\n",
        "    fdist = FreqDist(ngs)\n",
        "    words_df = pd.DataFrame({\"word\":list(fdist.keys()), \"count\":list(fdist.values())})\n",
        "\n",
        "    d = words_df.nlargest(columns=\"count\", n=terms)\n",
        "    plt.figure(figsize=(25,5))\n",
        "    plt.xticks(rotation=45)\n",
        "    ax = sns.barplot(data=d, x=\"word\", y=\"count\")\n",
        "    ax.set(ylabel=\"Count\")\n",
        "    plt.show()\n",
        "\n",
        "freq_ngrams(positive_reviews['cleanedComment'], terms=50, n=2)\n",
        "freq_ngrams(negative_reviews['cleanedComment'], terms=50, n=2)"
      ],
      "metadata": {
        "colab": {
          "base_uri": "https://localhost:8080/",
          "height": 460
        },
        "id": "nUoFIufKj7-9",
        "outputId": "11d2fbc4-0ada-48b6-e1f8-c866202e6f26"
      },
      "execution_count": 341,
      "outputs": [
        {
          "output_type": "display_data",
          "data": {
            "text/plain": [
              "<Figure size 1800x360 with 1 Axes>"
            ],
            "image/png": "[encoded data removed]"
          },
          "metadata": {
            "needs_background": "light"
          }
        },
        {
          "output_type": "display_data",
          "data": {
            "text/plain": [
              "<Figure size 1800x360 with 1 Axes>"
            ],
            "image/png": "[encoded data removed]"
          },
          "metadata": {
            "needs_background": "light"
          }
        }
      ]
    },
    {
      "cell_type": "code",
      "source": [
        "# print(cv.stop_words_)\n",
        "# print(len(cv.stop_words_))"
      ],
      "metadata": {
        "id": "fp0D7NwlzAwf"
      },
      "execution_count": 342,
      "outputs": []
    },
    {
      "cell_type": "code",
      "source": [
        "all_words = set()\n",
        "for comment in reviews['cleanedComment']:\n",
        "  unique_words_comment = set(comment.split(' '))\n",
        "  all_words.update(unique_words_comment)\n"
      ],
      "metadata": {
        "id": "L5Guwt1CFzoZ"
      },
      "execution_count": 343,
      "outputs": []
    },
    {
      "cell_type": "code",
      "source": [
        "len(all_words) # 52002"
      ],
      "metadata": {
        "colab": {
          "base_uri": "https://localhost:8080/"
        },
        "id": "ZTigFFwrKIne",
        "outputId": "289b618c-044c-4e15-85eb-5e1397a73855"
      },
      "execution_count": 344,
      "outputs": [
        {
          "output_type": "execute_result",
          "data": {
            "text/plain": [
              "52004"
            ]
          },
          "metadata": {},
          "execution_count": 344
        }
      ]
    },
    {
      "cell_type": "markdown",
      "source": [
        "# Possible Improvements\n",
        "* Could engineer new features using words that are capitalized in the review\n",
        "* Remove reviews that're not english"
      ],
      "metadata": {
        "id": "Jzl-f7BvdTIS"
      }
    }
  ]
}