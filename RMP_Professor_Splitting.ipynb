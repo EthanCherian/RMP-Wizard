{
  "nbformat": 4,
  "nbformat_minor": 0,
  "metadata": {
    "colab": {
      "name": "RMP Professor Splitting.ipynb",
      "provenance": [],
      "collapsed_sections": []
    },
    "kernelspec": {
      "name": "python3",
      "display_name": "Python 3"
    },
    "language_info": {
      "name": "python"
    }
  },
  "cells": [
    {
      "cell_type": "code",
      "execution_count": null,
      "metadata": {
        "id": "Bqh18W_kuczC"
      },
      "outputs": [],
      "source": [
        "import pandas as pd\n",
        "import numpy as np\n",
        "import seaborn as sns\n",
        "import matplotlib.pyplot as plt\n",
        "import re\n",
        "import spacy\n",
        "import pkg_resources\n",
        "from spacy.lang.en.stop_words import STOP_WORDS\n",
        "\n",
        "import nltk\n",
        "from nltk.stem import WordNetLemmatizer"
      ]
    },
    {
      "cell_type": "code",
      "source": [
        "from google.colab import drive\n",
        "drive.mount('/content/drive')"
      ],
      "metadata": {
        "colab": {
          "base_uri": "https://localhost:8080/"
        },
        "id": "uldSIC1Fuipb",
        "outputId": "9ac7720a-f1bb-4a17-85de-d3ead78c95a0"
      },
      "execution_count": null,
      "outputs": [
        {
          "output_type": "stream",
          "name": "stdout",
          "text": [
            "Drive already mounted at /content/drive; to attempt to forcibly remount, call drive.mount(\"/content/drive\", force_remount=True).\n"
          ]
        }
      ]
    },
    {
      "cell_type": "code",
      "source": [
        "reviews = pd.read_csv(\"/content/drive/MyDrive/RMP/scraped_comments_with_professor.csv\")\n",
        "# reviews[['comment_id', 'firstName', 'lastName', 'prof_class', 'comment', 'clarityRating', 'helpfulRating']].to_csv(\"/content/drive/MyDrive/RMP/scraped_comments_sample.csv\")"
      ],
      "metadata": {
        "id": "ry0UnENduy_s"
      },
      "execution_count": null,
      "outputs": []
    },
    {
      "cell_type": "code",
      "source": [
        "reviews.head()"
      ],
      "metadata": {
        "colab": {
          "base_uri": "https://localhost:8080/",
          "height": 617
        },
        "id": "ON_HFkHX351e",
        "outputId": "85e09c72-65c5-4a03-dc33-4e017722c5f3"
      },
      "execution_count": null,
      "outputs": [
        {
          "output_type": "execute_result",
          "data": {
            "text/plain": [
              "           professor_id            comment_id firstName  lastName  prof_class  \\\n",
              "0  VGVhY2hlci0xMjQzMzQ3  UmF0aW5nLTIyMTY1MTI1      Kurt  Douglass  ENGLISH125   \n",
              "1  VGVhY2hlci0xMjQzMzQ3  UmF0aW5nLTIyMTY1MTEx      Kurt  Douglass      ENG125   \n",
              "2  VGVhY2hlci0xMjQzMzQ3  UmF0aW5nLTE1ODQ1MTIy      Kurt  Douglass       ENG11   \n",
              "3  VGVhY2hlci0xMDExMDU2  UmF0aW5nLTIxMjExOTYy     Paula   Zobisch     MGT5000   \n",
              "4  VGVhY2hlci0xMDExMDU2  UmF0aW5nLTE3MjQxOTI2     Paula   Zobisch      MKT401   \n",
              "\n",
              "                                             comment ratingTags  \\\n",
              "0  Good teacher, good lectures. Obviously cares a...        NaN   \n",
              "1  Good teacher, very lenient with grading and at...        NaN   \n",
              "2  Very difficult class.  His grading is hard to ...        NaN   \n",
              "3  Excellent mentor. Created valuable foundations...        NaN   \n",
              "4  Awesome...Had her for two classes at baker col...        NaN   \n",
              "\n",
              "                            date attendanceMandatory grade  clarityRating  \\\n",
              "0  2013-10-08 21:49:34 +0000 UTC                   N     A              5   \n",
              "1  2013-10-08 21:42:25 +0000 UTC                   Y     A              5   \n",
              "2  2009-05-15 13:59:15 +0000 UTC                 NaN   NaN              1   \n",
              "3  2013-01-05 10:30:39 +0000 UTC                 NaN   NaN              5   \n",
              "4  2010-05-20 14:39:01 +0000 UTC                 NaN   NaN              5   \n",
              "\n",
              "   difficultyRating  helpfulRating  textbookUse  thumbsDownTotal  \\\n",
              "0                 2              5          4.0                0   \n",
              "1                 2              5          4.0                0   \n",
              "2                 5              2          5.0                0   \n",
              "3                 1              5          5.0                0   \n",
              "4                 3              5          3.0                1   \n",
              "\n",
              "   thumbsUpTotal  wouldTakeAgain  \n",
              "0              0             NaN  \n",
              "1              0             NaN  \n",
              "2              0             NaN  \n",
              "3              0             NaN  \n",
              "4              0             NaN  "
            ],
            "text/html": [
              "\n",
              "  <div id=\"df-6829ef7f-c3ce-41df-b570-369b6a2424fe\">\n",
              "    <div class=\"colab-df-container\">\n",
              "      <div>\n",
              "<style scoped>\n",
              "    .dataframe tbody tr th:only-of-type {\n",
              "        vertical-align: middle;\n",
              "    }\n",
              "\n",
              "    .dataframe tbody tr th {\n",
              "        vertical-align: top;\n",
              "    }\n",
              "\n",
              "    .dataframe thead th {\n",
              "        text-align: right;\n",
              "    }\n",
              "</style>\n",
              "<table border=\"1\" class=\"dataframe\">\n",
              "  <thead>\n",
              "    <tr style=\"text-align: right;\">\n",
              "      <th></th>\n",
              "      <th>professor_id</th>\n",
              "      <th>comment_id</th>\n",
              "      <th>firstName</th>\n",
              "      <th>lastName</th>\n",
              "      <th>prof_class</th>\n",
              "      <th>comment</th>\n",
              "      <th>ratingTags</th>\n",
              "      <th>date</th>\n",
              "      <th>attendanceMandatory</th>\n",
              "      <th>grade</th>\n",
              "      <th>clarityRating</th>\n",
              "      <th>difficultyRating</th>\n",
              "      <th>helpfulRating</th>\n",
              "      <th>textbookUse</th>\n",
              "      <th>thumbsDownTotal</th>\n",
              "      <th>thumbsUpTotal</th>\n",
              "      <th>wouldTakeAgain</th>\n",
              "    </tr>\n",
              "  </thead>\n",
              "  <tbody>\n",
              "    <tr>\n",
              "      <th>0</th>\n",
              "      <td>VGVhY2hlci0xMjQzMzQ3</td>\n",
              "      <td>UmF0aW5nLTIyMTY1MTI1</td>\n",
              "      <td>Kurt</td>\n",
              "      <td>Douglass</td>\n",
              "      <td>ENGLISH125</td>\n",
              "      <td>Good teacher, good lectures. Obviously cares a...</td>\n",
              "      <td>NaN</td>\n",
              "      <td>2013-10-08 21:49:34 +0000 UTC</td>\n",
              "      <td>N</td>\n",
              "      <td>A</td>\n",
              "      <td>5</td>\n",
              "      <td>2</td>\n",
              "      <td>5</td>\n",
              "      <td>4.0</td>\n",
              "      <td>0</td>\n",
              "      <td>0</td>\n",
              "      <td>NaN</td>\n",
              "    </tr>\n",
              "    <tr>\n",
              "      <th>1</th>\n",
              "      <td>VGVhY2hlci0xMjQzMzQ3</td>\n",
              "      <td>UmF0aW5nLTIyMTY1MTEx</td>\n",
              "      <td>Kurt</td>\n",
              "      <td>Douglass</td>\n",
              "      <td>ENG125</td>\n",
              "      <td>Good teacher, very lenient with grading and at...</td>\n",
              "      <td>NaN</td>\n",
              "      <td>2013-10-08 21:42:25 +0000 UTC</td>\n",
              "      <td>Y</td>\n",
              "      <td>A</td>\n",
              "      <td>5</td>\n",
              "      <td>2</td>\n",
              "      <td>5</td>\n",
              "      <td>4.0</td>\n",
              "      <td>0</td>\n",
              "      <td>0</td>\n",
              "      <td>NaN</td>\n",
              "    </tr>\n",
              "    <tr>\n",
              "      <th>2</th>\n",
              "      <td>VGVhY2hlci0xMjQzMzQ3</td>\n",
              "      <td>UmF0aW5nLTE1ODQ1MTIy</td>\n",
              "      <td>Kurt</td>\n",
              "      <td>Douglass</td>\n",
              "      <td>ENG11</td>\n",
              "      <td>Very difficult class.  His grading is hard to ...</td>\n",
              "      <td>NaN</td>\n",
              "      <td>2009-05-15 13:59:15 +0000 UTC</td>\n",
              "      <td>NaN</td>\n",
              "      <td>NaN</td>\n",
              "      <td>1</td>\n",
              "      <td>5</td>\n",
              "      <td>2</td>\n",
              "      <td>5.0</td>\n",
              "      <td>0</td>\n",
              "      <td>0</td>\n",
              "      <td>NaN</td>\n",
              "    </tr>\n",
              "    <tr>\n",
              "      <th>3</th>\n",
              "      <td>VGVhY2hlci0xMDExMDU2</td>\n",
              "      <td>UmF0aW5nLTIxMjExOTYy</td>\n",
              "      <td>Paula</td>\n",
              "      <td>Zobisch</td>\n",
              "      <td>MGT5000</td>\n",
              "      <td>Excellent mentor. Created valuable foundations...</td>\n",
              "      <td>NaN</td>\n",
              "      <td>2013-01-05 10:30:39 +0000 UTC</td>\n",
              "      <td>NaN</td>\n",
              "      <td>NaN</td>\n",
              "      <td>5</td>\n",
              "      <td>1</td>\n",
              "      <td>5</td>\n",
              "      <td>5.0</td>\n",
              "      <td>0</td>\n",
              "      <td>0</td>\n",
              "      <td>NaN</td>\n",
              "    </tr>\n",
              "    <tr>\n",
              "      <th>4</th>\n",
              "      <td>VGVhY2hlci0xMDExMDU2</td>\n",
              "      <td>UmF0aW5nLTE3MjQxOTI2</td>\n",
              "      <td>Paula</td>\n",
              "      <td>Zobisch</td>\n",
              "      <td>MKT401</td>\n",
              "      <td>Awesome...Had her for two classes at baker col...</td>\n",
              "      <td>NaN</td>\n",
              "      <td>2010-05-20 14:39:01 +0000 UTC</td>\n",
              "      <td>NaN</td>\n",
              "      <td>NaN</td>\n",
              "      <td>5</td>\n",
              "      <td>3</td>\n",
              "      <td>5</td>\n",
              "      <td>3.0</td>\n",
              "      <td>1</td>\n",
              "      <td>0</td>\n",
              "      <td>NaN</td>\n",
              "    </tr>\n",
              "  </tbody>\n",
              "</table>\n",
              "</div>\n",
              "      <button class=\"colab-df-convert\" onclick=\"convertToInteractive('df-6829ef7f-c3ce-41df-b570-369b6a2424fe')\"\n",
              "              title=\"Convert this dataframe to an interactive table.\"\n",
              "              style=\"display:none;\">\n",
              "        \n",
              "  <svg xmlns=\"http://www.w3.org/2000/svg\" height=\"24px\"viewBox=\"0 0 24 24\"\n",
              "       width=\"24px\">\n",
              "    <path d=\"M0 0h24v24H0V0z\" fill=\"none\"/>\n",
              "    <path d=\"M18.56 5.44l.94 2.06.94-2.06 2.06-.94-2.06-.94-.94-2.06-.94 2.06-2.06.94zm-11 1L8.5 8.5l.94-2.06 2.06-.94-2.06-.94L8.5 2.5l-.94 2.06-2.06.94zm10 10l.94 2.06.94-2.06 2.06-.94-2.06-.94-.94-2.06-.94 2.06-2.06.94z\"/><path d=\"M17.41 7.96l-1.37-1.37c-.4-.4-.92-.59-1.43-.59-.52 0-1.04.2-1.43.59L10.3 9.45l-7.72 7.72c-.78.78-.78 2.05 0 2.83L4 21.41c.39.39.9.59 1.41.59.51 0 1.02-.2 1.41-.59l7.78-7.78 2.81-2.81c.8-.78.8-2.07 0-2.86zM5.41 20L4 18.59l7.72-7.72 1.47 1.35L5.41 20z\"/>\n",
              "  </svg>\n",
              "      </button>\n",
              "      \n",
              "  <style>\n",
              "    .colab-df-container {\n",
              "      display:flex;\n",
              "      flex-wrap:wrap;\n",
              "      gap: 12px;\n",
              "    }\n",
              "\n",
              "    .colab-df-convert {\n",
              "      background-color: #E8F0FE;\n",
              "      border: none;\n",
              "      border-radius: 50%;\n",
              "      cursor: pointer;\n",
              "      display: none;\n",
              "      fill: #1967D2;\n",
              "      height: 32px;\n",
              "      padding: 0 0 0 0;\n",
              "      width: 32px;\n",
              "    }\n",
              "\n",
              "    .colab-df-convert:hover {\n",
              "      background-color: #E2EBFA;\n",
              "      box-shadow: 0px 1px 2px rgba(60, 64, 67, 0.3), 0px 1px 3px 1px rgba(60, 64, 67, 0.15);\n",
              "      fill: #174EA6;\n",
              "    }\n",
              "\n",
              "    [theme=dark] .colab-df-convert {\n",
              "      background-color: #3B4455;\n",
              "      fill: #D2E3FC;\n",
              "    }\n",
              "\n",
              "    [theme=dark] .colab-df-convert:hover {\n",
              "      background-color: #434B5C;\n",
              "      box-shadow: 0px 1px 3px 1px rgba(0, 0, 0, 0.15);\n",
              "      filter: drop-shadow(0px 1px 2px rgba(0, 0, 0, 0.3));\n",
              "      fill: #FFFFFF;\n",
              "    }\n",
              "  </style>\n",
              "\n",
              "      <script>\n",
              "        const buttonEl =\n",
              "          document.querySelector('#df-6829ef7f-c3ce-41df-b570-369b6a2424fe button.colab-df-convert');\n",
              "        buttonEl.style.display =\n",
              "          google.colab.kernel.accessAllowed ? 'block' : 'none';\n",
              "\n",
              "        async function convertToInteractive(key) {\n",
              "          const element = document.querySelector('#df-6829ef7f-c3ce-41df-b570-369b6a2424fe');\n",
              "          const dataTable =\n",
              "            await google.colab.kernel.invokeFunction('convertToInteractive',\n",
              "                                                     [key], {});\n",
              "          if (!dataTable) return;\n",
              "\n",
              "          const docLinkHtml = 'Like what you see? Visit the ' +\n",
              "            '<a target=\"_blank\" href=https://colab.research.google.com/notebooks/data_table.ipynb>data table notebook</a>'\n",
              "            + ' to learn more about interactive tables.';\n",
              "          element.innerHTML = '';\n",
              "          dataTable['output_type'] = 'display_data';\n",
              "          await google.colab.output.renderOutput(dataTable, element);\n",
              "          const docLink = document.createElement('div');\n",
              "          docLink.innerHTML = docLinkHtml;\n",
              "          element.appendChild(docLink);\n",
              "        }\n",
              "      </script>\n",
              "    </div>\n",
              "  </div>\n",
              "  "
            ]
          },
          "metadata": {},
          "execution_count": 151
        }
      ]
    },
    {
      "cell_type": "code",
      "source": [
        "print(\"Shape before dropping:\", reviews.shape)\n",
        "reviews.drop_duplicates(subset=\"comment_id\", keep=\"first\", inplace=True)\n",
        "\n",
        "# drop rows containing only \"No Comments\" (default value assigned by RMP to a review that didn't enter a comment)\n",
        "reviews = reviews[reviews[\"comment\"] != \"No Comments\"]\n",
        "# drop rows containing NaN comment\n",
        "reviews.dropna(subset=[\"comment\"], inplace=True)\n",
        "# drop rows where clarityRating == 3\n",
        "reviews = reviews[reviews['clarityRating'] != 3]\n",
        "\n",
        "print(\"Shape after dropping:\", reviews.shape)\n",
        "reviews.reset_index(drop=True, inplace=True)"
      ],
      "metadata": {
        "colab": {
          "base_uri": "https://localhost:8080/"
        },
        "id": "6qKv16Kh2IR3",
        "outputId": "539fc54f-8165-41d7-e5d8-0468cf72ade4"
      },
      "execution_count": null,
      "outputs": [
        {
          "output_type": "stream",
          "name": "stdout",
          "text": [
            "Shape before dropping: (475073, 17)\n",
            "Shape after dropping: (415399, 17)\n"
          ]
        }
      ]
    },
    {
      "cell_type": "code",
      "source": [
        "prof_counts = reviews['professor_id'].value_counts()\n",
        "prof_counts"
      ],
      "metadata": {
        "colab": {
          "base_uri": "https://localhost:8080/"
        },
        "id": "n0uy4Ithwt5h",
        "outputId": "9e4ae1b5-060e-4331-9da7-da5122e768d6"
      },
      "execution_count": null,
      "outputs": [
        {
          "output_type": "execute_result",
          "data": {
            "text/plain": [
              "VGVhY2hlci0xMDAxMDQw    506\n",
              "VGVhY2hlci0xNTk2ODg1    371\n",
              "VGVhY2hlci0xMjgyNTU0    326\n",
              "VGVhY2hlci0xMjM4MjY5    326\n",
              "VGVhY2hlci0xNDE3NjAy    285\n",
              "                       ... \n",
              "VGVhY2hlci0xMzU4MDk2      1\n",
              "VGVhY2hlci0xNTY3MzA5      1\n",
              "VGVhY2hlci0xNDYzNTg4      1\n",
              "VGVhY2hlci0xMzUzMDYz      1\n",
              "VGVhY2hlci0xMzUzNDI5      1\n",
              "Name: professor_id, Length: 54014, dtype: int64"
            ]
          },
          "metadata": {},
          "execution_count": 153
        }
      ]
    },
    {
      "cell_type": "code",
      "source": [
        "prof_counts.describe()"
      ],
      "metadata": {
        "colab": {
          "base_uri": "https://localhost:8080/"
        },
        "id": "ut-z_S2V4om4",
        "outputId": "e014e315-ff6a-435e-f3e9-d2e369fb123d"
      },
      "execution_count": null,
      "outputs": [
        {
          "output_type": "execute_result",
          "data": {
            "text/plain": [
              "count    54014.000000\n",
              "mean         7.690580\n",
              "std         10.709292\n",
              "min          1.000000\n",
              "25%          2.000000\n",
              "50%          5.000000\n",
              "75%          9.000000\n",
              "max        506.000000\n",
              "Name: professor_id, dtype: float64"
            ]
          },
          "metadata": {},
          "execution_count": 154
        }
      ]
    },
    {
      "cell_type": "code",
      "source": [
        "from sklearn.model_selection import train_test_split\n",
        "X_train, X_test, y_train, y_test = train_test_split(prof_counts.index, prof_counts.values, test_size=0.2, random_state=1)"
      ],
      "metadata": {
        "id": "1hKSQKqe2kyR"
      },
      "execution_count": null,
      "outputs": []
    },
    {
      "cell_type": "code",
      "source": [
        "print(prof_counts[X_train].sum(), prof_counts[X_test].sum(), prof_counts.sum())"
      ],
      "metadata": {
        "colab": {
          "base_uri": "https://localhost:8080/"
        },
        "id": "ZYbr-1X56FbR",
        "outputId": "4b38b8bf-6b65-4d45-9637-33c8a3bd889e"
      },
      "execution_count": null,
      "outputs": [
        {
          "output_type": "stream",
          "name": "stdout",
          "text": [
            "331104 84295 415399\n"
          ]
        }
      ]
    },
    {
      "cell_type": "code",
      "source": [
        "x_train_set = set(X_train)\n",
        "x_test_set = set(X_test)\n",
        "print(x_train_set.intersection(x_test_set)) # Set is empty, meaning that "
      ],
      "metadata": {
        "colab": {
          "base_uri": "https://localhost:8080/"
        },
        "id": "Z2eqDyQX6e3g",
        "outputId": "c01d0622-81ad-4866-c6aa-b4dc967b0c0a"
      },
      "execution_count": null,
      "outputs": [
        {
          "output_type": "stream",
          "name": "stdout",
          "text": [
            "set()\n"
          ]
        }
      ]
    },
    {
      "cell_type": "code",
      "source": [
        "reviews['sentiment'] = reviews['clarityRating'] >= 3"
      ],
      "metadata": {
        "id": "k9jPGR_c-dh3"
      },
      "execution_count": null,
      "outputs": []
    },
    {
      "cell_type": "code",
      "source": [
        "reviews_train = reviews[reviews['professor_id'].isin(X_train)]\n",
        "reviews_test = reviews[reviews['professor_id'].isin(X_test)]\n",
        "print(reviews_train.shape)\n",
        "print(reviews_test.shape)"
      ],
      "metadata": {
        "colab": {
          "base_uri": "https://localhost:8080/"
        },
        "id": "GTh6aO6W_Fv9",
        "outputId": "d2f0de48-591e-4557-ec34-52fdce8a5ef7"
      },
      "execution_count": null,
      "outputs": [
        {
          "output_type": "stream",
          "name": "stdout",
          "text": [
            "(331104, 18)\n",
            "(84295, 18)\n"
          ]
        }
      ]
    },
    {
      "cell_type": "code",
      "source": [
        "print(reviews_train.sentiment.sum()/reviews_train.shape[0])\n",
        "print(reviews_test.sentiment.sum()/reviews_test.shape[0])"
      ],
      "metadata": {
        "colab": {
          "base_uri": "https://localhost:8080/"
        },
        "id": "I9rqu-BT_RiX",
        "outputId": "d0e83357-de24-48d6-b342-da5dd891effa"
      },
      "execution_count": null,
      "outputs": [
        {
          "output_type": "stream",
          "name": "stdout",
          "text": [
            "0.746052599787378\n",
            "0.7468889020701109\n"
          ]
        }
      ]
    }
  ]
}