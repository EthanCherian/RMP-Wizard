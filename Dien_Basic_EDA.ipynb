{
  "nbformat": 4,
  "nbformat_minor": 0,
  "metadata": {
    "colab": {
      "name": "Dien Basic EDA",
      "provenance": [],
      "toc_visible": true
    },
    "kernelspec": {
      "name": "python3",
      "display_name": "Python 3"
    },
    "language_info": {
      "name": "python"
    }
  },
  "cells": [
    {
      "cell_type": "markdown",
      "source": [
        "# Imports"
      ],
      "metadata": {
        "id": "cmYvi1jgCDRP"
      }
    },
    {
      "cell_type": "code",
      "execution_count": 1,
      "metadata": {
        "id": "A_jEk52vSoZM"
      },
      "outputs": [],
      "source": [
        "import pandas as pd\n",
        "import numpy as np\n",
        "import matplotlib.pyplot as plt\n",
        "import seaborn as sns\n",
        "import re\n",
        "import spacy\n",
        "import pkg_resources\n",
        "from spacy.lang.en.stop_words import STOP_WORDS\n",
        "\n",
        "from datetime import datetime\n",
        "from collections import Counter\n",
        "\n",
        "dateparse = lambda x: datetime.strptime(x, \"%Y-%m-%d %H:%M:%S %z %Z\")"
      ]
    },
    {
      "cell_type": "code",
      "source": [
        "from google.colab import drive\n",
        "drive.mount('/content/drive')"
      ],
      "metadata": {
        "colab": {
          "base_uri": "https://localhost:8080/"
        },
        "id": "jpNWgncEStR-",
        "outputId": "4a297e10-78c2-4ec6-cf8c-c33c617ab389"
      },
      "execution_count": 2,
      "outputs": [
        {
          "output_type": "stream",
          "name": "stdout",
          "text": [
            "Mounted at /content/drive\n"
          ]
        }
      ]
    },
    {
      "cell_type": "code",
      "source": [
        "reviews = pd.read_csv(\"/content/drive/MyDrive/RMP/scraped_comments_with_professor.csv\", parse_dates = ['date'], date_parser=dateparse).sample(n=600000, random_state=1)\n",
        "# reviews[['comment_id', 'firstName', 'lastName', 'prof_class', 'comment', 'clarityRating', 'helpfulRating']].to_csv(\"/content/drive/MyDrive/RMP/scraped_comments_sample.csv\")"
      ],
      "metadata": {
        "id": "E_HquEXoSuiC"
      },
      "execution_count": 3,
      "outputs": []
    },
    {
      "cell_type": "code",
      "source": [
        "reviews.head(5)"
      ],
      "metadata": {
        "colab": {
          "base_uri": "https://localhost:8080/",
          "height": 565
        },
        "id": "DHIH0gO7Tdho",
        "outputId": "09d169ea-e762-4833-ffa6-67e329433712"
      },
      "execution_count": 4,
      "outputs": [
        {
          "output_type": "execute_result",
          "data": {
            "text/plain": [
              "                professor_id            comment_id firstName     lastName  \\\n",
              "274508  VGVhY2hlci0xMDY5NDk0  UmF0aW5nLTMwNDk4MTI3    Dianne  Kwasniewski   \n",
              "414595  VGVhY2hlci0xNDMxMzc4  UmF0aW5nLTIyMDk4ODU3     Bruce      Freeman   \n",
              "459567  VGVhY2hlci0xNjA1MDYw  UmF0aW5nLTIzMzk1OTY1     Lorne    Goldstein   \n",
              "724268  VGVhY2hlci0xNTQ0NjU3  UmF0aW5nLTE4NzAzODIx      John     Trombley   \n",
              "859174  VGVhY2hlci0xMjQ2NTEz  UmF0aW5nLTI3ODQyMDIx  Lawrence  Mc Laughlin   \n",
              "\n",
              "            prof_class                                            comment  \\\n",
              "274508           AH100  I am currently in Ms. Dianne Kwasniewski's AH1...   \n",
              "414595  HUMANRELATIONS  Pretty easy, all you really need to do is go t...   \n",
              "459567        CML4111A  Fantastic class, great guy.  Awesome lectures ...   \n",
              "724268        CHEM1143  He's kinda new to the University. Class is not...   \n",
              "859174         GEOG111  He makes the class easy and the field trips ar...   \n",
              "\n",
              "                                               ratingTags  \\\n",
              "274508  Respected--Skip class? You won't pass.--Hilarious   \n",
              "414595                                                NaN   \n",
              "459567                                                NaN   \n",
              "724268                                                NaN   \n",
              "859174                Respected--Amazing lectures--Caring   \n",
              "\n",
              "                            date attendanceMandatory         grade  \\\n",
              "274508 2018-09-12 23:18:48+00:00                 NaN  Not sure yet   \n",
              "414595 2013-09-01 18:04:12+00:00                   Y             A   \n",
              "459567 2014-06-23 19:44:33+00:00                   N           NaN   \n",
              "724268 2011-06-06 15:13:05+00:00                 NaN           NaN   \n",
              "859174 2017-02-20 13:14:54+00:00           mandatory             A   \n",
              "\n",
              "        clarityRating  difficultyRating  helpfulRating  textbookUse  \\\n",
              "274508              5                 2              5          5.0   \n",
              "414595              3                 2              4          3.0   \n",
              "459567              5                 4              4          1.0   \n",
              "724268              4                 3              4          4.0   \n",
              "859174              5                 2              5          5.0   \n",
              "\n",
              "        thumbsDownTotal  thumbsUpTotal  wouldTakeAgain  \n",
              "274508                0              2             1.0  \n",
              "414595                0              0             NaN  \n",
              "459567                0              0             NaN  \n",
              "724268                0              0             NaN  \n",
              "859174                0              8             1.0  "
            ],
            "text/html": [
              "\n",
              "  <div id=\"df-5a006015-0618-454f-9888-ed14c231e73d\">\n",
              "    <div class=\"colab-df-container\">\n",
              "      <div>\n",
              "<style scoped>\n",
              "    .dataframe tbody tr th:only-of-type {\n",
              "        vertical-align: middle;\n",
              "    }\n",
              "\n",
              "    .dataframe tbody tr th {\n",
              "        vertical-align: top;\n",
              "    }\n",
              "\n",
              "    .dataframe thead th {\n",
              "        text-align: right;\n",
              "    }\n",
              "</style>\n",
              "<table border=\"1\" class=\"dataframe\">\n",
              "  <thead>\n",
              "    <tr style=\"text-align: right;\">\n",
              "      <th></th>\n",
              "      <th>professor_id</th>\n",
              "      <th>comment_id</th>\n",
              "      <th>firstName</th>\n",
              "      <th>lastName</th>\n",
              "      <th>prof_class</th>\n",
              "      <th>comment</th>\n",
              "      <th>ratingTags</th>\n",
              "      <th>date</th>\n",
              "      <th>attendanceMandatory</th>\n",
              "      <th>grade</th>\n",
              "      <th>clarityRating</th>\n",
              "      <th>difficultyRating</th>\n",
              "      <th>helpfulRating</th>\n",
              "      <th>textbookUse</th>\n",
              "      <th>thumbsDownTotal</th>\n",
              "      <th>thumbsUpTotal</th>\n",
              "      <th>wouldTakeAgain</th>\n",
              "    </tr>\n",
              "  </thead>\n",
              "  <tbody>\n",
              "    <tr>\n",
              "      <th>274508</th>\n",
              "      <td>VGVhY2hlci0xMDY5NDk0</td>\n",
              "      <td>UmF0aW5nLTMwNDk4MTI3</td>\n",
              "      <td>Dianne</td>\n",
              "      <td>Kwasniewski</td>\n",
              "      <td>AH100</td>\n",
              "      <td>I am currently in Ms. Dianne Kwasniewski's AH1...</td>\n",
              "      <td>Respected--Skip class? You won't pass.--Hilarious</td>\n",
              "      <td>2018-09-12 23:18:48+00:00</td>\n",
              "      <td>NaN</td>\n",
              "      <td>Not sure yet</td>\n",
              "      <td>5</td>\n",
              "      <td>2</td>\n",
              "      <td>5</td>\n",
              "      <td>5.0</td>\n",
              "      <td>0</td>\n",
              "      <td>2</td>\n",
              "      <td>1.0</td>\n",
              "    </tr>\n",
              "    <tr>\n",
              "      <th>414595</th>\n",
              "      <td>VGVhY2hlci0xNDMxMzc4</td>\n",
              "      <td>UmF0aW5nLTIyMDk4ODU3</td>\n",
              "      <td>Bruce</td>\n",
              "      <td>Freeman</td>\n",
              "      <td>HUMANRELATIONS</td>\n",
              "      <td>Pretty easy, all you really need to do is go t...</td>\n",
              "      <td>NaN</td>\n",
              "      <td>2013-09-01 18:04:12+00:00</td>\n",
              "      <td>Y</td>\n",
              "      <td>A</td>\n",
              "      <td>3</td>\n",
              "      <td>2</td>\n",
              "      <td>4</td>\n",
              "      <td>3.0</td>\n",
              "      <td>0</td>\n",
              "      <td>0</td>\n",
              "      <td>NaN</td>\n",
              "    </tr>\n",
              "    <tr>\n",
              "      <th>459567</th>\n",
              "      <td>VGVhY2hlci0xNjA1MDYw</td>\n",
              "      <td>UmF0aW5nLTIzMzk1OTY1</td>\n",
              "      <td>Lorne</td>\n",
              "      <td>Goldstein</td>\n",
              "      <td>CML4111A</td>\n",
              "      <td>Fantastic class, great guy.  Awesome lectures ...</td>\n",
              "      <td>NaN</td>\n",
              "      <td>2014-06-23 19:44:33+00:00</td>\n",
              "      <td>N</td>\n",
              "      <td>NaN</td>\n",
              "      <td>5</td>\n",
              "      <td>4</td>\n",
              "      <td>4</td>\n",
              "      <td>1.0</td>\n",
              "      <td>0</td>\n",
              "      <td>0</td>\n",
              "      <td>NaN</td>\n",
              "    </tr>\n",
              "    <tr>\n",
              "      <th>724268</th>\n",
              "      <td>VGVhY2hlci0xNTQ0NjU3</td>\n",
              "      <td>UmF0aW5nLTE4NzAzODIx</td>\n",
              "      <td>John</td>\n",
              "      <td>Trombley</td>\n",
              "      <td>CHEM1143</td>\n",
              "      <td>He's kinda new to the University. Class is not...</td>\n",
              "      <td>NaN</td>\n",
              "      <td>2011-06-06 15:13:05+00:00</td>\n",
              "      <td>NaN</td>\n",
              "      <td>NaN</td>\n",
              "      <td>4</td>\n",
              "      <td>3</td>\n",
              "      <td>4</td>\n",
              "      <td>4.0</td>\n",
              "      <td>0</td>\n",
              "      <td>0</td>\n",
              "      <td>NaN</td>\n",
              "    </tr>\n",
              "    <tr>\n",
              "      <th>859174</th>\n",
              "      <td>VGVhY2hlci0xMjQ2NTEz</td>\n",
              "      <td>UmF0aW5nLTI3ODQyMDIx</td>\n",
              "      <td>Lawrence</td>\n",
              "      <td>Mc Laughlin</td>\n",
              "      <td>GEOG111</td>\n",
              "      <td>He makes the class easy and the field trips ar...</td>\n",
              "      <td>Respected--Amazing lectures--Caring</td>\n",
              "      <td>2017-02-20 13:14:54+00:00</td>\n",
              "      <td>mandatory</td>\n",
              "      <td>A</td>\n",
              "      <td>5</td>\n",
              "      <td>2</td>\n",
              "      <td>5</td>\n",
              "      <td>5.0</td>\n",
              "      <td>0</td>\n",
              "      <td>8</td>\n",
              "      <td>1.0</td>\n",
              "    </tr>\n",
              "  </tbody>\n",
              "</table>\n",
              "</div>\n",
              "      <button class=\"colab-df-convert\" onclick=\"convertToInteractive('df-5a006015-0618-454f-9888-ed14c231e73d')\"\n",
              "              title=\"Convert this dataframe to an interactive table.\"\n",
              "              style=\"display:none;\">\n",
              "        \n",
              "  <svg xmlns=\"http://www.w3.org/2000/svg\" height=\"24px\"viewBox=\"0 0 24 24\"\n",
              "       width=\"24px\">\n",
              "    <path d=\"M0 0h24v24H0V0z\" fill=\"none\"/>\n",
              "    <path d=\"M18.56 5.44l.94 2.06.94-2.06 2.06-.94-2.06-.94-.94-2.06-.94 2.06-2.06.94zm-11 1L8.5 8.5l.94-2.06 2.06-.94-2.06-.94L8.5 2.5l-.94 2.06-2.06.94zm10 10l.94 2.06.94-2.06 2.06-.94-2.06-.94-.94-2.06-.94 2.06-2.06.94z\"/><path d=\"M17.41 7.96l-1.37-1.37c-.4-.4-.92-.59-1.43-.59-.52 0-1.04.2-1.43.59L10.3 9.45l-7.72 7.72c-.78.78-.78 2.05 0 2.83L4 21.41c.39.39.9.59 1.41.59.51 0 1.02-.2 1.41-.59l7.78-7.78 2.81-2.81c.8-.78.8-2.07 0-2.86zM5.41 20L4 18.59l7.72-7.72 1.47 1.35L5.41 20z\"/>\n",
              "  </svg>\n",
              "      </button>\n",
              "      \n",
              "  <style>\n",
              "    .colab-df-container {\n",
              "      display:flex;\n",
              "      flex-wrap:wrap;\n",
              "      gap: 12px;\n",
              "    }\n",
              "\n",
              "    .colab-df-convert {\n",
              "      background-color: #E8F0FE;\n",
              "      border: none;\n",
              "      border-radius: 50%;\n",
              "      cursor: pointer;\n",
              "      display: none;\n",
              "      fill: #1967D2;\n",
              "      height: 32px;\n",
              "      padding: 0 0 0 0;\n",
              "      width: 32px;\n",
              "    }\n",
              "\n",
              "    .colab-df-convert:hover {\n",
              "      background-color: #E2EBFA;\n",
              "      box-shadow: 0px 1px 2px rgba(60, 64, 67, 0.3), 0px 1px 3px 1px rgba(60, 64, 67, 0.15);\n",
              "      fill: #174EA6;\n",
              "    }\n",
              "\n",
              "    [theme=dark] .colab-df-convert {\n",
              "      background-color: #3B4455;\n",
              "      fill: #D2E3FC;\n",
              "    }\n",
              "\n",
              "    [theme=dark] .colab-df-convert:hover {\n",
              "      background-color: #434B5C;\n",
              "      box-shadow: 0px 1px 3px 1px rgba(0, 0, 0, 0.15);\n",
              "      filter: drop-shadow(0px 1px 2px rgba(0, 0, 0, 0.3));\n",
              "      fill: #FFFFFF;\n",
              "    }\n",
              "  </style>\n",
              "\n",
              "      <script>\n",
              "        const buttonEl =\n",
              "          document.querySelector('#df-5a006015-0618-454f-9888-ed14c231e73d button.colab-df-convert');\n",
              "        buttonEl.style.display =\n",
              "          google.colab.kernel.accessAllowed ? 'block' : 'none';\n",
              "\n",
              "        async function convertToInteractive(key) {\n",
              "          const element = document.querySelector('#df-5a006015-0618-454f-9888-ed14c231e73d');\n",
              "          const dataTable =\n",
              "            await google.colab.kernel.invokeFunction('convertToInteractive',\n",
              "                                                     [key], {});\n",
              "          if (!dataTable) return;\n",
              "\n",
              "          const docLinkHtml = 'Like what you see? Visit the ' +\n",
              "            '<a target=\"_blank\" href=https://colab.research.google.com/notebooks/data_table.ipynb>data table notebook</a>'\n",
              "            + ' to learn more about interactive tables.';\n",
              "          element.innerHTML = '';\n",
              "          dataTable['output_type'] = 'display_data';\n",
              "          await google.colab.output.renderOutput(dataTable, element);\n",
              "          const docLink = document.createElement('div');\n",
              "          docLink.innerHTML = docLinkHtml;\n",
              "          element.appendChild(docLink);\n",
              "        }\n",
              "      </script>\n",
              "    </div>\n",
              "  </div>\n",
              "  "
            ]
          },
          "metadata": {},
          "execution_count": 4
        }
      ]
    },
    {
      "cell_type": "code",
      "source": [
        "reviews = reviews.loc[:, [\"firstName\", \"lastName\", \"prof_class\", \"comment\", \"date\", \"clarityRating\", \"helpfulRating\", \"professor_id\", \"comment_id\"]]\n",
        "reviews.columns"
      ],
      "metadata": {
        "colab": {
          "base_uri": "https://localhost:8080/"
        },
        "id": "e3YuSwImUx8S",
        "outputId": "956ba43b-5a34-4bfc-c4fb-31ab584c345d"
      },
      "execution_count": 5,
      "outputs": [
        {
          "output_type": "execute_result",
          "data": {
            "text/plain": [
              "Index(['firstName', 'lastName', 'prof_class', 'comment', 'date',\n",
              "       'clarityRating', 'helpfulRating', 'professor_id', 'comment_id'],\n",
              "      dtype='object')"
            ]
          },
          "metadata": {},
          "execution_count": 5
        }
      ]
    },
    {
      "cell_type": "markdown",
      "source": [
        "# Rating EDA"
      ],
      "metadata": {
        "id": "3bDy72o-CI5b"
      }
    },
    {
      "cell_type": "code",
      "source": [
        "reviews.dtypes"
      ],
      "metadata": {
        "colab": {
          "base_uri": "https://localhost:8080/"
        },
        "id": "-YFY7WX2BQ5d",
        "outputId": "59e6553a-b762-457b-fd3e-89fa3ac6a383"
      },
      "execution_count": 6,
      "outputs": [
        {
          "output_type": "execute_result",
          "data": {
            "text/plain": [
              "firstName                     object\n",
              "lastName                      object\n",
              "prof_class                    object\n",
              "comment                       object\n",
              "date             datetime64[ns, UTC]\n",
              "clarityRating                  int64\n",
              "helpfulRating                  int64\n",
              "professor_id                  object\n",
              "comment_id                    object\n",
              "dtype: object"
            ]
          },
          "metadata": {},
          "execution_count": 6
        }
      ]
    },
    {
      "cell_type": "code",
      "source": [
        "reviews.head()"
      ],
      "metadata": {
        "colab": {
          "base_uri": "https://localhost:8080/",
          "height": 548
        },
        "id": "VZUqst4RVLKF",
        "outputId": "e41c70fa-5831-481d-e576-9747774473aa"
      },
      "execution_count": 7,
      "outputs": [
        {
          "output_type": "execute_result",
          "data": {
            "text/plain": [
              "       firstName     lastName      prof_class  \\\n",
              "274508    Dianne  Kwasniewski           AH100   \n",
              "414595     Bruce      Freeman  HUMANRELATIONS   \n",
              "459567     Lorne    Goldstein        CML4111A   \n",
              "724268      John     Trombley        CHEM1143   \n",
              "859174  Lawrence  Mc Laughlin         GEOG111   \n",
              "\n",
              "                                                  comment  \\\n",
              "274508  I am currently in Ms. Dianne Kwasniewski's AH1...   \n",
              "414595  Pretty easy, all you really need to do is go t...   \n",
              "459567  Fantastic class, great guy.  Awesome lectures ...   \n",
              "724268  He's kinda new to the University. Class is not...   \n",
              "859174  He makes the class easy and the field trips ar...   \n",
              "\n",
              "                            date  clarityRating  helpfulRating  \\\n",
              "274508 2018-09-12 23:18:48+00:00              5              5   \n",
              "414595 2013-09-01 18:04:12+00:00              3              4   \n",
              "459567 2014-06-23 19:44:33+00:00              5              4   \n",
              "724268 2011-06-06 15:13:05+00:00              4              4   \n",
              "859174 2017-02-20 13:14:54+00:00              5              5   \n",
              "\n",
              "                professor_id            comment_id  \n",
              "274508  VGVhY2hlci0xMDY5NDk0  UmF0aW5nLTMwNDk4MTI3  \n",
              "414595  VGVhY2hlci0xNDMxMzc4  UmF0aW5nLTIyMDk4ODU3  \n",
              "459567  VGVhY2hlci0xNjA1MDYw  UmF0aW5nLTIzMzk1OTY1  \n",
              "724268  VGVhY2hlci0xNTQ0NjU3  UmF0aW5nLTE4NzAzODIx  \n",
              "859174  VGVhY2hlci0xMjQ2NTEz  UmF0aW5nLTI3ODQyMDIx  "
            ],
            "text/html": [
              "\n",
              "  <div id=\"df-b092fcfd-124c-4204-910d-c8e3c1edf40d\">\n",
              "    <div class=\"colab-df-container\">\n",
              "      <div>\n",
              "<style scoped>\n",
              "    .dataframe tbody tr th:only-of-type {\n",
              "        vertical-align: middle;\n",
              "    }\n",
              "\n",
              "    .dataframe tbody tr th {\n",
              "        vertical-align: top;\n",
              "    }\n",
              "\n",
              "    .dataframe thead th {\n",
              "        text-align: right;\n",
              "    }\n",
              "</style>\n",
              "<table border=\"1\" class=\"dataframe\">\n",
              "  <thead>\n",
              "    <tr style=\"text-align: right;\">\n",
              "      <th></th>\n",
              "      <th>firstName</th>\n",
              "      <th>lastName</th>\n",
              "      <th>prof_class</th>\n",
              "      <th>comment</th>\n",
              "      <th>date</th>\n",
              "      <th>clarityRating</th>\n",
              "      <th>helpfulRating</th>\n",
              "      <th>professor_id</th>\n",
              "      <th>comment_id</th>\n",
              "    </tr>\n",
              "  </thead>\n",
              "  <tbody>\n",
              "    <tr>\n",
              "      <th>274508</th>\n",
              "      <td>Dianne</td>\n",
              "      <td>Kwasniewski</td>\n",
              "      <td>AH100</td>\n",
              "      <td>I am currently in Ms. Dianne Kwasniewski's AH1...</td>\n",
              "      <td>2018-09-12 23:18:48+00:00</td>\n",
              "      <td>5</td>\n",
              "      <td>5</td>\n",
              "      <td>VGVhY2hlci0xMDY5NDk0</td>\n",
              "      <td>UmF0aW5nLTMwNDk4MTI3</td>\n",
              "    </tr>\n",
              "    <tr>\n",
              "      <th>414595</th>\n",
              "      <td>Bruce</td>\n",
              "      <td>Freeman</td>\n",
              "      <td>HUMANRELATIONS</td>\n",
              "      <td>Pretty easy, all you really need to do is go t...</td>\n",
              "      <td>2013-09-01 18:04:12+00:00</td>\n",
              "      <td>3</td>\n",
              "      <td>4</td>\n",
              "      <td>VGVhY2hlci0xNDMxMzc4</td>\n",
              "      <td>UmF0aW5nLTIyMDk4ODU3</td>\n",
              "    </tr>\n",
              "    <tr>\n",
              "      <th>459567</th>\n",
              "      <td>Lorne</td>\n",
              "      <td>Goldstein</td>\n",
              "      <td>CML4111A</td>\n",
              "      <td>Fantastic class, great guy.  Awesome lectures ...</td>\n",
              "      <td>2014-06-23 19:44:33+00:00</td>\n",
              "      <td>5</td>\n",
              "      <td>4</td>\n",
              "      <td>VGVhY2hlci0xNjA1MDYw</td>\n",
              "      <td>UmF0aW5nLTIzMzk1OTY1</td>\n",
              "    </tr>\n",
              "    <tr>\n",
              "      <th>724268</th>\n",
              "      <td>John</td>\n",
              "      <td>Trombley</td>\n",
              "      <td>CHEM1143</td>\n",
              "      <td>He's kinda new to the University. Class is not...</td>\n",
              "      <td>2011-06-06 15:13:05+00:00</td>\n",
              "      <td>4</td>\n",
              "      <td>4</td>\n",
              "      <td>VGVhY2hlci0xNTQ0NjU3</td>\n",
              "      <td>UmF0aW5nLTE4NzAzODIx</td>\n",
              "    </tr>\n",
              "    <tr>\n",
              "      <th>859174</th>\n",
              "      <td>Lawrence</td>\n",
              "      <td>Mc Laughlin</td>\n",
              "      <td>GEOG111</td>\n",
              "      <td>He makes the class easy and the field trips ar...</td>\n",
              "      <td>2017-02-20 13:14:54+00:00</td>\n",
              "      <td>5</td>\n",
              "      <td>5</td>\n",
              "      <td>VGVhY2hlci0xMjQ2NTEz</td>\n",
              "      <td>UmF0aW5nLTI3ODQyMDIx</td>\n",
              "    </tr>\n",
              "  </tbody>\n",
              "</table>\n",
              "</div>\n",
              "      <button class=\"colab-df-convert\" onclick=\"convertToInteractive('df-b092fcfd-124c-4204-910d-c8e3c1edf40d')\"\n",
              "              title=\"Convert this dataframe to an interactive table.\"\n",
              "              style=\"display:none;\">\n",
              "        \n",
              "  <svg xmlns=\"http://www.w3.org/2000/svg\" height=\"24px\"viewBox=\"0 0 24 24\"\n",
              "       width=\"24px\">\n",
              "    <path d=\"M0 0h24v24H0V0z\" fill=\"none\"/>\n",
              "    <path d=\"M18.56 5.44l.94 2.06.94-2.06 2.06-.94-2.06-.94-.94-2.06-.94 2.06-2.06.94zm-11 1L8.5 8.5l.94-2.06 2.06-.94-2.06-.94L8.5 2.5l-.94 2.06-2.06.94zm10 10l.94 2.06.94-2.06 2.06-.94-2.06-.94-.94-2.06-.94 2.06-2.06.94z\"/><path d=\"M17.41 7.96l-1.37-1.37c-.4-.4-.92-.59-1.43-.59-.52 0-1.04.2-1.43.59L10.3 9.45l-7.72 7.72c-.78.78-.78 2.05 0 2.83L4 21.41c.39.39.9.59 1.41.59.51 0 1.02-.2 1.41-.59l7.78-7.78 2.81-2.81c.8-.78.8-2.07 0-2.86zM5.41 20L4 18.59l7.72-7.72 1.47 1.35L5.41 20z\"/>\n",
              "  </svg>\n",
              "      </button>\n",
              "      \n",
              "  <style>\n",
              "    .colab-df-container {\n",
              "      display:flex;\n",
              "      flex-wrap:wrap;\n",
              "      gap: 12px;\n",
              "    }\n",
              "\n",
              "    .colab-df-convert {\n",
              "      background-color: #E8F0FE;\n",
              "      border: none;\n",
              "      border-radius: 50%;\n",
              "      cursor: pointer;\n",
              "      display: none;\n",
              "      fill: #1967D2;\n",
              "      height: 32px;\n",
              "      padding: 0 0 0 0;\n",
              "      width: 32px;\n",
              "    }\n",
              "\n",
              "    .colab-df-convert:hover {\n",
              "      background-color: #E2EBFA;\n",
              "      box-shadow: 0px 1px 2px rgba(60, 64, 67, 0.3), 0px 1px 3px 1px rgba(60, 64, 67, 0.15);\n",
              "      fill: #174EA6;\n",
              "    }\n",
              "\n",
              "    [theme=dark] .colab-df-convert {\n",
              "      background-color: #3B4455;\n",
              "      fill: #D2E3FC;\n",
              "    }\n",
              "\n",
              "    [theme=dark] .colab-df-convert:hover {\n",
              "      background-color: #434B5C;\n",
              "      box-shadow: 0px 1px 3px 1px rgba(0, 0, 0, 0.15);\n",
              "      filter: drop-shadow(0px 1px 2px rgba(0, 0, 0, 0.3));\n",
              "      fill: #FFFFFF;\n",
              "    }\n",
              "  </style>\n",
              "\n",
              "      <script>\n",
              "        const buttonEl =\n",
              "          document.querySelector('#df-b092fcfd-124c-4204-910d-c8e3c1edf40d button.colab-df-convert');\n",
              "        buttonEl.style.display =\n",
              "          google.colab.kernel.accessAllowed ? 'block' : 'none';\n",
              "\n",
              "        async function convertToInteractive(key) {\n",
              "          const element = document.querySelector('#df-b092fcfd-124c-4204-910d-c8e3c1edf40d');\n",
              "          const dataTable =\n",
              "            await google.colab.kernel.invokeFunction('convertToInteractive',\n",
              "                                                     [key], {});\n",
              "          if (!dataTable) return;\n",
              "\n",
              "          const docLinkHtml = 'Like what you see? Visit the ' +\n",
              "            '<a target=\"_blank\" href=https://colab.research.google.com/notebooks/data_table.ipynb>data table notebook</a>'\n",
              "            + ' to learn more about interactive tables.';\n",
              "          element.innerHTML = '';\n",
              "          dataTable['output_type'] = 'display_data';\n",
              "          await google.colab.output.renderOutput(dataTable, element);\n",
              "          const docLink = document.createElement('div');\n",
              "          docLink.innerHTML = docLinkHtml;\n",
              "          element.appendChild(docLink);\n",
              "        }\n",
              "      </script>\n",
              "    </div>\n",
              "  </div>\n",
              "  "
            ]
          },
          "metadata": {},
          "execution_count": 7
        }
      ]
    },
    {
      "cell_type": "markdown",
      "source": [
        "## Clarity Ratings"
      ],
      "metadata": {
        "id": "Y76TKxGWCMSf"
      }
    },
    {
      "cell_type": "code",
      "source": [
        "reviews.clarityRating.value_counts()"
      ],
      "metadata": {
        "colab": {
          "base_uri": "https://localhost:8080/"
        },
        "id": "cjmSXD3dVUjQ",
        "outputId": "01351efe-baab-4501-93be-19ab93d4dbfa"
      },
      "execution_count": 8,
      "outputs": [
        {
          "output_type": "execute_result",
          "data": {
            "text/plain": [
              " 5    270177\n",
              " 4    127786\n",
              " 1     73672\n",
              " 3     66608\n",
              " 2     61756\n",
              "-1         1\n",
              "Name: clarityRating, dtype: int64"
            ]
          },
          "metadata": {},
          "execution_count": 8
        }
      ]
    },
    {
      "cell_type": "code",
      "source": [
        "reviews = reviews[reviews['clarityRating'] != -1]\n",
        "clarity_cnts = reviews.clarityRating.value_counts()\n",
        "clarity_cnts.plot(kind='bar')"
      ],
      "metadata": {
        "colab": {
          "base_uri": "https://localhost:8080/",
          "height": 279
        },
        "id": "mlar9HswVpPG",
        "outputId": "b79221ce-434a-493e-cab6-95c14acb36b3"
      },
      "execution_count": 9,
      "outputs": [
        {
          "output_type": "execute_result",
          "data": {
            "text/plain": [
              "<matplotlib.axes._subplots.AxesSubplot at 0x7f7721796650>"
            ]
          },
          "metadata": {},
          "execution_count": 9
        },
        {
          "output_type": "display_data",
          "data": {
            "text/plain": [
              "<Figure size 432x288 with 1 Axes>"
            ],
            "image/png": "[encoded data removed]"
          },
          "metadata": {
            "needs_background": "light"
          }
        }
      ]
    },
    {
      "cell_type": "markdown",
      "source": [
        "## Helpful Ratings"
      ],
      "metadata": {
        "id": "LDRYyE3LCPex"
      }
    },
    {
      "cell_type": "code",
      "source": [
        "reviews.helpfulRating.value_counts()"
      ],
      "metadata": {
        "colab": {
          "base_uri": "https://localhost:8080/"
        },
        "id": "iR4Mq7QpVZKF",
        "outputId": "7480b040-e0c1-40e1-addd-13b2981dd970"
      },
      "execution_count": 10,
      "outputs": [
        {
          "output_type": "execute_result",
          "data": {
            "text/plain": [
              "5    307720\n",
              "4    100079\n",
              "1     84847\n",
              "3     56727\n",
              "2     50626\n",
              "Name: helpfulRating, dtype: int64"
            ]
          },
          "metadata": {},
          "execution_count": 10
        }
      ]
    },
    {
      "cell_type": "code",
      "source": [
        "helpful_cnts = reviews.helpfulRating.value_counts()\n",
        "helpful_cnts.plot(kind='bar')"
      ],
      "metadata": {
        "colab": {
          "base_uri": "https://localhost:8080/",
          "height": 279
        },
        "id": "azaHtUXwVciS",
        "outputId": "d1e9018f-2cdf-4be9-aaa8-92f7922160bb"
      },
      "execution_count": 11,
      "outputs": [
        {
          "output_type": "execute_result",
          "data": {
            "text/plain": [
              "<matplotlib.axes._subplots.AxesSubplot at 0x7f772b52e050>"
            ]
          },
          "metadata": {},
          "execution_count": 11
        },
        {
          "output_type": "display_data",
          "data": {
            "text/plain": [
              "<Figure size 432x288 with 1 Axes>"
            ],
            "image/png": "[encoded data removed]"
          },
          "metadata": {
            "needs_background": "light"
          }
        }
      ]
    },
    {
      "cell_type": "markdown",
      "source": [
        "## Asymmetric Reviews\n",
        "Before 2016 helpfulRating and clarityRatings were distinct, which led to a lot of conflicting ratings. After 2016 there is only one numeric rating metric.\n",
        "\n",
        "Here, I only considered ratings that have an absolute difference of <= 2, because it seemed that the sentiment of >2 varied greatly."
      ],
      "metadata": {
        "id": "CewFrDLlCWLH"
      }
    },
    {
      "cell_type": "code",
      "source": [
        "unsymmetric_reviews = reviews[reviews['helpfulRating'] != reviews['clarityRating']]\n",
        "unsymmetric_reviews.shape"
      ],
      "metadata": {
        "colab": {
          "base_uri": "https://localhost:8080/"
        },
        "id": "1u0kZdsNZqLK",
        "outputId": "439e2dff-5ccb-4f71-8448-3cce8d253b80"
      },
      "execution_count": 12,
      "outputs": [
        {
          "output_type": "execute_result",
          "data": {
            "text/plain": [
              "(189444, 9)"
            ]
          },
          "metadata": {},
          "execution_count": 12
        }
      ]
    },
    {
      "cell_type": "code",
      "source": [
        "(abs(unsymmetric_reviews['helpfulRating'] - unsymmetric_reviews['clarityRating'])).value_counts()"
      ],
      "metadata": {
        "colab": {
          "base_uri": "https://localhost:8080/"
        },
        "id": "72q6dZqhcWam",
        "outputId": "ae984b09-b361-4338-bad8-49179d7985c3"
      },
      "execution_count": 13,
      "outputs": [
        {
          "output_type": "execute_result",
          "data": {
            "text/plain": [
              "1    151887\n",
              "2     30569\n",
              "3      5460\n",
              "4      1528\n",
              "dtype: int64"
            ]
          },
          "metadata": {},
          "execution_count": 13
        }
      ]
    },
    {
      "cell_type": "code",
      "source": [
        "# Interestingly, rmp gets rid of two seperate ratings after 2016 for just one rating.\n",
        "# Thus, before 2016 you can get floating point quality reviews\n",
        "comment_years = unsymmetric_reviews['date'].dt.year\n",
        "sns.displot(comment_years, kde=False, bins=12)"
      ],
      "metadata": {
        "colab": {
          "base_uri": "https://localhost:8080/",
          "height": 386
        },
        "id": "oklN6JDuaVVs",
        "outputId": "b37f6687-54b3-4aef-f2d1-d9083eba8eb7"
      },
      "execution_count": 14,
      "outputs": [
        {
          "output_type": "execute_result",
          "data": {
            "text/plain": [
              "<seaborn.axisgrid.FacetGrid at 0x7f772b3a4190>"
            ]
          },
          "metadata": {},
          "execution_count": 14
        },
        {
          "output_type": "display_data",
          "data": {
            "text/plain": [
              "<Figure size 360x360 with 1 Axes>"
            ],
            "image/png": "[encoded data removed]"
          },
          "metadata": {
            "needs_background": "light"
          }
        }
      ]
    },
    {
      "cell_type": "code",
      "source": [
        "diff_2_reviews = reviews[abs(reviews['helpfulRating'] - reviews['clarityRating']) == 2]\n",
        "diff_2_reviews.shape"
      ],
      "metadata": {
        "colab": {
          "base_uri": "https://localhost:8080/"
        },
        "id": "fAndnoRSqZm2",
        "outputId": "a7b9fb4b-ce0e-4871-e431-94ef83928027"
      },
      "execution_count": 15,
      "outputs": [
        {
          "output_type": "execute_result",
          "data": {
            "text/plain": [
              "(30569, 9)"
            ]
          },
          "metadata": {},
          "execution_count": 15
        }
      ]
    },
    {
      "cell_type": "code",
      "source": [
        "for index, review in diff_2_reviews.head(50).iterrows():\n",
        "  print()\n",
        "  print(review['comment'], review['helpfulRating'], review['clarityRating'])"
      ],
      "metadata": {
        "colab": {
          "base_uri": "https://localhost:8080/"
        },
        "id": "KBtOttOJrEvA",
        "outputId": "ab4efbda-6354-435d-9181-c0103038b80e"
      },
      "execution_count": 16,
      "outputs": [
        {
          "output_type": "stream",
          "name": "stdout",
          "text": [
            "\n",
            "Dr. Kane is interesting. He loves teaching and it shows he just has trouble explaining things. He laughs at all his jokes which in humorous. He reads the test to you as a review. Great guy and will work with you. 4 2\n",
            "\n",
            "He's great! Doesn't waste time on information that you won't need or use. His explanations are geared so you don't memorize but understand the material logically. One of the best and easiest math classes you'll ever take. Great personality! 3 5\n",
            "\n",
            "DR. HEARON class is hard! he is tough and you need to ask previous for there flash card. He is a harder grader.  He gives you no chances.  He dose not like anything with the athletic dept. so if any of yall are athlete out there. GOODLUCK! this class is only for pre-pt and exercise science. do not messed up your lab grades. 1 3\n",
            "\n",
            "The material was somewhat repetitive (not her fault), but she wanted students to actually learn. Did a pretty good job, always willing to answer questions in class and office hours. As long you actually do the reading and take notes you should get an B or an A. Make sure you choose a good group for group work. Overall pretty good! 5 3\n",
            "\n",
            "Shes honestly a good teacher. Her best class is intro to game development and from there the classes get more difficult. The unreal class as someone stated is not very clear but her unity3d class is better. Shes nice, helpful and caring as well. She does get frustrated if you dont understand something to a certain extent. Dont skip class! 5 3\n",
            "\n",
            "too tough on assignments and grading too many assignments too boring of a teacher. power point reader learned nothing 3 1\n",
            "\n",
            "SFU Math 190: does an average job of explaining concepts. However, her exams are of a shock and awe style whereby there will be a good portion of questions that are much more complex than her examples or homework. Expect long exams with limited time and if you are a self-learner expect to see her choice of textbook to have very limited answers. 5 3\n",
            "\n",
            "Young guy, hard to understand through accent.  Tests questions were pulled right from the weekly homework assignments.  I got a B+ without studying TOO much.  I would not recommend him, especially if you can find a better professor. 3 1\n",
            "\n",
            "She is not clear when giving the essay rules. Be sure you  ask her or else you will suffer a low grade. Too much work to do and its so hard to get A in her class. Take my advice don't take her, if you do, you will be so irritated of too much homework and low grade!17 out of 20 pts is already B not B+ in her grading system. sucks grading system booo 5 3\n",
            "\n",
            "This guy babbles about his life and all he does in the class is just going over the presentation that he scrap from the textbook. There is no reason to go to the class. Moreover, his tests are lame for no one knows what to expect from him. It's usually 15 multiple choices and 2 T-charts; multiple choices are hard!! He always reply with no manner 1 3\n",
            "\n",
            "Her lectures are straight from the book. She grades hard on speeches, which make up most of your grade. Grading system is different. However she does make herself available for help including giving out her cell phone number. No test reviews. Tests are hard and fill in the blank or paragraph. You must really understand the material. 5 3\n",
            "\n",
            "She's good in class and in lab if you ask her questions, but she isn't very useful via email questions.  The class isn't difficult if you pay attention, and she's not a tough grader.  Mid-term and final was mostly multiple choice with 2 or 3 open ended questions. 2 4\n",
            "\n",
            "She is the worst teacher i have ever had. u cannot ask &#63;s without getting a attutide in return. she makes u not want to ask &#63;s. she is very unapproachable. she does not teach on a appropriate level for basic stats. she moves threw the material quickly and doesnt not like to go back. the hw takes hrs to do. if u take stats dont take her. 1 3\n",
            "\n",
            "To much work for an online class and there is nothing easy about this class.Please don't take her! 2 4\n",
            "\n",
            "You will have to learn all the material by yourself, she simply can't teach. That aside, the class is straightforward and you know what to expect of yourself. The test is straight from the study guide, so study it intensively. She will try to help you if you ask as well as modify the class with student suggestions. She gave us lots of extra credit. 3 1\n",
            "\n",
            "I HIGHLY RECOMMEND HIM. At first, i dint like it but yo he is AWSOME! gives ALOT of makeup opportunity which will boost up ur grade. Labs NEVER last 2 hour, we always get out early and he tells you exactly what to study for his quizzes. Final was in pair and only on the last chapter. I ended up with an A. TAKE HIMMM! 5 3\n",
            "\n",
            "EASY A, but a lot of reading and final exam is 2 papers that take a long time to do! Read 5 books, keep up on reading for in class short quizzes. A lot of group work, takes attendance that way. Midterm is a powerpoint presenation about something French related. Easy Grader, nice lady! Just do the work and get an A no problem. 2 4\n",
            "\n",
            "super easy class she teaches like high school, but u must read the assigned text book MUST! her quizzes and exams are super easy they're basically vocabulary tests, and are multiple choice, overall a super easy class and nice lady 3 5\n",
            "\n",
            "I think Bolton is highly over rated. You may learn the material, but it's not worth it if you work your tail off and only get a D. Averages for tests were below 55, and he wouldn't give a concrete answer on what to expect with a grade curve. We should revert to grade school principles, where we don't need a curve to pass a course. 2 4\n",
            "\n",
            "Very cinfussing!! Very nice! Available to help, but then again, still VERY confussing! 3 1\n",
            "\n",
            "Very good professor. If you show up for class and read over notes before a quiz or test you should do well. I'd say this class is an easy B and takes some effort for an A. Overall I'd recommend, its pretty interesting. 3 5\n",
            "\n",
            "It's true she has a double Dr. but she class is so easy, and not bad.  The tests had 20 point curve! Class is so easy and not a big deal. She's just okay, but definitely take the class anyway. She's not as bad since the class is so easy. As someone who hates math, I'd recommend it 2 4\n",
            "\n",
            "A nice person but I'm still not sure what the class what about... Lectures were more like debates,  and even when some were funny and interesting, I didn't learn much in this class. 4 2\n",
            "\n",
            "very challenging class, must pay attention, test can be very confusing 4 2\n",
            "\n",
            "Why did i take this class with her. Meh shes ok and keeps the lecture interesting but honestly, take this class with Crawford if you can. Avg quiz grade was lolbad and it doesn't seem she curved like carrol, cram etc. 2 4\n",
            "\n",
            "He is a nice guy but hard to follow.  When he asks a question he shakes his head up and down when the answer is no.  He tries to confuse you. There are no calculators allowed for the majority of the test.  He expects that you have a very strong math background before taking his class Calc of Polynomials.  Avoid if possible. 4 2\n",
            "\n",
            "OK...she is easy but you need alot of time for this class. First of all she is not clear. She puts assignments all over blackboard. She is very disorganized and you must go into her class all day because she changes things all the time. I was so glad it was over because she was so messy with her assignments. Easy but a total mess! 3 1\n",
            "\n",
            "You don't really have to pay too much attention most people are on facebook. She usually drones on over her powerpoints and has class discussions that are pretty boring. The class is pretty easy overall so if you're looking to get past Film History without problems, I'd suggest her. 3 5\n",
            "\n",
            "she was pretty good with explaining the material. gave lots of extra credit and had online videos so you can look back on. all in all she was a decent teacher not that best but then again its a class of 500. 3 5\n",
            "\n",
            "Easy teacher, and a very nice lady but her class was absolutely pointless when it came time for the MPRE, did not help at all but the class was easy, which I would've it been a harder class and actually prepared me for the MPRE. 1 3\n",
            "\n",
            "Prof Pierce is a caring, funny, and inspirational teacher who is extremely passionate for the material within the class. There is not very much homework at all.. There are a few intense papers to write, but she instructs and helps you out in class. Make sure you register knowing that she expects your A game in class tho with participation! 5 3\n",
            "\n",
            "Ms. Ray was kind of hard to understand but all in all she was a great teacher as long as you did the work and understood how to write a paper. 4 2\n",
            "\n",
            "If every professor was like Aalya, I would race to class everyday! She makes the material easy to understand, and presents it in engaging ways. Participate! Projects were well explained and due in reasonable time. Having her teach my first year seminar was a great experience, as she helped us become better university students with workshops etc.  3 5\n",
            "\n",
            "Difficulty depends on the class, but be ready for one of the hardest classes of your life. It is all about preparation for Tobias. He will make you work for the grade you want. If you want to take class where you will be pushed, but at the end you will remember most of the info, take a Tobias class. 5 3\n",
            "\n",
            "Take notes on his lectures and the math problems he does in class.  Spend as little time on homework as possible, it's totally worthless for the tests.  He gives no guidance for the paper, don't worry, just muddle through it like everyone else.  Don't let him scare you, he's actually a good teacher though you won't feel like it at first. 2 4\n",
            "\n",
            "She was pretty easy. If you just attend class you'll be fine b/c she does grade attendance. You don't even have to take notes, just study the slides for the exams and it's and easy A. The project at the end takes a lot of time, but its an easy A too. I recommend her, the class was very interesting. 3 5\n",
            "\n",
            "Mr. Daugherty retired at the end of fall 2014 semester, and for good reason. He just wasn't able to keep up with what was going on. I think he worked for too long. On the positive: he gives great life advice, and has a good amount of life experience. 4 2\n",
            "\n",
            "She is great!  Print out the power points and review them regularly and you'll do great.  She always offers bonus and is very helpful.  I would purchase the picture manuals for the lab practicals and go to the extra help for them!  Wish I could take her for A&P2. 5 3\n",
            "\n",
            "She is very noce and helpful but moves really fast. She also teaches high school so she can break it down. She does not do a lot of helpful examples and are different from the test. The labs are very hard & take a lot of time (she tells you to google) You have to work vey hard for a B and even harder for an A. This is not a slack class 5 3\n",
            "\n",
            "Mrs Kim is awesome! She truly cares about her students. She does a great job explaining what she wants in all assignments and I learned so much in her class but at the same time it was super easy. Shes fun and exciting and very caring. I wish she could be my  teacher for every class. 5 3\n",
            "\n",
            "This class is easy for me because I took the higher levels before getting my GenEd goal out of the way. But I can understand how it would be frustrating if you didn't already know the material. She does make a lot of mistakes but she's not mean about answering questions. 4 2\n",
            "\n",
            "awesome prof! 5 3\n",
            "\n",
            "Really nice woman, knows what she's talking about.  Great teacher, if you need help all you have to do is ask.  Gives tons of extra credit.  Grades on a significant curve.  Goes over all homework assignments in class and then everything gets submitted on blackboard for a grade. 5 3\n",
            "\n",
            "Very dry subject with a lot of reading, I would avoid this class, although she does the best she can to make it interesting, pretty easy to skate your way through to a B/B+. She goes on rants about psychopathy which aren't really relevant but comical and slightly concerning 3 5\n",
            "\n",
            "He takes his lectures very seriously,so if you have to leave class early for any reason he will ask you why in front of the whole class.This class is easy to pass if you do the work,he provides extra credit.Although he can be confusing in the way he presents new material. 4 2\n",
            "\n",
            "she doesn't know how to teach. power point slides in class are freakin boring. her slide explanation is waste of time. shoul incorporate assignment work tiin class. doesn't help that much. i don't know other EH300 professors but she is freakin detailed at what we do on papers. don't take this class during summer it's gonna kill you a lot. 2 4\n",
            "\n",
            "Waaaayyy too much work for a core class. It's still an easy class but the lectures are pointless except when a guest comes in. And you spend the first few breakout groups doing collages and show and tell, very creative stuff 1 3\n",
            "\n",
            "She is real nice, but she is extremely scatter-brained. My entire group feels that she knows her stuff, but cannot convey her knowledge at all. Extremely hard to follow. I like her as a person, but I would not take another class from her. 3 1\n",
            "\n",
            "Salim is a great guy...he is always willing to help and meet with you. The problems I had with him is hes hard to understand, he wastes time doing things that have nothing to do with the project youre working on, when you are explaining something to him he doesnt understand, I would say things to make him leave because we would just go in circles. 4 2\n",
            "\n",
            "Okay prof. Pros: Keeps class interesting. Humorous. Knowledgeable. Cons: Arrogant. Tries to shoot down differing opinions. Claims class should be unbiased, but doesn't follow his own claim. Wouldn't personally recommend him, but most probably would. 3 5\n"
          ]
        }
      ]
    },
    {
      "cell_type": "code",
      "source": [
        "reviews = reviews[abs(reviews['clarityRating'] - reviews['helpfulRating']) <= 2] # To prevent outliers\n",
        "reviews.shape"
      ],
      "metadata": {
        "colab": {
          "base_uri": "https://localhost:8080/"
        },
        "id": "G7ESc8bqWkb5",
        "outputId": "d5bdb659-5513-42db-add4-bcdd515fac98"
      },
      "execution_count": 17,
      "outputs": [
        {
          "output_type": "execute_result",
          "data": {
            "text/plain": [
              "(593011, 9)"
            ]
          },
          "metadata": {},
          "execution_count": 17
        }
      ]
    },
    {
      "cell_type": "markdown",
      "source": [
        "## Quality Rating\n",
        "The actual rating, derived from averaging the clarityRating and the helpfulRating. \n",
        "\n",
        "Note: After 2016, qualityRating is int because of the switch to one standard rating system."
      ],
      "metadata": {
        "id": "Pbn1nFivC0rw"
      }
    },
    {
      "cell_type": "code",
      "source": [
        "reviews['qualityRating'] = (reviews['clarityRating']+reviews['helpfulRating'])/2.0"
      ],
      "metadata": {
        "colab": {
          "base_uri": "https://localhost:8080/"
        },
        "id": "o-UOqayd-wMF",
        "outputId": "44e5ca14-12ef-487a-a22b-49673f9bce94"
      },
      "execution_count": 18,
      "outputs": [
        {
          "output_type": "stream",
          "name": "stderr",
          "text": [
            "/usr/local/lib/python3.7/dist-packages/ipykernel_launcher.py:1: SettingWithCopyWarning: \n",
            "A value is trying to be set on a copy of a slice from a DataFrame.\n",
            "Try using .loc[row_indexer,col_indexer] = value instead\n",
            "\n",
            "See the caveats in the documentation: https://pandas.pydata.org/pandas-docs/stable/user_guide/indexing.html#returning-a-view-versus-a-copy\n",
            "  \"\"\"Entry point for launching an IPython kernel.\n"
          ]
        }
      ]
    },
    {
      "cell_type": "code",
      "source": [
        "reviews['qualityRating'].value_counts()"
      ],
      "metadata": {
        "colab": {
          "base_uri": "https://localhost:8080/"
        },
        "id": "68capPAk_Xss",
        "outputId": "c014337e-9913-4195-9fa8-22f819155123"
      },
      "execution_count": 19,
      "outputs": [
        {
          "output_type": "execute_result",
          "data": {
            "text/plain": [
              "5.0    239981\n",
              "4.5     78842\n",
              "4.0     70203\n",
              "1.0     60558\n",
              "2.0     35602\n",
              "3.0     34780\n",
              "3.5     26999\n",
              "1.5     25518\n",
              "2.5     20528\n",
              "Name: qualityRating, dtype: int64"
            ]
          },
          "metadata": {},
          "execution_count": 19
        }
      ]
    },
    {
      "cell_type": "code",
      "source": [
        "reviews = reviews[reviews['qualityRating'] != 3.0] # Get rid of \"neutral\" reviews\n",
        "reviews.shape"
      ],
      "metadata": {
        "colab": {
          "base_uri": "https://localhost:8080/"
        },
        "id": "OJ2EPLRo94mT",
        "outputId": "68ec79c8-3ad8-47d0-8fea-81b6d7df6363"
      },
      "execution_count": 20,
      "outputs": [
        {
          "output_type": "execute_result",
          "data": {
            "text/plain": [
              "(558231, 10)"
            ]
          },
          "metadata": {},
          "execution_count": 20
        }
      ]
    },
    {
      "cell_type": "markdown",
      "source": [
        "# Comment EDA"
      ],
      "metadata": {
        "id": "S-u-m1adDPrG"
      }
    },
    {
      "cell_type": "markdown",
      "source": [
        "## Null values"
      ],
      "metadata": {
        "id": "B1YmXVwLDKM9"
      }
    },
    {
      "cell_type": "code",
      "source": [
        "print(reviews.shape)\n",
        "# drop rows with the placeholder \"No Comments\"\n",
        "reviews = reviews[reviews[\"comment\"] != \"No Comments\"]\n",
        "\n",
        "# drop rows containing NaN comment\n",
        "reviews.dropna(subset=[\"comment\"], inplace=True)\n",
        "reviews.shape"
      ],
      "metadata": {
        "id": "hrcfo5XbD-vo",
        "colab": {
          "base_uri": "https://localhost:8080/"
        },
        "outputId": "3928d92d-8ee7-437a-838c-9c672eff7d2d"
      },
      "execution_count": 21,
      "outputs": [
        {
          "output_type": "stream",
          "name": "stdout",
          "text": [
            "(558231, 10)\n"
          ]
        },
        {
          "output_type": "execute_result",
          "data": {
            "text/plain": [
              "(549574, 10)"
            ]
          },
          "metadata": {},
          "execution_count": 21
        }
      ]
    },
    {
      "cell_type": "markdown",
      "source": [
        "## Duplicates"
      ],
      "metadata": {
        "id": "ziQCHKsnDNsl"
      }
    },
    {
      "cell_type": "code",
      "source": [
        "dupes = reviews[reviews.duplicated(subset=['comment'], keep=False)]\n",
        "dupes.shape"
      ],
      "metadata": {
        "colab": {
          "base_uri": "https://localhost:8080/"
        },
        "id": "00lAZVGoEAyd",
        "outputId": "969df142-d449-400a-90b8-d5f4511c7794"
      },
      "execution_count": 22,
      "outputs": [
        {
          "output_type": "execute_result",
          "data": {
            "text/plain": [
              "(9714, 10)"
            ]
          },
          "metadata": {},
          "execution_count": 22
        }
      ]
    },
    {
      "cell_type": "code",
      "source": [
        "sns.displot(dupes['comment'].str.len(), kde=False, bins=40)"
      ],
      "metadata": {
        "colab": {
          "base_uri": "https://localhost:8080/",
          "height": 386
        },
        "id": "rx7WUFgYYUj2",
        "outputId": "407025f2-74f0-47b0-ae80-64eafcc3d6ee"
      },
      "execution_count": 23,
      "outputs": [
        {
          "output_type": "execute_result",
          "data": {
            "text/plain": [
              "<seaborn.axisgrid.FacetGrid at 0x7f7719a93610>"
            ]
          },
          "metadata": {},
          "execution_count": 23
        },
        {
          "output_type": "display_data",
          "data": {
            "text/plain": [
              "<Figure size 360x360 with 1 Axes>"
            ],
            "image/png": "[encoded data removed]"
          },
          "metadata": {
            "needs_background": "light"
          }
        }
      ]
    },
    {
      "cell_type": "code",
      "source": [
        "dupes = dupes.groupby(['comment', 'professor_id'])\n",
        "dupes.first()"
      ],
      "metadata": {
        "colab": {
          "base_uri": "https://localhost:8080/",
          "height": 953
        },
        "id": "r3Y3bU1bEbtW",
        "outputId": "70f77d08-9acb-4b85-e1f7-677565193338"
      },
      "execution_count": 24,
      "outputs": [
        {
          "output_type": "execute_result",
          "data": {
            "text/plain": [
              "                                                                        firstName  \\\n",
              "comment                                            professor_id                     \n",
              "                                                   VGVhY2hlci05NzY0MDE=    Travis   \n",
              "                                                   VGVhY2hlci0xMTU0NTgy  Ehikioya   \n",
              "                                                   VGVhY2hlci0xMjk1OTQ0   Matthew   \n",
              "                                                   VGVhY2hlci0xMjk2OTEy      John   \n",
              "                                                   VGVhY2hlci0xMzA0MjE4    Pamela   \n",
              "...                                                                           ...   \n",
              "wow                                                VGVhY2hlci0xMjUwNDI4  Jerry L.   \n",
              "                                                   VGVhY2hlci0xMzM1Mjc5     Scott   \n",
              "you have to do 10 one page movie assignments an... VGVhY2hlci0xMjUzMDMz     Frank   \n",
              "you'll learn a lot!                                VGVhY2hlci05Nzk2MDY=   Barbara   \n",
              "                                                   VGVhY2hlci0xMjgxNTkw      Noel   \n",
              "\n",
              "                                                                               lastName  \\\n",
              "comment                                            professor_id                           \n",
              "                                                   VGVhY2hlci05NzY0MDE=         Silvers   \n",
              "                                                   VGVhY2hlci0xMTU0NTgy         Agboaye   \n",
              "                                                   VGVhY2hlci0xMjk1OTQ0         Ianucci   \n",
              "                                                   VGVhY2hlci0xMjk2OTEy         Persico   \n",
              "                                                   VGVhY2hlci0xMzA0MjE4  Gordon-Johnson   \n",
              "...                                                                                 ...   \n",
              "wow                                                VGVhY2hlci0xMjUwNDI4          Rouser   \n",
              "                                                   VGVhY2hlci0xMzM1Mjc5       King-Owen   \n",
              "you have to do 10 one page movie assignments an... VGVhY2hlci0xMjUzMDMz        Espinoza   \n",
              "you'll learn a lot!                                VGVhY2hlci05Nzk2MDY=         Bartkus   \n",
              "                                                   VGVhY2hlci0xMjgxNTkw         Plourde   \n",
              "\n",
              "                                                                        prof_class  \\\n",
              "comment                                            professor_id                      \n",
              "                                                   VGVhY2hlci05NzY0MDE=  MUSIC030A   \n",
              "                                                   VGVhY2hlci0xMTU0NTgy   GOVT1302   \n",
              "                                                   VGVhY2hlci0xMjk1OTQ0     SSC101   \n",
              "                                                   VGVhY2hlci0xMjk2OTEy   MANAG310   \n",
              "                                                   VGVhY2hlci0xMzA0MjE4     ECE201   \n",
              "...                                                                            ...   \n",
              "wow                                                VGVhY2hlci0xMjUwNDI4    YAS1231   \n",
              "                                                   VGVhY2hlci0xMzM1Mjc5   PHILO131   \n",
              "you have to do 10 one page movie assignments an... VGVhY2hlci0xMjUzMDMz   PSYCH001   \n",
              "you'll learn a lot!                                VGVhY2hlci05Nzk2MDY=    MGMT485   \n",
              "                                                   VGVhY2hlci0xMjgxNTkw     ENG131   \n",
              "\n",
              "                                                                                             date  \\\n",
              "comment                                            professor_id                                     \n",
              "                                                   VGVhY2hlci05NzY0MDE= 2022-05-14 04:54:30+00:00   \n",
              "                                                   VGVhY2hlci0xMTU0NTgy 2022-05-19 03:23:55+00:00   \n",
              "                                                   VGVhY2hlci0xMjk1OTQ0 2022-05-04 20:33:00+00:00   \n",
              "                                                   VGVhY2hlci0xMjk2OTEy 2022-07-20 19:03:06+00:00   \n",
              "                                                   VGVhY2hlci0xMzA0MjE4 2022-04-25 23:57:01+00:00   \n",
              "...                                                                                           ...   \n",
              "wow                                                VGVhY2hlci0xMjUwNDI4 2014-08-27 11:47:36+00:00   \n",
              "                                                   VGVhY2hlci0xMzM1Mjc5 2012-02-01 00:23:36+00:00   \n",
              "you have to do 10 one page movie assignments an... VGVhY2hlci0xMjUzMDMz 2010-04-13 23:15:29+00:00   \n",
              "you'll learn a lot!                                VGVhY2hlci05Nzk2MDY= 2011-05-14 15:09:15+00:00   \n",
              "                                                   VGVhY2hlci0xMjgxNTkw 2009-12-25 17:53:13+00:00   \n",
              "\n",
              "                                                                         clarityRating  \\\n",
              "comment                                            professor_id                          \n",
              "                                                   VGVhY2hlci05NzY0MDE=              5   \n",
              "                                                   VGVhY2hlci0xMTU0NTgy              5   \n",
              "                                                   VGVhY2hlci0xMjk1OTQ0              5   \n",
              "                                                   VGVhY2hlci0xMjk2OTEy              1   \n",
              "                                                   VGVhY2hlci0xMzA0MjE4              5   \n",
              "...                                                                                ...   \n",
              "wow                                                VGVhY2hlci0xMjUwNDI4              1   \n",
              "                                                   VGVhY2hlci0xMzM1Mjc5              1   \n",
              "you have to do 10 one page movie assignments an... VGVhY2hlci0xMjUzMDMz              1   \n",
              "you'll learn a lot!                                VGVhY2hlci05Nzk2MDY=              5   \n",
              "                                                   VGVhY2hlci0xMjgxNTkw              5   \n",
              "\n",
              "                                                                         helpfulRating  \\\n",
              "comment                                            professor_id                          \n",
              "                                                   VGVhY2hlci05NzY0MDE=              5   \n",
              "                                                   VGVhY2hlci0xMTU0NTgy              5   \n",
              "                                                   VGVhY2hlci0xMjk1OTQ0              5   \n",
              "                                                   VGVhY2hlci0xMjk2OTEy              1   \n",
              "                                                   VGVhY2hlci0xMzA0MjE4              5   \n",
              "...                                                                                ...   \n",
              "wow                                                VGVhY2hlci0xMjUwNDI4              1   \n",
              "                                                   VGVhY2hlci0xMzM1Mjc5              1   \n",
              "you have to do 10 one page movie assignments an... VGVhY2hlci0xMjUzMDMz              1   \n",
              "you'll learn a lot!                                VGVhY2hlci05Nzk2MDY=              5   \n",
              "                                                   VGVhY2hlci0xMjgxNTkw              5   \n",
              "\n",
              "                                                                                   comment_id  \\\n",
              "comment                                            professor_id                                 \n",
              "                                                   VGVhY2hlci05NzY0MDE=  UmF0aW5nLTM2MzM2OTcz   \n",
              "                                                   VGVhY2hlci0xMTU0NTgy  UmF0aW5nLTM2MzcyNzM4   \n",
              "                                                   VGVhY2hlci0xMjk1OTQ0  UmF0aW5nLTM2MjQzMTEy   \n",
              "                                                   VGVhY2hlci0xMjk2OTEy  UmF0aW5nLTM2NTMxODg1   \n",
              "                                                   VGVhY2hlci0xMzA0MjE4  UmF0aW5nLTM2MTUxODE4   \n",
              "...                                                                                       ...   \n",
              "wow                                                VGVhY2hlci0xMjUwNDI4  UmF0aW5nLTIzNTYwOTQ3   \n",
              "                                                   VGVhY2hlci0xMzM1Mjc5  UmF0aW5nLTE5NzkwMzkx   \n",
              "you have to do 10 one page movie assignments an... VGVhY2hlci0xMjUzMDMz  UmF0aW5nLTE2OTkxNzI2   \n",
              "you'll learn a lot!                                VGVhY2hlci05Nzk2MDY=  UmF0aW5nLTE4NjAxNDk0   \n",
              "                                                   VGVhY2hlci0xMjgxNTkw  UmF0aW5nLTE2NjQwMTAy   \n",
              "\n",
              "                                                                         qualityRating  \n",
              "comment                                            professor_id                         \n",
              "                                                   VGVhY2hlci05NzY0MDE=            5.0  \n",
              "                                                   VGVhY2hlci0xMTU0NTgy            5.0  \n",
              "                                                   VGVhY2hlci0xMjk1OTQ0            5.0  \n",
              "                                                   VGVhY2hlci0xMjk2OTEy            1.0  \n",
              "                                                   VGVhY2hlci0xMzA0MjE4            5.0  \n",
              "...                                                                                ...  \n",
              "wow                                                VGVhY2hlci0xMjUwNDI4            1.0  \n",
              "                                                   VGVhY2hlci0xMzM1Mjc5            1.0  \n",
              "you have to do 10 one page movie assignments an... VGVhY2hlci0xMjUzMDMz            1.0  \n",
              "you'll learn a lot!                                VGVhY2hlci05Nzk2MDY=            5.0  \n",
              "                                                   VGVhY2hlci0xMjgxNTkw            5.0  \n",
              "\n",
              "[9225 rows x 8 columns]"
            ],
            "text/html": [
              "\n",
              "  <div id=\"df-02d12f77-5f42-4a7a-946f-00315412c3bd\">\n",
              "    <div class=\"colab-df-container\">\n",
              "      <div>\n",
              "<style scoped>\n",
              "    .dataframe tbody tr th:only-of-type {\n",
              "        vertical-align: middle;\n",
              "    }\n",
              "\n",
              "    .dataframe tbody tr th {\n",
              "        vertical-align: top;\n",
              "    }\n",
              "\n",
              "    .dataframe thead th {\n",
              "        text-align: right;\n",
              "    }\n",
              "</style>\n",
              "<table border=\"1\" class=\"dataframe\">\n",
              "  <thead>\n",
              "    <tr style=\"text-align: right;\">\n",
              "      <th></th>\n",
              "      <th></th>\n",
              "      <th>firstName</th>\n",
              "      <th>lastName</th>\n",
              "      <th>prof_class</th>\n",
              "      <th>date</th>\n",
              "      <th>clarityRating</th>\n",
              "      <th>helpfulRating</th>\n",
              "      <th>comment_id</th>\n",
              "      <th>qualityRating</th>\n",
              "    </tr>\n",
              "    <tr>\n",
              "      <th>comment</th>\n",
              "      <th>professor_id</th>\n",
              "      <th></th>\n",
              "      <th></th>\n",
              "      <th></th>\n",
              "      <th></th>\n",
              "      <th></th>\n",
              "      <th></th>\n",
              "      <th></th>\n",
              "      <th></th>\n",
              "    </tr>\n",
              "  </thead>\n",
              "  <tbody>\n",
              "    <tr>\n",
              "      <th rowspan=\"5\" valign=\"top\"></th>\n",
              "      <th>VGVhY2hlci05NzY0MDE=</th>\n",
              "      <td>Travis</td>\n",
              "      <td>Silvers</td>\n",
              "      <td>MUSIC030A</td>\n",
              "      <td>2022-05-14 04:54:30+00:00</td>\n",
              "      <td>5</td>\n",
              "      <td>5</td>\n",
              "      <td>UmF0aW5nLTM2MzM2OTcz</td>\n",
              "      <td>5.0</td>\n",
              "    </tr>\n",
              "    <tr>\n",
              "      <th>VGVhY2hlci0xMTU0NTgy</th>\n",
              "      <td>Ehikioya</td>\n",
              "      <td>Agboaye</td>\n",
              "      <td>GOVT1302</td>\n",
              "      <td>2022-05-19 03:23:55+00:00</td>\n",
              "      <td>5</td>\n",
              "      <td>5</td>\n",
              "      <td>UmF0aW5nLTM2MzcyNzM4</td>\n",
              "      <td>5.0</td>\n",
              "    </tr>\n",
              "    <tr>\n",
              "      <th>VGVhY2hlci0xMjk1OTQ0</th>\n",
              "      <td>Matthew</td>\n",
              "      <td>Ianucci</td>\n",
              "      <td>SSC101</td>\n",
              "      <td>2022-05-04 20:33:00+00:00</td>\n",
              "      <td>5</td>\n",
              "      <td>5</td>\n",
              "      <td>UmF0aW5nLTM2MjQzMTEy</td>\n",
              "      <td>5.0</td>\n",
              "    </tr>\n",
              "    <tr>\n",
              "      <th>VGVhY2hlci0xMjk2OTEy</th>\n",
              "      <td>John</td>\n",
              "      <td>Persico</td>\n",
              "      <td>MANAG310</td>\n",
              "      <td>2022-07-20 19:03:06+00:00</td>\n",
              "      <td>1</td>\n",
              "      <td>1</td>\n",
              "      <td>UmF0aW5nLTM2NTMxODg1</td>\n",
              "      <td>1.0</td>\n",
              "    </tr>\n",
              "    <tr>\n",
              "      <th>VGVhY2hlci0xMzA0MjE4</th>\n",
              "      <td>Pamela</td>\n",
              "      <td>Gordon-Johnson</td>\n",
              "      <td>ECE201</td>\n",
              "      <td>2022-04-25 23:57:01+00:00</td>\n",
              "      <td>5</td>\n",
              "      <td>5</td>\n",
              "      <td>UmF0aW5nLTM2MTUxODE4</td>\n",
              "      <td>5.0</td>\n",
              "    </tr>\n",
              "    <tr>\n",
              "      <th>...</th>\n",
              "      <th>...</th>\n",
              "      <td>...</td>\n",
              "      <td>...</td>\n",
              "      <td>...</td>\n",
              "      <td>...</td>\n",
              "      <td>...</td>\n",
              "      <td>...</td>\n",
              "      <td>...</td>\n",
              "      <td>...</td>\n",
              "    </tr>\n",
              "    <tr>\n",
              "      <th rowspan=\"2\" valign=\"top\">wow</th>\n",
              "      <th>VGVhY2hlci0xMjUwNDI4</th>\n",
              "      <td>Jerry L.</td>\n",
              "      <td>Rouser</td>\n",
              "      <td>YAS1231</td>\n",
              "      <td>2014-08-27 11:47:36+00:00</td>\n",
              "      <td>1</td>\n",
              "      <td>1</td>\n",
              "      <td>UmF0aW5nLTIzNTYwOTQ3</td>\n",
              "      <td>1.0</td>\n",
              "    </tr>\n",
              "    <tr>\n",
              "      <th>VGVhY2hlci0xMzM1Mjc5</th>\n",
              "      <td>Scott</td>\n",
              "      <td>King-Owen</td>\n",
              "      <td>PHILO131</td>\n",
              "      <td>2012-02-01 00:23:36+00:00</td>\n",
              "      <td>1</td>\n",
              "      <td>1</td>\n",
              "      <td>UmF0aW5nLTE5NzkwMzkx</td>\n",
              "      <td>1.0</td>\n",
              "    </tr>\n",
              "    <tr>\n",
              "      <th>you have to do 10 one page movie assignments and your regular 80 question test midterm final all that good stuff. He tells the same stories and is kinda rude and a ****. Not approachable at all.</th>\n",
              "      <th>VGVhY2hlci0xMjUzMDMz</th>\n",
              "      <td>Frank</td>\n",
              "      <td>Espinoza</td>\n",
              "      <td>PSYCH001</td>\n",
              "      <td>2010-04-13 23:15:29+00:00</td>\n",
              "      <td>1</td>\n",
              "      <td>1</td>\n",
              "      <td>UmF0aW5nLTE2OTkxNzI2</td>\n",
              "      <td>1.0</td>\n",
              "    </tr>\n",
              "    <tr>\n",
              "      <th rowspan=\"2\" valign=\"top\">you'll learn a lot!</th>\n",
              "      <th>VGVhY2hlci05Nzk2MDY=</th>\n",
              "      <td>Barbara</td>\n",
              "      <td>Bartkus</td>\n",
              "      <td>MGMT485</td>\n",
              "      <td>2011-05-14 15:09:15+00:00</td>\n",
              "      <td>5</td>\n",
              "      <td>5</td>\n",
              "      <td>UmF0aW5nLTE4NjAxNDk0</td>\n",
              "      <td>5.0</td>\n",
              "    </tr>\n",
              "    <tr>\n",
              "      <th>VGVhY2hlci0xMjgxNTkw</th>\n",
              "      <td>Noel</td>\n",
              "      <td>Plourde</td>\n",
              "      <td>ENG131</td>\n",
              "      <td>2009-12-25 17:53:13+00:00</td>\n",
              "      <td>5</td>\n",
              "      <td>5</td>\n",
              "      <td>UmF0aW5nLTE2NjQwMTAy</td>\n",
              "      <td>5.0</td>\n",
              "    </tr>\n",
              "  </tbody>\n",
              "</table>\n",
              "<p>9225 rows × 8 columns</p>\n",
              "</div>\n",
              "      <button class=\"colab-df-convert\" onclick=\"convertToInteractive('df-02d12f77-5f42-4a7a-946f-00315412c3bd')\"\n",
              "              title=\"Convert this dataframe to an interactive table.\"\n",
              "              style=\"display:none;\">\n",
              "        \n",
              "  <svg xmlns=\"http://www.w3.org/2000/svg\" height=\"24px\"viewBox=\"0 0 24 24\"\n",
              "       width=\"24px\">\n",
              "    <path d=\"M0 0h24v24H0V0z\" fill=\"none\"/>\n",
              "    <path d=\"M18.56 5.44l.94 2.06.94-2.06 2.06-.94-2.06-.94-.94-2.06-.94 2.06-2.06.94zm-11 1L8.5 8.5l.94-2.06 2.06-.94-2.06-.94L8.5 2.5l-.94 2.06-2.06.94zm10 10l.94 2.06.94-2.06 2.06-.94-2.06-.94-.94-2.06-.94 2.06-2.06.94z\"/><path d=\"M17.41 7.96l-1.37-1.37c-.4-.4-.92-.59-1.43-.59-.52 0-1.04.2-1.43.59L10.3 9.45l-7.72 7.72c-.78.78-.78 2.05 0 2.83L4 21.41c.39.39.9.59 1.41.59.51 0 1.02-.2 1.41-.59l7.78-7.78 2.81-2.81c.8-.78.8-2.07 0-2.86zM5.41 20L4 18.59l7.72-7.72 1.47 1.35L5.41 20z\"/>\n",
              "  </svg>\n",
              "      </button>\n",
              "      \n",
              "  <style>\n",
              "    .colab-df-container {\n",
              "      display:flex;\n",
              "      flex-wrap:wrap;\n",
              "      gap: 12px;\n",
              "    }\n",
              "\n",
              "    .colab-df-convert {\n",
              "      background-color: #E8F0FE;\n",
              "      border: none;\n",
              "      border-radius: 50%;\n",
              "      cursor: pointer;\n",
              "      display: none;\n",
              "      fill: #1967D2;\n",
              "      height: 32px;\n",
              "      padding: 0 0 0 0;\n",
              "      width: 32px;\n",
              "    }\n",
              "\n",
              "    .colab-df-convert:hover {\n",
              "      background-color: #E2EBFA;\n",
              "      box-shadow: 0px 1px 2px rgba(60, 64, 67, 0.3), 0px 1px 3px 1px rgba(60, 64, 67, 0.15);\n",
              "      fill: #174EA6;\n",
              "    }\n",
              "\n",
              "    [theme=dark] .colab-df-convert {\n",
              "      background-color: #3B4455;\n",
              "      fill: #D2E3FC;\n",
              "    }\n",
              "\n",
              "    [theme=dark] .colab-df-convert:hover {\n",
              "      background-color: #434B5C;\n",
              "      box-shadow: 0px 1px 3px 1px rgba(0, 0, 0, 0.15);\n",
              "      filter: drop-shadow(0px 1px 2px rgba(0, 0, 0, 0.3));\n",
              "      fill: #FFFFFF;\n",
              "    }\n",
              "  </style>\n",
              "\n",
              "      <script>\n",
              "        const buttonEl =\n",
              "          document.querySelector('#df-02d12f77-5f42-4a7a-946f-00315412c3bd button.colab-df-convert');\n",
              "        buttonEl.style.display =\n",
              "          google.colab.kernel.accessAllowed ? 'block' : 'none';\n",
              "\n",
              "        async function convertToInteractive(key) {\n",
              "          const element = document.querySelector('#df-02d12f77-5f42-4a7a-946f-00315412c3bd');\n",
              "          const dataTable =\n",
              "            await google.colab.kernel.invokeFunction('convertToInteractive',\n",
              "                                                     [key], {});\n",
              "          if (!dataTable) return;\n",
              "\n",
              "          const docLinkHtml = 'Like what you see? Visit the ' +\n",
              "            '<a target=\"_blank\" href=https://colab.research.google.com/notebooks/data_table.ipynb>data table notebook</a>'\n",
              "            + ' to learn more about interactive tables.';\n",
              "          element.innerHTML = '';\n",
              "          dataTable['output_type'] = 'display_data';\n",
              "          await google.colab.output.renderOutput(dataTable, element);\n",
              "          const docLink = document.createElement('div');\n",
              "          docLink.innerHTML = docLinkHtml;\n",
              "          element.appendChild(docLink);\n",
              "        }\n",
              "      </script>\n",
              "    </div>\n",
              "  </div>\n",
              "  "
            ]
          },
          "metadata": {},
          "execution_count": 24
        }
      ]
    },
    {
      "cell_type": "code",
      "source": [],
      "metadata": {
        "id": "Hhjp8OVmYNcX"
      },
      "execution_count": 24,
      "outputs": []
    },
    {
      "cell_type": "code",
      "source": [
        "reviews.drop_duplicates(subset=['comment'], keep='first', inplace=True)\n",
        "reviews.shape"
      ],
      "metadata": {
        "colab": {
          "base_uri": "https://localhost:8080/"
        },
        "id": "jxbhtzHIGkrj",
        "outputId": "6d4050b8-fb4a-4cb1-dca0-0ecf2e076116"
      },
      "execution_count": 25,
      "outputs": [
        {
          "output_type": "execute_result",
          "data": {
            "text/plain": [
              "(541988, 10)"
            ]
          },
          "metadata": {},
          "execution_count": 25
        }
      ]
    },
    {
      "cell_type": "markdown",
      "source": [
        "## Comment Lengths"
      ],
      "metadata": {
        "id": "j1EHr0vdJsqn"
      }
    },
    {
      "cell_type": "code",
      "source": [
        "comment_lengths = reviews['comment'].astype(str).str.len() # .astype(str) needed for some reason to actually get int values\n",
        "comment_length_cnts = comment_lengths.value_counts()\n",
        "comment_length_cnts"
      ],
      "metadata": {
        "colab": {
          "base_uri": "https://localhost:8080/"
        },
        "id": "x_mFPMS__QAw",
        "outputId": "cd3ae741-713e-47a7-ae60-cb7ee5885b2e"
      },
      "execution_count": 26,
      "outputs": [
        {
          "output_type": "execute_result",
          "data": {
            "text/plain": [
              "350    25707\n",
              "349    13855\n",
              "348    10764\n",
              "347     9358\n",
              "346     8060\n",
              "       ...  \n",
              "448        1\n",
              "468        1\n",
              "723        1\n",
              "429        1\n",
              "766        1\n",
              "Name: comment, Length: 536, dtype: int64"
            ]
          },
          "metadata": {},
          "execution_count": 26
        }
      ]
    },
    {
      "cell_type": "code",
      "source": [
        "comment_lengths.describe()"
      ],
      "metadata": {
        "colab": {
          "base_uri": "https://localhost:8080/"
        },
        "id": "IZdH3MoXAL5j",
        "outputId": "9b6eb80a-2ec4-47ea-90c2-4dcce3cea053"
      },
      "execution_count": 27,
      "outputs": [
        {
          "output_type": "execute_result",
          "data": {
            "text/plain": [
              "count    541988.000000\n",
              "mean        229.041494\n",
              "std         102.635086\n",
              "min           1.000000\n",
              "25%         147.000000\n",
              "50%         244.000000\n",
              "75%         330.000000\n",
              "max        1678.000000\n",
              "Name: comment, dtype: float64"
            ]
          },
          "metadata": {},
          "execution_count": 27
        }
      ]
    },
    {
      "cell_type": "code",
      "source": [
        "sns.displot(comment_lengths, kde=False, bins=40)"
      ],
      "metadata": {
        "colab": {
          "base_uri": "https://localhost:8080/",
          "height": 386
        },
        "id": "5-ASvTf-_urV",
        "outputId": "30461aad-dfbc-40e1-d1c4-4478a32af52d"
      },
      "execution_count": 28,
      "outputs": [
        {
          "output_type": "execute_result",
          "data": {
            "text/plain": [
              "<seaborn.axisgrid.FacetGrid at 0x7f7716f70f10>"
            ]
          },
          "metadata": {},
          "execution_count": 28
        },
        {
          "output_type": "display_data",
          "data": {
            "text/plain": [
              "<Figure size 360x360 with 1 Axes>"
            ],
            "image/png": "[encoded data removed]"
          },
          "metadata": {
            "needs_background": "light"
          }
        }
      ]
    },
    {
      "cell_type": "code",
      "source": [
        "very_long_reviews = reviews[reviews['comment'].str.len() >= 500]\n",
        "very_long_reviews.shape # Only 35 from the sample of 600,000; debateable whether they should be removed or not, considered outliers?"
      ],
      "metadata": {
        "colab": {
          "base_uri": "https://localhost:8080/"
        },
        "id": "4klDSn0n_43u",
        "outputId": "0ccc1ca0-4ce4-4773-c64b-ee730c9b2f14"
      },
      "execution_count": 29,
      "outputs": [
        {
          "output_type": "execute_result",
          "data": {
            "text/plain": [
              "(55, 10)"
            ]
          },
          "metadata": {},
          "execution_count": 29
        }
      ]
    },
    {
      "cell_type": "code",
      "source": [
        "for comment in very_long_reviews['comment']:\n",
        "  print(comment)\n",
        "  print()"
      ],
      "metadata": {
        "colab": {
          "base_uri": "https://localhost:8080/"
        },
        "id": "EuFdxla2__24",
        "outputId": "5eae4dbd-3973-4dc9-e8c6-91b96e7e2fe1"
      },
      "execution_count": 30,
      "outputs": [
        {
          "output_type": "stream",
          "name": "stdout",
          "text": [
            "It's not the easiest class, but I loved it! Tests are mostly multiple choice with some blue book essays, take A LOT of notes and study and you'll be fine. She is fair, but you definitely want to be on her good side- easy to do, just pay attention, be engaged and work hard. She knows her subject VERY well. She has a no-nonsense attitude which can come off as curt, but shes actually really nice if you are. Think about a question before asking, she doesn't like to be interrupted for trivial things.\n",
            "\n",
            "theShe is very sweet and caring and she knows her stuff. However does not know how to teach it. Her lectures are not clear and sometimes she has to stop and think if she is correct. I know everyone is not perfect but you think with her experience she would be a little better. I didn't pass this class for two reasons one being that I didn't study like i should have and two things were not always clear. Majority of the people in the class thought the same thing. There were some really good students in the class and they didn't even pass with with flying colors. \n",
            "\n",
            "He works for Merrill Lynch which is now owned by Bank of America a their investing division. The book is very in depth in relation to investment and he is very knowledgeable. You can go without reading the material if you attend every class and still get an A because he does allow extra credit and adds only a little more content which is not in the book which has all the notes you would need. I am already Finra licensed series 6 and 63 and I learned a lot which would be Ina series 7 and 66 exam.\n",
            "\n",
            "Great class in many aspects highly recommend if need another Humanities course.  Class is very simple as long as prepare for class by taking notes, listening to music, studying information, and  getting involved.  Some students didn't care for dry sense of humor on wrong answers and may seem conceited, but overall cares about the class and wants students to learn information and do well.  Sometimes the dry humor was what was needed to get a laugh during lecture, but highly recommend overall.  Would take another class with him if able to and for the ladies a hottie...Great job..\n",
            "\n",
            "Do not take this class online. He puts zero effort into teaching you anything. You follow an online class and then are expected to write a 12 page research paper. This is an intro course. I wrote just about as much in this class as I did in my English class. Pathetic. Not to mention if you are late at all with anything during the semester you will be retaking the class because he doesn't care about anything that might come up. If you write the 12 page paper and turn it in 10 min late, you get a 0.\n",
            "\n",
            "I love Dr. Garcia! She's a very nice, approachable , and understanding instructor. I am in bio major and I love this class so much! But, if you aim at a easy-A class, I'm not sure if this is the right one for you. There will be homework, some papers, quizzes, and prelab on no-exam days; if there is an exam coming, you have to study hard. A is not impossible, because I'm the A student in her class. I got one 100%, one 99% and one 94% on exams so far. A is possible but I did study hard; don't look at my grade and assume everything will be easy since only 2 people got an A and half of my classmates got Cs or failed when I got 99%. I'm telling this because I don't want you to get tricked by my grades. She does curve, depending on the highest score. The most important thing is to read the book, study the notes, memorize everything you need to memorize. Her study guide helps a lot. But again, I did study hard; I am always the 100% student in bio class but this one, I have to study hard to get an A. If you are such a person like me, you should have no difficulty to nail this class; but if you are not, you may straggle in this class. I will say mesmerizing is important but passion is more important. I am good at bio because I love biology from my heart, not because I can memorize the whole book; no one can memorize the whole book. Strictly memorizing will not work unless you have no difficulty in memorizing 1.5k pages; try to understand the content itself rather than strictly memorizing. If you don't understand the content, you will mess them up since there is too much. Memorizing and understanding are the most important things -- of course, this is biology.\n",
            "\n",
            "Quinn is Amazing! she is fair to every single student in the class. i thought i was a horrible writter before this class because it would always take me like a week to write one paper, but Quinn made me such a better writter. now it only takes me like four hours to write a ten page paper. assignments in this class are journals(super easy) and she has two books but you dont really need them, just look over your classmates book, and then  you have a couple papers and then one ten page paper at the end, but the good thing is, that she gives you topics that are actually interesting to write about, other then that no other assignments or tests. i wanted to take her for engwr 302 but she wasnt teaching it this semester. i know she reads these rate my professor things, so Quinn I love you! lol such a great teacher. p.s. i think everyone got an A in her class. \n",
            "\n",
            "Attendance: 3 Free absences, the rest will cost you.  Weekly quizzes due on Friday, every Friday.\r\n",
            " Personality: Friendly, approachable.\r\n",
            " Teaching Style: Power-point, youtube, lecture format.\r\n",
            " Tests: Tests are multiple choice and are fairly easy if you match the power-points with the book, usually has bonus points.\r\n",
            " Project: One big research paper or equivalent due during the semester.\r\n",
            " Speaking ability: She is a little weaker in this area, says umm A LOT and stammers through readings.\r\n",
            " Overall, a good prof.\n",
            "\n",
            "His whole class is just lectures and he makes them fun and interesting. Tends to go off topic but he tells interesting stories. The grade is based on 3 quizzes a paper and a final which is exactly the 3 quizzes. As long as you pay attention in class and don't do any of the reading you should get a B and if you read a little you should easily get an A. One of the best history teachers at SMC and I recommend taking him. You'll definitely learn a lot and he's there to help you. MUST TAKE!!!!!!!!!!!\n",
            "\n",
            "This class is a writing class. Your subject being art get ready to write. In This class you will write like you are taking your Master classes for english. You will have class projects, and most of your classmates bail on you. But, as long as you do what she says you will get good grades. I made a A in her class.All papers are three of more pages.Also you will have to travel around town to find things to write about. The killer is the 15 page paper.You dont even get to choose who your going to write about.\n",
            "\n",
            "Dr. Jator is very helpful and nice. The thing that hurts the class is her exams. If you basically go through the book she provides highlight, make flashcards, and really take the time to study then you should pass; I really enjoyed the class. She always has a small quiz before her exams that can give up to 5 or 6 points towards your exam grade, which helps a lot. Also, going through the questions after each chapter helps with the test. I found out that her exam questions come from the book and not much from the slides. Tough but well worth the studying.\n",
            "\n",
            "One of the greatest teacher I've ever had. I took her 8 week online class for COM101 and she was very friendly and always helpful. She does reply your e-mail quick and she does everything to make sure you understand the assignment. I loved her class and her it was interesting assignments. She will give you every opportunity to get a better grade and she is always avaliable to help. I would recomend her to anyone that have to take COM101 or for any communication classes. BEST TEACHER at FLO-Valley. \n",
            "\n",
            "The most horrible experience I have ever had with any of my classes and I now have 36 credits. Don't bother buying the book, he does not use it at all, only the notes from the power points that he uses in the class. Why he does not put them on Black Board is beyond me. No study guide!  His class is very confussing; there are no guide lines to go by.  He also taught at a University and was basically rated the same way.  One can spend a lot of time in the class and still not do well. I did my research on him and most students that has taken his class failed or withdrew.  There are better teachers out there that want to see students pass.\n",
            "\n",
            "I had her for both A&P 1 and II. Yes, the classes are hard no matter who you take, but she is definitely easier that other teachers.  I tried to take the same class with another teacher and had to drop. I took with her, and made an A.   All you have to do is really study the class notes that she already has written for you, and you will do well on the lecture exams.  She really cares about her students and offers a lot of extra credit and emails each student their class average and what they will need on the final to get a certain grade. \n",
            "\n",
            "Took the class because of RMP and I needed it to graduate. I had a 3.0 GPA and let him know before class that I needed a B to graduate to keep my 3.0. I was the only one to sit on the front row each class, never missed class and was the leader of my E2B group, yet I still received a C+ because my team members were clickish and was upset that I would \"hang out\" with them, hence gave me a bad evaluation and his test were ambiguous. I sent in proof that most of my answers were correct, yet he did not change the grade ( he will tell you day one that he will not, regardless of mistakes). If you take him, make sure you are in a place where your GPA can fall a little, because now I don't know if I can graduate......\n",
            "\n",
            "This teacher really isn't difficult. He requires you to use your mind. To be honest if you try and show up to class you will get an B at least. This class was comm. 1 it helps you prepare for real life situations. Although sometimes his atitude is cocky. That prolly comes from a severe lost o weight which he will mention in is class. But that's completely off topic. This teacher educates you do you know the subject not just memorize it so overall he is a great teacher I you actually wanna learn.\n",
            "\n",
            "Prof Meer is probably the perfect instructor for a student majoring in something non-creative who is taking a mandatory class heshe is not really interested in.  If one does the work, heshe will be successful in the class.  As others have stated, there are incorrect dates, confusing and sometimes contradictory instructions, last minute grading, etc.; but really, if one has just a little bit of sense, can refrain from freaking out just because the insructor hasn't answered any questions, and just do the assignments to the best of one's ability, heshe will have no problems and probably walk away with a better than expected grade.  If one is more interested in the creative process and some mentorship, look elsewhere.\n",
            "\n",
            "I'm not hear to degrade a teacher just simply to add my experience. Statistics should not be hard but because of the lecture style it is hard to follow. He tends to talk to himself when explaining things and doesn't go into concepts very well. He assigns homework based on teaching but you do have to review the chapter to fully understand what he is talking about. He tends to be scattered when explaining things which left me lost most of the time. The material is strait forward but the lecture is not good.\n",
            "\n",
            "If you want an easy grade, select him. If you want to learn, stay clear. Although after Spring '11, I doubt if the university will allow him to return. He is an arrogant, pathetic, conniving jerk. How he was selected to represent The University of Akron baffles the best of us. I feel as though I should retake this class even though I passed with an A. He should be blacklisted from any type of instruction on any level. Am I mad? Yes, the class cost me entirely too much money not to learn anything\n",
            "\n",
            "I don't know why a previous reviewer would say Doty is missed, or that no one knew she left. Of course we knew - she told us! She took time off to move her family, came back, then quit after the semester ended. Laura took over next semester. So what if Doty had family crap going on&#63; So do I! A professor is expected to teach! Doty couldn't answer simple questions. Was supposed to teach &quot;Sound for Video&quot; but only knew sound for theater/stage. We learned NOTHING about editing & sync'ing sound with video!\n",
            "\n",
            "Do yourself a favor and stay away from this class. By far the worst professor I've ever had, lectures very rarely have anything to do with anything on the test and even after reading every chapter in the book I struggle. No study guides, no extra credit, and your only 4 grades are 4 exams. This class killed my gpa. Attendance isn't required but he does take it and \"bump\" up the grades of people who attend, which is the only thing that keeps me going. I literally sit in there and just read the book and take notes. He is very vulgar and can't get out a sentence without cursing. He is also very biased and doesn't want to hear anything that contradicts his own opinion. Seriously find another professor or honestly don't take this class unless you need to or really really want to. I've never heard any good comments from someone in a sociology class.\n",
            "\n",
            "I have had this Prof for Ap Crim, Corrections, and Ethics. Thank god a cohort class opened for captsone or I would have been stuck wtih her for that too. She is horrid. I have a 3.9 GPA, so for the few comments that claim she is awesome, you need help. She grades you on how well she likes you. She gives hoirrble feedback. Guidelines are gray, and unclear.... and no, she will not answer specific questions you have. Papers from her get a \"C\", where other Prof would have given you an A. Have had to put way too much effort in to save my GPA just because she doesn't know what she's doing. Email reply and homework feedback are never in a timely manner. Quizzes and Finals are made up questions that may or may not be from the required text... a lot of fun. I hate that I had to pay to take her.\n",
            "\n",
            "Throughout my entire life, I have always loved English. The curriculum, the writing, the discussion, all of it. English was an easy A that I actually enjoyed! However, walking into my first college English class with this man standing at the forefront, I knew all that was going to change. Not only might his class be considered a history class, given our textbook is about how politics works, but this professor makes about as much sense as having a history textbook as your English textbook does. His lectures are sloppy and inefficient, as are his assignments and grading criteria. DO NOT take his class. I have him one day a week for four hours and I leave with the darkest outlook on future English courses. Highly DO NOT recommend.\n",
            "\n",
            "Dr. Kogut is the worst professor I have ever had.  His PhD stands for piled higher and deeper.  The goal of being a teacher is to \"teach\" and he doesnt do that.  When I asked him to help me with an assignment, he responsded by saying he cant help me its my job to figure it out, since it was a \"graded\" assignment.  On top of all this he doesnt know very much about Econ.  I showed all the feedback he gave me on assignments to a friend who also teaches MBA level econ and he said the guy has to be a fly by night internet professor cause he knows nothing. Bottom line avoid this guy. Hopefully he gets let go from ULM it is really hurting their program.\n",
            "\n",
            "Not very helpful. Not very nice. Made an intro class absolute hell and a ton of work. And it wasn't busy work either. The class structure was nice though because dividing the class up into groups helped people understand the material better and developed group cohesion for the big semester project. Hamlett didn't teach the material that well but if you persevere and put in the work, you'll get something in the B range. If you roll with the punches though and establish a good start in the class, you might even get an A-. It's just a matter of doing the reading, understanding it, studying it properly, and working well with your group for the project. If you can do all that, you'll get a good grade, despite Hamlett's terrible teaching. He does make an effort to use technology to your benefit though. Putting up notes and chapter walkthroughs/mindmaps on Vista was a huge help.\n",
            "\n",
            "Barbra was one of the most influential professors I had during the course of my BFA. She is very intelligent with talent for connecting with her students. I took both acting fundamentals and the upper level scene study course from her which requires an audition for admittance. She ignites passion into her students and forces them to take ownership for their successes and failures as students. Her written assignments paired beautifully with her teaching style. I owe her for my post-grad successes\n",
            "\n",
            "Less reading and writing than I would have expected from an English class, and that's a good thing.  There's no textbook, just printouts off the web and you should expect to read about 4 or 5 pages for the next class period.  The quizzes are easy if you keep up.  If you stay awake, listen and have some respect for the class, you'll get an A.  If you don't pay attention, don't keep up and spend your time sleeping or talking in the back corner..  then you get what you deserve , and I'm grateful you are who I'm competing against in the job market.\n",
            "\n",
            "Dr. Hyde is a great teacher, he's a funny guy which makes the lectures enjoyable, I would take him again if he taught physiology. Tests are hard and you have to study for them(that's any anatomy class though), but he teaches the material very well. Lecture consists of follow along fill in power-point presentation, very clear. 4 lecture exams (tough-mult. choice), 3 lab exams(tough-fill in blank-spelling counts) and 3 lecture quizes that he anounces ahead of time and what they are about(super easy). There are no homework assignments. I'm still in the class but recieving a B+.\n",
            "\n",
            "Professor Jones is a great professor. His resume' speaks wonders about the kind of person he is. Some people are chosen for certain careers and I  am confident this is the career for professor Jones. He is great at giving feedback on discussion boards. He wants you to be able to figure out your mistakes  by reading responses from others. He structures his classes to be self taught by you and your peers. There is a lot of interaction amongst your classmates so get to know them well. I highly recommend him to anyone interested in the legal profession.\n",
            "\n",
            "Professor Dodin is not what these  negative comments make him to be. I was really nervous about having him in my summer class but he was very clear going through the content. During class he covers examples that help you do the homework and ultimately in the test. TThe only thing that would be concerning about this class is that it is very math oriented. Formulating problems and solving for variables. If you struggle with algebra you'll struggle in this class if you like math it will be a breeze\n",
            "\n",
            "She gives you exams every week on a new unit. You will be required to learn the material quickly. Her lectures are boring and note taking is hard because she does not work through problems with the class. She has them done before hand and it makes it hard to understand the steps it takes to solve a problem. The only reason I'm passing is because of YouTube videos and constantly struggling to get help from others. She replies to emails late. If you fail a test, you can retake for as high as a C. Overall horrible lecturer, and super unorganized. Worst time ever in her class.\n",
            "\n",
            "Megan is the best. I'm still in the middle of the course and doing well. I have her for both Lab and Lecture so it's great to have one instructor for both. She is by far the best A&P teacher here. I took this course last semester with Kristin Peterson and dropped it because she was way too hard. I thought it was me-- that I couldn't do it but it wasn't because I am doing so well with Megan, and I'm so happy I decided to go for this class again! You won't be sorry, if you need A&P, she's the one to go with.\n",
            "\n",
            "I took her class a few quarters back and just now realized I never posted my opinion of her ENGL102 course. Meredith is one of the younger professors at Clark, so I found her very relatable and respected her immensely. Yes, she grades in a rather strict manner, but it's nothing a decent student can't handle. I learned a lot in her class and succeeded with an A. The outcome of the class was one large paper, and if you follow the timeline and listen to her advice, the course is well worth taking. P.S. I'm not an English major and still, she managed to spark my interest and ultimately made me a better writer.\n",
            "\n",
            "The ELM was easier than this class. After taking such a difficult test, you'd think I would be placed in a faily advanced class, but no. Anyway, this guy is nice and all but lacks teaching skill or even a style. His lectures are boring and repetitive. Not very helpful to those who want to learn something. I took AP Calculus in high school and now I'm in a class easier than Algebra I. His teaching skills are lacking. I'm only lucky to already know all this stuff so I can pass this class without difficulty.\n",
            "\n",
            "Gaffney is beyond unique. First off he makes the students do most of the work.   Well that is not entirely true he is so helpful. All you have to do is read don''t do that you are doomed and he will answer any question you ask.  He provides clear  understandable explanations sometimes in just minutes.  A more caring teacher you will not find here at at FAU. If you do not want to work or are just taking the course for your Florda CPA requirements stay away. The workload is daunting to say the least. He is a praticing lawyer and doesn''t take I have to work as an excuse. I learned that the hard way\n",
            "\n",
            "As a former first grade teacher and a woman with kids of her own, Carrie is a professor who really understands children from many different perspectives and scenarios.As for grading, she does not mark you down as long as you are coming to class, handing in the work, and showing that you're putting forth an effort to learn more about the profession. She is young and very &quot;with it&quot; when it comes to today's early childhood education methods, and as a prospective educator of young children, I learned a lot from her.\n",
            "\n",
            "I took College Algebra with Rita. She is not the most helpful instructor and she is not that clear when lecturing. If a student were to ask a question, she was very short with the answers and never really liked going into details. She is a hard grader when it comes to quizzes and exams. She takes so many points off for everything and anything that she feels is not the correct way of solving, even if you have the correct answer. Take her if you feel you can teach yourself but don't take her if you feel you may need clarification and extra help.\n",
            "\n",
            "I have taken two classes with Prof. Gathagan. She is very knowledgable in European Medieval History.  You will have to write essays for the midterm and final and the questions will be hard.  However, if you show up to class, read and pay attention you will have no problem getting a B or above.  You will write a term paper probably 8-10 pages.  She is a tough grader but will have no problem helping you with any problem even if it doesnt concern history.  She is very friendly, funny and a genuinely great person.  If you want to have a fun time and learn a ton about Medieval history take her!  Btw theres no textbook but you will have to print out scholarly articles and read them for every class.\n",
            "\n",
            "Grammar, Writing and Style--Awesome professor! I took this class two times, and I don't regret it. I didn't pass the first time because I didn't study, but if you study hard for the first try, you'll be fine. It's not an easy class; it's hard, but you'll learn tons from her. She's one of the best professors on campus, by far. She's fun and makes the class entertaining. Take this class to better your writing skills- and to learn some grammar- did I mention? She's a grammar nazi... So, study hard!\n",
            "\n",
            "Goodwin is so nice & easy to stay engaged with during lecture- i learned alot of practical knowledge just by listening to her. i found her exams to be very overwhelming b/c theres just so much content that we covered in detail between lecture and the book,although she does give A study outline of topics focus on. BUY THE BOOK- the examples through the chapters are what got me through, plus it's not a bad read. 20 extra credit points offered by participating in research studies in the psych dept.\n",
            "\n",
            "This teacher is a great teacher to take and you will definetly pass if you try. You will learn about falicies and have to write a few essays which are of course double space. At the end of the semister you will have to do a debate with about 4 other people. If you dont mind standing in front of class and talking for like 3minutes then you will be ok. You will be able to have your notes or speach in front of you for the debate in case you get stuck. Honestly i think i just kind of read mine to the class. He doent mind if you screw up or if you are not up there long enough he just wants to see you talk in front of class. Besides that its a great class, teacher is great, and i would definetly recomend you take him\n",
            "\n",
            "She is one of the greatest teachers for Chemistry class. Before I took this class, I hated Chemistry but now I'm lovin' it! It's still hard class though. (Chemistry is hard!)Don't listen to others who dropped during the semsters. Those bas****s don't know anything. Some people says that she makes mistake and rude. But C'mon, she's human-being just like us. And she really wants you to succeed. She stays during the break, after class, and after the lab to help students out.\r\n",
            " I feel bad she's leaving this semster. And F.Y.I: It doesn't matter she gives back our homework. Because OWL homeworks helps you out. It's really annoying to do it but after you finish it you will learn a lot.\n",
            "\n",
            " I took the Advanced Information Systems Security CMIT 425 and the Professor was always available, the grading was always fair but the assignments require lots of time. There are about 5 or more assigned videos each week and some are over and hour long, then there is reading the chapters, you have to post 2 initial discussions per week about 300-500 words with citation, a paper is due every week to answer three questions which are lengthy but must be in about hala page per answer, there is also a 15-25 page risk assessment case study due 1 week prior to the end of class and a final in the last week which is 6 hours long 200 questions(Open Book) like he CISSP exam. \n",
            "\n",
            "I only took Ms. Yarahmad for Physics II Lab. THE GOOD: She is very helpful in the lab. When I had problems with my reports, I just emailed them to her and she gave me feedback. She is young and relates to students very well. THE BAD: At the start of the semester she wasn't clear enough (to me) on what she wanted on reports. When I went to her office hours she cleared it up. BOTTOM LINE: Flexible teacher, &quot;interesting&quot; sense of humor, very helpful and wants you to learn. Recommended for lab.\n",
            "\n",
            "I took his English 103. 5 books to read. Pop quizzes are not on the schedule. You have to use Freud for each paper. Extra credit is to replace a lower score by a higher score from your rewritten essays. Absolutely a hard grader. But he is also funny and hilarious. He does not curve so don't dream about this. If you aim at A like me, please avoid. I only see one person get 90%+ once. The highest I can get is 88%. Thanks to him I got my first B in my life. You will learn a lot but if you have other choice just don't take it. Please don't.\n",
            "\n",
            "Relax and sign up for Mr. Dan's Spanish 1 Class. He is a nice man and will work with anybody who shows interest and effort. Disorganized? Tempermental? Really?? Sounds like sour grapes to me. Compared to some other teachers I've had, he's a gem. BTW, I missed 4 times and still got an A. The class meets once per week and if you keep absence to a minimum you'll be fine. It's the students who miss six times or more and then expect a decent grade that have problems or those that spend class texting. \n",
            "\n",
            "If you need a teacher that you can actually learn the material from IN class, I would not suggest taking a class from her. I could understand maybe 30% of the things she said. Although you get a study guide of what you're going over in that class period, I felt like she skipped around and by the time I figured out what was being discussed I had given up on even attempting to take notes.  I'm sure you could get by by learning all the material on your own time, but frankly, I didn't have time for that.\n",
            "\n",
            "An amazing teacher , kind and soft spoken. He doesnt have a teachers ego where they just want to make the test as hard as possible and show off how much better they are at math. He goes at a slow pace , tests are easy and in the review he tells u pretty much whats gona be there and really want u to learn every concept and above all do well ib exams. He was a student recently so understabds students . Thanks Mr Rupp ur the best math teacher i know. Also he will generate ur interest in dallas zoo.\n",
            "\n",
            "This class is very stressful and messy.  He always looks toward his PowerPoints with little eye contact for his students.  The professor never answers his emails.  He does not post homework, quiz, or test grades on time on Blackboard.  Every once in a while, he will say something that may offend some students without even knowing.  He does give out unannounced quizzes.  His lectures are boring.  Prof. Edgal gave us an online test to complete in less than a day.  I do not approve of his style. ??\n",
            "\n",
            "Don't buy the book. I would advise you to listen in his lectures and star the things he say will be on the test. Highlight everything in your notes that pertain to the topics he emails you about that will be on the test. Take the practice quizzes online. I have had him three times (HL325, TCED211, and TCED350) and I have made A's in all of them. He says \"you will be fine\" but that doesn't mean don't study! I would get a classmates and we would talk through the notes together to study. Nicest man\n",
            "\n",
            "He is very clean cut straight to the point. He teaches very well and he understands each and every student. He breaks down an essay so well he needs an award and his favorite motto is \"every mickle makes a little\" he transformed me into an essay wiz. He is very considerate and he works with you as much as you need it. He takes the time to go over every essay with you and corrects and helps you on everything you need help on. I took a summer class while pregnant and I aced his class! Recommended!\n",
            "\n",
            "She was amazing !! I loved her class, it wasn't an easy one but it was worth taking, the first year since she was caring towards her students and educating them in a right manner. I remember the first ever exam I wrote in my university life it was her's and I was freaking out.   She so adorable and generous, the women came in the exam room and checked up on her students. Not only that but she came to me and gave me a pat on the back and \"told me everything will be okay, just give it you're all\". Lovely women ! just work hard in her class or you won't pass !\n",
            "\n",
            "This professor definitely is straight forward and strict. The few weeks I was in his classroom he continously embarrassed different students by asking if they were dyslexic, had test anxiety, or was taking other classes that interferred with his. He suggested every student that worked, had kids and a family or taking multiple classes to put his class first. He gives you a short lecture and expects you to teach yourself through the semeseter. i do not want to take another on eof his courses. If you have not taken him before stay away. If you prefer a hard teacher who cuts you no slack be my guest. Good luck!\n",
            "\n",
            "This was one of my first classes at Towson University. It was very inspirational. I would not say the class is very difficult, but it is not the easiest. Carrie is very knowledgeable in her field, contemporary art, and art as a whole. She can be hard when it comes to one-on-one critiques but in a GOOD way! What are critiques for... \"critiquing\" (how do you expect to improve?). There are four main projects due in her class where you learn about different artists. All the lectures are intriguing and I would definitely take another class with her. All you have to do is follow simple instructions and show up to class.\n",
            "\n",
            "To any future students going on to the medical field and you would actually like to learn something of value, take Dr. Pomeranz's class. Her teaching method is unique. How so? Well, indoctrinating beliefs don't fall into her teaching process, shes honest and quite funny too. She is a great source of knowledge but she not only tells you what she knows about the medical field and its endeavorsprerequisites; she explains how you can apply such knowledge in order to benefit you and others. Examples: which vitamins aid for certain illnesses, how to protect yourself legally and in the aspect of health, and whats going to be expected of you upon graduation. I can go on but like a movie I wouldnt like to spoil anything. Take her class, I certainly dont regret it. \n",
            "\n"
          ]
        }
      ]
    },
    {
      "cell_type": "code",
      "source": [
        "short_reviews = reviews[reviews['comment'].str.len() < 20]\n",
        "short_reviews.shape"
      ],
      "metadata": {
        "colab": {
          "base_uri": "https://localhost:8080/"
        },
        "id": "woM4NR0zDUwo",
        "outputId": "d7ca426d-c90d-4999-901a-517cb33c6d73"
      },
      "execution_count": 31,
      "outputs": [
        {
          "output_type": "execute_result",
          "data": {
            "text/plain": [
              "(7195, 10)"
            ]
          },
          "metadata": {},
          "execution_count": 31
        }
      ]
    },
    {
      "cell_type": "code",
      "source": [
        "for comment in short_reviews['comment'].head(50):\n",
        "  print(comment)\n",
        "  print()"
      ],
      "metadata": {
        "colab": {
          "base_uri": "https://localhost:8080/"
        },
        "id": "49CXdz0tDd7q",
        "outputId": "9fb33969-556e-4b44-8455-3bbf611f731e"
      },
      "execution_count": 32,
      "outputs": [
        {
          "output_type": "stream",
          "name": "stdout",
          "text": [
            "AWESOME\n",
            "\n",
            "amazing teacher\n",
            "\n",
            "George was the man!\n",
            "\n",
            "Super easy teacher.\n",
            "\n",
            "She was great!\n",
            "\n",
            "She really cares.\n",
            "\n",
            "Great teacher!\n",
            "\n",
            "great\n",
            "\n",
            "SUPER EASY\n",
            "\n",
            "good teacher\n",
            "\n",
            "Good teacher\n",
            "\n",
            "hot\n",
            "\n",
            "Nice professor\n",
            "\n",
            "I liked this class\n",
            "\n",
            "Amazing Professor!\n",
            "\n",
            "Great teacher ....\n",
            "\n",
            "Really great guy!\n",
            "\n",
            "energetic\n",
            "\n",
            "Very nice teacher\n",
            "\n",
            "Great professor! \n",
            "\n",
            "awesome prof!\n",
            "\n",
            "the very best!\n",
            "\n",
            "He is cool.\n",
            "\n",
            "She is rude.\n",
            "\n",
            "Great Class!\n",
            "\n",
            "Great professor.\n",
            "\n",
            "Amazing professor!\n",
            "\n",
            "AMAZING!\n",
            "\n",
            "Excellent teacher\n",
            "\n",
            "the worst\n",
            "\n",
            "he is great teacher\n",
            "\n",
            "nice and helpful\n",
            "\n",
            "Great\n",
            "\n",
            "I love RIT\n",
            "\n",
            "good prof\n",
            "\n",
            ".\n",
            "\n",
            "very sweet!!\n",
            "\n",
            "A great professor.\n",
            "\n",
            "Great professor\n",
            "\n",
            "great book!\n",
            "\n",
            "very good\n",
            "\n",
            "i love her\n",
            "\n",
            "fun and easy.\n",
            "\n",
            "great teacher\n",
            "\n",
            "She's awesome.\n",
            "\n",
            "Awesome!\n",
            "\n",
            "eh\n",
            "\n",
            "Hot professor\n",
            "\n",
            ":(\n",
            "\n",
            "Awesome prof!\n",
            "\n"
          ]
        }
      ]
    },
    {
      "cell_type": "code",
      "source": [
        "# reviews = reviews[reviews['comment'].str.len() > 20]"
      ],
      "metadata": {
        "id": "Cs_Mye9HFu_e"
      },
      "execution_count": 33,
      "outputs": []
    },
    {
      "cell_type": "markdown",
      "source": [
        "## Professor Ids"
      ],
      "metadata": {
        "id": "aZUHS_CCJ39-"
      }
    },
    {
      "cell_type": "code",
      "source": [
        "professor_ids = reviews['professor_id']\n",
        "professor_cnts = professor_ids.value_counts()\n",
        "professor_cnts.describe()"
      ],
      "metadata": {
        "colab": {
          "base_uri": "https://localhost:8080/"
        },
        "id": "kga-HT8wiCu7",
        "outputId": "700ecaca-8346-4271-f805-d62c31fdbee9"
      },
      "execution_count": 34,
      "outputs": [
        {
          "output_type": "execute_result",
          "data": {
            "text/plain": [
              "count    95537.000000\n",
              "mean         5.673069\n",
              "std          7.522613\n",
              "min          1.000000\n",
              "25%          2.000000\n",
              "50%          3.000000\n",
              "75%          7.000000\n",
              "max        336.000000\n",
              "Name: professor_id, dtype: float64"
            ]
          },
          "metadata": {},
          "execution_count": 34
        }
      ]
    },
    {
      "cell_type": "code",
      "source": [
        "sns.displot(professor_cnts, kde=False, bins=400)"
      ],
      "metadata": {
        "colab": {
          "base_uri": "https://localhost:8080/",
          "height": 386
        },
        "id": "PzhBxy3H-tRs",
        "outputId": "89ac8c63-948d-4885-e78f-3d636ac3be5c"
      },
      "execution_count": 35,
      "outputs": [
        {
          "output_type": "execute_result",
          "data": {
            "text/plain": [
              "<seaborn.axisgrid.FacetGrid at 0x7f7716f7a910>"
            ]
          },
          "metadata": {},
          "execution_count": 35
        },
        {
          "output_type": "display_data",
          "data": {
            "text/plain": [
              "<Figure size 360x360 with 1 Axes>"
            ],
            "image/png": "[encoded data removed]"
          },
          "metadata": {
            "needs_background": "light"
          }
        }
      ]
    },
    {
      "cell_type": "code",
      "source": [
        "# professors_5_reviews = reviews[professor_cnts[reviews['professor_id']] >= 5]\n",
        "prof_id_cnts = reviews.groupby('professor_id')['professor_id'].transform('size')\n",
        "# professors_filtered = reviews[prof_id_cnts <= 50]\n",
        "professors_filtered = reviews[(prof_id_cnts >= 3) & (prof_id_cnts <= 50)]\n",
        "\n",
        "# Maybe we might need to filter <= 50 reviews..."
      ],
      "metadata": {
        "id": "b6IZZ97Q-x0y"
      },
      "execution_count": 36,
      "outputs": []
    },
    {
      "cell_type": "code",
      "source": [
        "professors_filtered['professor_id'].describe()"
      ],
      "metadata": {
        "colab": {
          "base_uri": "https://localhost:8080/"
        },
        "id": "R2SEoQ9mIWLe",
        "outputId": "9ff199f6-64ea-40aa-f243-3b4eafc9cca0"
      },
      "execution_count": 37,
      "outputs": [
        {
          "output_type": "execute_result",
          "data": {
            "text/plain": [
              "count                   465543\n",
              "unique                   58612\n",
              "top       VGVhY2hlci05OTkxMTU=\n",
              "freq                        50\n",
              "Name: professor_id, dtype: object"
            ]
          },
          "metadata": {},
          "execution_count": 37
        }
      ]
    },
    {
      "cell_type": "code",
      "source": [
        "sns.displot(professors_filtered['professor_id'].value_counts(), kde=False, bins=400)"
      ],
      "metadata": {
        "colab": {
          "base_uri": "https://localhost:8080/",
          "height": 386
        },
        "id": "xnWJrkMaH4IP",
        "outputId": "bc637fc4-6fdb-470c-f396-556f252a71d9"
      },
      "execution_count": 38,
      "outputs": [
        {
          "output_type": "execute_result",
          "data": {
            "text/plain": [
              "<seaborn.axisgrid.FacetGrid at 0x7f7719e62c10>"
            ]
          },
          "metadata": {},
          "execution_count": 38
        },
        {
          "output_type": "display_data",
          "data": {
            "text/plain": [
              "<Figure size 360x360 with 1 Axes>"
            ],
            "image/png": "[encoded data removed]"
          },
          "metadata": {
            "needs_background": "light"
          }
        }
      ]
    },
    {
      "cell_type": "code",
      "source": [
        "plt.figure(figsize=(10, 4))\n",
        "plt.title(\"Box Plot\")\n",
        "sns.boxplot(professors_filtered['professor_id'].value_counts())\n",
        "plt.show()"
      ],
      "metadata": {
        "colab": {
          "base_uri": "https://localhost:8080/",
          "height": 351
        },
        "id": "cSgWi1QrIm_f",
        "outputId": "4e6e519c-0df6-45e3-ed34-98cd708c61fc"
      },
      "execution_count": 39,
      "outputs": [
        {
          "output_type": "stream",
          "name": "stderr",
          "text": [
            "/usr/local/lib/python3.7/dist-packages/seaborn/_decorators.py:43: FutureWarning: Pass the following variable as a keyword arg: x. From version 0.12, the only valid positional argument will be `data`, and passing other arguments without an explicit keyword will result in an error or misinterpretation.\n",
            "  FutureWarning\n"
          ]
        },
        {
          "output_type": "display_data",
          "data": {
            "text/plain": [
              "<Figure size 720x288 with 1 Axes>"
            ],
            "image/png": "[encoded data removed]"
          },
          "metadata": {
            "needs_background": "light"
          }
        }
      ]
    },
    {
      "cell_type": "code",
      "source": [
        "professors_filtered['sentiment'] = professors_filtered['qualityRating'] > 3.0"
      ],
      "metadata": {
        "colab": {
          "base_uri": "https://localhost:8080/"
        },
        "id": "XyjypuCJMF3o",
        "outputId": "81fa96ad-7a83-4839-e2e9-91ffe5e69acb"
      },
      "execution_count": 40,
      "outputs": [
        {
          "output_type": "stream",
          "name": "stderr",
          "text": [
            "/usr/local/lib/python3.7/dist-packages/ipykernel_launcher.py:1: SettingWithCopyWarning: \n",
            "A value is trying to be set on a copy of a slice from a DataFrame.\n",
            "Try using .loc[row_indexer,col_indexer] = value instead\n",
            "\n",
            "See the caveats in the documentation: https://pandas.pydata.org/pandas-docs/stable/user_guide/indexing.html#returning-a-view-versus-a-copy\n",
            "  \"\"\"Entry point for launching an IPython kernel.\n"
          ]
        }
      ]
    },
    {
      "cell_type": "code",
      "source": [
        "professors_filtered['professor_id'].value_counts()"
      ],
      "metadata": {
        "colab": {
          "base_uri": "https://localhost:8080/"
        },
        "id": "oga89yTw9zfG",
        "outputId": "fdb7c1e7-8909-4864-c566-afd36cdd4f42"
      },
      "execution_count": 41,
      "outputs": [
        {
          "output_type": "execute_result",
          "data": {
            "text/plain": [
              "VGVhY2hlci05OTkxMTU=    50\n",
              "VGVhY2hlci0xMDM2NzE1    50\n",
              "VGVhY2hlci0xNTA4ODgw    50\n",
              "VGVhY2hlci0xMjE5NjM1    50\n",
              "VGVhY2hlci0xNDkzOTM5    50\n",
              "                        ..\n",
              "VGVhY2hlci0xMjM2NDY1     3\n",
              "VGVhY2hlci0xMjM1OTc1     3\n",
              "VGVhY2hlci0xNDY1MDg0     3\n",
              "VGVhY2hlci0xNDg5MDgx     3\n",
              "VGVhY2hlci05NTI3Nzc=     3\n",
              "Name: professor_id, Length: 58612, dtype: int64"
            ]
          },
          "metadata": {},
          "execution_count": 41
        }
      ]
    },
    {
      "cell_type": "code",
      "source": [
        "# test_group = professors_filtered.groupby(['professor_id']).apply(pd.DataFrame.sample, n=5, replace=False)\n",
        "professors_pruned = professors_filtered.sample(frac = 1.0).groupby('professor_id').head(7)\n",
        "professors_pruned.shape"
      ],
      "metadata": {
        "colab": {
          "base_uri": "https://localhost:8080/"
        },
        "id": "IWAjQ7TH8byF",
        "outputId": "7130b10d-62e4-4e1d-f236-a22ff19ceefd"
      },
      "execution_count": 42,
      "outputs": [
        {
          "output_type": "execute_result",
          "data": {
            "text/plain": [
              "(315464, 11)"
            ]
          },
          "metadata": {},
          "execution_count": 42
        }
      ]
    },
    {
      "cell_type": "code",
      "source": [
        "professors_pruned['professor_id'].value_counts()"
      ],
      "metadata": {
        "colab": {
          "base_uri": "https://localhost:8080/"
        },
        "id": "JeFoAbDh8ijd",
        "outputId": "4e1c3081-3308-42ed-e45b-a705bd177da5"
      },
      "execution_count": 43,
      "outputs": [
        {
          "output_type": "execute_result",
          "data": {
            "text/plain": [
              "VGVhY2hlci0xMjI0MjYz    7\n",
              "VGVhY2hlci0xMjMyMzAx    7\n",
              "VGVhY2hlci0xNTE1MzQ0    7\n",
              "VGVhY2hlci0xMDUyNTcz    7\n",
              "VGVhY2hlci0xMjMxNDc5    7\n",
              "                       ..\n",
              "VGVhY2hlci05NzY4NTI=    3\n",
              "VGVhY2hlci05NzU5NTU=    3\n",
              "VGVhY2hlci0xMzExMjk4    3\n",
              "VGVhY2hlci0xNDYzNDk3    3\n",
              "VGVhY2hlci0xNTM2MDEz    3\n",
              "Name: professor_id, Length: 58612, dtype: int64"
            ]
          },
          "metadata": {},
          "execution_count": 43
        }
      ]
    },
    {
      "cell_type": "code",
      "source": [
        "sns.displot(professors_pruned['professor_id'].value_counts(), kde=False, bins=20)"
      ],
      "metadata": {
        "colab": {
          "base_uri": "https://localhost:8080/",
          "height": 386
        },
        "id": "W0xY25hs_5YC",
        "outputId": "f99bffb2-5cd8-4734-ac77-316eee08371d"
      },
      "execution_count": 44,
      "outputs": [
        {
          "output_type": "execute_result",
          "data": {
            "text/plain": [
              "<seaborn.axisgrid.FacetGrid at 0x7f771cd57fd0>"
            ]
          },
          "metadata": {},
          "execution_count": 44
        },
        {
          "output_type": "display_data",
          "data": {
            "text/plain": [
              "<Figure size 360x360 with 1 Axes>"
            ],
            "image/png": "[encoded data removed]"
          },
          "metadata": {
            "needs_background": "light"
          }
        }
      ]
    },
    {
      "cell_type": "code",
      "source": [
        "sentiment_cnts = professors_pruned.sentiment.value_counts()\n",
        "sentiment_cnts"
      ],
      "metadata": {
        "colab": {
          "base_uri": "https://localhost:8080/"
        },
        "id": "c-oOn3NHAaqe",
        "outputId": "be528d4b-d63b-4386-92fb-e80a99123e66"
      },
      "execution_count": 45,
      "outputs": [
        {
          "output_type": "execute_result",
          "data": {
            "text/plain": [
              "True     232255\n",
              "False     83209\n",
              "Name: sentiment, dtype: int64"
            ]
          },
          "metadata": {},
          "execution_count": 45
        }
      ]
    },
    {
      "cell_type": "code",
      "source": [
        "sentiment_cnts.plot(kind='bar')"
      ],
      "metadata": {
        "colab": {
          "base_uri": "https://localhost:8080/",
          "height": 298
        },
        "id": "Oaf-3P6kAc3P",
        "outputId": "e86c969e-3c88-43e1-df93-197707615e73"
      },
      "execution_count": 46,
      "outputs": [
        {
          "output_type": "execute_result",
          "data": {
            "text/plain": [
              "<matplotlib.axes._subplots.AxesSubplot at 0x7f771dd055d0>"
            ]
          },
          "metadata": {},
          "execution_count": 46
        },
        {
          "output_type": "display_data",
          "data": {
            "text/plain": [
              "<Figure size 432x288 with 1 Axes>"
            ],
            "image/png": "[encoded data removed]"
          },
          "metadata": {
            "needs_background": "light"
          }
        }
      ]
    },
    {
      "cell_type": "code",
      "source": [
        "sentiment_cnts[True]/sum(sentiment_cnts)"
      ],
      "metadata": {
        "colab": {
          "base_uri": "https://localhost:8080/"
        },
        "id": "7JtA7BN9AeeA",
        "outputId": "2e3f63a4-1e36-4e78-880a-31d4189f4705"
      },
      "execution_count": 47,
      "outputs": [
        {
          "output_type": "execute_result",
          "data": {
            "text/plain": [
              "0.7362329774554307"
            ]
          },
          "metadata": {},
          "execution_count": 47
        }
      ]
    },
    {
      "cell_type": "code",
      "source": [
        "professors_pruned.to_csv('/content/drive/MyDrive/RMP/reviews_filtered.csv')"
      ],
      "metadata": {
        "id": "Pci0MJ0UNBCC"
      },
      "execution_count": 48,
      "outputs": []
    }
  ]
}